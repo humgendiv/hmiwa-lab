{
 "cells": [
  {
   "cell_type": "code",
   "execution_count": 11,
   "id": "fb7cd743-3980-451a-8243-8880866129e2",
   "metadata": {},
   "outputs": [
    {
     "name": "stdout",
     "output_type": "stream",
     "text": [
      "2023年 11月 3日 金曜日 21時46分56秒 JST\n"
     ]
    }
   ],
   "source": [
    "date"
   ]
  },
  {
   "cell_type": "code",
   "execution_count": 12,
   "id": "85800a57-327d-4d54-bc47-2f2b48ab1ae5",
   "metadata": {},
   "outputs": [
    {
     "name": "stdout",
     "output_type": "stream",
     "text": [
      "2023年 11月 3日 金曜日 21時46分57秒 JST\n"
     ]
    }
   ],
   "source": [
    "echo `date`"
   ]
  },
  {
   "cell_type": "code",
   "execution_count": 13,
   "id": "25fc08fa-5b5e-441b-af94-d08922649b70",
   "metadata": {},
   "outputs": [
    {
     "name": "stdout",
     "output_type": "stream",
     "text": [
      "これで細々とログを取らなくても何をどうして実行したのかわかってしまうではないか！\n"
     ]
    }
   ],
   "source": [
    "#これは楽しい\n",
    "echo \"これで細々とログを取らなくても何をどうして実行したのかわかってしまうではないか！\""
   ]
  },
  {
   "cell_type": "code",
   "execution_count": 14,
   "id": "6d9f5645-266d-45a9-a786-0f3c0940f927",
   "metadata": {},
   "outputs": [],
   "source": [
    "relatedir=~/hmiwa/m_20211215/00_software/relate/\n",
    "selscan=~/hmiwa/m_20211215/00_software/selscan/selscan\n",
    "plink=~/hmiwa/m_20211215/00_software/plink/plink\n",
    "plink2=~/hmiwa/m_20211215/00_software/plink/plink2\n",
    "beagle=~/hmiwa/m_20211215/00_software/beagle/beagle.22Jul22.46e.jar\n",
    "cluesdir=~/hmiwa/m_20211215/00_software/clues"
   ]
  },
  {
   "cell_type": "code",
   "execution_count": 15,
   "id": "613b282c-96ac-4939-a8fd-54ad29210157",
   "metadata": {},
   "outputs": [
    {
     "name": "stdout",
     "output_type": "stream",
     "text": [
      "PLINK v1.90b7 64-bit (16 Jan 2023)             www.cog-genomics.org/plink/1.9/\n",
      "(C) 2005-2023 Shaun Purcell, Christopher Chang   GNU General Public License v3\n",
      "\n",
      "  plink <input flag(s)...> [command flag(s)...] [other flag(s)...]\n",
      "  plink --help [flag name(s)...]\n",
      "\n",
      "Commands include --make-bed, --recode, --flip-scan, --merge-list,\n",
      "--write-snplist, --list-duplicate-vars, --freqx, --missing, --test-mishap,\n",
      "--hardy, --mendel, --ibc, --impute-sex, --indep-pairphase, --r2, --show-tags,\n",
      "--blocks, --distance, --genome, --homozyg, --make-rel, --make-grm-gz,\n",
      "--rel-cutoff, --cluster, --pca, --neighbour, --ibs-test, --regress-distance,\n",
      "--model, --bd, --gxe, --logistic, --dosage, --lasso, --test-missing,\n",
      "--make-perm-pheno, --tdt, --qfam, --annotate, --clump, --gene-report,\n",
      "--meta-analysis, --epistasis, --fast-epistasis, and --score.\n",
      "\n",
      "\"plink --help | more\" describes all functions (warning: long).\n"
     ]
    },
    {
     "ename": "",
     "evalue": "10",
     "output_type": "error",
     "traceback": []
    }
   ],
   "source": [
    "$plink"
   ]
  },
  {
   "cell_type": "code",
   "execution_count": 16,
   "id": "b295ecd4-240c-436e-aec1-c11e2f21a4ff",
   "metadata": {},
   "outputs": [
    {
     "name": "stdout",
     "output_type": "stream",
     "text": [
      "selscan v1.3.0\n",
      "ERROR: Must specify one and only one of \n",
      "\tEHH (--ehh)\n",
      "\tiHS (--ihs)\n",
      "\tXP-EHH (--xpehh)\n",
      "\tPI (--pi)\n",
      "\tnSL (--nsl)\n",
      "\tXP-nSL (--xpnsl)\n",
      "\tiHH12 (--ihh12)\n"
     ]
    },
    {
     "ename": "",
     "evalue": "1",
     "output_type": "error",
     "traceback": []
    }
   ],
   "source": [
    "$selscan"
   ]
  },
  {
   "cell_type": "code",
   "execution_count": 17,
   "id": "eed09caa-5a52-4227-b699-00b2dbeb37a9",
   "metadata": {},
   "outputs": [
    {
     "name": "stdout",
     "output_type": "stream",
     "text": [
      "\n",
      "VCFtools (0.1.16)\n",
      "© Adam Auton and Anthony Marcketta 2009\n",
      "\n",
      "Process Variant Call Format files\n",
      "\n",
      "For a list of options, please go to:\n",
      "\thttps://vcftools.github.io/man_latest.html\n",
      "\n",
      "Alternatively, a man page is available, type:\n",
      "\tman vcftools\n",
      "\n",
      "Questions, comments, and suggestions should be emailed to:\n",
      "\tvcftools-help@lists.sourceforge.net\n",
      "\n"
     ]
    }
   ],
   "source": [
    "vcftools\n",
    "#なんとvcftoolsも使えてしまうのか！？"
   ]
  },
  {
   "cell_type": "code",
   "execution_count": 10,
   "id": "c2f04302-4592-4cde-b47f-a7268a170634",
   "metadata": {},
   "outputs": [
    {
     "name": "stdout",
     "output_type": "stream",
     "text": [
      "\n",
      "Program: bcftools (Tools for variant calling and manipulating VCFs and BCFs)\n",
      "Version: 1.18 (using htslib 1.18)\n",
      "\n",
      "Usage:   bcftools [--version|--version-only] [--help] <command> <argument>\n",
      "\n",
      "Commands:\n",
      "\n",
      " -- Indexing\n",
      "    index        index VCF/BCF files\n",
      "\n",
      " -- VCF/BCF manipulation\n",
      "    annotate     annotate and edit VCF/BCF files\n",
      "    concat       concatenate VCF/BCF files from the same set of samples\n",
      "    convert      convert VCF/BCF files to different formats and back\n",
      "    head         view VCF/BCF file headers\n",
      "    isec         intersections of VCF/BCF files\n",
      "    merge        merge VCF/BCF files files from non-overlapping sample sets\n",
      "    norm         left-align and normalize indels\n",
      "    plugin       user-defined plugins\n",
      "    query        transform VCF/BCF into user-defined formats\n",
      "    reheader     modify VCF/BCF header, change sample names\n",
      "    sort         sort VCF/BCF file\n",
      "    view         VCF/BCF conversion, view, subset and filter VCF/BCF files\n",
      "\n",
      " -- VCF/BCF analysis\n",
      "    call         SNP/indel calling\n",
      "    consensus    create consensus sequence by applying VCF variants\n",
      "    cnv          HMM CNV calling\n",
      "    csq          call variation consequences\n",
      "    filter       filter VCF/BCF files using fixed thresholds\n",
      "    gtcheck      check sample concordance, detect sample swaps and contamination\n",
      "    mpileup      multi-way pileup producing genotype likelihoods\n",
      "    roh          identify runs of autozygosity (HMM)\n",
      "    stats        produce VCF/BCF stats\n",
      "\n",
      " -- Plugins (collection of programs for calling, file manipulation & analysis)\n",
      "    39 plugins available, run \"bcftools plugin -lv\" to see a complete list\n",
      "\n",
      " Most commands accept VCF, bgzipped VCF, and BCF with the file type detected\n",
      " automatically even when streaming from a pipe. Indexed VCF and BCF will work\n",
      " in all situations. Un-indexed VCF and BCF and streams will work in most but\n",
      " not all situations.\n",
      "\n"
     ]
    },
    {
     "ename": "",
     "evalue": "1",
     "output_type": "error",
     "traceback": []
    }
   ],
   "source": [
    "bcftools\n",
    "#ときどき出てくる：１とかがなんなのかわからないがとりあえず動きそうな予感"
   ]
  },
  {
   "cell_type": "code",
   "execution_count": null,
   "id": "5ba3c93a-5f41-413c-a254-3a598388f1b7",
   "metadata": {},
   "outputs": [],
   "source": []
  }
 ],
 "metadata": {
  "kernelspec": {
   "display_name": "Bash",
   "language": "bash",
   "name": "bash"
  },
  "language_info": {
   "codemirror_mode": "shell",
   "file_extension": ".sh",
   "mimetype": "text/x-sh",
   "name": "bash"
  }
 },
 "nbformat": 4,
 "nbformat_minor": 5
}
