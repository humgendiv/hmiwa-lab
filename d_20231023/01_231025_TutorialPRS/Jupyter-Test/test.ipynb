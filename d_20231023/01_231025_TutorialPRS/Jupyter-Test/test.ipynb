{
 "cells": [
  {
   "cell_type": "markdown",
   "id": "2d1a1463-b24d-4462-8b9b-61207c75d162",
   "metadata": {},
   "source": [
    "## Jupyter\u001fNotebookでbashを実行するテスト\n",
    "\n",
    "これがうまく行くとかなりHappy"
   ]
  },
  {
   "cell_type": "code",
   "execution_count": 11,
   "id": "fb7cd743-3980-451a-8243-8880866129e2",
   "metadata": {},
   "outputs": [
    {
     "name": "stdout",
     "output_type": "stream",
     "text": [
      "2023年 11月 3日 金曜日 21時46分56秒 JST\n"
     ]
    }
   ],
   "source": [
    "date"
   ]
  },
  {
   "cell_type": "code",
   "execution_count": 12,
   "id": "85800a57-327d-4d54-bc47-2f2b48ab1ae5",
   "metadata": {},
   "outputs": [
    {
     "name": "stdout",
     "output_type": "stream",
     "text": [
      "2023年 11月 3日 金曜日 21時46分57秒 JST\n"
     ]
    }
   ],
   "source": [
    "echo `date`"
   ]
  },
  {
   "cell_type": "code",
   "execution_count": 13,
   "id": "25fc08fa-5b5e-441b-af94-d08922649b70",
   "metadata": {},
   "outputs": [
    {
     "name": "stdout",
     "output_type": "stream",
     "text": [
      "これで細々とログを取らなくても何をどうして実行したのかわかってしまうではないか！\n"
     ]
    }
   ],
   "source": [
    "#これは楽しい\n",
    "echo \"これで細々とログを取らなくても何をどうして実行したのかわかってしまうではないか！\""
   ]
  },
  {
   "cell_type": "code",
   "execution_count": 14,
   "id": "6d9f5645-266d-45a9-a786-0f3c0940f927",
   "metadata": {},
   "outputs": [],
   "source": [
    "relatedir=~/hmiwa/m_20211215/00_software/relate/\n",
    "selscan=~/hmiwa/m_20211215/00_software/selscan/selscan\n",
    "plink=~/hmiwa/m_20211215/00_software/plink/plink\n",
    "plink2=~/hmiwa/m_20211215/00_software/plink/plink2\n",
    "beagle=~/hmiwa/m_20211215/00_software/beagle/beagle.22Jul22.46e.jar\n",
    "cluesdir=~/hmiwa/m_20211215/00_software/clues"
   ]
  },
  {
   "cell_type": "code",
   "execution_count": 15,
   "id": "613b282c-96ac-4939-a8fd-54ad29210157",
   "metadata": {},
   "outputs": [
    {
     "name": "stdout",
     "output_type": "stream",
     "text": [
      "PLINK v1.90b7 64-bit (16 Jan 2023)             www.cog-genomics.org/plink/1.9/\n",
      "(C) 2005-2023 Shaun Purcell, Christopher Chang   GNU General Public License v3\n",
      "\n",
      "  plink <input flag(s)...> [command flag(s)...] [other flag(s)...]\n",
      "  plink --help [flag name(s)...]\n",
      "\n",
      "Commands include --make-bed, --recode, --flip-scan, --merge-list,\n",
      "--write-snplist, --list-duplicate-vars, --freqx, --missing, --test-mishap,\n",
      "--hardy, --mendel, --ibc, --impute-sex, --indep-pairphase, --r2, --show-tags,\n",
      "--blocks, --distance, --genome, --homozyg, --make-rel, --make-grm-gz,\n",
      "--rel-cutoff, --cluster, --pca, --neighbour, --ibs-test, --regress-distance,\n",
      "--model, --bd, --gxe, --logistic, --dosage, --lasso, --test-missing,\n",
      "--make-perm-pheno, --tdt, --qfam, --annotate, --clump, --gene-report,\n",
      "--meta-analysis, --epistasis, --fast-epistasis, and --score.\n",
      "\n",
      "\"plink --help | more\" describes all functions (warning: long).\n"
     ]
    },
    {
     "ename": "",
     "evalue": "10",
     "output_type": "error",
     "traceback": []
    }
   ],
   "source": [
    "$plink"
   ]
  },
  {
   "cell_type": "code",
   "execution_count": 16,
   "id": "b295ecd4-240c-436e-aec1-c11e2f21a4ff",
   "metadata": {},
   "outputs": [
    {
     "name": "stdout",
     "output_type": "stream",
     "text": [
      "selscan v1.3.0\n",
      "ERROR: Must specify one and only one of \n",
      "\tEHH (--ehh)\n",
      "\tiHS (--ihs)\n",
      "\tXP-EHH (--xpehh)\n",
      "\tPI (--pi)\n",
      "\tnSL (--nsl)\n",
      "\tXP-nSL (--xpnsl)\n",
      "\tiHH12 (--ihh12)\n"
     ]
    },
    {
     "ename": "",
     "evalue": "1",
     "output_type": "error",
     "traceback": []
    }
   ],
   "source": [
    "$selscan"
   ]
  },
  {
   "cell_type": "code",
   "execution_count": 17,
   "id": "eed09caa-5a52-4227-b699-00b2dbeb37a9",
   "metadata": {},
   "outputs": [
    {
     "name": "stdout",
     "output_type": "stream",
     "text": [
      "\n",
      "VCFtools (0.1.16)\n",
      "© Adam Auton and Anthony Marcketta 2009\n",
      "\n",
      "Process Variant Call Format files\n",
      "\n",
      "For a list of options, please go to:\n",
      "\thttps://vcftools.github.io/man_latest.html\n",
      "\n",
      "Alternatively, a man page is available, type:\n",
      "\tman vcftools\n",
      "\n",
      "Questions, comments, and suggestions should be emailed to:\n",
      "\tvcftools-help@lists.sourceforge.net\n",
      "\n"
     ]
    }
   ],
   "source": [
    "vcftools\n",
    "#なんとvcftoolsも使えてしまうのか！？"
   ]
  },
  {
   "cell_type": "code",
   "execution_count": 10,
   "id": "c2f04302-4592-4cde-b47f-a7268a170634",
   "metadata": {},
   "outputs": [
    {
     "name": "stdout",
     "output_type": "stream",
     "text": [
      "\n",
      "Program: bcftools (Tools for variant calling and manipulating VCFs and BCFs)\n",
      "Version: 1.18 (using htslib 1.18)\n",
      "\n",
      "Usage:   bcftools [--version|--version-only] [--help] <command> <argument>\n",
      "\n",
      "Commands:\n",
      "\n",
      " -- Indexing\n",
      "    index        index VCF/BCF files\n",
      "\n",
      " -- VCF/BCF manipulation\n",
      "    annotate     annotate and edit VCF/BCF files\n",
      "    concat       concatenate VCF/BCF files from the same set of samples\n",
      "    convert      convert VCF/BCF files to different formats and back\n",
      "    head         view VCF/BCF file headers\n",
      "    isec         intersections of VCF/BCF files\n",
      "    merge        merge VCF/BCF files files from non-overlapping sample sets\n",
      "    norm         left-align and normalize indels\n",
      "    plugin       user-defined plugins\n",
      "    query        transform VCF/BCF into user-defined formats\n",
      "    reheader     modify VCF/BCF header, change sample names\n",
      "    sort         sort VCF/BCF file\n",
      "    view         VCF/BCF conversion, view, subset and filter VCF/BCF files\n",
      "\n",
      " -- VCF/BCF analysis\n",
      "    call         SNP/indel calling\n",
      "    consensus    create consensus sequence by applying VCF variants\n",
      "    cnv          HMM CNV calling\n",
      "    csq          call variation consequences\n",
      "    filter       filter VCF/BCF files using fixed thresholds\n",
      "    gtcheck      check sample concordance, detect sample swaps and contamination\n",
      "    mpileup      multi-way pileup producing genotype likelihoods\n",
      "    roh          identify runs of autozygosity (HMM)\n",
      "    stats        produce VCF/BCF stats\n",
      "\n",
      " -- Plugins (collection of programs for calling, file manipulation & analysis)\n",
      "    39 plugins available, run \"bcftools plugin -lv\" to see a complete list\n",
      "\n",
      " Most commands accept VCF, bgzipped VCF, and BCF with the file type detected\n",
      " automatically even when streaming from a pipe. Indexed VCF and BCF will work\n",
      " in all situations. Un-indexed VCF and BCF and streams will work in most but\n",
      " not all situations.\n",
      "\n"
     ]
    },
    {
     "ename": "",
     "evalue": "1",
     "output_type": "error",
     "traceback": []
    }
   ],
   "source": [
    "bcftools\n",
    "#ときどき出てくる：１とかがなんなのかわからないがとりあえず動きそうな予感"
   ]
  },
  {
   "cell_type": "code",
   "execution_count": 19,
   "id": "5ba3c93a-5f41-413c-a254-3a598388f1b7",
   "metadata": {},
   "outputs": [
    {
     "name": "stdout",
     "output_type": "stream",
     "text": [
      "beagle.22Jul22.46e.jar (version 5.4)\n",
      "Copyright (C) 2014-2022 Brian L. Browning\n",
      "Usage: java -jar beagle.22Jul22.46e.jar [arguments]\n",
      "\n",
      "data parameters ...\n",
      "  gt=<VCF file with GT FORMAT field>                 (required)\n",
      "  ref=<bref3 or VCF file with phased genotypes>      (optional)\n",
      "  out=<output file prefix>                           (required)\n",
      "  map=<PLINK map file with cM units>                 (optional)\n",
      "  chrom=<[chrom] or [chrom]:[start]-[end]>           (optional)\n",
      "  excludesamples=<file with 1 sample ID per line>    (optional)\n",
      "  excludemarkers=<file with 1 marker ID per line>    (optional)\n",
      "\n",
      "phasing parameters ...\n",
      "  burnin=<max burnin iterations>                     (default=3)\n",
      "  iterations=<phasing iterations>                    (default=12)\n",
      "  phase-states=<model states for phasing>            (default=280)\n",
      "\n",
      "imputation parameters ...\n",
      "  impute=<impute ungenotyped markers (true/false)>   (default=true)\n",
      "  imp-states=<model states for imputation>           (default=1600)\n",
      "  cluster=<max cM in a marker cluster>               (default=0.005)\n",
      "  ap=<print posterior allele probabilities>          (default=false)\n",
      "  gp=<print posterior genotype probabilities>        (default=false)\n",
      "\n",
      "general parameters ...\n",
      "  ne=<effective population size>                     (default=100000)\n",
      "  err=<allele mismatch probability>                  (default: data dependent)\n",
      "  em=<estimate ne and err parameters (true/false)>   (default=true)\n",
      "  window=<window length in cM>                       (default=40.0)\n",
      "  overlap=<window overlap in cM>                     (default=2.0)\n",
      "  seed=<random seed>                                 (default=-99999)\n",
      "  nthreads=<number of threads>                       (default: machine dependent)\n",
      "\n",
      "\n"
     ]
    }
   ],
   "source": [
    "java -jar $beagle #これも動くんかい！！！！"
   ]
  },
  {
   "cell_type": "code",
   "execution_count": 8,
   "id": "f6d2dd37-d406-43df-8c98-b64f9aba95fd",
   "metadata": {},
   "outputs": [
    {
     "name": "stdout",
     "output_type": "stream",
     "text": [
      "Applications\tDownloads\tMusic\t\tZotero\n",
      "Desktop\t\tLibrary\t\tPictures\thmiwa\n",
      "Documents\tMovies\t\tPublic\t\thmiwa_bioconda\n"
     ]
    }
   ],
   "source": [
    "ls"
   ]
  },
  {
   "cell_type": "code",
   "execution_count": 9,
   "id": "ea25f346-d75e-47ea-964b-31c9101a971c",
   "metadata": {},
   "outputs": [
    {
     "name": "stdout",
     "output_type": "stream",
     "text": [
      "Accounts\t\t\t\tKeychains\n",
      "AppleMediaServices\t\t\tLanguageModeling\n",
      "Application Scripts\t\t\tLaunchAgents\n",
      "Application Support\t\t\tLockdownMode\n",
      "Assistant\t\t\t\tLogs\n",
      "Assistants\t\t\t\tMail\n",
      "Audio\t\t\t\t\tMessages\n",
      "Autosave Information\t\t\tMetadata\n",
      "Biome\t\t\t\t\tMobile Documents\n",
      "Caches\t\t\t\t\tNews\n",
      "Calendars\t\t\t\tPasses\n",
      "CallServices\t\t\t\tPersonalizationPortrait\n",
      "CloudStorage\t\t\t\tPhotos\n",
      "ColorPickers\t\t\t\tPreferencePanes\n",
      "Colors\t\t\t\t\tPreferences\n",
      "Compositions\t\t\t\tPrinters\n",
      "Contacts\t\t\t\tReminders\n",
      "ContainerManager\t\t\tSafari\n",
      "Containers\t\t\t\tSafariSafeBrowsing\n",
      "Cookies\t\t\t\t\tSafariSandboxBroker\n",
      "CoreFollowUp\t\t\t\tSaved Application State\n",
      "DES\t\t\t\t\tScreen Savers\n",
      "Daemon Containers\t\t\tScreenRecordings\n",
      "DataAccess\t\t\t\tServices\n",
      "DataDeliveryServices\t\t\tSharing\n",
      "Dictionaries\t\t\t\tShortcuts\n",
      "DoNotDisturb\t\t\t\tSounds\n",
      "DuetExpertCenter\t\t\tSpelling\n",
      "Favorites\t\t\t\tStaging\n",
      "Finance\t\t\t\t\tStatusKit\n",
      "FontCollections\t\t\t\tSuggestions\n",
      "Fonts\t\t\t\t\tSyncedPreferences\n",
      "FrontBoard\t\t\t\tTranslation\n",
      "GameKit\t\t\t\t\tTrial\n",
      "Google\t\t\t\t\tUnifiedAssetFramework\n",
      "Group Containers\t\t\tWeather\n",
      "HTTPStorages\t\t\t\tWebKit\n",
      "HomeKit\t\t\t\t\tcom.apple.WatchListKit\n",
      "IdentityServices\t\t\tcom.apple.aiml.instrumentation\n",
      "Input Methods\t\t\t\tcom.apple.appleaccountd\n",
      "IntelligencePlatform\t\t\tcom.apple.bluetooth.services.cloud\n",
      "Intents\t\t\t\t\tcom.apple.bluetoothuser\n",
      "Internet Plug-Ins\t\t\tcom.apple.iTunesCloud\n",
      "Jupyter\t\t\t\t\tcom.apple.icloud.searchpartyd\n",
      "Keyboard\t\t\t\tcom.apple.internal.ck\n",
      "Keyboard Layouts\t\t\tstudentd\n",
      "KeyboardServices\n"
     ]
    }
   ],
   "source": [
    "cd\n",
    "ls Library"
   ]
  },
  {
   "cell_type": "code",
   "execution_count": 10,
   "id": "2c0438b6-098c-48bb-a5f5-9856da44c1a6",
   "metadata": {},
   "outputs": [
    {
     "name": "stdout",
     "output_type": "stream",
     "text": [
      "\u001b[34m==>\u001b[0m \u001b[1mDownloading https://formulae.brew.sh/api/formula.jws.json\u001b[0m\n",
      "\n",
      "\u001b[34m==>\u001b[0m \u001b[1mDownloading https://formulae.brew.sh/api/cask.jws.json\u001b[0m\n",
      "\n",
      "\u001b[33mWarning:\u001b[0m pandoc 3.1.9 is already installed and up-to-date.\n",
      "To reinstall 3.1.9, run:\n",
      "  brew reinstall pandoc\n"
     ]
    }
   ],
   "source": [
    "brew install pandoc "
   ]
  },
  {
   "cell_type": "code",
   "execution_count": 11,
   "id": "4214a78d-f1de-4eb3-a6db-14df4cd456b6",
   "metadata": {},
   "outputs": [
    {
     "name": "stdout",
     "output_type": "stream",
     "text": [
      "Requirement already satisfied: nbconvert in ./.pyenv/versions/3.11.4/lib/python3.11/site-packages (7.10.0)\n",
      "Requirement already satisfied: beautifulsoup4 in ./.pyenv/versions/3.11.4/lib/python3.11/site-packages (from nbconvert) (4.12.2)\n",
      "Requirement already satisfied: bleach!=5.0.0 in ./.pyenv/versions/3.11.4/lib/python3.11/site-packages (from nbconvert) (6.1.0)\n",
      "Requirement already satisfied: defusedxml in ./.pyenv/versions/3.11.4/lib/python3.11/site-packages (from nbconvert) (0.7.1)\n",
      "Requirement already satisfied: jinja2>=3.0 in ./.pyenv/versions/3.11.4/lib/python3.11/site-packages (from nbconvert) (3.1.2)\n",
      "Requirement already satisfied: jupyter-core>=4.7 in ./.pyenv/versions/3.11.4/lib/python3.11/site-packages (from nbconvert) (5.5.0)\n",
      "Requirement already satisfied: jupyterlab-pygments in ./.pyenv/versions/3.11.4/lib/python3.11/site-packages (from nbconvert) (0.2.2)\n",
      "Requirement already satisfied: markupsafe>=2.0 in ./.pyenv/versions/3.11.4/lib/python3.11/site-packages (from nbconvert) (2.1.3)\n",
      "Requirement already satisfied: mistune<4,>=2.0.3 in ./.pyenv/versions/3.11.4/lib/python3.11/site-packages (from nbconvert) (3.0.2)\n",
      "Requirement already satisfied: nbclient>=0.5.0 in ./.pyenv/versions/3.11.4/lib/python3.11/site-packages (from nbconvert) (0.8.0)\n",
      "Requirement already satisfied: nbformat>=5.7 in ./.pyenv/versions/3.11.4/lib/python3.11/site-packages (from nbconvert) (5.9.2)\n",
      "Requirement already satisfied: packaging in ./.pyenv/versions/3.11.4/lib/python3.11/site-packages (from nbconvert) (23.1)\n",
      "Requirement already satisfied: pandocfilters>=1.4.1 in ./.pyenv/versions/3.11.4/lib/python3.11/site-packages (from nbconvert) (1.5.0)\n",
      "Requirement already satisfied: pygments>=2.4.1 in ./.pyenv/versions/3.11.4/lib/python3.11/site-packages (from nbconvert) (2.16.1)\n",
      "Requirement already satisfied: tinycss2 in ./.pyenv/versions/3.11.4/lib/python3.11/site-packages (from nbconvert) (1.2.1)\n",
      "Requirement already satisfied: traitlets>=5.1 in ./.pyenv/versions/3.11.4/lib/python3.11/site-packages (from nbconvert) (5.13.0)\n",
      "Requirement already satisfied: six>=1.9.0 in ./.pyenv/versions/3.11.4/lib/python3.11/site-packages (from bleach!=5.0.0->nbconvert) (1.16.0)\n",
      "Requirement already satisfied: webencodings in ./.pyenv/versions/3.11.4/lib/python3.11/site-packages (from bleach!=5.0.0->nbconvert) (0.5.1)\n",
      "Requirement already satisfied: platformdirs>=2.5 in ./.pyenv/versions/3.11.4/lib/python3.11/site-packages (from jupyter-core>=4.7->nbconvert) (3.11.0)\n",
      "Requirement already satisfied: jupyter-client>=6.1.12 in ./.pyenv/versions/3.11.4/lib/python3.11/site-packages (from nbclient>=0.5.0->nbconvert) (8.5.0)\n",
      "Requirement already satisfied: fastjsonschema in ./.pyenv/versions/3.11.4/lib/python3.11/site-packages (from nbformat>=5.7->nbconvert) (2.18.1)\n",
      "Requirement already satisfied: jsonschema>=2.6 in ./.pyenv/versions/3.11.4/lib/python3.11/site-packages (from nbformat>=5.7->nbconvert) (4.19.2)\n",
      "Requirement already satisfied: soupsieve>1.2 in ./.pyenv/versions/3.11.4/lib/python3.11/site-packages (from beautifulsoup4->nbconvert) (2.5)\n",
      "Requirement already satisfied: attrs>=22.2.0 in ./.pyenv/versions/3.11.4/lib/python3.11/site-packages (from jsonschema>=2.6->nbformat>=5.7->nbconvert) (23.1.0)\n",
      "Requirement already satisfied: jsonschema-specifications>=2023.03.6 in ./.pyenv/versions/3.11.4/lib/python3.11/site-packages (from jsonschema>=2.6->nbformat>=5.7->nbconvert) (2023.7.1)\n",
      "Requirement already satisfied: referencing>=0.28.4 in ./.pyenv/versions/3.11.4/lib/python3.11/site-packages (from jsonschema>=2.6->nbformat>=5.7->nbconvert) (0.30.2)\n",
      "Requirement already satisfied: rpds-py>=0.7.1 in ./.pyenv/versions/3.11.4/lib/python3.11/site-packages (from jsonschema>=2.6->nbformat>=5.7->nbconvert) (0.10.6)\n",
      "Requirement already satisfied: python-dateutil>=2.8.2 in ./.pyenv/versions/3.11.4/lib/python3.11/site-packages (from jupyter-client>=6.1.12->nbclient>=0.5.0->nbconvert) (2.8.2)\n",
      "Requirement already satisfied: pyzmq>=23.0 in ./.pyenv/versions/3.11.4/lib/python3.11/site-packages (from jupyter-client>=6.1.12->nbclient>=0.5.0->nbconvert) (25.1.1)\n",
      "Requirement already satisfied: tornado>=6.2 in ./.pyenv/versions/3.11.4/lib/python3.11/site-packages (from jupyter-client>=6.1.12->nbclient>=0.5.0->nbconvert) (6.3.3)\n",
      "\n",
      "\u001b[1m[\u001b[0m\u001b[34;49mnotice\u001b[0m\u001b[1;39;49m]\u001b[0m\u001b[39;49m A new release of pip is available: \u001b[0m\u001b[31;49m23.1.2\u001b[0m\u001b[39;49m -> \u001b[0m\u001b[32;49m23.3.1\u001b[0m\n",
      "\u001b[1m[\u001b[0m\u001b[34;49mnotice\u001b[0m\u001b[1;39;49m]\u001b[0m\u001b[39;49m To update, run: \u001b[0m\u001b[32;49mpip install --upgrade pip\u001b[0m\n"
     ]
    }
   ],
   "source": [
    "pip install nbconvert"
   ]
  },
  {
   "cell_type": "code",
   "execution_count": 12,
   "id": "031777c9-c16f-4563-a7d0-5d84f0e19102",
   "metadata": {},
   "outputs": [
    {
     "name": "stdout",
     "output_type": "stream",
     "text": [
      "Collecting tex\n",
      "  Downloading tex-1.8.tar.gz (4.2 kB)\n",
      "  Installing build dependencies ... \u001b[?25ldone\n",
      "\u001b[?25h  Getting requirements to build wheel ... \u001b[?25ldone\n",
      "\u001b[?25h  Preparing metadata (pyproject.toml) ... \u001b[?25ldone\n",
      "\u001b[?25hBuilding wheels for collected packages: tex\n",
      "  Building wheel for tex (pyproject.toml) ... \u001b[?25ldone\n",
      "\u001b[?25h  Created wheel for tex: filename=tex-1.8-py3-none-any.whl size=5110 sha256=6e26f9fbef53bc74bc408902c532c102656eb00ffb52b8bd6dbf7fc275f2a232\n",
      "  Stored in directory: /Users/hmiwa/Library/Caches/pip/wheels/bc/6b/92/ced2263bf7b42c9ebbf39d2cec5dd742157d633584f564789a\n",
      "Successfully built tex\n",
      "Installing collected packages: tex\n",
      "Successfully installed tex-1.8\n",
      "\n",
      "\u001b[1m[\u001b[0m\u001b[34;49mnotice\u001b[0m\u001b[1;39;49m]\u001b[0m\u001b[39;49m A new release of pip is available: \u001b[0m\u001b[31;49m23.1.2\u001b[0m\u001b[39;49m -> \u001b[0m\u001b[32;49m23.3.1\u001b[0m\n",
      "\u001b[1m[\u001b[0m\u001b[34;49mnotice\u001b[0m\u001b[1;39;49m]\u001b[0m\u001b[39;49m To update, run: \u001b[0m\u001b[32;49mpip install --upgrade pip\u001b[0m\n"
     ]
    }
   ],
   "source": [
    "pip install tex"
   ]
  },
  {
   "cell_type": "code",
   "execution_count": 13,
   "id": "aa69ef3d-3c93-4383-9532-48578514da78",
   "metadata": {},
   "outputs": [
    {
     "name": "stdout",
     "output_type": "stream",
     "text": [
      "Collecting pytest-playwright\n",
      "  Downloading pytest_playwright-0.4.3-py3-none-any.whl (10 kB)\n",
      "Collecting playwright>=1.18 (from pytest-playwright)\n",
      "  Downloading playwright-1.39.0-py3-none-macosx_11_0_arm64.whl (31.4 MB)\n",
      "\u001b[2K     \u001b[38;5;70m━━━━━━━━━━━━━━━━━━━━━━━━━━━━━━━━━━━━━━━━\u001b[0m \u001b[32m31.4/31.4 MB\u001b[0m \u001b[31m15.2 MB/s\u001b[0m eta \u001b[36m0:00:00\u001b[0m\u001b[36m0:00:01\u001b[0m[36m0:00:01\u001b[0m\n",
      "\u001b[?25hCollecting pytest<8.0.0,>=6.2.4 (from pytest-playwright)\n",
      "  Downloading pytest-7.4.3-py3-none-any.whl (325 kB)\n",
      "\u001b[2K     \u001b[38;5;70m━━━━━━━━━━━━━━━━━━━━━━━━━━━━━━━━━━━━━━\u001b[0m \u001b[32m325.1/325.1 kB\u001b[0m \u001b[31m16.2 MB/s\u001b[0m eta \u001b[36m0:00:00\u001b[0m\n",
      "\u001b[?25hCollecting pytest-base-url<3.0.0,>=1.0.0 (from pytest-playwright)\n",
      "  Downloading pytest_base_url-2.0.0-py3-none-any.whl (4.6 kB)\n",
      "Collecting python-slugify<9.0.0,>=6.0.0 (from pytest-playwright)\n",
      "  Downloading python_slugify-8.0.1-py2.py3-none-any.whl (9.7 kB)\n",
      "Collecting greenlet==3.0.0 (from playwright>=1.18->pytest-playwright)\n",
      "  Downloading greenlet-3.0.0-cp311-cp311-macosx_10_9_universal2.whl (262 kB)\n",
      "\u001b[2K     \u001b[38;5;70m━━━━━━━━━━━━━━━━━━━━━━━━━━━━━━━━━━━━━━\u001b[0m \u001b[32m262.9/262.9 kB\u001b[0m \u001b[31m16.8 MB/s\u001b[0m eta \u001b[36m0:00:00\u001b[0m\n",
      "\u001b[?25hCollecting pyee==11.0.1 (from playwright>=1.18->pytest-playwright)\n",
      "  Downloading pyee-11.0.1-py3-none-any.whl (15 kB)\n",
      "Collecting typing-extensions (from pyee==11.0.1->playwright>=1.18->pytest-playwright)\n",
      "  Downloading typing_extensions-4.8.0-py3-none-any.whl (31 kB)\n",
      "Collecting iniconfig (from pytest<8.0.0,>=6.2.4->pytest-playwright)\n",
      "  Downloading iniconfig-2.0.0-py3-none-any.whl (5.9 kB)\n",
      "Requirement already satisfied: packaging in ./.pyenv/versions/3.11.4/lib/python3.11/site-packages (from pytest<8.0.0,>=6.2.4->pytest-playwright) (23.1)\n",
      "Collecting pluggy<2.0,>=0.12 (from pytest<8.0.0,>=6.2.4->pytest-playwright)\n",
      "  Downloading pluggy-1.3.0-py3-none-any.whl (18 kB)\n",
      "Requirement already satisfied: requests>=2.9 in ./.pyenv/versions/3.11.4/lib/python3.11/site-packages (from pytest-base-url<3.0.0,>=1.0.0->pytest-playwright) (2.31.0)\n",
      "Collecting text-unidecode>=1.3 (from python-slugify<9.0.0,>=6.0.0->pytest-playwright)\n",
      "  Downloading text_unidecode-1.3-py2.py3-none-any.whl (78 kB)\n",
      "\u001b[2K     \u001b[38;5;70m━━━━━━━━━━━━━━━━━━━━━━━━━━━━━━━━━━━━━━━━\u001b[0m \u001b[32m78.2/78.2 kB\u001b[0m \u001b[31m9.8 MB/s\u001b[0m eta \u001b[36m0:00:00\u001b[0m\n",
      "\u001b[?25hRequirement already satisfied: charset-normalizer<4,>=2 in ./.pyenv/versions/3.11.4/lib/python3.11/site-packages (from requests>=2.9->pytest-base-url<3.0.0,>=1.0.0->pytest-playwright) (3.3.2)\n",
      "Requirement already satisfied: idna<4,>=2.5 in ./.pyenv/versions/3.11.4/lib/python3.11/site-packages (from requests>=2.9->pytest-base-url<3.0.0,>=1.0.0->pytest-playwright) (3.4)\n",
      "Requirement already satisfied: urllib3<3,>=1.21.1 in ./.pyenv/versions/3.11.4/lib/python3.11/site-packages (from requests>=2.9->pytest-base-url<3.0.0,>=1.0.0->pytest-playwright) (2.0.7)\n",
      "Requirement already satisfied: certifi>=2017.4.17 in ./.pyenv/versions/3.11.4/lib/python3.11/site-packages (from requests>=2.9->pytest-base-url<3.0.0,>=1.0.0->pytest-playwright) (2023.7.22)\n",
      "Installing collected packages: text-unidecode, typing-extensions, python-slugify, pluggy, iniconfig, greenlet, pytest, pyee, pytest-base-url, playwright, pytest-playwright\n",
      "Successfully installed greenlet-3.0.0 iniconfig-2.0.0 playwright-1.39.0 pluggy-1.3.0 pyee-11.0.1 pytest-7.4.3 pytest-base-url-2.0.0 pytest-playwright-0.4.3 python-slugify-8.0.1 text-unidecode-1.3 typing-extensions-4.8.0\n",
      "\n",
      "\u001b[1m[\u001b[0m\u001b[34;49mnotice\u001b[0m\u001b[1;39;49m]\u001b[0m\u001b[39;49m A new release of pip is available: \u001b[0m\u001b[31;49m23.1.2\u001b[0m\u001b[39;49m -> \u001b[0m\u001b[32;49m23.3.1\u001b[0m\n",
      "\u001b[1m[\u001b[0m\u001b[34;49mnotice\u001b[0m\u001b[1;39;49m]\u001b[0m\u001b[39;49m To update, run: \u001b[0m\u001b[32;49mpip install --upgrade pip\u001b[0m\n"
     ]
    }
   ],
   "source": [
    "pip install pytest-playwright"
   ]
  },
  {
   "cell_type": "code",
   "execution_count": 16,
   "id": "3b2b9fad-fedb-458c-8a79-df30a5728883",
   "metadata": {},
   "outputs": [
    {
     "name": "stdout",
     "output_type": "stream",
     "text": [
      "Accounts\t\t\t\tKeychains\n",
      "AppleMediaServices\t\t\tLanguageModeling\n",
      "Application Scripts\t\t\tLaunchAgents\n",
      "Application Support\t\t\tLockdownMode\n",
      "Assistant\t\t\t\tLogs\n",
      "Assistants\t\t\t\tMail\n",
      "Audio\t\t\t\t\tMessages\n",
      "Autosave Information\t\t\tMetadata\n",
      "Biome\t\t\t\t\tMobile Documents\n",
      "Caches\t\t\t\t\tNews\n",
      "Calendars\t\t\t\tPasses\n",
      "CallServices\t\t\t\tPersonalizationPortrait\n",
      "CloudStorage\t\t\t\tPhotos\n",
      "ColorPickers\t\t\t\tPreferencePanes\n",
      "Colors\t\t\t\t\tPreferences\n",
      "Compositions\t\t\t\tPrinters\n",
      "Contacts\t\t\t\tReminders\n",
      "ContainerManager\t\t\tSafari\n",
      "Containers\t\t\t\tSafariSafeBrowsing\n",
      "Cookies\t\t\t\t\tSafariSandboxBroker\n",
      "CoreFollowUp\t\t\t\tSaved Application State\n",
      "DES\t\t\t\t\tScreen Savers\n",
      "Daemon Containers\t\t\tScreenRecordings\n",
      "DataAccess\t\t\t\tServices\n",
      "DataDeliveryServices\t\t\tSharing\n",
      "Dictionaries\t\t\t\tShortcuts\n",
      "DoNotDisturb\t\t\t\tSounds\n",
      "DuetExpertCenter\t\t\tSpelling\n",
      "Favorites\t\t\t\tStaging\n",
      "Finance\t\t\t\t\tStatusKit\n",
      "FontCollections\t\t\t\tSuggestions\n",
      "Fonts\t\t\t\t\tSyncedPreferences\n",
      "FrontBoard\t\t\t\tTranslation\n",
      "GameKit\t\t\t\t\tTrial\n",
      "Google\t\t\t\t\tUnifiedAssetFramework\n",
      "Group Containers\t\t\tWeather\n",
      "HTTPStorages\t\t\t\tWebKit\n",
      "HomeKit\t\t\t\t\tcom.apple.WatchListKit\n",
      "IdentityServices\t\t\tcom.apple.aiml.instrumentation\n",
      "Input Methods\t\t\t\tcom.apple.appleaccountd\n",
      "IntelligencePlatform\t\t\tcom.apple.bluetooth.services.cloud\n",
      "Intents\t\t\t\t\tcom.apple.bluetoothuser\n",
      "Internet Plug-Ins\t\t\tcom.apple.iTunesCloud\n",
      "Jupyter\t\t\t\t\tcom.apple.icloud.searchpartyd\n",
      "Keyboard\t\t\t\tcom.apple.internal.ck\n",
      "Keyboard Layouts\t\t\tstudentd\n",
      "KeyboardServices\n"
     ]
    }
   ],
   "source": [
    "ls Library"
   ]
  },
  {
   "cell_type": "code",
   "execution_count": 18,
   "id": "a30dce6b-03bc-403c-9caf-c5930bbdbef5",
   "metadata": {},
   "outputs": [
    {
     "name": "stdout",
     "output_type": "stream",
     "text": [
      "Collecting jupyter-cjk-xelatex\n",
      "  Downloading jupyter-cjk-xelatex-0.2.tar.gz (1.6 kB)\n",
      "  Installing build dependencies ... \u001b[?25ldone\n",
      "\u001b[?25h  Getting requirements to build wheel ... \u001b[?25ldone\n",
      "\u001b[?25h  Preparing metadata (pyproject.toml) ... \u001b[?25ldone\n",
      "\u001b[?25hRequirement already satisfied: jupyter in ./.pyenv/versions/3.11.4/lib/python3.11/site-packages (from jupyter-cjk-xelatex) (1.0.0)\n",
      "Requirement already satisfied: notebook in ./.pyenv/versions/3.11.4/lib/python3.11/site-packages (from jupyter->jupyter-cjk-xelatex) (7.0.6)\n",
      "Requirement already satisfied: qtconsole in ./.pyenv/versions/3.11.4/lib/python3.11/site-packages (from jupyter->jupyter-cjk-xelatex) (5.4.4)\n",
      "Requirement already satisfied: jupyter-console in ./.pyenv/versions/3.11.4/lib/python3.11/site-packages (from jupyter->jupyter-cjk-xelatex) (6.6.3)\n",
      "Requirement already satisfied: nbconvert in ./.pyenv/versions/3.11.4/lib/python3.11/site-packages (from jupyter->jupyter-cjk-xelatex) (7.10.0)\n",
      "Requirement already satisfied: ipykernel in ./.pyenv/versions/3.11.4/lib/python3.11/site-packages (from jupyter->jupyter-cjk-xelatex) (6.26.0)\n",
      "Requirement already satisfied: ipywidgets in ./.pyenv/versions/3.11.4/lib/python3.11/site-packages (from jupyter->jupyter-cjk-xelatex) (8.1.1)\n",
      "Requirement already satisfied: appnope in ./.pyenv/versions/3.11.4/lib/python3.11/site-packages (from ipykernel->jupyter->jupyter-cjk-xelatex) (0.1.3)\n",
      "Requirement already satisfied: comm>=0.1.1 in ./.pyenv/versions/3.11.4/lib/python3.11/site-packages (from ipykernel->jupyter->jupyter-cjk-xelatex) (0.1.4)\n",
      "Requirement already satisfied: debugpy>=1.6.5 in ./.pyenv/versions/3.11.4/lib/python3.11/site-packages (from ipykernel->jupyter->jupyter-cjk-xelatex) (1.8.0)\n",
      "Requirement already satisfied: ipython>=7.23.1 in ./.pyenv/versions/3.11.4/lib/python3.11/site-packages (from ipykernel->jupyter->jupyter-cjk-xelatex) (8.17.2)\n",
      "Requirement already satisfied: jupyter-client>=6.1.12 in ./.pyenv/versions/3.11.4/lib/python3.11/site-packages (from ipykernel->jupyter->jupyter-cjk-xelatex) (8.5.0)\n",
      "Requirement already satisfied: jupyter-core!=5.0.*,>=4.12 in ./.pyenv/versions/3.11.4/lib/python3.11/site-packages (from ipykernel->jupyter->jupyter-cjk-xelatex) (5.5.0)\n",
      "Requirement already satisfied: matplotlib-inline>=0.1 in ./.pyenv/versions/3.11.4/lib/python3.11/site-packages (from ipykernel->jupyter->jupyter-cjk-xelatex) (0.1.6)\n",
      "Requirement already satisfied: nest-asyncio in ./.pyenv/versions/3.11.4/lib/python3.11/site-packages (from ipykernel->jupyter->jupyter-cjk-xelatex) (1.5.8)\n",
      "Requirement already satisfied: packaging in ./.pyenv/versions/3.11.4/lib/python3.11/site-packages (from ipykernel->jupyter->jupyter-cjk-xelatex) (23.1)\n",
      "Requirement already satisfied: psutil in ./.pyenv/versions/3.11.4/lib/python3.11/site-packages (from ipykernel->jupyter->jupyter-cjk-xelatex) (5.9.6)\n",
      "Requirement already satisfied: pyzmq>=20 in ./.pyenv/versions/3.11.4/lib/python3.11/site-packages (from ipykernel->jupyter->jupyter-cjk-xelatex) (25.1.1)\n",
      "Requirement already satisfied: tornado>=6.1 in ./.pyenv/versions/3.11.4/lib/python3.11/site-packages (from ipykernel->jupyter->jupyter-cjk-xelatex) (6.3.3)\n",
      "Requirement already satisfied: traitlets>=5.4.0 in ./.pyenv/versions/3.11.4/lib/python3.11/site-packages (from ipykernel->jupyter->jupyter-cjk-xelatex) (5.13.0)\n",
      "Requirement already satisfied: widgetsnbextension~=4.0.9 in ./.pyenv/versions/3.11.4/lib/python3.11/site-packages (from ipywidgets->jupyter->jupyter-cjk-xelatex) (4.0.9)\n",
      "Requirement already satisfied: jupyterlab-widgets~=3.0.9 in ./.pyenv/versions/3.11.4/lib/python3.11/site-packages (from ipywidgets->jupyter->jupyter-cjk-xelatex) (3.0.9)\n",
      "Requirement already satisfied: prompt-toolkit>=3.0.30 in ./.pyenv/versions/3.11.4/lib/python3.11/site-packages (from jupyter-console->jupyter->jupyter-cjk-xelatex) (3.0.39)\n",
      "Requirement already satisfied: pygments in ./.pyenv/versions/3.11.4/lib/python3.11/site-packages (from jupyter-console->jupyter->jupyter-cjk-xelatex) (2.16.1)\n",
      "Requirement already satisfied: beautifulsoup4 in ./.pyenv/versions/3.11.4/lib/python3.11/site-packages (from nbconvert->jupyter->jupyter-cjk-xelatex) (4.12.2)\n",
      "Requirement already satisfied: bleach!=5.0.0 in ./.pyenv/versions/3.11.4/lib/python3.11/site-packages (from nbconvert->jupyter->jupyter-cjk-xelatex) (6.1.0)\n",
      "Requirement already satisfied: defusedxml in ./.pyenv/versions/3.11.4/lib/python3.11/site-packages (from nbconvert->jupyter->jupyter-cjk-xelatex) (0.7.1)\n",
      "Requirement already satisfied: jinja2>=3.0 in ./.pyenv/versions/3.11.4/lib/python3.11/site-packages (from nbconvert->jupyter->jupyter-cjk-xelatex) (3.1.2)\n",
      "Requirement already satisfied: jupyterlab-pygments in ./.pyenv/versions/3.11.4/lib/python3.11/site-packages (from nbconvert->jupyter->jupyter-cjk-xelatex) (0.2.2)\n",
      "Requirement already satisfied: markupsafe>=2.0 in ./.pyenv/versions/3.11.4/lib/python3.11/site-packages (from nbconvert->jupyter->jupyter-cjk-xelatex) (2.1.3)\n",
      "Requirement already satisfied: mistune<4,>=2.0.3 in ./.pyenv/versions/3.11.4/lib/python3.11/site-packages (from nbconvert->jupyter->jupyter-cjk-xelatex) (3.0.2)\n",
      "Requirement already satisfied: nbclient>=0.5.0 in ./.pyenv/versions/3.11.4/lib/python3.11/site-packages (from nbconvert->jupyter->jupyter-cjk-xelatex) (0.8.0)\n",
      "Requirement already satisfied: nbformat>=5.7 in ./.pyenv/versions/3.11.4/lib/python3.11/site-packages (from nbconvert->jupyter->jupyter-cjk-xelatex) (5.9.2)\n",
      "Requirement already satisfied: pandocfilters>=1.4.1 in ./.pyenv/versions/3.11.4/lib/python3.11/site-packages (from nbconvert->jupyter->jupyter-cjk-xelatex) (1.5.0)\n",
      "Requirement already satisfied: tinycss2 in ./.pyenv/versions/3.11.4/lib/python3.11/site-packages (from nbconvert->jupyter->jupyter-cjk-xelatex) (1.2.1)\n",
      "Requirement already satisfied: jupyter-server<3,>=2.4.0 in ./.pyenv/versions/3.11.4/lib/python3.11/site-packages (from notebook->jupyter->jupyter-cjk-xelatex) (2.9.1)\n",
      "Requirement already satisfied: jupyterlab-server<3,>=2.22.1 in ./.pyenv/versions/3.11.4/lib/python3.11/site-packages (from notebook->jupyter->jupyter-cjk-xelatex) (2.25.0)\n",
      "Requirement already satisfied: jupyterlab<5,>=4.0.2 in ./.pyenv/versions/3.11.4/lib/python3.11/site-packages (from notebook->jupyter->jupyter-cjk-xelatex) (4.0.8)\n",
      "Requirement already satisfied: notebook-shim<0.3,>=0.2 in ./.pyenv/versions/3.11.4/lib/python3.11/site-packages (from notebook->jupyter->jupyter-cjk-xelatex) (0.2.3)\n",
      "Requirement already satisfied: ipython-genutils in ./.pyenv/versions/3.11.4/lib/python3.11/site-packages (from qtconsole->jupyter->jupyter-cjk-xelatex) (0.2.0)\n",
      "Requirement already satisfied: qtpy>=2.4.0 in ./.pyenv/versions/3.11.4/lib/python3.11/site-packages (from qtconsole->jupyter->jupyter-cjk-xelatex) (2.4.1)\n",
      "Requirement already satisfied: six>=1.9.0 in ./.pyenv/versions/3.11.4/lib/python3.11/site-packages (from bleach!=5.0.0->nbconvert->jupyter->jupyter-cjk-xelatex) (1.16.0)\n",
      "Requirement already satisfied: webencodings in ./.pyenv/versions/3.11.4/lib/python3.11/site-packages (from bleach!=5.0.0->nbconvert->jupyter->jupyter-cjk-xelatex) (0.5.1)\n",
      "Requirement already satisfied: decorator in ./.pyenv/versions/3.11.4/lib/python3.11/site-packages (from ipython>=7.23.1->ipykernel->jupyter->jupyter-cjk-xelatex) (5.1.1)\n",
      "Requirement already satisfied: jedi>=0.16 in ./.pyenv/versions/3.11.4/lib/python3.11/site-packages (from ipython>=7.23.1->ipykernel->jupyter->jupyter-cjk-xelatex) (0.19.1)\n",
      "Requirement already satisfied: stack-data in ./.pyenv/versions/3.11.4/lib/python3.11/site-packages (from ipython>=7.23.1->ipykernel->jupyter->jupyter-cjk-xelatex) (0.6.3)\n",
      "Requirement already satisfied: pexpect>4.3 in ./.pyenv/versions/3.11.4/lib/python3.11/site-packages (from ipython>=7.23.1->ipykernel->jupyter->jupyter-cjk-xelatex) (4.8.0)\n",
      "Requirement already satisfied: python-dateutil>=2.8.2 in ./.pyenv/versions/3.11.4/lib/python3.11/site-packages (from jupyter-client>=6.1.12->ipykernel->jupyter->jupyter-cjk-xelatex) (2.8.2)\n",
      "Requirement already satisfied: platformdirs>=2.5 in ./.pyenv/versions/3.11.4/lib/python3.11/site-packages (from jupyter-core!=5.0.*,>=4.12->ipykernel->jupyter->jupyter-cjk-xelatex) (3.11.0)\n",
      "Requirement already satisfied: anyio>=3.1.0 in ./.pyenv/versions/3.11.4/lib/python3.11/site-packages (from jupyter-server<3,>=2.4.0->notebook->jupyter->jupyter-cjk-xelatex) (4.0.0)\n",
      "Requirement already satisfied: argon2-cffi in ./.pyenv/versions/3.11.4/lib/python3.11/site-packages (from jupyter-server<3,>=2.4.0->notebook->jupyter->jupyter-cjk-xelatex) (23.1.0)\n",
      "Requirement already satisfied: jupyter-events>=0.6.0 in ./.pyenv/versions/3.11.4/lib/python3.11/site-packages (from jupyter-server<3,>=2.4.0->notebook->jupyter->jupyter-cjk-xelatex) (0.8.0)\n",
      "Requirement already satisfied: jupyter-server-terminals in ./.pyenv/versions/3.11.4/lib/python3.11/site-packages (from jupyter-server<3,>=2.4.0->notebook->jupyter->jupyter-cjk-xelatex) (0.4.4)\n",
      "Requirement already satisfied: overrides in ./.pyenv/versions/3.11.4/lib/python3.11/site-packages (from jupyter-server<3,>=2.4.0->notebook->jupyter->jupyter-cjk-xelatex) (7.4.0)\n",
      "Requirement already satisfied: prometheus-client in ./.pyenv/versions/3.11.4/lib/python3.11/site-packages (from jupyter-server<3,>=2.4.0->notebook->jupyter->jupyter-cjk-xelatex) (0.18.0)\n",
      "Requirement already satisfied: send2trash>=1.8.2 in ./.pyenv/versions/3.11.4/lib/python3.11/site-packages (from jupyter-server<3,>=2.4.0->notebook->jupyter->jupyter-cjk-xelatex) (1.8.2)\n",
      "Requirement already satisfied: terminado>=0.8.3 in ./.pyenv/versions/3.11.4/lib/python3.11/site-packages (from jupyter-server<3,>=2.4.0->notebook->jupyter->jupyter-cjk-xelatex) (0.17.1)\n",
      "Requirement already satisfied: websocket-client in ./.pyenv/versions/3.11.4/lib/python3.11/site-packages (from jupyter-server<3,>=2.4.0->notebook->jupyter->jupyter-cjk-xelatex) (1.6.4)\n",
      "Requirement already satisfied: async-lru>=1.0.0 in ./.pyenv/versions/3.11.4/lib/python3.11/site-packages (from jupyterlab<5,>=4.0.2->notebook->jupyter->jupyter-cjk-xelatex) (2.0.4)\n",
      "Requirement already satisfied: jupyter-lsp>=2.0.0 in ./.pyenv/versions/3.11.4/lib/python3.11/site-packages (from jupyterlab<5,>=4.0.2->notebook->jupyter->jupyter-cjk-xelatex) (2.2.0)\n",
      "Requirement already satisfied: babel>=2.10 in ./.pyenv/versions/3.11.4/lib/python3.11/site-packages (from jupyterlab-server<3,>=2.22.1->notebook->jupyter->jupyter-cjk-xelatex) (2.13.1)\n",
      "Requirement already satisfied: json5>=0.9.0 in ./.pyenv/versions/3.11.4/lib/python3.11/site-packages (from jupyterlab-server<3,>=2.22.1->notebook->jupyter->jupyter-cjk-xelatex) (0.9.14)\n",
      "Requirement already satisfied: jsonschema>=4.18.0 in ./.pyenv/versions/3.11.4/lib/python3.11/site-packages (from jupyterlab-server<3,>=2.22.1->notebook->jupyter->jupyter-cjk-xelatex) (4.19.2)\n",
      "Requirement already satisfied: requests>=2.31 in ./.pyenv/versions/3.11.4/lib/python3.11/site-packages (from jupyterlab-server<3,>=2.22.1->notebook->jupyter->jupyter-cjk-xelatex) (2.31.0)\n",
      "Requirement already satisfied: fastjsonschema in ./.pyenv/versions/3.11.4/lib/python3.11/site-packages (from nbformat>=5.7->nbconvert->jupyter->jupyter-cjk-xelatex) (2.18.1)\n",
      "Requirement already satisfied: wcwidth in ./.pyenv/versions/3.11.4/lib/python3.11/site-packages (from prompt-toolkit>=3.0.30->jupyter-console->jupyter->jupyter-cjk-xelatex) (0.2.9)\n",
      "Requirement already satisfied: soupsieve>1.2 in ./.pyenv/versions/3.11.4/lib/python3.11/site-packages (from beautifulsoup4->nbconvert->jupyter->jupyter-cjk-xelatex) (2.5)\n",
      "Requirement already satisfied: idna>=2.8 in ./.pyenv/versions/3.11.4/lib/python3.11/site-packages (from anyio>=3.1.0->jupyter-server<3,>=2.4.0->notebook->jupyter->jupyter-cjk-xelatex) (3.4)\n",
      "Requirement already satisfied: sniffio>=1.1 in ./.pyenv/versions/3.11.4/lib/python3.11/site-packages (from anyio>=3.1.0->jupyter-server<3,>=2.4.0->notebook->jupyter->jupyter-cjk-xelatex) (1.3.0)\n",
      "Requirement already satisfied: parso<0.9.0,>=0.8.3 in ./.pyenv/versions/3.11.4/lib/python3.11/site-packages (from jedi>=0.16->ipython>=7.23.1->ipykernel->jupyter->jupyter-cjk-xelatex) (0.8.3)\n",
      "Requirement already satisfied: attrs>=22.2.0 in ./.pyenv/versions/3.11.4/lib/python3.11/site-packages (from jsonschema>=4.18.0->jupyterlab-server<3,>=2.22.1->notebook->jupyter->jupyter-cjk-xelatex) (23.1.0)\n",
      "Requirement already satisfied: jsonschema-specifications>=2023.03.6 in ./.pyenv/versions/3.11.4/lib/python3.11/site-packages (from jsonschema>=4.18.0->jupyterlab-server<3,>=2.22.1->notebook->jupyter->jupyter-cjk-xelatex) (2023.7.1)\n",
      "Requirement already satisfied: referencing>=0.28.4 in ./.pyenv/versions/3.11.4/lib/python3.11/site-packages (from jsonschema>=4.18.0->jupyterlab-server<3,>=2.22.1->notebook->jupyter->jupyter-cjk-xelatex) (0.30.2)\n",
      "Requirement already satisfied: rpds-py>=0.7.1 in ./.pyenv/versions/3.11.4/lib/python3.11/site-packages (from jsonschema>=4.18.0->jupyterlab-server<3,>=2.22.1->notebook->jupyter->jupyter-cjk-xelatex) (0.10.6)\n",
      "Requirement already satisfied: python-json-logger>=2.0.4 in ./.pyenv/versions/3.11.4/lib/python3.11/site-packages (from jupyter-events>=0.6.0->jupyter-server<3,>=2.4.0->notebook->jupyter->jupyter-cjk-xelatex) (2.0.7)\n",
      "Requirement already satisfied: pyyaml>=5.3 in ./.pyenv/versions/3.11.4/lib/python3.11/site-packages (from jupyter-events>=0.6.0->jupyter-server<3,>=2.4.0->notebook->jupyter->jupyter-cjk-xelatex) (6.0.1)\n",
      "Requirement already satisfied: rfc3339-validator in ./.pyenv/versions/3.11.4/lib/python3.11/site-packages (from jupyter-events>=0.6.0->jupyter-server<3,>=2.4.0->notebook->jupyter->jupyter-cjk-xelatex) (0.1.4)\n",
      "Requirement already satisfied: rfc3986-validator>=0.1.1 in ./.pyenv/versions/3.11.4/lib/python3.11/site-packages (from jupyter-events>=0.6.0->jupyter-server<3,>=2.4.0->notebook->jupyter->jupyter-cjk-xelatex) (0.1.1)\n",
      "Requirement already satisfied: ptyprocess>=0.5 in ./.pyenv/versions/3.11.4/lib/python3.11/site-packages (from pexpect>4.3->ipython>=7.23.1->ipykernel->jupyter->jupyter-cjk-xelatex) (0.7.0)\n",
      "Requirement already satisfied: charset-normalizer<4,>=2 in ./.pyenv/versions/3.11.4/lib/python3.11/site-packages (from requests>=2.31->jupyterlab-server<3,>=2.22.1->notebook->jupyter->jupyter-cjk-xelatex) (3.3.2)\n",
      "Requirement already satisfied: urllib3<3,>=1.21.1 in ./.pyenv/versions/3.11.4/lib/python3.11/site-packages (from requests>=2.31->jupyterlab-server<3,>=2.22.1->notebook->jupyter->jupyter-cjk-xelatex) (2.0.7)\n",
      "Requirement already satisfied: certifi>=2017.4.17 in ./.pyenv/versions/3.11.4/lib/python3.11/site-packages (from requests>=2.31->jupyterlab-server<3,>=2.22.1->notebook->jupyter->jupyter-cjk-xelatex) (2023.7.22)\n",
      "Requirement already satisfied: argon2-cffi-bindings in ./.pyenv/versions/3.11.4/lib/python3.11/site-packages (from argon2-cffi->jupyter-server<3,>=2.4.0->notebook->jupyter->jupyter-cjk-xelatex) (21.2.0)\n",
      "Requirement already satisfied: executing>=1.2.0 in ./.pyenv/versions/3.11.4/lib/python3.11/site-packages (from stack-data->ipython>=7.23.1->ipykernel->jupyter->jupyter-cjk-xelatex) (2.0.1)\n",
      "Requirement already satisfied: asttokens>=2.1.0 in ./.pyenv/versions/3.11.4/lib/python3.11/site-packages (from stack-data->ipython>=7.23.1->ipykernel->jupyter->jupyter-cjk-xelatex) (2.4.1)\n",
      "Requirement already satisfied: pure-eval in ./.pyenv/versions/3.11.4/lib/python3.11/site-packages (from stack-data->ipython>=7.23.1->ipykernel->jupyter->jupyter-cjk-xelatex) (0.2.2)\n",
      "Requirement already satisfied: fqdn in ./.pyenv/versions/3.11.4/lib/python3.11/site-packages (from jsonschema>=4.18.0->jupyterlab-server<3,>=2.22.1->notebook->jupyter->jupyter-cjk-xelatex) (1.5.1)\n",
      "Requirement already satisfied: isoduration in ./.pyenv/versions/3.11.4/lib/python3.11/site-packages (from jsonschema>=4.18.0->jupyterlab-server<3,>=2.22.1->notebook->jupyter->jupyter-cjk-xelatex) (20.11.0)\n",
      "Requirement already satisfied: jsonpointer>1.13 in ./.pyenv/versions/3.11.4/lib/python3.11/site-packages (from jsonschema>=4.18.0->jupyterlab-server<3,>=2.22.1->notebook->jupyter->jupyter-cjk-xelatex) (2.4)\n",
      "Requirement already satisfied: uri-template in ./.pyenv/versions/3.11.4/lib/python3.11/site-packages (from jsonschema>=4.18.0->jupyterlab-server<3,>=2.22.1->notebook->jupyter->jupyter-cjk-xelatex) (1.3.0)\n",
      "Requirement already satisfied: webcolors>=1.11 in ./.pyenv/versions/3.11.4/lib/python3.11/site-packages (from jsonschema>=4.18.0->jupyterlab-server<3,>=2.22.1->notebook->jupyter->jupyter-cjk-xelatex) (1.13)\n",
      "Requirement already satisfied: cffi>=1.0.1 in ./.pyenv/versions/3.11.4/lib/python3.11/site-packages (from argon2-cffi-bindings->argon2-cffi->jupyter-server<3,>=2.4.0->notebook->jupyter->jupyter-cjk-xelatex) (1.16.0)\n",
      "Requirement already satisfied: pycparser in ./.pyenv/versions/3.11.4/lib/python3.11/site-packages (from cffi>=1.0.1->argon2-cffi-bindings->argon2-cffi->jupyter-server<3,>=2.4.0->notebook->jupyter->jupyter-cjk-xelatex) (2.21)\n",
      "Requirement already satisfied: arrow>=0.15.0 in ./.pyenv/versions/3.11.4/lib/python3.11/site-packages (from isoduration->jsonschema>=4.18.0->jupyterlab-server<3,>=2.22.1->notebook->jupyter->jupyter-cjk-xelatex) (1.3.0)\n",
      "Requirement already satisfied: types-python-dateutil>=2.8.10 in ./.pyenv/versions/3.11.4/lib/python3.11/site-packages (from arrow>=0.15.0->isoduration->jsonschema>=4.18.0->jupyterlab-server<3,>=2.22.1->notebook->jupyter->jupyter-cjk-xelatex) (2.8.19.14)\n",
      "Building wheels for collected packages: jupyter-cjk-xelatex\n",
      "  Building wheel for jupyter-cjk-xelatex (pyproject.toml) ... \u001b[?25ldone\n",
      "\u001b[?25h  Created wheel for jupyter-cjk-xelatex: filename=jupyter_cjk_xelatex-0.2-py3-none-any.whl size=2054 sha256=d3a4e06d27f9f549602748c4b891a0a6372fe47d2dacb27244b793b6843973c1\n",
      "  Stored in directory: /Users/hmiwa/Library/Caches/pip/wheels/d7/ad/61/b72d334c921192fd5778f608fb6d8d7756fa3fb7b7939918a1\n",
      "Successfully built jupyter-cjk-xelatex\n",
      "Installing collected packages: jupyter-cjk-xelatex\n",
      "Successfully installed jupyter-cjk-xelatex-0.2\n",
      "\n",
      "\u001b[1m[\u001b[0m\u001b[34;49mnotice\u001b[0m\u001b[1;39;49m]\u001b[0m\u001b[39;49m A new release of pip is available: \u001b[0m\u001b[31;49m23.1.2\u001b[0m\u001b[39;49m -> \u001b[0m\u001b[32;49m23.3.1\u001b[0m\n",
      "\u001b[1m[\u001b[0m\u001b[34;49mnotice\u001b[0m\u001b[1;39;49m]\u001b[0m\u001b[39;49m To update, run: \u001b[0m\u001b[32;49mpip install --upgrade pip\u001b[0m\n"
     ]
    }
   ],
   "source": [
    "pip install jupyter-cjk-xelatex"
   ]
  },
  {
   "cell_type": "markdown",
   "id": "8a9fff1c-d350-4661-90a8-cc3cbfc03b80",
   "metadata": {},
   "source": [
    "http://www.texts.io/support/0001/\n",
    "\n",
    "https://tug.org/mactex/mactex-download.html\n",
    "\n",
    "ここからMacTeXをダウンロード・インストールした。20GBくらい食いました。"
   ]
  },
  {
   "cell_type": "code",
   "execution_count": 23,
   "id": "6f497fdc-30bc-4e7f-95a3-3180e79835b9",
   "metadata": {},
   "outputs": [],
   "source": [
    "echo \"export PATH=/Library/TeX/texbin:$PATH\" >> ~/.zshrc\n",
    "source ~/.zshrc\n",
    "#export PATH=/Library/TeX/texbin:$PATH >> ~/.bash_profile\n",
    "#source ~/.bash_profile"
   ]
  }
 ],
 "metadata": {
  "kernelspec": {
   "display_name": "Bash",
   "language": "bash",
   "name": "bash"
  },
  "language_info": {
   "codemirror_mode": "shell",
   "file_extension": ".sh",
   "mimetype": "text/x-sh",
   "name": "bash"
  }
 },
 "nbformat": 4,
 "nbformat_minor": 5
}
