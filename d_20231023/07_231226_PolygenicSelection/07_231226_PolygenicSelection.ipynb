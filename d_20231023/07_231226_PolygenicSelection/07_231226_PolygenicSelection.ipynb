{
 "cells": [
  {
   "cell_type": "markdown",
   "metadata": {},
   "source": [
    "# 07_231226_PolygenicSelection\n",
    "\n",
    "******************************"
   ]
  },
  {
   "cell_type": "markdown",
   "metadata": {},
   "source": [
    "### 目的\n",
    "もともと、複数の遺伝子の影響があったかどうかを調べたかった。CREBRFがTongaで選択を受けていたような結果は得られているので、Choin et al 2021でやられていた方法を試してポリジェニックセレクションが働いているか調べる。"
   ]
  },
  {
   "cell_type": "markdown",
   "metadata": {},
   "source": [
    "### Choin et al 2021\n",
    "\n",
    ">Choin, J., Mendoza-Revilla, J., Arauna, L.R. et al. Genomic insights into population history and biological adaptation in Oceania. Nature 592, 583–589 (2021). https://doi-org.utokyo.idm.oclc.org/10.1038/s41586-021-03236-5\n",
    "\n",
    "上記で示されている方法をまとめる。"
   ]
  },
  {
   "cell_type": "markdown",
   "metadata": {},
   "source": [
    "#### Polygenic adaptation"
   ]
  },
  {
   "cell_type": "markdown",
   "metadata": {},
   "source": [
    "We searched for evidence of polygenic adaptation, using an approach testing whether the mean integrated haplotype score (iHS) of trait-increasing alleles differed significantly from that of random SNPs with a similar allele frequency(46,96). We obtained GWAS summary statistics for 25 candidate complex traits from the UK Biobank database45, including traits relating to morphology, metabolism and immunity, as these phenotypic traits are strong candidates for responses, through natural selection, to changes in climatic, nutritional and pathogenic environments. We classified SNPs as ‘trait-increasing’ or ‘trait-decreasing’ based on UK Biobank effect size (β) estimates. We computed iHS with selink, for each SNP and population, and standardized scores in 100 bins of DAF. We then polarized the iHS, such that positive iHS values indicated directional selection of the trait-decreasing allele, whereas negative iHS values indicated directional selection of the trait-increasing allele. We called the resulting statistic the polarized trait iHS (tiHS).\n",
    "\n",
    ">多遺伝子適応の証拠を探索しました。アプローチは、平均統合ハプロタイプスコア（iHS）が、特性を増加させるアレルと似たアレル頻度を持つランダムなSNPと有意に異なるかどうかを検証するものでした（46,96）。私たちは、UK Biobankデータベースから25の複雑な特性の候補に関するGWASの要約統計を入手しました（45）。これらには形態、代謝、免疫に関連する特性が含まれており、これらの表現型特性は気候、栄養、病原体の環境の変化に対する自然選択の応答の強力な候補となります。UK Biobankの効果サイズ（β）の推定に基づいて、SNPを「特性増加」または「特性減少」に分類しました。各SNPおよび集団ごとにselinkを使用してiHSを計算し、DAFの100のビンで標準化されたスコアを取得しました。その後、iHSを偏極化し、正のiHS値が特性減少アレルの方向性選択を示し、負のiHS値が特性増加アレルの方向性選択を示すようにしました。この結果の統計値を偏極化特性iHS（tiHS）と呼びました。"
   ]
  },
  {
   "cell_type": "markdown",
   "metadata": {},
   "source": [
    "For each trait, we assessed significance keeping only unlinked trait-associated variants (Supplementary Note 18). We then compared the mean tiHS of the x independent, trait-associated alleles with the mean tiHS of 100,000 random samples of x SNPs with similar DAF, genomic evolutionary rate profiling (GERP) score and surrounding recombination rate, to account for the effects of background selection. We considered that directional selection has increased (or decreased) a given trait if less than 2.5% (or 0.5%) of the resampled sets had a mean tiHS that is lower (or higher) than that observed. We adjusted P values for multiple testing with the Benjamini–Hochberg method. The false-positive rate of the approach at a P value of 2.5% (or 0.5%) was estimated by resampling (Supplementary Note 18).\n",
    "\n",
    ">各特性について、関連する変異が非連結である場合のみ（Supplementary Note 18を参照）、有意性を評価しました。その後、x個の独立した特性関連アレルの平均tiHSを、類似のDAF、ゲノミック進化率プロファイリング（GERP）スコア、および周囲の組換え率を持つx個のSNPの100,000のランダムサンプルの平均tiHSと比較し、バックグラウンド選択の影響を考慮しました。もし再サンプリングされたセットの中で2.5％未満（または0.5％未満）が観察された平均tiHSよりも低い（または高い）場合、特定の特性に対して方向性選択が増加（または減少）したと見なしました。多重比較のためにP値をBenjamini–Hochberg法で補正しました。この手法の偽陽性率は、P値が2.5％（または0.5％）の場合について、再サンプリングによって推定されました（Supplementary Note 18を参照）。"
   ]
  },
  {
   "cell_type": "markdown",
   "metadata": {},
   "source": [
    "Because this approach assumes that alleles affecting traits are the same in Oceanian and European populations and that they affect traits in the same direction, we used another approach, which tests for the co-localization of selection signals and trait-associated genomic regions. We partitioned the genome into 100-kb non-overlapping contiguous windows and considered a window to be associated with a trait if at least one SNP within the window was genome-wide significant (P < 5 × 10−8). For each window, we estimated the mean tiHS for each population. We then tested whether the mean tiHS of trait-associated windows was greater than that for a null distribution, obtained from 100,000 sets of randomly sampled windows, each set being matched to trait-associated windows in terms of mean GERP score, recombination rate, DAF and number of SNPs.\n",
    "\n",
    ">このアプローチは、特性に影響を与えるアレルがオセアニア人とヨーロッパ人の集団で同じであり、またこれらのアレルが同じ方向に特性に影響を与えると仮定しています。この仮定に疑問があるため、選択信号と特性に関連するゲノム領域の共ローカリゼーションを検証する別のアプローチを使用しました。ゲノムを100-kbの非重複の連続したウィンドウに分割し、ウィンドウ内の少なくとも1つのSNPがゲノム全体で有意な（P < 5 × 10^−8）場合、そのウィンドウを特性と関連付けました。各ウィンドウについて、各集団に対する平均tiHSを推定しました。そして、特性と関連するウィンドウの平均tiHSが、ランダムにサンプリングされたウィンドウのヌル分布よりも大きいかどうかを検定しました。ヌル分布は、GERPスコア、組換え率、DAF、およびSNPの数に関して特性に関連するウィンドウと一致するように、100,000セットのランダムにサンプリングされたウィンドウから取得しました。"
   ]
  },
  {
   "cell_type": "markdown",
   "metadata": {},
   "source": [
    "上記をまとめると以下の通り。\n",
    "\n",
    "【SNP-based approach】\n",
    "\n",
    "基本的な考え方：iHSによる自然選択検出\n",
    "1. GWASのサマリーを取得\n",
    "2. 推定された効果サイズに基づいてSNPを特性増加／減少に分類\n",
    "3. iHSを計算し、標準化する（standardized scores in 100 bins of DAF）\n",
    "4. iHSを方向付けする\n",
    "5. 有意性の評価\n",
    "6. バッググラウンド選択の影響を考慮（再サンプリング内容と比較）\n",
    "\n",
    "【window approach】\n",
    "\n",
    "目的：上記で評価はできるが、特性に影響を与えるアリルがオセアニア人とヨーロッパで同じで、同じ方向に影響すると仮定しているので、別のアプローチでも確かめる。\n",
    "\n",
    "1. ゲノムを100-kbの非重複の連続したウィンドウに分割\n",
    "2. ウィンドウ内の少なくとも1つのSNPがゲノム全体で有意な場合、そのウィンドウを特性と関連付け\n",
    "3. 各ウィンドウについて、各集団に対する平均tiHSを推定\n",
    "4. 特性と関連するウィンドウの平均tiHSが、ランダムにサンプリングされたウィンドウのヌル分布よりも大きいかどうかを検定。ヌル分布は、GERPスコア、組換え率、DAF、およびSNPの数に関して特性に関連するウィンドウと一致するように、100,000セットのランダムにサンプリングされたウィンドウから取得。"
   ]
  },
  {
   "cell_type": "markdown",
   "metadata": {},
   "source": [
    "#### Supplementary Note 18: Signals of Polygenic Adaptation"
   ]
  },
  {
   "cell_type": "markdown",
   "metadata": {},
   "source": [
    "##### Rationale"
   ]
  },
  {
   "cell_type": "markdown",
   "metadata": {},
   "source": [
    "Because the genetic architecture of most adaptive traits is expected to be polygenic151,152, we searched for evidence, in Pacific populations, of directional selection on candidate traits whose genetic architecture has been well described by genome-wide association studies (GWAS). Building upon previous work153,154, we used an approach that tests if the integrated haplotype scores (iHS) of trait-increasing alleles are significantly different from those of random SNPs with similar allele frequency. This approach does not rely on effect size estimates, which can be biased due to partial correction for population stratification, resulting in spurious signals of polygenic selection155,156. Instead, it relies on the assumption that alleles affecting traits are the same in Oceanians and Europeans, and, moreover, that these alleles affect traits in the same direction. In light of these assumptions, which are relatively strong, we used in parallel an independent approach that tests for the co-localization of selection signals and trait-associated genes; this window-based approach makes the assumption that the same genomic regions affect the traits of interest in all human populations. "
   ]
  },
  {
   "cell_type": "markdown",
   "metadata": {},
   "source": [
    ">多くの適応的特性の遺伝学的構造は、おおむね多遺伝子性であると予想されています（151,152）。そのため、太平洋地域の集団において、ゲノムワイド関連研究（GWAS）によって十分に説明された候補特性に対する方向性選択の証拠を探しました。以前の研究を基にして（153,154）、私たちは、特性を増加させるアレルの統合ハプロタイプスコア（iHS）が、類似のアレル頻度を持つランダムなSNPと有意に異なるかどうかを検証するアプローチを採用しました。このアプローチは、効果サイズの推定に依存せず、人口の層別化の部分的な補正によるバイアスの可能性があるため、効果サイズの推定に頼ることなく、効果サイズの推定に偏った信号を生じる可能性のある多遺伝子性選択の虚偽の信号を回避します（155,156）。代わりに、特性に影響を与えるアレルがオセアニア人とヨーロッパ人で同じであり、さらにこれらのアレルが特性に同じ方向に影響を与えるという仮定に依存しています。これらは比較的強力な仮定であるため、これに基づいている独立したアプローチも使用しました。このアプローチは、選択信号と特性に関連する遺伝子の共ローカリゼーションを検証します。このウィンドウベースのアプローチは、同じゲノム領域がすべての人類集団で興味を持つ特性に影響を与えるという仮定に依存しています。"
   ]
  },
  {
   "cell_type": "markdown",
   "metadata": {},
   "source": [
    "##### SNP-based approach"
   ]
  },
  {
   "cell_type": "markdown",
   "metadata": {},
   "source": [
    "Methods. \n",
    "\n",
    "We obtained GWAS summary statistics for 25 candidate traits from the UK Biobank database157 (http://www.nealelab.is/uk-biobank), which are less biased by population stratification than previous GWAS155,156. Traits were considered of interest if they are related to morphology, metabolism and immunity, as these phenotypes are strong candidates for responses, through natural selection, to changes in climatic, nutritional and pathogenic environments. We first classified SNPs as increasing or decreasing the candidate trait, based on the sign of UK Biobank effect sizes (β), considering a significance threshold of P-value ≤ 510-8 . A negative β indicates that the alternate allele is trait-decreasing, while a positive value indicates that it is trait-increasing. We thus changed the sign of β values when the alternative allele was ancestral (and the reference was derived), so that the sign of β values indicates the effect of the derived allele on the trait of interest. Next, we computed iHS (iHS = ln(iHHa/iHHd)) using selink (www.github.com/h-e-g/selink), for each SNP and population, and standardized scores in 100 bins of DAF. We then polarized iHS, following previous studies153,154, so that positive iHS indicates directional selection of the trait-decreasing allele, while negative iHS indicates directional selection of the trait-increasing allele. To do so, we simply changed the sign of iHS for the derived alleles with a negative β. We called the resulting statistic the polarized trait-iHS (tiHS). To test if a trait is under directional selection, we first kept, for each trait, trait-associated variants that are unlinked. Specifically, we partitioned the genome into 100-Kb nonoverlapping contiguous windows, and kept for each window the variant with the lowest association P-value. We then compared the mean tiHS of the x independent, trait-associated alleles to the mean tiHS of 100,000 random samples of x SNPs with similar DAF, Genomic Evolutionary Rate Profiling (GERP) score158, and surrounding recombination rate (based on 1000 Genomes phase 3 genetic map 43), to account for the effects of background selection. GERP, recombination rate and DAF were grouped into 8 bins. We considered that directional selection has increased (or decreased) the trait if less than 2.5% (or 0.05% or 0.005%) of the resampled sets have a mean tiHS that is lower (or higher) than the observed tiHS, which we considered as empirical P-values. We adjusted P-values for multiple testing with the Benjamini-Hochberg method, to account for the number of traits and populations tested. To estimate the FPR of our approach, we sampled 1,000 times x random genome-wide SNPs, x being the number of independent trait-associated alleles, and used the sampled SNPs as pseudo-data. We compared each of the 1,000 tiHS average values to a null distribution obtained by random sampling of x SNPs matched to pseudo-data. The FPR was estimated as the proportion, out of 1,000 pseudo-data, of tiHS average values that were within the 2.5%, 0.05% or 0.005% of the null distributions. We adjusted P-values for multiple testing with the Benjamini-Hochberg method, to account for the number of traits and\n",
    "populations tested. "
   ]
  },
  {
   "cell_type": "markdown",
   "metadata": {},
   "source": [
    ">UK Biobankデータベース（ http://www.nealelab.is/uk-biobank ）から25の候補特性に関するGWAS要約統計を入手しました。これらは、以前のGWAS155,156よりも人口の層別化に偏りが少ないものです。特性は形態、代謝、免疫に関連している場合に興味があると考え、これらの表現型は気候、栄養、病原体の環境の変化に対する自然選択の応答の強力な候補となります。最初に、SNPを増加または減少する候補特性として分類しました。これは、UK Biobankの効果サイズ（β）の符号に基づき、P値が≤ 5 x 10^(-8)の有意水準で考慮されました。負のβは、代替アレルが特性を減少させることを示し、正の値は特性を増加させることを示します。したがって、代替アレルが先祖的で（リファレンスが派生的である場合）、βの符号を変更し、βの値が派生アレルが対象の特性に与える影響を示すようにしました。次に、各SNPおよび集団ごとにselink（www.github.com/h-e-g/selink）を使用してiHS（iHS = ln(iHHa/iHHd)）を計算し、DAFの100のビンで標準化されたスコアを取得しました。その後、iHSを以前の研究153,154に従って偏極化し、正のiHSは特性を減少させるアレルの方向性選択を示し、負のiHSは特性を増加させるアレルの方向性選択を示すようにしました。これにより、得られた統計値を偏極化特性iHS（tiHS）と呼びました。特性が方向性選択の影響を受けているかどうかを検証するために、各特性ごとに非連結な特性関連変異を保持しました。具体的には、ゲノムを100-Kbの非重複の連続したウィンドウに分割し、各ウィンドウごとに最も低い関連P値を持つ変異を保持しました。次に、各ウィンドウの平均tiHSをx個の独立した特性関連アレルの平均tiHSと比較しました。この比較は、DAF、Genomic Evolutionary Rate Profiling（GERP）スコア、周囲の組換え率（1000 Genomesフェーズ3遺伝子地図43に基づく）が類似しているx個のSNPの100,000のランダムサンプルの平均tiHSとのものであり、バックグラウンド選択の影響を考慮しています。GERP、組換え率、DAFは8つのビンにグループ化されました。方向性選択が特性を増加させたか（または減少させたか）は、再サンプリングされたセットの中で観察されたtiHSよりも平均tiHSが低い（または高い）ものの割合が2.5％未満（または0.05％または0.005％未満）の場合と考えました。これを経験的P値としました。多重比較のためにP値をBenjamini-Hochberg法で調整し、試験された特性と集団の数を考慮しました。アプローチのFPRを推定するために、xが独立した特性関連アレルの数であるとして、1,000回x個のランダムなゲノム全体のSNPをサンプリングし、サンプリングされたSNPを擬似データとして使用しました。1,000のtiHS平均値のそれぞれを、擬似データに一致するx個のSNPのランダムサンプリングによって得られたヌル分布と比較しました。FPRは、1,000回の擬似データのうち、ヌル分布の2.5％、0.05％、または0.005％未満のtiHS平均値の割合として推定されました。多重比較のためにP値をBenjamini-Hochberg法で調整し、試験された特性と集団の数を考慮しました。"
   ]
  },
  {
   "cell_type": "markdown",
   "metadata": {},
   "source": [
    "Results. \n",
    "\n",
    "We first estimated the FPR of our approach, based on resampling. The maximum FPR was 0.1% at P-value = 510-3 and 0.4% at P-value = 2.510-2 (Supplementary Fig. 80), which were thus used as the significance thresholds in subsequent analyses. As a positive control, we searched for signals of polygenic adaptation in European populations, where such signals have been extensively studied153,155,156 . As expected, we found a signal of polygenic adaptation for lighter skin and hair pigmentation153 and no signals for increased height155,156 (Fig. 4b). We also identified a new signal for decreased cholesterol, which has not been previously reported. With respect to Pacific populations, we detected a signal for decreased BMI in Taiwanese indigenous peoples, and a unique, strong signal for decreased high-density lipoprotein (HDL) cholesterol in the Solomon Islands and the Vanuatu archipelago (Fig. 4b). Because some of the traits tested for polygenic adaptation are pleiotropic, it is difficult to identify the specific trait that is adaptive. For Europeans, 70% of SNPs associated with hair colour were also associated with skin colour, suggesting that the two traits are highly pleiotropic (Supplementary Fig. 81). For East Asians, 47% of the SNPs associated with hip circumference were also associated with waist circumference. However, for Oceanians, <7% of variants associated with HDL levels were associated with other candidate traits, suggesting that pleiotropy plays a minor role in explaining these signals. Together, these findings support the occurrence of polygenic adaptation related to lipid metabolism in Oceanians, possibly in response to long-term fish consumption159. "
   ]
  },
  {
   "cell_type": "markdown",
   "metadata": {},
   "source": [
    ">まず、再サンプリングに基づいてアプローチのFPRを推定しました。最大のFPRはP値=5×10^(-3)で0.1%、P値=2.5×10^(-2)で0.4%でした（Supplementary Fig. 80）。これらは後続の解析での有意水準として使用されました。陽性対照として、既に広く研究されているヨーロッパ人集団での多遺伝子適応の信号を探索しました153,155,156。期待通り、肌と髪の色の多遺伝子適応の信号が見つかりました153が、身長の増加に関する信号は見つかりませんでした155,156（Fig. 4b）。また、以前に報告されていないコレステロール低下の新しい信号も特定しました。太平洋地域の集団に関しては、台湾先住民のBMI低下の信号と、ソロモン諸島とバヌアツ諸島での高密度リポタンパク質（HDL）コレステロール低下の独自で強力な信号が検出されました（Fig. 4b）。一部の多遺伝子適応を検証した特性はプレオトロピックであるため、具体的な適応的な特性を特定するのは難しいです。ヨーロッパ人においては、髪の色に関連するSNPの70%が肌の色にも関連していることから、これらの2つの特性は高度にプレオトロピックであると示唆されています（Supplementary Fig. 81）。東アジア人においては、ヒップ周囲長に関連するSNPの47%がウエスト周囲長にも関連しています。しかし、オセアニア人においては、HDLレベルに関連する変異の<7%が他の候補特性と関連していることから、プレオトロピーはこれらの信号を説明する上で小さな役割を果たしていると考えられます。これらの結果は、太平洋地域の集団において脂質代謝に関連する多遺伝子適応が発生している可能性を支持しています。これはおそらく、長期間にわたる魚の摂取に対する応答としています159。"
   ]
  },
  {
   "cell_type": "markdown",
   "metadata": {},
   "source": [
    "##### Window-based approach"
   ]
  },
  {
   "cell_type": "markdown",
   "metadata": {},
   "source": [
    "Methods. \n",
    "\n",
    "To statistically test if genes associated with a trait are preferential targets of positive selection, we first kept, for each trait, trait-associated variants that are unlinked. To do so, we partitioned the genome into 100-Kb non-overlapping contiguous windows and kept, for each window, only the variant with the lowest association P-value. We considered a window to be associated with a trait if at least one SNP within the window shows a P-value < 510-8. For each window, we estimated the mean tiHS for each population (see previous section) and calculated the mean GERP score158, the mean recombination rate, the mean DAF and the number of SNPs per window. We then tested if the mean tiHS of traitassociated windows is higher than a null distribution, obtained from 100,000 sets of randomly-sampled windows, each set being matched to trait-associated windows in terms of GERP scores, recombination rate, DAF and number of SNPs. GERP, recombination rate and DAF were grouped into 8 bins. We calculated a P-value for each trait as the number of resamples, out of 100,000 resamples, where the mean tiHS was lower (or higher) than that observed for the trait-associated windows. We adjusted P-values for multiple testing with the Benjamini-Hochberg method, to account for the number of traits and populations tested."
   ]
  },
  {
   "cell_type": "markdown",
   "metadata": {},
   "source": [
    ">特性と関連する遺伝子が陽性選択の優先的な標的であるかを統計的に検証するために、まず各特性について非連結の特性関連変異を保持しました。これには、ゲノムを100-Kbの非重複の連続したウィンドウに分割し、各ウィンドウごとに最も低い関連P値を持つ変異のみを保持しました。ウィンドウ内の少なくとも1つのSNPがP値<5×10^(-8)を示す場合、そのウィンドウを特性に関連していると見なしました。各ウィンドウについて、各集団ごとの平均tiHS（前述のセクション参照）を推定し、平均GERPスコア、平均組換え率、平均DAF、およびウィンドウごとのSNPの数を計算しました。次に、特性関連ウィンドウの平均tiHSが、GERPスコア、組換え率、DAF、およびSNPの数に関して特性関連ウィンドウと一致するように100,000組のランダムにサンプリングされたウィンドウのヌル分布よりも高いかどうかを検定しました。GERP、組換え率、DAFは8つのビンにグループ化されました。各特性について、特性関連ウィンドウの平均tiHSが観察されたものよりも低い（または高い）場合のリサンプリングの回数をP値として計算しました。多重検定のためにP値をBenjamini-Hochberg法で調整し、試験された特性および集団の数を考慮しました。"
   ]
  },
  {
   "cell_type": "markdown",
   "metadata": {},
   "source": [
    "Results. \n",
    "\n",
    "To relax the assumption that alleles affecting traits are the same in Oceanians and Europeans, we used another approach that tests for the co-localization of selection signals and trait-associated genes; this window-based approach assumes that the same genomic regions affect the traits of interest in all human populations. At a significance threshold of Pvalue < 0.005, we replicated a signal for decreased skin and hair colour in Europeans (Supplementary Fig. 82). With respect to the SNP-based approach, the window-based approach detected several additional signals, which may suggest either higher power, because trait-associated SNPs are actually not portable in Pacific populations, or stronger effects of pleiotropy, because genomic windows supposed to be trait-associated have not been associated per se with the trait of interest. Conversely, some of the strongest signals detected using the SNP-based approach (e.g., HDL in Vanuatu, Santa Cruz and Solomon Islands) were not significant when using the window-based approach, suggesting reduced power. Importantly, the polygenic adaptation signal for HDL cholesterol in Oceanians was replicated when decreasing the size of genomic windows (P-value < 0.05), suggesting that local signatures of positive selection are too weak to be detected when using 100-kb genomic windows. Among signals that were not detected with the SNP approach, we found signals related to blood pressure; specifically, lower systolic blood pressure in PNG, higher diastolic blood pressure in East Asians, and lower diastolic blood pressure in the Philippine Agta. We also detected a signal for decreased hip and waist circumference, increased hair pigmentation, and increased age at last reproduction in East Asian-related groups. GWAS of morphological and life-history traits in Pacific populations, which are largely underrepresented in genomics research, are required to confirm these results."
   ]
  },
  {
   "cell_type": "markdown",
   "metadata": {},
   "source": [
    ">特性に影響を与えるアレルがオセアニア人とヨーロッパ人で同じであるという仮定を緩和するために、選択信号と特性に関連する遺伝子の共ローカリゼーションを検証する別のアプローチを使用しました。このウィンドウベースのアプローチは、同じゲノム領域がすべての人類集団で興味を持つ特性に影響を与えると仮定しています。有意水準がP値<0.005の場合、ヨーロッパ人で皮膚と髪の色が低下する信号を再現しました（Supplementary Fig. 82）。SNPベースのアプローチに比べて、ウィンドウベースのアプローチはいくつかの追加の信号を検出しました。これは、太平洋地域の集団において、特性関連のSNPが実際には移植可能ではないか、または関連する特性と見なされるはずのゲノムウィンドウが特定の特性と直接関連付けられていないためかもしれません。逆に、SNPベースのアプローチを使用したときに最も強力な信号のいくつか（例：Vanuatu、Santa Cruz、Solomon IslandsでのHDL）は、ウィンドウベースのアプローチを使用すると有意ではありませんでした。これは、パワーが低下している可能性を示唆しています。重要なことに、オセアニア人のHDLコレステロールの多遺伝子適応の信号は、ゲノムウィンドウのサイズを減少させた場合にも再現されました（P値<0.05）。これは、100-kbのゲノムウィンドウを使用すると、局所的な正の選択の兆候が検出されるほど弱い可能性があることを示唆しています。SNPアプローチでは検出されなかった信号の中には、血圧に関連する信号がありました。具体的には、PNGでの収縮期血圧の低下、東アジア人での拡張期血圧の上昇、フィリピンのAgtaでの拡張期血圧の低下がありました。また、東アジア関連の集団でのヒップとウエスト周囲長の低下、髪の色素沈着の増加、最後の繁殖年齢の増加に関連する信号も検出しました。これらの結果を確認するために、太平洋地域の集団における形態と生活史の特性のGWASが必要です。"
   ]
  },
  {
   "cell_type": "markdown",
   "metadata": {},
   "source": [
    "##### 解析フローについてまとめ（・わからないところの洗い出し）\n",
    "\n",
    "1. GWASサマリーの入手：効果サイズ（beta）の符号で増加／減少を判断する\n",
    "2. iHSの計算\n",
    "3. standardized scores in 100 bins of DAF\n",
    "\n",
    "    過去の研究にしたがって、と出されている先行研究\n",
    "    >Speidel, L., Forest, M., Shi, S. et al. A method for genome-wide genealogy estimation for thousands of samples. Nat Genet 51, 1321–1329 (2019). https://doi-org.utokyo.idm.oclc.org/10.1038/s41588-019-0484-x\n",
    "    \n",
    "    >Yair Field et al. ,Detection of human adaptation during the past 2000 years.Science354,760-764(2016).DOI:10.1126/science.aag0776\n",
    "\n",
    "    *標準化はわかるけどin 100 bins of DAFってなんだ？*\n",
    "\n",
    "4. DAF、GERPスコア、周囲の組換え率（1000 Genomesフェーズ3遺伝子地図43に基づく）が類似しているx個のSNPの100,000のランダムサンプルの平均tiHSとの比較\n",
    "\n",
    "    GERPスコアはこれ\n",
    "    >Cooper GM, Stone EA, Asimenos G; NISC Comparative Sequencing Program; Green ED, Batzoglou S, Sidow A. Distribution and intensity of constraint in mammalian genomic sequence. Genome Res. 2005 Jul;15(7):901-13. doi: 10.1101/gr.3577405. Epub 2005 Jun 17. PMID: 15965027; PMCID: PMC1172034.\n",
    "\n",
    "    *具体的に何をしたら良いかわからんな*"
   ]
  },
  {
   "cell_type": "markdown",
   "metadata": {},
   "source": [
    "**これはおとなしく聞いた方が良さそうだぞい**"
   ]
  }
 ],
 "metadata": {
  "kernelspec": {
   "display_name": "Bash",
   "language": "bash",
   "name": "bash"
  },
  "language_info": {
   "name": "bash"
  }
 },
 "nbformat": 4,
 "nbformat_minor": 2
}
