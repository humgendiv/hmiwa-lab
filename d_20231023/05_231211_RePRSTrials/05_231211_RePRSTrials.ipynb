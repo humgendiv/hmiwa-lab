{
 "cells": [
  {
   "cell_type": "markdown",
   "metadata": {},
   "source": [
    "# 05_231211_RePRSTrials\n",
    "\n",
    "### 主目的\n",
    "\n",
    "Tonga集団のサンプルを用いて倹約遺伝子仮説を検討する。\n",
    "\n",
    "1. 過去のPRSを推定する：今回はその前段階として現在ベースでPRSを推定する。\n",
    "2. ポリジェニックセレクションの検討：これから（まず手法をもう一度チェック！）"
   ]
  },
  {
   "cell_type": "markdown",
   "metadata": {},
   "source": [
    "### 実行にあたって\n",
    "\n",
    "Tonga集団のデータを用いてPRSを計算したい。が、いま手元に彼らの身長や体重に関するデータがないことがわかった。\n",
    "\n",
    "とりあえずその前段階として遺伝統計学夏の学校2023の実習を再現してみる。"
   ]
  },
  {
   "cell_type": "markdown",
   "metadata": {},
   "source": [
    "### 遺伝統計学夏の学校2023【QC以降の手順確認】\n",
    "\n",
    "まずはデータファイルをダウンロード・解凍する。"
   ]
  },
  {
   "cell_type": "code",
   "execution_count": 2,
   "metadata": {
    "vscode": {
     "languageId": "shellscript"
    }
   },
   "outputs": [],
   "source": [
    "mkdir -p ~/hmiwa1/storage/hmiwa-lab/05_231211_RePRSTrials\n",
    "cd ~/hmiwa1/storage/hmiwa-lab/05_231211_RePRSTrials\n",
    "ls"
   ]
  },
  {
   "cell_type": "code",
   "execution_count": 3,
   "metadata": {
    "vscode": {
     "languageId": "shellscript"
    }
   },
   "outputs": [
    {
     "name": "stdout",
     "output_type": "stream",
     "text": [
      "--2023-12-11 17:12:43--  http://www.sg.med.osaka-u.ac.jp/files/StatGenSummerSchool2023_GenomeDataAnalysis5.zip\n",
      "Resolving www.sg.med.osaka-u.ac.jp (www.sg.med.osaka-u.ac.jp)... 133.1.138.171\n",
      "Connecting to www.sg.med.osaka-u.ac.jp (www.sg.med.osaka-u.ac.jp)|133.1.138.171|:80... connected.\n",
      "HTTP request sent, awaiting response... 200 OK\n",
      "Length: 185582439 (177M) [application/zip]\n",
      "Saving to: ‘StatGenSummerSchool2023_GenomeDataAnalysis5.zip’\n",
      "\n",
      "StatGenSummerSchool 100%[===================>] 176.98M  21.6MB/s    in 6.9s    \n",
      "\n",
      "2023-12-11 17:12:50 (25.8 MB/s) - ‘StatGenSummerSchool2023_GenomeDataAnalysis5.zip’ saved [185582439/185582439]\n",
      "\n",
      "StatGenSummerSchool2023_GenomeDataAnalysis5.zip\n"
     ]
    }
   ],
   "source": [
    "wget http://www.sg.med.osaka-u.ac.jp/files/StatGenSummerSchool2023_GenomeDataAnalysis5.zip\n",
    "ls"
   ]
  },
  {
   "cell_type": "code",
   "execution_count": 6,
   "metadata": {
    "vscode": {
     "languageId": "shellscript"
    }
   },
   "outputs": [
    {
     "name": "stdout",
     "output_type": "stream",
     "text": [
      "Archive:  StatGenSummerSchool2023_GenomeDataAnalysis5.zip\n",
      "   creating: StatGenSummerSchool2023_GenomeDataAnalysis5/\n",
      "   creating: StatGenSummerSchool2023_GenomeDataAnalysis5/PRSice/\n",
      "   creating: StatGenSummerSchool2023_GenomeDataAnalysis5/PRSice/Input/\n"
     ]
    },
    {
     "name": "stdout",
     "output_type": "stream",
     "text": [
      "  inflating: StatGenSummerSchool2023_GenomeDataAnalysis5/PRSice/Input/1KG_EUR_QC.bed  \n",
      "  inflating: StatGenSummerSchool2023_GenomeDataAnalysis5/PRSice/Input/1KG_EUR_QC.bim  \n",
      "  inflating: StatGenSummerSchool2023_GenomeDataAnalysis5/PRSice/Input/1KG_EUR_QC.fam  \n",
      "  inflating: StatGenSummerSchool2023_GenomeDataAnalysis5/PRSice/Input/phenotype_RA.txt  \n",
      "  inflating: StatGenSummerSchool2023_GenomeDataAnalysis5/PRSice/Input/RA_GWASmeta_European_PRSise.txt.gz  \n",
      "   creating: StatGenSummerSchool2023_GenomeDataAnalysis5/PRSice/Output/\n",
      "  inflating: StatGenSummerSchool2023_GenomeDataAnalysis5/PRSice/Output/1KG_EUR-RAGWAS-PRSboxplot.png  \n",
      "  inflating: StatGenSummerSchool2023_GenomeDataAnalysis5/PRSice/Output/1KG_EUR-RAGWAS.best  \n",
      "  inflating: StatGenSummerSchool2023_GenomeDataAnalysis5/PRSice/Output/1KG_EUR-RAGWAS.best.txt  \n",
      "  inflating: StatGenSummerSchool2023_GenomeDataAnalysis5/PRSice/Output/1KG_EUR-RAGWAS.log  \n",
      "  inflating: StatGenSummerSchool2023_GenomeDataAnalysis5/PRSice/Output/1KG_EUR-RAGWAS.prsice  \n",
      "  inflating: StatGenSummerSchool2023_GenomeDataAnalysis5/PRSice/Output/1KG_EUR-RAGWAS.summary  \n",
      "  inflating: StatGenSummerSchool2023_GenomeDataAnalysis5/PRSice/Output/1KG_EUR-RAGWAS_BARPLOT_2019-08-25.png  \n",
      "  inflating: StatGenSummerSchool2023_GenomeDataAnalysis5/PRSice/Output/1KG_EUR-RAGWAS_BARPLOT_2021-07-14.png  \n",
      "  inflating: StatGenSummerSchool2023_GenomeDataAnalysis5/PRSice/Output/1KG_EUR-RAGWAS_HIGH-RES_PLOT_2019-08-25.png  \n",
      "  inflating: StatGenSummerSchool2023_GenomeDataAnalysis5/PRSice/Output/1KG_EUR-RAGWAS_HIGH-RES_PLOT_2021-07-14.png  \n",
      "  inflating: StatGenSummerSchool2023_GenomeDataAnalysis5/PRSice/Output/1KG_EUR_Sample.txt  \n",
      "  inflating: StatGenSummerSchool2023_GenomeDataAnalysis5/PRSice/Output/PlotPRSice.R  \n",
      "  inflating: StatGenSummerSchool2023_GenomeDataAnalysis5/PRSice/PRSice.R  \n",
      "  inflating: StatGenSummerSchool2023_GenomeDataAnalysis5/PRSice/PRsice_Command.txt  \n",
      "  inflating: StatGenSummerSchool2023_GenomeDataAnalysis5/PRSice/PRsice_Command_cygwin.txt  \n",
      "  inflating: StatGenSummerSchool2023_GenomeDataAnalysis5/PRSice/PRsice_Command_mac.txt  \n",
      "  inflating: StatGenSummerSchool2023_GenomeDataAnalysis5/PRSice/PRSice_linux  \n",
      "  inflating: StatGenSummerSchool2023_GenomeDataAnalysis5/PRSice/PRSice_linux.R  \n",
      "  inflating: StatGenSummerSchool2023_GenomeDataAnalysis5/PRSice/PRSice_mac  \n",
      "  inflating: StatGenSummerSchool2023_GenomeDataAnalysis5/PRSice/PRSice_mac.R  \n",
      "  inflating: StatGenSummerSchool2023_GenomeDataAnalysis5/PRSice/PRSice_win64.exe  \n",
      "  inflating: StatGenSummerSchool2023_GenomeDataAnalysis5/StatGenSummerSchool2023_GenomeDataAnalysis5.pdf  \n"
     ]
    }
   ],
   "source": [
    "unzip StatGenSummerSchool2023_GenomeDataAnalysis5.zip"
   ]
  },
  {
   "cell_type": "code",
   "execution_count": 7,
   "metadata": {
    "vscode": {
     "languageId": "shellscript"
    }
   },
   "outputs": [
    {
     "name": "stdout",
     "output_type": "stream",
     "text": [
      "StatGenSummerSchool2023_GenomeDataAnalysis5\n",
      "StatGenSummerSchool2023_GenomeDataAnalysis5.zip\n"
     ]
    }
   ],
   "source": [
    "ls"
   ]
  },
  {
   "cell_type": "code",
   "execution_count": 8,
   "metadata": {
    "vscode": {
     "languageId": "shellscript"
    }
   },
   "outputs": [
    {
     "name": "stdout",
     "output_type": "stream",
     "text": [
      "PRSice  StatGenSummerSchool2023_GenomeDataAnalysis5.pdf\n"
     ]
    }
   ],
   "source": [
    "ls StatGenSummerSchool2023_GenomeDataAnalysis5"
   ]
  },
  {
   "cell_type": "code",
   "execution_count": 9,
   "metadata": {
    "vscode": {
     "languageId": "shellscript"
    }
   },
   "outputs": [
    {
     "name": "stdout",
     "output_type": "stream",
     "text": [
      "Input                      PRsice_Command.txt  PRSice_mac.R\n",
      "Output                     PRSice_linux        PRSice.R\n",
      "PRsice_Command_cygwin.txt  PRSice_linux.R      PRSice_win64.exe\n",
      "PRsice_Command_mac.txt     PRSice_mac\n"
     ]
    }
   ],
   "source": [
    "ls StatGenSummerSchool2023_GenomeDataAnalysis5/PRSice"
   ]
  },
  {
   "cell_type": "code",
   "execution_count": 10,
   "metadata": {
    "vscode": {
     "languageId": "shellscript"
    }
   },
   "outputs": [
    {
     "name": "stdout",
     "output_type": "stream",
     "text": [
      "1KG_EUR_QC.bed  1KG_EUR_QC.fam    RA_GWASmeta_European_PRSise.txt.gz\n",
      "1KG_EUR_QC.bim  phenotype_RA.txt\n",
      "1KG_EUR-RAGWAS_BARPLOT_2019-08-25.png        1KG_EUR-RAGWAS.log\n",
      "1KG_EUR-RAGWAS_BARPLOT_2021-07-14.png        1KG_EUR-RAGWAS-PRSboxplot.png\n",
      "1KG_EUR-RAGWAS.best                          1KG_EUR-RAGWAS.prsice\n",
      "1KG_EUR-RAGWAS.best.txt                      1KG_EUR-RAGWAS.summary\n",
      "1KG_EUR-RAGWAS_HIGH-RES_PLOT_2019-08-25.png  1KG_EUR_Sample.txt\n",
      "1KG_EUR-RAGWAS_HIGH-RES_PLOT_2021-07-14.png  PlotPRSice.R\n"
     ]
    }
   ],
   "source": [
    "ls StatGenSummerSchool2023_GenomeDataAnalysis5/PRSice/Input\n",
    "ls StatGenSummerSchool2023_GenomeDataAnalysis5/PRSice/Output"
   ]
  },
  {
   "cell_type": "markdown",
   "metadata": {},
   "source": [
    "#### 入力ファイルの確認"
   ]
  },
  {
   "cell_type": "code",
   "execution_count": 11,
   "metadata": {
    "vscode": {
     "languageId": "shellscript"
    }
   },
   "outputs": [
    {
     "name": "stdout",
     "output_type": "stream",
     "text": [
      "1KG_EUR_QC.bed  1KG_EUR_QC.fam    RA_GWASmeta_European_PRSise.txt.gz\n",
      "1KG_EUR_QC.bim  phenotype_RA.txt\n"
     ]
    }
   ],
   "source": [
    "ls StatGenSummerSchool2023_GenomeDataAnalysis5/PRSice/Input"
   ]
  },
  {
   "cell_type": "code",
   "execution_count": 15,
   "metadata": {
    "vscode": {
     "languageId": "shellscript"
    }
   },
   "outputs": [
    {
     "name": "stdout",
     "output_type": "stream",
     "text": [
      "SNP\tCHR\tBP\tA1\tA2\tP\tOR\n",
      "chr1:751343\t1\t751343\tA\tT\t0.01\t0.85\n",
      "chr1:751756\t1\t751756\tT\tC\t0.01\t1.17\n",
      "rs3094315\t1\t752566\tA\tG\t0.0093\t1.14\n",
      "rs3131972\t1\t752721\tA\tG\t0.009\t0.88\n",
      "rs3131971\t1\t752894\tT\tC\t0.01\t0.87\n",
      "chr1:753405\t1\t753405\tA\tC\t0.01\t1.17\n",
      "chr1:753425\t1\t753425\tT\tC\t0.0097\t0.87\n",
      "rs2073814\t1\t753474\tG\tC\t0.009\t1.14\n",
      "rs2073813\t1\t753541\tA\tG\t0.0095\t0.85\n",
      "\n",
      "gzip: stdout: Broken pipe\n"
     ]
    }
   ],
   "source": [
    "zcat StatGenSummerSchool2023_GenomeDataAnalysis5/PRSice/Input/RA_GWASmeta_European_PRSise.txt.gz | head -n 10"
   ]
  },
  {
   "cell_type": "code",
   "execution_count": 16,
   "metadata": {
    "vscode": {
     "languageId": "shellscript"
    }
   },
   "outputs": [
    {
     "name": "stdout",
     "output_type": "stream",
     "text": [
      "HG00096\tHG00096\t2\n",
      "HG00097\tHG00097\t1\n",
      "HG00099\tHG00099\t1\n",
      "HG00100\tHG00100\t1\n",
      "HG00101\tHG00101\t2\n",
      "HG00102\tHG00102\t2\n",
      "HG00103\tHG00103\t1\n",
      "HG00104\tHG00104\t1\n",
      "HG00106\tHG00106\t1\n",
      "HG00108\tHG00108\t1\n"
     ]
    }
   ],
   "source": [
    "cat StatGenSummerSchool2023_GenomeDataAnalysis5/PRSice/Input/phenotype_RA.txt | head -n 10"
   ]
  },
  {
   "cell_type": "markdown",
   "metadata": {},
   "source": [
    "#### PRS解析の実行"
   ]
  },
  {
   "cell_type": "code",
   "execution_count": 4,
   "metadata": {
    "vscode": {
     "languageId": "shellscript"
    }
   },
   "outputs": [
    {
     "name": "stdout",
     "output_type": "stream",
     "text": [
      "Input     PRsice_Command_cygwin.txt  PRSice_linux.R  PRSice_win64.exe\n",
      "lib       PRsice_Command_mac.txt     PRSice_mac\n",
      "Output    PRsice_Command.txt         PRSice_mac.R\n",
      "Output_2  PRSice_linux               PRSice.R\n"
     ]
    }
   ],
   "source": [
    "cd ~/hmiwa1/storage/hmiwa-lab/05_231211_RePRSTrials/StatGenSummerSchool2023_GenomeDataAnalysis5/PRSice\n",
    "mkdir -p Output_2\n",
    "touch Output_2/.gitkeep\n",
    "ls"
   ]
  },
  {
   "cell_type": "code",
   "execution_count": 26,
   "metadata": {
    "vscode": {
     "languageId": "shellscript"
    }
   },
   "outputs": [
    {
     "name": "stdout",
     "output_type": "stream",
     "text": [
      "\u001b[?25h\u001b[?25h\u001b[?25h\u001b[?25h\u001b[?25h\u001b[?25h\u001b[?25h\u001b[?25h\u001b[?25h\u001b[?25h\u001b[?25h\u001b[?25h\u001b[?25h\u001b[?25h\u001b[?25h\u001b[?25h\u001b[?25h\u001b[?25hPRSice 2.3.3 (2020-08-05) \n",
      "https://github.com/choishingwan/PRSice\n",
      "(C) 2016-2020 Shing Wan (Sam) Choi and Paul F. O'Reilly\n",
      "GNU General Public License v3\n",
      "If you use PRSice in any published work, please cite:\n",
      "Choi SW, O'Reilly PF.\n",
      "PRSice-2: Polygenic Risk Score Software for Biobank-Scale Data.\n",
      "GigaScience 8, no. 7 (July 1, 2019)\n",
      "2023-12-11 18:02:59\n",
      "./PRSice_linux \\\n",
      "    --a1 A1 \\\n",
      "    --a2 A2 \\\n",
      "    --bar-levels 0.001,0.05,0.1,0.2,0.3,0.4,0.5,1 \\\n",
      "    --base ./Input/RA_GWASmeta_European_PRSise.txt.gz \\\n",
      "    --binary-target T \\\n",
      "    --bp BP \\\n",
      "    --chr CHR \\\n",
      "    --clump-kb 250kb \\\n",
      "    --clump-p 1.000000 \\\n",
      "    --clump-r2 0.100000 \\\n",
      "    --interval 5e-05 \\\n",
      "    --lower 5e-08 \\\n",
      "    --num-auto 22 \\\n",
      "    --or  \\\n",
      "    --out ./Output_2/1KG_EUR-RAGWAS \\\n",
      "    --pheno ./Input/phenotype_RA.txt \\\n",
      "    --pvalue P \\\n",
      "    --seed 1452368063 \\\n",
      "    --snp SNP \\\n",
      "    --stat OR \\\n",
      "    --target ./Input/1KG_EUR_QC \\\n",
      "    --thread 1 \\\n",
      "    --upper 0.5\n",
      "\n",
      "Initializing Genotype file: ./Input/1KG_EUR_QC (bed) \n",
      "\n",
      "Start processing RA_GWASmeta_European_PRSise.txt \n",
      "================================================== \n",
      "\n",
      "Base file: ./Input/RA_GWASmeta_European_PRSise.txt.gz \n",
      "GZ file detected. Header of file is: \n",
      "SNP\tCHR\tBP\tA1\tA2\tP\tOR \n",
      "\n",
      "Reading 100.00%\n",
      "8747962 variant(s) observed in base file, with: \n",
      "233352 variant(s) located on haploid chromosome \n",
      "1307525 ambiguous variant(s) excluded \n",
      "7207085 total variant(s) included from base file \n",
      "\n",
      "Loading Genotype info from target \n",
      "================================================== \n",
      "\n",
      "381 people (178 male(s), 203 female(s)) observed \n",
      "381 founder(s) included \n",
      "\n",
      "409223 variant(s) not found in previous data \n",
      "939895 variant(s) included \n",
      "\n",
      "Phenotype file: ./Input/phenotype_RA.txt \n",
      "Column Name of Sample ID: HG00096+HG00096 \n",
      "Note: If the phenotype file does not contain a header, the \n",
      "column name will be displayed as the Sample ID which is \n",
      "expected. \n",
      "\n",
      "There are a total of 1 phenotype to process \n",
      "\n",
      "Start performing clumping \n",
      "\n",
      "Clumping Progress: 100.00%\n",
      "Number of variant(s) after clumping : 150661 \n",
      "\n",
      "Processing the 1 th phenotype \n",
      "\n",
      "Phenotype is a binary phenotype \n",
      "189 control(s) \n",
      "192 case(s) \n",
      "\n",
      "\n",
      "Start Processing\n",
      "Processing 100.00%\n",
      "There are 1 region(s) with p-value between 0.1 and 1e-5 \n",
      "(\u001b[1;31mmay not be significant\u001b[0m). \n",
      "\n",
      "\u001b[?25hBegin plotting\n",
      "\u001b[?25hCurrent Rscript version = 2.3.3\n",
      "\u001b[?25h\u001b[?25h\u001b[?25h\u001b[?25h\u001b[?25h\u001b[?25h\u001b[?25h\u001b[?25h\u001b[?25h\u001b[?25h\u001b[?25h\u001b[?25h\u001b[?25h\u001b[?25h\u001b[?25h\u001b[?25h\u001b[?25h\u001b[?25h\u001b[?25h\u001b[?25h\u001b[?25h\u001b[?25h\u001b[?25h\u001b[?25h\u001b[?25h\u001b[?25h\u001b[?25h\u001b[?25h\u001b[?25h\u001b[?25h\u001b[?25h\u001b[?25h\u001b[?25h\u001b[?25h\u001b[?25h\u001b[?25h\u001b[?25h\u001b[?25h\u001b[?25h\u001b[?25h\u001b[?25h\u001b[?25h\u001b[?25h\u001b[?25h\u001b[?25h\u001b[?25h\u001b[?25h\u001b[?25h\u001b[?25h\u001b[?25h\u001b[?25h\u001b[?25h\u001b[?25h\u001b[?25h\u001b[?25hPlotting Bar Plot\n",
      "Plotting the high resolution plot\n",
      "\u001b[?25h\u001b[?25h\n"
     ]
    }
   ],
   "source": [
    "Rscript PRSice_linux.R \\\n",
    "--prsice PRSice_linux \\\n",
    "--dir . \\\n",
    "--out ./Output_2/1KG_EUR-RAGWAS \\\n",
    "--base ./Input/RA_GWASmeta_European_PRSise.txt.gz \\\n",
    "--target ./Input/1KG_EUR_QC \\\n",
    "--pheno ./Input/phenotype_RA.txt \\\n",
    "--thread 1 \\\n",
    "--stat OR \\\n",
    "--binary-target T"
   ]
  },
  {
   "cell_type": "markdown",
   "metadata": {},
   "source": [
    "#### Output結果の確認"
   ]
  },
  {
   "cell_type": "code",
   "execution_count": 27,
   "metadata": {
    "vscode": {
     "languageId": "shellscript"
    }
   },
   "outputs": [
    {
     "name": "stdout",
     "output_type": "stream",
     "text": [
      "1KG_EUR-RAGWAS_BARPLOT_2023-12-11.png        1KG_EUR-RAGWAS.log\n",
      "1KG_EUR-RAGWAS.best                          1KG_EUR-RAGWAS.prsice\n",
      "1KG_EUR-RAGWAS_HIGH-RES_PLOT_2023-12-11.png  1KG_EUR-RAGWAS.summary\n"
     ]
    }
   ],
   "source": [
    "ls Output_2"
   ]
  },
  {
   "cell_type": "code",
   "execution_count": 28,
   "metadata": {
    "vscode": {
     "languageId": "shellscript"
    }
   },
   "outputs": [
    {
     "name": "stdout",
     "output_type": "stream",
     "text": [
      "Pheno\tSet\tThreshold\tR2\tP\tCoefficient\tStandard.Error\tNum_SNP\n",
      "-\tBase\t5e-08\t0.0122466\t0.0629842\t12.6059\t6.77991\t257\n",
      "-\tBase\t5.005e-05\t0.0126982\t0.0583659\t22.8194\t12.055\t479\n",
      "-\tBase\t0.00010005\t0.01382\t0.0484141\t27.829\t14.0998\t561\n",
      "-\tBase\t0.00015005\t0.0139415\t0.0474483\t30.2877\t15.2792\t611\n",
      "-\tBase\t0.00020005\t0.0143518\t0.0443525\t33.0976\t16.4604\t658\n",
      "-\tBase\t0.00025005\t0.0146751\t0.0420519\t35.1525\t17.2909\t691\n",
      "-\tBase\t0.00030005\t0.015445\t0.0370909\t37.9226\t18.1904\t729\n",
      "-\tBase\t0.00035005\t0.0160981\t0.0333494\t41.2045\t19.3644\t778\n",
      "-\tBase\t0.00040005\t0.0162487\t0.0325501\t43.4408\t20.3223\t817\n"
     ]
    }
   ],
   "source": [
    "head Output_2/1KG_EUR-RAGWAS.prsice"
   ]
  },
  {
   "cell_type": "code",
   "execution_count": 29,
   "metadata": {
    "vscode": {
     "languageId": "shellscript"
    }
   },
   "outputs": [
    {
     "name": "stdout",
     "output_type": "stream",
     "text": [
      "Phenotype\tSet\tThreshold\tPRS.R2\tFull.R2\tNull.R2\tPrevalence\tCoefficient\tStandard.Error\tP\tNum_SNP\n",
      "-\tBase\t0.46\t0.0512432\t0.0512432\t0\t-\t5081.42\t1356.18\t0.000179058\t101385\n"
     ]
    }
   ],
   "source": [
    "head Output_2/1KG_EUR-RAGWAS.summary"
   ]
  },
  {
   "cell_type": "code",
   "execution_count": 30,
   "metadata": {
    "vscode": {
     "languageId": "shellscript"
    }
   },
   "outputs": [],
   "source": [
    "#画像表示準備\n",
    "mkdir -p ~/hmiwa/hmiwa-lab/d_20231023/05_231211_RePRSTrials/pic\n",
    "cp Output_2/*.png ~/hmiwa/hmiwa-lab/d_20231023/05_231211_RePRSTrials/pic/"
   ]
  },
  {
   "cell_type": "markdown",
   "metadata": {},
   "source": [
    "【1KG_EUR-RAGWAS_BARPLOT_2023-12-11.png（左）】【1KG_EUR-RAGWAS_BARPLOT_2023-12-11.png（右）】\n",
    "\n",
    "<img src=\"pic/1KG_EUR-RAGWAS_BARPLOT_2023-12-11.png\" width=\"49%\">\n",
    "<img src=\"pic/1KG_EUR-RAGWAS_HIGH-RES_PLOT_2023-12-11.png\" width=\"49%\">"
   ]
  },
  {
   "cell_type": "markdown",
   "metadata": {},
   "source": [
    "#### PRS解析結果の検討"
   ]
  },
  {
   "cell_type": "code",
   "execution_count": 31,
   "metadata": {
    "vscode": {
     "languageId": "shellscript"
    }
   },
   "outputs": [
    {
     "name": "stdout",
     "output_type": "stream",
     "text": [
      "FID IID In_Regression PRS\n",
      "HG00096 HG00096 Yes -0.000627027476\n",
      "HG00097 HG00097 Yes -0.00058856461\n",
      "HG00099 HG00099 Yes -0.000713382756\n",
      "HG00100 HG00100 Yes -0.000571751231\n",
      "HG00101 HG00101 Yes -0.000530233701\n",
      "HG00102 HG00102 Yes -0.000583765514\n",
      "HG00103 HG00103 Yes -0.000573780098\n",
      "HG00104 HG00104 Yes -0.000506927325\n",
      "HG00106 HG00106 Yes -0.000537212649\n"
     ]
    }
   ],
   "source": [
    "head Output_2/1KG_EUR-RAGWAS.best"
   ]
  },
  {
   "cell_type": "code",
   "execution_count": 55,
   "metadata": {
    "vscode": {
     "languageId": "shellscript"
    }
   },
   "outputs": [],
   "source": [
    "#ファイルの調整\n",
    "awk '$1!=\"FID\" && $3=\"Yes\" {print $1\"\\t\"$2\"\\t\"$4}' Output_2/1KG_EUR-RAGWAS.best > Output_2/1KG_EUR-RAGWAS.best.txt"
   ]
  },
  {
   "cell_type": "code",
   "execution_count": 56,
   "metadata": {
    "vscode": {
     "languageId": "shellscript"
    }
   },
   "outputs": [
    {
     "name": "stdout",
     "output_type": "stream",
     "text": [
      "HG00096\tHG00096\t-0.000627027476\n",
      "HG00097\tHG00097\t-0.00058856461\n",
      "HG00099\tHG00099\t-0.000713382756\n",
      "HG00100\tHG00100\t-0.000571751231\n",
      "HG00101\tHG00101\t-0.000530233701\n",
      "HG00102\tHG00102\t-0.000583765514\n",
      "HG00103\tHG00103\t-0.000573780098\n",
      "HG00104\tHG00104\t-0.000506927325\n",
      "HG00106\tHG00106\t-0.000537212649\n",
      "HG00108\tHG00108\t-0.000588234975\n"
     ]
    }
   ],
   "source": [
    "cat Output_2/1KG_EUR-RAGWAS.best.txt | head -n 10"
   ]
  },
  {
   "cell_type": "code",
   "execution_count": 49,
   "metadata": {
    "vscode": {
     "languageId": "shellscript"
    }
   },
   "outputs": [
    {
     "name": "stdout",
     "output_type": "stream",
     "text": [
      "PRsice_Command_cygwin.txt  PRSice_linux    PRSice_mac.R\n",
      "PRsice_Command_mac.txt     PRSice_linux.R  PRSice.R\n",
      "PRsice_Command.txt         PRSice_mac      PRSice_win64.exe\n",
      "\n",
      "Input:\n",
      "1KG_EUR_QC.bed  1KG_EUR_QC.fam    RA_GWASmeta_European_PRSise.txt.gz\n",
      "1KG_EUR_QC.bim  phenotype_RA.txt\n",
      "\n",
      "lib:\n",
      "data.table  getopt  optparse\n",
      "\n",
      "Output:\n",
      "1KG_EUR-RAGWAS_BARPLOT_2019-08-25.png        1KG_EUR-RAGWAS.log\n",
      "1KG_EUR-RAGWAS_BARPLOT_2021-07-14.png        1KG_EUR-RAGWAS-PRSboxplot.png\n",
      "1KG_EUR-RAGWAS.best                          1KG_EUR-RAGWAS.prsice\n",
      "1KG_EUR-RAGWAS.best.txt                      1KG_EUR-RAGWAS.summary\n",
      "1KG_EUR-RAGWAS_HIGH-RES_PLOT_2019-08-25.png  1KG_EUR_Sample.txt\n",
      "1KG_EUR-RAGWAS_HIGH-RES_PLOT_2021-07-14.png  PlotPRSice.R\n",
      "\n",
      "Output_2:\n",
      "1KG_EUR-RAGWAS_BARPLOT_2023-12-11.png        1KG_EUR-RAGWAS.log\n",
      "1KG_EUR-RAGWAS.best                          1KG_EUR-RAGWAS.prsice\n",
      "1KG_EUR-RAGWAS.best.txt                      1KG_EUR-RAGWAS.summary\n",
      "1KG_EUR-RAGWAS_HIGH-RES_PLOT_2023-12-11.png  PlotPRSice.R\n"
     ]
    }
   ],
   "source": [
    "ls *"
   ]
  },
  {
   "cell_type": "code",
   "execution_count": 57,
   "metadata": {
    "vscode": {
     "languageId": "shellscript"
    }
   },
   "outputs": [
    {
     "name": "stdout",
     "output_type": "stream",
     "text": [
      "     1\t#ディレクトリの移動\n",
      "     2\t\trm(list = ls(all = TRUE))\n",
      "     3\t\tsetwd(\"C:/SummerSchool/GenomeDataAnalysis5/PRSice/Output\");\n",
      "     4\t\n",
      "     5\t\n",
      "     6\t\tPRS <- read.table(\"1KG_EUR-RAGWAS.best.txt\", header=FALSE)[,3];\n",
      "     7\t\tPop <- read.table(\"1KG_EUR_Sample.txt\", header=FALSE)[,2];\n",
      "     8\t\n",
      "     9\t\tpng(file=\"1KG_EUR-RAGWAS-PRSboxplot.png\", width = 600, height = 600);\n",
      "    10\t\tpar(mar = c(5, 5, 0.5, 0.5));\n",
      "    11\t\tboxplot(PRS~Pop, col=c(2,3,4,5,6), pch=16, xlab=\"1KG EUR sub-populations\", ylab=\"Polygenic risk score for rheumatoid arthritis\", cex.lab=2.0, cex.axis=2.0, cex.main=2.0);\n",
      "    12\t\tdev.off();\n",
      "    13\t\t\n",
      "    14\t\tanova(aov(PRS~Pop)) # P-value for Pop < 2.2x10^-16\n",
      "    15\t\t\n"
     ]
    }
   ],
   "source": [
    "#Rスクリプトの調整\n",
    "cat Output/PlotPRSice.R -n"
   ]
  },
  {
   "cell_type": "code",
   "execution_count": 51,
   "metadata": {
    "vscode": {
     "languageId": "shellscript"
    }
   },
   "outputs": [
    {
     "name": "stdout",
     "output_type": "stream",
     "text": [
      "\tPRS <- read.table(\"1KG_EUR-RAGWAS.best.txt\", header=FALSE)[,3];\n",
      "\tPop <- read.table(\"1KG_EUR_Sample.txt\", header=FALSE)[,2];\n",
      "\n",
      "\tpng(file=\"1KG_EUR-RAGWAS-PRSboxplot.png\", width = 600, height = 600);\n",
      "\tpar(mar = c(5, 5, 0.5, 0.5));\n",
      "\tboxplot(PRS~Pop, col=c(2,3,4,5,6), pch=16, xlab=\"1KG EUR sub-populations\", ylab=\"Polygenic risk score for rheumatoid arthritis\", cex.lab=2.0, cex.axis=2.0, cex.main=2.0);\n",
      "\tdev.off();\n",
      "\t\n",
      "\tanova(aov(PRS~Pop)) # P-value for Pop < 2.2x10^-16\n",
      "\t\n"
     ]
    }
   ],
   "source": [
    "cat Output/PlotPRSice.R | sed 1,5d"
   ]
  },
  {
   "cell_type": "code",
   "execution_count": 52,
   "metadata": {
    "vscode": {
     "languageId": "shellscript"
    }
   },
   "outputs": [
    {
     "name": "stdout",
     "output_type": "stream",
     "text": [
      "1KG_EUR-RAGWAS_BARPLOT_2023-12-11.png        1KG_EUR-RAGWAS.log\n",
      "1KG_EUR-RAGWAS.best                          1KG_EUR-RAGWAS.prsice\n",
      "1KG_EUR-RAGWAS.best.txt                      1KG_EUR-RAGWAS.summary\n",
      "1KG_EUR-RAGWAS_HIGH-RES_PLOT_2023-12-11.png  PlotPRSice.R\n"
     ]
    }
   ],
   "source": [
    "echo 'setwd(\"Output_2\")' > Output_2/PlotPRSice.R\n",
    "cat Output/PlotPRSice.R | sed 1,5d >> Output_2/PlotPRSice.R\n",
    "ls Output_2"
   ]
  },
  {
   "cell_type": "code",
   "execution_count": 53,
   "metadata": {
    "vscode": {
     "languageId": "shellscript"
    }
   },
   "outputs": [
    {
     "name": "stdout",
     "output_type": "stream",
     "text": [
      "setwd(\"Output_2\")\n",
      "\tPRS <- read.table(\"1KG_EUR-RAGWAS.best.txt\", header=FALSE)[,3];\n",
      "\tPop <- read.table(\"1KG_EUR_Sample.txt\", header=FALSE)[,2];\n",
      "\n",
      "\tpng(file=\"1KG_EUR-RAGWAS-PRSboxplot.png\", width = 600, height = 600);\n",
      "\tpar(mar = c(5, 5, 0.5, 0.5));\n",
      "\tboxplot(PRS~Pop, col=c(2,3,4,5,6), pch=16, xlab=\"1KG EUR sub-populations\", ylab=\"Polygenic risk score for rheumatoid arthritis\", cex.lab=2.0, cex.axis=2.0, cex.main=2.0);\n",
      "\tdev.off();\n",
      "\t\n",
      "\tanova(aov(PRS~Pop)) # P-value for Pop < 2.2x10^-16\n",
      "\t\n"
     ]
    }
   ],
   "source": [
    "cat Output_2/PlotPRSice.R"
   ]
  },
  {
   "cell_type": "code",
   "execution_count": 59,
   "metadata": {
    "vscode": {
     "languageId": "shellscript"
    }
   },
   "outputs": [],
   "source": [
    "#必要ファイルの準備\n",
    "cp Output/1KG_EUR_Sample.txt Output_2/"
   ]
  },
  {
   "cell_type": "code",
   "execution_count": 60,
   "metadata": {
    "vscode": {
     "languageId": "shellscript"
    }
   },
   "outputs": [
    {
     "name": "stdout",
     "output_type": "stream",
     "text": [
      "null device \n",
      "          1 \n",
      "Analysis of Variance Table\n",
      "\n",
      "Response: PRS\n",
      "           Df     Sum Sq    Mean Sq F value    Pr(>F)    \n",
      "Pop         4 6.4407e-07 1.6102e-07  33.237 < 2.2e-16 ***\n",
      "Residuals 376 1.8215e-06 4.8440e-09                      \n",
      "---\n",
      "Signif. codes:  0 ‘***’ 0.001 ‘**’ 0.01 ‘*’ 0.05 ‘.’ 0.1 ‘ ’ 1\n"
     ]
    }
   ],
   "source": [
    "#Rスクリプトの実行\n",
    "Rscript Output_2/PlotPRSice.R"
   ]
  },
  {
   "cell_type": "code",
   "execution_count": 62,
   "metadata": {
    "vscode": {
     "languageId": "shellscript"
    }
   },
   "outputs": [
    {
     "name": "stdout",
     "output_type": "stream",
     "text": [
      "1KG_EUR-RAGWAS_BARPLOT_2023-12-11.png        1KG_EUR-RAGWAS-PRSboxplot.png\n",
      "1KG_EUR-RAGWAS.best                          1KG_EUR-RAGWAS.prsice\n",
      "1KG_EUR-RAGWAS.best.txt                      1KG_EUR-RAGWAS.summary\n",
      "1KG_EUR-RAGWAS_HIGH-RES_PLOT_2023-12-11.png  1KG_EUR_Sample.txt\n",
      "1KG_EUR-RAGWAS.log                           PlotPRSice.R\n"
     ]
    }
   ],
   "source": [
    "ls Output_2"
   ]
  },
  {
   "cell_type": "code",
   "execution_count": 63,
   "metadata": {
    "vscode": {
     "languageId": "shellscript"
    }
   },
   "outputs": [],
   "source": [
    "#画像表示の準備\n",
    "cp Output_2/1KG_EUR-RAGWAS-PRSboxplot.png ~/hmiwa/hmiwa-lab/d_20231023/05_231211_RePRSTrials/pic"
   ]
  },
  {
   "cell_type": "markdown",
   "metadata": {},
   "source": [
    "<img src=\"pic/1KG_EUR-RAGWAS-PRSboxplot.png\" width=\"49%\">"
   ]
  },
  {
   "cell_type": "markdown",
   "metadata": {},
   "source": [
    "### 東アジア集団GWAS（BaseData）のQC"
   ]
  },
  {
   "cell_type": "markdown",
   "metadata": {},
   "source": [
    "まずややこしいのでコード格納ディレクトリとストレージディレクトリをそれぞれ変数にあてておく"
   ]
  },
  {
   "cell_type": "code",
   "execution_count": 2,
   "metadata": {
    "vscode": {
     "languageId": "shellscript"
    }
   },
   "outputs": [
    {
     "name": "stdout",
     "output_type": "stream",
     "text": [
      "05_231211_RePRSTrials.ipynb  Documents  jupyter_venv5  pic  test.ipynb\n",
      "Basedata\n",
      "StatGenSummerSchool2023_GenomeDataAnalysis5\n",
      "StatGenSummerSchool2023_GenomeDataAnalysis5.zip\n"
     ]
    }
   ],
   "source": [
    "gitdir=~/hmiwa/hmiwa-lab/d_20231023/05_231211_RePRSTrials\n",
    "ls $gitdir\n",
    "\n",
    "strdir=~/hmiwa1/storage/hmiwa-lab/05_231211_RePRSTrials\n",
    "ls $strdir"
   ]
  },
  {
   "cell_type": "code",
   "execution_count": 78,
   "metadata": {
    "vscode": {
     "languageId": "shellscript"
    }
   },
   "outputs": [
    {
     "name": "stdout",
     "output_type": "stream",
     "text": [
      "Basedata\n",
      "StatGenSummerSchool2023_GenomeDataAnalysis5\n",
      "StatGenSummerSchool2023_GenomeDataAnalysis5.zip\n"
     ]
    }
   ],
   "source": [
    "cd $strdir\n",
    "mkdir -p Basedata\n",
    "ls"
   ]
  },
  {
   "cell_type": "markdown",
   "metadata": {},
   "source": [
    "#### データのダウンロード\n",
    "\n",
    "論文はこれを使う。\n",
    "\n",
    "https://www-nature-com.utokyo.idm.oclc.org/articles/s41588-017-0011-x"
   ]
  },
  {
   "cell_type": "code",
   "execution_count": 79,
   "metadata": {
    "vscode": {
     "languageId": "shellscript"
    }
   },
   "outputs": [
    {
     "name": "stdout",
     "output_type": "stream",
     "text": [
      "--2023-12-11 19:14:33--  https://portals.broadinstitute.org/collaboration/giant/images/7/78/BMI_Eastern_Asian.fmt.gzip\n",
      "Resolving portals.broadinstitute.org (portals.broadinstitute.org)... 69.173.68.142\n",
      "Connecting to portals.broadinstitute.org (portals.broadinstitute.org)|69.173.68.142|:443... connected.\n",
      "HTTP request sent, awaiting response... 200 OK\n",
      "Length: 12268615 (12M)\n",
      "Saving to: ‘BMI_Eastern_Asian.fmt.gzip’\n",
      "\n",
      "BMI_Eastern_Asian.f 100%[===================>]  11.70M  5.61MB/s    in 2.1s    \n",
      "\n",
      "2023-12-11 19:14:36 (5.61 MB/s) - ‘BMI_Eastern_Asian.fmt.gzip’ saved [12268615/12268615]\n",
      "\n"
     ]
    }
   ],
   "source": [
    "cd $strdir/Basedata\n",
    "wget https://portals.broadinstitute.org/collaboration/giant/images/7/78/BMI_Eastern_Asian.fmt.gzip"
   ]
  },
  {
   "cell_type": "code",
   "execution_count": 80,
   "metadata": {
    "vscode": {
     "languageId": "shellscript"
    }
   },
   "outputs": [
    {
     "name": "stdout",
     "output_type": "stream",
     "text": [
      "BMI_Eastern_Asian.fmt.gzip\n"
     ]
    }
   ],
   "source": [
    "ls $strdir/Basedata"
   ]
  },
  {
   "cell_type": "code",
   "execution_count": 81,
   "metadata": {
    "vscode": {
     "languageId": "shellscript"
    }
   },
   "outputs": [
    {
     "name": "stdout",
     "output_type": "stream",
     "text": [
      "CHR\tPOS\tREF\tALT\tSNPNAME\tEAS_MAF\tExAC_EAS_MAF\tbeta\tse\tPvalue\n",
      "10\t100003875\tG\tA\trs148923672\t-\tA:0\tNA\tInf\tNA\n",
      "10\t100008694\tC\tG\trs200213822\t-\tG:0\t1.6\t1\t0.1\n",
      "10\t100010909\tC\tT\trs141069497\tT:0.0139\tT:0.006614\t-0.022\t0.1\t0.83\n",
      "10\t100011387\tC\tT\trs199733612\t-\tT:0,G:0\t1.1\t1\t0.27\n",
      "10\t100011442\tC\tT\trs74153530\tT:0\tT:0,G:0\t0.66\t0.59\t0.26\n",
      "10\t100013325\tC\tT\trs145270262\t-\tT:0\tNA\tInf\tNA\n",
      "10\t100013367\tC\tT\trs199557224\t-\tT:0\tNA\tInf\tNA\n",
      "10\t100013382\tA\tG\trs141995277\tG:0\tG:0\tNA\tInf\tNA\n",
      "10\t100013418\tT\tG\trs148260647\t-\tG:0\t0.41\t1\t0.68\n"
     ]
    }
   ],
   "source": [
    "head BMI_Eastern_Asian.fmt.gzip"
   ]
  },
  {
   "cell_type": "markdown",
   "metadata": {},
   "source": [
    "#### QCのチェックリスト\n",
    "* Heritability Check\n",
    "* Effect Allele\n",
    "* File Transfer\n",
    "* Genome Build\n",
    "* Standard GWAS QC\n",
    "* Mismatching SNPs\n",
    "* Duplicate SNPs\n",
    "* Ambiguous SNPs\n",
    "* Sex Chromosomes\n",
    "* Sample overlap\n",
    "* Relatedness"
   ]
  },
  {
   "cell_type": "markdown",
   "metadata": {},
   "source": [
    "##### Heritability Check\n",
    "\n",
    "今回はスキップさせてくれ…　たぶん大丈夫だとは思うのだが。\n",
    "\n",
    "（この前提が崩れるとそもそもこれが使えない。そういうものは公開されてないと思う。）"
   ]
  },
  {
   "cell_type": "markdown",
   "metadata": {},
   "source": [
    "##### Effect Allele\n",
    "\n",
    "MAFでフィルタリングするときに同時にチェックします。"
   ]
  },
  {
   "cell_type": "markdown",
   "metadata": {},
   "source": [
    "##### File Transfer\n",
    "\n",
    "ファイルの損傷チェック。とりあえずスキップ。"
   ]
  },
  {
   "cell_type": "markdown",
   "metadata": {},
   "source": [
    "##### Genome Build：hg19/hg38が合っているかのチェック"
   ]
  },
  {
   "cell_type": "code",
   "execution_count": 60,
   "metadata": {
    "vscode": {
     "languageId": "shellscript"
    }
   },
   "outputs": [
    {
     "name": "stdout",
     "output_type": "stream",
     "text": [
      "CHR\tPOS\tREF\tALT\tSNPNAME\tEAS_MAF\tExAC_EAS_MAF\tbeta\tse\tPvalue\n",
      "10\t100003875\tG\tA\trs148923672\t-\tA:0\tNA\tInf\tNA\n"
     ]
    }
   ],
   "source": [
    "head -n 2 BMI_Eastern_Asian.fmt.gzip"
   ]
  },
  {
   "cell_type": "markdown",
   "metadata": {},
   "source": [
    "https://www.ncbi.nlm.nih.gov/snp/?term=rs148923672\n",
    "\n",
    "上記を確認すると、\n",
    "\n",
    "    10:98244118 (GRCh38)\n",
    "    10:100003875 (GRCh37)\n",
    "    \n",
    "とあるので、このデータはGRCh37で間違いなさそう。"
   ]
  },
  {
   "cell_type": "markdown",
   "metadata": {},
   "source": [
    "##### Standard GWAS QC：MAFやINFOが低いSNPは除去した方が良い！"
   ]
  },
  {
   "cell_type": "code",
   "execution_count": 61,
   "metadata": {
    "vscode": {
     "languageId": "shellscript"
    }
   },
   "outputs": [],
   "source": [
    "cd $strdir/Basedata"
   ]
  },
  {
   "cell_type": "code",
   "execution_count": 62,
   "metadata": {
    "vscode": {
     "languageId": "shellscript"
    }
   },
   "outputs": [
    {
     "name": "stdout",
     "output_type": "stream",
     "text": [
      "CHR\tPOS\tREF\tALT\tSNPNAME\tEAS_MAF\tExAC_EAS_MAF\tbeta\tse\tPvalue\n",
      "10\t100003875\tG\tA\trs148923672\t-\t0\tNA\tInf\tNA\n",
      "10\t100008694\tC\tG\trs200213822\t-\t0\t1.6\t1\t0.1\n",
      "10\t100010909\tC\tT\trs141069497\t0.0139\t0.006614\t-0.022\t0.1\t0.83\n",
      "10\t100013325\tC\tT\trs145270262\t-\t0\tNA\tInf\tNA\n",
      "10\t100013367\tC\tT\trs199557224\t-\t0\tNA\tInf\tNA\n",
      "10\t100013382\tA\tG\trs141995277\t0\t0\tNA\tInf\tNA\n",
      "10\t100013418\tT\tG\trs148260647\t-\t0\t0.41\t1\t0.68\n"
     ]
    }
   ],
   "source": [
    "head BMI_Eastern_Asian.fmt.gzip | \\\n",
    "sed -e s/A://g -e s/T://g -e s/G://g -e s/C://g | \\\n",
    "grep -v ,"
   ]
  },
  {
   "cell_type": "code",
   "execution_count": 63,
   "metadata": {
    "vscode": {
     "languageId": "shellscript"
    }
   },
   "outputs": [
    {
     "name": "stdout",
     "output_type": "stream",
     "text": [
      "CHR\tPOS\tREF\tALT\tSNPNAME\tEAS_MAF\tExAC_EAS_MAF\tbeta\tse\tPvalue\n",
      "10\t100010909\tC\tT\trs141069497\t0.0139\t0.006614\t-0.022\t0.1\t0.83\n"
     ]
    }
   ],
   "source": [
    "head BMI_Eastern_Asian.fmt.gzip | \\\n",
    "sed -e s/A://g -e s/T://g -e s/G://g -e s/C://g | \\\n",
    "grep -v , | \\\n",
    "awk 'NR==1 || ($6 > 0.01) {print}'"
   ]
  },
  {
   "cell_type": "code",
   "execution_count": 64,
   "metadata": {
    "vscode": {
     "languageId": "shellscript"
    }
   },
   "outputs": [
    {
     "name": "stdout",
     "output_type": "stream",
     "text": [
      "CHR\tPOS\tREF\tALT\tSNPNAME\tEAS_MAF\tExAC_EAS_MAF\tbeta\tse\tPvalue\n",
      "10\t100003875\tG\tA\trs148923672\t-\tA:0\tNA\tInf\tNA\n",
      "10\t100008694\tC\tG\trs200213822\t-\tG:0\t1.6\t1\t0.1\n",
      "10\t100010909\tC\tT\trs141069497\tT:0.0139\tT:0.006614\t-0.022\t0.1\t0.83\n",
      "10\t100013325\tC\tT\trs145270262\t-\tT:0\tNA\tInf\tNA\n",
      "10\t100013367\tC\tT\trs199557224\t-\tT:0\tNA\tInf\tNA\n",
      "10\t100013382\tA\tG\trs141995277\tG:0\tG:0\tNA\tInf\tNA\n",
      "10\t100013418\tT\tG\trs148260647\t-\tG:0\t0.41\t1\t0.68\n"
     ]
    }
   ],
   "source": [
    "head BMI_Eastern_Asian.fmt.gzip | \\\n",
    "grep -v , "
   ]
  },
  {
   "cell_type": "code",
   "execution_count": 65,
   "metadata": {
    "vscode": {
     "languageId": "shellscript"
    }
   },
   "outputs": [
    {
     "name": "stdout",
     "output_type": "stream",
     "text": [
      "CHR\tPOS\tREF\tALT\tSNPNAME\tEAS_MAF\tExAC_EAS_MAF\tbeta\tse\tPvalue\n",
      "10\t100003875\tG\tA\trs148923672\t-\t-\tA\t0\tNA\tInf\tNA\n",
      "10\t100008694\tC\tG\trs200213822\t-\t-\tG\t0\t1.6\t1\t0.1\n",
      "10\t100010909\tC\tT\trs141069497\tT\t0.0139\tT\t0.006614\t-\t-0.022\t0.1\t0.83\n",
      "10\t100013325\tC\tT\trs145270262\t-\t-\tT\t0\tNA\tInf\tNA\n",
      "10\t100013367\tC\tT\trs199557224\t-\t-\tT\t0\tNA\tInf\tNA\n",
      "10\t100013382\tA\tG\trs141995277\tG\t0\tG\t0\tNA\tInf\tNA\n",
      "10\t100013418\tT\tG\trs148260647\t-\t-\tG\t0\t0.41\t1\t0.68\n"
     ]
    }
   ],
   "source": [
    "head BMI_Eastern_Asian.fmt.gzip | \\\n",
    "grep -v , | \\\n",
    "sed -e s/:/\"\\t\"/g -e s/-/-\"\\t\"-/g"
   ]
  },
  {
   "cell_type": "code",
   "execution_count": 66,
   "metadata": {
    "vscode": {
     "languageId": "shellscript"
    }
   },
   "outputs": [
    {
     "name": "stdout",
     "output_type": "stream",
     "text": [
      "CHR\tPOS\tREF\tALT\tSNPNAME\tEAS\tEAS_MAF\tExAC_EAS\tExAC_EAS_MAF\tbeta\tse\tPvalue\n"
     ]
    },
    {
     "name": "stdout",
     "output_type": "stream",
     "text": [
      "CHR\tPOS\tREF\tALT\tSNPNAME\tEAS_MAF\tExAC_EAS_MAF\tbeta\tse\tPvalue\n",
      "10\t100003875\tG\tA\trs148923672\t-\t-\tA\t0\tNA\tInf\tNA\n",
      "10\t100008694\tC\tG\trs200213822\t-\t-\tG\t0\t1.6\t1\t0.1\n",
      "10\t100010909\tC\tT\trs141069497\tT\t0.0139\tT\t0.006614\t-\t-0.022\t0.1\t0.83\n",
      "10\t100013325\tC\tT\trs145270262\t-\t-\tT\t0\tNA\tInf\tNA\n",
      "10\t100013367\tC\tT\trs199557224\t-\t-\tT\t0\tNA\tInf\tNA\n",
      "10\t100013382\tA\tG\trs141995277\tG\t0\tG\t0\tNA\tInf\tNA\n",
      "10\t100013418\tT\tG\trs148260647\t-\t-\tG\t0\t0.41\t1\t0.68\n"
     ]
    }
   ],
   "source": [
    "echo -e 'CHR\\tPOS\\tREF\\tALT\\tSNPNAME\\tEAS\\tEAS_MAF\\tExAC_EAS\\tExAC_EAS_MAF\\tbeta\\tse\\tPvalue'\n",
    "head BMI_Eastern_Asian.fmt.gzip | \\\n",
    "grep -v , | \\\n",
    "sed -e s/:/\"\\t\"/g -e s/-/-\"\\t\"-/g"
   ]
  },
  {
   "cell_type": "code",
   "execution_count": 67,
   "metadata": {
    "vscode": {
     "languageId": "shellscript"
    }
   },
   "outputs": [
    {
     "name": "stdout",
     "output_type": "stream",
     "text": [
      "CHR\tPOS\tREF\tALT\tSNPNAME\tEAS\tEAS_MAF\tExAC_EAS\tExAC_EAS_MAF\tbeta\tse\tPvalue\n"
     ]
    },
    {
     "name": "stdout",
     "output_type": "stream",
     "text": [
      "10\t100003875\tG\tA\trs148923672\t-\t-\tA\t0\tNA\tInf\tNA\n",
      "10\t100008694\tC\tG\trs200213822\t-\t-\tG\t0\t1.6\t1\t0.1\n",
      "10\t100010909\tC\tT\trs141069497\tT\t0.0139\tT\t0.006614\t-\t-0.022\t0.1\t0.83\n",
      "10\t100013325\tC\tT\trs145270262\t-\t-\tT\t0\tNA\tInf\tNA\n",
      "10\t100013367\tC\tT\trs199557224\t-\t-\tT\t0\tNA\tInf\tNA\n",
      "10\t100013382\tA\tG\trs141995277\tG\t0\tG\t0\tNA\tInf\tNA\n",
      "10\t100013418\tT\tG\trs148260647\t-\t-\tG\t0\t0.41\t1\t0.68\n"
     ]
    }
   ],
   "source": [
    "echo -e 'CHR\\tPOS\\tREF\\tALT\\tSNPNAME\\tEAS\\tEAS_MAF\\tExAC_EAS\\tExAC_EAS_MAF\\tbeta\\tse\\tPvalue'\n",
    "head BMI_Eastern_Asian.fmt.gzip | \\\n",
    "grep -v , | \\\n",
    "sed -e s/:/\"\\t\"/g -e s/-/-\"\\t\"-/g | \\\n",
    "sed 1d"
   ]
  },
  {
   "cell_type": "code",
   "execution_count": 68,
   "metadata": {
    "vscode": {
     "languageId": "shellscript"
    }
   },
   "outputs": [],
   "source": [
    "echo -e 'CHR\\tPOS\\tREF\\tALT\\tSNPNAME\\tEAS\\tEAS_MAF\\tExAC_EAS\\tExAC_EAS_MAF\\tbeta\\tse\\tPvalue' > BMI_Eastern_Asian.newcol.txt\n",
    "cat BMI_Eastern_Asian.fmt.gzip | \\\n",
    "grep -v , | \\\n",
    "sed -e s/:/\"\\t\"/g -e s/-/-\"\\t\"-/g | \\\n",
    "sed 1d >> BMI_Eastern_Asian.newcol.txt "
   ]
  },
  {
   "cell_type": "code",
   "execution_count": 69,
   "metadata": {
    "vscode": {
     "languageId": "shellscript"
    }
   },
   "outputs": [
    {
     "name": "stdout",
     "output_type": "stream",
     "text": [
      "  31194  389695 1870772\n"
     ]
    }
   ],
   "source": [
    "cat BMI_Eastern_Asian.newcol.txt | \\\n",
    "awk 'NR==1 || ($7 > 0.01) {print}' | wc"
   ]
  },
  {
   "cell_type": "code",
   "execution_count": 70,
   "metadata": {
    "vscode": {
     "languageId": "shellscript"
    }
   },
   "outputs": [
    {
     "name": "stdout",
     "output_type": "stream",
     "text": [
      "  31170  389376 1869585\n"
     ]
    }
   ],
   "source": [
    "cat BMI_Eastern_Asian.newcol.txt | \\\n",
    "awk 'NR==1 || ($7 > 0.01) && ($4 == $6) {print}' | wc"
   ]
  },
  {
   "cell_type": "code",
   "execution_count": 71,
   "metadata": {
    "vscode": {
     "languageId": "shellscript"
    }
   },
   "outputs": [],
   "source": [
    "cat BMI_Eastern_Asian.newcol.txt | \\\n",
    "awk 'NR==1 || ($7 > 0.01) && ($4 == $6) {print}' > BMI_Eastern_Asian.txt"
   ]
  },
  {
   "cell_type": "code",
   "execution_count": 72,
   "metadata": {
    "vscode": {
     "languageId": "shellscript"
    }
   },
   "outputs": [
    {
     "name": "stdout",
     "output_type": "stream",
     "text": [
      "CHR\tPOS\tREF\tALT\tSNPNAME\tEAS\tEAS_MAF\tExAC_EAS\tExAC_EAS_MAF\tbeta\tse\tPvalue\n",
      "10\t100010909\tC\tT\trs141069497\tT\t0.0139\tT\t0.006614\t-\t-0.022\t0.1\t0.83\n",
      "10\t100017453\tT\tG\trs1983864\tG\t0.6081\tG\t0.5682\t-\t-0.031\t0.015\t0.044\n",
      "10\t100017532\tG\tA\trs77858766\tA\t0.0169\tA\t0.01781\t-\t-0.016\t0.058\t0.79\n",
      "10\t100017553\tG\tT\trs11189525\tT\t0.0129\tT\t0.007404\t-\t-0.014\t0.13\t0.91\n",
      "10\t100020880\tC\tT\trs33995374\tT\t0.1062\tT\t0.1163\t0.077\t0.061\t0.21\n",
      "10\t100044136\tG\tA\trs4919199\tA\t0.9544\t-\t-\t0.0076\t0.036\t0.83\n",
      "10\t100144782\tC\tT\trs2296441\tT\t0.4425\tT\t0.42\t0.012\t0.015\t0.42\n",
      "10\t100148004\tT\tC\trs2182169\tC\t0.5615\t-\t-\t0.014\t0.015\t0.37\n",
      "10\t100148176\tA\tG\trs2147896\tG\t0.5833\tG\t0.5596\t0.0052\t0.015\t0.73\n"
     ]
    }
   ],
   "source": [
    "head BMI_Eastern_Asian.txt"
   ]
  },
  {
   "cell_type": "code",
   "execution_count": 73,
   "metadata": {
    "vscode": {
     "languageId": "shellscript"
    }
   },
   "outputs": [
    {
     "name": "stdout",
     "output_type": "stream",
     "text": [
      "-rw-rw-r-- 1 hmiwa hmiwa 1869585 12月 11 21:03 BMI_Eastern_Asian.txt\n"
     ]
    },
    {
     "name": "stdout",
     "output_type": "stream",
     "text": [
      "  31170  389376 1869585 BMI_Eastern_Asian.txt\n"
     ]
    }
   ],
   "source": [
    "ls -l BMI_Eastern_Asian.txt\n",
    "wc BMI_Eastern_Asian.txt"
   ]
  },
  {
   "cell_type": "markdown",
   "metadata": {},
   "source": [
    "##### Mismatching SNPs：ターゲットデータで対立遺伝子が一致しているかどうかのチェック。\n",
    "\n",
    "ターゲットデータがないとチェックできないのでここはスキップ。"
   ]
  },
  {
   "cell_type": "markdown",
   "metadata": {},
   "source": [
    "##### Duplicate SNPs"
   ]
  },
  {
   "cell_type": "code",
   "execution_count": 74,
   "metadata": {
    "vscode": {
     "languageId": "shellscript"
    }
   },
   "outputs": [],
   "source": [
    "cat BMI_Eastern_Asian.txt |\\\n",
    "awk '{seen[$5]++; if(seen[$5]==1){print}}' > BMI_Eastern_Asian.nodup.txt"
   ]
  },
  {
   "cell_type": "code",
   "execution_count": 75,
   "metadata": {
    "vscode": {
     "languageId": "shellscript"
    }
   },
   "outputs": [
    {
     "name": "stdout",
     "output_type": "stream",
     "text": [
      "-rw-rw-r-- 1 hmiwa hmiwa 1869585 12月 11 21:03 BMI_Eastern_Asian.nodup.txt\n"
     ]
    },
    {
     "name": "stdout",
     "output_type": "stream",
     "text": [
      "  31170  389376 1869585 BMI_Eastern_Asian.nodup.txt\n"
     ]
    }
   ],
   "source": [
    "ls -l BMI_Eastern_Asian.nodup.txt\n",
    "wc BMI_Eastern_Asian.nodup.txt"
   ]
  },
  {
   "cell_type": "markdown",
   "metadata": {},
   "source": [
    "##### Ambiguous SNPs"
   ]
  },
  {
   "cell_type": "code",
   "execution_count": 76,
   "metadata": {
    "vscode": {
     "languageId": "shellscript"
    }
   },
   "outputs": [
    {
     "name": "stdout",
     "output_type": "stream",
     "text": [
      "CHR\tPOS\tREF\tALT\tSNPNAME\tEAS\tEAS_MAF\tExAC_EAS\tExAC_EAS_MAF\tbeta\tse\tPvalue\n",
      "10\t100010909\tC\tT\trs141069497\tT\t0.0139\tT\t0.006614\t-\t-0.022\t0.1\t0.83\n",
      "10\t100017453\tT\tG\trs1983864\tG\t0.6081\tG\t0.5682\t-\t-0.031\t0.015\t0.044\n",
      "10\t100017532\tG\tA\trs77858766\tA\t0.0169\tA\t0.01781\t-\t-0.016\t0.058\t0.79\n",
      "10\t100017553\tG\tT\trs11189525\tT\t0.0129\tT\t0.007404\t-\t-0.014\t0.13\t0.91\n",
      "10\t100020880\tC\tT\trs33995374\tT\t0.1062\tT\t0.1163\t0.077\t0.061\t0.21\n",
      "10\t100044136\tG\tA\trs4919199\tA\t0.9544\t-\t-\t0.0076\t0.036\t0.83\n",
      "10\t100144782\tC\tT\trs2296441\tT\t0.4425\tT\t0.42\t0.012\t0.015\t0.42\n",
      "10\t100148004\tT\tC\trs2182169\tC\t0.5615\t-\t-\t0.014\t0.015\t0.37\n",
      "10\t100148176\tA\tG\trs2147896\tG\t0.5833\tG\t0.5596\t0.0052\t0.015\t0.73\n"
     ]
    }
   ],
   "source": [
    "head BMI_Eastern_Asian.nodup.txt"
   ]
  },
  {
   "cell_type": "code",
   "execution_count": 77,
   "metadata": {
    "vscode": {
     "languageId": "shellscript"
    }
   },
   "outputs": [],
   "source": [
    "cat BMI_Eastern_Asian.nodup.txt |\\\n",
    "awk '!( ($3==\"A\" && $4==\"T\") || \\\n",
    "        ($3==\"T\" && $4==\"A\") || \\\n",
    "        ($3==\"G\" && $4==\"C\") || \\\n",
    "        ($3==\"C\" && $4==\"G\")) {print}' > BMI_Eastern_Asian.QC.txt"
   ]
  },
  {
   "cell_type": "code",
   "execution_count": 78,
   "metadata": {
    "vscode": {
     "languageId": "shellscript"
    }
   },
   "outputs": [
    {
     "name": "stdout",
     "output_type": "stream",
     "text": [
      "-rw-rw-r-- 1 hmiwa hmiwa 1707833 12月 11 21:04 BMI_Eastern_Asian.QC.txt\n"
     ]
    },
    {
     "name": "stdout",
     "output_type": "stream",
     "text": [
      "  28519  356256 1707833 BMI_Eastern_Asian.QC.txt\n"
     ]
    }
   ],
   "source": [
    "ls -l BMI_Eastern_Asian.QC.txt\n",
    "wc BMI_Eastern_Asian.QC.txt"
   ]
  },
  {
   "cell_type": "markdown",
   "metadata": {},
   "source": [
    "##### Sex Chromosomes\n",
    "\n",
    "やりようがないのでスルー"
   ]
  },
  {
   "cell_type": "markdown",
   "metadata": {},
   "source": [
    "##### Sample overlap\n",
    "オセアニア集団とは絶対重ならないのでOK"
   ]
  },
  {
   "cell_type": "markdown",
   "metadata": {},
   "source": [
    "##### Relatedness\n",
    "\n",
    "本来はやるべきだが今回は一旦スキップ"
   ]
  },
  {
   "cell_type": "markdown",
   "metadata": {},
   "source": [
    "### Tonga集団サンプル（TargetData）のQC"
   ]
  },
  {
   "cell_type": "code",
   "execution_count": null,
   "metadata": {
    "vscode": {
     "languageId": "shellscript"
    }
   },
   "outputs": [],
   "source": []
  }
 ],
 "metadata": {
  "kernelspec": {
   "display_name": "Bash",
   "language": "bash",
   "name": "bash"
  },
  "language_info": {
   "codemirror_mode": "shell",
   "file_extension": ".sh",
   "mimetype": "text/x-sh",
   "name": "bash"
  }
 },
 "nbformat": 4,
 "nbformat_minor": 2
}
