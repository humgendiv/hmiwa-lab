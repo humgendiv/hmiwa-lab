{
 "cells": [
  {
   "cell_type": "markdown",
   "metadata": {},
   "source": [
    "# 05_231211_RePRSTrials\n",
    "\n",
    "### 主目的\n",
    "\n",
    "Tonga集団のサンプルを用いて倹約遺伝子仮説を検討する。\n",
    "\n",
    "1. 過去のPRSを推定する：今回はその前段階として現在ベースでPRSを推定する。\n",
    "2. ポリジェニックセレクションの検討：これから（まず手法をもう一度チェック！）"
   ]
  },
  {
   "cell_type": "markdown",
   "metadata": {},
   "source": [
    "### 実行にあたって\n",
    "\n",
    "Tonga集団のデータを用いてPRSを計算したい。が、いま手元に彼らの身長や体重に関するデータがないことがわかった。\n",
    "\n",
    "とりあえずその前段階として遺伝統計学夏の学校2023の実習を再現してみる。"
   ]
  },
  {
   "cell_type": "markdown",
   "metadata": {},
   "source": [
    "### 遺伝統計学夏の学校2023【QC以降の手順確認】\n",
    "\n",
    "まずはデータファイルをダウンロード・解凍する。"
   ]
  },
  {
   "cell_type": "code",
   "execution_count": 12,
   "metadata": {
    "vscode": {
     "languageId": "shellscript"
    }
   },
   "outputs": [],
   "source": [
    "mkdir -p ~/hmiwa1/storage/hmiwa-lab/05_231211_RePRSTrials\n",
    "cd ~/hmiwa1/storage/hmiwa-lab/05_231211_RePRSTrials\n",
    "ls"
   ]
  },
  {
   "cell_type": "code",
   "execution_count": 13,
   "metadata": {
    "vscode": {
     "languageId": "shellscript"
    }
   },
   "outputs": [
    {
     "name": "stdout",
     "output_type": "stream",
     "text": [
      "--2023-12-18 16:22:57--  http://www.sg.med.osaka-u.ac.jp/files/StatGenSummerSchool2023_GenomeDataAnalysis5.zip\n",
      "Resolving www.sg.med.osaka-u.ac.jp (www.sg.med.osaka-u.ac.jp)... 133.1.138.171\n",
      "Connecting to www.sg.med.osaka-u.ac.jp (www.sg.med.osaka-u.ac.jp)|133.1.138.171|:80... connected.\n",
      "HTTP request sent, awaiting response... 200 OK\n",
      "Length: 185582439 (177M) [application/zip]\n",
      "Saving to: ‘StatGenSummerSchool2023_GenomeDataAnalysis5.zip’\n",
      "\n",
      "StatGenSummerSchool 100%[===================>] 176.98M  21.7MB/s    in 6.7s    \n",
      "\n",
      "2023-12-18 16:23:04 (26.3 MB/s) - ‘StatGenSummerSchool2023_GenomeDataAnalysis5.zip’ saved [185582439/185582439]\n",
      "\n",
      "StatGenSummerSchool2023_GenomeDataAnalysis5.zip\n"
     ]
    }
   ],
   "source": [
    "wget http://www.sg.med.osaka-u.ac.jp/files/StatGenSummerSchool2023_GenomeDataAnalysis5.zip\n",
    "ls"
   ]
  },
  {
   "cell_type": "code",
   "execution_count": 14,
   "metadata": {
    "vscode": {
     "languageId": "shellscript"
    }
   },
   "outputs": [
    {
     "name": "stdout",
     "output_type": "stream",
     "text": [
      "Archive:  StatGenSummerSchool2023_GenomeDataAnalysis5.zip\n",
      "   creating: StatGenSummerSchool2023_GenomeDataAnalysis5/\n",
      "   creating: StatGenSummerSchool2023_GenomeDataAnalysis5/PRSice/\n",
      "   creating: StatGenSummerSchool2023_GenomeDataAnalysis5/PRSice/Input/\n"
     ]
    },
    {
     "name": "stdout",
     "output_type": "stream",
     "text": [
      "  inflating: StatGenSummerSchool2023_GenomeDataAnalysis5/PRSice/Input/1KG_EUR_QC.bed  \n",
      "  inflating: StatGenSummerSchool2023_GenomeDataAnalysis5/PRSice/Input/1KG_EUR_QC.bim  \n",
      "  inflating: StatGenSummerSchool2023_GenomeDataAnalysis5/PRSice/Input/1KG_EUR_QC.fam  \n",
      "  inflating: StatGenSummerSchool2023_GenomeDataAnalysis5/PRSice/Input/phenotype_RA.txt  \n",
      "  inflating: StatGenSummerSchool2023_GenomeDataAnalysis5/PRSice/Input/RA_GWASmeta_European_PRSise.txt.gz  \n",
      "   creating: StatGenSummerSchool2023_GenomeDataAnalysis5/PRSice/Output/\n",
      "  inflating: StatGenSummerSchool2023_GenomeDataAnalysis5/PRSice/Output/1KG_EUR-RAGWAS-PRSboxplot.png  \n",
      "  inflating: StatGenSummerSchool2023_GenomeDataAnalysis5/PRSice/Output/1KG_EUR-RAGWAS.best  \n",
      "  inflating: StatGenSummerSchool2023_GenomeDataAnalysis5/PRSice/Output/1KG_EUR-RAGWAS.best.txt  \n",
      "  inflating: StatGenSummerSchool2023_GenomeDataAnalysis5/PRSice/Output/1KG_EUR-RAGWAS.log  \n",
      "  inflating: StatGenSummerSchool2023_GenomeDataAnalysis5/PRSice/Output/1KG_EUR-RAGWAS.prsice  \n",
      "  inflating: StatGenSummerSchool2023_GenomeDataAnalysis5/PRSice/Output/1KG_EUR-RAGWAS.summary  \n",
      "  inflating: StatGenSummerSchool2023_GenomeDataAnalysis5/PRSice/Output/1KG_EUR-RAGWAS_BARPLOT_2019-08-25.png  \n",
      "  inflating: StatGenSummerSchool2023_GenomeDataAnalysis5/PRSice/Output/1KG_EUR-RAGWAS_BARPLOT_2021-07-14.png  \n",
      "  inflating: StatGenSummerSchool2023_GenomeDataAnalysis5/PRSice/Output/1KG_EUR-RAGWAS_HIGH-RES_PLOT_2019-08-25.png  \n",
      "  inflating: StatGenSummerSchool2023_GenomeDataAnalysis5/PRSice/Output/1KG_EUR-RAGWAS_HIGH-RES_PLOT_2021-07-14.png  \n",
      "  inflating: StatGenSummerSchool2023_GenomeDataAnalysis5/PRSice/Output/1KG_EUR_Sample.txt  \n",
      "  inflating: StatGenSummerSchool2023_GenomeDataAnalysis5/PRSice/Output/PlotPRSice.R  \n",
      "  inflating: StatGenSummerSchool2023_GenomeDataAnalysis5/PRSice/PRSice.R  \n",
      "  inflating: StatGenSummerSchool2023_GenomeDataAnalysis5/PRSice/PRsice_Command.txt  \n",
      "  inflating: StatGenSummerSchool2023_GenomeDataAnalysis5/PRSice/PRsice_Command_cygwin.txt  \n",
      "  inflating: StatGenSummerSchool2023_GenomeDataAnalysis5/PRSice/PRsice_Command_mac.txt  \n",
      "  inflating: StatGenSummerSchool2023_GenomeDataAnalysis5/PRSice/PRSice_linux  \n",
      "  inflating: StatGenSummerSchool2023_GenomeDataAnalysis5/PRSice/PRSice_linux.R  \n",
      "  inflating: StatGenSummerSchool2023_GenomeDataAnalysis5/PRSice/PRSice_mac  \n",
      "  inflating: StatGenSummerSchool2023_GenomeDataAnalysis5/PRSice/PRSice_mac.R  \n",
      "  inflating: StatGenSummerSchool2023_GenomeDataAnalysis5/PRSice/PRSice_win64.exe  \n",
      "  inflating: StatGenSummerSchool2023_GenomeDataAnalysis5/StatGenSummerSchool2023_GenomeDataAnalysis5.pdf  \n"
     ]
    }
   ],
   "source": [
    "unzip StatGenSummerSchool2023_GenomeDataAnalysis5.zip"
   ]
  },
  {
   "cell_type": "code",
   "execution_count": 15,
   "metadata": {
    "vscode": {
     "languageId": "shellscript"
    }
   },
   "outputs": [
    {
     "name": "stdout",
     "output_type": "stream",
     "text": [
      "StatGenSummerSchool2023_GenomeDataAnalysis5\n",
      "StatGenSummerSchool2023_GenomeDataAnalysis5.zip\n"
     ]
    }
   ],
   "source": [
    "ls"
   ]
  },
  {
   "cell_type": "code",
   "execution_count": 16,
   "metadata": {
    "vscode": {
     "languageId": "shellscript"
    }
   },
   "outputs": [
    {
     "name": "stdout",
     "output_type": "stream",
     "text": [
      "PRSice  StatGenSummerSchool2023_GenomeDataAnalysis5.pdf\n"
     ]
    }
   ],
   "source": [
    "ls StatGenSummerSchool2023_GenomeDataAnalysis5"
   ]
  },
  {
   "cell_type": "code",
   "execution_count": 17,
   "metadata": {
    "vscode": {
     "languageId": "shellscript"
    }
   },
   "outputs": [
    {
     "name": "stdout",
     "output_type": "stream",
     "text": [
      "Input                      PRsice_Command.txt  PRSice_mac.R\n",
      "Output                     PRSice_linux        PRSice.R\n",
      "PRsice_Command_cygwin.txt  PRSice_linux.R      PRSice_win64.exe\n",
      "PRsice_Command_mac.txt     PRSice_mac\n"
     ]
    }
   ],
   "source": [
    "ls StatGenSummerSchool2023_GenomeDataAnalysis5/PRSice"
   ]
  },
  {
   "cell_type": "code",
   "execution_count": 18,
   "metadata": {
    "vscode": {
     "languageId": "shellscript"
    }
   },
   "outputs": [
    {
     "name": "stdout",
     "output_type": "stream",
     "text": [
      "1KG_EUR_QC.bed  1KG_EUR_QC.fam    RA_GWASmeta_European_PRSise.txt.gz\n",
      "1KG_EUR_QC.bim  phenotype_RA.txt\n"
     ]
    },
    {
     "name": "stdout",
     "output_type": "stream",
     "text": [
      "1KG_EUR-RAGWAS_BARPLOT_2019-08-25.png        1KG_EUR-RAGWAS.log\n",
      "1KG_EUR-RAGWAS_BARPLOT_2021-07-14.png        1KG_EUR-RAGWAS-PRSboxplot.png\n",
      "1KG_EUR-RAGWAS.best                          1KG_EUR-RAGWAS.prsice\n",
      "1KG_EUR-RAGWAS.best.txt                      1KG_EUR-RAGWAS.summary\n",
      "1KG_EUR-RAGWAS_HIGH-RES_PLOT_2019-08-25.png  1KG_EUR_Sample.txt\n",
      "1KG_EUR-RAGWAS_HIGH-RES_PLOT_2021-07-14.png  PlotPRSice.R\n"
     ]
    }
   ],
   "source": [
    "ls StatGenSummerSchool2023_GenomeDataAnalysis5/PRSice/Input\n",
    "ls StatGenSummerSchool2023_GenomeDataAnalysis5/PRSice/Output"
   ]
  },
  {
   "cell_type": "markdown",
   "metadata": {},
   "source": [
    "#### 入力ファイルの確認"
   ]
  },
  {
   "cell_type": "code",
   "execution_count": 19,
   "metadata": {
    "vscode": {
     "languageId": "shellscript"
    }
   },
   "outputs": [
    {
     "name": "stdout",
     "output_type": "stream",
     "text": [
      "1KG_EUR_QC.bed  1KG_EUR_QC.fam    RA_GWASmeta_European_PRSise.txt.gz\n",
      "1KG_EUR_QC.bim  phenotype_RA.txt\n"
     ]
    }
   ],
   "source": [
    "ls StatGenSummerSchool2023_GenomeDataAnalysis5/PRSice/Input"
   ]
  },
  {
   "cell_type": "code",
   "execution_count": 20,
   "metadata": {
    "vscode": {
     "languageId": "shellscript"
    }
   },
   "outputs": [
    {
     "name": "stdout",
     "output_type": "stream",
     "text": [
      "SNP\tCHR\tBP\tA1\tA2\tP\tOR\n",
      "chr1:751343\t1\t751343\tA\tT\t0.01\t0.85\n",
      "chr1:751756\t1\t751756\tT\tC\t0.01\t1.17\n",
      "rs3094315\t1\t752566\tA\tG\t0.0093\t1.14\n",
      "rs3131972\t1\t752721\tA\tG\t0.009\t0.88\n",
      "rs3131971\t1\t752894\tT\tC\t0.01\t0.87\n",
      "chr1:753405\t1\t753405\tA\tC\t0.01\t1.17\n",
      "chr1:753425\t1\t753425\tT\tC\t0.0097\t0.87\n",
      "rs2073814\t1\t753474\tG\tC\t0.009\t1.14\n",
      "rs2073813\t1\t753541\tA\tG\t0.0095\t0.85\n"
     ]
    }
   ],
   "source": [
    "zcat StatGenSummerSchool2023_GenomeDataAnalysis5/PRSice/Input/RA_GWASmeta_European_PRSise.txt.gz | head -n 10"
   ]
  },
  {
   "cell_type": "code",
   "execution_count": 21,
   "metadata": {
    "vscode": {
     "languageId": "shellscript"
    }
   },
   "outputs": [
    {
     "name": "stdout",
     "output_type": "stream",
     "text": [
      "HG00096\tHG00096\t2\n",
      "HG00097\tHG00097\t1\n",
      "HG00099\tHG00099\t1\n",
      "HG00100\tHG00100\t1\n",
      "HG00101\tHG00101\t2\n",
      "HG00102\tHG00102\t2\n",
      "HG00103\tHG00103\t1\n",
      "HG00104\tHG00104\t1\n",
      "HG00106\tHG00106\t1\n",
      "HG00108\tHG00108\t1\n"
     ]
    }
   ],
   "source": [
    "cat StatGenSummerSchool2023_GenomeDataAnalysis5/PRSice/Input/phenotype_RA.txt | head -n 10"
   ]
  },
  {
   "cell_type": "markdown",
   "metadata": {},
   "source": [
    "#### PRS解析の実行"
   ]
  },
  {
   "cell_type": "code",
   "execution_count": 22,
   "metadata": {
    "vscode": {
     "languageId": "shellscript"
    }
   },
   "outputs": [
    {
     "name": "stdout",
     "output_type": "stream",
     "text": [
      "Input     PRsice_Command_cygwin.txt  PRSice_linux    PRSice_mac.R\n",
      "Output    PRsice_Command_mac.txt     PRSice_linux.R  PRSice.R\n",
      "Output_2  PRsice_Command.txt         PRSice_mac      PRSice_win64.exe\n"
     ]
    }
   ],
   "source": [
    "cd ~/hmiwa1/storage/hmiwa-lab/05_231211_RePRSTrials/StatGenSummerSchool2023_GenomeDataAnalysis5/PRSice\n",
    "mkdir -p Output_2\n",
    "touch Output_2/.gitkeep\n",
    "ls"
   ]
  },
  {
   "cell_type": "code",
   "execution_count": 23,
   "metadata": {
    "vscode": {
     "languageId": "shellscript"
    }
   },
   "outputs": [
    {
     "name": "stdout",
     "output_type": "stream",
     "text": [
      "Trying to install data.table in ./lib\n",
      "Trying to install optparse in ./lib\n",
      "\u001b[?25h\u001b[?25h\u001b[?25h\u001b[?25h\u001b[?25h\u001b[?25h\u001b[?25h\u001b[?25h\u001b[?25h\u001b[?25h\u001b[?25h\u001b[?25h\u001b[?25h\u001b[?25h\u001b[?25h\u001b[?25h\u001b[?25h\u001b[?25hPRSice 2.3.3 (2020-08-05) \n",
      "https://github.com/choishingwan/PRSice\n",
      "(C) 2016-2020 Shing Wan (Sam) Choi and Paul F. O'Reilly\n",
      "GNU General Public License v3\n",
      "If you use PRSice in any published work, please cite:\n",
      "Choi SW, O'Reilly PF.\n",
      "PRSice-2: Polygenic Risk Score Software for Biobank-Scale Data.\n",
      "GigaScience 8, no. 7 (July 1, 2019)\n",
      "2023-12-18 16:23:34\n",
      "./PRSice_linux \\\n",
      "    --a1 A1 \\\n",
      "    --a2 A2 \\\n",
      "    --bar-levels 0.001,0.05,0.1,0.2,0.3,0.4,0.5,1 \\\n",
      "    --base ./Input/RA_GWASmeta_European_PRSise.txt.gz \\\n",
      "    --binary-target T \\\n",
      "    --bp BP \\\n",
      "    --chr CHR \\\n",
      "    --clump-kb 250kb \\\n",
      "    --clump-p 1.000000 \\\n",
      "    --clump-r2 0.100000 \\\n",
      "    --interval 5e-05 \\\n",
      "    --lower 5e-08 \\\n",
      "    --num-auto 22 \\\n",
      "    --or  \\\n",
      "    --out ./Output_2/1KG_EUR-RAGWAS \\\n",
      "    --pheno ./Input/phenotype_RA.txt \\\n",
      "    --pvalue P \\\n",
      "    --seed 2986104432 \\\n",
      "    --snp SNP \\\n",
      "    --stat OR \\\n",
      "    --target ./Input/1KG_EUR_QC \\\n",
      "    --thread 1 \\\n",
      "    --upper 0.5\n",
      "\n",
      "Initializing Genotype file: ./Input/1KG_EUR_QC (bed) \n",
      "\n",
      "Start processing RA_GWASmeta_European_PRSise.txt \n",
      "================================================== \n",
      "\n",
      "Base file: ./Input/RA_GWASmeta_European_PRSise.txt.gz \n",
      "GZ file detected. Header of file is: \n",
      "SNP\tCHR\tBP\tA1\tA2\tP\tOR \n",
      "\n",
      "Reading 100.00%\n",
      "8747962 variant(s) observed in base file, with: \n",
      "233352 variant(s) located on haploid chromosome \n",
      "1307525 ambiguous variant(s) excluded \n",
      "7207085 total variant(s) included from base file \n",
      "\n",
      "Loading Genotype info from target \n",
      "================================================== \n",
      "\n",
      "381 people (178 male(s), 203 female(s)) observed \n",
      "381 founder(s) included \n",
      "\n",
      "409223 variant(s) not found in previous data \n",
      "939895 variant(s) included \n",
      "\n",
      "Phenotype file: ./Input/phenotype_RA.txt \n",
      "Column Name of Sample ID: HG00096+HG00096 \n",
      "Note: If the phenotype file does not contain a header, the \n",
      "column name will be displayed as the Sample ID which is \n",
      "expected. \n",
      "\n",
      "There are a total of 1 phenotype to process \n",
      "\n",
      "Start performing clumping \n",
      "\n",
      "Clumping Progress: 100.00%\n",
      "Number of variant(s) after clumping : 150661 \n",
      "\n",
      "Processing the 1 th phenotype \n",
      "\n",
      "Phenotype is a binary phenotype \n",
      "189 control(s) \n",
      "192 case(s) \n",
      "\n",
      "\n",
      "Start Processing\n",
      "Processing 100.00%\n",
      "There are 1 region(s) with p-value between 0.1 and 1e-5 \n",
      "(\u001b[1;31mmay not be significant\u001b[0m). \n",
      "\n",
      "\u001b[?25hBegin plotting\n",
      "\u001b[?25hCurrent Rscript version = 2.3.3\n",
      "\u001b[?25h\u001b[?25h\u001b[?25h\u001b[?25h\u001b[?25h\u001b[?25h\u001b[?25h\u001b[?25h\u001b[?25h\u001b[?25h\u001b[?25h\u001b[?25h\u001b[?25h\u001b[?25h\u001b[?25h\u001b[?25h\u001b[?25h\u001b[?25h\u001b[?25h\u001b[?25h\u001b[?25h\u001b[?25h\u001b[?25h\u001b[?25h\u001b[?25h\u001b[?25h\u001b[?25h\u001b[?25h\u001b[?25h\u001b[?25h\u001b[?25h\u001b[?25h\u001b[?25h\u001b[?25h\u001b[?25h\u001b[?25h\u001b[?25h\u001b[?25h\u001b[?25h\u001b[?25h\u001b[?25h\u001b[?25h\u001b[?25h\u001b[?25h\u001b[?25h\u001b[?25h\u001b[?25h\u001b[?25h\u001b[?25h\u001b[?25h\u001b[?25h\u001b[?25h\u001b[?25h\u001b[?25h\u001b[?25hPlotting Bar Plot\n",
      "Plotting the high resolution plot\n",
      "\u001b[?25h\u001b[?25h\n"
     ]
    }
   ],
   "source": [
    "Rscript PRSice_linux.R \\\n",
    "--prsice PRSice_linux \\\n",
    "--dir . \\\n",
    "--out ./Output_2/1KG_EUR-RAGWAS \\\n",
    "--base ./Input/RA_GWASmeta_European_PRSise.txt.gz \\\n",
    "--target ./Input/1KG_EUR_QC \\\n",
    "--pheno ./Input/phenotype_RA.txt \\\n",
    "--thread 1 \\\n",
    "--stat OR \\\n",
    "--binary-target T"
   ]
  },
  {
   "cell_type": "markdown",
   "metadata": {},
   "source": [
    "#### Output結果の確認"
   ]
  },
  {
   "cell_type": "code",
   "execution_count": 24,
   "metadata": {
    "vscode": {
     "languageId": "shellscript"
    }
   },
   "outputs": [
    {
     "name": "stdout",
     "output_type": "stream",
     "text": [
      "1KG_EUR-RAGWAS_BARPLOT_2023-12-18.png        1KG_EUR-RAGWAS.log\n",
      "1KG_EUR-RAGWAS.best                          1KG_EUR-RAGWAS.prsice\n",
      "1KG_EUR-RAGWAS_HIGH-RES_PLOT_2023-12-18.png  1KG_EUR-RAGWAS.summary\n"
     ]
    }
   ],
   "source": [
    "ls Output_2"
   ]
  },
  {
   "cell_type": "code",
   "execution_count": 25,
   "metadata": {
    "vscode": {
     "languageId": "shellscript"
    }
   },
   "outputs": [
    {
     "name": "stdout",
     "output_type": "stream",
     "text": [
      "Pheno\tSet\tThreshold\tR2\tP\tCoefficient\tStandard.Error\tNum_SNP\n",
      "-\tBase\t5e-08\t0.0122466\t0.0629842\t12.6059\t6.77991\t257\n",
      "-\tBase\t5.005e-05\t0.0126982\t0.0583659\t22.8194\t12.055\t479\n",
      "-\tBase\t0.00010005\t0.01382\t0.0484141\t27.829\t14.0998\t561\n",
      "-\tBase\t0.00015005\t0.0139415\t0.0474483\t30.2877\t15.2792\t611\n",
      "-\tBase\t0.00020005\t0.0143518\t0.0443525\t33.0976\t16.4604\t658\n",
      "-\tBase\t0.00025005\t0.0146751\t0.0420519\t35.1525\t17.2909\t691\n",
      "-\tBase\t0.00030005\t0.015445\t0.0370909\t37.9226\t18.1904\t729\n",
      "-\tBase\t0.00035005\t0.0160981\t0.0333494\t41.2045\t19.3644\t778\n",
      "-\tBase\t0.00040005\t0.0162487\t0.0325501\t43.4408\t20.3223\t817\n"
     ]
    }
   ],
   "source": [
    "head Output_2/1KG_EUR-RAGWAS.prsice"
   ]
  },
  {
   "cell_type": "code",
   "execution_count": 26,
   "metadata": {
    "vscode": {
     "languageId": "shellscript"
    }
   },
   "outputs": [
    {
     "name": "stdout",
     "output_type": "stream",
     "text": [
      "Phenotype\tSet\tThreshold\tPRS.R2\tFull.R2\tNull.R2\tPrevalence\tCoefficient\tStandard.Error\tP\tNum_SNP\n",
      "-\tBase\t0.46\t0.0512432\t0.0512432\t0\t-\t5081.42\t1356.18\t0.000179058\t101385\n"
     ]
    }
   ],
   "source": [
    "head Output_2/1KG_EUR-RAGWAS.summary"
   ]
  },
  {
   "cell_type": "code",
   "execution_count": 27,
   "metadata": {
    "vscode": {
     "languageId": "shellscript"
    }
   },
   "outputs": [],
   "source": [
    "#画像表示準備\n",
    "mkdir -p ~/hmiwa/hmiwa-lab/d_20231023/05_231211_RePRSTrials/pic\n",
    "cp Output_2/*.png ~/hmiwa/hmiwa-lab/d_20231023/05_231211_RePRSTrials/pic/"
   ]
  },
  {
   "cell_type": "markdown",
   "metadata": {},
   "source": [
    "【1KG_EUR-RAGWAS_BARPLOT_2023-12-11.png（左）】【1KG_EUR-RAGWAS_BARPLOT_2023-12-11.png（右）】\n",
    "\n",
    "<img src=\"pic/1KG_EUR-RAGWAS_BARPLOT_2023-12-11.png\" width=\"49%\">\n",
    "<img src=\"pic/1KG_EUR-RAGWAS_HIGH-RES_PLOT_2023-12-11.png\" width=\"49%\">"
   ]
  },
  {
   "cell_type": "markdown",
   "metadata": {},
   "source": [
    "#### PRS解析結果の検討"
   ]
  },
  {
   "cell_type": "code",
   "execution_count": 28,
   "metadata": {
    "vscode": {
     "languageId": "shellscript"
    }
   },
   "outputs": [
    {
     "name": "stdout",
     "output_type": "stream",
     "text": [
      "FID IID In_Regression PRS\n",
      "HG00096 HG00096 Yes -0.000627027476\n",
      "HG00097 HG00097 Yes -0.00058856461\n",
      "HG00099 HG00099 Yes -0.000713382756\n",
      "HG00100 HG00100 Yes -0.000571751231\n",
      "HG00101 HG00101 Yes -0.000530233701\n",
      "HG00102 HG00102 Yes -0.000583765514\n",
      "HG00103 HG00103 Yes -0.000573780098\n",
      "HG00104 HG00104 Yes -0.000506927325\n",
      "HG00106 HG00106 Yes -0.000537212649\n"
     ]
    }
   ],
   "source": [
    "head Output_2/1KG_EUR-RAGWAS.best"
   ]
  },
  {
   "cell_type": "code",
   "execution_count": 29,
   "metadata": {
    "vscode": {
     "languageId": "shellscript"
    }
   },
   "outputs": [],
   "source": [
    "#ファイルの調整\n",
    "awk '$1!=\"FID\" && $3=\"Yes\" {print $1\"\\t\"$2\"\\t\"$4}' Output_2/1KG_EUR-RAGWAS.best > Output_2/1KG_EUR-RAGWAS.best.txt"
   ]
  },
  {
   "cell_type": "code",
   "execution_count": 30,
   "metadata": {
    "vscode": {
     "languageId": "shellscript"
    }
   },
   "outputs": [
    {
     "name": "stdout",
     "output_type": "stream",
     "text": [
      "HG00096\tHG00096\t-0.000627027476\n",
      "HG00097\tHG00097\t-0.00058856461\n",
      "HG00099\tHG00099\t-0.000713382756\n",
      "HG00100\tHG00100\t-0.000571751231\n",
      "HG00101\tHG00101\t-0.000530233701\n",
      "HG00102\tHG00102\t-0.000583765514\n",
      "HG00103\tHG00103\t-0.000573780098\n",
      "HG00104\tHG00104\t-0.000506927325\n",
      "HG00106\tHG00106\t-0.000537212649\n",
      "HG00108\tHG00108\t-0.000588234975\n"
     ]
    }
   ],
   "source": [
    "cat Output_2/1KG_EUR-RAGWAS.best.txt | head -n 10"
   ]
  },
  {
   "cell_type": "code",
   "execution_count": 31,
   "metadata": {
    "vscode": {
     "languageId": "shellscript"
    }
   },
   "outputs": [
    {
     "name": "stdout",
     "output_type": "stream",
     "text": [
      "PRsice_Command_cygwin.txt  PRSice_linux    PRSice_mac.R\n",
      "PRsice_Command_mac.txt     PRSice_linux.R  PRSice.R\n",
      "PRsice_Command.txt         PRSice_mac      PRSice_win64.exe\n",
      "\n",
      "Input:\n",
      "1KG_EUR_QC.bed  1KG_EUR_QC.fam    RA_GWASmeta_European_PRSise.txt.gz\n",
      "1KG_EUR_QC.bim  phenotype_RA.txt\n",
      "\n",
      "lib:\n",
      "data.table  getopt  optparse\n",
      "\n",
      "Output:\n",
      "1KG_EUR-RAGWAS_BARPLOT_2019-08-25.png        1KG_EUR-RAGWAS.log\n",
      "1KG_EUR-RAGWAS_BARPLOT_2021-07-14.png        1KG_EUR-RAGWAS-PRSboxplot.png\n",
      "1KG_EUR-RAGWAS.best                          1KG_EUR-RAGWAS.prsice\n",
      "1KG_EUR-RAGWAS.best.txt                      1KG_EUR-RAGWAS.summary\n",
      "1KG_EUR-RAGWAS_HIGH-RES_PLOT_2019-08-25.png  1KG_EUR_Sample.txt\n",
      "1KG_EUR-RAGWAS_HIGH-RES_PLOT_2021-07-14.png  PlotPRSice.R\n",
      "\n",
      "Output_2:\n",
      "1KG_EUR-RAGWAS_BARPLOT_2023-12-18.png        1KG_EUR-RAGWAS.log\n",
      "1KG_EUR-RAGWAS.best                          1KG_EUR-RAGWAS.prsice\n",
      "1KG_EUR-RAGWAS.best.txt                      1KG_EUR-RAGWAS.summary\n",
      "1KG_EUR-RAGWAS_HIGH-RES_PLOT_2023-12-18.png\n"
     ]
    }
   ],
   "source": [
    "ls *"
   ]
  },
  {
   "cell_type": "code",
   "execution_count": 32,
   "metadata": {
    "vscode": {
     "languageId": "shellscript"
    }
   },
   "outputs": [
    {
     "name": "stdout",
     "output_type": "stream",
     "text": [
      "     1\t#ディレクトリの移動\n",
      "     2\t\trm(list = ls(all = TRUE))\n",
      "     3\t\tsetwd(\"C:/SummerSchool/GenomeDataAnalysis5/PRSice/Output\");\n",
      "     4\t\n",
      "     5\t\n",
      "     6\t\tPRS <- read.table(\"1KG_EUR-RAGWAS.best.txt\", header=FALSE)[,3];\n",
      "     7\t\tPop <- read.table(\"1KG_EUR_Sample.txt\", header=FALSE)[,2];\n",
      "     8\t\n",
      "     9\t\tpng(file=\"1KG_EUR-RAGWAS-PRSboxplot.png\", width = 600, height = 600);\n",
      "    10\t\tpar(mar = c(5, 5, 0.5, 0.5));\n",
      "    11\t\tboxplot(PRS~Pop, col=c(2,3,4,5,6), pch=16, xlab=\"1KG EUR sub-populations\", ylab=\"Polygenic risk score for rheumatoid arthritis\", cex.lab=2.0, cex.axis=2.0, cex.main=2.0);\n",
      "    12\t\tdev.off();\n",
      "    13\t\t\n",
      "    14\t\tanova(aov(PRS~Pop)) # P-value for Pop < 2.2x10^-16\n",
      "    15\t\t\n"
     ]
    }
   ],
   "source": [
    "#Rスクリプトの調整\n",
    "cat Output/PlotPRSice.R -n"
   ]
  },
  {
   "cell_type": "code",
   "execution_count": 33,
   "metadata": {
    "vscode": {
     "languageId": "shellscript"
    }
   },
   "outputs": [
    {
     "name": "stdout",
     "output_type": "stream",
     "text": [
      "\tPRS <- read.table(\"1KG_EUR-RAGWAS.best.txt\", header=FALSE)[,3];\n",
      "\tPop <- read.table(\"1KG_EUR_Sample.txt\", header=FALSE)[,2];\n",
      "\n",
      "\tpng(file=\"1KG_EUR-RAGWAS-PRSboxplot.png\", width = 600, height = 600);\n",
      "\tpar(mar = c(5, 5, 0.5, 0.5));\n",
      "\tboxplot(PRS~Pop, col=c(2,3,4,5,6), pch=16, xlab=\"1KG EUR sub-populations\", ylab=\"Polygenic risk score for rheumatoid arthritis\", cex.lab=2.0, cex.axis=2.0, cex.main=2.0);\n",
      "\tdev.off();\n",
      "\t\n",
      "\tanova(aov(PRS~Pop)) # P-value for Pop < 2.2x10^-16\n",
      "\t\n"
     ]
    }
   ],
   "source": [
    "cat Output/PlotPRSice.R | sed 1,5d"
   ]
  },
  {
   "cell_type": "code",
   "execution_count": 34,
   "metadata": {
    "vscode": {
     "languageId": "shellscript"
    }
   },
   "outputs": [
    {
     "name": "stdout",
     "output_type": "stream",
     "text": [
      "1KG_EUR-RAGWAS_BARPLOT_2023-12-18.png        1KG_EUR-RAGWAS.log\n",
      "1KG_EUR-RAGWAS.best                          1KG_EUR-RAGWAS.prsice\n",
      "1KG_EUR-RAGWAS.best.txt                      1KG_EUR-RAGWAS.summary\n",
      "1KG_EUR-RAGWAS_HIGH-RES_PLOT_2023-12-18.png  PlotPRSice.R\n"
     ]
    }
   ],
   "source": [
    "echo 'setwd(\"Output_2\")' > Output_2/PlotPRSice.R\n",
    "cat Output/PlotPRSice.R | sed 1,5d >> Output_2/PlotPRSice.R\n",
    "ls Output_2"
   ]
  },
  {
   "cell_type": "code",
   "execution_count": 35,
   "metadata": {
    "vscode": {
     "languageId": "shellscript"
    }
   },
   "outputs": [
    {
     "name": "stdout",
     "output_type": "stream",
     "text": [
      "setwd(\"Output_2\")\n",
      "\tPRS <- read.table(\"1KG_EUR-RAGWAS.best.txt\", header=FALSE)[,3];\n",
      "\tPop <- read.table(\"1KG_EUR_Sample.txt\", header=FALSE)[,2];\n",
      "\n",
      "\tpng(file=\"1KG_EUR-RAGWAS-PRSboxplot.png\", width = 600, height = 600);\n",
      "\tpar(mar = c(5, 5, 0.5, 0.5));\n",
      "\tboxplot(PRS~Pop, col=c(2,3,4,5,6), pch=16, xlab=\"1KG EUR sub-populations\", ylab=\"Polygenic risk score for rheumatoid arthritis\", cex.lab=2.0, cex.axis=2.0, cex.main=2.0);\n",
      "\tdev.off();\n",
      "\t\n",
      "\tanova(aov(PRS~Pop)) # P-value for Pop < 2.2x10^-16\n",
      "\t\n"
     ]
    }
   ],
   "source": [
    "cat Output_2/PlotPRSice.R"
   ]
  },
  {
   "cell_type": "code",
   "execution_count": 36,
   "metadata": {
    "vscode": {
     "languageId": "shellscript"
    }
   },
   "outputs": [],
   "source": [
    "#必要ファイルの準備\n",
    "cp Output/1KG_EUR_Sample.txt Output_2/"
   ]
  },
  {
   "cell_type": "code",
   "execution_count": 37,
   "metadata": {
    "vscode": {
     "languageId": "shellscript"
    }
   },
   "outputs": [
    {
     "name": "stdout",
     "output_type": "stream",
     "text": [
      "null device \n",
      "          1 \n",
      "Analysis of Variance Table\n",
      "\n",
      "Response: PRS\n",
      "           Df     Sum Sq    Mean Sq F value    Pr(>F)    \n",
      "Pop         4 6.4407e-07 1.6102e-07  33.237 < 2.2e-16 ***\n",
      "Residuals 376 1.8215e-06 4.8440e-09                      \n",
      "---\n",
      "Signif. codes:  0 ‘***’ 0.001 ‘**’ 0.01 ‘*’ 0.05 ‘.’ 0.1 ‘ ’ 1\n"
     ]
    }
   ],
   "source": [
    "#Rスクリプトの実行\n",
    "Rscript Output_2/PlotPRSice.R"
   ]
  },
  {
   "cell_type": "code",
   "execution_count": 38,
   "metadata": {
    "vscode": {
     "languageId": "shellscript"
    }
   },
   "outputs": [
    {
     "name": "stdout",
     "output_type": "stream",
     "text": [
      "1KG_EUR-RAGWAS_BARPLOT_2023-12-18.png        1KG_EUR-RAGWAS-PRSboxplot.png\n",
      "1KG_EUR-RAGWAS.best                          1KG_EUR-RAGWAS.prsice\n",
      "1KG_EUR-RAGWAS.best.txt                      1KG_EUR-RAGWAS.summary\n",
      "1KG_EUR-RAGWAS_HIGH-RES_PLOT_2023-12-18.png  1KG_EUR_Sample.txt\n",
      "1KG_EUR-RAGWAS.log                           PlotPRSice.R\n"
     ]
    }
   ],
   "source": [
    "ls Output_2"
   ]
  },
  {
   "cell_type": "code",
   "execution_count": 39,
   "metadata": {
    "vscode": {
     "languageId": "shellscript"
    }
   },
   "outputs": [],
   "source": [
    "#画像表示の準備\n",
    "cp Output_2/1KG_EUR-RAGWAS-PRSboxplot.png ~/hmiwa/hmiwa-lab/d_20231023/05_231211_RePRSTrials/pic"
   ]
  },
  {
   "cell_type": "markdown",
   "metadata": {},
   "source": [
    "<img src=\"pic/1KG_EUR-RAGWAS-PRSboxplot.png\" width=\"49%\">"
   ]
  },
  {
   "cell_type": "markdown",
   "metadata": {},
   "source": [
    "### 東アジア集団GWAS（BaseData）のQC"
   ]
  },
  {
   "cell_type": "markdown",
   "metadata": {},
   "source": [
    "まずややこしいのでコード格納ディレクトリとストレージディレクトリをそれぞれ変数にあてておく"
   ]
  },
  {
   "cell_type": "code",
   "execution_count": 40,
   "metadata": {
    "vscode": {
     "languageId": "shellscript"
    }
   },
   "outputs": [
    {
     "name": "stdout",
     "output_type": "stream",
     "text": [
      "05_231211_RePRSTrials.ipynb  Documents  jupyter_venv5  pic  test.ipynb\n",
      "StatGenSummerSchool2023_GenomeDataAnalysis5\n",
      "StatGenSummerSchool2023_GenomeDataAnalysis5.zip\n"
     ]
    }
   ],
   "source": [
    "gitdir=~/hmiwa/hmiwa-lab/d_20231023/05_231211_RePRSTrials\n",
    "ls $gitdir\n",
    "\n",
    "strdir=~/hmiwa1/storage/hmiwa-lab/05_231211_RePRSTrials\n",
    "ls $strdir"
   ]
  },
  {
   "cell_type": "code",
   "execution_count": 41,
   "metadata": {
    "vscode": {
     "languageId": "shellscript"
    }
   },
   "outputs": [
    {
     "name": "stdout",
     "output_type": "stream",
     "text": [
      "Basedata\n",
      "StatGenSummerSchool2023_GenomeDataAnalysis5\n",
      "StatGenSummerSchool2023_GenomeDataAnalysis5.zip\n"
     ]
    }
   ],
   "source": [
    "cd $strdir\n",
    "mkdir -p Basedata\n",
    "ls"
   ]
  },
  {
   "cell_type": "markdown",
   "metadata": {},
   "source": [
    "#### データのダウンロード\n",
    "\n",
    "論文はこれを使う。\n",
    "\n",
    "https://www-nature-com.utokyo.idm.oclc.org/articles/s41588-017-0011-x"
   ]
  },
  {
   "cell_type": "code",
   "execution_count": 42,
   "metadata": {
    "vscode": {
     "languageId": "shellscript"
    }
   },
   "outputs": [
    {
     "name": "stdout",
     "output_type": "stream",
     "text": [
      "--2023-12-18 16:24:36--  https://portals.broadinstitute.org/collaboration/giant/images/7/78/BMI_Eastern_Asian.fmt.gzip\n",
      "Resolving portals.broadinstitute.org (portals.broadinstitute.org)... 69.173.68.142\n",
      "Connecting to portals.broadinstitute.org (portals.broadinstitute.org)|69.173.68.142|:443... connected.\n",
      "HTTP request sent, awaiting response... 200 OK\n",
      "Length: 12268615 (12M)\n",
      "Saving to: ‘BMI_Eastern_Asian.fmt.gzip’\n",
      "\n",
      "BMI_Eastern_Asian.f 100%[===================>]  11.70M  5.43MB/s    in 2.2s    \n",
      "\n",
      "2023-12-18 16:24:39 (5.43 MB/s) - ‘BMI_Eastern_Asian.fmt.gzip’ saved [12268615/12268615]\n",
      "\n"
     ]
    }
   ],
   "source": [
    "cd $strdir/Basedata\n",
    "wget https://portals.broadinstitute.org/collaboration/giant/images/7/78/BMI_Eastern_Asian.fmt.gzip"
   ]
  },
  {
   "cell_type": "code",
   "execution_count": 43,
   "metadata": {
    "vscode": {
     "languageId": "shellscript"
    }
   },
   "outputs": [
    {
     "name": "stdout",
     "output_type": "stream",
     "text": [
      "BMI_Eastern_Asian.fmt.gzip\n"
     ]
    }
   ],
   "source": [
    "ls $strdir/Basedata"
   ]
  },
  {
   "cell_type": "code",
   "execution_count": 44,
   "metadata": {
    "vscode": {
     "languageId": "shellscript"
    }
   },
   "outputs": [
    {
     "name": "stdout",
     "output_type": "stream",
     "text": [
      "CHR\tPOS\tREF\tALT\tSNPNAME\tEAS_MAF\tExAC_EAS_MAF\tbeta\tse\tPvalue\n",
      "10\t100003875\tG\tA\trs148923672\t-\tA:0\tNA\tInf\tNA\n",
      "10\t100008694\tC\tG\trs200213822\t-\tG:0\t1.6\t1\t0.1\n",
      "10\t100010909\tC\tT\trs141069497\tT:0.0139\tT:0.006614\t-0.022\t0.1\t0.83\n",
      "10\t100011387\tC\tT\trs199733612\t-\tT:0,G:0\t1.1\t1\t0.27\n",
      "10\t100011442\tC\tT\trs74153530\tT:0\tT:0,G:0\t0.66\t0.59\t0.26\n",
      "10\t100013325\tC\tT\trs145270262\t-\tT:0\tNA\tInf\tNA\n",
      "10\t100013367\tC\tT\trs199557224\t-\tT:0\tNA\tInf\tNA\n",
      "10\t100013382\tA\tG\trs141995277\tG:0\tG:0\tNA\tInf\tNA\n",
      "10\t100013418\tT\tG\trs148260647\t-\tG:0\t0.41\t1\t0.68\n"
     ]
    }
   ],
   "source": [
    "head BMI_Eastern_Asian.fmt.gzip"
   ]
  },
  {
   "cell_type": "markdown",
   "metadata": {},
   "source": [
    "#### QCのチェックリスト\n",
    "* Heritability Check\n",
    "* Effect Allele\n",
    "* File Transfer\n",
    "* Genome Build\n",
    "* Standard GWAS QC\n",
    "* Mismatching SNPs\n",
    "* Duplicate SNPs\n",
    "* Ambiguous SNPs\n",
    "* Sex Chromosomes\n",
    "* Sample overlap\n",
    "* Relatedness"
   ]
  },
  {
   "cell_type": "markdown",
   "metadata": {},
   "source": [
    "##### Heritability Check\n",
    "\n",
    "今回はスキップさせてくれ…　たぶん大丈夫だとは思うのだが。\n",
    "\n",
    "（この前提が崩れるとそもそもこれが使えない。そういうものは公開されてないと思う。）"
   ]
  },
  {
   "cell_type": "markdown",
   "metadata": {},
   "source": [
    "##### Effect Allele\n",
    "\n",
    "MAFでフィルタリングするときに同時にチェックします。"
   ]
  },
  {
   "cell_type": "markdown",
   "metadata": {},
   "source": [
    "##### File Transfer\n",
    "\n",
    "ファイルの損傷チェック。とりあえずスキップ。"
   ]
  },
  {
   "cell_type": "markdown",
   "metadata": {},
   "source": [
    "##### Genome Build：hg19/hg38が合っているかのチェック"
   ]
  },
  {
   "cell_type": "code",
   "execution_count": 45,
   "metadata": {
    "vscode": {
     "languageId": "shellscript"
    }
   },
   "outputs": [
    {
     "name": "stdout",
     "output_type": "stream",
     "text": [
      "CHR\tPOS\tREF\tALT\tSNPNAME\tEAS_MAF\tExAC_EAS_MAF\tbeta\tse\tPvalue\n",
      "10\t100003875\tG\tA\trs148923672\t-\tA:0\tNA\tInf\tNA\n"
     ]
    }
   ],
   "source": [
    "head -n 2 BMI_Eastern_Asian.fmt.gzip"
   ]
  },
  {
   "cell_type": "markdown",
   "metadata": {},
   "source": [
    "https://www.ncbi.nlm.nih.gov/snp/?term=rs148923672\n",
    "\n",
    "上記を確認すると、\n",
    "\n",
    "    10:98244118 (GRCh38)\n",
    "    10:100003875 (GRCh37)\n",
    "    \n",
    "とあるので、このデータはGRCh37で間違いなさそう。"
   ]
  },
  {
   "cell_type": "markdown",
   "metadata": {},
   "source": [
    "##### Standard GWAS QC：MAFやINFOが低いSNPは除去した方が良い！"
   ]
  },
  {
   "cell_type": "code",
   "execution_count": 46,
   "metadata": {
    "vscode": {
     "languageId": "shellscript"
    }
   },
   "outputs": [],
   "source": [
    "cd $strdir/Basedata"
   ]
  },
  {
   "cell_type": "code",
   "execution_count": 47,
   "metadata": {
    "vscode": {
     "languageId": "shellscript"
    }
   },
   "outputs": [
    {
     "name": "stdout",
     "output_type": "stream",
     "text": [
      "CHR\tPOS\tREF\tALT\tSNPNAME\tEAS_MAF\tExAC_EAS_MAF\tbeta\tse\tPvalue\n",
      "10\t100003875\tG\tA\trs148923672\t-\t0\tNA\tInf\tNA\n",
      "10\t100008694\tC\tG\trs200213822\t-\t0\t1.6\t1\t0.1\n",
      "10\t100010909\tC\tT\trs141069497\t0.0139\t0.006614\t-0.022\t0.1\t0.83\n",
      "10\t100013325\tC\tT\trs145270262\t-\t0\tNA\tInf\tNA\n",
      "10\t100013367\tC\tT\trs199557224\t-\t0\tNA\tInf\tNA\n",
      "10\t100013382\tA\tG\trs141995277\t0\t0\tNA\tInf\tNA\n",
      "10\t100013418\tT\tG\trs148260647\t-\t0\t0.41\t1\t0.68\n"
     ]
    }
   ],
   "source": [
    "head BMI_Eastern_Asian.fmt.gzip | \\\n",
    "sed -e s/A://g -e s/T://g -e s/G://g -e s/C://g | \\\n",
    "grep -v ,"
   ]
  },
  {
   "cell_type": "code",
   "execution_count": 48,
   "metadata": {
    "vscode": {
     "languageId": "shellscript"
    }
   },
   "outputs": [
    {
     "name": "stdout",
     "output_type": "stream",
     "text": [
      "CHR\tPOS\tREF\tALT\tSNPNAME\tEAS_MAF\tExAC_EAS_MAF\tbeta\tse\tPvalue\n",
      "10\t100010909\tC\tT\trs141069497\t0.0139\t0.006614\t-0.022\t0.1\t0.83\n"
     ]
    }
   ],
   "source": [
    "head BMI_Eastern_Asian.fmt.gzip | \\\n",
    "sed -e s/A://g -e s/T://g -e s/G://g -e s/C://g | \\\n",
    "grep -v , | \\\n",
    "awk 'NR==1 || ($6 > 0.01) {print}'"
   ]
  },
  {
   "cell_type": "code",
   "execution_count": 49,
   "metadata": {
    "vscode": {
     "languageId": "shellscript"
    }
   },
   "outputs": [
    {
     "name": "stdout",
     "output_type": "stream",
     "text": [
      "CHR\tPOS\tREF\tALT\tSNPNAME\tEAS_MAF\tExAC_EAS_MAF\tbeta\tse\tPvalue\n",
      "10\t100003875\tG\tA\trs148923672\t-\tA:0\tNA\tInf\tNA\n",
      "10\t100008694\tC\tG\trs200213822\t-\tG:0\t1.6\t1\t0.1\n",
      "10\t100010909\tC\tT\trs141069497\tT:0.0139\tT:0.006614\t-0.022\t0.1\t0.83\n",
      "10\t100013325\tC\tT\trs145270262\t-\tT:0\tNA\tInf\tNA\n",
      "10\t100013367\tC\tT\trs199557224\t-\tT:0\tNA\tInf\tNA\n",
      "10\t100013382\tA\tG\trs141995277\tG:0\tG:0\tNA\tInf\tNA\n",
      "10\t100013418\tT\tG\trs148260647\t-\tG:0\t0.41\t1\t0.68\n"
     ]
    }
   ],
   "source": [
    "head BMI_Eastern_Asian.fmt.gzip | \\\n",
    "grep -v , "
   ]
  },
  {
   "cell_type": "code",
   "execution_count": 50,
   "metadata": {
    "vscode": {
     "languageId": "shellscript"
    }
   },
   "outputs": [
    {
     "name": "stdout",
     "output_type": "stream",
     "text": [
      "CHR\tPOS\tREF\tALT\tSNPNAME\tEAS_MAF\tExAC_EAS_MAF\tbeta\tse\tPvalue\n",
      "10\t100003875\tG\tA\trs148923672\t-\t-\tA\t0\tNA\tInf\tNA\n",
      "10\t100008694\tC\tG\trs200213822\t-\t-\tG\t0\t1.6\t1\t0.1\n",
      "10\t100010909\tC\tT\trs141069497\tT\t0.0139\tT\t0.006614\t-\t-0.022\t0.1\t0.83\n",
      "10\t100013325\tC\tT\trs145270262\t-\t-\tT\t0\tNA\tInf\tNA\n",
      "10\t100013367\tC\tT\trs199557224\t-\t-\tT\t0\tNA\tInf\tNA\n",
      "10\t100013382\tA\tG\trs141995277\tG\t0\tG\t0\tNA\tInf\tNA\n",
      "10\t100013418\tT\tG\trs148260647\t-\t-\tG\t0\t0.41\t1\t0.68\n"
     ]
    }
   ],
   "source": [
    "head BMI_Eastern_Asian.fmt.gzip | \\\n",
    "grep -v , | \\\n",
    "sed -e s/:/\"\\t\"/g -e s/-/-\"\\t\"-/g"
   ]
  },
  {
   "cell_type": "code",
   "execution_count": 51,
   "metadata": {
    "vscode": {
     "languageId": "shellscript"
    }
   },
   "outputs": [
    {
     "name": "stdout",
     "output_type": "stream",
     "text": [
      "CHR\tPOS\tREF\tALT\tSNPNAME\tEAS\tEAS_MAF\tExAC_EAS\tExAC_EAS_MAF\tbeta\tse\tPvalue\n"
     ]
    },
    {
     "name": "stdout",
     "output_type": "stream",
     "text": [
      "CHR\tPOS\tREF\tALT\tSNPNAME\tEAS_MAF\tExAC_EAS_MAF\tbeta\tse\tPvalue\n",
      "10\t100003875\tG\tA\trs148923672\t-\t-\tA\t0\tNA\tInf\tNA\n",
      "10\t100008694\tC\tG\trs200213822\t-\t-\tG\t0\t1.6\t1\t0.1\n",
      "10\t100010909\tC\tT\trs141069497\tT\t0.0139\tT\t0.006614\t-\t-0.022\t0.1\t0.83\n",
      "10\t100013325\tC\tT\trs145270262\t-\t-\tT\t0\tNA\tInf\tNA\n",
      "10\t100013367\tC\tT\trs199557224\t-\t-\tT\t0\tNA\tInf\tNA\n",
      "10\t100013382\tA\tG\trs141995277\tG\t0\tG\t0\tNA\tInf\tNA\n",
      "10\t100013418\tT\tG\trs148260647\t-\t-\tG\t0\t0.41\t1\t0.68\n"
     ]
    }
   ],
   "source": [
    "echo -e 'CHR\\tPOS\\tREF\\tALT\\tSNPNAME\\tEAS\\tEAS_MAF\\tExAC_EAS\\tExAC_EAS_MAF\\tbeta\\tse\\tPvalue'\n",
    "head BMI_Eastern_Asian.fmt.gzip | \\\n",
    "grep -v , | \\\n",
    "sed -e s/:/\"\\t\"/g -e s/-/-\"\\t\"-/g"
   ]
  },
  {
   "cell_type": "code",
   "execution_count": 52,
   "metadata": {
    "vscode": {
     "languageId": "shellscript"
    }
   },
   "outputs": [
    {
     "name": "stdout",
     "output_type": "stream",
     "text": [
      "CHR\tPOS\tREF\tALT\tSNPNAME\tEAS\tEAS_MAF\tExAC_EAS\tExAC_EAS_MAF\tbeta\tse\tPvalue\n"
     ]
    },
    {
     "name": "stdout",
     "output_type": "stream",
     "text": [
      "10\t100003875\tG\tA\trs148923672\t-\t-\tA\t0\tNA\tInf\tNA\n",
      "10\t100008694\tC\tG\trs200213822\t-\t-\tG\t0\t1.6\t1\t0.1\n",
      "10\t100010909\tC\tT\trs141069497\tT\t0.0139\tT\t0.006614\t-\t-0.022\t0.1\t0.83\n",
      "10\t100013325\tC\tT\trs145270262\t-\t-\tT\t0\tNA\tInf\tNA\n",
      "10\t100013367\tC\tT\trs199557224\t-\t-\tT\t0\tNA\tInf\tNA\n",
      "10\t100013382\tA\tG\trs141995277\tG\t0\tG\t0\tNA\tInf\tNA\n",
      "10\t100013418\tT\tG\trs148260647\t-\t-\tG\t0\t0.41\t1\t0.68\n"
     ]
    }
   ],
   "source": [
    "echo -e 'CHR\\tPOS\\tREF\\tALT\\tSNPNAME\\tEAS\\tEAS_MAF\\tExAC_EAS\\tExAC_EAS_MAF\\tbeta\\tse\\tPvalue'\n",
    "head BMI_Eastern_Asian.fmt.gzip | \\\n",
    "grep -v , | \\\n",
    "sed -e s/:/\"\\t\"/g -e s/-/-\"\\t\"-/g | \\\n",
    "sed 1d"
   ]
  },
  {
   "cell_type": "code",
   "execution_count": 53,
   "metadata": {
    "vscode": {
     "languageId": "shellscript"
    }
   },
   "outputs": [],
   "source": [
    "echo -e 'CHR\\tPOS\\tREF\\tALT\\tSNPNAME\\tEAS\\tEAS_MAF\\tExAC_EAS\\tExAC_EAS_MAF\\tbeta\\tse\\tPvalue' > BMI_Eastern_Asian.newcol.txt\n",
    "cat BMI_Eastern_Asian.fmt.gzip | \\\n",
    "grep -v , | \\\n",
    "sed -e s/:/\"\\t\"/g -e s/-/-\"\\t\"-/g | \\\n",
    "sed 1d >> BMI_Eastern_Asian.newcol.txt "
   ]
  },
  {
   "cell_type": "code",
   "execution_count": 54,
   "metadata": {
    "vscode": {
     "languageId": "shellscript"
    }
   },
   "outputs": [
    {
     "name": "stdout",
     "output_type": "stream",
     "text": [
      "  31194  389695 1870772\n"
     ]
    }
   ],
   "source": [
    "cat BMI_Eastern_Asian.newcol.txt | \\\n",
    "awk 'NR==1 || ($7 > 0.01) {print}' | wc"
   ]
  },
  {
   "cell_type": "code",
   "execution_count": 55,
   "metadata": {
    "vscode": {
     "languageId": "shellscript"
    }
   },
   "outputs": [
    {
     "name": "stdout",
     "output_type": "stream",
     "text": [
      "  31170  389376 1869585\n"
     ]
    }
   ],
   "source": [
    "cat BMI_Eastern_Asian.newcol.txt | \\\n",
    "awk 'NR==1 || ($7 > 0.01) && ($4 == $6) {print}' | wc"
   ]
  },
  {
   "cell_type": "code",
   "execution_count": 56,
   "metadata": {
    "vscode": {
     "languageId": "shellscript"
    }
   },
   "outputs": [],
   "source": [
    "cat BMI_Eastern_Asian.newcol.txt | \\\n",
    "awk 'NR==1 || ($7 > 0.01) && ($4 == $6) {print}' > BMI_Eastern_Asian.txt"
   ]
  },
  {
   "cell_type": "code",
   "execution_count": 57,
   "metadata": {
    "vscode": {
     "languageId": "shellscript"
    }
   },
   "outputs": [
    {
     "name": "stdout",
     "output_type": "stream",
     "text": [
      "CHR\tPOS\tREF\tALT\tSNPNAME\tEAS\tEAS_MAF\tExAC_EAS\tExAC_EAS_MAF\tbeta\tse\tPvalue\n",
      "10\t100010909\tC\tT\trs141069497\tT\t0.0139\tT\t0.006614\t-\t-0.022\t0.1\t0.83\n",
      "10\t100017453\tT\tG\trs1983864\tG\t0.6081\tG\t0.5682\t-\t-0.031\t0.015\t0.044\n",
      "10\t100017532\tG\tA\trs77858766\tA\t0.0169\tA\t0.01781\t-\t-0.016\t0.058\t0.79\n",
      "10\t100017553\tG\tT\trs11189525\tT\t0.0129\tT\t0.007404\t-\t-0.014\t0.13\t0.91\n",
      "10\t100020880\tC\tT\trs33995374\tT\t0.1062\tT\t0.1163\t0.077\t0.061\t0.21\n",
      "10\t100044136\tG\tA\trs4919199\tA\t0.9544\t-\t-\t0.0076\t0.036\t0.83\n",
      "10\t100144782\tC\tT\trs2296441\tT\t0.4425\tT\t0.42\t0.012\t0.015\t0.42\n",
      "10\t100148004\tT\tC\trs2182169\tC\t0.5615\t-\t-\t0.014\t0.015\t0.37\n",
      "10\t100148176\tA\tG\trs2147896\tG\t0.5833\tG\t0.5596\t0.0052\t0.015\t0.73\n"
     ]
    }
   ],
   "source": [
    "head BMI_Eastern_Asian.txt"
   ]
  },
  {
   "cell_type": "code",
   "execution_count": 58,
   "metadata": {
    "vscode": {
     "languageId": "shellscript"
    }
   },
   "outputs": [
    {
     "name": "stdout",
     "output_type": "stream",
     "text": [
      "-rw-rw-r-- 1 hmiwa hmiwa 1869585 12月 18 16:24 BMI_Eastern_Asian.txt\n"
     ]
    },
    {
     "name": "stdout",
     "output_type": "stream",
     "text": [
      "  31170  389376 1869585 BMI_Eastern_Asian.txt\n"
     ]
    }
   ],
   "source": [
    "ls -l BMI_Eastern_Asian.txt\n",
    "wc BMI_Eastern_Asian.txt"
   ]
  },
  {
   "cell_type": "markdown",
   "metadata": {},
   "source": [
    "##### Mismatching SNPs：ターゲットデータで対立遺伝子が一致しているかどうかのチェック。\n",
    "\n",
    "ターゲットデータがないとチェックできないのでここはスキップ。"
   ]
  },
  {
   "cell_type": "markdown",
   "metadata": {},
   "source": [
    "##### Duplicate SNPs"
   ]
  },
  {
   "cell_type": "code",
   "execution_count": 59,
   "metadata": {
    "vscode": {
     "languageId": "shellscript"
    }
   },
   "outputs": [],
   "source": [
    "cat BMI_Eastern_Asian.txt |\\\n",
    "awk '{seen[$5]++; if(seen[$5]==1){print}}' > BMI_Eastern_Asian.nodup.txt"
   ]
  },
  {
   "cell_type": "code",
   "execution_count": 60,
   "metadata": {
    "vscode": {
     "languageId": "shellscript"
    }
   },
   "outputs": [
    {
     "name": "stdout",
     "output_type": "stream",
     "text": [
      "-rw-rw-r-- 1 hmiwa hmiwa 1869585 12月 18 16:24 BMI_Eastern_Asian.nodup.txt\n"
     ]
    },
    {
     "name": "stdout",
     "output_type": "stream",
     "text": [
      "  31170  389376 1869585 BMI_Eastern_Asian.nodup.txt\n"
     ]
    }
   ],
   "source": [
    "ls -l BMI_Eastern_Asian.nodup.txt\n",
    "wc BMI_Eastern_Asian.nodup.txt"
   ]
  },
  {
   "cell_type": "markdown",
   "metadata": {},
   "source": [
    "##### Ambiguous SNPs"
   ]
  },
  {
   "cell_type": "code",
   "execution_count": 61,
   "metadata": {
    "vscode": {
     "languageId": "shellscript"
    }
   },
   "outputs": [
    {
     "name": "stdout",
     "output_type": "stream",
     "text": [
      "CHR\tPOS\tREF\tALT\tSNPNAME\tEAS\tEAS_MAF\tExAC_EAS\tExAC_EAS_MAF\tbeta\tse\tPvalue\n",
      "10\t100010909\tC\tT\trs141069497\tT\t0.0139\tT\t0.006614\t-\t-0.022\t0.1\t0.83\n",
      "10\t100017453\tT\tG\trs1983864\tG\t0.6081\tG\t0.5682\t-\t-0.031\t0.015\t0.044\n",
      "10\t100017532\tG\tA\trs77858766\tA\t0.0169\tA\t0.01781\t-\t-0.016\t0.058\t0.79\n",
      "10\t100017553\tG\tT\trs11189525\tT\t0.0129\tT\t0.007404\t-\t-0.014\t0.13\t0.91\n",
      "10\t100020880\tC\tT\trs33995374\tT\t0.1062\tT\t0.1163\t0.077\t0.061\t0.21\n",
      "10\t100044136\tG\tA\trs4919199\tA\t0.9544\t-\t-\t0.0076\t0.036\t0.83\n",
      "10\t100144782\tC\tT\trs2296441\tT\t0.4425\tT\t0.42\t0.012\t0.015\t0.42\n",
      "10\t100148004\tT\tC\trs2182169\tC\t0.5615\t-\t-\t0.014\t0.015\t0.37\n",
      "10\t100148176\tA\tG\trs2147896\tG\t0.5833\tG\t0.5596\t0.0052\t0.015\t0.73\n"
     ]
    }
   ],
   "source": [
    "head BMI_Eastern_Asian.nodup.txt"
   ]
  },
  {
   "cell_type": "code",
   "execution_count": 62,
   "metadata": {
    "vscode": {
     "languageId": "shellscript"
    }
   },
   "outputs": [],
   "source": [
    "cat BMI_Eastern_Asian.nodup.txt |\\\n",
    "awk '!( ($3==\"A\" && $4==\"T\") || \\\n",
    "        ($3==\"T\" && $4==\"A\") || \\\n",
    "        ($3==\"G\" && $4==\"C\") || \\\n",
    "        ($3==\"C\" && $4==\"G\")) {print}' > BMI_Eastern_Asian.QC.txt"
   ]
  },
  {
   "cell_type": "code",
   "execution_count": 63,
   "metadata": {
    "vscode": {
     "languageId": "shellscript"
    }
   },
   "outputs": [
    {
     "name": "stdout",
     "output_type": "stream",
     "text": [
      "-rw-rw-r-- 1 hmiwa hmiwa 1707833 12月 18 16:24 BMI_Eastern_Asian.QC.txt\n"
     ]
    },
    {
     "name": "stdout",
     "output_type": "stream",
     "text": [
      "  28519  356256 1707833 BMI_Eastern_Asian.QC.txt\n"
     ]
    }
   ],
   "source": [
    "ls -l BMI_Eastern_Asian.QC.txt\n",
    "wc BMI_Eastern_Asian.QC.txt"
   ]
  },
  {
   "cell_type": "markdown",
   "metadata": {},
   "source": [
    "##### Sex Chromosomes\n",
    "\n",
    "やりようがないのでスルー"
   ]
  },
  {
   "cell_type": "markdown",
   "metadata": {},
   "source": [
    "##### Sample overlap\n",
    "オセアニア集団とは絶対重ならないのでOK"
   ]
  },
  {
   "cell_type": "markdown",
   "metadata": {},
   "source": [
    "##### Relatedness\n",
    "\n",
    "本来はやるべきだが今回は一旦スキップ"
   ]
  },
  {
   "cell_type": "markdown",
   "metadata": {},
   "source": [
    "### Tonga集団サンプル（TargetData）のQC"
   ]
  },
  {
   "cell_type": "markdown",
   "metadata": {},
   "source": [
    "そもそもデータはここにあります"
   ]
  },
  {
   "cell_type": "code",
   "execution_count": 2,
   "metadata": {
    "vscode": {
     "languageId": "shellscript"
    }
   },
   "outputs": [
    {
     "name": "stdout",
     "output_type": "stream",
     "text": [
      "/home/hmiwa/hmiwa/hmiwa-lab/d_20231023/05_231211_RePRSTrials\n",
      "05_231211_RePRSTrials.ipynb  Documents  jupyter_venv5  pic  test.ipynb\n",
      "/home/hmiwa/hmiwa1/storage/hmiwa-lab/05_231211_RePRSTrials\n",
      "Basedata  StatGenSummerSchool2023_GenomeDataAnalysis5      targetdata\n",
      "out.log   StatGenSummerSchool2023_GenomeDataAnalysis5.zip\n",
      "/home/hmiwa/hmiwa1/storage/hmiwa-lab/05_231211_RePRSTrials\n",
      "Basedata  StatGenSummerSchool2023_GenomeDataAnalysis5      targetdata\n",
      "out.log   StatGenSummerSchool2023_GenomeDataAnalysis5.zip\n"
     ]
    }
   ],
   "source": [
    "#必要な変数チェック\n",
    "gitdir=~/hmiwa/hmiwa-lab/d_20231023/05_231211_RePRSTrials\n",
    "echo $gitdir\n",
    "ls $gitdir\n",
    "\n",
    "strdir=~/hmiwa1/storage/hmiwa-lab/05_231211_RePRSTrials\n",
    "echo $strdir\n",
    "ls $strdir\n",
    "\n",
    "#ストレージに移動\n",
    "cd $strdir\n",
    "echo $strdir\n",
    "ls"
   ]
  },
  {
   "cell_type": "code",
   "execution_count": 68,
   "metadata": {
    "vscode": {
     "languageId": "shellscript"
    }
   },
   "outputs": [
    {
     "name": "stdout",
     "output_type": "stream",
     "text": [
      "G05_sorted.genome.vcf.gz       T129_sorted.genome.vcf.gz.tbi\n",
      "G05_sorted.genome.vcf.gz.tbi   T134_sorted.genome.vcf.gz\n",
      "G06_sorted.genome.vcf.gz       T134_sorted.genome.vcf.gz.tbi\n",
      "G06_sorted.genome.vcf.gz.tbi   t138_sorted.genome.vcf.gz\n",
      "G135_sorted.genome.vcf.gz      t138_sorted.genome.vcf.gz.tbi\n",
      "G135_sorted.genome.vcf.gz.tbi  T150_sorted.genome.vcf.gz\n",
      "G150_sorted.genome.vcf.gz      T150_sorted.genome.vcf.gz.tbi\n",
      "G150_sorted.genome.vcf.gz.tbi  T153_sorted.genome.vcf.gz\n",
      "G152_sorted.genome.vcf.gz      T153_sorted.genome.vcf.gz.tbi\n",
      "G152_sorted.genome.vcf.gz.tbi  T156_sorted.genome.vcf.gz\n",
      "G164_sorted.genome.vcf.gz      T156_sorted.genome.vcf.gz.tbi\n",
      "G164_sorted.genome.vcf.gz.tbi  t159_sorted.genome.vcf.gz\n",
      "G217_sorted.genome.vcf.gz      t159_sorted.genome.vcf.gz.tbi\n",
      "G217_sorted.genome.vcf.gz.tbi  T15_sorted.genome.vcf.gz\n",
      "G220_sorted.genome.vcf.gz      T15_sorted.genome.vcf.gz.tbi\n",
      "G220_sorted.genome.vcf.gz.tbi  t160_sorted.genome.vcf.gz\n",
      "G256_sorted.genome.vcf.gz      t160_sorted.genome.vcf.gz.tbi\n",
      "G256_sorted.genome.vcf.gz.tbi  t21_sorted.genome.vcf.gz\n",
      "G282_sorted.genome.vcf.gz      t21_sorted.genome.vcf.gz.tbi\n",
      "G282_sorted.genome.vcf.gz.tbi  T26_sorted.genome.vcf.gz\n",
      "G304_sorted.genome.vcf.gz      T26_sorted.genome.vcf.gz.tbi\n",
      "G304_sorted.genome.vcf.gz.tbi  T33_sorted.genome.vcf.gz\n",
      "G306_sorted.genome.vcf.gz      T33_sorted.genome.vcf.gz.tbi\n",
      "G306_sorted.genome.vcf.gz.tbi  t38_sorted.genome.vcf.gz\n",
      "G326_sorted.genome.vcf.gz      t38_sorted.genome.vcf.gz.tbi\n",
      "G326_sorted.genome.vcf.gz.tbi  T47_sorted.genome.vcf.gz\n",
      "G412_sorted.genome.vcf.gz      T47_sorted.genome.vcf.gz.tbi\n",
      "G412_sorted.genome.vcf.gz.tbi  t51_sorted.genome.vcf.gz\n",
      "G627_sorted.genome.vcf.gz      t51_sorted.genome.vcf.gz.tbi\n",
      "G627_sorted.genome.vcf.gz.tbi  t69_sorted.genome.vcf.gz\n",
      "G99_sorted.genome.vcf.gz       t69_sorted.genome.vcf.gz.tbi\n",
      "G99_sorted.genome.vcf.gz.tbi   T73_sorted.genome.vcf.gz\n",
      "T03_sorted.genome.vcf.gz       T73_sorted.genome.vcf.gz.tbi\n",
      "T03_sorted.genome.vcf.gz.tbi   T74_sorted.genome.vcf.gz\n",
      "T104_sorted.genome.vcf.gz      T74_sorted.genome.vcf.gz.tbi\n",
      "T104_sorted.genome.vcf.gz.tbi  T76_sorted.genome.vcf.gz\n",
      "T105_sorted.genome.vcf.gz      T76_sorted.genome.vcf.gz.tbi\n",
      "T105_sorted.genome.vcf.gz.tbi  T82_sorted.genome.vcf.gz\n",
      "T106_sorted.genome.vcf.gz      T82_sorted.genome.vcf.gz.tbi\n",
      "T106_sorted.genome.vcf.gz.tbi  T85_sorted.genome.vcf.gz\n",
      "T109_sorted.genome.vcf.gz      T85_sorted.genome.vcf.gz.tbi\n",
      "T109_sorted.genome.vcf.gz.tbi  T87_sorted.genome.vcf.gz\n",
      "t112_sorted.genome.vcf.gz      T87_sorted.genome.vcf.gz.tbi\n",
      "t112_sorted.genome.vcf.gz.tbi  T88_sorted.genome.vcf.gz\n",
      "T120_sorted.genome.vcf.gz      T88_sorted.genome.vcf.gz.tbi\n",
      "T120_sorted.genome.vcf.gz.tbi  T98_sorted.genome.vcf.gz\n",
      "T129_sorted.genome.vcf.gz      T98_sorted.genome.vcf.gz.tbi\n"
     ]
    }
   ],
   "source": [
    "rawdir=~/hmiwa1/rawdata/Oceania\n",
    "ls $rawdir"
   ]
  },
  {
   "cell_type": "markdown",
   "metadata": {},
   "source": [
    "#### QCのチェックリスト\n",
    "\n",
    "* Sample size\n",
    "* File transfer\n",
    "* Genome build\n",
    "* Standard GWAS QC\n",
    "* Ambiguous SNPs\n",
    "* Mismatching SNPs\n",
    "* Duplicate SNPs\n",
    "* Sex Chromosomes\n",
    "* Sample Overlap\n",
    "* Relatedness\n",
    "* Generate final QC'ed target data file"
   ]
  },
  {
   "cell_type": "code",
   "execution_count": 65,
   "metadata": {
    "vscode": {
     "languageId": "shellscript"
    }
   },
   "outputs": [],
   "source": [
    "mkdir -p targetdata"
   ]
  },
  {
   "cell_type": "markdown",
   "metadata": {},
   "source": [
    "##### Sample size\n",
    "\n",
    "PRS分析は本来100人以上のターゲットデータが望ましいが、残念ながら20人くらいしかいない。致し方あるまい。"
   ]
  },
  {
   "cell_type": "markdown",
   "metadata": {},
   "source": [
    "##### File transfer\n",
    "\n",
    "md5sumコードに関しては今回は設定していない。次回以降準備しておいた方が良いかもね。"
   ]
  },
  {
   "cell_type": "markdown",
   "metadata": {},
   "source": [
    "##### Genome build\n",
    "\n",
    "これはhg19でタイピングされている。Basedataと一致している。"
   ]
  },
  {
   "cell_type": "markdown",
   "metadata": {},
   "source": [
    "##### Standard GWAS QC"
   ]
  },
  {
   "cell_type": "markdown",
   "metadata": {},
   "source": [
    "まずはトンガ人サンプルのQCを行う。"
   ]
  },
  {
   "cell_type": "code",
   "execution_count": 85,
   "metadata": {
    "vscode": {
     "languageId": "shellscript"
    }
   },
   "outputs": [
    {
     "name": "stdout",
     "output_type": "stream",
     "text": [
      "Basedata\n",
      "StatGenSummerSchool2023_GenomeDataAnalysis5\n",
      "StatGenSummerSchool2023_GenomeDataAnalysis5.zip\n",
      "targetdata\n"
     ]
    },
    {
     "name": "stdout",
     "output_type": "stream",
     "text": [
      "Basedata\n",
      "StatGenSummerSchool2023_GenomeDataAnalysis5\n",
      "StatGenSummerSchool2023_GenomeDataAnalysis5.zip\n",
      "targetdata\n"
     ]
    }
   ],
   "source": [
    "ls\n",
    "ls $strdir"
   ]
  },
  {
   "cell_type": "code",
   "execution_count": 71,
   "metadata": {
    "vscode": {
     "languageId": "shellscript"
    }
   },
   "outputs": [
    {
     "name": "stdout",
     "output_type": "stream",
     "text": [
      "/home/hmiwa/hmiwa1/rawdata/Oceania/T03_sorted.genome.vcf.gz\n",
      "/home/hmiwa/hmiwa1/rawdata/Oceania/T104_sorted.genome.vcf.gz\n",
      "/home/hmiwa/hmiwa1/rawdata/Oceania/T105_sorted.genome.vcf.gz\n",
      "/home/hmiwa/hmiwa1/rawdata/Oceania/T106_sorted.genome.vcf.gz\n",
      "/home/hmiwa/hmiwa1/rawdata/Oceania/T109_sorted.genome.vcf.gz\n",
      "/home/hmiwa/hmiwa1/rawdata/Oceania/T120_sorted.genome.vcf.gz\n",
      "/home/hmiwa/hmiwa1/rawdata/Oceania/T129_sorted.genome.vcf.gz\n",
      "/home/hmiwa/hmiwa1/rawdata/Oceania/T134_sorted.genome.vcf.gz\n",
      "/home/hmiwa/hmiwa1/rawdata/Oceania/T150_sorted.genome.vcf.gz\n",
      "/home/hmiwa/hmiwa1/rawdata/Oceania/T153_sorted.genome.vcf.gz\n",
      "/home/hmiwa/hmiwa1/rawdata/Oceania/T156_sorted.genome.vcf.gz\n",
      "/home/hmiwa/hmiwa1/rawdata/Oceania/T15_sorted.genome.vcf.gz\n",
      "/home/hmiwa/hmiwa1/rawdata/Oceania/T26_sorted.genome.vcf.gz\n",
      "/home/hmiwa/hmiwa1/rawdata/Oceania/T33_sorted.genome.vcf.gz\n",
      "/home/hmiwa/hmiwa1/rawdata/Oceania/T47_sorted.genome.vcf.gz\n",
      "/home/hmiwa/hmiwa1/rawdata/Oceania/T73_sorted.genome.vcf.gz\n",
      "/home/hmiwa/hmiwa1/rawdata/Oceania/T74_sorted.genome.vcf.gz\n",
      "/home/hmiwa/hmiwa1/rawdata/Oceania/T76_sorted.genome.vcf.gz\n",
      "/home/hmiwa/hmiwa1/rawdata/Oceania/T82_sorted.genome.vcf.gz\n",
      "/home/hmiwa/hmiwa1/rawdata/Oceania/T85_sorted.genome.vcf.gz\n",
      "/home/hmiwa/hmiwa1/rawdata/Oceania/T87_sorted.genome.vcf.gz\n",
      "/home/hmiwa/hmiwa1/rawdata/Oceania/T88_sorted.genome.vcf.gz\n",
      "/home/hmiwa/hmiwa1/rawdata/Oceania/T98_sorted.genome.vcf.gz\n"
     ]
    },
    {
     "name": "stdout",
     "output_type": "stream",
     "text": [
      "/home/hmiwa/hmiwa1/rawdata/Oceania/t112_sorted.genome.vcf.gz\n",
      "/home/hmiwa/hmiwa1/rawdata/Oceania/t138_sorted.genome.vcf.gz\n",
      "/home/hmiwa/hmiwa1/rawdata/Oceania/t159_sorted.genome.vcf.gz\n",
      "/home/hmiwa/hmiwa1/rawdata/Oceania/t160_sorted.genome.vcf.gz\n",
      "/home/hmiwa/hmiwa1/rawdata/Oceania/t21_sorted.genome.vcf.gz\n",
      "/home/hmiwa/hmiwa1/rawdata/Oceania/t38_sorted.genome.vcf.gz\n",
      "/home/hmiwa/hmiwa1/rawdata/Oceania/t51_sorted.genome.vcf.gz\n",
      "/home/hmiwa/hmiwa1/rawdata/Oceania/t69_sorted.genome.vcf.gz\n"
     ]
    }
   ],
   "source": [
    "ls $rawdir/T*vcf.gz\n",
    "ls $rawdir/t*vcf.gz"
   ]
  },
  {
   "cell_type": "code",
   "execution_count": 78,
   "metadata": {
    "vscode": {
     "languageId": "shellscript"
    }
   },
   "outputs": [
    {
     "name": "stdout",
     "output_type": "stream",
     "text": [
      "#CHROM\tPOS\tID\tREF\tALT\tQUAL\tFILTER\tINFO\tFORMAT\tT03\n",
      "chrM\t1\t.\tG\t.\t.\tLowGQX\t.\tGT:GQX:DP:DPF:MIN_DP\t0/0:12:5:0:5\n"
     ]
    }
   ],
   "source": [
    "#準備\n",
    "bcftools view --header-only $rawdir/T03_sorted.genome.vcf.gz | tail -n 1\n",
    "bcftools view --no-header $rawdir/T03_sorted.genome.vcf.gz | head -n 1"
   ]
  },
  {
   "cell_type": "code",
   "execution_count": 88,
   "metadata": {
    "vscode": {
     "languageId": "shellscript"
    }
   },
   "outputs": [],
   "source": [
    "#準備（ツールの変数設定）\n",
    "vcftools=/home/hmiwa/homebrew/bin/vcftools"
   ]
  },
  {
   "cell_type": "markdown",
   "metadata": {},
   "source": [
    "データフォルダから読み出して、FILTER=PASSのものをGTだけにする"
   ]
  },
  {
   "cell_type": "code",
   "execution_count": 96,
   "metadata": {
    "vscode": {
     "languageId": "shellscript"
    }
   },
   "outputs": [],
   "source": [
    "cd $strdir/targetdata\n",
    "for t in T03 T104 T105 T106 T109 T120 T129 T134 T150 T153 T156 T15 T26 T33 T47 T73 T74 T76 T82 T85 T87 T88 T98 t112 t138 t159 t160 t21 t38 t51 t69\n",
    "do\n",
    "$vcftools --gzvcf $rawdir/${t}_sorted.genome.vcf.gz --remove-filtered-all --recode --stdout | bgzip -c > ${t}_sorted.genome_PASS_only.vcf.gz\n",
    "bcftools index ${t}_sorted.genome_PASS_only.vcf.gz\n",
    "for i in {1..22}\n",
    "do\n",
    "bcftools view --header-only  ${t}_sorted.genome_PASS_only.vcf.gz > ${t}_sorted.genome_PASS_only.chr${i}.vcf\n",
    "bcftools query -r chr$i -f '%CHROM\\t%POS\\t%ID\\t%REF\\t%ALT\\t%QUAL\\t%FILTER\\t%INFO\\tGT[\\t%GT]\\n' ${t}_sorted.genome_PASS_only.vcf.gz | sed s/^chr//g >> ${t}_sorted.genome_PASS_only.chr${i}.vcf\n",
    "bgzip -c ${t}_sorted.genome_PASS_only.chr${i}.vcf > ${t}_sorted.genome_PASS_only.chr${i}.vcf.gz\n",
    "rm ${t}_sorted.genome_PASS_only.chr${i}.vcf\n",
    "bcftools index ${t}_sorted.genome_PASS_only.chr${i}.vcf.gz\n",
    "done\n",
    "done"
   ]
  },
  {
   "cell_type": "markdown",
   "metadata": {},
   "source": [
    "トンガ人サンプルをマージしたファイルを作る"
   ]
  },
  {
   "cell_type": "code",
   "execution_count": 97,
   "metadata": {
    "vscode": {
     "languageId": "shellscript"
    }
   },
   "outputs": [
    {
     "name": "stdout",
     "output_type": "stream",
     "text": [
      "[W::bcf_hdr_merge] Trying to combine \"GQ\" tag definitions of different types\n",
      "[W::bcf_hdr_merge] Trying to combine \"GQ\" tag definitions of different types\n",
      "[W::bcf_hdr_merge] Trying to combine \"GQ\" tag definitions of different types\n",
      "[W::bcf_hdr_merge] Trying to combine \"GQ\" tag definitions of different types\n",
      "[W::bcf_hdr_merge] Trying to combine \"GQ\" tag definitions of different types\n",
      "[W::bcf_hdr_merge] Trying to combine \"GQ\" tag definitions of different types\n",
      "[W::bcf_hdr_merge] Trying to combine \"GQ\" tag definitions of different types\n",
      "[W::bcf_hdr_merge] Trying to combine \"GQ\" tag definitions of different types\n",
      "[W::bcf_hdr_merge] Trying to combine \"GQ\" tag definitions of different types\n",
      "[W::bcf_hdr_merge] Trying to combine \"GQ\" tag definitions of different types\n",
      "[W::bcf_hdr_merge] Trying to combine \"GQ\" tag definitions of different types\n",
      "[W::bcf_hdr_merge] Trying to combine \"GQ\" tag definitions of different types\n",
      "[W::bcf_hdr_merge] Trying to combine \"GQ\" tag definitions of different types\n",
      "[W::bcf_hdr_merge] Trying to combine \"GQ\" tag definitions of different types\n",
      "[W::bcf_hdr_merge] Trying to combine \"GQ\" tag definitions of different types\n",
      "[W::bcf_hdr_merge] Trying to combine \"GQ\" tag definitions of different types\n",
      "[W::bcf_hdr_merge] Trying to combine \"GQ\" tag definitions of different types\n",
      "[W::bcf_hdr_merge] Trying to combine \"GQ\" tag definitions of different types\n",
      "[W::bcf_hdr_merge] Trying to combine \"GQ\" tag definitions of different types\n",
      "[W::bcf_hdr_merge] Trying to combine \"GQ\" tag definitions of different types\n",
      "[W::bcf_hdr_merge] Trying to combine \"GQ\" tag definitions of different types\n",
      "[W::bcf_hdr_merge] Trying to combine \"GQ\" tag definitions of different types\n",
      "[W::bcf_hdr_merge] Trying to combine \"GQ\" tag definitions of different types\n",
      "[W::bcf_hdr_merge] Trying to combine \"GQ\" tag definitions of different types\n",
      "[W::bcf_hdr_merge] Trying to combine \"GQ\" tag definitions of different types\n",
      "[W::bcf_hdr_merge] Trying to combine \"GQ\" tag definitions of different types\n",
      "[W::bcf_hdr_merge] Trying to combine \"GQ\" tag definitions of different types\n",
      "[W::bcf_hdr_merge] Trying to combine \"GQ\" tag definitions of different types\n",
      "[W::bcf_hdr_merge] Trying to combine \"GQ\" tag definitions of different types\n",
      "[W::bcf_hdr_merge] Trying to combine \"GQ\" tag definitions of different types\n",
      "[W::bcf_hdr_merge] Trying to combine \"GQ\" tag definitions of different types\n",
      "[W::bcf_hdr_merge] Trying to combine \"GQ\" tag definitions of different types\n",
      "[W::bcf_hdr_merge] Trying to combine \"GQ\" tag definitions of different types\n",
      "[W::bcf_hdr_merge] Trying to combine \"GQ\" tag definitions of different types\n",
      "[W::bcf_hdr_merge] Trying to combine \"GQ\" tag definitions of different types\n",
      "[W::bcf_hdr_merge] Trying to combine \"GQ\" tag definitions of different types\n",
      "[W::bcf_hdr_merge] Trying to combine \"GQ\" tag definitions of different types\n",
      "[W::bcf_hdr_merge] Trying to combine \"GQ\" tag definitions of different types\n",
      "[W::bcf_hdr_merge] Trying to combine \"GQ\" tag definitions of different types\n",
      "[W::bcf_hdr_merge] Trying to combine \"GQ\" tag definitions of different types\n",
      "[W::bcf_hdr_merge] Trying to combine \"GQ\" tag definitions of different types\n",
      "[W::bcf_hdr_merge] Trying to combine \"GQ\" tag definitions of different types\n",
      "[W::bcf_hdr_merge] Trying to combine \"GQ\" tag definitions of different types\n",
      "[W::bcf_hdr_merge] Trying to combine \"GQ\" tag definitions of different types\n",
      "[W::bcf_hdr_merge] Trying to combine \"GQ\" tag definitions of different types\n",
      "[W::bcf_hdr_merge] Trying to combine \"GQ\" tag definitions of different types\n",
      "[W::bcf_hdr_merge] Trying to combine \"GQ\" tag definitions of different types\n",
      "[W::bcf_hdr_merge] Trying to combine \"GQ\" tag definitions of different types\n",
      "[W::bcf_hdr_merge] Trying to combine \"GQ\" tag definitions of different types\n",
      "[W::bcf_hdr_merge] Trying to combine \"GQ\" tag definitions of different types\n",
      "[W::bcf_hdr_merge] Trying to combine \"GQ\" tag definitions of different types\n",
      "[W::bcf_hdr_merge] Trying to combine \"GQ\" tag definitions of different types\n",
      "[W::bcf_hdr_merge] Trying to combine \"GQ\" tag definitions of different types\n",
      "[W::bcf_hdr_merge] Trying to combine \"GQ\" tag definitions of different types\n",
      "[W::bcf_hdr_merge] Trying to combine \"GQ\" tag definitions of different types\n",
      "[W::bcf_hdr_merge] Trying to combine \"GQ\" tag definitions of different types\n",
      "[W::bcf_hdr_merge] Trying to combine \"GQ\" tag definitions of different types\n",
      "[W::bcf_hdr_merge] Trying to combine \"GQ\" tag definitions of different types\n",
      "[W::bcf_hdr_merge] Trying to combine \"GQ\" tag definitions of different types\n",
      "[W::bcf_hdr_merge] Trying to combine \"GQ\" tag definitions of different types\n",
      "[W::bcf_hdr_merge] Trying to combine \"GQ\" tag definitions of different types\n",
      "[W::bcf_hdr_merge] Trying to combine \"GQ\" tag definitions of different types\n",
      "[W::bcf_hdr_merge] Trying to combine \"GQ\" tag definitions of different types\n",
      "[W::bcf_hdr_merge] Trying to combine \"GQ\" tag definitions of different types\n",
      "[W::bcf_hdr_merge] Trying to combine \"GQ\" tag definitions of different types\n",
      "[W::bcf_hdr_merge] Trying to combine \"GQ\" tag definitions of different types\n",
      "[W::bcf_hdr_merge] Trying to combine \"GQ\" tag definitions of different types\n",
      "[W::bcf_hdr_merge] Trying to combine \"GQ\" tag definitions of different types\n",
      "[W::bcf_hdr_merge] Trying to combine \"GQ\" tag definitions of different types\n",
      "[W::bcf_hdr_merge] Trying to combine \"GQ\" tag definitions of different types\n",
      "[W::bcf_hdr_merge] Trying to combine \"GQ\" tag definitions of different types\n",
      "[W::bcf_hdr_merge] Trying to combine \"GQ\" tag definitions of different types\n",
      "[W::bcf_hdr_merge] Trying to combine \"GQ\" tag definitions of different types\n",
      "[W::bcf_hdr_merge] Trying to combine \"GQ\" tag definitions of different types\n",
      "[W::bcf_hdr_merge] Trying to combine \"GQ\" tag definitions of different types\n",
      "[W::bcf_hdr_merge] Trying to combine \"GQ\" tag definitions of different types\n",
      "[W::bcf_hdr_merge] Trying to combine \"GQ\" tag definitions of different types\n",
      "[W::bcf_hdr_merge] Trying to combine \"GQ\" tag definitions of different types\n",
      "[W::bcf_hdr_merge] Trying to combine \"GQ\" tag definitions of different types\n",
      "[W::bcf_hdr_merge] Trying to combine \"GQ\" tag definitions of different types\n",
      "[W::bcf_hdr_merge] Trying to combine \"GQ\" tag definitions of different types\n",
      "[W::bcf_hdr_merge] Trying to combine \"GQ\" tag definitions of different types\n",
      "[W::bcf_hdr_merge] Trying to combine \"GQ\" tag definitions of different types\n",
      "[W::bcf_hdr_merge] Trying to combine \"GQ\" tag definitions of different types\n",
      "[W::bcf_hdr_merge] Trying to combine \"GQ\" tag definitions of different types\n",
      "[W::bcf_hdr_merge] Trying to combine \"GQ\" tag definitions of different types\n",
      "[W::bcf_hdr_merge] Trying to combine \"GQ\" tag definitions of different types\n",
      "[W::bcf_hdr_merge] Trying to combine \"GQ\" tag definitions of different types\n",
      "[W::bcf_hdr_merge] Trying to combine \"GQ\" tag definitions of different types\n",
      "[W::bcf_hdr_merge] Trying to combine \"GQ\" tag definitions of different types\n",
      "[W::bcf_hdr_merge] Trying to combine \"GQ\" tag definitions of different types\n",
      "[W::bcf_hdr_merge] Trying to combine \"GQ\" tag definitions of different types\n",
      "[W::bcf_hdr_merge] Trying to combine \"GQ\" tag definitions of different types\n",
      "[W::bcf_hdr_merge] Trying to combine \"GQ\" tag definitions of different types\n",
      "[W::bcf_hdr_merge] Trying to combine \"GQ\" tag definitions of different types\n",
      "[W::bcf_hdr_merge] Trying to combine \"GQ\" tag definitions of different types\n",
      "[W::bcf_hdr_merge] Trying to combine \"GQ\" tag definitions of different types\n",
      "[W::bcf_hdr_merge] Trying to combine \"GQ\" tag definitions of different types\n",
      "[W::bcf_hdr_merge] Trying to combine \"GQ\" tag definitions of different types\n",
      "[W::bcf_hdr_merge] Trying to combine \"GQ\" tag definitions of different types\n",
      "[W::bcf_hdr_merge] Trying to combine \"GQ\" tag definitions of different types\n",
      "[W::bcf_hdr_merge] Trying to combine \"GQ\" tag definitions of different types\n",
      "[W::bcf_hdr_merge] Trying to combine \"GQ\" tag definitions of different types\n",
      "[W::bcf_hdr_merge] Trying to combine \"GQ\" tag definitions of different types\n",
      "[W::bcf_hdr_merge] Trying to combine \"GQ\" tag definitions of different types\n",
      "[W::bcf_hdr_merge] Trying to combine \"GQ\" tag definitions of different types\n",
      "[W::bcf_hdr_merge] Trying to combine \"GQ\" tag definitions of different types\n",
      "[W::bcf_hdr_merge] Trying to combine \"GQ\" tag definitions of different types\n",
      "[W::bcf_hdr_merge] Trying to combine \"GQ\" tag definitions of different types\n",
      "[W::bcf_hdr_merge] Trying to combine \"GQ\" tag definitions of different types\n",
      "[W::bcf_hdr_merge] Trying to combine \"GQ\" tag definitions of different types\n",
      "[W::bcf_hdr_merge] Trying to combine \"GQ\" tag definitions of different types\n",
      "[W::bcf_hdr_merge] Trying to combine \"GQ\" tag definitions of different types\n",
      "[W::bcf_hdr_merge] Trying to combine \"GQ\" tag definitions of different types\n",
      "[W::bcf_hdr_merge] Trying to combine \"GQ\" tag definitions of different types\n",
      "[W::bcf_hdr_merge] Trying to combine \"GQ\" tag definitions of different types\n",
      "[W::bcf_hdr_merge] Trying to combine \"GQ\" tag definitions of different types\n",
      "[W::bcf_hdr_merge] Trying to combine \"GQ\" tag definitions of different types\n",
      "[W::bcf_hdr_merge] Trying to combine \"GQ\" tag definitions of different types\n",
      "[W::bcf_hdr_merge] Trying to combine \"GQ\" tag definitions of different types\n",
      "[W::bcf_hdr_merge] Trying to combine \"GQ\" tag definitions of different types\n",
      "[W::bcf_hdr_merge] Trying to combine \"GQ\" tag definitions of different types\n",
      "[W::bcf_hdr_merge] Trying to combine \"GQ\" tag definitions of different types\n",
      "[W::bcf_hdr_merge] Trying to combine \"GQ\" tag definitions of different types\n",
      "[W::bcf_hdr_merge] Trying to combine \"GQ\" tag definitions of different types\n",
      "[W::bcf_hdr_merge] Trying to combine \"GQ\" tag definitions of different types\n",
      "[W::bcf_hdr_merge] Trying to combine \"GQ\" tag definitions of different types\n",
      "[W::bcf_hdr_merge] Trying to combine \"GQ\" tag definitions of different types\n",
      "[W::bcf_hdr_merge] Trying to combine \"GQ\" tag definitions of different types\n",
      "[W::bcf_hdr_merge] Trying to combine \"GQ\" tag definitions of different types\n",
      "[W::bcf_hdr_merge] Trying to combine \"GQ\" tag definitions of different types\n",
      "[W::bcf_hdr_merge] Trying to combine \"GQ\" tag definitions of different types\n",
      "[W::bcf_hdr_merge] Trying to combine \"GQ\" tag definitions of different types\n",
      "[W::bcf_hdr_merge] Trying to combine \"GQ\" tag definitions of different types\n",
      "[W::bcf_hdr_merge] Trying to combine \"GQ\" tag definitions of different types\n",
      "[W::bcf_hdr_merge] Trying to combine \"GQ\" tag definitions of different types\n",
      "[W::bcf_hdr_merge] Trying to combine \"GQ\" tag definitions of different types\n",
      "[W::bcf_hdr_merge] Trying to combine \"GQ\" tag definitions of different types\n",
      "[W::bcf_hdr_merge] Trying to combine \"GQ\" tag definitions of different types\n",
      "[W::bcf_hdr_merge] Trying to combine \"GQ\" tag definitions of different types\n",
      "[W::bcf_hdr_merge] Trying to combine \"GQ\" tag definitions of different types\n",
      "[W::bcf_hdr_merge] Trying to combine \"GQ\" tag definitions of different types\n",
      "[W::bcf_hdr_merge] Trying to combine \"GQ\" tag definitions of different types\n",
      "[W::bcf_hdr_merge] Trying to combine \"GQ\" tag definitions of different types\n",
      "[W::bcf_hdr_merge] Trying to combine \"GQ\" tag definitions of different types\n",
      "[W::bcf_hdr_merge] Trying to combine \"GQ\" tag definitions of different types\n",
      "[W::bcf_hdr_merge] Trying to combine \"GQ\" tag definitions of different types\n",
      "[W::bcf_hdr_merge] Trying to combine \"GQ\" tag definitions of different types\n",
      "[W::bcf_hdr_merge] Trying to combine \"GQ\" tag definitions of different types\n",
      "[W::bcf_hdr_merge] Trying to combine \"GQ\" tag definitions of different types\n",
      "[W::bcf_hdr_merge] Trying to combine \"GQ\" tag definitions of different types\n",
      "[W::bcf_hdr_merge] Trying to combine \"GQ\" tag definitions of different types\n",
      "[W::bcf_hdr_merge] Trying to combine \"GQ\" tag definitions of different types\n",
      "[W::bcf_hdr_merge] Trying to combine \"GQ\" tag definitions of different types\n",
      "[W::bcf_hdr_merge] Trying to combine \"GQ\" tag definitions of different types\n",
      "[W::bcf_hdr_merge] Trying to combine \"GQ\" tag definitions of different types\n",
      "[W::bcf_hdr_merge] Trying to combine \"GQ\" tag definitions of different types\n",
      "[W::bcf_hdr_merge] Trying to combine \"GQ\" tag definitions of different types\n",
      "[W::bcf_hdr_merge] Trying to combine \"GQ\" tag definitions of different types\n",
      "[W::bcf_hdr_merge] Trying to combine \"GQ\" tag definitions of different types\n",
      "[W::bcf_hdr_merge] Trying to combine \"GQ\" tag definitions of different types\n",
      "[W::bcf_hdr_merge] Trying to combine \"GQ\" tag definitions of different types\n",
      "[W::bcf_hdr_merge] Trying to combine \"GQ\" tag definitions of different types\n",
      "[W::bcf_hdr_merge] Trying to combine \"GQ\" tag definitions of different types\n",
      "[W::bcf_hdr_merge] Trying to combine \"GQ\" tag definitions of different types\n",
      "[W::bcf_hdr_merge] Trying to combine \"GQ\" tag definitions of different types\n",
      "[W::bcf_hdr_merge] Trying to combine \"GQ\" tag definitions of different types\n",
      "[W::bcf_hdr_merge] Trying to combine \"GQ\" tag definitions of different types\n",
      "[W::bcf_hdr_merge] Trying to combine \"GQ\" tag definitions of different types\n",
      "[W::bcf_hdr_merge] Trying to combine \"GQ\" tag definitions of different types\n",
      "[W::bcf_hdr_merge] Trying to combine \"GQ\" tag definitions of different types\n",
      "[W::bcf_hdr_merge] Trying to combine \"GQ\" tag definitions of different types\n",
      "[W::bcf_hdr_merge] Trying to combine \"GQ\" tag definitions of different types\n",
      "[W::bcf_hdr_merge] Trying to combine \"GQ\" tag definitions of different types\n",
      "[W::bcf_hdr_merge] Trying to combine \"GQ\" tag definitions of different types\n",
      "[W::bcf_hdr_merge] Trying to combine \"GQ\" tag definitions of different types\n",
      "[W::bcf_hdr_merge] Trying to combine \"GQ\" tag definitions of different types\n",
      "[W::bcf_hdr_merge] Trying to combine \"GQ\" tag definitions of different types\n",
      "[W::bcf_hdr_merge] Trying to combine \"GQ\" tag definitions of different types\n",
      "[W::bcf_hdr_merge] Trying to combine \"GQ\" tag definitions of different types\n",
      "[W::bcf_hdr_merge] Trying to combine \"GQ\" tag definitions of different types\n",
      "[W::bcf_hdr_merge] Trying to combine \"GQ\" tag definitions of different types\n",
      "[W::bcf_hdr_merge] Trying to combine \"GQ\" tag definitions of different types\n",
      "[W::bcf_hdr_merge] Trying to combine \"GQ\" tag definitions of different types\n",
      "[W::bcf_hdr_merge] Trying to combine \"GQ\" tag definitions of different types\n",
      "[W::bcf_hdr_merge] Trying to combine \"GQ\" tag definitions of different types\n",
      "[W::bcf_hdr_merge] Trying to combine \"GQ\" tag definitions of different types\n",
      "[W::bcf_hdr_merge] Trying to combine \"GQ\" tag definitions of different types\n",
      "[W::bcf_hdr_merge] Trying to combine \"GQ\" tag definitions of different types\n",
      "[W::bcf_hdr_merge] Trying to combine \"GQ\" tag definitions of different types\n",
      "[W::bcf_hdr_merge] Trying to combine \"GQ\" tag definitions of different types\n",
      "[W::bcf_hdr_merge] Trying to combine \"GQ\" tag definitions of different types\n",
      "[W::bcf_hdr_merge] Trying to combine \"GQ\" tag definitions of different types\n",
      "[W::bcf_hdr_merge] Trying to combine \"GQ\" tag definitions of different types\n",
      "[W::bcf_hdr_merge] Trying to combine \"GQ\" tag definitions of different types\n",
      "[W::bcf_hdr_merge] Trying to combine \"GQ\" tag definitions of different types\n",
      "[W::bcf_hdr_merge] Trying to combine \"GQ\" tag definitions of different types\n",
      "[W::bcf_hdr_merge] Trying to combine \"GQ\" tag definitions of different types\n",
      "[W::bcf_hdr_merge] Trying to combine \"GQ\" tag definitions of different types\n",
      "[W::bcf_hdr_merge] Trying to combine \"GQ\" tag definitions of different types\n",
      "[W::bcf_hdr_merge] Trying to combine \"GQ\" tag definitions of different types\n",
      "[W::bcf_hdr_merge] Trying to combine \"GQ\" tag definitions of different types\n",
      "[W::bcf_hdr_merge] Trying to combine \"GQ\" tag definitions of different types\n",
      "[W::bcf_hdr_merge] Trying to combine \"GQ\" tag definitions of different types\n",
      "[W::bcf_hdr_merge] Trying to combine \"GQ\" tag definitions of different types\n",
      "[W::bcf_hdr_merge] Trying to combine \"GQ\" tag definitions of different types\n",
      "[W::bcf_hdr_merge] Trying to combine \"GQ\" tag definitions of different types\n",
      "[W::bcf_hdr_merge] Trying to combine \"GQ\" tag definitions of different types\n",
      "[W::bcf_hdr_merge] Trying to combine \"GQ\" tag definitions of different types\n",
      "[W::bcf_hdr_merge] Trying to combine \"GQ\" tag definitions of different types\n",
      "[W::bcf_hdr_merge] Trying to combine \"GQ\" tag definitions of different types\n",
      "[W::bcf_hdr_merge] Trying to combine \"GQ\" tag definitions of different types\n",
      "[W::bcf_hdr_merge] Trying to combine \"GQ\" tag definitions of different types\n",
      "[W::bcf_hdr_merge] Trying to combine \"GQ\" tag definitions of different types\n",
      "[W::bcf_hdr_merge] Trying to combine \"GQ\" tag definitions of different types\n",
      "[W::bcf_hdr_merge] Trying to combine \"GQ\" tag definitions of different types\n",
      "[W::bcf_hdr_merge] Trying to combine \"GQ\" tag definitions of different types\n",
      "[W::bcf_hdr_merge] Trying to combine \"GQ\" tag definitions of different types\n",
      "[W::bcf_hdr_merge] Trying to combine \"GQ\" tag definitions of different types\n",
      "[W::bcf_hdr_merge] Trying to combine \"GQ\" tag definitions of different types\n"
     ]
    }
   ],
   "source": [
    "cd $strdir/targetdata\n",
    "for i in {1..22}\n",
    "do\n",
    "f1=`for t in T03 T104 T105 T106 T109 T120 T129 T134 T150 T153 T156 T15 T26 T33 T47 T73 T74 T76 T82 T85 T87 T88 T98 t112 t138 t159 t160 t21 t38 t51 t69; do echo \"${t}_sorted.genome_PASS_only.chr${i}.vcf.gz \"; done`\n",
    "f=`echo $f1 | awk '{printf $0}'`\n",
    "`echo \"bcftools merge --missing-to-ref -r ${i} -Oz -o Tongan.chr${i}.vcf.gz ${f}\"`\n",
    "bcftools index Tongan.chr${i}.vcf.gz\n",
    "done"
   ]
  },
  {
   "cell_type": "markdown",
   "metadata": {},
   "source": [
    "マニュアルで推奨されているplinkコマンドは以下の通り\n",
    "\n",
    "    plink \\\n",
    "        --bfile EUR \\\n",
    "        --maf 0.01 \\\n",
    "        --hwe 1e-6 \\\n",
    "        --geno 0.01 \\\n",
    "        --mind 0.01 \\\n",
    "        --write-snplist \\\n",
    "        --make-just-fam \\\n",
    "        --out EUR.QC\n",
    "\n",
    "Beagleなどで処理する必要があるのでMAFやHWEなどはこの段階である程度フィルタリングしておく\n"
   ]
  },
  {
   "cell_type": "markdown",
   "metadata": {},
   "source": [
    "Beagle処理の前にfixploidyをしておく必要がある"
   ]
  },
  {
   "cell_type": "code",
   "execution_count": 101,
   "metadata": {
    "vscode": {
     "languageId": "shellscript"
    }
   },
   "outputs": [],
   "source": [
    "bcftools=/home/hmiwa/homebrew/bin/bcftools"
   ]
  },
  {
   "cell_type": "code",
   "execution_count": 102,
   "metadata": {
    "vscode": {
     "languageId": "shellscript"
    }
   },
   "outputs": [],
   "source": [
    "cd $strdir/targetdata\n",
    "for i in {1..22}\n",
    "do\n",
    "$vcftools --gzvcf Tongan.chr${i}.vcf.gz \\\n",
    "--hwe 0.000001  --max-missing 0.99 --maf 0.01 \\\n",
    "--remove-indels --min-alleles 2 --max-alleles 2 \\\n",
    "--remove-filtered-all --recode --stdout | bgzip -c > Tongan.chr${i}.QC.vcf.gz\n",
    "$bcftools index Tongan.chr${i}.QC.vcf.gz\n",
    "$bcftools +fixploidy Tongan.chr${i}.QC.vcf.gz -Oz --threads 24 -o Tongan.chr${i}.QC.FIXP.vcf.gz -- --default-ploidy 2\n",
    "$bcftools index Tongan.chr${i}.QC.FIXP.vcf.gz\n",
    "done"
   ]
  },
  {
   "cell_type": "markdown",
   "metadata": {},
   "source": [
    "Beagle関係のディレクトリを変数に入れておく"
   ]
  },
  {
   "cell_type": "code",
   "execution_count": 103,
   "metadata": {
    "vscode": {
     "languageId": "shellscript"
    }
   },
   "outputs": [],
   "source": [
    "beagle=/home/hmiwa/local/beagle.22Jul22.46e.jar\n",
    "beagle_map=/home/hmiwa/local/plink.GRCh37.map"
   ]
  },
  {
   "cell_type": "markdown",
   "metadata": {},
   "source": [
    "Beagleでフェージング処理をしておく"
   ]
  },
  {
   "cell_type": "code",
   "execution_count": 104,
   "metadata": {
    "vscode": {
     "languageId": "shellscript"
    }
   },
   "outputs": [
    {
     "name": "stdout",
     "output_type": "stream",
     "text": [
      "beagle.22Jul22.46e.jar (version 5.4)\n",
      "Copyright (C) 2014-2022 Brian L. Browning\n",
      "Enter \"java -jar beagle.22Jul22.46e.jar\" to list command line argument\n",
      "Start time: 10:55 PM JST on 18 Dec 2023\n",
      "\n",
      "Command line: java -Xmx16384m -jar beagle.22Jul22.46e.jar\n",
      "  gt=Tongan.chr1.QC.FIXP.vcf.gz\n",
      "  out=Tongan.chr1.QC.FIXP.phased\n",
      "  map=/home/hmiwa/local/plink.GRCh37.map/plink.chr1.GRCh37.map\n",
      "  nthreads=16\n",
      "\n",
      "Reference samples:                    0\n",
      "Study     samples:                   31\n",
      "\n",
      "Window 1 [1:10450-18870356]\n",
      "Study     markers:               71,192\n",
      "\n",
      "Burnin  iteration 1:           3 seconds\n",
      "Burnin  iteration 2:           1 second\n",
      "Burnin  iteration 3:           1 second\n",
      "\n",
      "Estimated ne:                  24080\n",
      "Estimated err:                 8.9e-03\n",
      "\n",
      "Phasing iteration 1:           1 second\n",
      "Phasing iteration 2:           0 seconds\n",
      "Phasing iteration 3:           0 seconds\n",
      "Phasing iteration 4:           0 seconds\n",
      "Phasing iteration 5:           0 seconds\n",
      "Phasing iteration 6:           0 seconds\n",
      "Phasing iteration 7:           0 seconds\n",
      "Phasing iteration 8:           0 seconds\n",
      "Phasing iteration 9:           0 seconds\n",
      "Phasing iteration 10:          0 seconds\n",
      "Phasing iteration 11:          0 seconds\n",
      "Phasing iteration 12:          0 seconds\n",
      "Low frequency phasing:         1 second\n",
      "\n",
      "Window 2 [1:18265987-53836829]\n",
      "Study     markers:               93,442\n",
      "\n",
      "Burnin  iteration 1:           2 seconds\n",
      "Burnin  iteration 2:           1 second\n",
      "Burnin  iteration 3:           1 second\n",
      "\n",
      "Estimated ne:                  17500\n",
      "Estimated err:                 4.3e-03\n",
      "\n",
      "Phasing iteration 1:           0 seconds\n",
      "Phasing iteration 2:           0 seconds\n",
      "Phasing iteration 3:           0 seconds\n",
      "Phasing iteration 4:           0 seconds\n",
      "Phasing iteration 5:           0 seconds\n",
      "Phasing iteration 6:           0 seconds\n",
      "Phasing iteration 7:           0 seconds\n",
      "Phasing iteration 8:           0 seconds\n",
      "Phasing iteration 9:           0 seconds\n",
      "Phasing iteration 10:          0 seconds\n",
      "Phasing iteration 11:          0 seconds\n",
      "Phasing iteration 12:          0 seconds\n",
      "Low frequency phasing:         1 second\n",
      "\n",
      "Window 3 [1:49070290-87760815]\n",
      "Study     markers:              107,977\n",
      "\n",
      "Burnin  iteration 1:           1 second\n",
      "Burnin  iteration 2:           1 second\n",
      "\n",
      "Estimated ne:                  19620\n",
      "Estimated err:                 3.7e-03\n",
      "\n",
      "Phasing iteration 1:           0 seconds\n",
      "Phasing iteration 2:           0 seconds\n",
      "Phasing iteration 3:           0 seconds\n",
      "Phasing iteration 4:           0 seconds\n",
      "Phasing iteration 5:           0 seconds\n",
      "Phasing iteration 6:           0 seconds\n",
      "Phasing iteration 7:           0 seconds\n",
      "Phasing iteration 8:           0 seconds\n",
      "Phasing iteration 9:           0 seconds\n",
      "Phasing iteration 10:          0 seconds\n",
      "Phasing iteration 11:          0 seconds\n",
      "Phasing iteration 12:          0 seconds\n",
      "Low frequency phasing:         1 second\n",
      "\n",
      "Window 4 [1:85580738-144962739]\n",
      "Study     markers:              124,693\n",
      "\n",
      "Burnin  iteration 1:           2 seconds\n",
      "Burnin  iteration 2:           1 second\n",
      "Burnin  iteration 3:           1 second\n",
      "\n",
      "Estimated ne:                  29928\n",
      "Estimated err:                 1.2e-02\n",
      "\n",
      "Phasing iteration 1:           0 seconds\n",
      "Phasing iteration 2:           0 seconds\n",
      "Phasing iteration 3:           0 seconds\n",
      "Phasing iteration 4:           0 seconds\n",
      "Phasing iteration 5:           0 seconds\n",
      "Phasing iteration 6:           0 seconds\n",
      "Phasing iteration 7:           0 seconds\n",
      "Phasing iteration 8:           0 seconds\n",
      "Phasing iteration 9:           0 seconds\n",
      "Phasing iteration 10:          0 seconds\n",
      "Phasing iteration 11:          0 seconds\n",
      "Phasing iteration 12:          0 seconds\n",
      "Low frequency phasing:         1 second\n",
      "\n",
      "Window 5 [1:144211051-175818540]\n",
      "Study     markers:               93,626\n",
      "\n",
      "Burnin  iteration 1:           1 second\n",
      "Burnin  iteration 2:           0 seconds\n",
      "Burnin  iteration 3:           1 second\n",
      "\n",
      "Estimated ne:                  35147\n",
      "Estimated err:                 1.1e-02\n",
      "\n",
      "Phasing iteration 1:           0 seconds\n",
      "Phasing iteration 2:           0 seconds\n",
      "Phasing iteration 3:           0 seconds\n",
      "Phasing iteration 4:           0 seconds\n",
      "Phasing iteration 5:           0 seconds\n",
      "Phasing iteration 6:           0 seconds\n",
      "Phasing iteration 7:           0 seconds\n",
      "Phasing iteration 8:           0 seconds\n",
      "Phasing iteration 9:           0 seconds\n",
      "Phasing iteration 10:          0 seconds\n",
      "Phasing iteration 11:          0 seconds\n",
      "Phasing iteration 12:          0 seconds\n",
      "Low frequency phasing:         0 seconds\n",
      "\n",
      "Window 6 [1:173075630-213583547]\n",
      "Study     markers:              114,272\n",
      "\n",
      "Burnin  iteration 1:           2 seconds\n",
      "Burnin  iteration 2:           1 second\n",
      "\n",
      "Estimated ne:                  20860\n",
      "Estimated err:                 4.3e-03\n",
      "\n",
      "Phasing iteration 1:           0 seconds\n",
      "Phasing iteration 2:           0 seconds\n",
      "Phasing iteration 3:           0 seconds\n",
      "Phasing iteration 4:           0 seconds\n",
      "Phasing iteration 5:           0 seconds\n",
      "Phasing iteration 6:           0 seconds\n",
      "Phasing iteration 7:           0 seconds\n",
      "Phasing iteration 8:           0 seconds\n",
      "Phasing iteration 9:           0 seconds\n",
      "Phasing iteration 10:          0 seconds\n",
      "Phasing iteration 11:          0 seconds\n",
      "Phasing iteration 12:          0 seconds\n",
      "Low frequency phasing:         0 seconds\n",
      "\n",
      "Window 7 [1:211079753-240238828]\n",
      "Study     markers:               91,672\n",
      "\n",
      "Burnin  iteration 1:           2 seconds\n",
      "Burnin  iteration 2:           1 second\n",
      "\n",
      "Estimated ne:                  19148\n",
      "Estimated err:                 3.7e-03\n",
      "\n",
      "Phasing iteration 1:           0 seconds\n",
      "Phasing iteration 2:           0 seconds\n",
      "Phasing iteration 3:           0 seconds\n",
      "Phasing iteration 4:           0 seconds\n",
      "Phasing iteration 5:           0 seconds\n",
      "Phasing iteration 6:           0 seconds\n",
      "Phasing iteration 7:           0 seconds\n",
      "Phasing iteration 8:           0 seconds\n",
      "Phasing iteration 9:           0 seconds\n",
      "Phasing iteration 10:          0 seconds\n",
      "Phasing iteration 11:          0 seconds\n",
      "Phasing iteration 12:          0 seconds\n",
      "Low frequency phasing:         0 seconds\n",
      "\n",
      "Window 8 [1:239249064-249239908]\n",
      "Study     markers:               36,237\n",
      "\n",
      "Burnin  iteration 1:           1 second\n",
      "Burnin  iteration 2:           0 seconds\n",
      "Burnin  iteration 3:           0 seconds\n",
      "\n",
      "Estimated ne:                  19940\n",
      "Estimated err:                 5.5e-03\n",
      "\n",
      "Phasing iteration 1:           0 seconds\n",
      "Phasing iteration 2:           0 seconds\n",
      "Phasing iteration 3:           0 seconds\n",
      "Phasing iteration 4:           0 seconds\n",
      "Phasing iteration 5:           0 seconds\n",
      "Phasing iteration 6:           0 seconds\n",
      "Phasing iteration 7:           0 seconds\n",
      "Phasing iteration 8:           0 seconds\n",
      "Phasing iteration 9:           0 seconds\n",
      "Phasing iteration 10:          0 seconds\n",
      "Phasing iteration 11:          0 seconds\n",
      "Phasing iteration 12:          0 seconds\n",
      "Low frequency phasing:         0 seconds\n",
      "\n",
      "Cumulative Statistics:\n",
      "\n",
      "Study     markers:              694,634\n",
      "\n",
      "Haplotype phasing time:        44 seconds\n",
      "Total time:                    51 seconds\n",
      "\n",
      "End time: 10:56 PM JST on 18 Dec 2023\n",
      "beagle.22Jul22.46e.jar finished\n",
      "beagle.22Jul22.46e.jar (version 5.4)\n",
      "Copyright (C) 2014-2022 Brian L. Browning\n",
      "Enter \"java -jar beagle.22Jul22.46e.jar\" to list command line argument\n",
      "Start time: 10:56 PM JST on 18 Dec 2023\n",
      "\n",
      "Command line: java -Xmx16384m -jar beagle.22Jul22.46e.jar\n",
      "  gt=Tongan.chr2.QC.FIXP.vcf.gz\n",
      "  out=Tongan.chr2.QC.FIXP.phased\n",
      "  map=/home/hmiwa/local/plink.GRCh37.map/plink.chr2.GRCh37.map\n",
      "  nthreads=16\n",
      "\n",
      "Reference samples:                    0\n",
      "Study     samples:                   31\n",
      "\n",
      "Window 1 [2:10437-18145028]\n",
      "Study     markers:               59,596\n",
      "\n",
      "Burnin  iteration 1:           3 seconds\n",
      "Burnin  iteration 2:           1 second\n",
      "Burnin  iteration 3:           1 second\n",
      "\n",
      "Estimated ne:                  13612\n",
      "Estimated err:                 4.5e-03\n",
      "\n",
      "Phasing iteration 1:           0 seconds\n",
      "Phasing iteration 2:           0 seconds\n",
      "Phasing iteration 3:           0 seconds\n",
      "Phasing iteration 4:           0 seconds\n",
      "Phasing iteration 5:           0 seconds\n",
      "Phasing iteration 6:           0 seconds\n",
      "Phasing iteration 7:           0 seconds\n",
      "Phasing iteration 8:           0 seconds\n",
      "Phasing iteration 9:           0 seconds\n",
      "Phasing iteration 10:          0 seconds\n",
      "Phasing iteration 11:          0 seconds\n",
      "Phasing iteration 12:          0 seconds\n",
      "Low frequency phasing:         2 seconds\n",
      "\n",
      "Window 2 [2:16417425-49114231]\n",
      "Study     markers:               93,744\n",
      "\n",
      "Burnin  iteration 1:           2 seconds\n",
      "Burnin  iteration 2:           0 seconds\n",
      "\n",
      "Estimated ne:                  19221\n",
      "Estimated err:                 4.0e-03\n",
      "\n",
      "Phasing iteration 1:           0 seconds\n",
      "Phasing iteration 2:           0 seconds\n",
      "Phasing iteration 3:           0 seconds\n",
      "Phasing iteration 4:           0 seconds\n",
      "Phasing iteration 5:           0 seconds\n",
      "Phasing iteration 6:           0 seconds\n",
      "Phasing iteration 7:           0 seconds\n",
      "Phasing iteration 8:           0 seconds\n",
      "Phasing iteration 9:           0 seconds\n",
      "Phasing iteration 10:          0 seconds\n",
      "Phasing iteration 11:          0 seconds\n",
      "Phasing iteration 12:          0 seconds\n",
      "Low frequency phasing:         1 second\n",
      "\n",
      "Window 3 [2:47321568-88185786]\n",
      "Study     markers:              122,096\n",
      "\n",
      "Burnin  iteration 1:           2 seconds\n",
      "Burnin  iteration 2:           1 second\n",
      "Burnin  iteration 3:           1 second\n",
      "\n",
      "Estimated ne:                  22647\n",
      "Estimated err:                 4.4e-03\n",
      "\n",
      "Phasing iteration 1:           0 seconds\n",
      "Phasing iteration 2:           0 seconds\n",
      "Phasing iteration 3:           0 seconds\n",
      "Phasing iteration 4:           0 seconds\n",
      "Phasing iteration 5:           0 seconds\n",
      "Phasing iteration 6:           0 seconds\n",
      "Phasing iteration 7:           0 seconds\n",
      "Phasing iteration 8:           0 seconds\n",
      "Phasing iteration 9:           0 seconds\n",
      "Phasing iteration 10:          0 seconds\n",
      "Phasing iteration 11:          0 seconds\n",
      "Phasing iteration 12:          0 seconds\n",
      "Low frequency phasing:         1 second\n",
      "\n",
      "Window 4 [2:86643158-134624276]\n",
      "Study     markers:              127,555\n",
      "\n",
      "Burnin  iteration 1:           2 seconds\n",
      "Burnin  iteration 2:           1 second\n",
      "Burnin  iteration 3:           1 second\n",
      "\n",
      "Estimated ne:                  39339\n",
      "Estimated err:                 1.2e-02\n",
      "\n",
      "Phasing iteration 1:           0 seconds\n",
      "Phasing iteration 2:           0 seconds\n",
      "Phasing iteration 3:           0 seconds\n",
      "Phasing iteration 4:           0 seconds\n",
      "Phasing iteration 5:           0 seconds\n",
      "Phasing iteration 6:           0 seconds\n",
      "Phasing iteration 7:           0 seconds\n",
      "Phasing iteration 8:           0 seconds\n",
      "Phasing iteration 9:           0 seconds\n",
      "Phasing iteration 10:          0 seconds\n",
      "Phasing iteration 11:          0 seconds\n",
      "Phasing iteration 12:          0 seconds\n",
      "Low frequency phasing:         1 second\n",
      "\n",
      "Window 5 [2:133389885-177332894]\n",
      "Study     markers:              121,453\n",
      "\n",
      "Burnin  iteration 1:           3 seconds\n",
      "Burnin  iteration 2:           1 second\n",
      "\n",
      "Estimated ne:                  20493\n",
      "Estimated err:                 3.7e-03\n",
      "\n",
      "Phasing iteration 1:           0 seconds\n",
      "Phasing iteration 2:           0 seconds\n",
      "Phasing iteration 3:           0 seconds\n",
      "Phasing iteration 4:           0 seconds\n",
      "Phasing iteration 5:           0 seconds\n",
      "Phasing iteration 6:           0 seconds\n",
      "Phasing iteration 7:           0 seconds\n",
      "Phasing iteration 8:           0 seconds\n",
      "Phasing iteration 9:           0 seconds\n",
      "Phasing iteration 10:          0 seconds\n",
      "Phasing iteration 11:          0 seconds\n",
      "Phasing iteration 12:          0 seconds\n",
      "Low frequency phasing:         1 second\n",
      "\n",
      "Window 6 [2:175038776-220694494]\n",
      "Study     markers:              111,778\n",
      "\n",
      "Burnin  iteration 1:           1 second\n",
      "Burnin  iteration 2:           1 second\n",
      "\n",
      "Estimated ne:                  20862\n",
      "Estimated err:                 3.7e-03\n",
      "\n",
      "Phasing iteration 1:           0 seconds\n",
      "Phasing iteration 2:           0 seconds\n",
      "Phasing iteration 3:           0 seconds\n",
      "Phasing iteration 4:           0 seconds\n",
      "Phasing iteration 5:           0 seconds\n",
      "Phasing iteration 6:           0 seconds\n",
      "Phasing iteration 7:           0 seconds\n",
      "Phasing iteration 8:           0 seconds\n",
      "Phasing iteration 9:           0 seconds\n",
      "Phasing iteration 10:          0 seconds\n",
      "Phasing iteration 11:          0 seconds\n",
      "Phasing iteration 12:          0 seconds\n",
      "Low frequency phasing:         1 second\n",
      "\n",
      "Window 7 [2:218829527-242575458]\n",
      "Study     markers:               74,398\n",
      "\n",
      "Burnin  iteration 1:           1 second\n",
      "Burnin  iteration 2:           1 second\n",
      "\n",
      "Estimated ne:                  15716\n",
      "Estimated err:                 3.6e-03\n",
      "\n",
      "Phasing iteration 1:           0 seconds\n",
      "Phasing iteration 2:           0 seconds\n",
      "Phasing iteration 3:           0 seconds\n",
      "Phasing iteration 4:           0 seconds\n",
      "Phasing iteration 5:           0 seconds\n",
      "Phasing iteration 6:           0 seconds\n",
      "Phasing iteration 7:           0 seconds\n",
      "Phasing iteration 8:           0 seconds\n",
      "Phasing iteration 9:           0 seconds\n",
      "Phasing iteration 10:          0 seconds\n",
      "Phasing iteration 11:          0 seconds\n",
      "Phasing iteration 12:          0 seconds\n",
      "Low frequency phasing:         1 second\n",
      "\n",
      "Window 8 [2:241170852-243187560]\n",
      "Study     markers:                9,404\n",
      "\n",
      "Burnin  iteration 1:           0 seconds\n",
      "Burnin  iteration 2:           0 seconds\n",
      "Burnin  iteration 3:           0 seconds\n",
      "\n",
      "Estimated ne:                  39007\n",
      "Estimated err:                 7.2e-03\n",
      "\n",
      "Phasing iteration 1:           0 seconds\n",
      "Phasing iteration 2:           0 seconds\n",
      "Phasing iteration 3:           0 seconds\n",
      "Phasing iteration 4:           0 seconds\n",
      "Phasing iteration 5:           0 seconds\n",
      "Phasing iteration 6:           0 seconds\n",
      "Phasing iteration 7:           0 seconds\n",
      "Phasing iteration 8:           0 seconds\n",
      "Phasing iteration 9:           0 seconds\n",
      "Phasing iteration 10:          0 seconds\n",
      "Phasing iteration 11:          0 seconds\n",
      "Phasing iteration 12:          0 seconds\n",
      "Low frequency phasing:         0 seconds\n",
      "\n",
      "Cumulative Statistics:\n",
      "\n",
      "Study     markers:              686,544\n",
      "\n",
      "Haplotype phasing time:        42 seconds\n",
      "Total time:                    49 seconds\n",
      "\n",
      "End time: 10:57 PM JST on 18 Dec 2023\n",
      "beagle.22Jul22.46e.jar finished\n",
      "beagle.22Jul22.46e.jar (version 5.4)\n",
      "Copyright (C) 2014-2022 Brian L. Browning\n",
      "Enter \"java -jar beagle.22Jul22.46e.jar\" to list command line argument\n",
      "Start time: 10:57 PM JST on 18 Dec 2023\n",
      "\n",
      "Command line: java -Xmx16384m -jar beagle.22Jul22.46e.jar\n",
      "  gt=Tongan.chr3.QC.FIXP.vcf.gz\n",
      "  out=Tongan.chr3.QC.FIXP.phased\n",
      "  map=/home/hmiwa/local/plink.GRCh37.map/plink.chr3.GRCh37.map\n",
      "  nthreads=16\n",
      "\n",
      "Reference samples:                    0\n",
      "Study     samples:                   31\n",
      "\n",
      "Window 1 [3:60197-21644056]\n",
      "Study     markers:               87,647\n",
      "\n",
      "Burnin  iteration 1:           4 seconds\n",
      "Burnin  iteration 2:           1 second\n",
      "Burnin  iteration 3:           1 second\n",
      "\n",
      "Estimated ne:                  18202\n",
      "Estimated err:                 4.2e-03\n",
      "\n",
      "Phasing iteration 1:           0 seconds\n",
      "Phasing iteration 2:           0 seconds\n",
      "Phasing iteration 3:           0 seconds\n",
      "Phasing iteration 4:           0 seconds\n",
      "Phasing iteration 5:           0 seconds\n",
      "Phasing iteration 6:           0 seconds\n",
      "Phasing iteration 7:           0 seconds\n",
      "Phasing iteration 8:           0 seconds\n",
      "Phasing iteration 9:           0 seconds\n",
      "Phasing iteration 10:          0 seconds\n",
      "Phasing iteration 11:          0 seconds\n",
      "Phasing iteration 12:          0 seconds\n",
      "Low frequency phasing:         1 second\n",
      "\n",
      "Window 2 [3:19788928-60278655]\n",
      "Study     markers:              118,743\n",
      "\n",
      "Burnin  iteration 1:           2 seconds\n",
      "Burnin  iteration 2:           1 second\n",
      "\n",
      "Estimated ne:                  19787\n",
      "Estimated err:                 4.1e-03\n",
      "\n",
      "Phasing iteration 1:           0 seconds\n",
      "Phasing iteration 2:           0 seconds\n",
      "Phasing iteration 3:           0 seconds\n",
      "Phasing iteration 4:           0 seconds\n",
      "Phasing iteration 5:           0 seconds\n",
      "Phasing iteration 6:           0 seconds\n",
      "Phasing iteration 7:           0 seconds\n",
      "Phasing iteration 8:           0 seconds\n",
      "Phasing iteration 9:           0 seconds\n",
      "Phasing iteration 10:          0 seconds\n",
      "Phasing iteration 11:          0 seconds\n",
      "Phasing iteration 12:          0 seconds\n",
      "Low frequency phasing:         1 second\n",
      "\n",
      "Window 3 [3:59462792-105372266]\n",
      "Study     markers:              144,966\n",
      "\n",
      "Burnin  iteration 1:           2 seconds\n",
      "Burnin  iteration 2:           1 second\n",
      "Burnin  iteration 3:           1 second\n",
      "\n",
      "Estimated ne:                  24712\n",
      "Estimated err:                 5.3e-03\n",
      "\n",
      "Phasing iteration 1:           0 seconds\n",
      "Phasing iteration 2:           0 seconds\n",
      "Phasing iteration 3:           0 seconds\n",
      "Phasing iteration 4:           0 seconds\n",
      "Phasing iteration 5:           0 seconds\n",
      "Phasing iteration 6:           0 seconds\n",
      "Phasing iteration 7:           0 seconds\n",
      "Phasing iteration 8:           0 seconds\n",
      "Phasing iteration 9:           0 seconds\n",
      "Phasing iteration 10:          0 seconds\n",
      "Phasing iteration 11:          0 seconds\n",
      "Phasing iteration 12:          0 seconds\n",
      "Low frequency phasing:         1 second\n",
      "\n",
      "Window 4 [3:103358944-143445834]\n",
      "Study     markers:              123,205\n",
      "\n",
      "Burnin  iteration 1:           2 seconds\n",
      "Burnin  iteration 2:           1 second\n",
      "\n",
      "Estimated ne:                  19815\n",
      "Estimated err:                 4.0e-03\n",
      "\n",
      "Phasing iteration 1:           0 seconds\n",
      "Phasing iteration 2:           0 seconds\n",
      "Phasing iteration 3:           0 seconds\n",
      "Phasing iteration 4:           0 seconds\n",
      "Phasing iteration 5:           0 seconds\n",
      "Phasing iteration 6:           0 seconds\n",
      "Phasing iteration 7:           0 seconds\n",
      "Phasing iteration 8:           0 seconds\n",
      "Phasing iteration 9:           0 seconds\n",
      "Phasing iteration 10:          0 seconds\n",
      "Phasing iteration 11:          0 seconds\n",
      "Phasing iteration 12:          0 seconds\n",
      "Low frequency phasing:         1 second\n",
      "\n",
      "Window 5 [3:141739968-182238663]\n",
      "Study     markers:              123,280\n",
      "\n",
      "Burnin  iteration 1:           2 seconds\n",
      "Burnin  iteration 2:           1 second\n",
      "\n",
      "Estimated ne:                  18882\n",
      "Estimated err:                 3.6e-03\n",
      "\n",
      "Phasing iteration 1:           0 seconds\n",
      "Phasing iteration 2:           0 seconds\n",
      "Phasing iteration 3:           0 seconds\n",
      "Phasing iteration 4:           0 seconds\n",
      "Phasing iteration 5:           0 seconds\n",
      "Phasing iteration 6:           0 seconds\n",
      "Phasing iteration 7:           0 seconds\n",
      "Phasing iteration 8:           0 seconds\n",
      "Phasing iteration 9:           0 seconds\n",
      "Phasing iteration 10:          0 seconds\n",
      "Phasing iteration 11:          0 seconds\n",
      "Phasing iteration 12:          0 seconds\n",
      "Low frequency phasing:         1 second\n",
      "\n",
      "Window 6 [3:179790460-197959600]\n",
      "Study     markers:               64,768\n",
      "\n",
      "Burnin  iteration 1:           1 second\n",
      "Burnin  iteration 2:           0 seconds\n",
      "Burnin  iteration 3:           0 seconds\n",
      "\n",
      "Estimated ne:                  21781\n",
      "Estimated err:                 6.1e-03\n",
      "\n",
      "Phasing iteration 1:           0 seconds\n",
      "Phasing iteration 2:           0 seconds\n",
      "Phasing iteration 3:           0 seconds\n",
      "Phasing iteration 4:           0 seconds\n",
      "Phasing iteration 5:           0 seconds\n",
      "Phasing iteration 6:           0 seconds\n",
      "Phasing iteration 7:           0 seconds\n",
      "Phasing iteration 8:           0 seconds\n",
      "Phasing iteration 9:           0 seconds\n",
      "Phasing iteration 10:          0 seconds\n",
      "Phasing iteration 11:          0 seconds\n",
      "Phasing iteration 12:          0 seconds\n",
      "Low frequency phasing:         0 seconds\n",
      "\n",
      "Cumulative Statistics:\n",
      "\n",
      "Study     markers:              633,776\n",
      "\n",
      "Haplotype phasing time:        38 seconds\n",
      "Total time:                    44 seconds\n",
      "\n",
      "End time: 10:58 PM JST on 18 Dec 2023\n",
      "beagle.22Jul22.46e.jar finished\n",
      "beagle.22Jul22.46e.jar (version 5.4)\n",
      "Copyright (C) 2014-2022 Brian L. Browning\n",
      "Enter \"java -jar beagle.22Jul22.46e.jar\" to list command line argument\n",
      "Start time: 10:58 PM JST on 18 Dec 2023\n",
      "\n",
      "Command line: java -Xmx16384m -jar beagle.22Jul22.46e.jar\n",
      "  gt=Tongan.chr4.QC.FIXP.vcf.gz\n",
      "  out=Tongan.chr4.QC.FIXP.phased\n",
      "  map=/home/hmiwa/local/plink.GRCh37.map/plink.chr4.GRCh37.map\n",
      "  nthreads=16\n",
      "\n",
      "Reference samples:                    0\n",
      "Study     samples:                   31\n",
      "\n",
      "Window 1 [4:10165-22519988]\n",
      "Study     markers:               91,586\n",
      "\n",
      "Burnin  iteration 1:           4 seconds\n",
      "Burnin  iteration 2:           1 second\n",
      "Burnin  iteration 3:           1 second\n",
      "\n",
      "Estimated ne:                  24222\n",
      "Estimated err:                 5.5e-03\n",
      "\n",
      "Phasing iteration 1:           0 seconds\n",
      "Phasing iteration 2:           0 seconds\n",
      "Phasing iteration 3:           0 seconds\n",
      "Phasing iteration 4:           0 seconds\n",
      "Phasing iteration 5:           0 seconds\n",
      "Phasing iteration 6:           0 seconds\n",
      "Phasing iteration 7:           0 seconds\n",
      "Phasing iteration 8:           0 seconds\n",
      "Phasing iteration 9:           0 seconds\n",
      "Phasing iteration 10:          0 seconds\n",
      "Phasing iteration 11:          0 seconds\n",
      "Phasing iteration 12:          0 seconds\n",
      "Low frequency phasing:         1 second\n",
      "\n",
      "Window 2 [4:20544690-60086097]\n",
      "Study     markers:              126,820\n",
      "\n",
      "Burnin  iteration 1:           2 seconds\n",
      "Burnin  iteration 2:           1 second\n",
      "Burnin  iteration 3:           1 second\n",
      "\n",
      "Estimated ne:                  21526\n",
      "Estimated err:                 6.2e-03\n",
      "\n",
      "Phasing iteration 1:           0 seconds\n",
      "Phasing iteration 2:           0 seconds\n",
      "Phasing iteration 3:           0 seconds\n",
      "Phasing iteration 4:           0 seconds\n",
      "Phasing iteration 5:           0 seconds\n",
      "Phasing iteration 6:           0 seconds\n",
      "Phasing iteration 7:           0 seconds\n",
      "Phasing iteration 8:           0 seconds\n",
      "Phasing iteration 9:           0 seconds\n",
      "Phasing iteration 10:          0 seconds\n",
      "Phasing iteration 11:          0 seconds\n",
      "Phasing iteration 12:          0 seconds\n",
      "Low frequency phasing:         1 second\n",
      "\n",
      "Window 3 [4:57710546-105764260]\n",
      "Study     markers:              154,526\n",
      "\n",
      "Burnin  iteration 1:           2 seconds\n",
      "Burnin  iteration 2:           1 second\n",
      "\n",
      "Estimated ne:                  25297\n",
      "Estimated err:                 3.8e-03\n",
      "\n",
      "Phasing iteration 1:           0 seconds\n",
      "Phasing iteration 2:           0 seconds\n",
      "Phasing iteration 3:           0 seconds\n",
      "Phasing iteration 4:           0 seconds\n",
      "Phasing iteration 5:           0 seconds\n",
      "Phasing iteration 6:           0 seconds\n",
      "Phasing iteration 7:           0 seconds\n",
      "Phasing iteration 8:           0 seconds\n",
      "Phasing iteration 9:           0 seconds\n",
      "Phasing iteration 10:          0 seconds\n",
      "Phasing iteration 11:          0 seconds\n",
      "Phasing iteration 12:          0 seconds\n",
      "Low frequency phasing:         1 second\n",
      "\n",
      "Window 4 [4:102709828-150649968]\n",
      "Study     markers:              149,080\n",
      "\n",
      "Burnin  iteration 1:           2 seconds\n",
      "Burnin  iteration 2:           1 second\n",
      "\n",
      "Estimated ne:                  26488\n",
      "Estimated err:                 4.1e-03\n",
      "\n",
      "Phasing iteration 1:           0 seconds\n",
      "Phasing iteration 2:           0 seconds\n",
      "Phasing iteration 3:           0 seconds\n",
      "Phasing iteration 4:           0 seconds\n",
      "Phasing iteration 5:           0 seconds\n",
      "Phasing iteration 6:           0 seconds\n",
      "Phasing iteration 7:           0 seconds\n",
      "Phasing iteration 8:           0 seconds\n",
      "Phasing iteration 9:           0 seconds\n",
      "Phasing iteration 10:          0 seconds\n",
      "Phasing iteration 11:          0 seconds\n",
      "Phasing iteration 12:          0 seconds\n",
      "Low frequency phasing:         1 second\n",
      "\n",
      "Window 5 [4:148086342-182155026]\n",
      "Study     markers:              108,283\n",
      "\n",
      "Burnin  iteration 1:           2 seconds\n",
      "Burnin  iteration 2:           1 second\n",
      "\n",
      "Estimated ne:                  19095\n",
      "Estimated err:                 3.8e-03\n",
      "\n",
      "Phasing iteration 1:           0 seconds\n",
      "Phasing iteration 2:           0 seconds\n",
      "Phasing iteration 3:           0 seconds\n",
      "Phasing iteration 4:           0 seconds\n",
      "Phasing iteration 5:           0 seconds\n",
      "Phasing iteration 6:           0 seconds\n",
      "Phasing iteration 7:           0 seconds\n",
      "Phasing iteration 8:           0 seconds\n",
      "Phasing iteration 9:           0 seconds\n",
      "Phasing iteration 10:          0 seconds\n",
      "Phasing iteration 11:          0 seconds\n",
      "Phasing iteration 12:          0 seconds\n",
      "Low frequency phasing:         0 seconds\n",
      "\n",
      "Window 6 [4:181312927-191043832]\n",
      "Study     markers:               46,672\n",
      "\n",
      "Burnin  iteration 1:           1 second\n",
      "Burnin  iteration 2:           0 seconds\n",
      "Burnin  iteration 3:           0 seconds\n",
      "\n",
      "Estimated ne:                  23076\n",
      "Estimated err:                 7.7e-03\n",
      "\n",
      "Phasing iteration 1:           0 seconds\n",
      "Phasing iteration 2:           0 seconds\n",
      "Phasing iteration 3:           0 seconds\n",
      "Phasing iteration 4:           0 seconds\n",
      "Phasing iteration 5:           0 seconds\n",
      "Phasing iteration 6:           0 seconds\n",
      "Phasing iteration 7:           0 seconds\n",
      "Phasing iteration 8:           0 seconds\n",
      "Phasing iteration 9:           0 seconds\n",
      "Phasing iteration 10:          0 seconds\n",
      "Phasing iteration 11:          0 seconds\n",
      "Phasing iteration 12:          0 seconds\n",
      "Low frequency phasing:         0 seconds\n",
      "\n",
      "Cumulative Statistics:\n",
      "\n",
      "Study     markers:              642,207\n",
      "\n",
      "Haplotype phasing time:        39 seconds\n",
      "Total time:                    45 seconds\n",
      "\n",
      "End time: 10:59 PM JST on 18 Dec 2023\n",
      "beagle.22Jul22.46e.jar finished\n",
      "beagle.22Jul22.46e.jar (version 5.4)\n",
      "Copyright (C) 2014-2022 Brian L. Browning\n",
      "Enter \"java -jar beagle.22Jul22.46e.jar\" to list command line argument\n",
      "Start time: 10:59 PM JST on 18 Dec 2023\n",
      "\n",
      "Command line: java -Xmx16384m -jar beagle.22Jul22.46e.jar\n",
      "  gt=Tongan.chr5.QC.FIXP.vcf.gz\n",
      "  out=Tongan.chr5.QC.FIXP.phased\n",
      "  map=/home/hmiwa/local/plink.GRCh37.map/plink.chr5.GRCh37.map\n",
      "  nthreads=16\n",
      "\n",
      "Reference samples:                    0\n",
      "Study     samples:                   31\n",
      "\n",
      "Window 1 [5:12041-24839823]\n",
      "Study     markers:               89,688\n",
      "\n",
      "Burnin  iteration 1:           4 seconds\n",
      "Burnin  iteration 2:           1 second\n",
      "Burnin  iteration 3:           1 second\n",
      "\n",
      "Estimated ne:                  21372\n",
      "Estimated err:                 5.0e-03\n",
      "\n",
      "Phasing iteration 1:           0 seconds\n",
      "Phasing iteration 2:           0 seconds\n",
      "Phasing iteration 3:           0 seconds\n",
      "Phasing iteration 4:           0 seconds\n",
      "Phasing iteration 5:           0 seconds\n",
      "Phasing iteration 6:           0 seconds\n",
      "Phasing iteration 7:           0 seconds\n",
      "Phasing iteration 8:           0 seconds\n",
      "Phasing iteration 9:           0 seconds\n",
      "Phasing iteration 10:          0 seconds\n",
      "Phasing iteration 11:          0 seconds\n",
      "Phasing iteration 12:          0 seconds\n",
      "Low frequency phasing:         1 second\n",
      "\n",
      "Window 2 [5:22774842-69311353]\n",
      "Study     markers:              133,402\n",
      "\n",
      "Burnin  iteration 1:           2 seconds\n",
      "Burnin  iteration 2:           1 second\n",
      "\n",
      "Estimated ne:                  22598\n",
      "Estimated err:                 4.1e-03\n",
      "\n",
      "Phasing iteration 1:           0 seconds\n",
      "Phasing iteration 2:           0 seconds\n",
      "Phasing iteration 3:           0 seconds\n",
      "Phasing iteration 4:           0 seconds\n",
      "Phasing iteration 5:           0 seconds\n",
      "Phasing iteration 6:           0 seconds\n",
      "Phasing iteration 7:           0 seconds\n",
      "Phasing iteration 8:           0 seconds\n",
      "Phasing iteration 9:           0 seconds\n",
      "Phasing iteration 10:          0 seconds\n",
      "Phasing iteration 11:          0 seconds\n",
      "Phasing iteration 12:          0 seconds\n",
      "Low frequency phasing:         1 second\n",
      "\n",
      "Window 3 [5:67534635-111982027]\n",
      "Study     markers:              118,889\n",
      "\n",
      "Burnin  iteration 1:           2 seconds\n",
      "Burnin  iteration 2:           1 second\n",
      "\n",
      "Estimated ne:                  21515\n",
      "Estimated err:                 4.1e-03\n",
      "\n",
      "Phasing iteration 1:           0 seconds\n",
      "Phasing iteration 2:           0 seconds\n",
      "Phasing iteration 3:           0 seconds\n",
      "Phasing iteration 4:           0 seconds\n",
      "Phasing iteration 5:           0 seconds\n",
      "Phasing iteration 6:           0 seconds\n",
      "Phasing iteration 7:           0 seconds\n",
      "Phasing iteration 8:           0 seconds\n",
      "Phasing iteration 9:           0 seconds\n",
      "Phasing iteration 10:          0 seconds\n",
      "Phasing iteration 11:          0 seconds\n",
      "Phasing iteration 12:          0 seconds\n",
      "Low frequency phasing:         1 second\n",
      "\n",
      "Window 4 [5:109533800-149268470]\n",
      "Study     markers:              121,888\n",
      "\n",
      "Burnin  iteration 1:           2 seconds\n",
      "Burnin  iteration 2:           1 second\n",
      "\n",
      "Estimated ne:                  19229\n",
      "Estimated err:                 3.8e-03\n",
      "\n",
      "Phasing iteration 1:           0 seconds\n",
      "Phasing iteration 2:           0 seconds\n",
      "Phasing iteration 3:           0 seconds\n",
      "Phasing iteration 4:           0 seconds\n",
      "Phasing iteration 5:           0 seconds\n",
      "Phasing iteration 6:           0 seconds\n",
      "Phasing iteration 7:           0 seconds\n",
      "Phasing iteration 8:           0 seconds\n",
      "Phasing iteration 9:           0 seconds\n",
      "Phasing iteration 10:          0 seconds\n",
      "Phasing iteration 11:          0 seconds\n",
      "Phasing iteration 12:          0 seconds\n",
      "Low frequency phasing:         1 second\n",
      "\n",
      "Window 5 [5:148219609-174766952]\n",
      "Study     markers:               79,740\n",
      "\n",
      "Burnin  iteration 1:           1 second\n",
      "Burnin  iteration 2:           1 second\n",
      "\n",
      "Estimated ne:                  15161\n",
      "Estimated err:                 3.3e-03\n",
      "\n",
      "Phasing iteration 1:           0 seconds\n",
      "Phasing iteration 2:           0 seconds\n",
      "Phasing iteration 3:           0 seconds\n",
      "Phasing iteration 4:           0 seconds\n",
      "Phasing iteration 5:           0 seconds\n",
      "Phasing iteration 6:           0 seconds\n",
      "Phasing iteration 7:           0 seconds\n",
      "Phasing iteration 8:           0 seconds\n",
      "Phasing iteration 9:           0 seconds\n",
      "Phasing iteration 10:          0 seconds\n",
      "Phasing iteration 11:          0 seconds\n",
      "Phasing iteration 12:          0 seconds\n",
      "Low frequency phasing:         0 seconds\n",
      "\n",
      "Window 6 [5:174167167-180904762]\n",
      "Study     markers:               23,457\n",
      "\n",
      "Burnin  iteration 1:           0 seconds\n",
      "Burnin  iteration 2:           0 seconds\n",
      "Burnin  iteration 3:           0 seconds\n",
      "\n",
      "Estimated ne:                  25877\n",
      "Estimated err:                 8.8e-03\n",
      "\n",
      "Phasing iteration 1:           0 seconds\n",
      "Phasing iteration 2:           0 seconds\n",
      "Phasing iteration 3:           0 seconds\n",
      "Phasing iteration 4:           0 seconds\n",
      "Phasing iteration 5:           0 seconds\n",
      "Phasing iteration 6:           0 seconds\n",
      "Phasing iteration 7:           0 seconds\n",
      "Phasing iteration 8:           0 seconds\n",
      "Phasing iteration 9:           0 seconds\n",
      "Phasing iteration 10:          0 seconds\n",
      "Phasing iteration 11:          0 seconds\n",
      "Phasing iteration 12:          0 seconds\n",
      "Low frequency phasing:         0 seconds\n",
      "\n",
      "Cumulative Statistics:\n",
      "\n",
      "Study     markers:              542,389\n",
      "\n",
      "Haplotype phasing time:        34 seconds\n",
      "Total time:                    40 seconds\n",
      "\n",
      "End time: 10:59 PM JST on 18 Dec 2023\n",
      "beagle.22Jul22.46e.jar finished\n",
      "beagle.22Jul22.46e.jar (version 5.4)\n",
      "Copyright (C) 2014-2022 Brian L. Browning\n",
      "Enter \"java -jar beagle.22Jul22.46e.jar\" to list command line argument\n",
      "Start time: 10:59 PM JST on 18 Dec 2023\n",
      "\n",
      "Command line: java -Xmx16384m -jar beagle.22Jul22.46e.jar\n",
      "  gt=Tongan.chr6.QC.FIXP.vcf.gz\n",
      "  out=Tongan.chr6.QC.FIXP.phased\n",
      "  map=/home/hmiwa/local/plink.GRCh37.map/plink.chr6.GRCh37.map\n",
      "  nthreads=16\n",
      "\n",
      "Reference samples:                    0\n",
      "Study     samples:                   31\n",
      "\n",
      "Window 1 [6:73926-21312967]\n",
      "Study     markers:               66,773\n",
      "\n",
      "Burnin  iteration 1:           4 seconds\n",
      "Burnin  iteration 2:           1 second\n",
      "Burnin  iteration 3:           0 seconds\n",
      "\n",
      "Estimated ne:                  15809\n",
      "Estimated err:                 3.7e-03\n",
      "\n",
      "Phasing iteration 1:           0 seconds\n",
      "Phasing iteration 2:           0 seconds\n",
      "Phasing iteration 3:           0 seconds\n",
      "Phasing iteration 4:           0 seconds\n",
      "Phasing iteration 5:           0 seconds\n",
      "Phasing iteration 6:           0 seconds\n",
      "Phasing iteration 7:           0 seconds\n",
      "Phasing iteration 8:           0 seconds\n",
      "Phasing iteration 9:           0 seconds\n",
      "Phasing iteration 10:          0 seconds\n",
      "Phasing iteration 11:          0 seconds\n",
      "Phasing iteration 12:          0 seconds\n",
      "Low frequency phasing:         2 seconds\n",
      "\n",
      "Window 2 [6:20009666-57082427]\n",
      "Study     markers:              146,228\n",
      "\n",
      "Burnin  iteration 1:           2 seconds\n",
      "Burnin  iteration 2:           1 second\n",
      "Burnin  iteration 3:           1 second\n",
      "\n",
      "Estimated ne:                  27734\n",
      "Estimated err:                 7.6e-03\n",
      "\n",
      "Phasing iteration 1:           0 seconds\n",
      "Phasing iteration 2:           0 seconds\n",
      "Phasing iteration 3:           0 seconds\n",
      "Phasing iteration 4:           0 seconds\n",
      "Phasing iteration 5:           0 seconds\n",
      "Phasing iteration 6:           0 seconds\n",
      "Phasing iteration 7:           0 seconds\n",
      "Phasing iteration 8:           0 seconds\n",
      "Phasing iteration 9:           0 seconds\n",
      "Phasing iteration 10:          0 seconds\n",
      "Phasing iteration 11:          0 seconds\n",
      "Phasing iteration 12:          0 seconds\n",
      "Low frequency phasing:         1 second\n",
      "\n",
      "Window 3 [6:53555623-110289593]\n",
      "Study     markers:              174,874\n",
      "\n",
      "Burnin  iteration 1:           3 seconds\n",
      "Burnin  iteration 2:           1 second\n",
      "Burnin  iteration 3:           1 second\n",
      "\n",
      "Estimated ne:                  32995\n",
      "Estimated err:                 6.7e-03\n",
      "\n",
      "Phasing iteration 1:           0 seconds\n",
      "Phasing iteration 2:           0 seconds\n",
      "Phasing iteration 3:           0 seconds\n",
      "Phasing iteration 4:           0 seconds\n",
      "Phasing iteration 5:           0 seconds\n",
      "Phasing iteration 6:           0 seconds\n",
      "Phasing iteration 7:           0 seconds\n",
      "Phasing iteration 8:           0 seconds\n",
      "Phasing iteration 9:           0 seconds\n",
      "Phasing iteration 10:          0 seconds\n",
      "Phasing iteration 11:          0 seconds\n",
      "Phasing iteration 12:          0 seconds\n",
      "Low frequency phasing:         1 second\n",
      "\n",
      "Window 4 [6:108304736-149277583]\n",
      "Study     markers:              117,849\n",
      "\n",
      "Burnin  iteration 1:           2 seconds\n",
      "Burnin  iteration 2:           1 second\n",
      "\n",
      "Estimated ne:                  19077\n",
      "Estimated err:                 3.4e-03\n",
      "\n",
      "Phasing iteration 1:           0 seconds\n",
      "Phasing iteration 2:           0 seconds\n",
      "Phasing iteration 3:           0 seconds\n",
      "Phasing iteration 4:           0 seconds\n",
      "Phasing iteration 5:           0 seconds\n",
      "Phasing iteration 6:           0 seconds\n",
      "Phasing iteration 7:           0 seconds\n",
      "Phasing iteration 8:           0 seconds\n",
      "Phasing iteration 9:           0 seconds\n",
      "Phasing iteration 10:          0 seconds\n",
      "Phasing iteration 11:          0 seconds\n",
      "Phasing iteration 12:          0 seconds\n",
      "Low frequency phasing:         1 second\n",
      "\n",
      "Window 5 [6:148485539-170752217]\n",
      "Study     markers:               85,438\n",
      "\n",
      "Burnin  iteration 1:           1 second\n",
      "Burnin  iteration 2:           0 seconds\n",
      "Burnin  iteration 3:           0 seconds\n",
      "\n",
      "Estimated ne:                  19179\n",
      "Estimated err:                 4.6e-03\n",
      "\n",
      "Phasing iteration 1:           0 seconds\n",
      "Phasing iteration 2:           0 seconds\n",
      "Phasing iteration 3:           0 seconds\n",
      "Phasing iteration 4:           0 seconds\n",
      "Phasing iteration 5:           0 seconds\n",
      "Phasing iteration 6:           0 seconds\n",
      "Phasing iteration 7:           0 seconds\n",
      "Phasing iteration 8:           0 seconds\n",
      "Phasing iteration 9:           0 seconds\n",
      "Phasing iteration 10:          0 seconds\n",
      "Phasing iteration 11:          0 seconds\n",
      "Phasing iteration 12:          0 seconds\n",
      "Low frequency phasing:         0 seconds\n",
      "\n",
      "Window 6 [6:169555623-171053514]\n",
      "Study     markers:                6,556\n",
      "\n",
      "Burnin  iteration 1:           0 seconds\n",
      "Burnin  iteration 2:           0 seconds\n",
      "Burnin  iteration 3:           0 seconds\n",
      "\n",
      "Estimated ne:                  38888\n",
      "Estimated err:                 1.2e-02\n",
      "\n",
      "Phasing iteration 1:           0 seconds\n",
      "Phasing iteration 2:           0 seconds\n",
      "Phasing iteration 3:           0 seconds\n",
      "Phasing iteration 4:           0 seconds\n",
      "Phasing iteration 5:           0 seconds\n",
      "Phasing iteration 6:           0 seconds\n",
      "Phasing iteration 7:           0 seconds\n",
      "Phasing iteration 8:           0 seconds\n",
      "Phasing iteration 9:           0 seconds\n",
      "Phasing iteration 10:          0 seconds\n",
      "Phasing iteration 11:          0 seconds\n",
      "Phasing iteration 12:          0 seconds\n",
      "Low frequency phasing:         0 seconds\n",
      "\n",
      "Cumulative Statistics:\n",
      "\n",
      "Study     markers:              570,655\n",
      "\n",
      "Haplotype phasing time:        37 seconds\n",
      "Total time:                    43 seconds\n",
      "\n",
      "End time: 11:00 PM JST on 18 Dec 2023\n",
      "beagle.22Jul22.46e.jar finished\n",
      "beagle.22Jul22.46e.jar (version 5.4)\n",
      "Copyright (C) 2014-2022 Brian L. Browning\n",
      "Enter \"java -jar beagle.22Jul22.46e.jar\" to list command line argument\n",
      "Start time: 11:00 PM JST on 18 Dec 2023\n",
      "\n",
      "Command line: java -Xmx16384m -jar beagle.22Jul22.46e.jar\n",
      "  gt=Tongan.chr7.QC.FIXP.vcf.gz\n",
      "  out=Tongan.chr7.QC.FIXP.phased\n",
      "  map=/home/hmiwa/local/plink.GRCh37.map/plink.chr7.GRCh37.map\n",
      "  nthreads=16\n",
      "\n",
      "Reference samples:                    0\n",
      "Study     samples:                   31\n",
      "\n",
      "Window 1 [7:12362-22507316]\n",
      "Study     markers:               91,716\n",
      "\n",
      "Burnin  iteration 1:           4 seconds\n",
      "Burnin  iteration 2:           1 second\n",
      "Burnin  iteration 3:           1 second\n",
      "\n",
      "Estimated ne:                  20909\n",
      "Estimated err:                 4.1e-03\n",
      "\n",
      "Phasing iteration 1:           1 second\n",
      "Phasing iteration 2:           0 seconds\n",
      "Phasing iteration 3:           0 seconds\n",
      "Phasing iteration 4:           0 seconds\n",
      "Phasing iteration 5:           0 seconds\n",
      "Phasing iteration 6:           0 seconds\n",
      "Phasing iteration 7:           0 seconds\n",
      "Phasing iteration 8:           0 seconds\n",
      "Phasing iteration 9:           0 seconds\n",
      "Phasing iteration 10:          0 seconds\n",
      "Phasing iteration 11:          0 seconds\n",
      "Phasing iteration 12:          0 seconds\n",
      "Low frequency phasing:         1 second\n",
      "\n",
      "Window 2 [7:21699037-53260221]\n",
      "Study     markers:              101,960\n",
      "\n",
      "Burnin  iteration 1:           2 seconds\n",
      "Burnin  iteration 2:           1 second\n",
      "\n",
      "Estimated ne:                  18266\n",
      "Estimated err:                 3.6e-03\n",
      "\n",
      "Phasing iteration 1:           0 seconds\n",
      "Phasing iteration 2:           0 seconds\n",
      "Phasing iteration 3:           0 seconds\n",
      "Phasing iteration 4:           0 seconds\n",
      "Phasing iteration 5:           0 seconds\n",
      "Phasing iteration 6:           0 seconds\n",
      "Phasing iteration 7:           0 seconds\n",
      "Phasing iteration 8:           0 seconds\n",
      "Phasing iteration 9:           0 seconds\n",
      "Phasing iteration 10:          0 seconds\n",
      "Phasing iteration 11:          0 seconds\n",
      "Phasing iteration 12:          0 seconds\n",
      "Low frequency phasing:         1 second\n",
      "\n",
      "Window 3 [7:51337874-102201473]\n",
      "Study     markers:              164,818\n",
      "\n",
      "Burnin  iteration 1:           3 seconds\n",
      "Burnin  iteration 2:           1 second\n",
      "Burnin  iteration 3:           1 second\n",
      "\n",
      "Estimated ne:                  40505\n",
      "Estimated err:                 9.6e-03\n",
      "\n",
      "Phasing iteration 1:           1 second\n",
      "Phasing iteration 2:           0 seconds\n",
      "Phasing iteration 3:           0 seconds\n",
      "Phasing iteration 4:           0 seconds\n",
      "Phasing iteration 5:           0 seconds\n",
      "Phasing iteration 6:           0 seconds\n",
      "Phasing iteration 7:           0 seconds\n",
      "Phasing iteration 8:           0 seconds\n",
      "Phasing iteration 9:           0 seconds\n",
      "Phasing iteration 10:          0 seconds\n",
      "Phasing iteration 11:          0 seconds\n",
      "Phasing iteration 12:          0 seconds\n",
      "Low frequency phasing:         1 second\n",
      "\n",
      "Window 4 [7:98945908-141848071]\n",
      "Study     markers:              112,885\n",
      "\n",
      "Burnin  iteration 1:           1 second\n",
      "Burnin  iteration 2:           1 second\n",
      "Burnin  iteration 3:           1 second\n",
      "\n",
      "Estimated ne:                  20945\n",
      "Estimated err:                 4.3e-03\n",
      "\n",
      "Phasing iteration 1:           0 seconds\n",
      "Phasing iteration 2:           0 seconds\n",
      "Phasing iteration 3:           0 seconds\n",
      "Phasing iteration 4:           0 seconds\n",
      "Phasing iteration 5:           0 seconds\n",
      "Phasing iteration 6:           0 seconds\n",
      "Phasing iteration 7:           0 seconds\n",
      "Phasing iteration 8:           0 seconds\n",
      "Phasing iteration 9:           0 seconds\n",
      "Phasing iteration 10:          0 seconds\n",
      "Phasing iteration 11:          0 seconds\n",
      "Phasing iteration 12:          0 seconds\n",
      "Low frequency phasing:         1 second\n",
      "\n",
      "Window 5 [7:140215009-159128302]\n",
      "Study     markers:               70,362\n",
      "\n",
      "Burnin  iteration 1:           1 second\n",
      "Burnin  iteration 2:           0 seconds\n",
      "Burnin  iteration 3:           0 seconds\n",
      "\n",
      "Estimated ne:                  24655\n",
      "Estimated err:                 8.1e-03\n",
      "\n",
      "Phasing iteration 1:           0 seconds\n",
      "Phasing iteration 2:           0 seconds\n",
      "Phasing iteration 3:           0 seconds\n",
      "Phasing iteration 4:           0 seconds\n",
      "Phasing iteration 5:           0 seconds\n",
      "Phasing iteration 6:           0 seconds\n",
      "Phasing iteration 7:           0 seconds\n",
      "Phasing iteration 8:           0 seconds\n",
      "Phasing iteration 9:           0 seconds\n",
      "Phasing iteration 10:          0 seconds\n",
      "Phasing iteration 11:          0 seconds\n",
      "Phasing iteration 12:          0 seconds\n",
      "Low frequency phasing:         0 seconds\n",
      "\n",
      "Cumulative Statistics:\n",
      "\n",
      "Study     markers:              516,242\n",
      "\n",
      "Haplotype phasing time:        34 seconds\n",
      "Total time:                    40 seconds\n",
      "\n",
      "End time: 11:01 PM JST on 18 Dec 2023\n",
      "beagle.22Jul22.46e.jar finished\n",
      "beagle.22Jul22.46e.jar (version 5.4)\n",
      "Copyright (C) 2014-2022 Brian L. Browning\n",
      "Enter \"java -jar beagle.22Jul22.46e.jar\" to list command line argument\n",
      "Start time: 11:01 PM JST on 18 Dec 2023\n",
      "\n",
      "Command line: java -Xmx16384m -jar beagle.22Jul22.46e.jar\n",
      "  gt=Tongan.chr8.QC.FIXP.vcf.gz\n",
      "  out=Tongan.chr8.QC.FIXP.phased\n",
      "  map=/home/hmiwa/local/plink.GRCh37.map/plink.chr8.GRCh37.map\n",
      "  nthreads=16\n",
      "\n",
      "Reference samples:                    0\n",
      "Study     samples:                   31\n",
      "\n",
      "Window 1 [8:10346-18797874]\n",
      "Study     markers:              100,203\n",
      "\n",
      "Burnin  iteration 1:           4 seconds\n",
      "Burnin  iteration 2:           1 second\n",
      "Burnin  iteration 3:           1 second\n",
      "\n",
      "Estimated ne:                  31911\n",
      "Estimated err:                 6.5e-03\n",
      "\n",
      "Phasing iteration 1:           1 second\n",
      "Phasing iteration 2:           0 seconds\n",
      "Phasing iteration 3:           0 seconds\n",
      "Phasing iteration 4:           0 seconds\n",
      "Phasing iteration 5:           0 seconds\n",
      "Phasing iteration 6:           0 seconds\n",
      "Phasing iteration 7:           0 seconds\n",
      "Phasing iteration 8:           0 seconds\n",
      "Phasing iteration 9:           0 seconds\n",
      "Phasing iteration 10:          0 seconds\n",
      "Phasing iteration 11:          0 seconds\n",
      "Phasing iteration 12:          0 seconds\n",
      "Low frequency phasing:         2 seconds\n",
      "\n",
      "Window 2 [8:17674459-59728586]\n",
      "Study     markers:              113,787\n",
      "\n",
      "Burnin  iteration 1:           2 seconds\n",
      "Burnin  iteration 2:           1 second\n",
      "\n",
      "Estimated ne:                  19560\n",
      "Estimated err:                 3.7e-03\n",
      "\n",
      "Phasing iteration 1:           0 seconds\n",
      "Phasing iteration 2:           0 seconds\n",
      "Phasing iteration 3:           0 seconds\n",
      "Phasing iteration 4:           0 seconds\n",
      "Phasing iteration 5:           0 seconds\n",
      "Phasing iteration 6:           0 seconds\n",
      "Phasing iteration 7:           0 seconds\n",
      "Phasing iteration 8:           0 seconds\n",
      "Phasing iteration 9:           0 seconds\n",
      "Phasing iteration 10:          0 seconds\n",
      "Phasing iteration 11:          0 seconds\n",
      "Phasing iteration 12:          0 seconds\n",
      "Low frequency phasing:         1 second\n",
      "\n",
      "Window 3 [8:58197291-103506313]\n",
      "Study     markers:              119,171\n",
      "\n",
      "Burnin  iteration 1:           2 seconds\n",
      "Burnin  iteration 2:           1 second\n",
      "\n",
      "Estimated ne:                  18633\n",
      "Estimated err:                 3.5e-03\n",
      "\n",
      "Phasing iteration 1:           0 seconds\n",
      "Phasing iteration 2:           0 seconds\n",
      "Phasing iteration 3:           0 seconds\n",
      "Phasing iteration 4:           0 seconds\n",
      "Phasing iteration 5:           0 seconds\n",
      "Phasing iteration 6:           0 seconds\n",
      "Phasing iteration 7:           0 seconds\n",
      "Phasing iteration 8:           0 seconds\n",
      "Phasing iteration 9:           0 seconds\n",
      "Phasing iteration 10:          0 seconds\n",
      "Phasing iteration 11:          0 seconds\n",
      "Phasing iteration 12:          0 seconds\n",
      "Low frequency phasing:         1 second\n",
      "\n",
      "Window 4 [8:102148239-137507706]\n",
      "Study     markers:              106,852\n",
      "\n",
      "Burnin  iteration 1:           2 seconds\n",
      "Burnin  iteration 2:           1 second\n",
      "\n",
      "Estimated ne:                  17841\n",
      "Estimated err:                 3.6e-03\n",
      "\n",
      "Phasing iteration 1:           0 seconds\n",
      "Phasing iteration 2:           0 seconds\n",
      "Phasing iteration 3:           0 seconds\n",
      "Phasing iteration 4:           0 seconds\n",
      "Phasing iteration 5:           0 seconds\n",
      "Phasing iteration 6:           0 seconds\n",
      "Phasing iteration 7:           0 seconds\n",
      "Phasing iteration 8:           0 seconds\n",
      "Phasing iteration 9:           0 seconds\n",
      "Phasing iteration 10:          0 seconds\n",
      "Phasing iteration 11:          0 seconds\n",
      "Phasing iteration 12:          0 seconds\n",
      "Low frequency phasing:         0 seconds\n",
      "\n",
      "Window 5 [8:135807731-146303416]\n",
      "Study     markers:               36,978\n",
      "\n",
      "Burnin  iteration 1:           0 seconds\n",
      "Burnin  iteration 2:           0 seconds\n",
      "Burnin  iteration 3:           0 seconds\n",
      "\n",
      "Estimated ne:                  22727\n",
      "Estimated err:                 4.6e-03\n",
      "\n",
      "Phasing iteration 1:           0 seconds\n",
      "Phasing iteration 2:           0 seconds\n",
      "Phasing iteration 3:           0 seconds\n",
      "Phasing iteration 4:           0 seconds\n",
      "Phasing iteration 5:           0 seconds\n",
      "Phasing iteration 6:           0 seconds\n",
      "Phasing iteration 7:           0 seconds\n",
      "Phasing iteration 8:           0 seconds\n",
      "Phasing iteration 9:           0 seconds\n",
      "Phasing iteration 10:          0 seconds\n",
      "Phasing iteration 11:          0 seconds\n",
      "Phasing iteration 12:          0 seconds\n",
      "Low frequency phasing:         0 seconds\n",
      "\n",
      "Cumulative Statistics:\n",
      "\n",
      "Study     markers:              458,626\n",
      "\n",
      "Haplotype phasing time:        31 seconds\n",
      "Total time:                    37 seconds\n",
      "\n",
      "End time: 11:01 PM JST on 18 Dec 2023\n",
      "beagle.22Jul22.46e.jar finished\n",
      "beagle.22Jul22.46e.jar (version 5.4)\n",
      "Copyright (C) 2014-2022 Brian L. Browning\n",
      "Enter \"java -jar beagle.22Jul22.46e.jar\" to list command line argument\n",
      "Start time: 11:01 PM JST on 18 Dec 2023\n",
      "\n",
      "Command line: java -Xmx16384m -jar beagle.22Jul22.46e.jar\n",
      "  gt=Tongan.chr9.QC.FIXP.vcf.gz\n",
      "  out=Tongan.chr9.QC.FIXP.phased\n",
      "  map=/home/hmiwa/local/plink.GRCh37.map/plink.chr9.GRCh37.map\n",
      "  nthreads=16\n",
      "\n",
      "Reference samples:                    0\n",
      "Study     samples:                   31\n",
      "\n",
      "Window 1 [9:10346-19601887]\n",
      "Study     markers:               79,191\n",
      "\n",
      "Burnin  iteration 1:           4 seconds\n",
      "Burnin  iteration 2:           1 second\n",
      "Burnin  iteration 3:           1 second\n",
      "\n",
      "Estimated ne:                  17300\n",
      "Estimated err:                 4.2e-03\n",
      "\n",
      "Phasing iteration 1:           0 seconds\n",
      "Phasing iteration 2:           0 seconds\n",
      "Phasing iteration 3:           0 seconds\n",
      "Phasing iteration 4:           0 seconds\n",
      "Phasing iteration 5:           0 seconds\n",
      "Phasing iteration 6:           0 seconds\n",
      "Phasing iteration 7:           0 seconds\n",
      "Phasing iteration 8:           0 seconds\n",
      "Phasing iteration 9:           0 seconds\n",
      "Phasing iteration 10:          0 seconds\n",
      "Phasing iteration 11:          0 seconds\n",
      "Phasing iteration 12:          0 seconds\n",
      "Low frequency phasing:         1 second\n",
      "\n",
      "Window 2 [9:18575898-80220710]\n",
      "Study     markers:              144,933\n",
      "\n",
      "Burnin  iteration 1:           2 seconds\n",
      "Burnin  iteration 2:           1 second\n",
      "Burnin  iteration 3:           1 second\n",
      "\n",
      "Estimated ne:                  41932\n",
      "Estimated err:                 2.4e-02\n",
      "\n",
      "Phasing iteration 1:           1 second\n",
      "Phasing iteration 2:           0 seconds\n",
      "Phasing iteration 3:           0 seconds\n",
      "Phasing iteration 4:           0 seconds\n",
      "Phasing iteration 5:           0 seconds\n",
      "Phasing iteration 6:           0 seconds\n",
      "Phasing iteration 7:           0 seconds\n",
      "Phasing iteration 8:           0 seconds\n",
      "Phasing iteration 9:           0 seconds\n",
      "Phasing iteration 10:          0 seconds\n",
      "Phasing iteration 11:          0 seconds\n",
      "Phasing iteration 12:          0 seconds\n",
      "Low frequency phasing:         1 second\n",
      "\n",
      "Window 3 [9:79150903-112369351]\n",
      "Study     markers:               98,338\n",
      "\n",
      "Burnin  iteration 1:           2 seconds\n",
      "Burnin  iteration 2:           1 second\n",
      "\n",
      "Estimated ne:                  17625\n",
      "Estimated err:                 3.6e-03\n",
      "\n",
      "Phasing iteration 1:           0 seconds\n",
      "Phasing iteration 2:           0 seconds\n",
      "Phasing iteration 3:           0 seconds\n",
      "Phasing iteration 4:           0 seconds\n",
      "Phasing iteration 5:           0 seconds\n",
      "Phasing iteration 6:           0 seconds\n",
      "Phasing iteration 7:           0 seconds\n",
      "Phasing iteration 8:           0 seconds\n",
      "Phasing iteration 9:           0 seconds\n",
      "Phasing iteration 10:          0 seconds\n",
      "Phasing iteration 11:          0 seconds\n",
      "Phasing iteration 12:          0 seconds\n",
      "Low frequency phasing:         0 seconds\n",
      "\n",
      "Window 4 [9:110879211-137040737]\n",
      "Study     markers:               78,893\n",
      "\n",
      "Burnin  iteration 1:           1 second\n",
      "Burnin  iteration 2:           0 seconds\n",
      "Burnin  iteration 3:           0 seconds\n",
      "\n",
      "Estimated ne:                  16307\n",
      "Estimated err:                 4.1e-03\n",
      "\n",
      "Phasing iteration 1:           0 seconds\n",
      "Phasing iteration 2:           0 seconds\n",
      "Phasing iteration 3:           0 seconds\n",
      "Phasing iteration 4:           0 seconds\n",
      "Phasing iteration 5:           0 seconds\n",
      "Phasing iteration 6:           0 seconds\n",
      "Phasing iteration 7:           0 seconds\n",
      "Phasing iteration 8:           0 seconds\n",
      "Phasing iteration 9:           0 seconds\n",
      "Phasing iteration 10:          0 seconds\n",
      "Phasing iteration 11:          0 seconds\n",
      "Phasing iteration 12:          0 seconds\n",
      "Low frequency phasing:         1 second\n",
      "\n",
      "Window 5 [9:136538798-141149816]\n",
      "Study     markers:               17,374\n",
      "\n",
      "Burnin  iteration 1:           0 seconds\n",
      "Burnin  iteration 2:           0 seconds\n",
      "Burnin  iteration 3:           0 seconds\n",
      "\n",
      "Estimated ne:                  16971\n",
      "Estimated err:                 6.3e-03\n",
      "\n",
      "Phasing iteration 1:           0 seconds\n",
      "Phasing iteration 2:           0 seconds\n",
      "Phasing iteration 3:           0 seconds\n",
      "Phasing iteration 4:           0 seconds\n",
      "Phasing iteration 5:           0 seconds\n",
      "Phasing iteration 6:           0 seconds\n",
      "Phasing iteration 7:           0 seconds\n",
      "Phasing iteration 8:           0 seconds\n",
      "Phasing iteration 9:           0 seconds\n",
      "Phasing iteration 10:          0 seconds\n",
      "Phasing iteration 11:          0 seconds\n",
      "Phasing iteration 12:          0 seconds\n",
      "Low frequency phasing:         0 seconds\n",
      "\n",
      "Cumulative Statistics:\n",
      "\n",
      "Study     markers:              403,413\n",
      "\n",
      "Haplotype phasing time:        28 seconds\n",
      "Total time:                    33 seconds\n",
      "\n",
      "End time: 11:02 PM JST on 18 Dec 2023\n",
      "beagle.22Jul22.46e.jar finished\n",
      "beagle.22Jul22.46e.jar (version 5.4)\n",
      "Copyright (C) 2014-2022 Brian L. Browning\n",
      "Enter \"java -jar beagle.22Jul22.46e.jar\" to list command line argument\n",
      "Start time: 11:02 PM JST on 18 Dec 2023\n",
      "\n",
      "Command line: java -Xmx16384m -jar beagle.22Jul22.46e.jar\n",
      "  gt=Tongan.chr10.QC.FIXP.vcf.gz\n",
      "  out=Tongan.chr10.QC.FIXP.phased\n",
      "  map=/home/hmiwa/local/plink.GRCh37.map/plink.chr10.GRCh37.map\n",
      "  nthreads=16\n",
      "\n",
      "Reference samples:                    0\n",
      "Study     samples:                   31\n",
      "\n",
      "Window 1 [10:60515-18538669]\n",
      "Study     markers:               73,303\n",
      "\n",
      "Burnin  iteration 1:           4 seconds\n",
      "Burnin  iteration 2:           1 second\n",
      "Burnin  iteration 3:           1 second\n",
      "\n",
      "Estimated ne:                  18314\n",
      "Estimated err:                 4.8e-03\n",
      "\n",
      "Phasing iteration 1:           0 seconds\n",
      "Phasing iteration 2:           0 seconds\n",
      "Phasing iteration 3:           0 seconds\n",
      "Phasing iteration 4:           0 seconds\n",
      "Phasing iteration 5:           0 seconds\n",
      "Phasing iteration 6:           0 seconds\n",
      "Phasing iteration 7:           0 seconds\n",
      "Phasing iteration 8:           0 seconds\n",
      "Phasing iteration 9:           0 seconds\n",
      "Phasing iteration 10:          0 seconds\n",
      "Phasing iteration 11:          0 seconds\n",
      "Phasing iteration 12:          0 seconds\n",
      "Low frequency phasing:         2 seconds\n",
      "\n",
      "Window 2 [10:17068186-54798107]\n",
      "Study     markers:              113,375\n",
      "\n",
      "Burnin  iteration 1:           2 seconds\n",
      "Burnin  iteration 2:           1 second\n",
      "Burnin  iteration 3:           1 second\n",
      "\n",
      "Estimated ne:                  28646\n",
      "Estimated err:                 7.6e-03\n",
      "\n",
      "Phasing iteration 1:           0 seconds\n",
      "Phasing iteration 2:           0 seconds\n",
      "Phasing iteration 3:           0 seconds\n",
      "Phasing iteration 4:           0 seconds\n",
      "Phasing iteration 5:           0 seconds\n",
      "Phasing iteration 6:           0 seconds\n",
      "Phasing iteration 7:           0 seconds\n",
      "Phasing iteration 8:           0 seconds\n",
      "Phasing iteration 9:           0 seconds\n",
      "Phasing iteration 10:          0 seconds\n",
      "Phasing iteration 11:          0 seconds\n",
      "Phasing iteration 12:          0 seconds\n",
      "Low frequency phasing:         1 second\n",
      "\n",
      "Window 3 [10:53792294-90733590]\n",
      "Study     markers:              113,373\n",
      "\n",
      "Burnin  iteration 1:           2 seconds\n",
      "Burnin  iteration 2:           1 second\n",
      "Burnin  iteration 3:           1 second\n",
      "\n",
      "Estimated ne:                  17185\n",
      "Estimated err:                 4.2e-03\n",
      "\n",
      "Phasing iteration 1:           0 seconds\n",
      "Phasing iteration 2:           0 seconds\n",
      "Phasing iteration 3:           0 seconds\n",
      "Phasing iteration 4:           0 seconds\n",
      "Phasing iteration 5:           0 seconds\n",
      "Phasing iteration 6:           0 seconds\n",
      "Phasing iteration 7:           0 seconds\n",
      "Phasing iteration 8:           0 seconds\n",
      "Phasing iteration 9:           0 seconds\n",
      "Phasing iteration 10:          0 seconds\n",
      "Phasing iteration 11:          0 seconds\n",
      "Phasing iteration 12:          0 seconds\n",
      "Low frequency phasing:         1 second\n",
      "\n",
      "Window 4 [10:88782862-123900116]\n",
      "Study     markers:               96,763\n",
      "\n",
      "Burnin  iteration 1:           2 seconds\n",
      "Burnin  iteration 2:           0 seconds\n",
      "\n",
      "Estimated ne:                  18906\n",
      "Estimated err:                 3.7e-03\n",
      "\n",
      "Phasing iteration 1:           0 seconds\n",
      "Phasing iteration 2:           0 seconds\n",
      "Phasing iteration 3:           0 seconds\n",
      "Phasing iteration 4:           0 seconds\n",
      "Phasing iteration 5:           0 seconds\n",
      "Phasing iteration 6:           0 seconds\n",
      "Phasing iteration 7:           0 seconds\n",
      "Phasing iteration 8:           0 seconds\n",
      "Phasing iteration 9:           0 seconds\n",
      "Phasing iteration 10:          0 seconds\n",
      "Phasing iteration 11:          0 seconds\n",
      "Phasing iteration 12:          0 seconds\n",
      "Low frequency phasing:         0 seconds\n",
      "\n",
      "Window 5 [10:123091819-135524659]\n",
      "Study     markers:               47,466\n",
      "\n",
      "Burnin  iteration 1:           1 second\n",
      "Burnin  iteration 2:           0 seconds\n",
      "Burnin  iteration 3:           0 seconds\n",
      "\n",
      "Estimated ne:                  16493\n",
      "Estimated err:                 5.1e-03\n",
      "\n",
      "Phasing iteration 1:           0 seconds\n",
      "Phasing iteration 2:           0 seconds\n",
      "Phasing iteration 3:           0 seconds\n",
      "Phasing iteration 4:           0 seconds\n",
      "Phasing iteration 5:           0 seconds\n",
      "Phasing iteration 6:           0 seconds\n",
      "Phasing iteration 7:           0 seconds\n",
      "Phasing iteration 8:           0 seconds\n",
      "Phasing iteration 9:           0 seconds\n",
      "Phasing iteration 10:          0 seconds\n",
      "Phasing iteration 11:          0 seconds\n",
      "Phasing iteration 12:          0 seconds\n",
      "Low frequency phasing:         0 seconds\n",
      "\n",
      "Cumulative Statistics:\n",
      "\n",
      "Study     markers:              427,318\n",
      "\n",
      "Haplotype phasing time:        30 seconds\n",
      "Total time:                    35 seconds\n",
      "\n",
      "End time: 11:02 PM JST on 18 Dec 2023\n",
      "beagle.22Jul22.46e.jar finished\n",
      "beagle.22Jul22.46e.jar (version 5.4)\n",
      "Copyright (C) 2014-2022 Brian L. Browning\n",
      "Enter \"java -jar beagle.22Jul22.46e.jar\" to list command line argument\n",
      "Start time: 11:02 PM JST on 18 Dec 2023\n",
      "\n",
      "Command line: java -Xmx16384m -jar beagle.22Jul22.46e.jar\n",
      "  gt=Tongan.chr11.QC.FIXP.vcf.gz\n",
      "  out=Tongan.chr11.QC.FIXP.phased\n",
      "  map=/home/hmiwa/local/plink.GRCh37.map/plink.chr11.GRCh37.map\n",
      "  nthreads=16\n",
      "\n",
      "Reference samples:                    0\n",
      "Study     samples:                   31\n",
      "\n",
      "Window 1 [11:76695-22536677]\n",
      "Study     markers:               81,764\n",
      "\n",
      "Burnin  iteration 1:           4 seconds\n",
      "Burnin  iteration 2:           1 second\n",
      "Burnin  iteration 3:           1 second\n",
      "\n",
      "Estimated ne:                  20022\n",
      "Estimated err:                 5.1e-03\n",
      "\n",
      "Phasing iteration 1:           1 second\n",
      "Phasing iteration 2:           0 seconds\n",
      "Phasing iteration 3:           0 seconds\n",
      "Phasing iteration 4:           0 seconds\n",
      "Phasing iteration 5:           0 seconds\n",
      "Phasing iteration 6:           0 seconds\n",
      "Phasing iteration 7:           0 seconds\n",
      "Phasing iteration 8:           0 seconds\n",
      "Phasing iteration 9:           0 seconds\n",
      "Phasing iteration 10:          0 seconds\n",
      "Phasing iteration 11:          0 seconds\n",
      "Phasing iteration 12:          0 seconds\n",
      "Low frequency phasing:         2 seconds\n",
      "\n",
      "Window 2 [11:21350473-70803408]\n",
      "Study     markers:              146,415\n",
      "\n",
      "Burnin  iteration 1:           2 seconds\n",
      "Burnin  iteration 2:           1 second\n",
      "Burnin  iteration 3:           1 second\n",
      "\n",
      "Estimated ne:                  26674\n",
      "Estimated err:                 6.0e-03\n",
      "\n",
      "Phasing iteration 1:           1 second\n",
      "Phasing iteration 2:           0 seconds\n",
      "Phasing iteration 3:           0 seconds\n",
      "Phasing iteration 4:           0 seconds\n",
      "Phasing iteration 5:           0 seconds\n",
      "Phasing iteration 6:           0 seconds\n",
      "Phasing iteration 7:           0 seconds\n",
      "Phasing iteration 8:           0 seconds\n",
      "Phasing iteration 9:           0 seconds\n",
      "Phasing iteration 10:          0 seconds\n",
      "Phasing iteration 11:          0 seconds\n",
      "Phasing iteration 12:          0 seconds\n",
      "Low frequency phasing:         1 second\n",
      "\n",
      "Window 3 [11:69604893-112358514]\n",
      "Study     markers:              135,082\n",
      "\n",
      "Burnin  iteration 1:           2 seconds\n",
      "Burnin  iteration 2:           1 second\n",
      "\n",
      "Estimated ne:                  23553\n",
      "Estimated err:                 4.5e-03\n",
      "\n",
      "Phasing iteration 1:           0 seconds\n",
      "Phasing iteration 2:           0 seconds\n",
      "Phasing iteration 3:           0 seconds\n",
      "Phasing iteration 4:           0 seconds\n",
      "Phasing iteration 5:           0 seconds\n",
      "Phasing iteration 6:           0 seconds\n",
      "Phasing iteration 7:           0 seconds\n",
      "Phasing iteration 8:           0 seconds\n",
      "Phasing iteration 9:           0 seconds\n",
      "Phasing iteration 10:          0 seconds\n",
      "Phasing iteration 11:          0 seconds\n",
      "Phasing iteration 12:          0 seconds\n",
      "Low frequency phasing:         1 second\n",
      "\n",
      "Window 4 [11:110192424-133044057]\n",
      "Study     markers:               69,581\n",
      "\n",
      "Burnin  iteration 1:           1 second\n",
      "Burnin  iteration 2:           0 seconds\n",
      "\n",
      "Estimated ne:                  15220\n",
      "Estimated err:                 3.4e-03\n",
      "\n",
      "Phasing iteration 1:           0 seconds\n",
      "Phasing iteration 2:           0 seconds\n",
      "Phasing iteration 3:           0 seconds\n",
      "Phasing iteration 4:           0 seconds\n",
      "Phasing iteration 5:           0 seconds\n",
      "Phasing iteration 6:           0 seconds\n",
      "Phasing iteration 7:           0 seconds\n",
      "Phasing iteration 8:           0 seconds\n",
      "Phasing iteration 9:           0 seconds\n",
      "Phasing iteration 10:          0 seconds\n",
      "Phasing iteration 11:          0 seconds\n",
      "Phasing iteration 12:          0 seconds\n",
      "Low frequency phasing:         0 seconds\n",
      "\n",
      "Window 5 [11:132361781-134946488]\n",
      "Study     markers:                8,820\n",
      "\n",
      "Burnin  iteration 1:           0 seconds\n",
      "Burnin  iteration 2:           0 seconds\n",
      "Burnin  iteration 3:           0 seconds\n",
      "\n",
      "Estimated ne:                  14356\n",
      "Estimated err:                 5.0e-03\n",
      "\n",
      "Phasing iteration 1:           0 seconds\n",
      "Phasing iteration 2:           0 seconds\n",
      "Phasing iteration 3:           0 seconds\n",
      "Phasing iteration 4:           0 seconds\n",
      "Phasing iteration 5:           0 seconds\n",
      "Phasing iteration 6:           0 seconds\n",
      "Phasing iteration 7:           0 seconds\n",
      "Phasing iteration 8:           0 seconds\n",
      "Phasing iteration 9:           0 seconds\n",
      "Phasing iteration 10:          0 seconds\n",
      "Phasing iteration 11:          0 seconds\n",
      "Phasing iteration 12:          0 seconds\n",
      "Low frequency phasing:         0 seconds\n",
      "\n",
      "Cumulative Statistics:\n",
      "\n",
      "Study     markers:              425,409\n",
      "\n",
      "Haplotype phasing time:        29 seconds\n",
      "Total time:                    35 seconds\n",
      "\n",
      "End time: 11:03 PM JST on 18 Dec 2023\n",
      "beagle.22Jul22.46e.jar finished\n",
      "beagle.22Jul22.46e.jar (version 5.4)\n",
      "Copyright (C) 2014-2022 Brian L. Browning\n",
      "Enter \"java -jar beagle.22Jul22.46e.jar\" to list command line argument\n",
      "Start time: 11:03 PM JST on 18 Dec 2023\n",
      "\n",
      "Command line: java -Xmx16384m -jar beagle.22Jul22.46e.jar\n",
      "  gt=Tongan.chr12.QC.FIXP.vcf.gz\n",
      "  out=Tongan.chr12.QC.FIXP.phased\n",
      "  map=/home/hmiwa/local/plink.GRCh37.map/plink.chr12.GRCh37.map\n",
      "  nthreads=16\n",
      "\n",
      "Reference samples:                    0\n",
      "Study     samples:                   31\n",
      "\n",
      "Window 1 [12:60076-21749632]\n",
      "Study     markers:               78,831\n",
      "\n",
      "Burnin  iteration 1:           4 seconds\n",
      "Burnin  iteration 2:           1 second\n",
      "Burnin  iteration 3:           1 second\n",
      "\n",
      "Estimated ne:                  20522\n",
      "Estimated err:                 6.3e-03\n",
      "\n",
      "Phasing iteration 1:           0 seconds\n",
      "Phasing iteration 2:           0 seconds\n",
      "Phasing iteration 3:           0 seconds\n",
      "Phasing iteration 4:           0 seconds\n",
      "Phasing iteration 5:           0 seconds\n",
      "Phasing iteration 6:           0 seconds\n",
      "Phasing iteration 7:           0 seconds\n",
      "Phasing iteration 8:           0 seconds\n",
      "Phasing iteration 9:           0 seconds\n",
      "Phasing iteration 10:          0 seconds\n",
      "Phasing iteration 11:          0 seconds\n",
      "Phasing iteration 12:          0 seconds\n",
      "Low frequency phasing:         2 seconds\n",
      "\n",
      "Window 2 [12:20380628-64914187]\n",
      "Study     markers:              125,954\n",
      "\n",
      "Burnin  iteration 1:           2 seconds\n",
      "Burnin  iteration 2:           1 second\n",
      "\n",
      "Estimated ne:                  23159\n",
      "Estimated err:                 4.2e-03\n",
      "\n",
      "Phasing iteration 1:           0 seconds\n",
      "Phasing iteration 2:           0 seconds\n",
      "Phasing iteration 3:           0 seconds\n",
      "Phasing iteration 4:           0 seconds\n",
      "Phasing iteration 5:           0 seconds\n",
      "Phasing iteration 6:           0 seconds\n",
      "Phasing iteration 7:           0 seconds\n",
      "Phasing iteration 8:           0 seconds\n",
      "Phasing iteration 9:           0 seconds\n",
      "Phasing iteration 10:          0 seconds\n",
      "Phasing iteration 11:          0 seconds\n",
      "Phasing iteration 12:          0 seconds\n",
      "Low frequency phasing:         1 second\n",
      "\n",
      "Window 3 [12:63058957-99222741]\n",
      "Study     markers:              100,911\n",
      "\n",
      "Burnin  iteration 1:           1 second\n",
      "Burnin  iteration 2:           1 second\n",
      "\n",
      "Estimated ne:                  16994\n",
      "Estimated err:                 3.8e-03\n",
      "\n",
      "Phasing iteration 1:           0 seconds\n",
      "Phasing iteration 2:           0 seconds\n",
      "Phasing iteration 3:           0 seconds\n",
      "Phasing iteration 4:           0 seconds\n",
      "Phasing iteration 5:           0 seconds\n",
      "Phasing iteration 6:           0 seconds\n",
      "Phasing iteration 7:           0 seconds\n",
      "Phasing iteration 8:           0 seconds\n",
      "Phasing iteration 9:           0 seconds\n",
      "Phasing iteration 10:          0 seconds\n",
      "Phasing iteration 11:          0 seconds\n",
      "Phasing iteration 12:          0 seconds\n",
      "Low frequency phasing:         1 second\n",
      "\n",
      "Window 4 [12:97440427-127094951]\n",
      "Study     markers:               93,222\n",
      "\n",
      "Burnin  iteration 1:           1 second\n",
      "Burnin  iteration 2:           0 seconds\n",
      "\n",
      "Estimated ne:                  18234\n",
      "Estimated err:                 4.0e-03\n",
      "\n",
      "Phasing iteration 1:           0 seconds\n",
      "Phasing iteration 2:           0 seconds\n",
      "Phasing iteration 3:           0 seconds\n",
      "Phasing iteration 4:           0 seconds\n",
      "Phasing iteration 5:           0 seconds\n",
      "Phasing iteration 6:           0 seconds\n",
      "Phasing iteration 7:           0 seconds\n",
      "Phasing iteration 8:           0 seconds\n",
      "Phasing iteration 9:           0 seconds\n",
      "Phasing iteration 10:          0 seconds\n",
      "Phasing iteration 11:          0 seconds\n",
      "Phasing iteration 12:          0 seconds\n",
      "Low frequency phasing:         0 seconds\n",
      "\n",
      "Window 5 [12:126338304-133841396]\n",
      "Study     markers:               31,715\n",
      "\n",
      "Burnin  iteration 1:           0 seconds\n",
      "Burnin  iteration 2:           0 seconds\n",
      "Burnin  iteration 3:           0 seconds\n",
      "\n",
      "Estimated ne:                  18053\n",
      "Estimated err:                 5.1e-03\n",
      "\n",
      "Phasing iteration 1:           0 seconds\n",
      "Phasing iteration 2:           0 seconds\n",
      "Phasing iteration 3:           0 seconds\n",
      "Phasing iteration 4:           0 seconds\n",
      "Phasing iteration 5:           0 seconds\n",
      "Phasing iteration 6:           0 seconds\n",
      "Phasing iteration 7:           0 seconds\n",
      "Phasing iteration 8:           0 seconds\n",
      "Phasing iteration 9:           0 seconds\n",
      "Phasing iteration 10:          0 seconds\n",
      "Phasing iteration 11:          0 seconds\n",
      "Phasing iteration 12:          0 seconds\n",
      "Low frequency phasing:         0 seconds\n",
      "\n",
      "Cumulative Statistics:\n",
      "\n",
      "Study     markers:              411,324\n",
      "\n",
      "Haplotype phasing time:        28 seconds\n",
      "Total time:                    33 seconds\n",
      "\n",
      "End time: 11:04 PM JST on 18 Dec 2023\n",
      "beagle.22Jul22.46e.jar finished\n",
      "beagle.22Jul22.46e.jar (version 5.4)\n",
      "Copyright (C) 2014-2022 Brian L. Browning\n",
      "Enter \"java -jar beagle.22Jul22.46e.jar\" to list command line argument\n",
      "Start time: 11:04 PM JST on 18 Dec 2023\n",
      "\n",
      "Command line: java -Xmx16384m -jar beagle.22Jul22.46e.jar\n",
      "  gt=Tongan.chr13.QC.FIXP.vcf.gz\n",
      "  out=Tongan.chr13.QC.FIXP.phased\n",
      "  map=/home/hmiwa/local/plink.GRCh37.map/plink.chr13.GRCh37.map\n",
      "  nthreads=16\n",
      "\n",
      "Reference samples:                    0\n",
      "Study     samples:                   31\n",
      "\n",
      "Window 1 [13:19020013-40892157]\n",
      "Study     markers:               74,733\n",
      "\n",
      "Burnin  iteration 1:           4 seconds\n",
      "Burnin  iteration 2:           1 second\n",
      "Burnin  iteration 3:           1 second\n",
      "\n",
      "Estimated ne:                  17674\n",
      "Estimated err:                 4.7e-03\n",
      "\n",
      "Phasing iteration 1:           0 seconds\n",
      "Phasing iteration 2:           0 seconds\n",
      "Phasing iteration 3:           0 seconds\n",
      "Phasing iteration 4:           0 seconds\n",
      "Phasing iteration 5:           0 seconds\n",
      "Phasing iteration 6:           0 seconds\n",
      "Phasing iteration 7:           0 seconds\n",
      "Phasing iteration 8:           0 seconds\n",
      "Phasing iteration 9:           0 seconds\n",
      "Phasing iteration 10:          0 seconds\n",
      "Phasing iteration 11:          0 seconds\n",
      "Phasing iteration 12:          0 seconds\n",
      "Low frequency phasing:         1 second\n",
      "\n",
      "Window 2 [13:39844130-81726083]\n",
      "Study     markers:              119,377\n",
      "\n",
      "Burnin  iteration 1:           1 second\n",
      "Burnin  iteration 2:           1 second\n",
      "\n",
      "Estimated ne:                  20762\n",
      "Estimated err:                 3.8e-03\n",
      "\n",
      "Phasing iteration 1:           0 seconds\n",
      "Phasing iteration 2:           0 seconds\n",
      "Phasing iteration 3:           0 seconds\n",
      "Phasing iteration 4:           0 seconds\n",
      "Phasing iteration 5:           0 seconds\n",
      "Phasing iteration 6:           0 seconds\n",
      "Phasing iteration 7:           0 seconds\n",
      "Phasing iteration 8:           0 seconds\n",
      "Phasing iteration 9:           0 seconds\n",
      "Phasing iteration 10:          0 seconds\n",
      "Phasing iteration 11:          0 seconds\n",
      "Phasing iteration 12:          0 seconds\n",
      "Low frequency phasing:         1 second\n",
      "\n",
      "Window 3 [13:79491183-110701691]\n",
      "Study     markers:              109,975\n",
      "\n",
      "Burnin  iteration 1:           1 second\n",
      "Burnin  iteration 2:           1 second\n",
      "\n",
      "Estimated ne:                  21851\n",
      "Estimated err:                 4.0e-03\n",
      "\n",
      "Phasing iteration 1:           0 seconds\n",
      "Phasing iteration 2:           0 seconds\n",
      "Phasing iteration 3:           0 seconds\n",
      "Phasing iteration 4:           0 seconds\n",
      "Phasing iteration 5:           0 seconds\n",
      "Phasing iteration 6:           0 seconds\n",
      "Phasing iteration 7:           0 seconds\n",
      "Phasing iteration 8:           0 seconds\n",
      "Phasing iteration 9:           0 seconds\n",
      "Phasing iteration 10:          0 seconds\n",
      "Phasing iteration 11:          0 seconds\n",
      "Phasing iteration 12:          0 seconds\n",
      "Low frequency phasing:         0 seconds\n",
      "\n",
      "Window 4 [13:109579883-115109637]\n",
      "Study     markers:               23,838\n",
      "\n",
      "Burnin  iteration 1:           0 seconds\n",
      "Burnin  iteration 2:           0 seconds\n",
      "Burnin  iteration 3:           0 seconds\n",
      "\n",
      "Estimated ne:                  23929\n",
      "Estimated err:                 9.6e-03\n",
      "\n",
      "Phasing iteration 1:           0 seconds\n",
      "Phasing iteration 2:           0 seconds\n",
      "Phasing iteration 3:           0 seconds\n",
      "Phasing iteration 4:           0 seconds\n",
      "Phasing iteration 5:           0 seconds\n",
      "Phasing iteration 6:           0 seconds\n",
      "Phasing iteration 7:           0 seconds\n",
      "Phasing iteration 8:           0 seconds\n",
      "Phasing iteration 9:           0 seconds\n",
      "Phasing iteration 10:          0 seconds\n",
      "Phasing iteration 11:          0 seconds\n",
      "Phasing iteration 12:          0 seconds\n",
      "Low frequency phasing:         0 seconds\n",
      "\n",
      "Cumulative Statistics:\n",
      "\n",
      "Study     markers:              314,006\n",
      "\n",
      "Haplotype phasing time:        21 seconds\n",
      "Total time:                    26 seconds\n",
      "\n",
      "End time: 11:04 PM JST on 18 Dec 2023\n",
      "beagle.22Jul22.46e.jar finished\n",
      "beagle.22Jul22.46e.jar (version 5.4)\n",
      "Copyright (C) 2014-2022 Brian L. Browning\n",
      "Enter \"java -jar beagle.22Jul22.46e.jar\" to list command line argument\n",
      "Start time: 11:04 PM JST on 18 Dec 2023\n",
      "\n",
      "Command line: java -Xmx16384m -jar beagle.22Jul22.46e.jar\n",
      "  gt=Tongan.chr14.QC.FIXP.vcf.gz\n",
      "  out=Tongan.chr14.QC.FIXP.phased\n",
      "  map=/home/hmiwa/local/plink.GRCh37.map/plink.chr14.GRCh37.map\n",
      "  nthreads=16\n",
      "\n",
      "Reference samples:                    0\n",
      "Study     samples:                   31\n",
      "\n",
      "Window 1 [14:19000060-40918607]\n",
      "Study     markers:               70,795\n",
      "\n",
      "Burnin  iteration 1:           4 seconds\n",
      "Burnin  iteration 2:           1 second\n",
      "Burnin  iteration 3:           1 second\n",
      "\n",
      "Estimated ne:                  21901\n",
      "Estimated err:                 6.4e-03\n",
      "\n",
      "Phasing iteration 1:           0 seconds\n",
      "Phasing iteration 2:           0 seconds\n",
      "Phasing iteration 3:           0 seconds\n",
      "Phasing iteration 4:           0 seconds\n",
      "Phasing iteration 5:           0 seconds\n",
      "Phasing iteration 6:           0 seconds\n",
      "Phasing iteration 7:           0 seconds\n",
      "Phasing iteration 8:           0 seconds\n",
      "Phasing iteration 9:           0 seconds\n",
      "Phasing iteration 10:          0 seconds\n",
      "Phasing iteration 11:          0 seconds\n",
      "Phasing iteration 12:          0 seconds\n",
      "Low frequency phasing:         1 second\n",
      "\n",
      "Window 2 [14:38003872-80078238]\n",
      "Study     markers:              135,017\n",
      "\n",
      "Burnin  iteration 1:           2 seconds\n",
      "Burnin  iteration 2:           1 second\n",
      "\n",
      "Estimated ne:                  22501\n",
      "Estimated err:                 4.4e-03\n",
      "\n",
      "Phasing iteration 1:           1 second\n",
      "Phasing iteration 2:           0 seconds\n",
      "Phasing iteration 3:           0 seconds\n",
      "Phasing iteration 4:           0 seconds\n",
      "Phasing iteration 5:           0 seconds\n",
      "Phasing iteration 6:           0 seconds\n",
      "Phasing iteration 7:           0 seconds\n",
      "Phasing iteration 8:           0 seconds\n",
      "Phasing iteration 9:           0 seconds\n",
      "Phasing iteration 10:          0 seconds\n",
      "Phasing iteration 11:          0 seconds\n",
      "Phasing iteration 12:          0 seconds\n",
      "Low frequency phasing:         1 second\n",
      "\n",
      "Window 3 [14:78023782-104632132]\n",
      "Study     markers:               83,382\n",
      "\n",
      "Burnin  iteration 1:           1 second\n",
      "Burnin  iteration 2:           0 seconds\n",
      "\n",
      "Estimated ne:                  15849\n",
      "Estimated err:                 3.4e-03\n",
      "\n",
      "Phasing iteration 1:           0 seconds\n",
      "Phasing iteration 2:           0 seconds\n",
      "Phasing iteration 3:           0 seconds\n",
      "Phasing iteration 4:           0 seconds\n",
      "Phasing iteration 5:           0 seconds\n",
      "Phasing iteration 6:           0 seconds\n",
      "Phasing iteration 7:           0 seconds\n",
      "Phasing iteration 8:           0 seconds\n",
      "Phasing iteration 9:           0 seconds\n",
      "Phasing iteration 10:          0 seconds\n",
      "Phasing iteration 11:          0 seconds\n",
      "Phasing iteration 12:          0 seconds\n",
      "Low frequency phasing:         0 seconds\n",
      "\n",
      "Window 4 [14:102021628-107289436]\n",
      "Study     markers:               23,811\n",
      "\n",
      "Burnin  iteration 1:           0 seconds\n",
      "Burnin  iteration 2:           0 seconds\n",
      "Burnin  iteration 3:           0 seconds\n",
      "\n",
      "Estimated ne:                  45727\n",
      "Estimated err:                 1.4e-02\n",
      "\n",
      "Phasing iteration 1:           0 seconds\n",
      "Phasing iteration 2:           0 seconds\n",
      "Phasing iteration 3:           0 seconds\n",
      "Phasing iteration 4:           0 seconds\n",
      "Phasing iteration 5:           0 seconds\n",
      "Phasing iteration 6:           0 seconds\n",
      "Phasing iteration 7:           0 seconds\n",
      "Phasing iteration 8:           0 seconds\n",
      "Phasing iteration 9:           0 seconds\n",
      "Phasing iteration 10:          0 seconds\n",
      "Phasing iteration 11:          0 seconds\n",
      "Phasing iteration 12:          0 seconds\n",
      "Low frequency phasing:         0 seconds\n",
      "\n",
      "Cumulative Statistics:\n",
      "\n",
      "Study     markers:              290,640\n",
      "\n",
      "Haplotype phasing time:        21 seconds\n",
      "Total time:                    26 seconds\n",
      "\n",
      "End time: 11:05 PM JST on 18 Dec 2023\n",
      "beagle.22Jul22.46e.jar finished\n",
      "beagle.22Jul22.46e.jar (version 5.4)\n",
      "Copyright (C) 2014-2022 Brian L. Browning\n",
      "Enter \"java -jar beagle.22Jul22.46e.jar\" to list command line argument\n",
      "Start time: 11:05 PM JST on 18 Dec 2023\n",
      "\n",
      "Command line: java -Xmx16384m -jar beagle.22Jul22.46e.jar\n",
      "  gt=Tongan.chr15.QC.FIXP.vcf.gz\n",
      "  out=Tongan.chr15.QC.FIXP.phased\n",
      "  map=/home/hmiwa/local/plink.GRCh37.map/plink.chr15.GRCh37.map\n",
      "  nthreads=16\n",
      "\n",
      "Reference samples:                    0\n",
      "Study     samples:                   31\n",
      "\n",
      "Window 1 [15:20000028-32896609]\n",
      "Study     markers:               48,172\n",
      "\n",
      "Burnin  iteration 1:           5 seconds\n",
      "Burnin  iteration 2:           1 second\n",
      "Burnin  iteration 3:           0 seconds\n",
      "\n",
      "Estimated ne:                  31238\n",
      "Estimated err:                 2.1e-02\n",
      "\n",
      "Phasing iteration 1:           0 seconds\n",
      "Phasing iteration 2:           0 seconds\n",
      "Phasing iteration 3:           0 seconds\n",
      "Phasing iteration 4:           0 seconds\n",
      "Phasing iteration 5:           0 seconds\n",
      "Phasing iteration 6:           0 seconds\n",
      "Phasing iteration 7:           0 seconds\n",
      "Phasing iteration 8:           0 seconds\n",
      "Phasing iteration 9:           0 seconds\n",
      "Phasing iteration 10:          0 seconds\n",
      "Phasing iteration 11:          0 seconds\n",
      "Phasing iteration 12:          0 seconds\n",
      "Low frequency phasing:         1 second\n",
      "\n",
      "Window 2 [15:32569669-62934469]\n",
      "Study     markers:               97,813\n",
      "\n",
      "Burnin  iteration 1:           2 seconds\n",
      "Burnin  iteration 2:           1 second\n",
      "\n",
      "Estimated ne:                  19238\n",
      "Estimated err:                 4.3e-03\n",
      "\n",
      "Phasing iteration 1:           0 seconds\n",
      "Phasing iteration 2:           0 seconds\n",
      "Phasing iteration 3:           0 seconds\n",
      "Phasing iteration 4:           0 seconds\n",
      "Phasing iteration 5:           0 seconds\n",
      "Phasing iteration 6:           0 seconds\n",
      "Phasing iteration 7:           0 seconds\n",
      "Phasing iteration 8:           0 seconds\n",
      "Phasing iteration 9:           0 seconds\n",
      "Phasing iteration 10:          0 seconds\n",
      "Phasing iteration 11:          0 seconds\n",
      "Phasing iteration 12:          0 seconds\n",
      "Low frequency phasing:         1 second\n",
      "\n",
      "Window 3 [15:61591697-93656093]\n",
      "Study     markers:               92,055\n",
      "\n",
      "Burnin  iteration 1:           1 second\n",
      "Burnin  iteration 2:           1 second\n",
      "Burnin  iteration 3:           0 seconds\n",
      "\n",
      "Estimated ne:                  18870\n",
      "Estimated err:                 4.8e-03\n",
      "\n",
      "Phasing iteration 1:           0 seconds\n",
      "Phasing iteration 2:           0 seconds\n",
      "Phasing iteration 3:           0 seconds\n",
      "Phasing iteration 4:           0 seconds\n",
      "Phasing iteration 5:           0 seconds\n",
      "Phasing iteration 6:           0 seconds\n",
      "Phasing iteration 7:           0 seconds\n",
      "Phasing iteration 8:           0 seconds\n",
      "Phasing iteration 9:           0 seconds\n",
      "Phasing iteration 10:          0 seconds\n",
      "Phasing iteration 11:          0 seconds\n",
      "Phasing iteration 12:          0 seconds\n",
      "Low frequency phasing:         0 seconds\n",
      "\n",
      "Window 4 [15:92985882-102520975]\n",
      "Study     markers:               36,285\n",
      "\n",
      "Burnin  iteration 1:           1 second\n",
      "Burnin  iteration 2:           0 seconds\n",
      "Burnin  iteration 3:           0 seconds\n",
      "\n",
      "Estimated ne:                  13798\n",
      "Estimated err:                 4.2e-03\n",
      "\n",
      "Phasing iteration 1:           0 seconds\n",
      "Phasing iteration 2:           0 seconds\n",
      "Phasing iteration 3:           0 seconds\n",
      "Phasing iteration 4:           0 seconds\n",
      "Phasing iteration 5:           0 seconds\n",
      "Phasing iteration 6:           0 seconds\n",
      "Phasing iteration 7:           0 seconds\n",
      "Phasing iteration 8:           0 seconds\n",
      "Phasing iteration 9:           0 seconds\n",
      "Phasing iteration 10:          0 seconds\n",
      "Phasing iteration 11:          0 seconds\n",
      "Phasing iteration 12:          0 seconds\n",
      "Low frequency phasing:         0 seconds\n",
      "\n",
      "Cumulative Statistics:\n",
      "\n",
      "Study     markers:              266,077\n",
      "\n",
      "Haplotype phasing time:        22 seconds\n",
      "Total time:                    26 seconds\n",
      "\n",
      "End time: 11:05 PM JST on 18 Dec 2023\n",
      "beagle.22Jul22.46e.jar finished\n",
      "beagle.22Jul22.46e.jar (version 5.4)\n",
      "Copyright (C) 2014-2022 Brian L. Browning\n",
      "Enter \"java -jar beagle.22Jul22.46e.jar\" to list command line argument\n",
      "Start time: 11:05 PM JST on 18 Dec 2023\n",
      "\n",
      "Command line: java -Xmx16384m -jar beagle.22Jul22.46e.jar\n",
      "  gt=Tongan.chr16.QC.FIXP.vcf.gz\n",
      "  out=Tongan.chr16.QC.FIXP.phased\n",
      "  map=/home/hmiwa/local/plink.GRCh37.map/plink.chr16.GRCh37.map\n",
      "  nthreads=16\n",
      "\n",
      "Reference samples:                    0\n",
      "Study     samples:                   31\n",
      "\n",
      "Window 1 [16:60054-19243769]\n",
      "Study     markers:               76,124\n",
      "\n",
      "Burnin  iteration 1:           4 seconds\n",
      "Burnin  iteration 2:           1 second\n",
      "Burnin  iteration 3:           0 seconds\n",
      "\n",
      "Estimated ne:                  22839\n",
      "Estimated err:                 6.0e-03\n",
      "\n",
      "Phasing iteration 1:           1 second\n",
      "Phasing iteration 2:           0 seconds\n",
      "Phasing iteration 3:           0 seconds\n",
      "Phasing iteration 4:           0 seconds\n",
      "Phasing iteration 5:           0 seconds\n",
      "Phasing iteration 6:           0 seconds\n",
      "Phasing iteration 7:           0 seconds\n",
      "Phasing iteration 8:           0 seconds\n",
      "Phasing iteration 9:           0 seconds\n",
      "Phasing iteration 10:          0 seconds\n",
      "Phasing iteration 11:          0 seconds\n",
      "Phasing iteration 12:          0 seconds\n",
      "Low frequency phasing:         1 second\n",
      "\n",
      "Window 2 [16:18062165-58866944]\n",
      "Study     markers:               87,568\n",
      "\n",
      "Burnin  iteration 1:           2 seconds\n",
      "Burnin  iteration 2:           1 second\n",
      "Burnin  iteration 3:           0 seconds\n",
      "\n",
      "Estimated ne:                  29594\n",
      "Estimated err:                 1.4e-02\n",
      "\n",
      "Phasing iteration 1:           0 seconds\n",
      "Phasing iteration 2:           0 seconds\n",
      "Phasing iteration 3:           0 seconds\n",
      "Phasing iteration 4:           0 seconds\n",
      "Phasing iteration 5:           0 seconds\n",
      "Phasing iteration 6:           0 seconds\n",
      "Phasing iteration 7:           0 seconds\n",
      "Phasing iteration 8:           0 seconds\n",
      "Phasing iteration 9:           0 seconds\n",
      "Phasing iteration 10:          0 seconds\n",
      "Phasing iteration 11:          0 seconds\n",
      "Phasing iteration 12:          0 seconds\n",
      "Low frequency phasing:         1 second\n",
      "\n",
      "Window 3 [16:57690319-84350854]\n",
      "Study     markers:               94,010\n",
      "\n",
      "Burnin  iteration 1:           1 second\n",
      "Burnin  iteration 2:           1 second\n",
      "Burnin  iteration 3:           0 seconds\n",
      "\n",
      "Estimated ne:                  22697\n",
      "Estimated err:                 4.9e-03\n",
      "\n",
      "Phasing iteration 1:           0 seconds\n",
      "Phasing iteration 2:           0 seconds\n",
      "Phasing iteration 3:           0 seconds\n",
      "Phasing iteration 4:           0 seconds\n",
      "Phasing iteration 5:           0 seconds\n",
      "Phasing iteration 6:           0 seconds\n",
      "Phasing iteration 7:           0 seconds\n",
      "Phasing iteration 8:           0 seconds\n",
      "Phasing iteration 9:           0 seconds\n",
      "Phasing iteration 10:          0 seconds\n",
      "Phasing iteration 11:          0 seconds\n",
      "Phasing iteration 12:          0 seconds\n",
      "Low frequency phasing:         1 second\n",
      "\n",
      "Window 4 [16:83805953-90294536]\n",
      "Study     markers:               31,737\n",
      "\n",
      "Burnin  iteration 1:           1 second\n",
      "Burnin  iteration 2:           0 seconds\n",
      "Burnin  iteration 3:           0 seconds\n",
      "\n",
      "Estimated ne:                  17722\n",
      "Estimated err:                 5.6e-03\n",
      "\n",
      "Phasing iteration 1:           0 seconds\n",
      "Phasing iteration 2:           0 seconds\n",
      "Phasing iteration 3:           0 seconds\n",
      "Phasing iteration 4:           0 seconds\n",
      "Phasing iteration 5:           0 seconds\n",
      "Phasing iteration 6:           0 seconds\n",
      "Phasing iteration 7:           0 seconds\n",
      "Phasing iteration 8:           0 seconds\n",
      "Phasing iteration 9:           0 seconds\n",
      "Phasing iteration 10:          0 seconds\n",
      "Phasing iteration 11:          0 seconds\n",
      "Phasing iteration 12:          0 seconds\n",
      "Low frequency phasing:         0 seconds\n",
      "\n",
      "Cumulative Statistics:\n",
      "\n",
      "Study     markers:              278,681\n",
      "\n",
      "Haplotype phasing time:        23 seconds\n",
      "Total time:                    27 seconds\n",
      "\n",
      "End time: 11:05 PM JST on 18 Dec 2023\n",
      "beagle.22Jul22.46e.jar finished\n",
      "beagle.22Jul22.46e.jar (version 5.4)\n",
      "Copyright (C) 2014-2022 Brian L. Browning\n",
      "Enter \"java -jar beagle.22Jul22.46e.jar\" to list command line argument\n",
      "Start time: 11:05 PM JST on 18 Dec 2023\n",
      "\n",
      "Command line: java -Xmx16384m -jar beagle.22Jul22.46e.jar\n",
      "  gt=Tongan.chr17.QC.FIXP.vcf.gz\n",
      "  out=Tongan.chr17.QC.FIXP.phased\n",
      "  map=/home/hmiwa/local/plink.GRCh37.map/plink.chr17.GRCh37.map\n",
      "  nthreads=16\n",
      "\n",
      "Reference samples:                    0\n",
      "Study     samples:                   31\n",
      "\n",
      "Window 1 [17:78-15007875]\n",
      "Study     markers:               56,038\n",
      "\n",
      "Burnin  iteration 1:           3 seconds\n",
      "Burnin  iteration 2:           1 second\n",
      "Burnin  iteration 3:           0 seconds\n",
      "\n",
      "Estimated ne:                  16056\n",
      "Estimated err:                 4.8e-03\n",
      "\n",
      "Phasing iteration 1:           0 seconds\n",
      "Phasing iteration 2:           0 seconds\n",
      "Phasing iteration 3:           0 seconds\n",
      "Phasing iteration 4:           0 seconds\n",
      "Phasing iteration 5:           0 seconds\n",
      "Phasing iteration 6:           0 seconds\n",
      "Phasing iteration 7:           0 seconds\n",
      "Phasing iteration 8:           0 seconds\n",
      "Phasing iteration 9:           0 seconds\n",
      "Phasing iteration 10:          0 seconds\n",
      "Phasing iteration 11:          0 seconds\n",
      "Phasing iteration 12:          0 seconds\n",
      "Low frequency phasing:         1 second\n",
      "\n",
      "Window 2 [17:14391009-54303528]\n",
      "Study     markers:               99,868\n",
      "\n",
      "Burnin  iteration 1:           1 second\n",
      "Burnin  iteration 2:           1 second\n",
      "Burnin  iteration 3:           1 second\n",
      "\n",
      "Estimated ne:                  26682\n",
      "Estimated err:                 8.0e-03\n",
      "\n",
      "Phasing iteration 1:           1 second\n",
      "Phasing iteration 2:           0 seconds\n",
      "Phasing iteration 3:           0 seconds\n",
      "Phasing iteration 4:           0 seconds\n",
      "Phasing iteration 5:           0 seconds\n",
      "Phasing iteration 6:           0 seconds\n",
      "Phasing iteration 7:           0 seconds\n",
      "Phasing iteration 8:           0 seconds\n",
      "Phasing iteration 9:           0 seconds\n",
      "Phasing iteration 10:          0 seconds\n",
      "Phasing iteration 11:          0 seconds\n",
      "Phasing iteration 12:          0 seconds\n",
      "Low frequency phasing:         1 second\n",
      "\n",
      "Window 3 [17:53274192-76462770]\n",
      "Study     markers:               62,757\n",
      "\n",
      "Burnin  iteration 1:           1 second\n",
      "Burnin  iteration 2:           0 seconds\n",
      "\n",
      "Estimated ne:                  13920\n",
      "Estimated err:                 3.8e-03\n",
      "\n",
      "Phasing iteration 1:           0 seconds\n",
      "Phasing iteration 2:           0 seconds\n",
      "Phasing iteration 3:           0 seconds\n",
      "Phasing iteration 4:           0 seconds\n",
      "Phasing iteration 5:           0 seconds\n",
      "Phasing iteration 6:           0 seconds\n",
      "Phasing iteration 7:           0 seconds\n",
      "Phasing iteration 8:           0 seconds\n",
      "Phasing iteration 9:           0 seconds\n",
      "Phasing iteration 10:          0 seconds\n",
      "Phasing iteration 11:          0 seconds\n",
      "Phasing iteration 12:          0 seconds\n",
      "Low frequency phasing:         0 seconds\n",
      "\n",
      "Window 4 [17:75743990-81194951]\n",
      "Study     markers:               20,480\n",
      "\n",
      "Burnin  iteration 1:           0 seconds\n",
      "Burnin  iteration 2:           0 seconds\n",
      "Burnin  iteration 3:           0 seconds\n",
      "\n",
      "Estimated ne:                  15437\n",
      "Estimated err:                 6.1e-03\n",
      "\n",
      "Phasing iteration 1:           0 seconds\n",
      "Phasing iteration 2:           0 seconds\n",
      "Phasing iteration 3:           0 seconds\n",
      "Phasing iteration 4:           0 seconds\n",
      "Phasing iteration 5:           0 seconds\n",
      "Phasing iteration 6:           0 seconds\n",
      "Phasing iteration 7:           0 seconds\n",
      "Phasing iteration 8:           0 seconds\n",
      "Phasing iteration 9:           0 seconds\n",
      "Phasing iteration 10:          0 seconds\n",
      "Phasing iteration 11:          0 seconds\n",
      "Phasing iteration 12:          0 seconds\n",
      "Low frequency phasing:         0 seconds\n",
      "\n",
      "Cumulative Statistics:\n",
      "\n",
      "Study     markers:              230,358\n",
      "\n",
      "Haplotype phasing time:        18 seconds\n",
      "Total time:                    23 seconds\n",
      "\n",
      "End time: 11:06 PM JST on 18 Dec 2023\n",
      "beagle.22Jul22.46e.jar finished\n",
      "beagle.22Jul22.46e.jar (version 5.4)\n",
      "Copyright (C) 2014-2022 Brian L. Browning\n",
      "Enter \"java -jar beagle.22Jul22.46e.jar\" to list command line argument\n",
      "Start time: 11:06 PM JST on 18 Dec 2023\n",
      "\n",
      "Command line: java -Xmx16384m -jar beagle.22Jul22.46e.jar\n",
      "  gt=Tongan.chr18.QC.FIXP.vcf.gz\n",
      "  out=Tongan.chr18.QC.FIXP.phased\n",
      "  map=/home/hmiwa/local/plink.GRCh37.map/plink.chr18.GRCh37.map\n",
      "  nthreads=16\n",
      "\n",
      "Reference samples:                    0\n",
      "Study     samples:                   31\n",
      "\n",
      "Window 1 [18:10583-15186216]\n",
      "Study     markers:               61,453\n",
      "\n",
      "Burnin  iteration 1:           3 seconds\n",
      "Burnin  iteration 2:           1 second\n",
      "Burnin  iteration 3:           0 seconds\n",
      "\n",
      "Estimated ne:                  17285\n",
      "Estimated err:                 5.9e-03\n",
      "\n",
      "Phasing iteration 1:           0 seconds\n",
      "Phasing iteration 2:           0 seconds\n",
      "Phasing iteration 3:           0 seconds\n",
      "Phasing iteration 4:           0 seconds\n",
      "Phasing iteration 5:           0 seconds\n",
      "Phasing iteration 6:           0 seconds\n",
      "Phasing iteration 7:           0 seconds\n",
      "Phasing iteration 8:           0 seconds\n",
      "Phasing iteration 9:           0 seconds\n",
      "Phasing iteration 10:          0 seconds\n",
      "Phasing iteration 11:          0 seconds\n",
      "Phasing iteration 12:          0 seconds\n",
      "Low frequency phasing:         1 second\n",
      "\n",
      "Window 2 [18:13460942-56841427]\n",
      "Study     markers:              114,792\n",
      "\n",
      "Burnin  iteration 1:           2 seconds\n",
      "Burnin  iteration 2:           1 second\n",
      "Burnin  iteration 3:           1 second\n",
      "\n",
      "Estimated ne:                  20608\n",
      "Estimated err:                 4.7e-03\n",
      "\n",
      "Phasing iteration 1:           1 second\n",
      "Phasing iteration 2:           0 seconds\n",
      "Phasing iteration 3:           0 seconds\n",
      "Phasing iteration 4:           0 seconds\n",
      "Phasing iteration 5:           0 seconds\n",
      "Phasing iteration 6:           0 seconds\n",
      "Phasing iteration 7:           0 seconds\n",
      "Phasing iteration 8:           0 seconds\n",
      "Phasing iteration 9:           0 seconds\n",
      "Phasing iteration 10:          0 seconds\n",
      "Phasing iteration 11:          0 seconds\n",
      "Phasing iteration 12:          0 seconds\n",
      "Low frequency phasing:         1 second\n",
      "\n",
      "Window 3 [18:55785260-76632909]\n",
      "Study     markers:               75,382\n",
      "\n",
      "Burnin  iteration 1:           1 second\n",
      "Burnin  iteration 2:           0 seconds\n",
      "\n",
      "Estimated ne:                  16120\n",
      "Estimated err:                 3.6e-03\n",
      "\n",
      "Phasing iteration 1:           0 seconds\n",
      "Phasing iteration 2:           0 seconds\n",
      "Phasing iteration 3:           0 seconds\n",
      "Phasing iteration 4:           0 seconds\n",
      "Phasing iteration 5:           0 seconds\n",
      "Phasing iteration 6:           0 seconds\n",
      "Phasing iteration 7:           0 seconds\n",
      "Phasing iteration 8:           0 seconds\n",
      "Phasing iteration 9:           0 seconds\n",
      "Phasing iteration 10:          0 seconds\n",
      "Phasing iteration 11:          0 seconds\n",
      "Phasing iteration 12:          0 seconds\n",
      "Low frequency phasing:         0 seconds\n",
      "\n",
      "Window 4 [18:75886719-78017073]\n",
      "Study     markers:               10,195\n",
      "\n",
      "Burnin  iteration 1:           0 seconds\n",
      "Burnin  iteration 2:           0 seconds\n",
      "Burnin  iteration 3:           0 seconds\n",
      "\n",
      "Estimated ne:                  36122\n",
      "Estimated err:                 8.4e-03\n",
      "\n",
      "Phasing iteration 1:           0 seconds\n",
      "Phasing iteration 2:           0 seconds\n",
      "Phasing iteration 3:           0 seconds\n",
      "Phasing iteration 4:           0 seconds\n",
      "Phasing iteration 5:           0 seconds\n",
      "Phasing iteration 6:           0 seconds\n",
      "Phasing iteration 7:           0 seconds\n",
      "Phasing iteration 8:           0 seconds\n",
      "Phasing iteration 9:           0 seconds\n",
      "Phasing iteration 10:          0 seconds\n",
      "Phasing iteration 11:          0 seconds\n",
      "Phasing iteration 12:          0 seconds\n",
      "Low frequency phasing:         0 seconds\n",
      "\n",
      "Cumulative Statistics:\n",
      "\n",
      "Study     markers:              246,139\n",
      "\n",
      "Haplotype phasing time:        19 seconds\n",
      "Total time:                    24 seconds\n",
      "\n",
      "End time: 11:06 PM JST on 18 Dec 2023\n",
      "beagle.22Jul22.46e.jar finished\n",
      "beagle.22Jul22.46e.jar (version 5.4)\n",
      "Copyright (C) 2014-2022 Brian L. Browning\n",
      "Enter \"java -jar beagle.22Jul22.46e.jar\" to list command line argument\n",
      "Start time: 11:06 PM JST on 18 Dec 2023\n",
      "\n",
      "Command line: java -Xmx16384m -jar beagle.22Jul22.46e.jar\n",
      "  gt=Tongan.chr19.QC.FIXP.vcf.gz\n",
      "  out=Tongan.chr19.QC.FIXP.phased\n",
      "  map=/home/hmiwa/local/plink.GRCh37.map/plink.chr19.GRCh37.map\n",
      "  nthreads=16\n",
      "\n",
      "Reference samples:                    0\n",
      "Study     samples:                   31\n",
      "\n",
      "Window 1 [19:60542-15653353]\n",
      "Study     markers:               59,264\n",
      "\n",
      "Burnin  iteration 1:           3 seconds\n",
      "Burnin  iteration 2:           1 second\n",
      "Burnin  iteration 3:           0 seconds\n",
      "\n",
      "Estimated ne:                  17178\n",
      "Estimated err:                 5.2e-03\n",
      "\n",
      "Phasing iteration 1:           0 seconds\n",
      "Phasing iteration 2:           0 seconds\n",
      "Phasing iteration 3:           0 seconds\n",
      "Phasing iteration 4:           0 seconds\n",
      "Phasing iteration 5:           0 seconds\n",
      "Phasing iteration 6:           0 seconds\n",
      "Phasing iteration 7:           0 seconds\n",
      "Phasing iteration 8:           0 seconds\n",
      "Phasing iteration 9:           0 seconds\n",
      "Phasing iteration 10:          0 seconds\n",
      "Phasing iteration 11:          0 seconds\n",
      "Phasing iteration 12:          0 seconds\n",
      "Low frequency phasing:         1 second\n",
      "\n",
      "Window 2 [19:14656318-48467210]\n",
      "Study     markers:              106,413\n",
      "\n",
      "Burnin  iteration 1:           2 seconds\n",
      "Burnin  iteration 2:           1 second\n",
      "Burnin  iteration 3:           1 second\n",
      "\n",
      "Estimated ne:                  23170\n",
      "Estimated err:                 6.3e-03\n",
      "\n",
      "Phasing iteration 1:           0 seconds\n",
      "Phasing iteration 2:           0 seconds\n",
      "Phasing iteration 3:           0 seconds\n",
      "Phasing iteration 4:           0 seconds\n",
      "Phasing iteration 5:           0 seconds\n",
      "Phasing iteration 6:           0 seconds\n",
      "Phasing iteration 7:           0 seconds\n",
      "Phasing iteration 8:           0 seconds\n",
      "Phasing iteration 9:           0 seconds\n",
      "Phasing iteration 10:          0 seconds\n",
      "Phasing iteration 11:          0 seconds\n",
      "Phasing iteration 12:          0 seconds\n",
      "Low frequency phasing:         1 second\n",
      "\n",
      "Window 3 [19:47338726-59118783]\n",
      "Study     markers:               51,784\n",
      "\n",
      "Burnin  iteration 1:           1 second\n",
      "Burnin  iteration 2:           0 seconds\n",
      "Burnin  iteration 3:           0 seconds\n",
      "\n",
      "Estimated ne:                  19301\n",
      "Estimated err:                 5.3e-03\n",
      "\n",
      "Phasing iteration 1:           0 seconds\n",
      "Phasing iteration 2:           0 seconds\n",
      "Phasing iteration 3:           0 seconds\n",
      "Phasing iteration 4:           0 seconds\n",
      "Phasing iteration 5:           0 seconds\n",
      "Phasing iteration 6:           0 seconds\n",
      "Phasing iteration 7:           0 seconds\n",
      "Phasing iteration 8:           0 seconds\n",
      "Phasing iteration 9:           0 seconds\n",
      "Phasing iteration 10:          0 seconds\n",
      "Phasing iteration 11:          0 seconds\n",
      "Phasing iteration 12:          0 seconds\n",
      "Low frequency phasing:         0 seconds\n",
      "\n",
      "Cumulative Statistics:\n",
      "\n",
      "Study     markers:              210,707\n",
      "\n",
      "Haplotype phasing time:        18 seconds\n",
      "Total time:                    22 seconds\n",
      "\n",
      "End time: 11:07 PM JST on 18 Dec 2023\n",
      "beagle.22Jul22.46e.jar finished\n",
      "beagle.22Jul22.46e.jar (version 5.4)\n",
      "Copyright (C) 2014-2022 Brian L. Browning\n",
      "Enter \"java -jar beagle.22Jul22.46e.jar\" to list command line argument\n",
      "Start time: 11:07 PM JST on 18 Dec 2023\n",
      "\n",
      "Command line: java -Xmx16384m -jar beagle.22Jul22.46e.jar\n",
      "  gt=Tongan.chr20.QC.FIXP.vcf.gz\n",
      "  out=Tongan.chr20.QC.FIXP.phased\n",
      "  map=/home/hmiwa/local/plink.GRCh37.map/plink.chr20.GRCh37.map\n",
      "  nthreads=16\n",
      "\n",
      "Reference samples:                    0\n",
      "Study     samples:                   31\n",
      "\n",
      "Window 1 [20:60097-17037876]\n",
      "Study     markers:               57,039\n",
      "\n",
      "Burnin  iteration 1:           4 seconds\n",
      "Burnin  iteration 2:           1 second\n",
      "\n",
      "Estimated ne:                  13524\n",
      "Estimated err:                 3.3e-03\n",
      "\n",
      "Phasing iteration 1:           0 seconds\n",
      "Phasing iteration 2:           0 seconds\n",
      "Phasing iteration 3:           0 seconds\n",
      "Phasing iteration 4:           0 seconds\n",
      "Phasing iteration 5:           0 seconds\n",
      "Phasing iteration 6:           0 seconds\n",
      "Phasing iteration 7:           0 seconds\n",
      "Phasing iteration 8:           0 seconds\n",
      "Phasing iteration 9:           0 seconds\n",
      "Phasing iteration 10:          0 seconds\n",
      "Phasing iteration 11:          0 seconds\n",
      "Phasing iteration 12:          0 seconds\n",
      "Low frequency phasing:         1 second\n",
      "\n",
      "Window 2 [20:16012216-51450157]\n",
      "Study     markers:              101,585\n",
      "\n",
      "Burnin  iteration 1:           2 seconds\n",
      "Burnin  iteration 2:           1 second\n",
      "Burnin  iteration 3:           0 seconds\n",
      "\n",
      "Estimated ne:                  21635\n",
      "Estimated err:                 8.2e-03\n",
      "\n",
      "Phasing iteration 1:           1 second\n",
      "Phasing iteration 2:           0 seconds\n",
      "Phasing iteration 3:           0 seconds\n",
      "Phasing iteration 4:           0 seconds\n",
      "Phasing iteration 5:           0 seconds\n",
      "Phasing iteration 6:           0 seconds\n",
      "Phasing iteration 7:           0 seconds\n",
      "Phasing iteration 8:           0 seconds\n",
      "Phasing iteration 9:           0 seconds\n",
      "Phasing iteration 10:          0 seconds\n",
      "Phasing iteration 11:          0 seconds\n",
      "Phasing iteration 12:          0 seconds\n",
      "Low frequency phasing:         5 seconds\n",
      "\n",
      "Window 3 [20:50160035-62965185]\n",
      "Study     markers:               44,079\n",
      "\n",
      "Burnin  iteration 1:           1 second\n",
      "Burnin  iteration 2:           0 seconds\n",
      "Burnin  iteration 3:           0 seconds\n",
      "\n",
      "Estimated ne:                  15269\n",
      "Estimated err:                 4.5e-03\n",
      "\n",
      "Phasing iteration 1:           0 seconds\n",
      "Phasing iteration 2:           0 seconds\n",
      "Phasing iteration 3:           0 seconds\n",
      "Phasing iteration 4:           0 seconds\n",
      "Phasing iteration 5:           0 seconds\n",
      "Phasing iteration 6:           0 seconds\n",
      "Phasing iteration 7:           0 seconds\n",
      "Phasing iteration 8:           0 seconds\n",
      "Phasing iteration 9:           0 seconds\n",
      "Phasing iteration 10:          0 seconds\n",
      "Phasing iteration 11:          0 seconds\n",
      "Phasing iteration 12:          0 seconds\n",
      "Low frequency phasing:         1 second\n",
      "\n",
      "Cumulative Statistics:\n",
      "\n",
      "Study     markers:              194,100\n",
      "\n",
      "Haplotype phasing time:        22 seconds\n",
      "Total time:                    26 seconds\n",
      "\n",
      "End time: 11:07 PM JST on 18 Dec 2023\n",
      "beagle.22Jul22.46e.jar finished\n",
      "beagle.22Jul22.46e.jar (version 5.4)\n",
      "Copyright (C) 2014-2022 Brian L. Browning\n",
      "Enter \"java -jar beagle.22Jul22.46e.jar\" to list command line argument\n",
      "Start time: 11:07 PM JST on 18 Dec 2023\n",
      "\n",
      "Command line: java -Xmx16384m -jar beagle.22Jul22.46e.jar\n",
      "  gt=Tongan.chr21.QC.FIXP.vcf.gz\n",
      "  out=Tongan.chr21.QC.FIXP.phased\n",
      "  map=/home/hmiwa/local/plink.GRCh37.map/plink.chr21.GRCh37.map\n",
      "  nthreads=16\n",
      "\n",
      "Reference samples:                    0\n",
      "Study     samples:                   31\n",
      "\n",
      "Window 1 [21:9411318-36416332]\n",
      "Study     markers:               96,055\n",
      "\n",
      "Burnin  iteration 1:           4 seconds\n",
      "Burnin  iteration 2:           1 second\n",
      "Burnin  iteration 3:           1 second\n",
      "\n",
      "Estimated ne:                  27870\n",
      "Estimated err:                 1.0e-02\n",
      "\n",
      "Phasing iteration 1:           0 seconds\n",
      "Phasing iteration 2:           0 seconds\n",
      "Phasing iteration 3:           0 seconds\n",
      "Phasing iteration 4:           0 seconds\n",
      "Phasing iteration 5:           0 seconds\n",
      "Phasing iteration 6:           0 seconds\n",
      "Phasing iteration 7:           0 seconds\n",
      "Phasing iteration 8:           0 seconds\n",
      "Phasing iteration 9:           0 seconds\n",
      "Phasing iteration 10:          0 seconds\n",
      "Phasing iteration 11:          0 seconds\n",
      "Phasing iteration 12:          0 seconds\n",
      "Low frequency phasing:         1 second\n",
      "\n",
      "Window 2 [21:35704532-48119777]\n",
      "Study     markers:               45,610\n",
      "\n",
      "Burnin  iteration 1:           1 second\n",
      "Burnin  iteration 2:           0 seconds\n",
      "Burnin  iteration 3:           0 seconds\n",
      "\n",
      "Estimated ne:                  16047\n",
      "Estimated err:                 4.4e-03\n",
      "\n",
      "Phasing iteration 1:           0 seconds\n",
      "Phasing iteration 2:           0 seconds\n",
      "Phasing iteration 3:           0 seconds\n",
      "Phasing iteration 4:           0 seconds\n",
      "Phasing iteration 5:           0 seconds\n",
      "Phasing iteration 6:           0 seconds\n",
      "Phasing iteration 7:           0 seconds\n",
      "Phasing iteration 8:           0 seconds\n",
      "Phasing iteration 9:           0 seconds\n",
      "Phasing iteration 10:          0 seconds\n",
      "Phasing iteration 11:          0 seconds\n",
      "Phasing iteration 12:          0 seconds\n",
      "Low frequency phasing:         0 seconds\n",
      "\n",
      "Cumulative Statistics:\n",
      "\n",
      "Study     markers:              139,484\n",
      "\n",
      "Haplotype phasing time:        14 seconds\n",
      "Total time:                    18 seconds\n",
      "\n",
      "End time: 11:07 PM JST on 18 Dec 2023\n",
      "beagle.22Jul22.46e.jar finished\n",
      "beagle.22Jul22.46e.jar (version 5.4)\n",
      "Copyright (C) 2014-2022 Brian L. Browning\n",
      "Enter \"java -jar beagle.22Jul22.46e.jar\" to list command line argument\n",
      "Start time: 11:07 PM JST on 18 Dec 2023\n",
      "\n",
      "Command line: java -Xmx16384m -jar beagle.22Jul22.46e.jar\n",
      "  gt=Tongan.chr22.QC.FIXP.vcf.gz\n",
      "  out=Tongan.chr22.QC.FIXP.phased\n",
      "  map=/home/hmiwa/local/plink.GRCh37.map/plink.chr22.GRCh37.map\n",
      "  nthreads=16\n",
      "\n",
      "Reference samples:                    0\n",
      "Study     samples:                   31\n",
      "\n",
      "Window 1 [22:16050159-35139740]\n",
      "Study     markers:               72,334\n",
      "\n",
      "Burnin  iteration 1:           3 seconds\n",
      "Burnin  iteration 2:           1 second\n",
      "Burnin  iteration 3:           0 seconds\n",
      "\n",
      "Estimated ne:                  29268\n",
      "Estimated err:                 1.0e-02\n",
      "\n",
      "Phasing iteration 1:           0 seconds\n",
      "Phasing iteration 2:           0 seconds\n",
      "Phasing iteration 3:           0 seconds\n",
      "Phasing iteration 4:           0 seconds\n",
      "Phasing iteration 5:           0 seconds\n",
      "Phasing iteration 6:           0 seconds\n",
      "Phasing iteration 7:           0 seconds\n",
      "Phasing iteration 8:           0 seconds\n",
      "Phasing iteration 9:           0 seconds\n",
      "Phasing iteration 10:          0 seconds\n",
      "Phasing iteration 11:          0 seconds\n",
      "Phasing iteration 12:          0 seconds\n",
      "Low frequency phasing:         1 second\n",
      "\n",
      "Window 2 [22:33707616-51244289]\n",
      "Study     markers:               60,782\n",
      "\n",
      "Burnin  iteration 1:           1 second\n",
      "Burnin  iteration 2:           0 seconds\n",
      "Burnin  iteration 3:           0 seconds\n",
      "\n",
      "Estimated ne:                  16693\n",
      "Estimated err:                 4.4e-03\n",
      "\n",
      "Phasing iteration 1:           0 seconds\n",
      "Phasing iteration 2:           0 seconds\n",
      "Phasing iteration 3:           0 seconds\n",
      "Phasing iteration 4:           0 seconds\n",
      "Phasing iteration 5:           0 seconds\n",
      "Phasing iteration 6:           0 seconds\n",
      "Phasing iteration 7:           0 seconds\n",
      "Phasing iteration 8:           0 seconds\n",
      "Phasing iteration 9:           0 seconds\n",
      "Phasing iteration 10:          0 seconds\n",
      "Phasing iteration 11:          0 seconds\n",
      "Phasing iteration 12:          0 seconds\n",
      "Low frequency phasing:         1 second\n",
      "\n",
      "Cumulative Statistics:\n",
      "\n",
      "Study     markers:              128,456\n",
      "\n",
      "Haplotype phasing time:        12 seconds\n",
      "Total time:                    16 seconds\n",
      "\n",
      "End time: 11:08 PM JST on 18 Dec 2023\n",
      "beagle.22Jul22.46e.jar finished\n"
     ]
    }
   ],
   "source": [
    "cd $strdir/targetdata\n",
    "for i in {1..22}\n",
    "do\n",
    "java -Xmx16g -jar $beagle \\\n",
    "gt=Tongan.chr${i}.QC.FIXP.vcf.gz \\\n",
    "out=Tongan.chr${i}.QC.FIXP.phased \\\n",
    "map=${beagle_map}/plink.chr${i}.GRCh37.map \\\n",
    "nthreads=16 | tee Tongan.chr${i}.QC.FIXP.phased.log\n",
    "done"
   ]
  },
  {
   "cell_type": "markdown",
   "metadata": {},
   "source": [
    "そのまえにこの段階でSNP IDを付与しておかねばならない。まず前段階の準備を行う。"
   ]
  },
  {
   "cell_type": "code",
   "execution_count": 105,
   "metadata": {
    "vscode": {
     "languageId": "shellscript"
    }
   },
   "outputs": [],
   "source": [
    "cd $strdir/targetdata\n",
    "#SNPID付与の準備（中身はVCF形式なので拡張子の変更をする）\n",
    "gunzip -c ~/hmiwa1/rawdata/SNP/GCF_000001405.25.gz | bgzip -c > GCF_000001405.25.vcf.gz\n",
    "bcftools index GCF_000001405.25.vcf.gz"
   ]
  },
  {
   "cell_type": "code",
   "execution_count": 106,
   "metadata": {
    "vscode": {
     "languageId": "shellscript"
    }
   },
   "outputs": [
    {
     "name": "stdout",
     "output_type": "stream",
     "text": [
      "--2023-12-19 00:57:13--  http://hgdownload.soe.ucsc.edu/goldenPath/hg19/bigZips/hg19.chromAlias.txt\n",
      "Resolving hgdownload.soe.ucsc.edu (hgdownload.soe.ucsc.edu)... 128.114.119.163\n",
      "Connecting to hgdownload.soe.ucsc.edu (hgdownload.soe.ucsc.edu)|128.114.119.163|:80... connected.\n",
      "HTTP request sent, awaiting response... 200 OK\n",
      "Length: 16866 (16K) [text/plain]\n",
      "Saving to: ‘hg19.chromAlias.txt’\n",
      "\n",
      "hg19.chromAlias.txt 100%[===================>]  16.47K  --.-KB/s    in 0.1s    \n",
      "\n",
      "2023-12-19 00:57:14 (154 KB/s) - ‘hg19.chromAlias.txt’ saved [16866/16866]\n",
      "\n",
      "--2023-12-19 00:57:14--  https://raw.githubusercontent.com/humgendiv/hmiwa-shared/main/get_rsID/aliasrename.R\n",
      "Resolving raw.githubusercontent.com (raw.githubusercontent.com)... 185.199.109.133, 185.199.111.133, 185.199.110.133, ...\n",
      "Connecting to raw.githubusercontent.com (raw.githubusercontent.com)|185.199.109.133|:443... connected.\n",
      "HTTP request sent, awaiting response... 200 OK\n",
      "Length: 402 [text/plain]\n",
      "Saving to: ‘aliasrename.R’\n",
      "\n",
      "aliasrename.R       100%[===================>]     402  --.-KB/s    in 0s      \n",
      "\n",
      "2023-12-19 00:57:14 (11.8 MB/s) - ‘aliasrename.R’ saved [402/402]\n",
      "\n",
      "start annotating\n",
      "[W::vcf_parse_info] Extreme INFO/RS value encountered and set to missing at NC_000001.10:6319593\n",
      "... annotated\n",
      "start indexing\n",
      "... indexed\n"
     ]
    }
   ],
   "source": [
    "#上記はCHROMがalias sequence namesになっているので変更する\n",
    "wget http://hgdownload.soe.ucsc.edu/goldenPath/hg19/bigZips/hg19.chromAlias.txt\n",
    "wget https://raw.githubusercontent.com/humgendiv/hmiwa-shared/main/get_rsID/aliasrename.R\n",
    "Rscript aliasrename.R\n",
    "\n",
    "echo \"start annotating\"\n",
    "bcftools annotate --rename-chrs alias.new.ids \\\n",
    "-Oz -o GCF_000001405.25.annotated.vcf.gz GCF_000001405.25.vcf.gz\n",
    "echo \"... annotated\"\n",
    "echo \"start indexing\"\n",
    "bcftools index GCF_000001405.25.annotated.vcf.gz\n",
    "echo \"... indexed\""
   ]
  },
  {
   "cell_type": "code",
   "execution_count": 107,
   "metadata": {
    "vscode": {
     "languageId": "shellscript"
    }
   },
   "outputs": [
    {
     "name": "stdout",
     "output_type": "stream",
     "text": [
      "start separating by chromosomes\n",
      "... chr1 separated\n",
      "... chr1 indexed\n",
      "... chr2 separated\n",
      "... chr2 indexed\n",
      "... chr3 separated\n",
      "... chr3 indexed\n",
      "... chr4 separated\n",
      "... chr4 indexed\n",
      "... chr5 separated\n",
      "... chr5 indexed\n",
      "... chr6 separated\n",
      "... chr6 indexed\n",
      "... chr7 separated\n",
      "... chr7 indexed\n",
      "... chr8 separated\n",
      "... chr8 indexed\n",
      "... chr9 separated\n",
      "... chr9 indexed\n",
      "... chr10 separated\n",
      "... chr10 indexed\n",
      "... chr11 separated\n",
      "... chr11 indexed\n",
      "... chr12 separated\n",
      "... chr12 indexed\n",
      "... chr13 separated\n",
      "... chr13 indexed\n",
      "... chr14 separated\n",
      "... chr14 indexed\n",
      "... chr15 separated\n",
      "... chr15 indexed\n",
      "... chr16 separated\n",
      "... chr16 indexed\n",
      "... chr17 separated\n",
      "... chr17 indexed\n",
      "... chr18 separated\n",
      "... chr18 indexed\n",
      "... chr19 separated\n",
      "... chr19 indexed\n",
      "... chr20 separated\n",
      "... chr20 indexed\n",
      "... chr21 separated\n",
      "... chr21 indexed\n",
      "... chr22 separated\n",
      "... chr22 indexed\n"
     ]
    }
   ],
   "source": [
    "#染色体ごとに分割する\n",
    "echo \"start separating by chromosomes\"\n",
    "for i in {1..22}\n",
    "do\n",
    "bcftools view -r chr${i} GCF_000001405.25.annotated.vcf.gz | \\\n",
    "sed -e s/^chr//g | bgzip -c > GCF_000001405.25.annotated.chr${i}.vcf.gz\n",
    "echo \"... chr${i} separated\"\n",
    "bcftools index GCF_000001405.25.annotated.chr${i}.vcf.gz\n",
    "echo \"... chr${i} indexed\"\n",
    "done"
   ]
  },
  {
   "cell_type": "markdown",
   "metadata": {},
   "source": [
    "アノテーションを実行する。"
   ]
  },
  {
   "cell_type": "code",
   "execution_count": 1,
   "metadata": {
    "vscode": {
     "languageId": "shellscript"
    }
   },
   "outputs": [
    {
     "name": "stdout",
     "output_type": "stream",
     "text": [
      "05_231211_RePRSTrials.ipynb  Documents  jupyter_venv5  pic  test.ipynb\n"
     ]
    }
   ],
   "source": [
    "ls"
   ]
  },
  {
   "cell_type": "code",
   "execution_count": 5,
   "metadata": {
    "vscode": {
     "languageId": "shellscript"
    }
   },
   "outputs": [
    {
     "name": "stdout",
     "output_type": "stream",
     "text": [
      "START: 2023年 12月 19日 火曜日 17:08:39 JST\n",
      "[E::main_vcfindex] the index file exists. Please use '-f' to overwrite Tongan.chr22.QC.FIXP.phased.vcf.gz.csi\n",
      "END: 2023年 12月 19日 火曜日 17:25:20 JST\n"
     ]
    }
   ],
   "source": [
    "cd $strdir/targetdata\n",
    "\n",
    "echo START: `date`\n",
    "#常染色体すべてにrsIDを付与する場合\n",
    "for i in {1..22}\n",
    "do\n",
    "INFILE=Tongan.chr${i}.QC.FIXP.phased.vcf.gz\n",
    "REFFILE=GCF_000001405.25.annotated.chr${i}.vcf.gz\n",
    "OUTFILE=Tongan.chr${i}.QC.FIXP.phased.annotated.vcf.gz\n",
    "bcftools index $INFILE\n",
    "bcftools annotate -a $REFFILE -Oz -o $OUTFILE -c ID $INFILE --threads 16\n",
    "bcftools index $OUTFILE\n",
    "done\n",
    "echo END: `date`"
   ]
  },
  {
   "cell_type": "markdown",
   "metadata": {},
   "source": [
    "常染色体をひとつのファイルにまとめる"
   ]
  },
  {
   "cell_type": "code",
   "execution_count": 7,
   "metadata": {
    "vscode": {
     "languageId": "shellscript"
    }
   },
   "outputs": [
    {
     "name": "stdout",
     "output_type": "stream",
     "text": [
      "Checking the headers and starting positions of 22 files\n",
      "Concatenating Tongan.chr1.QC.FIXP.phased.annotated.vcf.gz\t2.630552 seconds\n",
      "Concatenating Tongan.chr2.QC.FIXP.phased.annotated.vcf.gz\t2.533487 seconds\n",
      "Concatenating Tongan.chr3.QC.FIXP.phased.annotated.vcf.gz\t2.074929 seconds\n",
      "Concatenating Tongan.chr4.QC.FIXP.phased.annotated.vcf.gz\t2.101666 seconds\n",
      "Concatenating Tongan.chr5.QC.FIXP.phased.annotated.vcf.gz\t1.768070 seconds\n",
      "Concatenating Tongan.chr6.QC.FIXP.phased.annotated.vcf.gz\t1.859544 seconds\n",
      "Concatenating Tongan.chr7.QC.FIXP.phased.annotated.vcf.gz\t1.723798 seconds\n",
      "Concatenating Tongan.chr8.QC.FIXP.phased.annotated.vcf.gz\t1.509193 seconds\n",
      "Concatenating Tongan.chr9.QC.FIXP.phased.annotated.vcf.gz\t1.394220 seconds\n",
      "Concatenating Tongan.chr10.QC.FIXP.phased.annotated.vcf.gz\t1.418890 seconds\n",
      "Concatenating Tongan.chr11.QC.FIXP.phased.annotated.vcf.gz\t1.395065 seconds\n",
      "Concatenating Tongan.chr12.QC.FIXP.phased.annotated.vcf.gz\t1.363414 seconds\n",
      "Concatenating Tongan.chr13.QC.FIXP.phased.annotated.vcf.gz\t1.032205 seconds\n",
      "Concatenating Tongan.chr14.QC.FIXP.phased.annotated.vcf.gz\t0.966446 seconds\n",
      "Concatenating Tongan.chr15.QC.FIXP.phased.annotated.vcf.gz\t0.925760 seconds\n",
      "Concatenating Tongan.chr16.QC.FIXP.phased.annotated.vcf.gz\t1.015420 seconds\n",
      "Concatenating Tongan.chr17.QC.FIXP.phased.annotated.vcf.gz\t0.795244 seconds\n",
      "Concatenating Tongan.chr18.QC.FIXP.phased.annotated.vcf.gz\t0.823398 seconds\n",
      "Concatenating Tongan.chr19.QC.FIXP.phased.annotated.vcf.gz\t0.720469 seconds\n",
      "Concatenating Tongan.chr20.QC.FIXP.phased.annotated.vcf.gz\t0.655659 seconds\n",
      "Concatenating Tongan.chr21.QC.FIXP.phased.annotated.vcf.gz\t0.476007 seconds\n",
      "Concatenating Tongan.chr22.QC.FIXP.phased.annotated.vcf.gz\t0.448762 seconds\n"
     ]
    }
   ],
   "source": [
    "bcftools concat \\\n",
    "    -Oz -o Tongan.QC.FIXP.phased.annotated.vcf.gz \\\n",
    "    Tongan.chr1.QC.FIXP.phased.annotated.vcf.gz \\\n",
    "    Tongan.chr2.QC.FIXP.phased.annotated.vcf.gz \\\n",
    "    Tongan.chr3.QC.FIXP.phased.annotated.vcf.gz \\\n",
    "    Tongan.chr4.QC.FIXP.phased.annotated.vcf.gz \\\n",
    "    Tongan.chr5.QC.FIXP.phased.annotated.vcf.gz \\\n",
    "    Tongan.chr6.QC.FIXP.phased.annotated.vcf.gz \\\n",
    "    Tongan.chr7.QC.FIXP.phased.annotated.vcf.gz \\\n",
    "    Tongan.chr8.QC.FIXP.phased.annotated.vcf.gz \\\n",
    "    Tongan.chr9.QC.FIXP.phased.annotated.vcf.gz \\\n",
    "    Tongan.chr10.QC.FIXP.phased.annotated.vcf.gz \\\n",
    "    Tongan.chr11.QC.FIXP.phased.annotated.vcf.gz \\\n",
    "    Tongan.chr12.QC.FIXP.phased.annotated.vcf.gz \\\n",
    "    Tongan.chr13.QC.FIXP.phased.annotated.vcf.gz \\\n",
    "    Tongan.chr14.QC.FIXP.phased.annotated.vcf.gz \\\n",
    "    Tongan.chr15.QC.FIXP.phased.annotated.vcf.gz \\\n",
    "    Tongan.chr16.QC.FIXP.phased.annotated.vcf.gz \\\n",
    "    Tongan.chr17.QC.FIXP.phased.annotated.vcf.gz \\\n",
    "    Tongan.chr18.QC.FIXP.phased.annotated.vcf.gz \\\n",
    "    Tongan.chr19.QC.FIXP.phased.annotated.vcf.gz \\\n",
    "    Tongan.chr20.QC.FIXP.phased.annotated.vcf.gz \\\n",
    "    Tongan.chr21.QC.FIXP.phased.annotated.vcf.gz \\\n",
    "    Tongan.chr22.QC.FIXP.phased.annotated.vcf.gz\n",
    "bcftools index Tongan.QC.FIXP.phased.annotated.vcf.gz"
   ]
  },
  {
   "cell_type": "markdown",
   "metadata": {},
   "source": [
    "ここからはPLINK形式のファイルで作業したいので変換しておく。"
   ]
  },
  {
   "cell_type": "code",
   "execution_count": 8,
   "metadata": {
    "vscode": {
     "languageId": "shellscript"
    }
   },
   "outputs": [
    {
     "name": "stdout",
     "output_type": "stream",
     "text": [
      "PLINK v1.90b7 64-bit (16 Jan 2023)             www.cog-genomics.org/plink/1.9/\n",
      "(C) 2005-2023 Shaun Purcell, Christopher Chang   GNU General Public License v3\n",
      "Logging to TNG.log.\n",
      "Options in effect:\n",
      "  --make-bed\n",
      "  --out TNG\n",
      "  --vcf Tongan.QC.FIXP.phased.annotated.vcf.gz\n",
      "\n",
      "257564 MB RAM detected; reserving 128782 MB for main workspace.\n",
      "--vcf: TNG-temporary.bed + TNG-temporary.bim + TNG-temporary.fam written.\n",
      "8711185 variants loaded from .bim file.\n",
      "31 people (0 males, 0 females, 31 ambiguous) loaded from .fam.\n",
      "Ambiguous sex IDs written to TNG.nosex .\n",
      "Using 1 thread (no multithreaded calculations invoked).\n",
      "Before main variant filters, 31 founders and 0 nonfounders present.\n",
      "Calculating allele frequencies... 10111213141516171819202122232425262728293031323334353637383940414243444546474849505152535455565758596061626364656667686970717273747576777879808182838485868788899091929394959697989 done.\n",
      "Total genotyping rate is exactly 1.\n",
      "8711185 variants and 31 people pass filters and QC.\n",
      "Note: No phenotypes present.\n",
      "--make-bed to TNG.bed + TNG.bim + TNG.fam ... 101112131415161718192021222324252627282930313233343536373839404142434445464748495051525354555657585960616263646566676869707172737475767778798081828384858687888990919293949596979899done.\n"
     ]
    }
   ],
   "source": [
    "plink \\\n",
    "    --vcf Tongan.QC.FIXP.phased.annotated.vcf.gz \\\n",
    "    --make-bed \\\n",
    "    --out TNG"
   ]
  },
  {
   "cell_type": "code",
   "execution_count": 9,
   "metadata": {
    "vscode": {
     "languageId": "shellscript"
    }
   },
   "outputs": [
    {
     "name": "stdout",
     "output_type": "stream",
     "text": [
      "TNG.bed  TNG.bim  TNG.fam  TNG.log  TNG.nosex\n"
     ]
    }
   ],
   "source": [
    "ls TNG*"
   ]
  },
  {
   "cell_type": "markdown",
   "metadata": {},
   "source": [
    "ジェノタイピング率が低いSNP、マイナーアレル頻度が低いSNP、ハーディーワインベルグ平衡から外れたSNP、ジェノタイピング率が低い個体などの除去を行う。"
   ]
  },
  {
   "cell_type": "code",
   "execution_count": 10,
   "metadata": {
    "vscode": {
     "languageId": "shellscript"
    }
   },
   "outputs": [
    {
     "name": "stdout",
     "output_type": "stream",
     "text": [
      "PLINK v1.90b7 64-bit (16 Jan 2023)             www.cog-genomics.org/plink/1.9/\n",
      "(C) 2005-2023 Shaun Purcell, Christopher Chang   GNU General Public License v3\n",
      "Logging to TNG.QC.log.\n",
      "Options in effect:\n",
      "  --bfile TNG\n",
      "  --geno 0.01\n",
      "  --hwe 1e-6\n",
      "  --maf 0.01\n",
      "  --make-just-fam\n",
      "  --mind 0.01\n",
      "  --out TNG.QC\n",
      "  --write-snplist\n",
      "\n",
      "257564 MB RAM detected; reserving 128782 MB for main workspace.\n",
      "8711185 variants loaded from .bim file.\n",
      "31 people (0 males, 0 females, 31 ambiguous) loaded from .fam.\n",
      "Ambiguous sex IDs written to TNG.QC.nosex .\n",
      "0 people removed due to missing genotype data (--mind).\n",
      "Using 1 thread (no multithreaded calculations invoked).\n",
      "Before main variant filters, 31 founders and 0 nonfounders present.\n",
      "Calculating allele frequencies... 10111213141516171819202122232425262728293031323334353637383940414243444546474849505152535455565758596061626364656667686970717273747576777879808182838485868788899091929394959697989 done.\n",
      "Total genotyping rate is exactly 1.\n",
      "0 variants removed due to missing genotype data (--geno).\n",
      "--hwe: 2754 variants removed due to Hardy-Weinberg exact test.\n",
      "0 variants removed due to minor allele threshold(s)\n",
      "(--maf/--max-maf/--mac/--max-mac).\n",
      "8708431 variants and 31 people pass filters and QC.\n",
      "Note: No phenotypes present.\n",
      "List of variant IDs written to TNG.QC.snplist .\n",
      "--make-just-fam to TNG.QC.fam ... done.\n"
     ]
    }
   ],
   "source": [
    "plink \\\n",
    "    --bfile TNG \\\n",
    "    --maf 0.01 \\\n",
    "    --hwe 1e-6 \\\n",
    "    --geno 0.01 \\\n",
    "    --mind 0.01 \\\n",
    "    --write-snplist \\\n",
    "    --make-just-fam \\\n",
    "    --out TNG.QC"
   ]
  },
  {
   "cell_type": "code",
   "execution_count": 11,
   "metadata": {
    "vscode": {
     "languageId": "shellscript"
    }
   },
   "outputs": [
    {
     "name": "stdout",
     "output_type": "stream",
     "text": [
      "TNG.bed  TNG.fam  TNG.nosex   TNG.QC.log    TNG.QC.snplist\n",
      "TNG.bim  TNG.log  TNG.QC.fam  TNG.QC.nosex\n"
     ]
    }
   ],
   "source": [
    "ls TNG*"
   ]
  },
  {
   "cell_type": "markdown",
   "metadata": {},
   "source": [
    "極端なヘテロ接合度を持つ個体を除去する。"
   ]
  },
  {
   "cell_type": "markdown",
   "metadata": {},
   "source": [
    "まずは相関性の高いSNPを除去するためにプルーニング"
   ]
  },
  {
   "cell_type": "code",
   "execution_count": 12,
   "metadata": {
    "vscode": {
     "languageId": "shellscript"
    }
   },
   "outputs": [
    {
     "name": "stdout",
     "output_type": "stream",
     "text": [
      "PLINK v1.90b7 64-bit (16 Jan 2023)             www.cog-genomics.org/plink/1.9/\n",
      "(C) 2005-2023 Shaun Purcell, Christopher Chang   GNU General Public License v3\n",
      "Logging to TNG.QC.log.\n",
      "Options in effect:\n",
      "  --bfile TNG\n",
      "  --extract TNG.QC.snplist\n",
      "  --indep-pairwise 200 50 0.25\n",
      "  --keep TNG.QC.fam\n",
      "  --out TNG.QC\n",
      "\n",
      "257564 MB RAM detected; reserving 128782 MB for main workspace.\n",
      "8711185 variants loaded from .bim file.\n",
      "31 people (0 males, 0 females, 31 ambiguous) loaded from .fam.\n",
      "Ambiguous sex IDs written to TNG.QC.nosex .\n",
      "--extract: 8708432 variants remaining.\n",
      "Warning: At least 95594 duplicate IDs in --extract file.\n",
      "--keep: 31 people remaining.\n",
      "Using 1 thread (no multithreaded calculations invoked).\n",
      "Before main variant filters, 31 founders and 0 nonfounders present.\n",
      "Calculating allele frequencies... 10111213141516171819202122232425262728293031323334353637383940414243444546474849505152535455565758596061626364656667686970717273747576777879808182838485868788899091929394959697989 done.\n",
      "Total genotyping rate is exactly 1.\n",
      "8708432 variants and 31 people pass filters and QC.\n",
      "Note: No phenotypes present.\n",
      "Pruned 645098 variants from chromosome 1, leaving 49300.\n",
      "Pruned 640172 variants from chromosome 2, leaving 46148.\n",
      "Pruned 593947 variants from chromosome 3, leaving 39654.\n",
      "Pruned 599773 variants from chromosome 4, leaving 42221.\n",
      "Pruned 507400 variants from chromosome 5, leaving 34876.\n",
      "Pruned 534724 variants from chromosome 6, leaving 35720.\n",
      "Pruned 481008 variants from chromosome 7, leaving 35063.\n",
      "Pruned 428555 variants from chromosome 8, leaving 29949.\n",
      "Pruned 373135 variants from chromosome 9, leaving 30160.\n",
      "Pruned 398339 variants from chromosome 10, leaving 28838.\n",
      "Pruned 397050 variants from chromosome 11, leaving 28233.\n",
      "Pruned 384443 variants from chromosome 12, leaving 26737.\n",
      "Pruned 293079 variants from chromosome 13, leaving 20792.\n",
      "Pruned 271523 variants from chromosome 14, leaving 19028.\n",
      "Pruned 246906 variants from chromosome 15, leaving 19075.\n",
      "Pruned 258290 variants from chromosome 16, leaving 20314.\n",
      "Pruned 213964 variants from chromosome 17, leaving 16332.\n",
      "Pruned 229715 variants from chromosome 18, leaving 16340.\n",
      "Pruned 196250 variants from chromosome 19, leaving 14407.\n",
      "Pruned 180142 variants from chromosome 20, leaving 13897.\n",
      "Pruned 129387 variants from chromosome 21, leaving 10040.\n",
      "Pruned 118398 variants from chromosome 22, leaving 10010.\n",
      "Pruning complete.  8121298 of 8708432 variants removed.\n",
      "Marker lists written to TNG.QC.prune.in and TNG.QC.prune.out .\n"
     ]
    }
   ],
   "source": [
    "plink \\\n",
    "    --bfile TNG \\\n",
    "    --keep TNG.QC.fam \\\n",
    "    --extract TNG.QC.snplist \\\n",
    "    --indep-pairwise 200 50 0.25 \\\n",
    "    --out TNG.QC"
   ]
  },
  {
   "cell_type": "markdown",
   "metadata": {},
   "source": [
    "ヘテロ接合度を計算する"
   ]
  },
  {
   "cell_type": "code",
   "execution_count": 13,
   "metadata": {
    "vscode": {
     "languageId": "shellscript"
    }
   },
   "outputs": [
    {
     "name": "stdout",
     "output_type": "stream",
     "text": [
      "PLINK v1.90b7 64-bit (16 Jan 2023)             www.cog-genomics.org/plink/1.9/\n",
      "(C) 2005-2023 Shaun Purcell, Christopher Chang   GNU General Public License v3\n",
      "Logging to TNG.QC.log.\n",
      "Options in effect:\n",
      "  --bfile TNG\n",
      "  --extract TNG.QC.prune.in\n",
      "  --het\n",
      "  --keep TNG.QC.fam\n",
      "  --out TNG.QC\n",
      "\n",
      "257564 MB RAM detected; reserving 128782 MB for main workspace.\n",
      "8711185 variants loaded from .bim file.\n",
      "31 people (0 males, 0 females, 31 ambiguous) loaded from .fam.\n",
      "Ambiguous sex IDs written to TNG.QC.nosex .\n",
      "--extract: 660791 variants remaining.\n",
      "Warning: At least 21938 duplicate IDs in --extract file.\n",
      "--keep: 31 people remaining.\n",
      "Using 1 thread (no multithreaded calculations invoked).\n",
      "Before main variant filters, 31 founders and 0 nonfounders present.\n",
      "Calculating allele frequencies... 10111213141516171819202122232425262728293031323334353637383940414243444546474849505152535455565758596061626364656667686970717273747576777879808182838485868788899091929394959697989 done.\n",
      "Total genotyping rate is exactly 1.\n",
      "660791 variants and 31 people pass filters and QC.\n",
      "Note: No phenotypes present.\n",
      "--het: 660791 variants scanned, report written to TNG.QC.het .\n"
     ]
    }
   ],
   "source": [
    "plink \\\n",
    "    --bfile TNG \\\n",
    "    --extract TNG.QC.prune.in \\\n",
    "    --keep TNG.QC.fam \\\n",
    "    --het \\\n",
    "    --out TNG.QC"
   ]
  },
  {
   "cell_type": "markdown",
   "metadata": {},
   "source": [
    "現在のディレクトリチェック"
   ]
  },
  {
   "cell_type": "code",
   "execution_count": 4,
   "metadata": {
    "vscode": {
     "languageId": "shellscript"
    }
   },
   "outputs": [
    {
     "name": "stdout",
     "output_type": "stream",
     "text": [
      "Basedata  StatGenSummerSchool2023_GenomeDataAnalysis5      targetdata\n",
      "out.log   StatGenSummerSchool2023_GenomeDataAnalysis5.zip\n"
     ]
    }
   ],
   "source": [
    "cd $strdir\n",
    "ls"
   ]
  },
  {
   "cell_type": "markdown",
   "metadata": {},
   "source": [
    "ところでVScodeでjupyterのカーネルが選べないときはjupyterの拡張機能のバージョンを落としてみてくださいね（蛇足）"
   ]
  },
  {
   "cell_type": "code",
   "execution_count": 5,
   "metadata": {
    "vscode": {
     "languageId": "shellscript"
    }
   },
   "outputs": [
    {
     "name": "stdout",
     "output_type": "stream",
     "text": [
      "setwd(\"/home/hmiwa/hmiwa1/storage/hmiwa-lab/05_231211_RePRSTrials/targetdata\")\n",
      "dat <- read.table(\"TNG.QC.het\", header=T) # Read in the EUR.het file, specify it has header\n",
      "m <- mean(dat$F) # Calculate the mean\n",
      "s <- sd(dat$F) # Calculate the SD\n",
      "valid <- subset(dat, F <= m+3*s & F >= m-3*s) # Get any samples with F coefficient within 3 SD of the population mean\n",
      "write.table(valid[,c(1,2)], \"TNG.valid.sample\", quote=F, row.names=F) # print FID and IID for valid samples\n"
     ]
    }
   ],
   "source": [
    "cd $strdir\n",
    "cat << EOL > $gitdir/het.R\n",
    "setwd(\"$strdir/targetdata\")\n",
    "dat <- read.table(\"TNG.QC.het\", header=T) # Read in the EUR.het file, specify it has header\n",
    "m <- mean(dat\\$F) # Calculate the mean\n",
    "s <- sd(dat\\$F) # Calculate the SD\n",
    "valid <- subset(dat, F <= m+3*s & F >= m-3*s) # Get any samples with F coefficient within 3 SD of the population mean\n",
    "write.table(valid[,c(1,2)], \"TNG.valid.sample\", quote=F, row.names=F) # print FID and IID for valid samples\n",
    "EOL\n",
    "cat $gitdir/het.R"
   ]
  },
  {
   "cell_type": "code",
   "execution_count": 6,
   "metadata": {
    "vscode": {
     "languageId": "shellscript"
    }
   },
   "outputs": [],
   "source": [
    "Rscript --no-save $gitdir/het.R"
   ]
  },
  {
   "cell_type": "code",
   "execution_count": 8,
   "metadata": {
    "vscode": {
     "languageId": "shellscript"
    }
   },
   "outputs": [
    {
     "name": "stdout",
     "output_type": "stream",
     "text": [
      "TNG.bed  TNG.log     TNG.QC.het    TNG.QC.prune.in   TNG.valid.sample\n",
      "TNG.bim  TNG.nosex   TNG.QC.log    TNG.QC.prune.out\n",
      "TNG.fam  TNG.QC.fam  TNG.QC.nosex  TNG.QC.snplist\n"
     ]
    }
   ],
   "source": [
    "cd $strdir/targetdata\n",
    "ls TNG*"
   ]
  },
  {
   "cell_type": "code",
   "execution_count": 9,
   "metadata": {
    "vscode": {
     "languageId": "shellscript"
    }
   },
   "outputs": [
    {
     "name": "stdout",
     "output_type": "stream",
     "text": [
      "FID IID\n",
      "T03 T03\n",
      "T104 T104\n",
      "T105 T105\n",
      "T106 T106\n",
      "T109 T109\n",
      "T120 T120\n",
      "T129 T129\n",
      "T134 T134\n",
      "T150 T150\n"
     ]
    }
   ],
   "source": [
    "head TNG.valid.sample"
   ]
  },
  {
   "cell_type": "code",
   "execution_count": 10,
   "metadata": {
    "vscode": {
     "languageId": "shellscript"
    }
   },
   "outputs": [
    {
     "name": "stdout",
     "output_type": "stream",
     "text": [
      " 32  64 284 TNG.valid.sample\n",
      "  32  192 1984 TNG.QC.het\n"
     ]
    }
   ],
   "source": [
    "wc TNG.valid.sample\n",
    "wc TNG.QC.het"
   ]
  },
  {
   "cell_type": "markdown",
   "metadata": {},
   "source": [
    "##### Ambiguous SNPs"
   ]
  },
  {
   "cell_type": "markdown",
   "metadata": {},
   "source": [
    "ここはBaseDataで削除済みなのでOK"
   ]
  },
  {
   "cell_type": "markdown",
   "metadata": {},
   "source": [
    "##### Mismatching SNPs"
   ]
  },
  {
   "cell_type": "markdown",
   "metadata": {},
   "source": [
    "##### Duplicate SNPs"
   ]
  },
  {
   "cell_type": "markdown",
   "metadata": {},
   "source": [
    "##### Sex Chromosomes"
   ]
  },
  {
   "cell_type": "markdown",
   "metadata": {},
   "source": [
    "##### Sample Overlap"
   ]
  },
  {
   "cell_type": "markdown",
   "metadata": {},
   "source": [
    "##### Relatedness"
   ]
  },
  {
   "cell_type": "markdown",
   "metadata": {},
   "source": [
    "##### Generate final QC'ed target data file"
   ]
  }
 ],
 "metadata": {
  "kernelspec": {
   "display_name": "Bash",
   "language": "bash",
   "name": "bash"
  },
  "language_info": {
   "codemirror_mode": "shell",
   "file_extension": ".sh",
   "mimetype": "text/x-sh",
   "name": "bash"
  }
 },
 "nbformat": 4,
 "nbformat_minor": 2
}
