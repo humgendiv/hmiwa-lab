{
 "cells": [
  {
   "cell_type": "markdown",
   "metadata": {},
   "source": [
    "# jupyter notebookをVScodeで実行するテスト"
   ]
  },
  {
   "cell_type": "code",
   "execution_count": 1,
   "metadata": {
    "vscode": {
     "languageId": "shellscript"
    }
   },
   "outputs": [
    {
     "name": "stdout",
     "output_type": "stream",
     "text": [
      "\n",
      "Program: bcftools (Tools for variant calling and manipulating VCFs and BCFs)\n",
      "Version: 1.17 (using htslib 1.17)\n",
      "\n",
      "Usage:   bcftools [--version|--version-only] [--help] <command> <argument>\n",
      "\n",
      "Commands:\n",
      "\n",
      " -- Indexing\n",
      "    index        index VCF/BCF files\n",
      "\n",
      " -- VCF/BCF manipulation\n",
      "    annotate     annotate and edit VCF/BCF files\n",
      "    concat       concatenate VCF/BCF files from the same set of samples\n",
      "    convert      convert VCF/BCF files to different formats and back\n",
      "    head         view VCF/BCF file headers\n",
      "    isec         intersections of VCF/BCF files\n",
      "    merge        merge VCF/BCF files files from non-overlapping sample sets\n",
      "    norm         left-align and normalize indels\n",
      "    plugin       user-defined plugins\n"
     ]
    }
   ],
   "source": [
    "bcftools -h | head -n 20"
   ]
  },
  {
   "cell_type": "markdown",
   "metadata": {},
   "source": [
    "### どうやらうまくいったようなのでメモをしておきましょう\n",
    "\n",
    "0. jupyterでbashが使えるようにしておく。\n",
    "\n",
    "    https://raintrees.net/news/76\n",
    "\n",
    "        pip install bash_kernel\n",
    "        python -m bash_kernel.install\n",
    "\n",
    "1. このウェブサイトにしたがってまずVSCodeからSSHに接続（拡張機能RemoteDevelopmentをインストール）\n",
    "\n",
    "    https://blog.masuyoshi.com/vscode%E3%82%92%E4%BD%BF%E3%81%A3%E3%81%A6%E3%82%B5%E3%83%BC%E3%83%90%E3%83%BC%E7%92%B0%E5%A2%83%E3%81%ABssh%E3%83%AA%E3%83%A2%E3%83%BC%E3%83%88%E6%8E%A5%E7%B6%9A%E6%89%8B%E9%A0%86/\n",
    "\n",
    "2. ~~あとはjupyterを起動して、~~ ipynbファイルを作成。カーネルをjupyter kernelに設定する。\n",
    "\n",
    "    （「起動中の別のkernelを選択」のようなことをすると終了時に無限ループに入りそうな予感がするのでやめておこう。）\n",
    "\n",
    "3. 開いているipynbをすべて閉じてからjupyterを終了させる（トラブルのもとになる予感がするのでここは徹底する。）\n"
   ]
  }
 ],
 "metadata": {
  "kernelspec": {
   "display_name": "Bash",
   "language": "bash",
   "name": "bash"
  },
  "language_info": {
   "codemirror_mode": "shell",
   "file_extension": ".sh",
   "mimetype": "text/x-sh",
   "name": "bash"
  }
 },
 "nbformat": 4,
 "nbformat_minor": 2
}
