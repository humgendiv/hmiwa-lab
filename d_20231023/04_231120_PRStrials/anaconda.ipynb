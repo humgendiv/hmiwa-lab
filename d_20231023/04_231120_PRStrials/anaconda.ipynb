{
 "cells": [
  {
   "cell_type": "code",
   "execution_count": 4,
   "id": "534e2be3-e43e-4d82-a000-2a7e060e80d0",
   "metadata": {},
   "outputs": [
    {
     "name": "stdout",
     "output_type": "stream",
     "text": [
      "\u001b[0m\u001b[01;34manaconda\u001b[0m  \u001b[01;34mbcftools-1.17\u001b[0m  \u001b[01;34mhmiwa\u001b[0m  \u001b[01;36mhmiwa1\u001b[0m  \u001b[01;34mhomebrew\u001b[0m  \u001b[01;34mlocal\u001b[0m  \u001b[01;34mR\u001b[0m  \u001b[01;34msnap\u001b[0m\n"
     ]
    }
   ],
   "source": [
    "cd\n",
    "ls\n",
    "mkdir -p anaconda\n",
    "cd anaconda"
   ]
  },
  {
   "cell_type": "code",
   "execution_count": 5,
   "id": "40a8c1f4-0292-4804-883d-083e959c633a",
   "metadata": {},
   "outputs": [
    {
     "name": "stdout",
     "output_type": "stream",
     "text": [
      "--2023-11-20 20:08:06--  https://repo.anaconda.com/archive/Anaconda3-2023.09-0-Linux-x86_64.sh\n",
      "Resolving repo.anaconda.com (repo.anaconda.com)... 104.16.130.3, 104.16.131.3, 2606:4700::6810:8203, ...\n",
      "Connecting to repo.anaconda.com (repo.anaconda.com)|104.16.130.3|:443... connected.\n",
      "HTTP request sent, awaiting response... 200 OK\n",
      "Length: 1153404010 (1.1G) [application/x-sh]\n",
      "Saving to: ‘Anaconda3-2023.09-0-Linux-x86_64.sh’\n",
      "\n",
      "Anaconda3-2023.09-0 100%[===================>]   1.07G   107MB/s    in 11s     \n",
      "\n",
      "2023-11-20 20:08:17 (103 MB/s) - ‘Anaconda3-2023.09-0-Linux-x86_64.sh’ saved [1153404010/1153404010]\n",
      "\n"
     ]
    }
   ],
   "source": [
    "wget https://repo.anaconda.com/archive/Anaconda3-2023.09-0-Linux-x86_64.sh"
   ]
  },
  {
   "cell_type": "code",
   "execution_count": 6,
   "id": "0e7916b7-057e-4e37-af60-a47b950590bc",
   "metadata": {},
   "outputs": [
    {
     "name": "stdout",
     "output_type": "stream",
     "text": [
      "Anaconda3-2023.09-0-Linux-x86_64.sh\n"
     ]
    }
   ],
   "source": [
    "ls"
   ]
  },
  {
   "cell_type": "markdown",
   "id": "9f665d77-deaf-460a-b2fa-bc9a0cb7f538",
   "metadata": {},
   "source": [
    "そのあとは、\n",
    "    \n",
    "    cd\n",
    "    bash anaconda/Anaconda3-2023.09-0-Linux-x86_64.sh\n",
    "\n",
    "https://www.kkaneko.jp/tools/ubuntu/anaconda.html\n",
    "\n",
    "これの通りに動くだけ。"
   ]
  },
  {
   "cell_type": "code",
   "execution_count": null,
   "id": "9bd6631f-056f-4e5a-b7db-b8fc7cd4abed",
   "metadata": {},
   "outputs": [],
   "source": []
  }
 ],
 "metadata": {
  "kernelspec": {
   "display_name": "Bash",
   "language": "bash",
   "name": "bash"
  },
  "language_info": {
   "codemirror_mode": "shell",
   "file_extension": ".sh",
   "mimetype": "text/x-sh",
   "name": "bash"
  }
 },
 "nbformat": 4,
 "nbformat_minor": 5
}
