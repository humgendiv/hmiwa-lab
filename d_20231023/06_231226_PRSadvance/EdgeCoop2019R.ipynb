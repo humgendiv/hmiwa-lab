{
 "cells": [
  {
   "cell_type": "markdown",
   "metadata": {},
   "source": [
    "# Reconstructing the History of Polygenic Scores Using Coalescent Trees 【CODE-R】\n",
    "\n",
    "******************************"
   ]
  },
  {
   "cell_type": "code",
   "execution_count": 20,
   "metadata": {
    "vscode": {
     "languageId": "r"
    }
   },
   "outputs": [
    {
     "data": {
      "text/html": [
       "'/home/hmiwa/hmiwa/hmiwa-lab/d_20231023/06_231226_PRSadvance'"
      ],
      "text/latex": [
       "'/home/hmiwa/hmiwa/hmiwa-lab/d\\_20231023/06\\_231226\\_PRSadvance'"
      ],
      "text/markdown": [
       "'/home/hmiwa/hmiwa/hmiwa-lab/d_20231023/06_231226_PRSadvance'"
      ],
      "text/plain": [
       "[1] \"/home/hmiwa/hmiwa/hmiwa-lab/d_20231023/06_231226_PRSadvance\""
      ]
     },
     "metadata": {},
     "output_type": "display_data"
    }
   ],
   "source": [
    "getwd()"
   ]
  },
  {
   "cell_type": "markdown",
   "metadata": {},
   "source": [
    "# helper_functions_coal_sel.R"
   ]
  },
  {
   "cell_type": "code",
   "execution_count": 21,
   "metadata": {
    "vscode": {
     "languageId": "r"
    }
   },
   "outputs": [],
   "source": [
    "#3/20/18 by Doc Edge\n",
    "#Goal: Assemble functions useful for project on coalescent approcahes to polygenic selection.\n",
    "#Many of these functions relate to working with trees stored as package ape phylo-type objects.\n",
    "\n",
    "#package ape is needed for representing sample trees.\n",
    "if(!(\"ape\" %in% installed.packages())){install.packages(\"ape\")}\n",
    "library(ape)"
   ]
  },
  {
   "cell_type": "code",
   "execution_count": 22,
   "metadata": {
    "vscode": {
     "languageId": "r"
    }
   },
   "outputs": [],
   "source": [
    "#generate derived allele frequences for n.loci loci under neutral sfs.\n",
    "#n can either be size of sample of chromosomes (for sample SFS)\n",
    "#or size of population (in # of chromosomes) for population sfs\n",
    "gen.neut.sfs <- function(n.loci, n){\n",
    "  probs.uw <- 1/(1:(n-1))\n",
    "  probs <- probs.uw/sum(probs.uw)\n",
    "  cdf <- cumsum(probs)\n",
    "  percs <- runif(n.loci, 0 , 1)\n",
    "  get.cdfind <- function(perc){\n",
    "    (sum(cdf <= perc) + 1)/n \n",
    "  }\n",
    "  sapply(percs, get.cdfind)\n",
    "}"
   ]
  },
  {
   "cell_type": "code",
   "execution_count": 23,
   "metadata": {
    "vscode": {
     "languageId": "r"
    }
   },
   "outputs": [],
   "source": [
    "#generate derived allele frequences for n.loci loci under neutral sfs.\n",
    "#n can either be size of sample of chromosomes (for sample SFS)\n",
    "#or size of population (in # of chromosomes) for population sfs\n",
    "#condition.freq is a decimal such that all returned allele frequencies\n",
    "#should be between condition.freq and 1 - condition.freq\n",
    "gen.neut.sfs.condit <- function(n.loci, n, condition.freq = 0){\n",
    "  ser <- 1:(n-1)\n",
    "  ser <- ser[ser/n >= condition.freq & ser/n <= 1 - condition.freq]\n",
    "  probs.uw <- 1/ser\n",
    "  probs <- probs.uw/sum(probs.uw)\n",
    "  cdf <- cumsum(probs)\n",
    "  percs <- runif(n.loci, 0 , 1)\n",
    "  get.cdfind <- function(perc){\n",
    "    ser[(sum(cdf <= perc) + 1)]/n \n",
    "  }\n",
    "  sapply(percs, get.cdfind)\n",
    "}"
   ]
  },
  {
   "cell_type": "code",
   "execution_count": 24,
   "metadata": {
    "vscode": {
     "languageId": "r"
    }
   },
   "outputs": [],
   "source": [
    "#recover trajectory of polygenic score over time\n",
    "matrixify.list.of.trajs <- function(trajs){\n",
    "\tlns <- sapply(trajs, length)/2\n",
    "\tmax.length <- max(lns)\n",
    "\tmat.ret <- matrix(0, nrow = max.length, ncol = length(trajs))\n",
    "\tfor(i in 1:length(trajs)){\n",
    "\t\tmat.ret[1:lns[i],i] <- trajs[[i]][,2]\n",
    "\t}\n",
    "\tmat.ret\n",
    "}"
   ]
  },
  {
   "cell_type": "code",
   "execution_count": 25,
   "metadata": {
    "vscode": {
     "languageId": "r"
    }
   },
   "outputs": [],
   "source": [
    "#simulates allele frequency trajectory forward in time conditional on loss.\n",
    "#returns a two-column matrix; left column is time, right is derived allele frequency.\n",
    "#Uses Lee & Coop eq. A.14-15 (biorxiv version)\n",
    "neut.traj.loss <- function(p0, N = 10000, delta.t = 1/(2*N)){\n",
    "\ttraj <- p0\n",
    "\ttime <- 0\n",
    "\ttime.ct <- time\n",
    "\twhile(traj[length(traj)] != 1 & traj[length(traj)] != 0){\n",
    "    \t\tcurr <- traj[length(traj)]\n",
    "    \t\tnex.freq <- rnorm(1, curr-curr*delta.t, sqrt(delta.t) * sqrt(curr*(1-curr)) )\n",
    "    \t\tif(nex.freq > 1){nex.freq <- 1}\n",
    "    \t\tif(nex.freq < 0){nex.freq <- 0}\n",
    "    \t\ttraj <- c(traj, nex.freq)\n",
    "    \t\ttime <- time + delta.t\n",
    "    \t\ttime.ct <- c(time.ct, time)\n",
    "  \t}\n",
    "\tif(traj[length(traj)] == 0){\n",
    "\t\treturn(cbind(time.ct, traj))\t\n",
    "\t}\n",
    "\tneut.traj.loss(p0, N, delta.t)\n",
    "}"
   ]
  },
  {
   "cell_type": "code",
   "execution_count": 26,
   "metadata": {
    "vscode": {
     "languageId": "r"
    }
   },
   "outputs": [],
   "source": [
    "#Function to generate neutral allele frequency trajectory forward in time.\n",
    "#Trajectory can be reversed to give trajectory up to a given frequency.\n",
    "#Starts at frequency p0. Frequency at next time step is drawn from a\n",
    "#normal with expectation equal to current frequency (curr) and variance equal\n",
    "#to delta.t*curr*(1-curr), where delta.t is the size of the time step.\n",
    "#(The only use of N is to scale the default time step size to 1/(2*N) coalescent\n",
    "#units, or one generation under standard model). The default of loss = NULL\n",
    "#returns the first trajectory generated, regardless of whether it ends in\n",
    "#loss or fixation. If loss == TRUE, then the function runs conditional on loss.\n",
    "# If loss == FALSE, then the function\n",
    "#runs diffusion conditional on fixation.\n",
    "neut.traj <- function(p0, N = 10000, loss = NULL, delta.t = 1/(2*N)){\n",
    "  if(is.null(loss)){\n",
    "    traj <- p0\n",
    "    time <- 0\n",
    "    time.ct <- time\n",
    "    while(traj[length(traj)] != 1 & traj[length(traj)] != 0){\n",
    "      curr <- traj[length(traj)]\n",
    "      nex.freq <- rnorm(1, curr, sqrt(delta.t) * sqrt(curr*(1-curr)) )\n",
    "      if(nex.freq > 1){nex.freq <- 1}\n",
    "      if(nex.freq < 0){nex.freq <- 0}\n",
    "      traj <- c(traj, nex.freq)\n",
    "      time <- time + delta.t\n",
    "      time.ct <- c(time.ct, time)\n",
    "    }\n",
    "    return(cbind(time.ct, traj))\n",
    "  }\n",
    "  if(loss == TRUE){\n",
    "    return(neut.traj.loss(p0, N, delta.t))\n",
    "  }\n",
    "  if(loss == FALSE){\n",
    "    #to simulate an allele that fixes, simulate an allele that's lost\n",
    "    #and flip the allele frequencies.\n",
    "    traj.anc <-  neut.traj.loss(1-p0, N, delta.t)\n",
    "    return(cbind(traj.anc[,1], 1 - traj.anc[,2]))\n",
    "  }\n",
    "}"
   ]
  },
  {
   "cell_type": "code",
   "execution_count": 27,
   "metadata": {
    "vscode": {
     "languageId": "r"
    }
   },
   "outputs": [],
   "source": [
    "#function to create drifting allele frequency for a set amount of time, starting\n",
    "#at frequency p0. This differs from neut.traj because neut.traj simulates\n",
    "#to either loss or fixation. Simulates forward in time, so reverse time if a \n",
    "#back-in-time trajectory is desired. p0 is starting frequency, t is time (in units\n",
    "#of 2N generations), N is population size, and delta.t is the time interval to use.\n",
    "neut.traj.time <- function(p0, N = 10000, t = 0.1, delta.t = 1/(2*N)){\n",
    "  traj <- p0\n",
    "  time <- 0\n",
    "  time.ct <- time\n",
    "  while(time <= t & !isTRUE(all.equal(time, t))){\n",
    "    curr <- traj[length(traj)]\n",
    "    if(curr > 0 & curr < 1){\n",
    "      nex.freq <- rnorm(1, curr, sqrt(delta.t) * sqrt(curr*(1-curr)) ) \n",
    "      if(nex.freq > 1){nex.freq <- 1}\n",
    "      if(nex.freq < 0){nex.freq <- 0}\n",
    "    }else{nex.freq <- curr}\n",
    "    traj <- c(traj, nex.freq)\n",
    "    time <- time + delta.t\n",
    "    time.ct <- c(time.ct, time)\n",
    "  }\n",
    "  cbind(time.ct, traj)\n",
    "}"
   ]
  },
  {
   "cell_type": "code",
   "execution_count": 28,
   "metadata": {
    "vscode": {
     "languageId": "r"
    }
   },
   "outputs": [],
   "source": [
    "#Generate an allele frequency trajectory forward in time under selection.\n",
    "#p0 is the frequency of the allele when selection starts.\n",
    "#s is the selection coefficient, measured as the difference between the heterozygote \n",
    "#and one of the homozygotes, which is\n",
    "#why the infinitesimal mean here is Nsp(1-p) rather than 2Nsp(1-p).\n",
    "#N is the (constant, diploid) population size.\n",
    "#t is the time (in units of 2N gnerations) over which the allele frequency trajectory should be computed.\n",
    "#delta.t is the interval between time steps.\n",
    "sel.traj <- function(p0, s = 0.001, N = 10000, t = 0.1, delta.t = 1/(2*N)){\n",
    "  traj <- p0\n",
    "  time <- 0\n",
    "  time.ct <- time\n",
    "  while(time <= t & !isTRUE(all.equal(time, t))){\n",
    "    curr <- traj[length(traj)]\n",
    "    if(curr > 0 & curr < 1){\n",
    "      next.freq <- rnorm(1,  curr + delta.t*2*N*s*curr*(1-curr), sqrt(delta.t) * sqrt(curr*(1-curr)) ) \n",
    "      if(next.freq > 1){next.freq <- 1}\n",
    "      if(next.freq < 0){next.freq <- 0}\n",
    "    }else{next.freq <- curr}\n",
    "    traj <- c(traj, next.freq)\n",
    "    time <- time + delta.t\n",
    "    time.ct <- c(time.ct, time)\n",
    "  }\n",
    "  cbind(time.ct, traj)\n",
    "}"
   ]
  },
  {
   "cell_type": "code",
   "execution_count": 29,
   "metadata": {
    "vscode": {
     "languageId": "r"
    }
   },
   "outputs": [],
   "source": [
    "#tests\n",
    "#st <- sel.traj(0.05, s = 0.001, t = 0.5)\n",
    "#plot(st[,1], st[,2], ylim = c(0,1), type = \"l\")\n",
    "#summary(st)\n",
    "\n",
    "\n",
    "#Generate trajectory involving drift to specified frequency\n",
    "#followed by selection for fixed time period t\n",
    "#if t = 0, then only a neutral trajectory generated.\n",
    "#neutral trajectory is reversed so that selection starts at p0.\n",
    "#derived = TRUE or FALSE allows considitioning on whether selected allele is derived.\n",
    "#startat0 FALSE makes the neutral times negative; selection starts at time 0.\n",
    "#startat0 TRUE makes time start when the locus first becomes dimorphic.\n",
    "#Trajectory is meant to run BACKWARD in time.\n",
    "neut.then.sel.traj <- function(p0, s = 0.001, t = 0.1, N = 10000, derived = NULL, delta.t = 1/(2*N)){\n",
    "  neut.part <- neut.traj(p0, N, loss = derived, delta.t)\n",
    "  neut.part <- neut.part[-1,] #remove first row because will be duplicated in selected part\n",
    "  neut.part <- neut.part[rev(1:nrow(neut.part)),]\n",
    "  neut.part[,1] <- -neut.part[,1]\n",
    "  traj <- neut.part\n",
    "  if(t > 0){\n",
    "    sel.part <- sel.traj(p0, s, N, t, delta.t)\n",
    "    traj <- rbind(neut.part, sel.part)\n",
    "  }\n",
    "  traj[,1] <- traj[,1] - min(traj[,1])\n",
    "  traj[,2] <- rev(traj[,2]) #makes it run backward in time.\n",
    "  traj\n",
    "}"
   ]
  },
  {
   "cell_type": "code",
   "execution_count": 30,
   "metadata": {
    "vscode": {
     "languageId": "r"
    }
   },
   "outputs": [],
   "source": [
    "#Write an allele-frequency trajectory to a file that can be read\n",
    "#by mssel.\n",
    "#mssel file tracks the derived allele frequency. This function writes down the derived allele frequency\n",
    "#and returns both the starting frequency and whether the derived or ancestral allele experienced\n",
    "#selection. (Probability the ancestral allele is the one to experience selection is p0 if derived\n",
    "#is set to NULL.)\n",
    "write.trajfile <- function(filename, p0 = 0.1, s = 0.001, t = 0.1, N = 10000, derived = NULL, delta.t = 1/(2*N)){\n",
    "  traj <- neut.then.sel.traj(p0, s, t, N, derived, delta.t)\n",
    "  s.allele <- \"derived\"\n",
    "  if(traj[nrow(traj),2] == 1){\n",
    "    s.allele = \"ancestral\"\n",
    "    traj[,2] <- 1 - traj[,2]\n",
    "  }\n",
    "  traj[,1] <- traj[,1]/2 #mssel measures time in units of 4N generations, not 2N.\n",
    "  comment.line <- paste(\"#parameters: p0=\", as.character(p0), \", s=\", as.character(s), \", t=\",\n",
    "                        as.character(t), \", N=\", as.character(N), \", derived=\", as.character(derived),\n",
    "                        \", delta.t=\", as.character(delta.t), sep = \"\")\n",
    "  len.traj <- nrow(traj)\n",
    "  head.lines <- paste(\"ntraj: 1\\nnpop: 1\\nn: \", as.character(len.traj), sep = \"\")\n",
    "  fileConnection <- file(filename)\n",
    "  writeLines(c(comment.line, head.lines), fileConnection)\n",
    "  close(fileConnection)\n",
    "  write(t(traj), filename, ncolumns = 2, append = TRUE)\n",
    "  c(traj[1,2] , s.allele, max(traj[,1])) \n",
    "}"
   ]
  },
  {
   "cell_type": "code",
   "execution_count": 31,
   "metadata": {
    "vscode": {
     "languageId": "r"
    }
   },
   "outputs": [],
   "source": [
    "#Somewhat redundant with write.trajfile()--should merge these\n",
    "#This function takes an allele frequency trajectory and writes it to a file,\n",
    "#whereas write.trajfile simulates the trajectory *and* writes to a file.\n",
    "#the default in.time = 2 assumes the input trajectory is in units of 2N generations.\n",
    "#The default out.time says to convert to units of 4N generations (which ms uses).\n",
    "#the first column of the traj object is assumed to contain times, and the second\n",
    "#contains allele frequencies for the derived allele.\n",
    "write.traj <- function(filename, traj, in.time = 2, out.time = 4){\n",
    "\ttraj[,1] <- traj[,1] * (in.time / out.time)\n",
    "\tlen.traj <- nrow(traj)\n",
    "  \thead.lines <- paste(\"ntraj: 1\\nnpop: 1\\nn: \", as.character(len.traj), sep = \"\")\n",
    "  \tfileConnection <- file(filename)\n",
    "\twriteLines(head.lines, fileConnection)\n",
    "\tclose(fileConnection)\n",
    "  \twrite(t(traj), filename, ncolumns = 2, append = TRUE)\n",
    "}"
   ]
  },
  {
   "cell_type": "code",
   "execution_count": 32,
   "metadata": {
    "vscode": {
     "languageId": "r"
    }
   },
   "outputs": [],
   "source": [
    "#Given a filename of an mssel output file (fn_msout), and the length of the\n",
    "#haplotype simulated by ms, writes a \"sites\" format file that can be read\n",
    "#into argweaver to filename fn_sites.\n",
    "convert_ms_out_to_sites <- function(fn_msout, fn_sites, length.hap = 200000){\n",
    "\t#read in the file and identify the haplotypes\t\n",
    "\tmslines <- readLines(fn_msout)\n",
    "\tposline <- pmatch(\"positions\", mslines)\t\n",
    "\thaps <- mslines[(posline + 1):length(mslines)]\n",
    "\tn.haps <- length(haps)\n",
    "\tn.sites <- nchar(haps[1])\t\n",
    "\t#the (arbitrary) haplotype names are the first line.\t\n",
    "\tnames.str <- \"NAMES\"\n",
    "\tfor(i in 1:n.haps){\n",
    "\t\tnames.str <- paste(names.str, \"\\tn\", as.character(i), sep = \"\") \t\n",
    "\t}\n",
    "\t#Region string is the second line of the output\t\n",
    "\tregion.str <- paste(\"REGION\\tchr\\t1\\t\", as.character(length.hap), sep = \"\")\n",
    "\t#To get the haplotypes in the right format, turn them into a matrix of characters,\n",
    "\t#change 0 to A and 1 to T, and then put the characters together so that each\n",
    "\t#entry in the resulting vector is data for a site (rather than a haplotype).\n",
    "\t#Could speed this up, but it's not close to being the limiting factor in an \n",
    "\t#argweaver simulation.\t\n",
    "\thap.mat <- matrix(\"\", nrow = n.sites, ncol = n.haps)\t\n",
    "\tfor(i in 1:n.haps){\n",
    "\t\thap.mat[,i] <- strsplit(haps[i], \"\")[[1]]\n",
    "\t}\n",
    "\thap.mat[hap.mat == \"0\"] <- \"A\"\n",
    "\thap.mat[hap.mat == \"1\"] <- \"T\"\n",
    "\tper.locus.data <- character(n.sites)\t\n",
    "\tfor(i in 1:n.sites){\n",
    "\t\tper.locus.data[i] <- paste(hap.mat[i,], sep = \"\", collapse = \"\")\n",
    "\t}\n",
    "\tpos <- as.numeric(strsplit(mslines[posline], \" \")[[1]][-1])\n",
    "\tpos <- round(length.hap * pos)\n",
    "\t#Dealing with duplicated positions by shifting one of them to a nearby spot.\n",
    "\t#This is somewhat ad hoc and could be improved.\n",
    "\tl <- 1\n",
    "\twhile(any(duplicated(pos)) & l <= 10){\n",
    "\t\tpos[duplicated(pos)] <- pos[duplicated(pos)] + round(min(diff(pos[!duplicated(pos)]))/2 + 0.01)\n",
    "\t\tl <- l + 1\n",
    "\t}\n",
    "\t#Assemble all the lines in the output file and write them to a connection.\t\n",
    "\tlines <- c(names.str, region.str)\n",
    "\tfor(i in 1:n.sites){\n",
    "\t\tlines[i + 2] <- paste(pos[i], per.locus.data[i], sep = \"\\t\")\n",
    "\t}\n",
    "\tfile.create(fn_sites)\t\n",
    "\tfileCon <- file(fn_sites)\n",
    "\twriteLines(lines, fileCon)\n",
    "\tclose(fileCon)\n",
    "}"
   ]
  },
  {
   "cell_type": "code",
   "execution_count": 33,
   "metadata": {
    "vscode": {
     "languageId": "r"
    }
   },
   "outputs": [],
   "source": [
    "#Takes in an argweaver .smc format output file and reads in the\n",
    "#tree for the target site (which is at a specified location, sel.pos).\n",
    "#The resulting tree is returned as a phylo object.\n",
    "read_smc <- function(fn_smc, sel.pos){\n",
    "\tsmclines <- readLines(fn_smc)\n",
    "\ttreelines <- smclines[seq(3, length(smclines), 2)]\n",
    "\t#start position of each tree\n",
    "\tstarts <- as.numeric(sapply(strsplit(treelines, \"\\t\"), \"[[\", 2))\n",
    "\tsel_tree_ind <- which.max(starts[starts <= sel.pos])\n",
    "\tkey_tree <- strsplit(treelines[sel_tree_ind], \"\\t\")[[1]][4]\t\n",
    "\tnames.perm <- as.numeric(strsplit(smclines[1], \"\\tn\")[[1]][-1])\n",
    "\tkey_phylo <- read.tree(text = key_tree)\n",
    "\t#ARGw messes with the ordering of the tips---this step changes the labels so they correspond\n",
    "\t#to the original 1:n.chrom labels.\n",
    "\tkey_phylo$tip.label <- as.character(names.perm[as.numeric(key_phylo$tip.label) + 1])\n",
    "\tkey_phylo\n",
    "}"
   ]
  },
  {
   "cell_type": "code",
   "execution_count": 34,
   "metadata": {
    "vscode": {
     "languageId": "r"
    }
   },
   "outputs": [],
   "source": [
    "#Wrapper for read_smc() that reads in a bunch of argweaver outputs and returns them in a list.\n",
    "#prefix is the prefix of the argweaver output .smc files, inds are the samples for which\n",
    "#we want to extract the key tree and store in a list, and sel.pos is the position (in base pairs)\n",
    "#of the key site.\n",
    "read_specified_smcs <- function(prefix, inds = c(800,840,880,920,960,1000), sel.pos){\n",
    "\ttoreturn <- list()\n",
    "\tfor(i in 1:length(inds)){\n",
    "\t\tfn <- paste(prefix, \".\", as.character(inds[i]), \".smc.gz\", sep = \"\")\n",
    "\t\ttoreturn[[i]] <- read_smc(fn, sel.pos)\n",
    "\t}\n",
    "\ttoreturn\n",
    "}"
   ]
  },
  {
   "cell_type": "code",
   "execution_count": 35,
   "metadata": {
    "vscode": {
     "languageId": "r"
    }
   },
   "outputs": [],
   "source": [
    "#Function to obtain descendant tips from internal node of a phylo object named tree,\n",
    "#from Liam Revell's blog.\n",
    "getDescendants<-function(tree,node,curr=NULL){\n",
    "  if(is.null(curr)) curr<-vector()\n",
    "  daughters<-tree$edge[which(tree$edge[,1]==node),2]\n",
    "  curr<-c(curr,daughters)\n",
    "  w<-which(daughters > length(tree$tip))\n",
    "  if(length(w)>0) for(i in 1:length(w))\n",
    "    curr<-getDescendants(tree,daughters[w[i]],curr)\n",
    "  return(curr)\n",
    "}"
   ]
  },
  {
   "cell_type": "code",
   "execution_count": 36,
   "metadata": {
    "vscode": {
     "languageId": "r"
    }
   },
   "outputs": [],
   "source": [
    "#Get the number of descendant tips from a given node. If node is a tip, return 1. tree is a phylo object.\n",
    "getNDescendantTips <- function(tree, node){\n",
    "   ntips <- sum(getDescendants(tree, node) <= length(tree$edge.length) - tree$Nnode + 1)\n",
    "   if(ntips == 0){ntips <- 1}\n",
    "   ntips\n",
    "}"
   ]
  },
  {
   "cell_type": "code",
   "execution_count": 37,
   "metadata": {
    "vscode": {
     "languageId": "r"
    }
   },
   "outputs": [],
   "source": [
    "#Sum of branch lengths according to number of descendant tips per branch. Conditional on tree,\n",
    "#this is related by a constant to expected unfolded SFS.\n",
    "#tree is an ape-style phylo object.\n",
    "branch.length.by.n.descendants <- function(tree){\n",
    "   ntips <- length(tree$tip.label)\n",
    "   ndescs.nodes <- sapply(1:(ntips + tree$Nnode), getNDescendantTips, tree = tree)\n",
    "   ndescs.edges <- ndescs.nodes[tree$edge[,2]] \n",
    "   bl <- aggregate(tree$edge.length, list(ndescs.edges), FUN = sum)\n",
    "   empty.fs <- (1:(ntips-1))[!((1:(ntips-1)) %in% bl[,1])]\n",
    "   bl <- rbind(cbind(bl$Group.1, bl$x), cbind(empty.fs, rep(0, length(empty.fs)) ))\n",
    "   if(nrow(bl) >= 2){bl <- bl[order(bl[,1]),]}\n",
    "   colnames(bl) <- c(\"n.desc\", \"br.ln\")\n",
    "   bl\n",
    "}"
   ]
  },
  {
   "cell_type": "code",
   "execution_count": 38,
   "metadata": {
    "vscode": {
     "languageId": "r"
    }
   },
   "outputs": [],
   "source": [
    "#total branch length of a tree (phylo object)\n",
    "total.bl <- function(tree){\n",
    "   sum(tree$edge.length)\n",
    "}"
   ]
  },
  {
   "cell_type": "code",
   "execution_count": 39,
   "metadata": {
    "vscode": {
     "languageId": "r"
    }
   },
   "outputs": [],
   "source": [
    "#function to compute the Watterson constant, or the (k-1)th harmonic number\n",
    "Watterson_cons <- function(k){\n",
    "   vec <- 1:(k-1)\n",
    "   sum(1/vec)\n",
    "}"
   ]
  },
  {
   "cell_type": "code",
   "execution_count": 40,
   "metadata": {
    "vscode": {
     "languageId": "r"
    }
   },
   "outputs": [],
   "source": [
    "#given a matrix with branch lengths by # of descendants, return sum length of terminal branches\n",
    "sing.bl <- function(eSFS){\n",
    "   eSFS[eSFS[,1] == 1,2]\n",
    "}"
   ]
  },
  {
   "cell_type": "code",
   "execution_count": 41,
   "metadata": {
    "vscode": {
     "languageId": "r"
    }
   },
   "outputs": [],
   "source": [
    "#given a matrix with branch lengths by # of descendants, return sum length of \n",
    "#branches with num descendants.\n",
    "num.bl <- function(eSFS, num = 1){\n",
    "   eSFS[eSFS[,1] == num,2]\n",
    "}"
   ]
  },
  {
   "cell_type": "code",
   "execution_count": 42,
   "metadata": {
    "vscode": {
     "languageId": "r"
    }
   },
   "outputs": [],
   "source": [
    "#Function to obtain total time from present to an\n",
    "#internal node. tree is an ape-style phylo object\n",
    "coal.time <- function(tree, node, time = 0){\n",
    "\tdesc <- getDescendants(tree, node)\n",
    "\tif(length(desc) < 2){\n",
    "\t\tprint(paste(\"Warning: node provided (\", as.character(node),\") is external.\", sep = \"\"))\n",
    "\t\treturn(NA)\n",
    "\t}\n",
    "\tbrnch <- which(tree$edge[,1] == node)[1]\n",
    "\tnodenext <- tree$edge[brnch,2]\n",
    "\tbl <- tree$edge.length[brnch]\n",
    "\ttime <- time + bl\n",
    "\tif(getNDescendantTips(tree, nodenext) == 1){return(time)}\n",
    "\tcoal.time(tree, nodenext, time)\t\t\n",
    "}"
   ]
  },
  {
   "cell_type": "code",
   "execution_count": 43,
   "metadata": {
    "vscode": {
     "languageId": "r"
    }
   },
   "outputs": [],
   "source": [
    "#function to return the coalescent times (always starting from 0)\n",
    "#input is an ape-style phylo object.\n",
    "coal.times <- function(tree){\n",
    "\tif(nrow(tree$edge) == 1){return(numeric(0))}\n",
    "\ttree <- collapse.singles(tree) #singleton nodes get deleted.\t\n",
    "\tint.nodes <- unique(tree$edge[,1])\n",
    "\tsort(sapply(int.nodes, coal.time, tree = tree, time = 0))\n",
    "}"
   ]
  },
  {
   "cell_type": "code",
   "execution_count": 44,
   "metadata": {
    "vscode": {
     "languageId": "r"
    }
   },
   "outputs": [],
   "source": [
    "#Return the time at which two subtrees are joined.\n",
    "#input is coalescence time vectors for the full tree (allt) and two subtrees (anct and dert).\n",
    "#the mut.time argument is an option to override this function\n",
    "#with a user-provided number.\n",
    "tree_join_time <- function(allt, anct, dert, mut.time = NULL){\n",
    "\tif(!is.null(mut.time)){return(mut.time)}\t\n",
    "\tsubs <- sort(c(anct,dert))\n",
    "\tbools <- allt[-length(allt)] == subs\n",
    "\tif(mean(bools) == 1){\n",
    "\t\treturn(allt[length(allt)])\n",
    "\t}\n",
    "\tallt[!bools][1]\n",
    "}"
   ]
  },
  {
   "cell_type": "code",
   "execution_count": 45,
   "metadata": {
    "vscode": {
     "languageId": "r"
    }
   },
   "outputs": [],
   "source": [
    "#takes a set of coalescence times from the whole tree and from a reference\n",
    "#and alternative tree. Adds the mutation to the topmost branch of either tree.\n",
    "#(By \"adds a mutation\", I mean that it adds a coalescence time to the vector, as if the derived type\n",
    "#is coalescing from one lineage down to zero.)\n",
    "#Assumes that the derived allele appeared between the coalescence of the derived tree and the\n",
    "#joining of the two trees. If the two subtrees coalesce before they join, then the alternative\n",
    "#tree is assumed to be derived.\n",
    "#If sure.alt.is.derived is set to true, then the alt is forced to be the derived allele\n",
    "#even if the ref tree seems to coalesce into the alt tree. This is done by changing the \n",
    "#overall tree so that the trees join just earlier in time than the alt tree coalesces.\n",
    "#place determines where the mutation is placed on the topmost branch, relative to its length\n",
    "#place = 0.5 (the default) puts it in the middle, lower numbers are closer to the present\n",
    "add_mutation <- function(allt, reft, altt, tj, times, sure.alt.is.derived = FALSE, place = 0.5){\n",
    "\t#If both trees have at least two leaves (and  at least one coalescence time)\t\n",
    "\tif(length(reft) > 0 & length(altt) > 0){\n",
    "\t\t#If we are sure that the alternative tree is derived but the\n",
    "\t\t#tree-join time is more recent than the final\n",
    "\t\t#coalescence in the alternative tree, then change the\n",
    "\t\t#tree-join time to be just earlier than the last coalescence\n",
    "\t\t#in the alternative tree.\t\t\n",
    "\t\tif(sure.alt.is.derived & max(altt) > tj){\n",
    "\t\t\ttj <- max(altt) + 0.001\n",
    "\t\t}\n",
    "\t\tif(max(altt) > tj){ #if the alt tree hasn't coalesced when the trees join\n",
    "\t\t\treft <- c(reft, (max(reft)*(1-place) + tj*place)) \n",
    "\t\t\taltt <- c(altt, max(times) + 1)\n",
    "\t\t}\n",
    "\t\tif(max(altt) <= tj){\n",
    "\t\t\treft <- c(reft, max(times) + 1)\n",
    "\t\t\taltt <- c(altt, (max(altt)*(1-place) + tj*place))\n",
    "\t\t}\n",
    "\t}\n",
    "\tif(length(altt) == 0){\n",
    "\t\treft <- c(reft, max(times) + 1)\t\t\n",
    "\t\taltt <- tj*place\n",
    "\t}\n",
    "\tif(length(reft) == 0 & !sure.alt.is.derived){\n",
    "\t\treft <- tj*place\t\t\n",
    "\t\taltt <- c(altt, max(times) + 1)\t\n",
    "\t}\n",
    "\tif(length(reft) == 0 & sure.alt.is.derived){\n",
    "\t\treft <- max(times) + 1\t\t\n",
    "\t\taltt <- altt #We are working with one fewer coalescence than in the other\n",
    "\t\t\t     #cases, but we don't know when that coalescence was.\n",
    "\t}\n",
    "\tlist(allt, reft, altt)\n",
    "}"
   ]
  },
  {
   "cell_type": "code",
   "execution_count": 46,
   "metadata": {
    "vscode": {
     "languageId": "r"
    }
   },
   "outputs": [],
   "source": [
    "#Function to compute the value of population-size integral for adjusting\n",
    "#coalescent times. Given a starting population size N0, a population size at time\n",
    "#t Nt, a time t over which to compute the integral, a ploidy, and a functional\n",
    "#form for the population-size change from time 0 to time t, computes the integral\n",
    "#\\int_0^t 1/(ploidy*N(u)) du, which answers the question, \"if the population\n",
    "#changes from N0 to Nt over t generations, how many coalescent-units have passed?\".\n",
    "#The form argument has three possible values, \"linear\", in which population size\n",
    "#changes linearly from N0 to Nt; \"piecewise.constant\" in which population size\n",
    "#switches from constant N0 to constant Nt at time t*frac.swit, and \"exponential\",\n",
    "#in which the population size grows/decays exponentially from N0 to Nt in time t.\n",
    "#frac.swit only applies to the piecewise constant functional form, which switches\n",
    "#from N0 to Nt after t*frac.swit of the time has passed.\n",
    "#func.user allows the user to input his/her own function giving population size\n",
    "#at time u. If it is non-null, func.user overrides the form argument.\n",
    "time.scaling <- function(N0, Nt, t, form = \"linear\", ploidy = 1, frac.swit = 0.5, func.user = NULL){\n",
    "\tif(form == \"linear\"){\n",
    "\t\tNu <- function(u){N0 + u*(Nt-N0)/t}\n",
    "\t}\n",
    "\tif(form == \"piecewise.constant\"){\n",
    "\t\tNu <- function(u){\n",
    "\t\t\tN0 + (Nt - N0)*(u >= frac.swit*t)\n",
    "\t\t}\n",
    "\t}\n",
    "\tif(form == \"exponential\"){\n",
    "\t\tNu <- function(u){N0*((Nt/N0)^(1/t))^u}\n",
    "\t}\n",
    "\tif(!is.null(func.user)){Nu <- func.user}\n",
    "\tintegrand <- function(u){1/(ploidy * Nu(u))}\n",
    "\tintegrate(integrand, 0, t)[[1]]\n",
    "}\n",
    "\n",
    "#define the rising and falling factorial functions, which are used to compute the exact\n",
    "#expectation for the number of lineages.\n",
    "rising.factorial <- function(n, i){\n",
    "\tfactorial(n+i-1)/factorial(n-1)\n",
    "}\n",
    "falling.factorial <- function(n, i){\n",
    "\tfactorial(n)/factorial(n-i)\n",
    "}"
   ]
  },
  {
   "cell_type": "code",
   "execution_count": 47,
   "metadata": {
    "vscode": {
     "languageId": "r"
    }
   },
   "outputs": [],
   "source": [
    "#compute the expected number of lineages ancestral to a\n",
    "#haploid sample of size m assuming that the haploid population size\n",
    "#changes from N0 to Nt over time t (in generations) into the past. (N0 is the present).\n",
    "#There are three options for the expression argument, \"exact\", which gives\n",
    "#the exact result from Tavare (1984) and given in Chen & Chen, \"Maruvka\",\n",
    "#which gives the approximation of Maruvka et al., and \"Slatkin\", which\n",
    "#gives the approximation of Slatkin & Rannala. \n",
    "#The form, frac.swit, and func.user arguments are passed directly to \n",
    "#time.scaling().\n",
    "expec.ancs <- function(m, N0, Nt, t, expression = \"Maruvka\", form = \"linear\", frac.swit = 0.5, func.user = NULL){\n",
    "\tt.eff <- time.scaling(N0, Nt, t, form, ploidy = 1, frac.swit, func.user)\n",
    "\tif(expression == \"Maruvka\"){\n",
    "\t\treturn(m/(m + (1-m)*exp(-t.eff/2)))\n",
    "\t}\t\n",
    "\tif(expression == \"Slatkin\"){\n",
    "\t\treturn(m/(1 + m*t.eff/2))\n",
    "\t}\n",
    "\tif(expression == \"exact\"){\n",
    "\t\tl <- 1:m\t\t\n",
    "\t\treturn(sum( (2*l-1) * (falling.factorial(m,l)/rising.factorial(m,l)) * exp(-(l*(l-1)/2) * t.eff) ) )\n",
    "\t}\n",
    "}"
   ]
  },
  {
   "cell_type": "code",
   "execution_count": 48,
   "metadata": {
    "vscode": {
     "languageId": "r"
    }
   },
   "outputs": [],
   "source": [
    "#Computes equations 19 and 20 of Chen and Chen., which give the expec and variance\n",
    "#of a normal approximation to the distribution of the number of lineages\n",
    "#ancestral to a sample of m in the present at time t. Assumes haploid N0 and Nt.\n",
    "#m is the sample size in the present (should be large), t is in generations.\n",
    "#N0 is pop size now, Nt is pop time t in the past. Other arguments are passed\n",
    "#directly to time.scaling() and control the population-size change from N0 to Nt.\n",
    "ancs.approx.norm.mv <- function(m, N0, Nt, t, form = \"linear\", frac.swit = 0.5, func.user = NULL){\n",
    "\tgt <- time.scaling(N0, Nt, t, form, ploidy = 1, frac.swit, func.user)\n",
    "\talpha <- m*gt/2\n",
    "\tbeta <- gt/2\n",
    "\teta <- (alpha * beta)/(alpha*(exp(beta) - 1) + beta*exp(beta))\n",
    "\tnorm.mean <- 2*eta/gt\n",
    "\tnorm.var <- (2*eta/gt)*((eta + beta)^2)*(1 + eta/(eta + beta) - eta/alpha - eta/(alpha + beta) - 2*eta)/beta^2\n",
    "\tc(norm.mean, norm.var)\n",
    "}"
   ]
  },
  {
   "cell_type": "code",
   "execution_count": 49,
   "metadata": {
    "vscode": {
     "languageId": "r"
    }
   },
   "outputs": [],
   "source": [
    "#Computes the expectation of the approximately poisson number of coalescences\n",
    "#that occur when m is large and t is very short. This appears in Chen & Chen just after \n",
    "#Equation 23.\n",
    "ncoals.approx.poisson.m <- function(m, N0, Nt, t, form = \"linear\", frac.swit = 0.5, func.user = NULL){\n",
    "\tgt <- time.scaling(N0, Nt, t, form, ploidy = 1, frac.swit, func.user)\n",
    "\t0.5*m*(m-1)*gt\n",
    "}"
   ]
  },
  {
   "cell_type": "code",
   "execution_count": 50,
   "metadata": {
    "vscode": {
     "languageId": "r"
    }
   },
   "outputs": [],
   "source": [
    "#gives the exact probability that there are mt lineages ancestral to a \n",
    "#sample of m0 chromosomes after t generations in the past. N0 is the \n",
    "#haploid pop size in the present, Nt at time t, and population size\n",
    "#changed according to form argument.\n",
    "ancs.exact.dist <- function(m0, mt, N0, Nt, t, form = \"linear\", frac.swit = 0.5, func.user = NULL){\n",
    "\tgt <- time.scaling(N0, Nt, t, form, ploidy = 1, frac.swit, func.user)\n",
    "\ti <- mt:m0\n",
    "\tsum( (((-1)^(i-mt)) * (2*i-1) * rising.factorial(mt, i-1) * falling.factorial(m0, i)/(factorial(mt) * factorial(i-mt) * rising.factorial(m0, i) ) ) * exp( -(i*(i-1))*gt/(2) )   )\n",
    "}"
   ]
  },
  {
   "cell_type": "code",
   "execution_count": 51,
   "metadata": {
    "vscode": {
     "languageId": "r"
    }
   },
   "outputs": [],
   "source": [
    "#return the probability that m0 lineages coalesced down to mt lineages given\n",
    "#that the haploid population size changed from N0 to Nt in t generations according\n",
    "#to a specified trajectory. If the number of lineages at the start is small\n",
    "#(<=20), then the exact probability is computed. Otherwise, if the normal\n",
    "#approximation looks good (i.e. late enough in coal that right-truncation\n",
    "#is not severe, meaning here that the maximum possible # of lineages is\n",
    "#more than 3 sds above the expectation), then use it. If it is too early\n",
    "#in the coalescent for the normal approximation, then use the poisson approximation.\n",
    "p.ancs <- function(m0, mt, N0, Nt, t, form = \"linear\", frac.swit = 0.5, func.user = NULL, logp = FALSE){\n",
    "\tif(m0 <= 10){\n",
    "\t\tp.ex <- ancs.exact.dist(m0, mt, N0, Nt, t, form, frac.swit, func.user)\n",
    "\t\tif(logp == TRUE){return(log(p.ex))}\n",
    "\t\treturn(p.ex)\n",
    "\t}\n",
    "\tmv <- ancs.approx.norm.mv(m0, N0, Nt, t, form, frac.swit, func.user)\t\n",
    "\texpec.n <- mv[1]\n",
    "\tsd.n <- sqrt(mv[2])\n",
    "\tif((m0 - expec.n)/sd.n > 3){\n",
    "\t\treturn( dnorm(mt, expec.n, sd.n, logp) )\n",
    "\t}\n",
    "\texpec.p <- ncoals.approx.poisson.m(m0, N0, Nt, t, form, frac.swit, func.user)\n",
    "\tdpois(m0 - mt, expec.p, logp)\n",
    "}"
   ]
  },
  {
   "cell_type": "code",
   "execution_count": 52,
   "metadata": {
    "vscode": {
     "languageId": "r"
    }
   },
   "outputs": [],
   "source": [
    "#The scaled time expected before each of the n-1 coalescent events from n lineages\n",
    "#down to 1. \n",
    "coal.exp.scaledtime <- function(n){\n",
    "\tm <- (n-1):1\n",
    "\t2*(1/m - 1/n)\n",
    "}"
   ]
  },
  {
   "cell_type": "code",
   "execution_count": 53,
   "metadata": {
    "vscode": {
     "languageId": "r"
    }
   },
   "outputs": [],
   "source": [
    "#Get a method-of-moments estimate of the coalescent-units scaled time\n",
    "#that has elapsed as a sample of n0 coalesces to nt lineages.\n",
    "#Solves the Maruvka approximation of the expected # of ancestral lineages.\n",
    "#If the sample has coalesced to 1 lineage, assume that it's been 2*(1-1/n0) \n",
    "#coalescent units, the expectation.\n",
    "mom.scaledtime <- function(nt, n0){\n",
    "\tif(nt == 1){return( 2*(1-1/n0) )}\t\n",
    "\t-2*log(n0*(1/nt-1)/(1-n0))\n",
    "}"
   ]
  },
  {
   "cell_type": "code",
   "execution_count": 54,
   "metadata": {
    "vscode": {
     "languageId": "r"
    }
   },
   "outputs": [],
   "source": [
    "#Given a starting y value, ending y value, and vector of x coordinates,\n",
    "#returns a vector of y coordinates along a line at requested x coordinates.\n",
    "smooth.rise <- function(start, end, x){\n",
    "\trun <- x[length(x)] - x[1]\n",
    "\tslope = (end - start)/(run)\n",
    "\tstart + slope*(x - x[1])\n",
    "}"
   ]
  },
  {
   "cell_type": "code",
   "execution_count": 55,
   "metadata": {
    "vscode": {
     "languageId": "r"
    }
   },
   "outputs": [],
   "source": [
    "#\"smooths out\" a vector of step-like function values y of an independent\n",
    "#variable x. If y[i]-y[i-1]==0, then the next time that a rise occurs, it\n",
    "#is split up at an even slope, so there are no flat \"step-like\" portions.\n",
    "smooth.steps <- function(x, y){\n",
    "\tchg_pts <- y[1:(length(y)-1)] != y[2:length(y)]\n",
    "\tsmooth.y <- numeric(length(y))\n",
    "\tlast_chg <- 0\n",
    "\tfor(i in 1:length(chg_pts)){\n",
    "\t\tif(chg_pts[i] == TRUE){\n",
    "\t\t\tsmooth.y[(last_chg+1):(i+1)] <- smooth.rise(y[last_chg+1], y[i+1], x[(last_chg+1):(i+1)])\n",
    "\t\t\tlast_chg <- i\n",
    "\t\t}\n",
    "\t}\n",
    "\tchg <- which(y[1:(length(y)-1)] != y[2:length(y)])\n",
    "\tlast.start.ind <- chg[length(chg)-1] + 1\n",
    "\tif(length(last.start.ind) == 0){last.start.ind <- 1} #deals with a bug that arises when lineage starts with only 2 copies\n",
    "\tlast.end.ind <- chg[length(chg)] + 1\n",
    "\tlast.slope <- (y[last.end.ind] - y[last.start.ind])/(x[last.end.ind] - x[last.start.ind])\n",
    "\tif(last.end.ind<length(y)){\n",
    "\t\tsmooth.y[(last.end.ind + 1):length(y)] <- y[last.end.ind] + last.slope*(x[(last.end.ind + 1):length(y)] - x[last.end.ind])\n",
    "\t}\n",
    "\tsmooth.y\n",
    "}"
   ]
  },
  {
   "cell_type": "code",
   "execution_count": 56,
   "metadata": {
    "vscode": {
     "languageId": "r"
    }
   },
   "outputs": [],
   "source": [
    "#computes approximate variance of p estimate based on number of active lineages\n",
    "#after t generations\n",
    "#parameters are\n",
    "#n: # of lineages of type 1 sampled\n",
    "#m: # of lineages of type 2 sampled\n",
    "#N: population size of type 1 alleles\n",
    "#M: population size of type 2 alleles (true value of p is N/(N+M))\n",
    "#t: time elapsed in generations\n",
    "#NOTE: The function gives the same answers if N and M are decimals adding to 1 (p and 1-p),\n",
    "#and t is given in coalescent units.\n",
    "#var_phat_lineages <- function(n, m, N, M, t){\n",
    "#\tnum1 <- exp(-t/(2*M))*(-((m-1)^2)*M + exp(t/M)*M*m^2 + exp(t/(2*M))*(M-2*m*M-(m-1)*m*t))\n",
    "#\tden1 <- (m-1)*m*M*(( log(m/(m-1)) - log(exp(t/(2*M))*m/(m-1)))^4)\n",
    "#\tnum2 <- exp(-t/(2*N))*(-((n-1)^2)*N + exp(t/N)*N*n^2 + exp(t/(2*N))*(N-2*n*N-(n-1)*n*t))\n",
    "#\tden2 <- (n-1)*n*N*(( log(n/(n-1)) - log(exp(t/(2*N))*n/(n-1)))^4)\n",
    "#\tnum3 <- num2\n",
    "#\tnum4 <- 2*num2\n",
    "#\tden3 <- den2*N^2\n",
    "#\tden4 <- den2*N*(M+N)\n",
    "#\t(N*N*t*t/(4*(M+N)^2))*((num1/den1 + num2/den2)/((M+N)^2) + num3/den3 - num4/den4)\n",
    "#}\n",
    "\n",
    "#Idea: choose tau (based on current estimated p and N) that will minimize variance of estimate.\n",
    "#could penalize for longer lengths of time to penalize the unrealistic assumption that\n",
    "#everything stays the same for a long time.\n",
    "\n",
    "\n",
    "#computes approximate variance of p estimate based on number of active lineages\n",
    "#after tau coalescent time (in the whole sample)\n",
    "#parameters are\n",
    "#n: # of lineages of type 1 sampled\n",
    "#m: # of lineages of type 2 sampled\n",
    "#t: time elapsed (generations)\n",
    "#N: population size of type 1 alleles\n",
    "#M: population size of type 2 alleles (p is N/(N+M))\n",
    "#Calculates:\n",
    "#nt: # of lineages of type 1 remaining at the ancient end of interval\n",
    "#mt: # of lineages of type 2 remaining at the ancient end of interval\n",
    "#p: frequency of type 1\n",
    "#NOTE: The function gives the same answers if N and M are \n",
    "#replaced by decimals adding to 1 (p and 1-p),\n",
    "#and t is given in coalescent units.\n",
    "#NOTE: This function is equivalent to the other\n",
    "# var_phat_lineages, but it's easier to relate to the expression shown in\n",
    "#the text. (previous expression came from mathematica)\n",
    "var_phat_lineages <- function(n, m, N, M, t){\n",
    "\tp <- N/(N+M)\n",
    "\ttau <- t / (N+M)\n",
    "\tnt <- n/(n + (1-n) * exp(-t/(2*N)))\n",
    "\tmt <- m/(m + (1-m) * exp(-t/(2*M)))\t\n",
    "\tif(n == 1 & m == 1){return(1/12)} #if there is one lineage left of either type, return 1/12 \n",
    "\t\t\t\t\t#variance of a uniform(0,1) RV.\t\n",
    "\tif(N == 0 | M == 0 | is.na(N) | is.na(M)){return(0)}\t#If allele has fixed or lost, return 0.\n",
    "\tfun.n <- 1/nt + 1/(nt-1) - 1/n - 1/(n-1) - tau/p\n",
    "\tfun.m <- 1/mt + 1/(mt-1) - 1/m - 1/(m-1) - tau/(1-p)\n",
    "\tvar.est <- (4*(p^2)*((1-p)^2)/(tau^2))*((p^2)*fun.n + ((1-p)^2)*fun.m)\n",
    "\t#If the estimated variance is larger than the largest possible variance\n",
    "\t#for waiting-time estimator, return that instead.\t\n",
    "\tif(var.est > 2*p^2*(1-p)^2 | is.nan(var.est)){\n",
    "\t\tvar.est <- 2*p^2*(1-p)^2\n",
    "\t}\n",
    "\t#if(var.est > 1/12){var.est <- 1/12} #Don't exceed the variance of a uniform(0,1) RV.\n",
    "\tvar.est\n",
    "}"
   ]
  },
  {
   "cell_type": "code",
   "execution_count": 57,
   "metadata": {
    "vscode": {
     "languageId": "r"
    }
   },
   "outputs": [],
   "source": [
    "#This estimated variance can be very large\n",
    "#var.grid <- numeric(191*191*99)\n",
    "#l <- 1\n",
    "#for(i in 20:200){\n",
    "#\tfor(j in 20:200){\n",
    "#\t\tfor(k in 1:99){\n",
    "#\t\t\tvar.grid[l] <- var_phat_lineages(i, j, k/100, 1-k/100, .001)\n",
    "#\t\t\tl <- l + 1\n",
    "#\t\t}\t\n",
    "#\t}\n",
    "#}\n",
    "\n",
    "\n",
    "#variance/N^2 for estimate of N^2 based on waiting-time estimator\n",
    "var.mult <- function(m, l){\n",
    "\tk <- (m+1):(m+l)\n",
    "\tsum(1/((k^2)*(k-1)^2))/(1/m - 1/(m+l))^2\n",
    "}"
   ]
  },
  {
   "cell_type": "code",
   "execution_count": 58,
   "metadata": {
    "vscode": {
     "languageId": "r"
    }
   },
   "outputs": [],
   "source": [
    "#Takes a vector of the number of lineages ancestral to the sample\n",
    "#(lins) at each of a vector of times. Estimates a factor proportional\n",
    "#to the population size between each pair of timepoints in the times vector.\n",
    "mom.smoothtime <- function(lins, time){\n",
    "\tn0 <- lins[1]\n",
    "\tlins.g0 <- lins[lins>0]\n",
    "\ttime.g0 <- time[lins>0]\n",
    "\t#This if statement effectively rounds up if all coalescences happen before\n",
    "\t#the first timepoint \n",
    "\tif(length(lins.g0) == 1 & lins.g0[1] > 1){\n",
    "\t\tlins.g0[2] <- 1\n",
    "\t\ttime.g0 <- time[1:2]\n",
    "\t}\t\n",
    "\tcoal.times <- sapply(lins.g0, mom.scaledtime, n0 = n0)\n",
    "\tcoal.smooth <- smooth.steps(time.g0, coal.times)\n",
    "\trise <- coal.smooth[2:length(coal.smooth)] - coal.smooth[1:(length(coal.smooth) - 1)]\n",
    "\trun <- time.g0[2:length(time.g0)] - time.g0[1:(length(time.g0) - 1)]\n",
    "\tc(run/rise, rep(0, sum(lins==0))) #population size is proportional to reciprocal of slope relating generations to coal time.\n",
    "}"
   ]
  },
  {
   "cell_type": "code",
   "execution_count": 59,
   "metadata": {
    "vscode": {
     "languageId": "r"
    }
   },
   "outputs": [],
   "source": [
    "#Takes a matrix of lineage counts (ref in 1st col, alt in second) and a vector of times\n",
    "#at which the lineages are counted. Times should be in units proportional to generations.\n",
    "#Returns an estimated trajectory of alternative allele frequency at times.\n",
    "est_af_traj_mom.smoothtime <- function(lins, times = seq(0.005, 8.005, by = 0.01)){\n",
    "\ttraj <- rep(-1, length(lins[,1]))\n",
    "\ttraj[1] <- lins[1,2]/(lins[1,2] + lins[1,1])\n",
    "\tNref <- mom.smoothtime(lins[,1], times)\n",
    "\tNalt <- mom.smoothtime(lins[,2], times)\n",
    "\ttraj[traj == -1] <- Nalt / (Nref + Nalt)\n",
    "\ttraj\n",
    "}"
   ]
  },
  {
   "cell_type": "code",
   "execution_count": 60,
   "metadata": {
    "vscode": {
     "languageId": "r"
    }
   },
   "outputs": [],
   "source": [
    "#Takes a matrix of lineage counts (ref in 1st col, alt in second) and a vector of times\n",
    "#at which the lineages are counted. Times should be in ***generations***.\n",
    "#Returns approximate variance of estimated trajectory of alternative allele frequency at times.\n",
    "# variance of uniform(0,1) is 1/12, so if asymptotic var estimate is larger than\n",
    "#that, we bring it down to that.\n",
    "est_af_var_mom.smoothtime <- function(lins, times = 10000*seq(0.005, 8.005, by = 0.01)){\n",
    "\tvars.traj <- rep(-1, length(lins[,1]))\n",
    "\tvars.traj[1] <- (lins[1,2]*lins[1,1]/(lins[1,2] + lins[1,1])^3)\n",
    "\tNref <- mom.smoothtime(lins[,1], times)\n",
    "\tNalt <- mom.smoothtime(lins[,2], times)\n",
    "\tfor(i in which(vars.traj == -1)){\n",
    "\t\tvars.traj[i] <- var_phat_lineages(lins[i-1,2], lins[i-1,1], Nalt[i], Nref[i], times[i] - times[i-1])\t\t\t\n",
    "\t}\n",
    "\tvars.traj\n",
    "}"
   ]
  },
  {
   "cell_type": "code",
   "execution_count": 61,
   "metadata": {
    "vscode": {
     "languageId": "r"
    }
   },
   "outputs": [],
   "source": [
    "#Takes a matrix of lineage counts (ref in 1st col, alt in second) and a vector of times\n",
    "#at which the lineages are counted. Times should be in ***generations***.\n",
    "#Returns approximate variance of estimated trajectory of alternative allele frequency at times.\n",
    "# variance of uniform(0,1) is 1/12, so if asymptotic var estimate is larger than\n",
    "#that, we bring it down to that.\n",
    "#This version uses p estimate and coalescent time.\n",
    "est_af_var_mom.smoothtime_coaltimes <- function(lins, times = seq(0.005, 8.005, by = 0.01)){\n",
    "\tvars.traj <- rep(-1, length(lins[,1]))\n",
    "\tvars.traj[1] <- (lins[1,2]*lins[1,1]/(lins[1,2] + lins[1,1])^3)\n",
    "\tNref <- mom.smoothtime(lins[,1], times)\n",
    "\tNalt <- mom.smoothtime(lins[,2], times)\n",
    "\tNsum <- Nref + Nalt\n",
    "\tfor(i in which(vars.traj == -1)){\n",
    "\t\tvars.traj[i] <- var_phat_lineages(lins[i-1,2], lins[i-1,1], Nalt[i]/Nsum[i], Nref[i]/Nsum[i], times[i] - times[i-1])\t\t\t\n",
    "\t}\n",
    "\tvars.traj\n",
    "}"
   ]
  },
  {
   "cell_type": "code",
   "execution_count": 62,
   "metadata": {
    "vscode": {
     "languageId": "r"
    }
   },
   "outputs": [],
   "source": [
    "#Take in vector of coalescence times and a value of ell \n",
    "#(number of coalescences to wait for before making\n",
    "#an estimate). Return a matrix with column 1 equal to the \n",
    "#max time at which N estimate applies, column 2 equal to N estimate,\n",
    "#and column 3 variance of the N estimate. If there are less than \n",
    "#ell coalescences left after last estimate, just use the ones that\n",
    "#are left.\n",
    "estN_waittimes <- function(ctimevec, ell){\n",
    "\tctimevec <- sort(ctimevec)\n",
    "\tif(length(ctimevec) < ell){inds <- length(ctimevec)}\n",
    "\tif(length(ctimevec) == ell){inds <- ell}\t\n",
    "\tif(length(ctimevec) > ell){\n",
    "\t\tinds <- seq(ell, ell*floor(length(ctimevec)/ell), by = ell)\n",
    "\t\tif(length(ctimevec)%%ell != 0){\n",
    "\t\t\tinds <- c(inds, length(ctimevec))\n",
    "\t\t}\n",
    "\t}\n",
    "\tctimes <- ctimevec[inds]\n",
    "\tN.ests <- numeric(length(ctimes))\n",
    "\tN.vars <- N.ests\n",
    "\twt <- ctimes[1]\n",
    "\tn <- length(ctimevec) + 1\n",
    "\tl <- inds[1]\n",
    "\tN.ests[1] <- wt/(2*(1/(n-l) - 1/n))\n",
    "\tN.vars[1] <- (N.ests[1]^2)*var.mult(n-l, l)\n",
    "\tif(length(ctimes) > 1){\n",
    "\t\tfor(i in 2:length(ctimes)){\n",
    "\t\t\twt <- ctimes[i] - ctimes[i-1]\n",
    "\t\t\tn <- length(ctimevec) + 1 - ell*(i-1)\n",
    "\t\t\tl <- inds[i] - inds[i-1]\t\t\n",
    "\t\t\tN.ests[i] <- wt/(2*(1/(n-l) - 1/n))\n",
    "\t\t\tN.vars[i] <- (N.ests[i]^2)*var.mult(n-l, l)\n",
    "\t\t}\n",
    "\t}\t\n",
    "\tcbind(ctimes, N.ests, N.vars)\n",
    "}"
   ]
  },
  {
   "cell_type": "code",
   "execution_count": 63,
   "metadata": {
    "vscode": {
     "languageId": "r"
    }
   },
   "outputs": [],
   "source": [
    "#Given a matrix of the form produced by estN_waittimes() and a target time,\n",
    "#pulls out the Nestimate and estimated variance of N for the target time.\n",
    "getN_estNmat <- function(estNmat, targ.time, est.only = FALSE){\n",
    "\tind <- nrow(estNmat)\n",
    "\tif(estNmat[ind, 1] > targ.time){\n",
    "\t\tind <- which(estNmat[,1] == min(estNmat[estNmat[,1] > targ.time,1]))\n",
    "\t}\n",
    "\tif(est.only == TRUE){return(as.numeric(estNmat[ind,2]))}\t\n",
    "\tas.numeric(estNmat[ind,2:3])\n",
    "}"
   ]
  },
  {
   "cell_type": "code",
   "execution_count": 64,
   "metadata": {
    "vscode": {
     "languageId": "r"
    }
   },
   "outputs": [],
   "source": [
    "#compute the first-order Taylor-series approximation of the variance\n",
    "#of a quotient of two random variables.\n",
    "#mu_n is the expectation of the numerator; var_n is the variance of the numerator;\n",
    "#mu_d is the expectation of the denominator; var_d is the variance of the denominator;\n",
    "#cov_nd is the covariance of the numerator and denominator.\n",
    "#returns 0 if mu_n or var_n is 0.\n",
    "ts_var_quotient <- function(mu_n, var_n, mu_d, var_d, cov_nd){\n",
    "\tif(mu_n == 0 | var_n == 0){return(0)}\t\n",
    "\t((mu_n^2)/(mu_d^2))*(var_n/mu_n^2 - 2*cov_nd/(mu_n*mu_d) + var_d/mu_d^2)\n",
    "}"
   ]
  },
  {
   "cell_type": "code",
   "execution_count": 65,
   "metadata": {
    "vscode": {
     "languageId": "r"
    }
   },
   "outputs": [],
   "source": [
    "#Take in a list of three vectors of coalescence times,\n",
    "#one for the whole tree (element [[1]]), \n",
    "#one for the \"ref\" subtree (element [[2]]), \n",
    "#and one for the \"alt\" subtree (element [[3]]).\n",
    "#Also take in a list of times (in the same units as the vector of \n",
    "#coalescent times), finally a parameter ell for the ref tree\n",
    "#and the alt tree. (ell controls how many coalescent events we wait\n",
    "#for before making an estimate).\n",
    "#returns estimates of alt allele frequency and estimated variance of \n",
    "#frequency estimate. \n",
    "#This version assumes that the alt allele is derived and assigns alt\n",
    "#frequency to 0 before place proportion on the branch on which the mutation\n",
    "#must have occurred. \n",
    "p_ests_wait <- function(ctime.list, time.eval, ell.ref = 5, ell.alt = 5, place = 0.5, ord2adj = FALSE){\n",
    "\tNs_ref <- estN_waittimes(ctime.list[[2]], ell.ref)\n",
    "\tNs_alt <- estN_waittimes(ctime.list[[3]], ell.alt)\n",
    "\t#tree join time is the time in full tree that doesn't appear in either subtree.\n",
    "\ttj <- tree_join_time(ctime.list[[1]], ctime.list[[2]][-length(ctime.list[[2]])], ctime.list[[3]][-length(ctime.list[[3]])], NULL)\n",
    "\tlca <- Ns_alt[nrow(Ns_alt), 1]\t\n",
    "\tif(tj >= lca){\n",
    "\t\tNs_alt <- rbind(Ns_alt, c(lca + (tj - lca)*place, 0, 0))\n",
    "\t}\n",
    "\tif(tj < lca){\n",
    "\t\tNs_alt <- rbind(Ns_alt, c(lca + 0.001, 0, 0))\n",
    "\t}\n",
    "\tp.ests <- numeric(length(time.eval))\n",
    "\tvar.ests <- p.ests\n",
    "\tfor(i in 1:length(time.eval)){\n",
    "\t\tNs.r.t <- getN_estNmat(Ns_ref, time.eval[i])\n",
    "\t\tNs.a.t <- getN_estNmat(Ns_alt, time.eval[i])\n",
    "\t\tp.ests[i] <- Ns.a.t[1]/(Ns.a.t[1] + Ns.r.t[1])\n",
    "\t\tif(ord2adj == TRUE){\n",
    "\t\t\tp.ests[i] <- p.ests[i] + Ns.a.t[2]/(Ns.a.t[1] + Ns.r.t[1])^2 - Ns.a.t[1]*(Ns.a.t[2] + Ns.r.t[2])/(Ns.a.t[1] + Ns.r.t[1])^3\n",
    "\t\t}\n",
    "\t\tvar.ests[i] <- ts_var_quotient(Ns.a.t[1], Ns.a.t[2], Ns.a.t[1] + Ns.r.t[1], Ns.a.t[2] + Ns.r.t[2], Ns.a.t[2])\n",
    "\t}\n",
    "\tcbind(p.ests, var.ests)\n",
    "}"
   ]
  },
  {
   "cell_type": "code",
   "execution_count": 66,
   "metadata": {
    "vscode": {
     "languageId": "r"
    }
   },
   "outputs": [],
   "source": [
    "#Function to compute harmonic mean.\n",
    "harm.mean <- function(x,...){\n",
    "\t1/mean(1/x,...)\n",
    "}"
   ]
  },
  {
   "cell_type": "code",
   "execution_count": 67,
   "metadata": {
    "vscode": {
     "languageId": "r"
    }
   },
   "outputs": [],
   "source": [
    "#Return the actual harmonic mean Ns for a type between coalescences.\n",
    "mean_waittimes <- function(pt.time, af.traj, N, ctimevec, ell, mean.fn = \"harmonic\"){\n",
    "\tctimevec <- sort(ctimevec)\n",
    "\tif(length(ctimevec) < ell){inds <- length(ctimevec)}\n",
    "\tif(length(ctimevec) == ell){inds <- ell}\t\n",
    "\tif(length(ctimevec) > ell){\n",
    "\t\tinds <- seq(ell, ell*floor(length(ctimevec)/ell), by = ell)\n",
    "\t\tif(length(ctimevec)%%ell != 0){\n",
    "\t\t\tinds <- c(inds, length(ctimevec))\n",
    "\t\t}\n",
    "\t}\n",
    "\tctimes <- ctimevec[inds]\n",
    "\tNs <- numeric(length(ctimes))\n",
    "\twt <- ctimes[1]\n",
    "\tNs[1] <- harm.mean(N*af.traj[pt.time < wt])\t\n",
    "\tif(length(ctimes) > 1){\n",
    "\t\tfor(i in 2:length(ctimes)){\n",
    "\t\t\tif(mean.fn == \"harmonic\"){\n",
    "\t\t\t\tNs[i] <- harm.mean(N*af.traj[pt.time < ctimes[i] & pt.time >= ctimes[i-1]])\t\t\t\n",
    "\t\t\t}\n",
    "\t\t\tif(mean.fn == \"arithmetic\"){\n",
    "\t\t\t\tNs[i] <- mean(N*af.traj[pt.time < ctimes[i] & pt.time >= ctimes[i-1]])\t\t\t\n",
    "\t\t\t}\n",
    "\t\t\t\n",
    "\t\t}\n",
    "\t}\t\n",
    "\tcbind(ctimes, Ns, rep(0, length(ctimes)))\n",
    "}"
   ]
  },
  {
   "cell_type": "code",
   "execution_count": 68,
   "metadata": {
    "vscode": {
     "languageId": "r"
    }
   },
   "outputs": [],
   "source": [
    "#ctimevec <- times.c[[200]][[3]]\n",
    "#af.traj <- mat.trajs[,200]\n",
    "#harmN_waittimes(pt.time, af.traj, N, ctimevec, 5)\n",
    "\n",
    "#Function that uses the actual harmonic mean Ns in intervals between wait times.\n",
    "#Goal is to see whether waiting-time estimator would be biased if estimation\n",
    "#of harmonic-mean Ns of each type was perfect.\n",
    "#af.traj is true allele freq trajectory measured at times pt.time.\n",
    "#N is the population size (assumed to be constant)\n",
    "p_ests_wait_cheat.mean <- function(pt.time, af.traj, N, ctime.list, time.eval, ell.ref = 5, ell.alt = 5, place = 0.5, mean.fn = \"harmonic\"){\n",
    "\tNs_ref <- mean_waittimes(pt.time, 1-af.traj, N, ctime.list[[2]], ell.ref, mean.fn)\n",
    "\tNs_alt <- mean_waittimes(pt.time, af.traj, N, ctime.list[[3]], ell.alt, mean.fn)\n",
    "\ttj <- tree_join_time(ctime.list[[1]], ctime.list[[2]][-length(ctime.list[[2]])], ctime.list[[3]][-length(ctime.list[[3]])], NULL)\n",
    "\tlca <- Ns_alt[nrow(Ns_alt), 1]\t\n",
    "\tif(tj >= lca){\n",
    "\t\tNs_alt <- rbind(Ns_alt, c(lca + (tj - lca)*place, 0, 0))\n",
    "\t}\n",
    "\tif(tj < lca){\n",
    "\t\tNs_alt <- rbind(Ns_alt, c(lca + 0.001, 0, 0))\n",
    "\t}\n",
    "\tp.ests <- numeric(length(time.eval))\n",
    "\tfor(i in 1:length(time.eval)){\n",
    "\t\tNs.r.t <- getN_estNmat(Ns_ref, time.eval[i])\n",
    "\t\tNs.a.t <- getN_estNmat(Ns_alt, time.eval[i])\n",
    "\t\tp.ests[i] <- Ns.a.t[1]/(Ns.a.t[1] + Ns.r.t[1])\n",
    "\t}\n",
    "\tp.ests\n",
    "}"
   ]
  },
  {
   "cell_type": "code",
   "execution_count": 69,
   "metadata": {
    "vscode": {
     "languageId": "r"
    }
   },
   "outputs": [],
   "source": [
    "#p.wt <- p_ests_wait(times.c[[50]], time, ell.ref = 1, ell.alt = 1)\n",
    "#p.hm <- p_ests_wait_cheat.mean(pt.time, af.traj, N, times.c[[50]], time, ell.ref = 1, ell.alt = 1)\n",
    "#p.am <- p_ests_wait_cheat.mean(pt.time, af.traj, N, times.c[[50]], time, ell.ref = 1, ell.alt = 1, mean.fn = \"arithmetic\")\n",
    "#plot(pt.time, af.traj, type = \"l\")\n",
    "#lines(time, p.wt[,1], col = \"red\")\n",
    "#lines(time, p.am, col = \"purple\")\n",
    "#lines(time, p.hm, col = \"green\")\n",
    "\n",
    "##Need to refactor waiting-time estimator functions.\n",
    "#Goal is to allow search across different partitions of the # of coalescent\n",
    "#events to maximize AIC.\n",
    "\n",
    "#Take in vector of coalescence times and a vector of ell  values\n",
    "#(number of coalescences to wait for before making\n",
    "#an estimate). The entries in the l vector should be a partition\n",
    "#of the length of ctimevec (i.e. all positive integers, with \n",
    "#sum(l.vec) == length(ctimevec)). Return a matrix with column 1 equal to the \n",
    "#max time at which N estimate applies, column 2 equal to N estimate,\n",
    "#and column 3 variance of the N estimate. \n",
    "estN_waittimes_partition <- function(ctimevec, l.vec){\n",
    "\tctimevec <- sort(ctimevec)\n",
    "\tif(sum(l.vec) != length(ctimevec) | mean(l.vec >= 1) != 1 |  !(all.equal(l.vec, as.integer(l.vec)))){\n",
    "\t\tstop(\"l.vec must be an ordered partition of the number of coalescences.\")\n",
    "\t}\n",
    "\tinds <- cumsum(l.vec)\n",
    "\tctimes <- ctimevec[inds]\n",
    "\tN.ests <- numeric(length(ctimes))\n",
    "\tN.vars <- N.ests\n",
    "\twt <- ctimes[1]\n",
    "\tn <- length(ctimevec) + 1\n",
    "\tl <- inds[1]\n",
    "\tN.ests[1] <- wt/(2*(1/(n-l) - 1/n))\n",
    "\tN.vars[1] <- (N.ests[1]^2)*var.mult(n-l, l)\n",
    "\tif(length(ctimes) > 1){\n",
    "\t\tfor(i in 2:length(ctimes)){\n",
    "\t\t\twt <- ctimes[i] - ctimes[i-1]\n",
    "\t\t\tn <- length(ctimevec) + 1 - inds[i-1]\n",
    "\t\t\tl <- l.vec[i]\t\t\n",
    "\t\t\tN.ests[i] <- wt/(2*(1/(n-l) - 1/n))\n",
    "\t\t\tN.vars[i] <- (N.ests[i]^2)*var.mult(n-l, l)\n",
    "\t\t}\n",
    "\t}\t\n",
    "\tcbind(ctimes, N.ests, N.vars)\n",
    "}"
   ]
  },
  {
   "cell_type": "code",
   "execution_count": 70,
   "metadata": {
    "vscode": {
     "languageId": "r"
    }
   },
   "outputs": [],
   "source": [
    "#Compute the log likelihood associated with a set of N estimates\n",
    "#in an matrix like the ones produced by estN_waittimes().\n",
    "#Requires all the coalescent times (in ctimevec).\n",
    "loglike.Nests.wait <- function(ctimevec, Nestmat){\n",
    "\tinds.vec <- which(ctimevec %in% Nestmat[,1]) #the events at which N is assessed.\n",
    "\tl.vec <- diff(c(0, inds.vec))\n",
    "\tif(length(l.vec) == length(ctimevec)){\n",
    "\t\tN.ests <- Nestmat[,2]\n",
    "\t}\n",
    "\tif(length(l.vec) < length(ctimevec)){\n",
    "\t\tN.ests <- rep(Nestmat[,2], times = l.vec)\n",
    "\t}\t\n",
    "\tlin.choice <- choose((length(ctimevec)+1):2, 2)\n",
    "\tlls <- log(lin.choice) - log(N.ests) - c(ctimevec[1], diff(ctimevec)) * lin.choice / N.ests\n",
    "\tsum(lls)\n",
    "}"
   ]
  },
  {
   "cell_type": "code",
   "execution_count": 71,
   "metadata": {
    "vscode": {
     "languageId": "r"
    }
   },
   "outputs": [],
   "source": [
    "#takes in a vector and an index, ind. Returns a vector\n",
    "#1 shorter than vec, where the indth entry is equal to the sum\n",
    "#of the indth and ind+1th entries of vec, and all other entries\n",
    "#are equal to entries in vec.\n",
    "lumpvec <- function(vec, ind){\n",
    "\tif(ind >= length(vec)){\n",
    "\t\tstop(\"The index must be less than the length of the vector.\")\t\n",
    "\t}\n",
    "\tsum.ent <- vec[ind] + vec[ind + 1]\n",
    "\tif(ind == 1){return(c(sum.ent, vec[-(1:2)]))}\n",
    "\tif(ind == (length(vec) - 1)){return(c(vec[-(ind:(ind+1))], sum.ent ) )}\n",
    "\tc(vec[1:(ind-1)], sum.ent, vec[(ind+2):length(vec)])\n",
    "}"
   ]
  },
  {
   "cell_type": "code",
   "execution_count": 72,
   "metadata": {
    "vscode": {
     "languageId": "r"
    }
   },
   "outputs": [],
   "source": [
    "#Take a vector that represents an ordered partition of an integer.\n",
    "#Return a list of every vector that represents an ordered partition\n",
    "#of the same integer and is formed by \"lumping\" two entries in the \n",
    "#original vector.\n",
    "lumps.lvec <- function(lvec){\n",
    "\toutlist <- list()\n",
    "\tfor(i in 1:(length(lvec) - 1)){\n",
    "\t\toutlist[[i]] <- lumpvec(lvec, i)\t\n",
    "\t}\n",
    "\toutlist\n",
    "}"
   ]
  },
  {
   "cell_type": "code",
   "execution_count": 73,
   "metadata": {
    "vscode": {
     "languageId": "r"
    }
   },
   "outputs": [],
   "source": [
    "#Do a greedy search for smoothing with best AIC, where smoothing is determined\n",
    "#by an ordered partition of #s of coalescences to wait for.\n",
    "#Start with every interval having its own N estimate, then lump\n",
    "#neighboring intervals in the most favorable way (AIC-wise) until\n",
    "#AIC no longer improves or there is just one lump \n",
    "#weight.K = 1 gives AIC penalty. weight.K = log(length(ctimevec))/2 gives BIC penalty\n",
    "find.lvec.AIC.lump <- function(ctimevec, weight.K = 1){\n",
    "\tctimevec <- sort(ctimevec)\n",
    "\tctimevec <- breakties.ctimes(ctimevec)\t\n",
    "\tS <- length(ctimevec)\n",
    "\tif(S == 1){return(1)}\n",
    "\tK <- S\n",
    "\tbest.lvec <- rep(1, length(ctimevec))\n",
    "\tNmat <- estN_waittimes_partition(ctimevec, best.lvec)\n",
    "\tll <- loglike.Nests.wait(ctimevec, Nmat)\n",
    "\tbest.AIC <- ll - K \n",
    "\tbest.contender <- best.AIC + 1\n",
    "\twhile(best.AIC <= best.contender & K > 1){\n",
    "\t\tcontender.AICs <- numeric()\n",
    "\t\tcontenders <- lumps.lvec(best.lvec)\n",
    "\t\tK <- length(contenders[[1]])\t\t\n",
    "\t\tfor(i in 1:length(contenders)){\n",
    "\t\t\tNmat <- estN_waittimes_partition(ctimevec, contenders[[i]])\n",
    "\t\t\tcontender.AICs[i] <- loglike.Nests.wait(ctimevec, Nmat) - K * weight.K\n",
    "\t\t}\n",
    "\t\tbest.contender <- max(contender.AICs)\n",
    "\t\tif(best.contender > best.AIC){\n",
    "\t\t\tbest.AIC <- best.contender\n",
    "\t\t\tbest.lvec <- contenders[[which(contender.AICs == best.contender)[1]]]\n",
    "\t\t}\n",
    "\t}\n",
    "\tbest.lvec\n",
    "}"
   ]
  },
  {
   "cell_type": "code",
   "execution_count": 74,
   "metadata": {
    "vscode": {
     "languageId": "r"
    }
   },
   "outputs": [],
   "source": [
    "#Given an integer to partition (int.to.part), and an integer l,\n",
    "#returns (as a vector) an ordered partition of int.to.part \n",
    "#where all but the final entry\n",
    "#are equal to l.\n",
    "get.fixedl.part <- function(int.to.part, l = 1){\n",
    "\tn.ls <- int.to.part %/% l\n",
    "\trem <- int.to.part %% l\n",
    "\tpart <- rep(l, n.ls)\t\n",
    "\tif(rem >= 1){part <- c(part, rem)}\n",
    "\tpart\n",
    "}"
   ]
  },
  {
   "cell_type": "code",
   "execution_count": 75,
   "metadata": {
    "vscode": {
     "languageId": "r"
    }
   },
   "outputs": [],
   "source": [
    "#Do a search for smoothing parameter l (the number of coalescent events to wait for) \n",
    "#with best AIC. If there are fewer than l remaining coalescent events,\n",
    "#we just wait for all of them to occur.\n",
    "#weight.K = 1 gives AIC penalty. weight.K = log(length(ctimevec))/2 gives BIC penalty\n",
    "find.l.AIC <- function(ctimevec, weight.K = 1){\n",
    "\tctimevec <- sort(ctimevec)\n",
    "\tctimevec <- breakties.ctimes(ctimevec)\t\n",
    "\tS <- length(ctimevec)\n",
    "\tif(S == 1){return(1)}\n",
    "\tparts <- list()\n",
    "\tAICs <- numeric(length(ctimevec))\n",
    "\tfor(i in 1:length(ctimevec)){\n",
    "\t\tpart <- get.fixedl.part(length(ctimevec), i)\n",
    "\t\tNmat <- estN_waittimes_partition(ctimevec, part)\n",
    "\t\tAICs[i] <- loglike.Nests.wait(ctimevec, Nmat) - nrow(Nmat) * weight.K\n",
    "\t}\n",
    "\twhich.max(AICs)[1]\n",
    "}"
   ]
  },
  {
   "cell_type": "code",
   "execution_count": 76,
   "metadata": {
    "vscode": {
     "languageId": "r"
    }
   },
   "outputs": [],
   "source": [
    "#breaks ties in a vector of coalescent times by adding a small amount to the latter of any\n",
    "#two times that agree.\n",
    "breakties.ctimes <- function(ctimevec){\n",
    "\tcdiffs <- diff(ctimevec)\n",
    "\tmindiff <- min(cdiffs[cdiffs > 10^(-10)])\n",
    "\tif(ctimevec[1] < 10^(-10)){\n",
    "\t\tctimevec[1] <- mindiff/5\n",
    "\t\tcdiffs <- diff(ctimevec)\n",
    "\t}\n",
    "\tif(sum(cdiffs < 10^(-10)) == 0){return(ctimevec)}\n",
    "\ttie.inds <- which(cdiffs < 10^(-10)) + 1\n",
    "\tctimevec[tie.inds] <- ctimevec[tie.inds] + mindiff/5\n",
    "\tif(sum(diff(ctimevec) < 10^(-10)) > 0){return(breakties.ctimes(ctimevec))}\n",
    "\tctimevec\n",
    "}"
   ]
  },
  {
   "cell_type": "code",
   "execution_count": 77,
   "metadata": {
    "vscode": {
     "languageId": "r"
    }
   },
   "outputs": [],
   "source": [
    "#Take in a list of three vectors of coalescence times,\n",
    "#one for the whole tree (element [[1]]), \n",
    "#one for the \"ref\" subtree (element [[2]]), \n",
    "#and one for the \"alt\" subtree (element [[3]]).\n",
    "#Also take in a list of times (in the same units as the vector of \n",
    "#coalescent times).\n",
    "#returns estimates of alt allele frequency and estimated variance of \n",
    "#frequency estimate. \n",
    "#This version assumes that the alt allele is derived and assigns alt\n",
    "#frequency to 0 before place proportion on the branch on which the mutation\n",
    "#must have occurred. \n",
    "p_ests_wait_AICpartition <- function(ctime.list, time.eval, place = 0.5, weight.K.ref = 1, weight.K.alt = 1){\n",
    "\tlvec.ref <- find.lvec.AIC.lump(ctime.list[[2]], weight.K.ref)\n",
    "\tlvec.alt <- find.lvec.AIC.lump(ctime.list[[3]], weight.K.alt)\n",
    "\tNs_ref <- estN_waittimes_partition(breakties.ctimes(sort(ctime.list[[2]])), lvec.ref)\n",
    "\tNs_alt <- estN_waittimes_partition(breakties.ctimes(sort(ctime.list[[3]])), lvec.alt)\n",
    "\t#tree join time is the time in full tree that doesn't appear in either subtree.\n",
    "\ttj <- tree_join_time(ctime.list[[1]], ctime.list[[2]][-length(ctime.list[[2]])], ctime.list[[3]][-length(ctime.list[[3]])], NULL)\n",
    "\tlca <- Ns_alt[nrow(Ns_alt), 1]\t\n",
    "\tif(tj >= lca){\n",
    "\t\tNs_alt <- rbind(Ns_alt, c(lca + (tj - lca)*place, 0, 0))\n",
    "\t}\n",
    "\tif(tj < lca){\n",
    "\t\tNs_alt <- rbind(Ns_alt, c(lca + 0.001, 0, 0))\n",
    "\t}\n",
    "\tp.ests <- numeric(length(time.eval))\n",
    "\tvar.ests <- p.ests\n",
    "\tfor(i in 1:length(time.eval)){\n",
    "\t\tNs.r.t <- getN_estNmat(Ns_ref, time.eval[i])\n",
    "\t\tNs.a.t <- getN_estNmat(Ns_alt, time.eval[i])\n",
    "\t\tp.ests[i] <- Ns.a.t[1]/(Ns.a.t[1] + Ns.r.t[1])\n",
    "\t\tvar.ests[i] <- ts_var_quotient(Ns.a.t[1], Ns.a.t[2], Ns.a.t[1] + Ns.r.t[1], Ns.a.t[2] + Ns.r.t[2], Ns.a.t[2])\n",
    "\t}\n",
    "\tcbind(p.ests, var.ests)\n",
    "}"
   ]
  },
  {
   "cell_type": "code",
   "execution_count": 78,
   "metadata": {
    "vscode": {
     "languageId": "r"
    }
   },
   "outputs": [],
   "source": [
    "#Take in a list of three vectors of coalescence times,\n",
    "#one for the whole tree (element [[1]]), \n",
    "#one for the \"ref\" subtree (element [[2]]), \n",
    "#and one for the \"alt\" subtree (element [[3]]).\n",
    "#Also take in a list of times (in the same units as the vector of \n",
    "#coalescent times).\n",
    "#returns estimates of alt allele frequency and estimated variance of \n",
    "#frequency estimate. \n",
    "#This version assumes that the alt allele is derived and assigns alt\n",
    "#frequency to 0 before place proportion on the branch on which the mutation\n",
    "#must have occurred. \n",
    "p_ests_wait_AIC_l <- function(ctime.list, time.eval, place = 0.5, weight.K.ref = 1, weight.K.alt = 1){\n",
    "\tl.ref <- find.l.AIC(ctime.list[[2]], weight.K.ref)\n",
    "\tl.alt <- find.l.AIC(ctime.list[[3]], weight.K.alt)\n",
    "\tlvec.ref <- get.fixedl.part(length(ctime.list[[2]]), l.ref)\n",
    "\tlvec.alt <- get.fixedl.part(length(ctime.list[[3]]), l.alt)\n",
    "\tNs_ref <- estN_waittimes_partition(breakties.ctimes(sort(ctime.list[[2]])), lvec.ref)\n",
    "\tNs_alt <- estN_waittimes_partition(breakties.ctimes(sort(ctime.list[[3]])), lvec.alt)\n",
    "\t#tree join time is the time in full tree that doesn't appear in either subtree.\n",
    "\ttj <- tree_join_time(ctime.list[[1]], ctime.list[[2]][-length(ctime.list[[2]])], ctime.list[[3]][-length(ctime.list[[3]])], NULL)\n",
    "\tlca <- Ns_alt[nrow(Ns_alt), 1]\t\n",
    "\tif(tj >= lca){\n",
    "\t\tNs_alt <- rbind(Ns_alt, c(lca + (tj - lca)*place, 0, 0))\n",
    "\t}\n",
    "\tif(tj < lca){\n",
    "\t\tNs_alt <- rbind(Ns_alt, c(lca + 0.001, 0, 0))\n",
    "\t}\n",
    "\tp.ests <- numeric(length(time.eval))\n",
    "\tvar.ests <- p.ests\n",
    "\tfor(i in 1:length(time.eval)){\n",
    "\t\tNs.r.t <- getN_estNmat(Ns_ref, time.eval[i])\n",
    "\t\tNs.a.t <- getN_estNmat(Ns_alt, time.eval[i])\n",
    "\t\tp.ests[i] <- Ns.a.t[1]/(Ns.a.t[1] + Ns.r.t[1])\n",
    "\t\tvar.ests[i] <- ts_var_quotient(Ns.a.t[1], Ns.a.t[2], Ns.a.t[1] + Ns.r.t[1], Ns.a.t[2] + Ns.r.t[2], Ns.a.t[2])\n",
    "\t}\n",
    "\tcbind(p.ests, var.ests)\n",
    "}"
   ]
  },
  {
   "cell_type": "code",
   "execution_count": 79,
   "metadata": {
    "vscode": {
     "languageId": "r"
    }
   },
   "outputs": [],
   "source": [
    "#Function that returns a list of three vectors of coalescence times,\n",
    "#one for the whole tree (element [[1]] of the output), \n",
    "#one for the \"ref\" subtree (element [[2]] of the output), \n",
    "#and one for the \"alt\" subtree (element [[3]] of the output).\n",
    "#non-null values of mut.time override the tree_join_time() function. Can \n",
    "#be used with place = 1 to dictate the specific time at which mutation occurred.\n",
    "#units_in and units_out can be used to adjust times. For example, if trees are from\n",
    "#ms, which uses units of 4N, and units of 2N are desired for output times, then\n",
    "#set units_in = 4 and units_out = 2.\n",
    "trees_to_times <- function(tree.all, tree.ref, tree.alt, times, sure.alt.is.derived = FALSE, place = 0.5, mut.time = NULL, units_in = 2, units_out = 2){\n",
    "\tallt <- coal.times(tree.all)\n",
    "\treft <- coal.times(tree.ref)\n",
    "\taltt <- coal.times(tree.alt)\n",
    "\tif(units_in != units_out){\n",
    "\t\tallt <- allt*units_in/units_out\n",
    "\t\treft <- reft*units_in/units_out\n",
    "\t\taltt <- altt*units_in/units_out\n",
    "\t}\n",
    "\ttj <- tree_join_time(allt, reft, altt, mut.time)\n",
    "\tadd_mutation(allt, reft, altt, tj, times, sure.alt.is.derived, place)\n",
    "}"
   ]
  },
  {
   "cell_type": "code",
   "execution_count": 80,
   "metadata": {
    "vscode": {
     "languageId": "r"
    }
   },
   "outputs": [],
   "source": [
    "#Takes a list of three vectors of coalescence times,\n",
    "#one for the whole tree (element [[1]] of the output), \n",
    "#one for the \"ref\" subtree (element [[2]] of the output), \n",
    "#and one for the \"alt\" subtree (element [[3]] of the output).\n",
    "#and a vector of times at which to compute estimator.\n",
    "#at time 0 (or less), nothing has coalesced, so add one to\n",
    "#the length of each vector to get the number of tips per tree.\n",
    "#Returns a matrix with the numbers of lineages of ref allele \n",
    "#(column 1) and alt allele (column 2) at each time in times.\n",
    "#(each row of output is for the corresponding entry in times.)\n",
    "times_to_lins <- function(tree.times, times = seq(0.005, 8.005, by = 0.01)){\n",
    "\treft <- tree.times[[2]]\n",
    "\taltt <- tree.times[[3]]\n",
    "\tcount.lins <- function(x, vec){\n",
    "\t\tif(x <= 0){\n",
    "\t\t\treturn(length(vec) + 1)\t\t\n",
    "\t\t}\n",
    "\t\tsum(vec > x)\n",
    "\t}\n",
    "\tlins_ref <- sapply(times, FUN = count.lins, vec = reft )\n",
    "\tlins_alt <- sapply(times, FUN = count.lins, vec = altt )\n",
    "\tcbind(lins_ref, lins_alt)\n",
    "}"
   ]
  },
  {
   "cell_type": "code",
   "execution_count": 81,
   "metadata": {
    "vscode": {
     "languageId": "r"
    }
   },
   "outputs": [],
   "source": [
    "#Takes a matrix of lineage numbers per time and returns\n",
    "#the proportion at each timepoint in the second (alt) column.\n",
    "est_af_traj_neut <- function(lins){\n",
    "\tlins[,2]/rowSums(lins)\n",
    "}"
   ]
  },
  {
   "cell_type": "code",
   "execution_count": 82,
   "metadata": {
    "vscode": {
     "languageId": "r"
    }
   },
   "outputs": [],
   "source": [
    "#Takes a matrix of lineage numbers per time and returns\n",
    "#the binomial sampling variance of the neutral MLE of the allele frequency.\n",
    "est_af_var_neut_bin <- function(lins){\n",
    "\tj <- lins[,2]\n",
    "\tr <- rowSums(lins)\t\n",
    "\tj*(r-j)/(r^3)\n",
    "}"
   ]
  },
  {
   "cell_type": "code",
   "execution_count": 83,
   "metadata": {
    "vscode": {
     "languageId": "r"
    }
   },
   "outputs": [],
   "source": [
    "#Takes a matrix of lineage numbers per time and returns\n",
    "#the posterior variance of the neutral estimator when viewed in a Bayesian way.\n",
    "est_af_var_neut_post <- function(lins){\n",
    "\tj <- lins[,2]\n",
    "\tr <- rowSums(lins)\t\n",
    "\tj*(r-j)/((r^2)*(r+1))\n",
    "}"
   ]
  },
  {
   "cell_type": "code",
   "execution_count": 84,
   "metadata": {
    "vscode": {
     "languageId": "r"
    }
   },
   "outputs": [],
   "source": [
    "#Take in a tree (as an ape/phylo object) and stretch/shrink \n",
    "#its branch lengths randomly, in a way simulating random observation\n",
    "#of distances due to Poisson mutation.\n",
    "#theta.region is a theta parameter for a region, giving mutation rate\n",
    "#along branch in coal units. Larger values mean the tree gets warped less.\n",
    "#force.ultra forces the tree to be ultrametric.\n",
    "#tol is a number any distances less than which are replaced with a larger (but still small)\n",
    "#random number.\n",
    "#Returns a phylo object with randomized distances.\n",
    "warp_a_tree <- function(tree, theta.region, force.ultra = TRUE, tol = 1e-10){\n",
    "\tedges.unique <- unique(tree$edge.length)\n",
    "\tobserved.edges <- rnorm(length(edges.unique), edges.unique, sqrt(edges.unique / theta.region))\n",
    "\t#observed.edges[observed.edges < tol] <- runif(sum(observed.edges < tol), tol, min(observed.edges[observed.edges > tol]))\n",
    "\tobserved.edges[observed.edges < tol] <- edges.unique[observed.edges < tol]\n",
    "\ttree.warped <- tree\t\n",
    "\ttree.warped$edge.length <- observed.edges[match(tree$edge.length, edges.unique)]\n",
    "\tif(force.ultra){ #tree is forced to be ultrametric\n",
    "\t\tdismat <- cophenetic(tree.warped)\n",
    "\t\ttree.warped <- nnls.tree(dismat,tree.warped,rooted=TRUE,trace=0)\n",
    "\t}\n",
    "\ttree.warped\n",
    "}"
   ]
  },
  {
   "cell_type": "code",
   "execution_count": 85,
   "metadata": {
    "vscode": {
     "languageId": "r"
    }
   },
   "outputs": [],
   "source": [
    "#####Functions for hypothesis testing\n",
    "\n",
    "\n",
    "#Given two vectors of (possibly estimated) allele frequencies and associated effect sizes\n",
    "#(assumed to remain constant), estimate selection gradient. \n",
    "#No timing is input here, but if known, divide this estimate by the number\n",
    "#of generations to estimate the per-generation gradient.\n",
    "#change is calculated forward in time, assuming that af.1 is more recent.\n",
    "#Here's the theory:\n",
    "#assume that delta.p is distributed as N(delta.t * 2N * s * p *(1-p), delta.t * p * (1-p))\n",
    "#where p is allele frequency (at either timepoint, should be equivalent by reversibility?)\n",
    "#delta.t is in coalescent (1 = 2N gens) units, and 2N is # of chromosomes in pop (i.e. diploids).\n",
    "#This is a short-time approx to diffusion.\n",
    "#then we estimate \n",
    "#beta.est = sum(eff_sizes * delta.p) / sum(eff_sizes^2 * p *(1-p))\n",
    "#Conditional on p, we get expectation by plugging in expectation of delta.p, or\n",
    "#E(beta.est) = sum(eff_sizes * (delta.t *2N * beta * eff_sizes * p *(1-p))) / sum(eff_sizes^2 * p *(1-p))\n",
    "#            = beta * delta.t * 2N\n",
    "#That is, beta * the number of generations that have passed.\n",
    "#To make an estimator of beta itself, we can divide by the number of generations that have passed.\n",
    "#To get the variance (conditional on p), we use\n",
    "#Var(beta.est) = (1 / sum(eff_sizes^2 * p * (1 - p)))^2 * sum(eff_sizes^2 * Var(delta.p)) \n",
    "#              = delta.t / sum(eff_sizes^2 * p * (1 - p))\n",
    "#if we divide beta.est by (delta.t * 2N), then the variance is\n",
    "#Var(beta.est / (delta.t * 2N)) = \n",
    "est.sel.grad <- function(eff_sizes, af.1, af.2){\n",
    "\tdelta.p <- af.1 - af.2\n",
    "\tsum(eff_sizes * delta.p)/sum(eff_sizes^2 * af.1 * (1 - af.1))\n",
    "}"
   ]
  },
  {
   "cell_type": "code",
   "execution_count": 86,
   "metadata": {
    "vscode": {
     "languageId": "r"
    }
   },
   "outputs": [],
   "source": [
    "#delta.t is in coalescent units.\n",
    "var.sel.grad <- function(eff_sizes, af.1, delta.t){\n",
    "\tdelta.t / sum(eff_sizes^2 * af.1 * (1-af.1))\n",
    "}"
   ]
  },
  {
   "cell_type": "code",
   "execution_count": 87,
   "metadata": {
    "vscode": {
     "languageId": "r"
    }
   },
   "outputs": [],
   "source": [
    "#Returns a permutation distribution of the estimated selection gradient.\n",
    "#effect sizes are permuted, which entails an assumption\n",
    "#that there's never been selection on any of these loci, but probably\n",
    "#most sensitive to selection between the two timepoints.\n",
    "perm.sel.grad <- function(eff_sizes, af.1, af.2, n.perms = 10000){\n",
    "\treps <- matrix(rep(eff_sizes, n.perms), ncol = n.perms)\n",
    "\tperms <- apply(reps, 2, sample)\n",
    "\tapply(perms, 2, est.sel.grad, af.1 = af.1, af.2 = af.2)\n",
    "}"
   ]
  },
  {
   "cell_type": "code",
   "execution_count": 88,
   "metadata": {
    "vscode": {
     "languageId": "r"
    }
   },
   "outputs": [],
   "source": [
    "#Returns a permutation distribution of the estimated selection gradient.\n",
    "#effect sizes are sign-flipped.\n",
    "perm.sel.grad.signflip <- function(eff_sizes, af.1, af.2, n.perms = 10000){\n",
    "\treps <- matrix(rep(eff_sizes, n.perms), ncol = n.perms)\n",
    "\tsign.flip <- function(vec){\n",
    "\t\tsigns <- rbinom(length(vec), 1, 0.5)*2 - 1\n",
    "\t\tsigns * vec\n",
    "\t}\t\n",
    "\tperms <- apply(reps, 2, sign.flip)\n",
    "\tapply(perms, 2, est.sel.grad, af.1 = af.1, af.2 = af.2)\n",
    "}"
   ]
  },
  {
   "cell_type": "code",
   "execution_count": 89,
   "metadata": {
    "vscode": {
     "languageId": "r"
    }
   },
   "outputs": [],
   "source": [
    "#est.sel.grad(eff_sizes, trajs_neut[50,], trajs_neut[100,])\n",
    "#psg <- perm.sel.grad(eff_sizes, trajs_neut[50,], trajs_neut[100,])\n",
    "\n",
    "#fits a weighted ls with no intercept, relating allele-frequency\n",
    "#change to effect size\n",
    "weighted.lm.sel.grad.ni <- function(eff_sizes, af.1, af.2){\n",
    "\taf.chgs <- af.1 - af.2\n",
    "\tlm(af.chgs ~ eff_sizes - 1, weights = 1/(af.1*(1-af.1)))\n",
    "}"
   ]
  },
  {
   "cell_type": "code",
   "execution_count": 90,
   "metadata": {
    "vscode": {
     "languageId": "r"
    }
   },
   "outputs": [],
   "source": [
    "#summary(weighted.lm.sel.grad(eff_sizes, trajs_neut[50,], trajs_neut[100,]))\n",
    "#summary(weighted.lm.sel.grad(eff_sizes, trajs_est_wt_l1[50,], trajs_est_wt_l1[100,]))\n",
    "\n",
    "\n",
    "#fits a weighted ls with intercept, relating allele-frequency\n",
    "#change to effect size\n",
    "weighted.lm.sel.grad <- function(eff_sizes, af.1, af.2){\n",
    "\taf.chgs <- af.1 - af.2\n",
    "\tlm(af.chgs ~ eff_sizes, weights = 1/(af.1*(1-af.1)))\n",
    "}"
   ]
  },
  {
   "cell_type": "code",
   "execution_count": 91,
   "metadata": {
    "vscode": {
     "languageId": "r"
    }
   },
   "outputs": [],
   "source": [
    "#Runs a spearman's rho test relating allele frequency change to effect size.\n",
    "spearman.seltest <- function(eff_sizes, af.1, af.2){\n",
    "\taf.chgs <- af.1 - af.2\n",
    "\tcor.test(af.chgs, eff_sizes, method = \"spearman\")\n",
    "}"
   ]
  },
  {
   "cell_type": "code",
   "execution_count": 92,
   "metadata": {
    "vscode": {
     "languageId": "r"
    }
   },
   "outputs": [],
   "source": [
    "#spearman.seltest(eff_sizes, trajs_neut[50,], trajs_neut[100,])\n",
    "\n",
    "#computes the F matrix for a modified version of Q_x. The present\n",
    "#population replaces the \"ancestral\" population (by reversibility\n",
    "#argument). The times vector contains the times (in coalescent units)\n",
    "#at which the allele frequencies to be tested are assessed.\n",
    "#each entry f_i_ and f__i contains the ith time.\n",
    "#note that the first entry of times should not be 0.\n",
    "fmat.time <- function(times){\n",
    "\tfmat <- matrix(times[length(times)], nrow = length(times), ncol = length(times))\n",
    "\tfor(i in (length(times)-1):1){\n",
    "\t\tfmat[i,] <- times[i]\n",
    "\t\tfmat[,i] <- times[i]\n",
    "\t}\n",
    "\tfmat\n",
    "}"
   ]
  },
  {
   "cell_type": "code",
   "execution_count": 93,
   "metadata": {
    "vscode": {
     "languageId": "r"
    }
   },
   "outputs": [],
   "source": [
    "#Estimates coalescent time between two timepoints given two vectors of allele frequencies\n",
    "#corresponding to the two timepoints. The allele frequency vector af.1 is treated as fixed.\n",
    "#The estimate is based on the short-time approximation that given af.1, af.2 will be normal with\n",
    "#expectation af.1 and variance t * af.1 * (1 - af.1), where t is coalescent time.\n",
    "#Thus, time can be estimated as the sample variance of (af.1 - af.2) / sqrt(af.1 * (1 - af.1)).\n",
    "#allele frequencies that are 0 or 1 in the first timepoint (af.1) are excluded from the calculation.\n",
    "est.time <- function(af.1, af.2){\n",
    "\tchgs <- af.1 - af.2\n",
    "\tchgs <- chgs[af.1 > 0 & af.1 < 1]\n",
    "\tscale <- sqrt(af.1*(1 - af.1))\n",
    "\tscale <- scale[af.1 > 0 & af.1 < 1]\n",
    "\tvar(chgs/scale)\n",
    "}"
   ]
  },
  {
   "cell_type": "code",
   "execution_count": 94,
   "metadata": {
    "vscode": {
     "languageId": "r"
    }
   },
   "outputs": [],
   "source": [
    "#Takes a matrix with allele frequencies for distinct loci in different columns\n",
    "#and allele frequencies for distinct time points in different rows.\n",
    "#Estimates the coalescent time passed between time points (rows) using\n",
    "#est.time(). Each time estimate is independent of all the others.\n",
    "est.times.seq <- function(trajs){\n",
    "\tn.times <- nrow(trajs) - 1\n",
    "\ttimes <- numeric(n.times)\t\n",
    "\tfor(i in 1:n.times){\n",
    "\t\ttimes[i] <- est.time(trajs[i,], trajs[i+1,] )\t\n",
    "\t}\n",
    "\ttimes\n",
    "}"
   ]
  },
  {
   "cell_type": "code",
   "execution_count": 95,
   "metadata": {
    "vscode": {
     "languageId": "r"
    }
   },
   "outputs": [],
   "source": [
    "#Takes a matrix with allele frequencies for distinct loci in different columns\n",
    "#and allele frequencies for distinct time points in different rows.\n",
    "#Estimates the coalescent time passed between time points (rows) using\n",
    "#est.time(). Rather than estimating times between adjacent measurements,\n",
    "#all times are estimated with respect to the first timepoint.\n",
    "est.times.fromstart <- function(trajs){\n",
    "\tn.times <- nrow(trajs) - 1\n",
    "\ttimes <- numeric(n.times)\t\n",
    "\tfor(i in 1:n.times){\n",
    "\t\ttimes[i] <- est.time(trajs[1,], trajs[i+1,] )\t\n",
    "\t}\n",
    "\tc(times[1], diff(times)) #express as times between points, like est.times.seq()\n",
    "}"
   ]
  },
  {
   "cell_type": "code",
   "execution_count": 96,
   "metadata": {
    "vscode": {
     "languageId": "r"
    }
   },
   "outputs": [],
   "source": [
    "#Compute additive genetic variance at the present.\n",
    "add.var <- function(eff_sizes, freqs, ploidy = 2){\n",
    "\tploidy*sum((eff_sizes^2) * freqs * (1 - freqs))\n",
    "}\n",
    "\n",
    "#add.var(eff_sizes, curr.freqs)"
   ]
  },
  {
   "cell_type": "code",
   "execution_count": 97,
   "metadata": {
    "vscode": {
     "languageId": "r"
    }
   },
   "outputs": [],
   "source": [
    "#Computes modified Qx for one trajectory of estimated phenotypes.\n",
    "#traj is a trajectory of estimated avg trait values going back into \n",
    "#the past (not including present), *with the value at the present subtracted off*.\n",
    "#times are the times (in coal units) at which the mean phenotype is estimated.\n",
    "#You can pass in an fmat that's already been inverted to save a little time.\n",
    "#if the fmat is inverted already, set fmat.inv = TRUE; otherwise use the default.\n",
    "compute_Qx_traj <- function(traj, fmat, Va, f.inverted = FALSE){\n",
    "\tfma <- fmat\t\n",
    "\tif(f.inverted == FALSE){\n",
    "\t\tfma <- solve(fmat)\n",
    "\t}\t\n",
    "\t(t(traj) %*% fma %*% traj) / (2*Va)\n",
    "}\n",
    "\n",
    "#compute_Qx_traj(traj.phen.wt_l1[-1] - traj.phen.neut[1], fm, 1)\n",
    "#fm.inv <- solve(fm)\n",
    "#compute_Qx_traj(traj.phen.wt_l1[-1] - true.per.time[1], fm.inv, 1, f.inverted = TRUE)"
   ]
  },
  {
   "cell_type": "code",
   "execution_count": 98,
   "metadata": {
    "vscode": {
     "languageId": "r"
    }
   },
   "outputs": [],
   "source": [
    "#function to compute a Qx test given a matrix of allele frequency trajectories\n",
    "#and a vector of effect sizes. If timevec = NULL, the times between observations\n",
    "#are estimated according to allele-frequency variation. Otherwise they must be\n",
    "#supplied. If perms == 0, then p values are computed according to chisq distribution;\n",
    "#otherwise effect sizes are permuted to get a null distribution. \n",
    "#It's assumed that each row of trajmat\n",
    "#has allele freqs (in the same order as the eff_sizes vector) at some point in\n",
    "#time, with the most recent time in the first row and subsequent rows\n",
    "#in time order into the past. The most recent time is treated as the \"ancestral\"\n",
    "#measurement and subtracted from everything else. (Va is also computed\n",
    "#on the basis of the most recent observation). trajmat must have\n",
    "#at least two rows.\n",
    "#If time is estimated, it can be estimated either from the start (timeest = \"seq\") \n",
    "#or in sequence (\"seq\", the default),\n",
    "#meaning that each interval is estimated independently of the others.\n",
    "Qx_test <- function(trajmat, eff_sizes, timevec = NULL, perms = 1000, timeest = \"seq\"){\n",
    "\tif(is.null(timevec)){\n",
    "\t\tif(timeest == \"seq\"){\t\t\n",
    "\t\t\ttimevec <- cumsum(est.times.seq(trajmat))\n",
    "\t\t}\n",
    "\t\tif(timeest == \"fromstart\"){\n",
    "\t\t\ttimevec <- cumsum(est.times.fromstart(trajmat))\n",
    "\t\t}\t\t\t\n",
    "\t}\n",
    "\tfm <- fmat.time(timevec)\n",
    "\tfma <- solve(fm)\n",
    "\tVa <- add.var(eff_sizes, trajmat[1,])\n",
    "\ttraj.phen <- as.numeric(2 * eff_sizes %*% t(trajmat))\n",
    "\ttraj.phen.adj <- traj.phen[-1] - traj.phen[1]\t\n",
    "\tQ_stat <- as.numeric(compute_Qx_traj(traj.phen.adj, fma, Va, f.inverted = TRUE))\n",
    "\tif(perms == 0){\n",
    "\t\treturn(c(Q_stat, length(timevec), pchisq(Q_stat, length(timevec), lower.tail = FALSE)))\t\n",
    "\t}\n",
    "\tpermdist <- numeric(perms)\n",
    "\tfor(i in 1:perms){\n",
    "\t\tperm.effs <- sample(eff_sizes)\n",
    "\t\tVa.p <- add.var(perm.effs, trajmat[1,])\n",
    "\t\ttraj.phen <- as.numeric(2 * perm.effs %*% t(trajmat))\n",
    "\t\ttraj.phen.adj <- traj.phen[-1] - traj.phen[1]\n",
    "\t\tpermdist[i] <- as.numeric(compute_Qx_traj(traj.phen.adj, fma, Va.p, f.inverted = TRUE))\n",
    "\t}\n",
    "\tc(Q_stat, length(timevec), mean(permdist > Q_stat))\n",
    "}\n",
    "\n",
    "#Qx_test(trajs_neut[time %in% ((0:10)/100),], eff_sizes, perms = 10000)"
   ]
  },
  {
   "cell_type": "code",
   "execution_count": 99,
   "metadata": {
    "vscode": {
     "languageId": "r"
    }
   },
   "outputs": [],
   "source": [
    "#Using Fu and Li, Genetics (1993), Eq. 14\n",
    "#computes the variance of the sum of terminal branch lengths\n",
    "#for a tree of n leaves from a population of constant size 2N.\n",
    "#variance is for the sum terminal branch length in\n",
    "#coalescent units of 2N generations.\n",
    "#ntot is an optional argument for the total number of \n",
    "var.term.mean <- function(n){\n",
    "\tif(n == 1){\n",
    "\t\treturn(NA)\t\n",
    "\t}\t\n",
    "\tif(n == 2){c_n <- 1}\n",
    "\tif(n > 2){\n",
    "\t\ta_n <- sum(1/(1:(n-1)))\n",
    "\t\tc_n <- 2*(n * a_n - 2*(n-1))/((n-1)*(n-2))  \t\n",
    "\t}\n",
    "\tvarn <- 4 * c_n / n^2\n",
    "}"
   ]
  },
  {
   "cell_type": "code",
   "execution_count": 100,
   "metadata": {
    "vscode": {
     "languageId": "r"
    }
   },
   "outputs": [],
   "source": [
    "#Computes an analogue of tSDS from trees. In particular, computes difference in\n",
    "#mean singleton branch length in the ref trees and alt trees, scales them\n",
    "#according to an approximate variance. These are signed so that they're positive\n",
    "#if the alt allele has shorter terminal branch lengths (i.e. the alt allele has been selected up)\n",
    "#Uses Fu and Li variance, but multiplies by p^2 (est by allele freq in sample) to \n",
    "#keep in in units of 2N gens instead of 2Np gens.\n",
    "tSDS_analogue <- function(ref_trees, alt_trees){\n",
    "\textract.n <- function(x){length(x$tip.label)}\n",
    "\textract.tbl.sum <- function(x){sing.bl(branch.length.by.n.descendants(x))}\n",
    "\tnref <- sapply(ref_trees, FUN = extract.n)\n",
    "\tnalt <- sapply(alt_trees, FUN = extract.n)\n",
    "\ttermsum_ref <- sapply(ref_trees, FUN = extract.tbl.sum)\n",
    "\ttermsum_alt <- sapply(alt_trees, FUN = extract.tbl.sum)\n",
    "\ttm_ref <- termsum_ref / nref\n",
    "\ttm_alt <- termsum_alt / nalt\n",
    "\tvar.tmref <- sapply(nref, var.term.mean)*(nref/(nref+nalt))^2\n",
    "\tvar.tmalt <- sapply(nalt, var.term.mean)*(nalt/(nref+nalt))^2\n",
    "\tn <- (nref + nalt)[1]\t\n",
    "\tvar.1coal <- 4 * (2*(sum(1/(1:n)) - 1)/(n*(n-1)) - 1/(n^2)) #from Fu & Li 1993, var coal time for one branch.\n",
    "\tvar.tmref[is.na(var.tmref)] <- var.1coal\n",
    "\tvar.tmalt[is.na(var.tmalt)] <- var.1coal\n",
    "\t#var.tmalt[nref < 5 | nalt < 5] <- NA\n",
    "\t#tm_ref[is.na(var.tmref)] <- tm_ref[is.na(var.tmref)] / 2\n",
    "\t(tm_ref - tm_alt)/sqrt(var.tmref + var.tmalt)\n",
    "}\n",
    "\n",
    "\n",
    "#ts <- tSDS_analogue(anc_trees_ms, der_trees_ms)\n",
    "\n",
    "#sum(ts * sign(eff_sizes))\n",
    "\n",
    "#ts.perm <- numeric(10000)\n",
    "#for(rep in 1:10000){\n",
    "#\tts.perm[rep] <- sum(ts * sign(sample(eff_sizes)))\n",
    "#}"
   ]
  },
  {
   "cell_type": "code",
   "execution_count": 101,
   "metadata": {
    "vscode": {
     "languageId": "r"
    }
   },
   "outputs": [],
   "source": [
    "#like tSDS, but normalize by means and sds from neutral sims, which are provided by the user.\n",
    "tSDS_analogue_meansd <- function(ref_trees, alt_trees, means.daf, sds.daf){\n",
    "\textract.n <- function(x){length(x$tip.label)}\n",
    "\textract.tbl.sum <- function(x){sing.bl(branch.length.by.n.descendants(x))}\n",
    "\tnref <- sapply(ref_trees, FUN = extract.n)\n",
    "\tnalt <- sapply(alt_trees, FUN = extract.n)\n",
    "\ttermsum_ref <- sapply(ref_trees, FUN = extract.tbl.sum)\n",
    "\ttermsum_alt <- sapply(alt_trees, FUN = extract.tbl.sum)\n",
    "\ttm_ref <- termsum_ref / nref\n",
    "\ttm_alt <- termsum_alt / nalt\n",
    "\t(tm_ref - tm_alt - means.daf) / sds.daf\n",
    "}"
   ]
  },
  {
   "cell_type": "code",
   "execution_count": 102,
   "metadata": {
    "vscode": {
     "languageId": "r"
    }
   },
   "outputs": [],
   "source": [
    "#No-longer-used and unused functions.\n",
    "\n",
    "\n",
    "\n",
    "#Compute probability that \n",
    "#we shift from m0 to mt lineages of type 1\n",
    "#we shift from n0 to nt lineages of type 2\n",
    "#AND\n",
    "#the frequency of type 1 changes from p0 to pt, all in t generations.\n",
    "#assumes fixed haploid population size N and constant selection coefficient\n",
    "#s (forward in time; this computes probability of a trajectory backward, and so\n",
    "#the negative of the forward-in-time s is used) on alleles of type 1. \n",
    "#form, frac.swit, and func.user are as in time.scaling().\n",
    "logposterior.pt <- function(m0, mt, n0, nt, p0, pt, N, t, s, form = \"linear\", frac.swit = 0.5, func.user = NULL){\n",
    "\tlog_g_m <- p.ancs(m0, mt, N*p0, N*pt, t, form, frac.swit, func.user, logp = TRUE)\n",
    "\tlog_g_n <- p.ancs(n0, nt, N*(1-p0), N*(1-pt), t, form, frac.swit, func.user, logp = TRUE)\n",
    "\tmu <- p0 - s*p0*(1-p0)*t\n",
    "\tsig2 <- p0*(1-p0)*t/N\n",
    "\tlog_p_shift <- dnorm(pt, mu, sqrt(sig2), log = TRUE)\n",
    "\tlog_g_m + log_g_n + log_p_shift\n",
    "}"
   ]
  },
  {
   "cell_type": "code",
   "execution_count": 103,
   "metadata": {
    "vscode": {
     "languageId": "r"
    }
   },
   "outputs": [],
   "source": [
    "#density of the Laplace distribution.\n",
    "#code from the function of the same name in package rmutil.\n",
    "#just using this directly so that we don't have to load in the package.\n",
    "dlaplace <- function (y, m = 0, s = 1, log = FALSE) \n",
    "{\n",
    "    if (any(s <= 0)) \n",
    "        stop(\"s must be positive\")\n",
    "    tmp <- -abs(y - m)/s - log(2 * s)\n",
    "    if (!log) \n",
    "        tmp <- exp(tmp)\n",
    "    tmp\n",
    "}"
   ]
  },
  {
   "cell_type": "code",
   "execution_count": 104,
   "metadata": {
    "vscode": {
     "languageId": "r"
    }
   },
   "outputs": [],
   "source": [
    "#like logposterior.pt(), but puts a Laplace distribution on s, centered at 0\n",
    "#and with a user-supplied dispersion.\n",
    "logposterior.pt.s <- function(m0, mt, n0, nt, p0, pt, N, t, s, s.disp = 0.01/sqrt(2), form = \"linear\", frac.swit = 0.5, func.user = NULL){\n",
    "\tlog_p_s <- dlaplace(s, 0, s.disp, log = TRUE)\t\n",
    "\tlog_g_m <- p.ancs(m0, mt, N*p0, N*pt, t, form, frac.swit, func.user, logp = TRUE)\n",
    "\tlog_g_n <- p.ancs(n0, nt, N*(1-p0), N*(1-pt), t, form, frac.swit, func.user, logp = TRUE)\n",
    "\tmu <- p0 - s*p0*(1-p0)*t\n",
    "\tsig2 <- p0*(1-p0)*t/N\n",
    "\tlog_p_shift <- dnorm(pt, mu, sqrt(sig2), log = TRUE)\n",
    "\tlog_p_s + log_g_m + log_g_n + log_p_shift\n",
    "}"
   ]
  },
  {
   "cell_type": "code",
   "execution_count": 105,
   "metadata": {
    "vscode": {
     "languageId": "r"
    }
   },
   "outputs": [],
   "source": [
    "#Find the value of pt that maximizes the \"posterior\" computed in logposterior.pt().\n",
    "max.posterior.pt <- function(m0, mt, n0, nt, p0, N, t, s, form = \"linear\", frac.swit = 0.5, func.user = NULL){\n",
    "\tpost <- function(pt, m0, mt, n0, nt, p0, N, t, s, form = \"linear\", frac.swit = 0.5, func.user = NULL){\n",
    "\t\t-logposterior.pt(m0, mt, n0, nt, p0, pt, N, t, s, form, frac.swit, func.user)\n",
    "\t}\n",
    "\toptim(p0, post, method = \"Brent\", lower = 0, upper = 1, m0 = m0, mt = mt, n0 = n0,\n",
    "\t\tnt = nt, p0 = p0, N = N, t = t, s = s, form = form, frac.swit = frac.swit,\n",
    "\t\tfunc.user = func.user)$par\n",
    "}"
   ]
  },
  {
   "cell_type": "code",
   "execution_count": 106,
   "metadata": {
    "vscode": {
     "languageId": "r"
    }
   },
   "outputs": [],
   "source": [
    "#draw a sample from the posterior distribution of pt using rejection sampling.\n",
    "#candidates drawn from a uniform--probably could be made more efficient.\n",
    "#possible to provide the pt that maximizes the posterior and the value\n",
    "#of the max at that point to save time.\n",
    "post.rej.samp <- function(m0, mt, n0, nt, p0, N, t, s, max.post = NULL, argmax.post = NULL, form = \"linear\", frac.swit = 0.5, func.user = NULL){\n",
    "\tif(is.null(argmax.post)){\n",
    "\t\targmax.post <- max.posterior.pt(m0, mt, n0, nt, p0, N, t, s, form, frac.swit, func.user)\n",
    "\t}\n",
    "\tif(is.null(max.post)){\n",
    "\t\tmax.post <- exp(logposterior.pt(m0, mt, n0, nt, p0, argmax.post, N, t, s, form, frac.swit, func.user))\n",
    "\t}\n",
    "\tsamp <- NULL\n",
    "\twhile(is.null(samp)){\n",
    "\t\tcand <- runif(1, 0, 1)\n",
    "\t\tcand.post <- exp(logposterior.pt(m0, mt, n0, nt, p0, cand, N, t, s, form, frac.swit, func.user))\n",
    "\t\tcomp <- runif(1,0,1)\n",
    "\t\tif(cand.post/max.post >= comp){\n",
    "\t\t\tsamp <- cand\n",
    "\t\t}\n",
    "\t}\n",
    "\tsamp\n",
    "}"
   ]
  },
  {
   "cell_type": "code",
   "execution_count": 107,
   "metadata": {
    "vscode": {
     "languageId": "r"
    }
   },
   "outputs": [],
   "source": [
    "#Estimate allele frequency trajectory by maximizing posterior.\n",
    "#Entry i in ss is the selection coefficient (advantage of heterozygote)\n",
    "#between times[i] and times[i+1]. N is the fixed haploid pop size.\n",
    "est_af_traj_max.posterior <- function(lins, N, times = seq(0.005, 8.005, by = 0.01), p0=NULL, ss = rep(0,length(times-1)), form = \"linear\", frac.swit = 0.5, func.user = NULL){\n",
    "\ttraj <- rep(-1, length(lins[,1]))\n",
    "\ttraj[lins[,1] == 0] <- 1\n",
    "\ttraj[lins[,2] == 0] <- 0\n",
    "\ttraj[1] <- lins[1,2]/(lins[1,2] + lins[1,1])\n",
    "\tif(!is.null(p0)){traj[1] <- p0}\n",
    "\tfor(i in which(traj < 0)){\n",
    "\t\ttraj[i] <- max.posterior.pt(lins[i-1,2], lins[i,2], lins[i-1,1], lins[i,1], traj[i-1], N, N*(times[i] - times[i-1]), ss[i-1], form,frac.swit, func.user)\n",
    "\t}\n",
    "\ttraj\n",
    "}"
   ]
  },
  {
   "cell_type": "code",
   "execution_count": 108,
   "metadata": {
    "vscode": {
     "languageId": "r"
    }
   },
   "outputs": [],
   "source": [
    "##Computes a trajectory by sampling from the posterior at each timepoint, going back\n",
    "#into the past.\n",
    "est_af_traj_samp.posterior <- function(lins, N, times = seq(0.005, 8.005, by = 0.01), p0=NULL, ss = rep(0,length(times-1)), form = \"linear\", frac.swit = 0.5, func.user = NULL){\n",
    "\ttraj <- rep(-1, length(lins[,1]))\n",
    "\ttraj[lins[,1] == 0] <- 1\n",
    "\ttraj[lins[,2] == 0] <- 0\n",
    "\ttraj[1] <- lins[1,2]/(lins[1,2] + lins[1,1])\n",
    "\tif(!is.null(p0)){traj[1] <- p0}\n",
    "\tfor(i in which(traj < 0)){\n",
    "\t\ttraj[i] <- post.rej.samp(lins[i-1,2], lins[i,2], lins[i-1,1], lins[i,1], traj[i-1], N, N*(times[i] - times[i-1]), ss[i-1], form=form, frac.swit=frac.swit, func.user=func.user)\n",
    "\t}\n",
    "\ttraj\n",
    "}"
   ]
  },
  {
   "cell_type": "code",
   "execution_count": 109,
   "metadata": {
    "vscode": {
     "languageId": "r"
    }
   },
   "outputs": [],
   "source": [
    "#Produce 1-generation transition matrix for Wright-Fisher model.\n",
    "#N is haploid population size (so use 2*N for diploids)\n",
    "#s is selection coefficient\n",
    "wf_transition_1gen <- function(N, s = 0){\n",
    "\tps <- rep((0:N)/N, N+1)\n",
    "\tqs <- (ps*(1+s))/(1 + ps*s)\n",
    "\tns <- rep(0:N, each = N+1)\n",
    "\tmatrix(dbinom(ns, N, qs), nrow = N+1, ncol = N+1)\n",
    "}"
   ]
  },
  {
   "cell_type": "code",
   "execution_count": 110,
   "metadata": {
    "vscode": {
     "languageId": "r"
    }
   },
   "outputs": [],
   "source": [
    "#Given an eigendecomposition of a 1-generation transition matrix\n",
    "#(produced by calling eigen()), produces the t-generation\n",
    "#transition matrix\n",
    "wf_transition_tgen <- function(eig, t, P.inv = NULL){\n",
    "\tP <- eig$vectors\n",
    "\tD <- diag(eig$values^t)\n",
    "\tif(is.null(P.inv)){P.inv <- solve(P)}\n",
    "\ttrans <- P %*% D %*% P.inv\n",
    "\tRe(trans)\n",
    "}"
   ]
  },
  {
   "cell_type": "code",
   "execution_count": 111,
   "metadata": {
    "vscode": {
     "languageId": "r"
    }
   },
   "outputs": [],
   "source": [
    "#Compute the probability that a new mutation is lost before ever reaching/exceeding\n",
    "#a target frequency.\n",
    "p_quickloss <- function(N, s = 0, targ = 1/1000){\n",
    "\tif(1/N >= targ){return(0)}\n",
    "\ttarg.n <- ceiling(N*targ)\n",
    "\tps <- rep((0:targ.n)/N, targ.n+1)\n",
    "\tqs <- (ps*(1+s))/(1 + ps*s)\n",
    "\tns <- rep(0:targ.n, each = targ.n + 1)\n",
    "\tt.1gen <- matrix(dbinom(ns, N, qs), nrow = targ.n+1, ncol = targ.n+1)\n",
    "\tt.1gen[nrow(t.1gen),] <- c(rep(0, targ.n), 1)\n",
    "\tt.1gen[,ncol(t.1gen)] <- 1 - rowSums(t.1gen[,1:targ.n])\t\n",
    "\teig.ob <- eigen(t.1gen)\n",
    "\twf_transition_tgen(eig.ob, targ.n*10)[2,1]\n",
    "}"
   ]
  },
  {
   "cell_type": "code",
   "execution_count": 112,
   "metadata": {
    "vscode": {
     "languageId": "r"
    }
   },
   "outputs": [],
   "source": [
    "p_samp_g0 <- function(N, t, n, s){\n",
    "\twf.1g <- wf_transition_1gen(N, s)\n",
    "\teig <- eigen(wf.1g)\n",
    "\twf.tg <- wf_transition_tgen(eig, t)\n",
    "\tp_pop <- wf.tg[2,]\n",
    "\ti <- 0:N\n",
    "\t1 - sum(p_pop * (1 - i/N)^n)\n",
    "}"
   ]
  },
  {
   "cell_type": "markdown",
   "metadata": {},
   "source": [
    "# loop_pheno_sims_reps.R\""
   ]
  },
  {
   "cell_type": "code",
   "execution_count": 113,
   "metadata": {
    "vscode": {
     "languageId": "r"
    }
   },
   "outputs": [],
   "source": [
    "#source(\"loop_pheno_sims_reps.R\")"
   ]
  },
  {
   "cell_type": "code",
   "execution_count": 114,
   "metadata": {
    "vscode": {
     "languageId": "r"
    }
   },
   "outputs": [],
   "source": [
    "#complete phenotype simulations by looping through parameter values and calling \n",
    "#pheno_sim_1iter.R for each set of parameters.\n",
    "N <- 10000\n",
    "herit <- 1\n",
    "out_dir <- \"out/\"\n",
    "\n",
    "sel.intenses <- .005\n",
    "n.locis <- 20\n",
    "n_chromss <- 30\n",
    "ts <- 0.04\n",
    "t.offs <- 0.02\n",
    "phen_nums <- 1:5 #1 number for each rep we want to do at each combination of parameters\n",
    "\n",
    "traj.fn <- \"temp/temp.txt\"\n",
    "msout.fn <- \"temp/ms_out.txt\"\n",
    "rent_in_fn <- \"temp/rent_in.txt\""
   ]
  },
  {
   "cell_type": "code",
   "execution_count": 127,
   "metadata": {
    "vscode": {
     "languageId": "r"
    }
   },
   "outputs": [],
   "source": [
    "#helper_fn <- \"../../helper_functions_coal_sel.R\"\n",
    "#source(helper_fn) #read in helper functions and load ape package"
   ]
  },
  {
   "cell_type": "code",
   "execution_count": 118,
   "metadata": {
    "vscode": {
     "languageId": "r"
    }
   },
   "outputs": [],
   "source": [
    "#ms_dir <- \"../../msseldir/\"\n",
    "#rentplus_fn <- \"../../RentPlus.jar\"\n",
    "ms_dir <- \"rhps_coalescent/msseldir/\"\n",
    "rentplus_fn <- \"rhps_coalescent/RentPlus.jar\"\n",
    "len_hap <- 200000 #the length (in base pairs) of the haplotype -- short because \n",
    "#we are not worrying about recombination--just need the sel site.\n",
    "sel_site <- 100000 #the position of the selected site in the haplotype\n",
    "u <- 2e-8 #the neutral mutation rate per base pair/generation\n",
    "r <- 2.5e-8 #the recombination rate per base pair/generation\n",
    "options(scipen = 999) #disable scientific notation so that parameters passed to ms are given as numbers\n",
    "sd.trait <- 1"
   ]
  },
  {
   "cell_type": "code",
   "execution_count": 126,
   "metadata": {
    "vscode": {
     "languageId": "r"
    }
   },
   "outputs": [
    {
     "name": "stderr",
     "output_type": "stream",
     "text": [
      "Warning message in writeLines(head.lines, fileConnection):\n",
      "“cannot open file 'temp/temp.txt': No such file or directory”\n"
     ]
    },
    {
     "ename": "ERROR",
     "evalue": "Error in writeLines(head.lines, fileConnection): cannot open the connection\n",
     "output_type": "error",
     "traceback": [
      "Error in writeLines(head.lines, fileConnection): cannot open the connection\nTraceback:\n",
      "1. source(\"rhps_coalescent/small_example/pheno_sim_1iter.R\")",
      "2. withVisible(eval(ei, envir))",
      "3. eval(ei, envir)",
      "4. eval(ei, envir)",
      "5. write.traj(traj.fn, trajs[[i]])",
      "6. writeLines(head.lines, fileConnection)   # at line 13 of file <text>"
     ]
    }
   ],
   "source": [
    "time <- c(seq(0, 4, by = 0.001))\n",
    "pars <- expand.grid(sel.intenses, n.locis, n_chromss, ts, t.offs, phen_nums)\n",
    "\n",
    "for(k in 1:dim(pars)[1]){\n",
    "\tsel.intens <- pars[k,1]\n",
    "\tn.loci <- pars[k,2]\n",
    "\tn_chroms <- pars[k,3]\n",
    "\tt <- pars[k,4]\n",
    "\tt.off <- pars[k,5]\n",
    "\tphen_num <- pars[k,6]\n",
    "\tsource(\"rhps_coalescent/small_example/pheno_sim_1iter.R\")\n",
    "\t#source(\"../pheno_sim_1iter_norent.R\")\n",
    "\tprint(paste(\"trial\", as.character(phen_num), \"complete.\"))\n",
    "}\n",
    "\n",
    "save.image(paste(\"sim_trees\", \".RData\", sep = \"\"))\n",
    "#simulataion_treesができないのはあたりまえ "
   ]
  },
  {
   "cell_type": "code",
   "execution_count": 129,
   "metadata": {
    "vscode": {
     "languageId": "r"
    }
   },
   "outputs": [
    {
     "name": "stderr",
     "output_type": "stream",
     "text": [
      "Warning message in readChar(con, 5L, useBytes = TRUE):\n",
      "“cannot open compressed file 'out/loci20_sintens0.005_N10000_nchr30_ton0.04_toff0.02_herit1_1.RData', probable reason 'No such file or directory'”\n"
     ]
    },
    {
     "ename": "ERROR",
     "evalue": "Error in readChar(con, 5L, useBytes = TRUE): cannot open the connection\n",
     "output_type": "error",
     "traceback": [
      "Error in readChar(con, 5L, useBytes = TRUE): cannot open the connection\nTraceback:\n",
      "1. load(fn)",
      "2. readChar(con, 5L, useBytes = TRUE)"
     ]
    }
   ],
   "source": [
    "err.array <- array(dim = c(length(time),5,dim(pars)[1]))   \n",
    "err.std.array <- array(dim = c(length(time),3,dim(pars)[1]))  \n",
    "qxtest_mat <- matrix(-1, nrow = dim(pars)[1], ncol = 12)\n",
    "\n",
    "err.array.rent <- array(dim = c(length(time),3,dim(pars)[1]))   \n",
    "err.std.array.rent <- array(dim = c(length(time),3,dim(pars)[1]))  \n",
    "qxtest_mat_rent <- matrix(-1, nrow = dim(pars)[1], ncol = 12)\n",
    "mat.true.phentrajs <- matrix(nrow = length(time), ncol = dim(pars)[1])\n",
    "\n",
    "for(iter in 1:dim(pars)[1]){\n",
    "\tsel.intens <- pars[iter,1]\n",
    "\tn.loci <- pars[iter,2]\n",
    "\tn_chroms <- pars[iter,3]\n",
    "\tt <- pars[iter,4]\n",
    "\tt.off <- pars[iter,5]\n",
    "\tphen_num <- pars[iter,6]\n",
    "\tfn <- paste(out_dir, \"loci\", as.character(n.loci), \"_sintens\", as.character(round(sel.intens,3)), \"_N\", as.character(N), \"_nchr\", as.character(n_chroms), \"_ton\", as.character(t), \"_toff\", as.character(t.off), \"_herit\", as.character(herit), \"_\", as.character(phen_num), \".RData\", sep = \"\")\n",
    "\t#fnはどこにあるんだ？\n",
    "    load(fn)\n",
    "\tsource(\"../analyze_sim_true.R\")\n",
    "\tsource(\"../analyze_sim_rent.R\")\n",
    "\tprint(paste(\"trial\", as.character(iter), \"complete.\"))\n",
    "}\n",
    "\n",
    "save.image(paste(\"analyzed_trees\", \".RData\", sep = \"\"))\n",
    "\n",
    "source(\"make_figures.R\")"
   ]
  },
  {
   "cell_type": "markdown",
   "metadata": {},
   "source": [
    "# ここまでのまとめ"
   ]
  },
  {
   "cell_type": "markdown",
   "metadata": {},
   "source": [
    "必要なファイルがないのでところどころ動かない。\n",
    "\n",
    "何が足らないんだろうか…"
   ]
  },
  {
   "cell_type": "markdown",
   "metadata": {},
   "source": [
    "→　EdgeCoop2019Bの方に続き（使えそうなスクリプト探し）"
   ]
  }
 ],
 "metadata": {
  "kernelspec": {
   "display_name": "R",
   "language": "R",
   "name": "ir"
  },
  "language_info": {
   "codemirror_mode": "r",
   "file_extension": ".r",
   "mimetype": "text/x-r-source",
   "name": "R",
   "pygments_lexer": "r",
   "version": "4.3.1"
  }
 },
 "nbformat": 4,
 "nbformat_minor": 2
}
