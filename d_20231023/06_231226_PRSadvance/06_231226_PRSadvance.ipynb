{
 "cells": [
  {
   "cell_type": "markdown",
   "metadata": {},
   "source": [
    "# 06_231226_PRSadvance\n",
    "\n",
    "******************************"
   ]
  },
  {
   "cell_type": "markdown",
   "metadata": {},
   "source": [
    "## 使用するデータのチェック"
   ]
  },
  {
   "cell_type": "code",
   "execution_count": 12,
   "metadata": {
    "vscode": {
     "languageId": "shellscript"
    }
   },
   "outputs": [
    {
     "name": "stdout",
     "output_type": "stream",
     "text": [
      "/home/hmiwa/hmiwa1/storage/hmiwa-lab/05_231211_RePRSTrials/targetdata/Tongan.QC.FIXP.phased.annotated.vcf.gz\n"
     ]
    }
   ],
   "source": [
    "%%bash\n",
    "#PRSを計算した時にQCしたトンガサンプルのチェック\n",
    "ls ~/hmiwa1/storage/hmiwa-lab/05_231211_RePRSTrials/targetdata/Tongan.QC.FIXP.phased.annotated.vcf.gz"
   ]
  },
  {
   "cell_type": "code",
   "execution_count": 18,
   "metadata": {
    "vscode": {
     "languageId": "shellscript"
    }
   },
   "outputs": [
    {
     "name": "stdout",
     "output_type": "stream",
     "text": [
      "analysis\n",
      "testdir\n"
     ]
    }
   ],
   "source": [
    "%%bash\n",
    "cd ~/hmiwa1/storage/hmiwa-lab/06_231226_PRSadvance\n",
    "mkdir -p analysis\n",
    "ls"
   ]
  },
  {
   "cell_type": "code",
   "execution_count": 22,
   "metadata": {
    "vscode": {
     "languageId": "shellscript"
    }
   },
   "outputs": [
    {
     "name": "stdout",
     "output_type": "stream",
     "text": [
      "/home/hmiwa/hmiwa/hmiwa-lab/d_20231023/06_231226_PRSadvance\n",
      "/home/hmiwa/hmiwa1/storage/hmiwa-lab/06_231226_PRSadvance\n"
     ]
    }
   ],
   "source": [
    "%%bash\n",
    "pwd\n",
    "cd ~/hmiwa1/storage/hmiwa-lab/06_231226_PRSadvance\n",
    "pwd\n",
    "cp ~/hmiwa1/storage/hmiwa-lab/05_231211_RePRSTrials/targetdata/Tongan.QC.FIXP.phased.annotated.vcf.gz* analysis/"
   ]
  },
  {
   "cell_type": "code",
   "execution_count": 26,
   "metadata": {
    "vscode": {
     "languageId": "shellscript"
    }
   },
   "outputs": [
    {
     "name": "stdout",
     "output_type": "stream",
     "text": [
      "Tongan.QC.FIXP.phased.annotated.vcf.gz\n",
      "Tongan.QC.FIXP.phased.annotated.vcf.gz.csi\n"
     ]
    }
   ],
   "source": [
    "%%bash\n",
    "ls ~/hmiwa1/storage/hmiwa-lab/06_231226_PRSadvance/analysis/"
   ]
  },
  {
   "cell_type": "code",
   "execution_count": 28,
   "metadata": {
    "vscode": {
     "languageId": "shellscript"
    }
   },
   "outputs": [
    {
     "name": "stdout",
     "output_type": "stream",
     "text": [
      "/home/hmiwa/hmiwa1/storage/hmiwa-lab/05_231211_RePRSTrials/Basedata/BMI_Eastern_Asian.QC2.txt\n"
     ]
    }
   ],
   "source": [
    "%%bash\n",
    "#PRSを計算した時に使ったGWAS結果のチェック\n",
    "ls ~/hmiwa1/storage/hmiwa-lab/05_231211_RePRSTrials/Basedata/BMI_Eastern_Asian.QC2.txt"
   ]
  },
  {
   "cell_type": "code",
   "execution_count": 29,
   "metadata": {
    "vscode": {
     "languageId": "shellscript"
    }
   },
   "outputs": [],
   "source": [
    "%%bash\n",
    "cd ~/hmiwa1/storage/hmiwa-lab/06_231226_PRSadvance\n",
    "cp ~/hmiwa1/storage/hmiwa-lab/05_231211_RePRSTrials/Basedata/BMI_Eastern_Asian.QC2.txt analysis/"
   ]
  },
  {
   "cell_type": "markdown",
   "metadata": {},
   "source": [
    "関数定義コードも用意しておこう。"
   ]
  },
  {
   "cell_type": "code",
   "execution_count": 32,
   "metadata": {
    "vscode": {
     "languageId": "shellscript"
    }
   },
   "outputs": [
    {
     "name": "stdout",
     "output_type": "stream",
     "text": [
      "/home/hmiwa/hmiwa1/storage/hmiwa-lab/06_231226_PRSadvance/testdir/helper_functions_coal_sel.R\n"
     ]
    }
   ],
   "source": [
    "%%bash\n",
    "ls ~/hmiwa1/storage/hmiwa-lab/06_231226_PRSadvance/testdir/helper_functions_coal_sel.R"
   ]
  },
  {
   "cell_type": "code",
   "execution_count": 37,
   "metadata": {
    "vscode": {
     "languageId": "shellscript"
    }
   },
   "outputs": [
    {
     "name": "stdout",
     "output_type": "stream",
     "text": [
      "/home/hmiwa/hmiwa1/storage/hmiwa-lab/06_231226_PRSadvance\n",
      "analysis\n",
      "testdir\n"
     ]
    }
   ],
   "source": [
    "%%bash\n",
    "cd ~/hmiwa1/storage/hmiwa-lab/06_231226_PRSadvance/\n",
    "pwd\n",
    "ls\n",
    "cp testdir/helper_functions_coal_sel.R analysis/"
   ]
  },
  {
   "cell_type": "markdown",
   "metadata": {},
   "source": [
    "RentPlusも必要ですね"
   ]
  },
  {
   "cell_type": "code",
   "execution_count": 48,
   "metadata": {
    "vscode": {
     "languageId": "shellscript"
    }
   },
   "outputs": [
    {
     "name": "stdout",
     "output_type": "stream",
     "text": [
      "/home/hmiwa/hmiwa1/storage/hmiwa-lab/06_231226_PRSadvance/testdir/RentPlus.jar\n"
     ]
    }
   ],
   "source": [
    "%%bash\n",
    "ls ~/hmiwa1/storage/hmiwa-lab/06_231226_PRSadvance/testdir/RentPlus.jar"
   ]
  },
  {
   "cell_type": "code",
   "execution_count": 49,
   "metadata": {
    "vscode": {
     "languageId": "shellscript"
    }
   },
   "outputs": [
    {
     "name": "stdout",
     "output_type": "stream",
     "text": [
      "/home/hmiwa/hmiwa1/storage/hmiwa-lab/06_231226_PRSadvance\n",
      "analysis\n",
      "testdir\n"
     ]
    }
   ],
   "source": [
    "%%bash\n",
    "cd ~/hmiwa1/storage/hmiwa-lab/06_231226_PRSadvance/\n",
    "pwd\n",
    "ls\n",
    "cp testdir/RentPlus.jar analysis/"
   ]
  },
  {
   "cell_type": "markdown",
   "metadata": {},
   "source": [
    "## 解析開始"
   ]
  },
  {
   "cell_type": "markdown",
   "metadata": {},
   "source": [
    "### 解析データ形式等のチェック"
   ]
  },
  {
   "cell_type": "code",
   "execution_count": 43,
   "metadata": {
    "vscode": {
     "languageId": "shellscript"
    }
   },
   "outputs": [
    {
     "name": "stdout",
     "output_type": "stream",
     "text": [
      "analysis\n",
      "testdir\n"
     ]
    }
   ],
   "source": [
    "%%bash\n",
    "cd ~/hmiwa1/storage/hmiwa-lab/06_231226_PRSadvance/\n",
    "ls"
   ]
  },
  {
   "cell_type": "code",
   "execution_count": 44,
   "metadata": {
    "vscode": {
     "languageId": "shellscript"
    }
   },
   "outputs": [
    {
     "name": "stdout",
     "output_type": "stream",
     "text": [
      "GBR_IDS.txt\n",
      "height_lr_3ests.pdf\n",
      "height_lr_3ests.tif\n",
      "helper_functions_coal_sel.R\n",
      "neale.height.best.snp.tsv\n",
      "rent_1700_trees_1KG_height_UKB_neale_processed_072318.RData\n",
      "rent_1700_trees_1KG_neale_height_071918.RData\n",
      "RentPlus.jar\n",
      "rentplus_test.RData\n",
      "rentplus_trees_1700_height_1KG.R\n",
      "Rplots.pdf\n",
      "temp\n"
     ]
    }
   ],
   "source": [
    "%%bash\n",
    "cd ~/hmiwa1/storage/hmiwa-lab/06_231226_PRSadvance/testdir\n",
    "ls"
   ]
  },
  {
   "cell_type": "code",
   "execution_count": 46,
   "metadata": {
    "vscode": {
     "languageId": "shellscript"
    }
   },
   "outputs": [
    {
     "name": "stdout",
     "output_type": "stream",
     "text": [
      "HG00096\n",
      "HG00097\n",
      "HG00099\n",
      "HG00100\n",
      "HG00101\n",
      "HG00102\n",
      "HG00103\n",
      "HG00105\n",
      "HG00106\n",
      "HG00107\n"
     ]
    }
   ],
   "source": [
    "%%bash\n",
    "cd ~/hmiwa1/storage/hmiwa-lab/06_231226_PRSadvance/testdir\n",
    "#id_file #sample name\n",
    "head GBR_IDS.txt"
   ]
  },
  {
   "cell_type": "code",
   "execution_count": 51,
   "metadata": {
    "vscode": {
     "languageId": "shellscript"
    }
   },
   "outputs": [
    {
     "name": "stdout",
     "output_type": "stream",
     "text": [
      "CHROM\tPOS\tA1\tA2\tCHROM:POS\trsid\tnCompleteSamples\tAC\tytx\tbeta\tse\ttstat\tpval\tBlock\n",
      "1\t958248\tA\tG\t1:958248\trs2001744\t336474\t2.47091e+05\t1.22927e+04\t1.02295e-02\t1.79298e-03\t5.70527e+00\t1.16258e-08\t1\n",
      "1\t2142518\tA\tC\t1:2142518\trs380190\t336474\t1.87183e+05\t1.05732e+04\t1.59487e-02\t1.94239e-03\t8.21087e+00\t2.20363e-16\t2\n",
      "1\t3769276\tG\tC\t1:3769276\trs6668213\t336474\t4.63182e+05\t1.88966e+04\t-9.13069e-03\t1.86504e-03\t-4.89570e+00\t9.79993e-07\t3\n",
      "1\t4986470\tG\tT\t1:4986470\trs2411956\t336474\t9.23723e+04\t3.15752e+03\t-9.00346e-03\t2.53800e-03\t-3.54746e+00\t3.89012e-04\t4\n"
     ]
    }
   ],
   "source": [
    "%%bash\n",
    "cd ~/hmiwa1/storage/hmiwa-lab/06_231226_PRSadvance/testdir\n",
    "#height_fn #GWAS results\n",
    "head -n 5 neale.height.best.snp.tsv"
   ]
  },
  {
   "cell_type": "markdown",
   "metadata": {},
   "source": [
    "形式が違うので使われている場面をチェックします。\n",
    "\n",
    "```R\n",
    "#height_fnはここだけらしい\n",
    "mark.dat <- fread(height_fn, head = TRUE)\n",
    "```\n",
    "\n",
    "```R\n",
    "#mark.datを参照する行 #スクリプト構造無視\n",
    "nmarks <- nrow(mark.dat)\n",
    "snps.fail1 <- rep(0, dim(mark.dat)[1])\n",
    "snps.miss <- rep(0, dim(mark.dat)[1])\n",
    "for(i in 1:dim(mark.dat)[1]){\n",
    "   snp <- mark.dat[i,6]\n",
    "   pos.snp <- mark.dat[i,2]\n",
    "   chr <- mark.dat[i,1]\n",
    "mean(as.character(mark.dat$A2) == info.sites.char[,4]) #allele1 matches A2 in each case, polarization good.\n",
    "mean(as.character(mark.dat$rsid) == info.sites.char[,1]) #check that the rsids match\n",
    "beta <- mark.dat$beta\n",
    "rsID <- mark.dat$rsid\n",
    "```\n",
    "\n",
    "neale.height.best.snp.tsvのheader\n",
    "1. CHROM\t\n",
    "2. POS\t\n",
    "3. A1\t\n",
    "4. A2\t\n",
    "5. CHROM:POS\t\n",
    "6. rsid\t\n",
    "7. nCompleteSamples\t\n",
    "8. AC\t\n",
    "9. ytx\t\n",
    "10. beta\t\n",
    "11. se\t\n",
    "12. tstat\t\n",
    "13. pval\t\n",
    "14. Block"
   ]
  }
 ],
 "metadata": {
  "kernelspec": {
   "display_name": "base",
   "language": "python",
   "name": "python3"
  },
  "language_info": {
   "codemirror_mode": {
    "name": "ipython",
    "version": 3
   },
   "file_extension": ".py",
   "mimetype": "text/x-python",
   "name": "python",
   "nbconvert_exporter": "python",
   "pygments_lexer": "ipython3",
   "version": "3.11.5"
  }
 },
 "nbformat": 4,
 "nbformat_minor": 2
}
