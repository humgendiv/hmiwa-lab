{
 "cells": [
  {
   "cell_type": "markdown",
   "metadata": {},
   "source": [
    "# 06_231226_PRSadvance\n",
    "\n",
    "******************************"
   ]
  },
  {
   "cell_type": "markdown",
   "metadata": {},
   "source": [
    "## 使用するデータのチェック"
   ]
  },
  {
   "cell_type": "code",
   "execution_count": 12,
   "metadata": {
    "vscode": {
     "languageId": "shellscript"
    }
   },
   "outputs": [
    {
     "name": "stdout",
     "output_type": "stream",
     "text": [
      "/home/hmiwa/hmiwa1/storage/hmiwa-lab/05_231211_RePRSTrials/targetdata/Tongan.QC.FIXP.phased.annotated.vcf.gz\n"
     ]
    }
   ],
   "source": [
    "%%bash\n",
    "#PRSを計算した時にQCしたトンガサンプルのチェック\n",
    "ls ~/hmiwa1/storage/hmiwa-lab/05_231211_RePRSTrials/targetdata/Tongan.QC.FIXP.phased.annotated.vcf.gz"
   ]
  },
  {
   "cell_type": "code",
   "execution_count": 18,
   "metadata": {
    "vscode": {
     "languageId": "shellscript"
    }
   },
   "outputs": [
    {
     "name": "stdout",
     "output_type": "stream",
     "text": [
      "analysis\n",
      "testdir\n"
     ]
    }
   ],
   "source": [
    "%%bash\n",
    "cd ~/hmiwa1/storage/hmiwa-lab/06_231226_PRSadvance\n",
    "mkdir -p analysis\n",
    "ls"
   ]
  },
  {
   "cell_type": "code",
   "execution_count": 22,
   "metadata": {
    "vscode": {
     "languageId": "shellscript"
    }
   },
   "outputs": [
    {
     "name": "stdout",
     "output_type": "stream",
     "text": [
      "/home/hmiwa/hmiwa/hmiwa-lab/d_20231023/06_231226_PRSadvance\n",
      "/home/hmiwa/hmiwa1/storage/hmiwa-lab/06_231226_PRSadvance\n"
     ]
    }
   ],
   "source": [
    "%%bash\n",
    "pwd\n",
    "cd ~/hmiwa1/storage/hmiwa-lab/06_231226_PRSadvance\n",
    "pwd\n",
    "cp ~/hmiwa1/storage/hmiwa-lab/05_231211_RePRSTrials/targetdata/Tongan.QC.FIXP.phased.annotated.vcf.gz* analysis/"
   ]
  },
  {
   "cell_type": "code",
   "execution_count": 26,
   "metadata": {
    "vscode": {
     "languageId": "shellscript"
    }
   },
   "outputs": [
    {
     "name": "stdout",
     "output_type": "stream",
     "text": [
      "Tongan.QC.FIXP.phased.annotated.vcf.gz\n",
      "Tongan.QC.FIXP.phased.annotated.vcf.gz.csi\n"
     ]
    }
   ],
   "source": [
    "%%bash\n",
    "ls ~/hmiwa1/storage/hmiwa-lab/06_231226_PRSadvance/analysis/"
   ]
  },
  {
   "cell_type": "code",
   "execution_count": 28,
   "metadata": {
    "vscode": {
     "languageId": "shellscript"
    }
   },
   "outputs": [
    {
     "name": "stdout",
     "output_type": "stream",
     "text": [
      "/home/hmiwa/hmiwa1/storage/hmiwa-lab/05_231211_RePRSTrials/Basedata/BMI_Eastern_Asian.QC2.txt\n"
     ]
    }
   ],
   "source": [
    "%%bash\n",
    "#PRSを計算した時に使ったGWAS結果のチェック\n",
    "ls ~/hmiwa1/storage/hmiwa-lab/05_231211_RePRSTrials/Basedata/BMI_Eastern_Asian.QC2.txt"
   ]
  },
  {
   "cell_type": "code",
   "execution_count": 29,
   "metadata": {
    "vscode": {
     "languageId": "shellscript"
    }
   },
   "outputs": [],
   "source": [
    "%%bash\n",
    "cd ~/hmiwa1/storage/hmiwa-lab/06_231226_PRSadvance\n",
    "cp ~/hmiwa1/storage/hmiwa-lab/05_231211_RePRSTrials/Basedata/BMI_Eastern_Asian.QC2.txt analysis/"
   ]
  },
  {
   "cell_type": "markdown",
   "metadata": {},
   "source": [
    "関数定義コードも用意しておこう。"
   ]
  },
  {
   "cell_type": "code",
   "execution_count": 32,
   "metadata": {
    "vscode": {
     "languageId": "shellscript"
    }
   },
   "outputs": [
    {
     "name": "stdout",
     "output_type": "stream",
     "text": [
      "/home/hmiwa/hmiwa1/storage/hmiwa-lab/06_231226_PRSadvance/testdir/helper_functions_coal_sel.R\n"
     ]
    }
   ],
   "source": [
    "%%bash\n",
    "ls ~/hmiwa1/storage/hmiwa-lab/06_231226_PRSadvance/testdir/helper_functions_coal_sel.R"
   ]
  },
  {
   "cell_type": "code",
   "execution_count": 37,
   "metadata": {
    "vscode": {
     "languageId": "shellscript"
    }
   },
   "outputs": [
    {
     "name": "stdout",
     "output_type": "stream",
     "text": [
      "/home/hmiwa/hmiwa1/storage/hmiwa-lab/06_231226_PRSadvance\n",
      "analysis\n",
      "testdir\n"
     ]
    }
   ],
   "source": [
    "%%bash\n",
    "cd ~/hmiwa1/storage/hmiwa-lab/06_231226_PRSadvance/\n",
    "pwd\n",
    "ls\n",
    "cp testdir/helper_functions_coal_sel.R analysis/"
   ]
  },
  {
   "cell_type": "markdown",
   "metadata": {},
   "source": [
    "RentPlusも必要ですね"
   ]
  },
  {
   "cell_type": "code",
   "execution_count": 48,
   "metadata": {
    "vscode": {
     "languageId": "shellscript"
    }
   },
   "outputs": [
    {
     "name": "stdout",
     "output_type": "stream",
     "text": [
      "/home/hmiwa/hmiwa1/storage/hmiwa-lab/06_231226_PRSadvance/testdir/RentPlus.jar\n"
     ]
    }
   ],
   "source": [
    "%%bash\n",
    "ls ~/hmiwa1/storage/hmiwa-lab/06_231226_PRSadvance/testdir/RentPlus.jar"
   ]
  },
  {
   "cell_type": "code",
   "execution_count": 49,
   "metadata": {
    "vscode": {
     "languageId": "shellscript"
    }
   },
   "outputs": [
    {
     "name": "stdout",
     "output_type": "stream",
     "text": [
      "/home/hmiwa/hmiwa1/storage/hmiwa-lab/06_231226_PRSadvance\n",
      "analysis\n",
      "testdir\n"
     ]
    }
   ],
   "source": [
    "%%bash\n",
    "cd ~/hmiwa1/storage/hmiwa-lab/06_231226_PRSadvance/\n",
    "pwd\n",
    "ls\n",
    "cp testdir/RentPlus.jar analysis/"
   ]
  },
  {
   "cell_type": "markdown",
   "metadata": {},
   "source": [
    "## 解析開始"
   ]
  },
  {
   "cell_type": "markdown",
   "metadata": {},
   "source": [
    "### 解析データ形式等のチェック"
   ]
  },
  {
   "cell_type": "code",
   "execution_count": 43,
   "metadata": {
    "vscode": {
     "languageId": "shellscript"
    }
   },
   "outputs": [
    {
     "name": "stdout",
     "output_type": "stream",
     "text": [
      "analysis\n",
      "testdir\n"
     ]
    }
   ],
   "source": [
    "%%bash\n",
    "cd ~/hmiwa1/storage/hmiwa-lab/06_231226_PRSadvance/\n",
    "ls"
   ]
  },
  {
   "cell_type": "code",
   "execution_count": 57,
   "metadata": {
    "vscode": {
     "languageId": "shellscript"
    }
   },
   "outputs": [
    {
     "name": "stdout",
     "output_type": "stream",
     "text": [
      "BMI_Eastern_Asian.QC2.txt\n",
      "helper_functions_coal_sel.R\n",
      "RentPlus.jar\n",
      "Tongan.QC.FIXP.phased.annotated.vcf.gz\n",
      "Tongan.QC.FIXP.phased.annotated.vcf.gz.csi\n"
     ]
    }
   ],
   "source": [
    "%%bash\n",
    "cd ~/hmiwa1/storage/hmiwa-lab/06_231226_PRSadvance/\n",
    "ls analysis"
   ]
  },
  {
   "cell_type": "code",
   "execution_count": 44,
   "metadata": {
    "vscode": {
     "languageId": "shellscript"
    }
   },
   "outputs": [
    {
     "name": "stdout",
     "output_type": "stream",
     "text": [
      "GBR_IDS.txt\n",
      "height_lr_3ests.pdf\n",
      "height_lr_3ests.tif\n",
      "helper_functions_coal_sel.R\n",
      "neale.height.best.snp.tsv\n",
      "rent_1700_trees_1KG_height_UKB_neale_processed_072318.RData\n",
      "rent_1700_trees_1KG_neale_height_071918.RData\n",
      "RentPlus.jar\n",
      "rentplus_test.RData\n",
      "rentplus_trees_1700_height_1KG.R\n",
      "Rplots.pdf\n",
      "temp\n"
     ]
    }
   ],
   "source": [
    "%%bash\n",
    "cd ~/hmiwa1/storage/hmiwa-lab/06_231226_PRSadvance/testdir\n",
    "ls"
   ]
  },
  {
   "cell_type": "code",
   "execution_count": 46,
   "metadata": {
    "vscode": {
     "languageId": "shellscript"
    }
   },
   "outputs": [
    {
     "name": "stdout",
     "output_type": "stream",
     "text": [
      "HG00096\n",
      "HG00097\n",
      "HG00099\n",
      "HG00100\n",
      "HG00101\n",
      "HG00102\n",
      "HG00103\n",
      "HG00105\n",
      "HG00106\n",
      "HG00107\n"
     ]
    }
   ],
   "source": [
    "%%bash\n",
    "cd ~/hmiwa1/storage/hmiwa-lab/06_231226_PRSadvance/testdir\n",
    "#id_file #sample name\n",
    "head GBR_IDS.txt"
   ]
  },
  {
   "cell_type": "code",
   "execution_count": 119,
   "metadata": {
    "vscode": {
     "languageId": "shellscript"
    }
   },
   "outputs": [
    {
     "name": "stdout",
     "output_type": "stream",
     "text": [
      "05_231211_RePRSTrials/targetdata/TNG.nonmix.QC.fam\n"
     ]
    }
   ],
   "source": [
    "%%bash\n",
    "cd ~/hmiwa1/storage/hmiwa-lab/\n",
    "ls 05_231211_RePRSTrials/targetdata/TNG.nonmix.QC.fam"
   ]
  },
  {
   "cell_type": "code",
   "execution_count": 120,
   "metadata": {
    "vscode": {
     "languageId": "shellscript"
    }
   },
   "outputs": [
    {
     "name": "stdout",
     "output_type": "stream",
     "text": [
      "T104 T104 0 0 0 -9\n",
      "T105 T105 0 0 0 -9\n",
      "T106 T106 0 0 0 -9\n",
      "T109 T109 0 0 0 -9\n",
      "T120 T120 0 0 0 -9\n",
      "T150 T150 0 0 0 -9\n",
      "T153 T153 0 0 0 -9\n",
      "T15 T15 0 0 0 -9\n",
      "T26 T26 0 0 0 -9\n",
      "T76 T76 0 0 0 -9\n"
     ]
    }
   ],
   "source": [
    "%%bash\n",
    "cd ~/hmiwa1/storage/hmiwa-lab/\n",
    "head 05_231211_RePRSTrials/targetdata/TNG.nonmix.QC.fam"
   ]
  },
  {
   "cell_type": "code",
   "execution_count": 163,
   "metadata": {
    "vscode": {
     "languageId": "shellscript"
    }
   },
   "outputs": [],
   "source": [
    "%%bash\n",
    "cd ~/hmiwa1/storage/hmiwa-lab/\n",
    "cat 05_231211_RePRSTrials/targetdata/TNG.nonmix.QC.fam \\\n",
    "| sed -e 's/ /,/g' \\\n",
    "| awk -F \",\" '{print $1}' \\\n",
    "> 06_231226_PRSadvance/analysis/TNG_nonmix.ids"
   ]
  },
  {
   "cell_type": "code",
   "execution_count": 164,
   "metadata": {
    "vscode": {
     "languageId": "shellscript"
    }
   },
   "outputs": [
    {
     "name": "stdout",
     "output_type": "stream",
     "text": [
      "T104\n",
      "T105\n",
      "T106\n",
      "T109\n",
      "T120\n",
      "T150\n",
      "T153\n",
      "T15\n",
      "T26\n",
      "T76\n"
     ]
    }
   ],
   "source": [
    "%%bash\n",
    "cd ~/hmiwa1/storage/hmiwa-lab/\n",
    "head 06_231226_PRSadvance/analysis/TNG_nonmix.ids"
   ]
  },
  {
   "cell_type": "code",
   "execution_count": 165,
   "metadata": {
    "vscode": {
     "languageId": "shellscript"
    }
   },
   "outputs": [
    {
     "name": "stdout",
     "output_type": "stream",
     "text": [
      "CHROM\tPOS\tA1\tA2\tCHROM:POS\trsid\tnCompleteSamples\tAC\tytx\tbeta\tse\ttstat\tpval\tBlock\n",
      "1\t958248\tA\tG\t1:958248\trs2001744\t336474\t2.47091e+05\t1.22927e+04\t1.02295e-02\t1.79298e-03\t5.70527e+00\t1.16258e-08\t1\n",
      "1\t2142518\tA\tC\t1:2142518\trs380190\t336474\t1.87183e+05\t1.05732e+04\t1.59487e-02\t1.94239e-03\t8.21087e+00\t2.20363e-16\t2\n",
      "1\t3769276\tG\tC\t1:3769276\trs6668213\t336474\t4.63182e+05\t1.88966e+04\t-9.13069e-03\t1.86504e-03\t-4.89570e+00\t9.79993e-07\t3\n",
      "1\t4986470\tG\tT\t1:4986470\trs2411956\t336474\t9.23723e+04\t3.15752e+03\t-9.00346e-03\t2.53800e-03\t-3.54746e+00\t3.89012e-04\t4\n",
      "\n",
      "CHR\tPOS\tREF\tALT\tSNPNAME\tEAS\tEAS_MAF\tExAC_EAS\tExAC_EAS_MAF\tbeta\tse\tPvalue\n",
      "10\t100010909\tC\tT\trs141069497\tT\t0.0139\tT\t0.006614\t-\t-0.022\t0.1\t0.83\n",
      "10\t100017453\tT\tG\trs1983864\tG\t0.6081\tG\t0.5682\t-\t-0.031\t0.015\t0.044\n",
      "10\t100017532\tG\tA\trs77858766\tA\t0.0169\tA\t0.01781\t-\t-0.016\t0.058\t0.79\n",
      "10\t100017553\tG\tT\trs11189525\tT\t0.0129\tT\t0.007404\t-\t-0.014\t0.13\t0.91\n"
     ]
    }
   ],
   "source": [
    "%%bash\n",
    "cd ~/hmiwa1/storage/hmiwa-lab/06_231226_PRSadvance/\n",
    "#height_fn #GWAS results\n",
    "head -n 5 testdir/neale.height.best.snp.tsv\n",
    "echo \"\"\n",
    "head -n 5 analysis/BMI_Eastern_Asian.QC2.txt"
   ]
  },
  {
   "cell_type": "markdown",
   "metadata": {},
   "source": [
    "形式が違うので使われている場面をチェックします。\n",
    "\n",
    "```R\n",
    "#height_fnはここだけらしい\n",
    "mark.dat <- fread(height_fn, head = TRUE)\n",
    "```\n",
    "\n",
    "```R\n",
    "#mark.datを参照する行 #スクリプト構造無視\n",
    "nmarks <- nrow(mark.dat)\n",
    "snps.fail1 <- rep(0, dim(mark.dat)[1])\n",
    "snps.miss <- rep(0, dim(mark.dat)[1])\n",
    "for(i in 1:dim(mark.dat)[1]){\n",
    "   snp <- mark.dat[i,6]\n",
    "   pos.snp <- mark.dat[i,2]\n",
    "   chr <- mark.dat[i,1]\n",
    "mean(as.character(mark.dat$A2) == info.sites.char[,4]) #allele1 matches A2 in each case, polarization good.\n",
    "mean(as.character(mark.dat$rsid) == info.sites.char[,1]) #check that the rsids match\n",
    "beta <- mark.dat$beta\n",
    "rsID <- mark.dat$rsid\n",
    "```\n",
    "\n",
    "neale.height.best.snp.tsvのheader\n",
    "1. CHROM【要】\t\n",
    "2. POS【要】\t\n",
    "3. A1\t\n",
    "4. A2【要】\t\n",
    "5. CHROM:POS\t\n",
    "6. rsid【要】\n",
    "7. nCompleteSamples\t\n",
    "8. AC\t\n",
    "9. ytx\t\n",
    "10. beta【要】\t\n",
    "11. se\t\n",
    "12. tstat\t\n",
    "13. pval\t\n",
    "14. Block\n",
    "\n",
    "BMI_Eastern_Asian.QC2.txtのheader\n",
    "1. CHR【要】\t\n",
    "2. POS【要】\t\n",
    "3. REF\t\n",
    "4. ALT【要】\t\n",
    "5. SNPNAME【要】\t\n",
    "6. EAS\t\n",
    "7. EAS_MAF\t\n",
    "8. ExAC_EAS\t\n",
    "9. ExAC_EAS_MAF\t\n",
    "10. beta【要】\t\n",
    "11. se\t\n",
    "12. Pvalue"
   ]
  },
  {
   "cell_type": "code",
   "execution_count": 136,
   "metadata": {
    "vscode": {
     "languageId": "shellscript"
    }
   },
   "outputs": [
    {
     "name": "stdout",
     "output_type": "stream",
     "text": [
      "/home/hmiwa/hmiwa1/storage/hmiwa-lab/06_231226_PRSadvance/analysis\n"
     ]
    }
   ],
   "source": [
    "%%bash\n",
    "cd ~/hmiwa1/storage/hmiwa-lab/06_231226_PRSadvance/analysis\n",
    "pwd\n",
    "cat BMI_Eastern_Asian.QC2.txt | \\\n",
    "awk '{print $1, \"\\t\", $2, \"\\t\", $3, \"\\t\", $4, \"\\t\", $5, \"\\t\", $10}' | \\\n",
    "grep -v - | \\\n",
    "sed -e s/REF/A1/g -e s/ALT/A2/g -e s/SNPNAME/rsid/g \\\n",
    "> eastasia.bmi.snp.tsv"
   ]
  },
  {
   "cell_type": "code",
   "execution_count": 122,
   "metadata": {
    "vscode": {
     "languageId": "shellscript"
    }
   },
   "outputs": [
    {
     "name": "stdout",
     "output_type": "stream",
     "text": [
      "/home/hmiwa/hmiwa1/storage/hmiwa-lab/06_231226_PRSadvance/analysis\n",
      "total 132388\n",
      "-rw-rw-r-- 1 hmiwa hmiwa   1676097  1月  7 18:11 BMI_Eastern_Asian.QC2.txt\n",
      "-rw-rw-r-- 1 hmiwa hmiwa    590212  1月  7 19:18 eastasia.bmi.snp.tsv\n",
      "-rw-rw-r-- 1 hmiwa hmiwa     71939  1月  7 18:19 helper_functions_coal_sel.R\n",
      "-rw-rw-r-- 1 hmiwa hmiwa     42901  1月  7 18:29 RentPlus.jar\n",
      "drwxrwxr-x 2 hmiwa hmiwa      4096  1月  7 19:36 temp\n",
      "-rw-rw-r-- 1 hmiwa hmiwa    250734  1月  7 19:35 test.RData\n",
      "-rw-rw-r-- 1 hmiwa hmiwa      6944  1月  7 19:30 test.tsv\n",
      "-rw-rw-r-- 1 hmiwa hmiwa       396  1月  7 20:34 TNG_nonmix.ids\n",
      "-rw-rw-r-- 1 hmiwa hmiwa 131412291  1月  7 18:08 Tongan.QC.FIXP.phased.annotated.vcf.gz\n",
      "-rw-rw-r-- 1 hmiwa hmiwa   1483780  1月  7 18:08 Tongan.QC.FIXP.phased.annotated.vcf.gz.csi\n"
     ]
    }
   ],
   "source": [
    "%%bash\n",
    "cd ~/hmiwa1/storage/hmiwa-lab/06_231226_PRSadvance/analysis\n",
    "pwd\n",
    "ls -l"
   ]
  },
  {
   "cell_type": "code",
   "execution_count": 87,
   "metadata": {
    "vscode": {
     "languageId": "shellscript"
    }
   },
   "outputs": [
    {
     "name": "stdout",
     "output_type": "stream",
     "text": [
      "/home/hmiwa/hmiwa1/storage/hmiwa-lab/06_231226_PRSadvance/analysis\n",
      "CHR \t POS \t A1 \t A2 \t rsid \t beta\n",
      "10 \t 100020880 \t C \t T \t rs33995374 \t 0.077\n",
      "10 \t 100044136 \t G \t A \t rs4919199 \t 0.0076\n",
      "10 \t 100144782 \t C \t T \t rs2296441 \t 0.012\n",
      "10 \t 100148004 \t T \t C \t rs2182169 \t 0.014\n",
      "10 \t 100148176 \t A \t G \t rs2147896 \t 0.0052\n",
      "10 \t 101048492 \t G \t A \t rs2862553 \t 0.018\n",
      "10 \t 101492403 \t T \t G \t rs2281636 \t 0.0079\n",
      "10 \t 101563815 \t G \t A \t rs2273697 \t 0.0035\n",
      "10 \t 101805442 \t C \t T \t rs11599750 \t 0.012\n",
      " 14005  84030 590212 eastasia.bmi.snp.tsv\n"
     ]
    }
   ],
   "source": [
    "%%bash\n",
    "cd ~/hmiwa1/storage/hmiwa-lab/06_231226_PRSadvance/analysis\n",
    "pwd\n",
    "head eastasia.bmi.snp.tsv\n",
    "wc eastasia.bmi.snp.tsv"
   ]
  },
  {
   "cell_type": "markdown",
   "metadata": {},
   "source": [
    "### コードテスト"
   ]
  },
  {
   "cell_type": "markdown",
   "metadata": {},
   "source": [
    "小規模データでテスト実行しましょう。"
   ]
  },
  {
   "cell_type": "code",
   "execution_count": 59,
   "metadata": {
    "vscode": {
     "languageId": "shellscript"
    }
   },
   "outputs": [
    {
     "name": "stdout",
     "output_type": "stream",
     "text": [
      "/home/hmiwa/hmiwa1/storage/hmiwa-lab/06_231226_PRSadvance/analysis\n",
      "CHR \t POS \t A1 \t A2 \t rsid \t beta\n",
      "21 \t 15516948 \t C \t T \t rs2822432 \t 0.031\n",
      "21 \t 15524921 \t C \t T \t rs74369337 \t 0.021\n",
      "21 \t 15596772 \t T \t G \t rs409782 \t 0.013\n",
      "21 \t 15653065 \t A \t G \t rs2822544 \t 0.0062\n",
      "21 \t 15845052 \t A \t G \t rs1006899 \t 0.038\n",
      "21 \t 16211191 \t T \t G \t rs6517050 \t 0.0089\n",
      "21 \t 16438793 \t A \t G \t rs2223043 \t 0.0019\n",
      "21 \t 16537728 \t T \t G \t rs2823109 \t 0.022\n",
      "21 \t 16805220 \t T \t C \t rs1736135 \t 0.012\n",
      " 165  990 6978 test.tsv\n"
     ]
    }
   ],
   "source": [
    "%%bash\n",
    "cd ~/hmiwa1/storage/hmiwa-lab/06_231226_PRSadvance/analysis\n",
    "pwd\n",
    "head -n 1 eastasia.bmi.snp.tsv > test.tsv\n",
    "grep -e ^21 eastasia.bmi.snp.tsv >> test.tsv\n",
    "head test.tsv\n",
    "wc test.tsv"
   ]
  },
  {
   "cell_type": "code",
   "execution_count": 112,
   "metadata": {
    "vscode": {
     "languageId": "shellscript"
    }
   },
   "outputs": [
    {
     "name": "stdout",
     "output_type": "stream",
     "text": [
      "/home/hmiwa/hmiwa1/storage/hmiwa-lab/06_231226_PRSadvance/analysis\n"
     ]
    }
   ],
   "source": [
    "%%bash\n",
    "cd ~/hmiwa1/storage/hmiwa-lab/06_231226_PRSadvance/analysis\n",
    "pwd\n",
    "mkdir -p temp"
   ]
  },
  {
   "cell_type": "code",
   "execution_count": 1,
   "metadata": {},
   "outputs": [],
   "source": [
    "%load_ext rpy2.ipython"
   ]
  },
  {
   "cell_type": "code",
   "execution_count": 61,
   "metadata": {},
   "outputs": [
    {
     "name": "stdout",
     "output_type": "stream",
     "text": [
      "[1] \"/home1/hmiwa/storage/hmiwa-lab/06_231226_PRSadvance/analysis\"\n",
      "[1] \"/home1/hmiwa/storage/hmiwa-lab/06_231226_PRSadvance/analysis\"\n"
     ]
    }
   ],
   "source": [
    "%%R\n",
    "#ディレクトリチェック\n",
    "print(getwd())\n",
    "setwd(\"~/hmiwa1/storage/hmiwa-lab/06_231226_PRSadvance/analysis\")\n",
    "print(getwd())\n",
    "save.image(file = \"test.RData\")"
   ]
  },
  {
   "cell_type": "code",
   "execution_count": 86,
   "metadata": {},
   "outputs": [
    {
     "name": "stdout",
     "output_type": "stream",
     "text": [
      "[1] \"/home1/hmiwa/storage/hmiwa-lab/06_231226_PRSadvance/analysis\"\n"
     ]
    }
   ],
   "source": [
    "%%R\n",
    "load(\"test.RData\")\n",
    "#ライブラリ読み込み\n",
    "print(getwd())\n",
    "library(psych)\n",
    "library(data.table)\n",
    "library(ape)\n",
    "save.image(file = \"test.RData\")"
   ]
  },
  {
   "cell_type": "code",
   "execution_count": 63,
   "metadata": {},
   "outputs": [],
   "source": [
    "%%R\n",
    "load(\"test.RData\")\n",
    "#ファイル名定義\n",
    "id_file <- \"TNG_nonmix.ids\" #要変更\n",
    "vcf_file <- \"temp/test.vcf\"\n",
    "out_pref <- \"temp/hap\"\n",
    "rent_file <- \"temp/rent_in.txt\"\n",
    "rentplus_fn <- \"RentPlus.jar\"\n",
    "height_fn <- \"test.tsv\" #要変更\n",
    "helper_fn <- \"helper_functions_coal_sel.R\"\n",
    "target_vcf <- \"Tongan.QC.FIXP.phased.annotated.vcf.gz\"\n",
    "save.image(file = \"test.RData\")"
   ]
  },
  {
   "cell_type": "code",
   "execution_count": 64,
   "metadata": {},
   "outputs": [],
   "source": [
    "%%R\n",
    "load(\"test.RData\")\n",
    "#関数名セット\n",
    "source(helper_fn)\n",
    "save.image(file = \"test.RData\")"
   ]
  },
  {
   "cell_type": "code",
   "execution_count": 65,
   "metadata": {},
   "outputs": [],
   "source": [
    "%%R\n",
    "load(\"test.RData\")\n",
    "#ファイル読み込み\n",
    "mark.dat <- fread(height_fn, head = TRUE)\n",
    "nmarks <- nrow(mark.dat)\n",
    "\n",
    "#ウィンドウサイズ\n",
    "wid <- 100000 #half-window size around focal locus to extract\n",
    "\n",
    "#格納用変数セット\n",
    "n_ders <- numeric(0)\n",
    "thetas <- numeric(0)\n",
    "\n",
    "trees.all <- list()\n",
    "trees.anc <- list()\n",
    "trees.der <- list()\n",
    "\n",
    "seg.sites <- numeric()\n",
    "meas.length <- numeric()\n",
    "n.chrs <- numeric()\n",
    "\n",
    "snps.fail1 <- rep(0, dim(mark.dat)[1])\n",
    "snps.miss <- rep(0, dim(mark.dat)[1])\n",
    "monomorphic_loci <- numeric()\n",
    "\n",
    "info.sites <- list() # for each snp, ID pos allele0 allele1\n",
    "\n",
    "#ログファイル用意\n",
    "system(\"echo '' > temp/tmp\")\n",
    "system(\"echo '' > temp/log\")\n",
    "\n",
    "save.image(file = \"test.RData\")"
   ]
  },
  {
   "cell_type": "code",
   "execution_count": 66,
   "metadata": {},
   "outputs": [
    {
     "name": "stdout",
     "output_type": "stream",
     "text": [
      "[1] \"SNP 1 missing from TNG\"\n",
      "[1] \"round 2 complete\"\n",
      "[1] \"segsites = 1135\"\n",
      "[1] \"measured length = 199271\"\n",
      "[1] \"round 3 complete\"\n",
      "[1] \"segsites = 1105\"\n",
      "[1] \"measured length = 199552\"\n",
      "[1] \"round 4 complete\"\n",
      "[1] \"segsites = 1131\"\n",
      "[1] \"measured length = 199930\"\n",
      "[1] \"round 5 complete\"\n",
      "[1] \"segsites = 731\"\n",
      "[1] \"measured length = 199853\"\n",
      "[1] \"round 6 complete\"\n",
      "[1] \"segsites = 470\"\n",
      "[1] \"measured length = 199657\"\n",
      "[1] \"round 7 complete\"\n",
      "[1] \"segsites = 621\"\n",
      "[1] \"measured length = 198669\"\n",
      "[1] \"round 8 complete\"\n",
      "[1] \"segsites = 623\"\n",
      "[1] \"measured length = 199388\"\n",
      "[1] \"round 9 complete\"\n",
      "[1] \"segsites = 446\"\n",
      "[1] \"measured length = 199228\"\n",
      "[1] \"round 10 complete\"\n",
      "[1] \"segsites = 440\"\n",
      "[1] \"measured length = 198029\"\n",
      "[1] \"round 11 complete\"\n",
      "[1] \"segsites = 468\"\n",
      "[1] \"measured length = 199799\"\n",
      "[1] \"round 12 complete\"\n",
      "[1] \"segsites = 437\"\n",
      "[1] \"measured length = 197184\"\n",
      "[1] \"round 13 complete\"\n",
      "[1] \"segsites = 426\"\n",
      "[1] \"measured length = 199454\"\n",
      "[1] \"round 14 complete\"\n",
      "[1] \"segsites = 535\"\n",
      "[1] \"measured length = 199634\"\n",
      "[1] \"round 15 complete\"\n",
      "[1] \"segsites = 708\"\n",
      "[1] \"measured length = 199192\"\n",
      "[1] \"round 16 complete\"\n",
      "[1] \"segsites = 762\"\n",
      "[1] \"measured length = 199577\"\n",
      "[1] \"round 17 complete\"\n",
      "[1] \"segsites = 603\"\n",
      "[1] \"measured length = 199718\"\n",
      "[1] \"round 18 complete\"\n",
      "[1] \"segsites = 620\"\n",
      "[1] \"measured length = 199844\"\n",
      "[1] \"SNP 19 missing from TNG\"\n",
      "[1] \"round 20 complete\"\n",
      "[1] \"segsites = 635\"\n",
      "[1] \"measured length = 199712\"\n",
      "[1] \"round 21 complete\"\n",
      "[1] \"segsites = 1006\"\n",
      "[1] \"measured length = 199724\"\n",
      "[1] \"round 22 complete\"\n",
      "[1] \"segsites = 725\"\n",
      "[1] \"measured length = 199567\"\n",
      "[1] \"round 23 complete\"\n",
      "[1] \"segsites = 857\"\n",
      "[1] \"measured length = 199513\"\n",
      "[1] \"round 24 complete\"\n",
      "[1] \"segsites = 679\"\n",
      "[1] \"measured length = 199775\"\n",
      "[1] \"round 25 complete\"\n",
      "[1] \"segsites = 870\"\n",
      "[1] \"measured length = 199652\"\n",
      "[1] \"round 26 complete\"\n",
      "[1] \"segsites = 1004\"\n",
      "[1] \"measured length = 199739\"\n",
      "[1] \"round 27 complete\"\n",
      "[1] \"segsites = 605\"\n",
      "[1] \"measured length = 198457\"\n",
      "[1] \"round 28 complete\"\n",
      "[1] \"segsites = 638\"\n",
      "[1] \"measured length = 199012\"\n",
      "[1] \"round 29 complete\"\n",
      "[1] \"segsites = 544\"\n",
      "[1] \"measured length = 199307\"\n",
      "[1] \"round 30 complete\"\n",
      "[1] \"segsites = 575\"\n",
      "[1] \"measured length = 199209\"\n",
      "[1] \"round 31 complete\"\n",
      "[1] \"segsites = 774\"\n",
      "[1] \"measured length = 199250\"\n",
      "[1] \"round 32 complete\"\n",
      "[1] \"segsites = 732\"\n",
      "[1] \"measured length = 199560\"\n",
      "[1] \"round 33 complete\"\n",
      "[1] \"segsites = 779\"\n",
      "[1] \"measured length = 199239\"\n",
      "[1] \"round 34 complete\"\n",
      "[1] \"segsites = 527\"\n",
      "[1] \"measured length = 199665\"\n",
      "[1] \"round 35 complete\"\n",
      "[1] \"segsites = 481\"\n",
      "[1] \"measured length = 199467\"\n",
      "[1] \"round 36 complete\"\n",
      "[1] \"segsites = 535\"\n",
      "[1] \"measured length = 199306\"\n",
      "[1] \"round 37 complete\"\n",
      "[1] \"segsites = 534\"\n",
      "[1] \"measured length = 199707\"\n",
      "[1] \"round 38 complete\"\n",
      "[1] \"segsites = 628\"\n",
      "[1] \"measured length = 199236\"\n",
      "[1] \"round 39 complete\"\n",
      "[1] \"segsites = 708\"\n",
      "[1] \"measured length = 198226\"\n",
      "[1] \"round 40 complete\"\n",
      "[1] \"segsites = 727\"\n",
      "[1] \"measured length = 196617\"\n",
      "[1] \"round 41 complete\"\n",
      "[1] \"segsites = 720\"\n",
      "[1] \"measured length = 199010\"\n",
      "[1] \"round 42 complete\"\n",
      "[1] \"segsites = 789\"\n",
      "[1] \"measured length = 199719\"\n",
      "[1] \"round 43 complete\"\n",
      "[1] \"segsites = 904\"\n",
      "[1] \"measured length = 199091\"\n",
      "[1] \"round 44 complete\"\n",
      "[1] \"segsites = 613\"\n",
      "[1] \"measured length = 199431\"\n",
      "[1] \"round 45 complete\"\n",
      "[1] \"segsites = 880\"\n",
      "[1] \"measured length = 199338\"\n",
      "[1] \"round 46 complete\"\n",
      "[1] \"segsites = 806\"\n",
      "[1] \"measured length = 199106\"\n",
      "[1] \"round 47 complete\"\n",
      "[1] \"segsites = 658\"\n",
      "[1] \"measured length = 199624\"\n",
      "[1] \"SNP 48 missing from TNG\"\n",
      "[1] \"round 49 complete\"\n",
      "[1] \"segsites = 625\"\n",
      "[1] \"measured length = 199410\"\n",
      "[1] \"round 50 complete\"\n",
      "[1] \"segsites = 594\"\n",
      "[1] \"measured length = 198661\"\n",
      "[1] \"round 51 complete\"\n",
      "[1] \"segsites = 518\"\n",
      "[1] \"measured length = 198925\"\n",
      "[1] \"round 52 complete\"\n",
      "[1] \"segsites = 401\"\n",
      "[1] \"measured length = 198678\"\n",
      "[1] \"round 53 complete\"\n",
      "[1] \"segsites = 451\"\n",
      "[1] \"measured length = 199537\"\n",
      "[1] \"round 54 complete\"\n",
      "[1] \"segsites = 552\"\n",
      "[1] \"measured length = 199336\"\n",
      "[1] \"round 55 complete\"\n",
      "[1] \"segsites = 568\"\n",
      "[1] \"measured length = 198381\"\n",
      "[1] \"round 56 complete\"\n",
      "[1] \"segsites = 553\"\n",
      "[1] \"measured length = 197751\"\n",
      "[1] \"round 57 complete\"\n",
      "[1] \"segsites = 593\"\n",
      "[1] \"measured length = 199441\"\n",
      "[1] \"round 58 complete\"\n",
      "[1] \"segsites = 613\"\n",
      "[1] \"measured length = 191764\"\n",
      "[1] \"round 59 complete\"\n",
      "[1] \"segsites = 835\"\n",
      "[1] \"measured length = 199424\"\n",
      "[1] \"round 60 complete\"\n",
      "[1] \"segsites = 857\"\n",
      "[1] \"measured length = 199676\"\n",
      "[1] \"round 61 complete\"\n",
      "[1] \"segsites = 853\"\n",
      "[1] \"measured length = 198628\"\n",
      "[1] \"round 62 complete\"\n",
      "[1] \"segsites = 709\"\n",
      "[1] \"measured length = 199812\"\n",
      "[1] \"round 63 complete\"\n",
      "[1] \"segsites = 727\"\n",
      "[1] \"measured length = 199579\"\n",
      "[1] \"round 64 complete\"\n",
      "[1] \"segsites = 579\"\n",
      "[1] \"measured length = 199225\"\n",
      "[1] \"round 65 complete\"\n",
      "[1] \"segsites = 506\"\n",
      "[1] \"measured length = 198702\"\n",
      "[1] \"round 66 complete\"\n",
      "[1] \"segsites = 504\"\n",
      "[1] \"measured length = 199562\"\n",
      "[1] \"round 67 complete\"\n",
      "[1] \"segsites = 465\"\n",
      "[1] \"measured length = 199786\"\n",
      "[1] \"round 68 complete\"\n",
      "[1] \"segsites = 658\"\n",
      "[1] \"measured length = 199750\"\n",
      "[1] \"round 69 complete\"\n",
      "[1] \"segsites = 624\"\n",
      "[1] \"measured length = 199409\"\n",
      "[1] \"round 70 complete\"\n",
      "[1] \"segsites = 619\"\n",
      "[1] \"measured length = 199021\"\n",
      "[1] \"round 71 complete\"\n",
      "[1] \"segsites = 399\"\n",
      "[1] \"measured length = 199111\"\n",
      "[1] \"round 72 complete\"\n",
      "[1] \"segsites = 528\"\n",
      "[1] \"measured length = 198798\"\n",
      "[1] \"round 73 complete\"\n",
      "[1] \"segsites = 748\"\n",
      "[1] \"measured length = 199949\"\n",
      "[1] \"round 74 complete\"\n",
      "[1] \"segsites = 699\"\n",
      "[1] \"measured length = 198288\"\n",
      "[1] \"SNP 75 missing from TNG\"\n",
      "[1] \"round 76 complete\"\n",
      "[1] \"segsites = 277\"\n",
      "[1] \"measured length = 193731\"\n",
      "[1] \"round 77 complete\"\n",
      "[1] \"segsites = 538\"\n",
      "[1] \"measured length = 198088\"\n",
      "[1] \"SNP 78 missing from TNG\"\n",
      "[1] \"round 79 complete\"\n",
      "[1] \"segsites = 613\"\n",
      "[1] \"measured length = 199234\"\n",
      "[1] \"SNP 80 missing from TNG\"\n",
      "[1] \"round 81 complete\"\n",
      "[1] \"segsites = 453\"\n",
      "[1] \"measured length = 199203\"\n",
      "[1] \"round 82 complete\"\n",
      "[1] \"segsites = 543\"\n",
      "[1] \"measured length = 198871\"\n",
      "[1] \"round 83 complete\"\n",
      "[1] \"segsites = 526\"\n",
      "[1] \"measured length = 199614\"\n",
      "[1] \"round 84 complete\"\n",
      "[1] \"segsites = 616\"\n",
      "[1] \"measured length = 198699\"\n",
      "[1] \"round 85 complete\"\n",
      "[1] \"segsites = 602\"\n",
      "[1] \"measured length = 199925\"\n",
      "[1] \"round 86 complete\"\n",
      "[1] \"segsites = 611\"\n",
      "[1] \"measured length = 198517\"\n",
      "[1] \"round 87 complete\"\n",
      "[1] \"segsites = 519\"\n",
      "[1] \"measured length = 199882\"\n",
      "[1] \"SNP 88 missing from TNG\"\n",
      "[1] \"SNP 89 missing from TNG\"\n",
      "[1] \"round 90 complete\"\n",
      "[1] \"segsites = 627\"\n",
      "[1] \"measured length = 199418\"\n",
      "[1] \"round 91 complete\"\n",
      "[1] \"segsites = 605\"\n",
      "[1] \"measured length = 198150\"\n",
      "[1] \"SNP 92 missing from TNG\"\n",
      "[1] \"SNP 93 missing from TNG\"\n",
      "[1] \"round 94 complete\"\n",
      "[1] \"segsites = 433\"\n",
      "[1] \"measured length = 199652\"\n",
      "[1] \"round 95 complete\"\n",
      "[1] \"segsites = 533\"\n",
      "[1] \"measured length = 198729\"\n",
      "[1] \"round 96 complete\"\n",
      "[1] \"segsites = 634\"\n",
      "[1] \"measured length = 198765\"\n",
      "[1] \"round 97 complete\"\n",
      "[1] \"segsites = 774\"\n",
      "[1] \"measured length = 199420\"\n",
      "[1] \"round 98 complete\"\n",
      "[1] \"segsites = 768\"\n",
      "[1] \"measured length = 199696\"\n",
      "[1] \"round 99 complete\"\n",
      "[1] \"segsites = 694\"\n",
      "[1] \"measured length = 199749\"\n",
      "[1] \"round 100 complete\"\n",
      "[1] \"segsites = 851\"\n",
      "[1] \"measured length = 199769\"\n",
      "[1] \"round 101 complete\"\n",
      "[1] \"segsites = 829\"\n",
      "[1] \"measured length = 199611\"\n",
      "[1] \"round 102 complete\"\n",
      "[1] \"segsites = 735\"\n",
      "[1] \"measured length = 199524\"\n",
      "[1] \"SNP 103 missing from TNG\"\n",
      "[1] \"SNP 104 missing from TNG\"\n",
      "[1] \"round 105 complete\"\n",
      "[1] \"segsites = 943\"\n",
      "[1] \"measured length = 199769\"\n",
      "[1] \"round 106 complete\"\n",
      "[1] \"segsites = 987\"\n",
      "[1] \"measured length = 199502\"\n",
      "[1] \"round 107 complete\"\n",
      "[1] \"segsites = 855\"\n",
      "[1] \"measured length = 199216\"\n",
      "[1] \"round 108 complete\"\n",
      "[1] \"segsites = 791\"\n",
      "[1] \"measured length = 199485\"\n",
      "[1] \"round 109 complete\"\n",
      "[1] \"segsites = 756\"\n",
      "[1] \"measured length = 199751\"\n",
      "[1] \"round 110 complete\"\n",
      "[1] \"segsites = 722\"\n",
      "[1] \"measured length = 199791\"\n",
      "[1] \"round 111 complete\"\n",
      "[1] \"segsites = 893\"\n",
      "[1] \"measured length = 199475\"\n",
      "[1] \"round 112 complete\"\n",
      "[1] \"segsites = 930\"\n",
      "[1] \"measured length = 199887\"\n",
      "[1] \"round 113 complete\"\n",
      "[1] \"segsites = 922\"\n",
      "[1] \"measured length = 199160\"\n",
      "[1] \"SNP 114 missing from TNG\"\n",
      "[1] \"round 115 complete\"\n",
      "[1] \"segsites = 695\"\n",
      "[1] \"measured length = 195399\"\n",
      "[1] \"round 116 complete\"\n",
      "[1] \"segsites = 769\"\n",
      "[1] \"measured length = 199363\"\n",
      "[1] \"round 117 complete\"\n",
      "[1] \"segsites = 1030\"\n",
      "[1] \"measured length = 199434\"\n",
      "[1] \"SNP 118 missing from TNG\"\n",
      "[1] \"round 119 complete\"\n",
      "[1] \"segsites = 1028\"\n",
      "[1] \"measured length = 199410\"\n",
      "[1] \"round 120 complete\"\n",
      "[1] \"segsites = 767\"\n",
      "[1] \"measured length = 199774\"\n",
      "[1] \"round 121 complete\"\n",
      "[1] \"segsites = 765\"\n",
      "[1] \"measured length = 199776\"\n",
      "[1] \"round 122 complete\"\n",
      "[1] \"segsites = 779\"\n",
      "[1] \"measured length = 199723\"\n",
      "[1] \"round 123 complete\"\n",
      "[1] \"segsites = 877\"\n",
      "[1] \"measured length = 199985\"\n",
      "[1] \"round 124 complete\"\n",
      "[1] \"segsites = 846\"\n",
      "[1] \"measured length = 198972\"\n",
      "[1] \"round 125 complete\"\n",
      "[1] \"segsites = 866\"\n",
      "[1] \"measured length = 199237\"\n",
      "[1] \"round 126 complete\"\n",
      "[1] \"segsites = 839\"\n",
      "[1] \"measured length = 198891\"\n",
      "[1] \"SNP 127 missing from TNG\"\n",
      "[1] \"round 128 complete\"\n",
      "[1] \"segsites = 1090\"\n",
      "[1] \"measured length = 199896\"\n",
      "[1] \"round 129 complete\"\n",
      "[1] \"segsites = 1004\"\n",
      "[1] \"measured length = 199728\"\n",
      "[1] \"SNP 130 missing from TNG\"\n",
      "[1] \"SNP 131 missing from TNG\"\n",
      "[1] \"round 132 complete\"\n",
      "[1] \"segsites = 444\"\n",
      "[1] \"measured length = 197991\"\n",
      "[1] \"SNP 133 missing from TNG\"\n",
      "[1] \"round 134 complete\"\n",
      "[1] \"segsites = 623\"\n",
      "[1] \"measured length = 199085\"\n",
      "[1] \"round 135 complete\"\n",
      "[1] \"segsites = 611\"\n",
      "[1] \"measured length = 198625\"\n",
      "[1] \"round 136 complete\"\n",
      "[1] \"segsites = 406\"\n",
      "[1] \"measured length = 199184\"\n",
      "[1] \"round 137 complete\"\n",
      "[1] \"segsites = 449\"\n",
      "[1] \"measured length = 198600\"\n",
      "[1] \"round 138 complete\"\n",
      "[1] \"segsites = 453\"\n",
      "[1] \"measured length = 199833\"\n",
      "[1] \"round 139 complete\"\n",
      "[1] \"segsites = 450\"\n",
      "[1] \"measured length = 198640\"\n",
      "[1] \"round 140 complete\"\n",
      "[1] \"segsites = 733\"\n",
      "[1] \"measured length = 197722\"\n",
      "[1] \"SNP 141 missing from TNG\"\n",
      "[1] \"round 142 complete\"\n",
      "[1] \"segsites = 534\"\n",
      "[1] \"measured length = 199798\"\n",
      "[1] \"SNP 143 missing from TNG\"\n",
      "[1] \"SNP 144 missing from TNG\"\n",
      "[1] \"round 145 complete\"\n",
      "[1] \"segsites = 894\"\n",
      "[1] \"measured length = 199795\"\n",
      "[1] \"round 146 complete\"\n",
      "[1] \"segsites = 957\"\n",
      "[1] \"measured length = 197362\"\n",
      "[1] \"round 147 complete\"\n",
      "[1] \"segsites = 957\"\n",
      "[1] \"measured length = 197362\"\n",
      "[1] \"round 148 complete\"\n",
      "[1] \"segsites = 925\"\n",
      "[1] \"measured length = 199504\"\n",
      "[1] \"round 149 complete\"\n",
      "[1] \"segsites = 826\"\n",
      "[1] \"measured length = 199046\"\n",
      "[1] \"SNP 150 missing from TNG\"\n",
      "[1] \"round 151 complete\"\n",
      "[1] \"segsites = 721\"\n",
      "[1] \"measured length = 199736\"\n",
      "[1] \"round 152 complete\"\n",
      "[1] \"segsites = 995\"\n",
      "[1] \"measured length = 199118\"\n",
      "[1] \"round 153 complete\"\n",
      "[1] \"segsites = 977\"\n",
      "[1] \"measured length = 199551\"\n",
      "[1] \"SNP 154 missing from TNG\"\n",
      "[1] \"SNP 155 missing from TNG\"\n",
      "[1] \"SNP 156 missing from TNG\"\n",
      "[1] \"round 157 complete\"\n",
      "[1] \"segsites = 815\"\n",
      "[1] \"measured length = 199676\"\n",
      "[1] \"SNP 158 missing from TNG\"\n",
      "[1] \"round 159 complete\"\n",
      "[1] \"segsites = 726\"\n",
      "[1] \"measured length = 198872\"\n",
      "[1] \"round 160 complete\"\n",
      "[1] \"segsites = 696\"\n",
      "[1] \"measured length = 199787\"\n",
      "[1] \"SNP 161 missing from TNG\"\n",
      "[1] \"SNP 162 missing from TNG\"\n",
      "[1] \"round 163 complete\"\n",
      "[1] \"segsites = 629\"\n",
      "[1] \"measured length = 199891\"\n",
      "[1] \"round 164 complete\"\n",
      "[1] \"segsites = 671\"\n",
      "[1] \"measured length = 199157\"\n"
     ]
    }
   ],
   "source": [
    "%%R\n",
    "load(\"test.RData\")\n",
    "for(i in 1:dim(mark.dat)[1]){\n",
    "   snp <- mark.dat[i,5]\n",
    "   pos.snp <- mark.dat[i,2]\n",
    "   chr <- mark.dat[i,1]\n",
    "   lb <- pos.snp - wid\n",
    "   ub <- pos.snp + wid\n",
    "\n",
    "   rent.tmp <- paste(\"echo '[\", \"SNP\", as.character(i), \"]' `date` >> temp/tmp\", sep = \"\")\n",
    "   system(rent.tmp)\n",
    "\n",
    "   #Write a string that will call tabix to extract a vcf from 1000 genomes.\n",
    "   #tabix.str <- paste(\"tabix -h ~/hmiwa1/rawdata/1KGa/ALL.chr\", as.character(chr), \".phase3_shapeit2_mvncall_integrated_v5a.20130502.genotypes.vcf.gz \", as.character(chr), \":\", as.character(lb), \"-\", as.character(ub), \" | ~/homebrew/bin/vcf-subset -c \", id_file, \" > \", vcf_file, sep = \"\")\n",
    "   tabix.str <- paste(\"tabix -h \", target_vcf , \" \", as.character(chr), \":\", as.character(lb), \"-\", as.character(ub), \" | ~/homebrew/bin/vcf-subset -c \", id_file, \" > \", vcf_file, sep = \"\")\n",
    "   system(tabix.str)\n",
    "\n",
    "   #Write to IMPUTE format, which is easy to change to RENT+ format.\n",
    "   #vcftools.str <- paste(\"vcftools --vcf \", vcf_file, \" --out \", out_pref, \" --IMPUTE\", sep = \"\")\n",
    "   vcftools.str <- paste(\"~/homebrew/bin/vcftools --vcf \", vcf_file, \" --out \", out_pref, \" --IMPUTE 2>> temp/log\",sep = \"\")\n",
    "   system(vcftools.str)\n",
    "\n",
    "   #Read in the IMPUTE format haplotypes, keep polymorphic loci, and \n",
    "   #rearrange into RENT+ format. We shuffle so that the derived alleles\n",
    "   #are at the end.\n",
    "\n",
    "   hap.fn <- paste(out_pref, \".impute.hap\",sep = \"\")\n",
    "   haps <- try(as.matrix(read.table(hap.fn)))\n",
    "   if (inherits(haps, 'try-error')){\n",
    "       print(paste(\"SNP\", as.character(i), \"has a problem\"))\n",
    "       snps.fail1[i] <- 1 \n",
    "       next\n",
    "   }\n",
    "   info.fn <- paste(out_pref, \".impute.legend\",sep = \"\")\n",
    "   info <- read.table(info.fn, head = TRUE)\n",
    "\n",
    "   loci.poly <- rowMeans(haps) > 0 & rowMeans(haps < 1)\n",
    "   haps.poly <- haps[loci.poly,]\n",
    "   info.poly <- info[loci.poly,]\n",
    "   col.keysnp <- which(info.poly$pos == as.numeric(pos.snp))\n",
    "   info.sites[[i]] <- info.poly[col.keysnp,]\n",
    "   if(length(col.keysnp) == 0){\n",
    "      print(paste(\"SNP\", as.character(i), \"missing from TNG\"))\n",
    "      snps.miss[i] <- 1    \n",
    "      next \n",
    "   }\n",
    "   n_der <- sum(haps.poly[col.keysnp,])\n",
    "   haps.poly.der.at.end <- haps.poly[, order(haps.poly[col.keysnp,])]\n",
    "   haps.charvec <- apply(t(haps.poly.der.at.end), 1, paste, sep = \"\", collapse = \"\")\n",
    "   haps.char <- paste(haps.charvec, sep = \"\", collapse = \"\\n\")\n",
    "   pos.char <- paste(as.character(info.poly$pos), sep = \"\", collapse = \" \")\n",
    "   rentfile.str <- paste(pos.char, haps.char, sep = \"\\n\", collapse = \"\")\n",
    "   write(rentfile.str, rent_file)\n",
    "\n",
    "   seg.sites[i] <- sum(loci.poly)\n",
    "   n.chrs[i] <- ncol(haps)\n",
    "   n_ders[i] <- n_der\n",
    "   meas.length[i] <- max(info.poly$pos) - min(info.poly$pos)\n",
    "   if(n_der == n.chrs[i] | n_der == 0){\n",
    "      monomorphic_loci <- c(monomorphic_loci, i)\n",
    "      print(paste(\"SNP\", as.character(i), \"is monomorphic in the sample\")) \n",
    "      next\n",
    "   }\n",
    "\n",
    "\n",
    "   #run rent+\n",
    "   #rent.string <- paste(\"java -jar \", rentplus_fn, \" -t \",  rent_file, sep = \"\")\n",
    "   rent.string <- paste(\"java -Xmx8g -jar \", rentplus_fn, \" -t \", rent_file, \" >> temp/tmp\",sep = \"\")\n",
    "   system(rent.string)\n",
    "\n",
    "   #read in theta estimate\n",
    "   rent_theta_fn <- paste(rent_file, \".theta\", sep = \"\")\n",
    "   thetas[i] <- suppressWarnings(as.numeric(read.table(rent_theta_fn, nrows = 1)$V1))\n",
    "\n",
    "   #Read in trees at selected site in rent and rent+\n",
    "   rent_trees_fn <- paste(rent_file, \".trees\", sep = \"\")\n",
    "   rent_trees <- readLines(rent_trees_fn)\n",
    "\n",
    "   #which tree is for the focal site?\n",
    "   rent_tr_ind <- grep(paste(as.character(pos.snp), \"\\t\", sep = \"\"), rent_trees)\n",
    "\n",
    "   #get tree at focal site in newick format.\n",
    "   rent_tree_newick <- sub(paste(as.character(pos.snp), \"\\t\", sep = \"\"), \"\", rent_trees[rent_tr_ind])\n",
    "   rent_tree <- read.tree(text = paste(rent_tree_newick, \";\", sep = \"\"))\n",
    "\n",
    "   n_chroms <- dim(haps.poly)[2]\n",
    "   anc_tips <- which(rent_tree$tip.label %in% as.character(1:(n_chroms - n_der))) \n",
    "   der_tips <- which(as.numeric(rent_tree$tip.label) %in% (n_chroms - n_der + 1):n_chroms)\n",
    "   anc_tree <- drop.tip(rent_tree, der_tips)\n",
    "   der_tree <- drop.tip(rent_tree, anc_tips)\n",
    "\n",
    "   \n",
    "   trees.all[[i]] <- rent_tree\n",
    "   trees.anc[[i]] <- anc_tree\n",
    "   trees.der[[i]] <- der_tree\n",
    "\n",
    "   print(paste(\"round\", as.character(i), \"complete\"))\n",
    "   print(paste(\"segsites =\", as.character(seg.sites[i])))\n",
    "   print(paste(\"measured length =\", as.character(meas.length[i])))\n",
    "}\n",
    "save.image(file = \"test.RData\")"
   ]
  },
  {
   "cell_type": "markdown",
   "metadata": {},
   "source": [
    "160SNP計算するのに10分"
   ]
  },
  {
   "cell_type": "code",
   "execution_count": 55,
   "metadata": {},
   "outputs": [
    {
     "name": "stdout",
     "output_type": "stream",
     "text": [
      "[1] 0\n",
      "[1] 0.1656442\n"
     ]
    }
   ],
   "source": [
    "%%R\n",
    "load(\"test.RData\")\n",
    "n_ancs <- n_chroms- n_ders\n",
    "\n",
    "#Checks that SNPS worked.\n",
    "monomorphic_loci #empty---no loci were monomorphic.\n",
    "print(mean(snps.fail1))\n",
    "print(mean(snps.miss))\n",
    "save.image(file = \"test.RData\")"
   ]
  },
  {
   "cell_type": "code",
   "execution_count": 72,
   "metadata": {},
   "outputs": [
    {
     "name": "stdout",
     "output_type": "stream",
     "text": [
      "[1] \"SNP 1  is missing\"\n",
      "[1] \"SNP 19  is missing\"\n",
      "[1] \"SNP 48  is missing\"\n",
      "[1] \"SNP 75  is missing\"\n",
      "[1] \"SNP 78  is missing\"\n",
      "[1] \"SNP 80  is missing\"\n",
      "[1] \"SNP 88  is missing\"\n",
      "[1] \"SNP 89  is missing\"\n",
      "[1] \"SNP 92  is missing\"\n",
      "[1] \"SNP 93  is missing\"\n",
      "[1] \"SNP 103  is missing\"\n",
      "[1] \"SNP 104  is missing\"\n",
      "[1] \"SNP 114  is missing\"\n",
      "[1] \"SNP 118  is missing\"\n",
      "[1] \"SNP 127  is missing\"\n",
      "[1] \"SNP 130  is missing\"\n",
      "[1] \"SNP 131  is missing\"\n",
      "[1] \"SNP 133  is missing\"\n",
      "[1] \"SNP 141  is missing\"\n",
      "[1] \"SNP 143  is missing\"\n",
      "[1] \"SNP 144  is missing\"\n",
      "[1] \"SNP 150  is missing\"\n",
      "[1] \"SNP 154  is missing\"\n",
      "[1] \"SNP 155  is missing\"\n",
      "[1] \"SNP 156  is missing\"\n",
      "[1] \"SNP 158  is missing\"\n",
      "[1] \"SNP 161  is missing\"\n",
      "[1] \"SNP 162  is missing\"\n"
     ]
    }
   ],
   "source": [
    "%%R\n",
    "load(\"test.RData\")\n",
    "#Check polarization\n",
    "\n",
    "misid <- NULL\n",
    "info.sites.char <- matrix(\"\", nrow = length(info.sites), ncol = 4)\n",
    "for(i in 1:length(info.sites)){\n",
    "    if(nrow(info.sites[[i]])==0){\n",
    "        print(paste(\"SNP\",i, \" is missing\"))\n",
    "        misid <- c(misid,i)\n",
    "        next\n",
    "    }else{\n",
    "\tinfo.sites.char[i,1] <- as.character(info.sites[[i]]$ID)\n",
    "\tinfo.sites.char[i,2] <- as.character(info.sites[[i]]$pos)\n",
    "\tinfo.sites.char[i,3] <- as.character(info.sites[[i]]$allele0)\n",
    "\tinfo.sites.char[i,4] <- as.character(info.sites[[i]]$allele1)\n",
    "    }\n",
    "}\n",
    "save.image(file = \"test.RData\")"
   ]
  },
  {
   "cell_type": "code",
   "execution_count": 216,
   "metadata": {},
   "outputs": [
    {
     "name": "stdout",
     "output_type": "stream",
     "text": [
      "[1] 1\n",
      "[1] 1\n"
     ]
    }
   ],
   "source": [
    "%%R\n",
    "load(\"test.RData\")\n",
    "print(mean(as.character(mark.dat$A2[-misid]) == info.sites.char[-misid,4])) #allele1 matches A2 in each case, polarization good.\n",
    "print(mean(as.character(mark.dat$rsid[-misid]) == info.sites.char[-misid,1])) #check that the rsids match\n",
    "\n",
    "beta <- mark.dat$beta[-misid]\n",
    "rsID <- mark.dat$rsid[-misid]\n",
    "\n",
    "save.image(file = \"test.RData\")"
   ]
  },
  {
   "cell_type": "code",
   "execution_count": 217,
   "metadata": {},
   "outputs": [],
   "source": [
    "%%R\n",
    "load(\"test.RData\")\n",
    "trees.der.rescale <- trees.der[-misid]\n",
    "trees.anc.rescale <- trees.anc[-misid]\n",
    "trees.all.rescale <- trees.all[-misid]\n",
    "for(i in 1:length(trees.all.rescale)){\n",
    "    j <- c(1:length(trees.all))[-misid][i]\n",
    "\ttrees.der.rescale[[i]]$edge.length <- trees.der[[j]]$edge.length*thetas[j]\n",
    "\ttrees.anc.rescale[[i]]$edge.length <- trees.anc[[j]]$edge.length*thetas[j]\n",
    "\ttrees.all.rescale[[i]]$edge.length <- trees.all[[j]]$edge.length*thetas[j]\n",
    "}\n",
    "save.image(file = \"test.RData\")"
   ]
  },
  {
   "cell_type": "code",
   "execution_count": 218,
   "metadata": {},
   "outputs": [],
   "source": [
    "%%R\n",
    "load(\"test.RData\")\n",
    "tmrcas <- numeric(0)\n",
    "for(i in 1:length(trees.all.rescale)){\n",
    "\ttmrcas[i] <- max(branching.times(trees.all.rescale[[i]]))\n",
    "}\n",
    "save.image(file = \"test.RData\")"
   ]
  },
  {
   "cell_type": "code",
   "execution_count": 219,
   "metadata": {},
   "outputs": [],
   "source": [
    "%%R\n",
    "load(\"test.RData\")\n",
    "for(i in 1:length(trees.all.rescale)){\n",
    "\ttrees.der.rescale[[i]]$edge.length <- trees.der.rescale[[i]]$edge.length*2/mean(tmrcas)\n",
    "\ttrees.anc.rescale[[i]]$edge.length <- trees.anc.rescale[[i]]$edge.length*2/mean(tmrcas)\n",
    "\ttrees.all.rescale[[i]]$edge.length <- trees.all.rescale[[i]]$edge.length*2/mean(tmrcas)\n",
    "}\n",
    "save.image(file = \"test.RData\")"
   ]
  },
  {
   "cell_type": "code",
   "execution_count": 220,
   "metadata": {},
   "outputs": [],
   "source": [
    "%%R\n",
    "load(\"test.RData\")\n",
    "time <- seq(0, 4, by = 0.001)\n",
    "\n",
    "times.c <- list()\n",
    "for(i in 1:length(trees.all.rescale)){\n",
    "\ttimes.c[[i]] <- trees_to_times(trees.all.rescale[[i]], trees.anc.rescale[[i]], trees.der.rescale[[i]], time, sure.alt.is.derived = FALSE)\n",
    "}\n",
    "save.image(file = \"test.RData\")"
   ]
  },
  {
   "cell_type": "code",
   "execution_count": 221,
   "metadata": {},
   "outputs": [],
   "source": [
    "%%R\n",
    "load(\"test.RData\")\n",
    "lins.list <- list()\n",
    "for(i in 1:length(trees.all.rescale)){\n",
    "\tlins.list[[i]] <- times_to_lins(times.c[[i]], time)\n",
    "}\n",
    "save.image(file = \"test.RData\")"
   ]
  },
  {
   "cell_type": "code",
   "execution_count": 231,
   "metadata": {},
   "outputs": [],
   "source": [
    "%%R\n",
    "load(\"test.RData\")\n",
    "Va.poly <- add.var(beta, (n_ders[-misid]/n_chroms))\n",
    "add.var(beta / sqrt(Va.poly), (n_ders[-misid]/n_chroms))\n",
    "\n",
    "beta.r <- beta / sqrt(Va.poly)\n",
    "save.image(file = \"test.RData\")"
   ]
  },
  {
   "cell_type": "code",
   "execution_count": 232,
   "metadata": {},
   "outputs": [],
   "source": [
    "%%R\n",
    "load(\"test.RData\")\n",
    "#neutral\n",
    "trajs_neut <- matrix(nrow = length(time), ncol = length(trees.all.rescale))\n",
    "vars_neut_bin <- matrix(nrow = length(time), ncol = length(trees.all.rescale))\n",
    "#vars_neut_post <- matrix(nrow = length(time), ncol = length(trees.all.rescale))\n",
    "for(i in 1:length(trees.all.rescale)){\t\n",
    "\ttrajs_neut[,i] <- est_af_traj_neut(lins.list[[i]])\n",
    "\tvars_neut_bin[,i] <- est_af_var_neut_bin(lins.list[[i]])\n",
    "\t#vars_neut_post[,i] <- est_af_var_neut_post(lins.list[[i]])\n",
    "}\n",
    "\n",
    "trajs_neut[time == 0,] <- (n_ders[-misid]/n_chroms) #in the present, just use sample allele frequency.\n",
    "#This is the same as the output of est_af_traj_neut() if no coalescent times get rounded to 0.\n",
    "vars_neut_bin[time == 0,] <- (n_ders[-misid]/n_chroms)*(1 - (n_ders[-misid]/n_chroms))/n_chroms\n",
    "traj.phen.neut <- 2 * trajs_neut %*%  beta.r\n",
    "var.phen.neut.bin <- 4 * vars_neut_bin %*% beta.r^2\n",
    "#var.phen.neut.post <- 4 * vars_neut_post %*% beta^2\n",
    "save.image(file = \"test.RData\")"
   ]
  },
  {
   "cell_type": "code",
   "execution_count": 233,
   "metadata": {},
   "outputs": [],
   "source": [
    "%%R\n",
    "load(\"test.RData\")\n",
    "#waiting time-based estimates and variance\n",
    "trajs_est_wt_l1 <- matrix(nrow = length(time), ncol = length(trees.all.rescale))\n",
    "trajs_var_wt_l1 <- matrix(nrow = length(time), ncol = length(trees.all.rescale))\n",
    "for(i in 1:length(trees.all.rescale)){\n",
    "\twt.estvar <- p_ests_wait(times.c[[i]], time, ell.ref = 1, ell.alt = 1)\n",
    "\ttrajs_est_wt_l1[,i] <- wt.estvar[,1]\t\n",
    "\ttrajs_var_wt_l1[,i] <- wt.estvar[,2]\t\n",
    "}\n",
    "traj.phen.wt_l1 <- 2 * trajs_est_wt_l1 %*%  beta.r \n",
    "var.phen.wt_l1 <- 4 * trajs_var_wt_l1 %*%  beta.r^2 \n",
    "traj.phen.wt_l1[time == 0] <- traj.phen.neut[time == 0]\n",
    "var.phen.wt_l1[time == 0] <- var.phen.neut.bin[time == 0]\n",
    "save.image(file = \"test.RData\")"
   ]
  },
  {
   "cell_type": "code",
   "execution_count": 234,
   "metadata": {},
   "outputs": [],
   "source": [
    "%%R\n",
    "load(\"test.RData\")\n",
    "#lineage number based estimates and variance.\n",
    "trajs_mom_smoothtime <- matrix(nrow = length(time), ncol = length(trees.all.rescale))\n",
    "trajs_var_mom_smoothtime <- matrix(nrow = length(time), ncol = length(trees.all.rescale))\n",
    "for(i in 1:length(trees.all.rescale)){\t\t\n",
    "\ttrajs_mom_smoothtime[,i] <- est_af_traj_mom.smoothtime(lins.list[[i]], time)\n",
    "\ttrajs_var_mom_smoothtime[,i] <- est_af_var_mom.smoothtime_coaltimes(lins.list[[i]], time)\n",
    "}\n",
    "traj.phen.mom_smoothtime <- 2 * trajs_mom_smoothtime %*%  beta.r \n",
    "traj.phen.mom_smoothtime[time == 0] <- traj.phen.neut[time == 0] \n",
    "#trajs_var_mom_smoothtime.nonan <- trajs_var_mom_smoothtime\n",
    "#trajs_var_mom_smoothtime.nonan[is.nan(trajs_var_mom_smoothtime.nonan)] <- 0\n",
    "var.phen.mom_smoothtime <- 4 * trajs_var_mom_smoothtime %*%  beta.r^2 \n",
    "var.phen.mom_smoothtime[time == 0] <- var.phen.neut.bin[time == 0]\n",
    "save.image(file = \"test.RData\")"
   ]
  },
  {
   "cell_type": "code",
   "execution_count": 235,
   "metadata": {},
   "outputs": [
    {
     "name": "stdout",
     "output_type": "stream",
     "text": [
      "[1] -0.03754529\n"
     ]
    },
    {
     "data": {
      "image/png": "[encoded data removed]",
      "text/plain": [
       "<IPython.core.display.Image object>"
      ]
     },
     "metadata": {},
     "output_type": "display_data"
    }
   ],
   "source": [
    "%%R\n",
    "load(\"test.RData\")\n",
    "allele.freqs <- n_ders[-misid]/n_chroms\n",
    "plot(allele.freqs, beta.r)\n",
    "print(cor(allele.freqs, abs(beta.r)))\n",
    "save.image(file = \"test.RData\")"
   ]
  },
  {
   "cell_type": "code",
   "execution_count": 248,
   "metadata": {},
   "outputs": [
    {
     "data": {
      "image/png": "[encoded data removed]",
      "text/plain": [
       "<IPython.core.display.Image object>"
      ]
     },
     "metadata": {},
     "output_type": "display_data"
    }
   ],
   "source": [
    "%%R\n",
    "load(\"test.RData\")\n",
    "pal <- c('#1b9e77','#d95f02','#7570b3','#e7298a')\n",
    "pal <- c(rgb(27/256,158/256,119/256),rgb(217/256,95/256,2/256),rgb(117/256,112/256,179/256),rgb(231/256,41/256,138/256))\n",
    "pal.int <- c(rgb(27/256,158/256,119/256,1/3),rgb(217/256,95/256,2/256,1/3),rgb(117/256,112/256,179/256,1/3),rgb(231/256,41/256,138/256,1/3))\n",
    "\n",
    "#plot(-time, traj.phen.neut, type = \"l\", xlab = \"Time (coalescent units)\", ylab = \"Estimated mean polygenic height (UK 1000G)\", ylim = c(-5, 5), xlim = c(-0.2, 0), xaxt = \"n\", bty = \"n\")\n",
    "plot(-time, traj.phen.neut, type = \"l\", xlab = \"Time (coalescent units)\", ylab = \"Estimated mean polygenic BMI (TNG)\", ylim = c(0, 20), xlim = c(-0.2, 0), xaxt = \"n\", bty = \"n\")\n",
    "axis(1, at = c(0, -.1, -.2))\n",
    "polygon(c(-time, rev(-time)), c(traj.phen.neut + 1.96*sqrt(var.phen.neut.bin), rev(traj.phen.neut - 1.96*sqrt(var.phen.neut.bin))) , col = pal.int[1], border = NA)\n",
    "polygon(c(-time, rev(-time)), c(traj.phen.wt_l1 + 1.96*sqrt(var.phen.wt_l1), rev(traj.phen.wt_l1  - 1.96*sqrt(var.phen.wt_l1 ))) , col = pal.int[3], border = NA)\n",
    "polygon(c(-time[1:1000], rev(-time[1:1000])), c(traj.phen.mom_smoothtime[1:1000] + 1.96*sqrt(var.phen.mom_smoothtime[1:1000]), rev(traj.phen.mom_smoothtime[1:1000]  - 1.96*sqrt(var.phen.mom_smoothtime[1:1000] ))) , col = pal.int[2], border = NA)\n",
    "lines(-time, traj.phen.wt_l1, col = pal[3], lwd = 2)\n",
    "lines(-time, traj.phen.mom_smoothtime, col = pal[2], lwd = 2)\n",
    "lines(-time, traj.phen.neut, col = pal[1], lwd = 2)\n",
    "legend(\"topleft\", lwd = 1, col = pal[c(1,3,2)], legend = c(\"Proportion-of-lineages\", \"Waiting-time\", \"Lineages-remaining\"), bty = \"n\")\n",
    "save.image(file = \"test.RData\")"
   ]
  },
  {
   "cell_type": "markdown",
   "metadata": {},
   "source": [
    "これでとりあえず動きました。小サイズテストはこれでよかろう。\n",
    "\n",
    "160SNPで10分だったことを考えると、16000SNPで1000分。\n",
    "\n",
    "1日はかからないのでここでそのままやってしまえばよかろう。"
   ]
  },
  {
   "cell_type": "markdown",
   "metadata": {},
   "source": [
    "### 本解析"
   ]
  },
  {
   "cell_type": "code",
   "execution_count": 9,
   "metadata": {
    "vscode": {
     "languageId": "shellscript"
    }
   },
   "outputs": [
    {
     "name": "stdout",
     "output_type": "stream",
     "text": [
      "BMI_Eastern_Asian.QC2.txt\n",
      "eastasia.bmi.snp.auto.tsv\n",
      "eastasia.bmi.snp.tsv\n",
      "helper_functions_coal_sel.R\n",
      "RentPlus.jar\n",
      "temp\n",
      "test.RData\n",
      "test.tsv\n",
      "TNG_nonmix.ids\n",
      "TNG_nonmix.RData\n",
      "Tongan.QC.FIXP.phased.annotated.vcf.gz\n",
      "Tongan.QC.FIXP.phased.annotated.vcf.gz.csi\n"
     ]
    }
   ],
   "source": [
    "%%bash\n",
    "ls"
   ]
  },
  {
   "cell_type": "code",
   "execution_count": 7,
   "metadata": {
    "vscode": {
     "languageId": "shellscript"
    }
   },
   "outputs": [
    {
     "name": "stdout",
     "output_type": "stream",
     "text": [
      "/home/hmiwa/hmiwa1/storage/hmiwa-lab/06_231226_PRSadvance/analysis\n",
      "CHR \t POS \t A1 \t A2 \t rsid \t beta\n",
      "10 \t 100020880 \t C \t T \t rs33995374 \t 0.077\n",
      "10 \t 100044136 \t G \t A \t rs4919199 \t 0.0076\n",
      "10 \t 100144782 \t C \t T \t rs2296441 \t 0.012\n",
      "10 \t 100148004 \t T \t C \t rs2182169 \t 0.014\n",
      "10 \t 100148176 \t A \t G \t rs2147896 \t 0.0052\n",
      "10 \t 101048492 \t G \t A \t rs2862553 \t 0.018\n",
      "10 \t 101492403 \t T \t G \t rs2281636 \t 0.0079\n",
      "10 \t 101563815 \t G \t A \t rs2273697 \t 0.0035\n",
      "10 \t 101805442 \t C \t T \t rs11599750 \t 0.012\n",
      "9 \t 98278972 \t T \t C \t rs202111971 \t 0.054\n",
      "9 \t 98367717 \t C \t T \t rs10818991 \t 0.014\n",
      "9 \t 98410405 \t C \t T \t rs10990303 \t 0.0081\n",
      "9 \t 98482261 \t T \t G \t rs10733574 \t 0.0021\n",
      "9 \t 98638306 \t C \t T \t rs56108623 \t 0.029\n",
      "9 \t 98794679 \t G \t A \t rs10760718 \t 0.031\n",
      "9 \t 99064296 \t C \t T \t rs2066480 \t 0.024\n",
      "9 \t 99280421 \t A \t G \t rs7852498 \t 0.0085\n",
      "9 \t 99525487 \t A \t G \t rs3780548 \t 0.0071\n",
      "9 \t 99580834 \t A \t C \t rs75989782 \t 0.006\n",
      " 13741  82446 579138 eastasia.bmi.snp.auto.tsv\n"
     ]
    }
   ],
   "source": [
    "%%bash\n",
    "cd ~/hmiwa1/storage/hmiwa-lab/06_231226_PRSadvance/analysis\n",
    "pwd\n",
    "grep -v X eastasia.bmi.snp.tsv > eastasia.bmi.snp.auto.tsv\n",
    "head eastasia.bmi.snp.auto.tsv\n",
    "tail eastasia.bmi.snp.auto.tsv\n",
    "wc eastasia.bmi.snp.auto.tsv"
   ]
  },
  {
   "cell_type": "code",
   "execution_count": 19,
   "metadata": {
    "vscode": {
     "languageId": "shellscript"
    }
   },
   "outputs": [
    {
     "name": "stdout",
     "output_type": "stream",
     "text": [
      "/home/hmiwa/hmiwa1/storage/hmiwa-lab/06_231226_PRSadvance/analysis\n",
      "CHR \t POS \t A1 \t A2 \t rsid \t beta\n",
      "2 \t 43587504 \t C \t T \t rs6732426 \t 0.026\n",
      "2 \t 43638185 \t C \t T \t rs7567607 \t 0.021\n",
      "2 \t 43783141 \t A \t G \t rs6725776 \t 0.0028\n",
      "2 \t 43797619 \t C \t T \t rs17031056 \t 0.01\n",
      "2 \t 43903262 \t C \t A \t rs74589926 \t 0.078\n",
      "2 \t 43927538 \t C \t A \t rs17031297 \t 0.029\n",
      "2 \t 44116923 \t C \t T \t rs147302249 \t 0.019\n",
      "2 \t 44524575 \t T \t C \t rs4952710 \t 0.023\n",
      "2 \t 44768202 \t T \t C \t rs2341459 \t 0.021\n",
      "2 \t 45123765 \t G \t T \t rs6707760 \t 0.0017\n",
      "2 \t 45512908 \t G \t A \t rs6707333 \t 0.0043\n",
      "2 \t 45611 \t C \t T \t rs200415885 \t 0.083\n",
      "2 \t 45646824 \t A \t G \t rs3213787 \t 0.02\n",
      "2 \t 45995181 \t G \t A \t rs3924521 \t 0.019\n",
      "2 \t 46023916 \t C \t T \t rs12472172 \t 0.02\n",
      "2 \t 46353166 \t A \t G \t rs10495928 \t 0.014\n",
      " 17 102 696 test2.tsv\n"
     ]
    }
   ],
   "source": [
    "%%bash\n",
    "cd ~/hmiwa1/storage/hmiwa-lab/06_231226_PRSadvance/analysis\n",
    "pwd\n",
    "cat eastasia.bmi.snp.auto.tsv | head -n 1 > test2.tsv\n",
    "cat eastasia.bmi.snp.auto.tsv | sed -n 7985,8000p >> test2.tsv\n",
    "cat test2.tsv\n",
    "wc test2.tsv\n",
    "# has a probremになったSNPは5桁だったので修正テストをした。"
   ]
  },
  {
   "cell_type": "code",
   "execution_count": 20,
   "metadata": {},
   "outputs": [
    {
     "name": "stdout",
     "output_type": "stream",
     "text": [
      "The rpy2.ipython extension is already loaded. To reload it, use:\n",
      "  %reload_ext rpy2.ipython\n"
     ]
    }
   ],
   "source": [
    "%load_ext rpy2.ipython"
   ]
  },
  {
   "cell_type": "code",
   "execution_count": 21,
   "metadata": {},
   "outputs": [
    {
     "name": "stdout",
     "output_type": "stream",
     "text": [
      "[1] \"/home1/hmiwa/storage/hmiwa-lab/06_231226_PRSadvance/analysis\"\n",
      "[1] \"/home1/hmiwa/storage/hmiwa-lab/06_231226_PRSadvance/analysis\"\n",
      "[1] \"/home1/hmiwa/storage/hmiwa-lab/06_231226_PRSadvance/analysis\"\n"
     ]
    }
   ],
   "source": [
    "%%R\n",
    "#ディレクトリチェック\n",
    "print(getwd())\n",
    "setwd(\"~/hmiwa1/storage/hmiwa-lab/06_231226_PRSadvance/analysis\")\n",
    "print(getwd())\n",
    "#ライブラリ読み込み\n",
    "print(getwd())\n",
    "library(psych)\n",
    "library(data.table)\n",
    "library(ape)\n",
    "#ファイル名定義\n",
    "id_file <- \"TNG_nonmix.ids\" #要変更\n",
    "vcf_file <- \"temp/test.vcf\"\n",
    "out_pref <- \"temp/hap\"\n",
    "rent_file <- \"temp/rent_in.txt\"\n",
    "rentplus_fn <- \"RentPlus.jar\"\n",
    "height_fn <- \"eastasia.bmi.snp.auto.tsv\" #要変更\n",
    "helper_fn <- \"helper_functions_coal_sel.R\"\n",
    "target_vcf <- \"Tongan.QC.FIXP.phased.annotated.vcf.gz\"\n",
    "#関数名セット\n",
    "source(helper_fn)\n",
    "\n",
    "save.image(file = \"TNG_nonmix.RData\")"
   ]
  },
  {
   "cell_type": "code",
   "execution_count": 22,
   "metadata": {},
   "outputs": [],
   "source": [
    "%%R\n",
    "load(\"TNG_nonmix.RData\")\n",
    "\n",
    "#ファイル読み込み\n",
    "mark.dat <- fread(height_fn, head = TRUE)\n",
    "nmarks <- nrow(mark.dat)\n",
    "\n",
    "#ウィンドウサイズ\n",
    "wid <- 100000 #half-window size around focal locus to extract\n",
    "\n",
    "#格納用変数セット\n",
    "n_ders <- numeric(0)\n",
    "thetas <- numeric(0)\n",
    "\n",
    "trees.all <- list()\n",
    "trees.anc <- list()\n",
    "trees.der <- list()\n",
    "\n",
    "seg.sites <- numeric()\n",
    "meas.length <- numeric()\n",
    "n.chrs <- numeric()\n",
    "\n",
    "snps.fail1 <- rep(0, dim(mark.dat)[1])\n",
    "snps.miss <- rep(0, dim(mark.dat)[1])\n",
    "monomorphic_loci <- numeric()\n",
    "\n",
    "info.sites <- list() # for each snp, ID pos allele0 allele1\n",
    "\n",
    "#ログファイル用意\n",
    "system(\"echo '' > temp/tmp\")\n",
    "system(\"echo '' > temp/log\")\n",
    "\n",
    "save.image(file = \"TNG_nonmix.RData\")"
   ]
  },
  {
   "cell_type": "code",
   "execution_count": 23,
   "metadata": {},
   "outputs": [
    {
     "name": "stdout",
     "output_type": "stream",
     "text": [
      "[1] \"round 1 complete\"\n",
      "[1] \"segsites = 499\"\n",
      "[1] \"measured length = 199843\"\n",
      "[1] \"round 2 complete\"\n",
      "[1] \"segsites = 511\"\n",
      "[1] \"measured length = 198428\"\n",
      "[1] \"round 3 complete\"\n",
      "[1] \"segsites = 760\"\n",
      "[1] \"measured length = 199361\"\n",
      "[1] \"round 4 complete\"\n",
      "[1] \"segsites = 747\"\n",
      "[1] \"measured length = 199314\"\n",
      "[1] \"round 5 complete\"\n",
      "[1] \"segsites = 747\"\n",
      "[1] \"measured length = 199314\"\n",
      "[1] \"round 6 complete\"\n",
      "[1] \"segsites = 574\"\n",
      "[1] \"measured length = 199808\"\n",
      "[1] \"round 7 complete\"\n",
      "[1] \"segsites = 416\"\n",
      "[1] \"measured length = 199599\"\n",
      "[1] \"SNP 8 missing from TNG\"\n",
      "[1] \"round 9 complete\"\n",
      "[1] \"segsites = 541\"\n",
      "[1] \"measured length = 199549\"\n",
      "[1] \"SNP 10 missing from TNG\"\n",
      "[1] \"round 11 complete\"\n",
      "[1] \"segsites = 527\"\n",
      "[1] \"measured length = 199932\"\n",
      "[1] \"round 12 complete\"\n",
      "[1] \"segsites = 569\"\n",
      "[1] \"measured length = 199734\"\n",
      "[1] \"round 13 complete\"\n",
      "[1] \"segsites = 561\"\n",
      "[1] \"measured length = 199864\"\n",
      "[1] \"SNP 14 missing from TNG\"\n",
      "[1] \"round 15 complete\"\n",
      "[1] \"segsites = 540\"\n",
      "[1] \"measured length = 199404\"\n",
      "[1] \"round 16 complete\"\n",
      "[1] \"segsites = 555\"\n",
      "[1] \"measured length = 199152\"\n",
      "[1] \"round 17 complete\"\n",
      "[1] \"segsites = 570\"\n",
      "[1] \"measured length = 199377\"\n",
      "[1] \"round 18 complete\"\n",
      "[1] \"segsites = 571\"\n",
      "[1] \"measured length = 199575\"\n",
      "[1] \"round 19 complete\"\n",
      "[1] \"segsites = 559\"\n",
      "[1] \"measured length = 197768\"\n",
      "[1] \"round 20 complete\"\n",
      "[1] \"segsites = 488\"\n",
      "[1] \"measured length = 199531\"\n",
      "[1] \"SNP 21 missing from TNG\"\n",
      "[1] \"SNP 22 missing from TNG\"\n",
      "[1] \"SNP 23 missing from TNG\"\n",
      "[1] \"round 24 complete\"\n",
      "[1] \"segsites = 343\"\n",
      "[1] \"measured length = 199578\"\n",
      "[1] \"round 25 complete\"\n",
      "[1] \"segsites = 551\"\n",
      "[1] \"measured length = 199593\"\n",
      "[1] \"round 26 complete\"\n",
      "[1] \"segsites = 343\"\n",
      "[1] \"measured length = 197183\"\n",
      "[1] \"round 27 complete\"\n",
      "[1] \"segsites = 277\"\n",
      "[1] \"measured length = 198058\"\n",
      "[1] \"SNP 28 missing from TNG\"\n",
      "[1] \"round 29 complete\"\n",
      "[1] \"segsites = 280\"\n",
      "[1] \"measured length = 199108\"\n",
      "[1] \"round 30 complete\"\n",
      "[1] \"segsites = 280\"\n",
      "[1] \"measured length = 198145\"\n",
      "[1] \"round 31 complete\"\n",
      "[1] \"segsites = 321\"\n",
      "[1] \"measured length = 196883\"\n",
      "[1] \"SNP 32 missing from TNG\"\n",
      "[1] \"round 33 complete\"\n",
      "[1] \"segsites = 434\"\n",
      "[1] \"measured length = 199379\"\n",
      "[1] \"round 34 complete\"\n",
      "[1] \"segsites = 458\"\n",
      "[1] \"measured length = 198120\"\n",
      "[1] \"round 35 complete\"\n",
      "[1] \"segsites = 557\"\n",
      "[1] \"measured length = 198710\"\n",
      "[1] \"round 36 complete\"\n",
      "[1] \"segsites = 563\"\n",
      "[1] \"measured length = 199339\"\n",
      "[1] \"round 37 complete\"\n",
      "[1] \"segsites = 558\"\n",
      "[1] \"measured length = 198979\"\n",
      "[1] \"SNP 38 missing from TNG\"\n",
      "[1] \"round 39 complete\"\n",
      "[1] \"segsites = 530\"\n",
      "[1] \"measured length = 199402\"\n",
      "[1] \"round 40 complete\"\n",
      "[1] \"segsites = 525\"\n",
      "[1] \"measured length = 199303\"\n",
      "[1] \"round 41 complete\"\n",
      "[1] \"segsites = 489\"\n",
      "[1] \"measured length = 199231\"\n",
      "[1] \"round 42 complete\"\n",
      "[1] \"segsites = 417\"\n",
      "[1] \"measured length = 199151\"\n",
      "[1] \"round 43 complete\"\n",
      "[1] \"segsites = 408\"\n",
      "[1] \"measured length = 199713\"\n",
      "[1] \"round 44 complete\"\n",
      "[1] \"segsites = 434\"\n",
      "[1] \"measured length = 199160\"\n",
      "[1] \"SNP 45 missing from TNG\"\n",
      "[1] \"round 46 complete\"\n",
      "[1] \"segsites = 362\"\n",
      "[1] \"measured length = 198673\"\n",
      "[1] \"round 47 complete\"\n",
      "[1] \"segsites = 381\"\n",
      "[1] \"measured length = 199152\"\n",
      "[1] \"round 48 complete\"\n",
      "[1] \"segsites = 382\"\n",
      "[1] \"measured length = 199300\"\n",
      "[1] \"round 49 complete\"\n",
      "[1] \"segsites = 560\"\n",
      "[1] \"measured length = 198588\"\n",
      "[1] \"round 50 complete\"\n",
      "[1] \"segsites = 560\"\n",
      "[1] \"measured length = 199687\"\n",
      "[1] \"round 51 complete\"\n",
      "[1] \"segsites = 539\"\n",
      "[1] \"measured length = 197726\"\n",
      "[1] \"SNP 52 missing from TNG\"\n",
      "[1] \"round 53 complete\"\n",
      "[1] \"segsites = 469\"\n",
      "[1] \"measured length = 199717\"\n",
      "[1] \"round 54 complete\"\n",
      "[1] \"segsites = 460\"\n",
      "[1] \"measured length = 199249\"\n",
      "[1] \"SNP 55 missing from TNG\"\n",
      "[1] \"SNP 56 missing from TNG\"\n",
      "[1] \"SNP 57 missing from TNG\"\n",
      "[1] \"round 58 complete\"\n",
      "[1] \"segsites = 486\"\n",
      "[1] \"measured length = 199749\"\n",
      "[1] \"round 59 complete\"\n",
      "[1] \"segsites = 410\"\n",
      "[1] \"measured length = 197543\"\n",
      "[1] \"round 60 complete\"\n",
      "[1] \"segsites = 514\"\n",
      "[1] \"measured length = 199875\"\n",
      "[1] \"round 61 complete\"\n",
      "[1] \"segsites = 514\"\n",
      "[1] \"measured length = 199523\"\n",
      "[1] \"round 62 complete\"\n",
      "[1] \"segsites = 440\"\n",
      "[1] \"measured length = 199160\"\n",
      "[1] \"SNP 63 missing from TNG\"\n",
      "[1] \"round 64 complete\"\n",
      "[1] \"segsites = 665\"\n",
      "[1] \"measured length = 199836\"\n",
      "[1] \"round 65 complete\"\n",
      "[1] \"segsites = 515\"\n",
      "[1] \"measured length = 198385\"\n",
      "[1] \"round 66 complete\"\n",
      "[1] \"segsites = 335\"\n",
      "[1] \"measured length = 198599\"\n",
      "[1] \"round 67 complete\"\n",
      "[1] \"segsites = 337\"\n",
      "[1] \"measured length = 198192\"\n",
      "[1] \"round 68 complete\"\n",
      "[1] \"segsites = 333\"\n",
      "[1] \"measured length = 197662\"\n",
      "[1] \"round 69 complete\"\n",
      "[1] \"segsites = 646\"\n",
      "[1] \"measured length = 199534\"\n",
      "[1] \"round 70 complete\"\n",
      "[1] \"segsites = 632\"\n",
      "[1] \"measured length = 199915\"\n",
      "[1] \"round 71 complete\"\n",
      "[1] \"segsites = 366\"\n",
      "[1] \"measured length = 199906\"\n",
      "[1] \"round 72 complete\"\n",
      "[1] \"segsites = 543\"\n",
      "[1] \"measured length = 199043\"\n",
      "[1] \"SNP 73 missing from TNG\"\n",
      "[1] \"SNP 74 missing from TNG\"\n",
      "[1] \"round 75 complete\"\n",
      "[1] \"segsites = 612\"\n",
      "[1] \"measured length = 199286\"\n",
      "[1] \"round 76 complete\"\n",
      "[1] \"segsites = 632\"\n",
      "[1] \"measured length = 199691\"\n",
      "[1] \"round 77 complete\"\n",
      "[1] \"segsites = 683\"\n",
      "[1] \"measured length = 199289\"\n",
      "[1] \"round 78 complete\"\n",
      "[1] \"segsites = 687\"\n",
      "[1] \"measured length = 199308\"\n",
      "[1] \"round 79 complete\"\n",
      "[1] \"segsites = 488\"\n",
      "[1] \"measured length = 198690\"\n",
      "[1] \"round 80 complete\"\n",
      "[1] \"segsites = 513\"\n",
      "[1] \"measured length = 198868\"\n",
      "[1] \"round 81 complete\"\n",
      "[1] \"segsites = 510\"\n",
      "[1] \"measured length = 198586\"\n",
      "[1] \"round 82 complete\"\n",
      "[1] \"segsites = 475\"\n",
      "[1] \"measured length = 199526\"\n",
      "[1] \"round 83 complete\"\n",
      "[1] \"segsites = 461\"\n",
      "[1] \"measured length = 199715\"\n",
      "[1] \"round 84 complete\"\n",
      "[1] \"segsites = 370\"\n",
      "[1] \"measured length = 198153\"\n",
      "[1] \"round 85 complete\"\n",
      "[1] \"segsites = 371\"\n",
      "[1] \"measured length = 198823\"\n",
      "[1] \"SNP 86 missing from TNG\"\n",
      "[1] \"round 87 complete\"\n",
      "[1] \"segsites = 345\"\n",
      "[1] \"measured length = 197906\"\n",
      "[1] \"round 88 complete\"\n",
      "[1] \"segsites = 739\"\n",
      "[1] \"measured length = 199452\"\n",
      "[1] \"round 89 complete\"\n",
      "[1] \"segsites = 739\"\n",
      "[1] \"measured length = 199725\"\n",
      "[1] \"round 90 complete\"\n",
      "[1] \"segsites = 738\"\n",
      "[1] \"measured length = 199475\"\n",
      "[1] \"round 91 complete\"\n",
      "[1] \"segsites = 747\"\n",
      "[1] \"measured length = 199147\"\n",
      "[1] \"round 92 complete\"\n",
      "[1] \"segsites = 737\"\n",
      "[1] \"measured length = 199179\"\n",
      "[1] \"round 93 complete\"\n",
      "[1] \"segsites = 736\"\n",
      "[1] \"measured length = 199663\"\n",
      "[1] \"round 94 complete\"\n",
      "[1] \"segsites = 735\"\n",
      "[1] \"measured length = 199218\"\n",
      "[1] \"round 95 complete\"\n",
      "[1] \"segsites = 728\"\n",
      "[1] \"measured length = 199443\"\n",
      "[1] \"round 96 complete\"\n",
      "[1] \"segsites = 754\"\n",
      "[1] \"measured length = 199991\"\n",
      "[1] \"round 97 complete\"\n",
      "[1] \"segsites = 358\"\n",
      "[1] \"measured length = 199488\"\n",
      "[1] \"round 98 complete\"\n",
      "[1] \"segsites = 362\"\n",
      "[1] \"measured length = 198685\"\n",
      "[1] \"round 99 complete\"\n",
      "[1] \"segsites = 492\"\n",
      "[1] \"measured length = 199582\"\n",
      "[1] \"round 100 complete\"\n",
      "[1] \"segsites = 451\"\n",
      "[1] \"measured length = 198047\"\n",
      "[1] \"round 101 complete\"\n",
      "[1] \"segsites = 417\"\n",
      "[1] \"measured length = 198920\"\n",
      "[1] \"SNP 102 missing from TNG\"\n",
      "[1] \"round 103 complete\"\n",
      "[1] \"segsites = 336\"\n",
      "[1] \"measured length = 199091\"\n",
      "[1] \"SNP 104 missing from TNG\"\n",
      "[1] \"SNP 105 missing from TNG\"\n",
      "[1] \"SNP 106 missing from TNG\"\n",
      "[1] \"SNP 107 missing from TNG\"\n",
      "[1] \"SNP 108 missing from TNG\"\n",
      "[1] \"SNP 109 missing from TNG\"\n",
      "[1] \"SNP 110 missing from TNG\"\n",
      "[1] \"round 111 complete\"\n",
      "[1] \"segsites = 542\"\n",
      "[1] \"measured length = 199762\"\n",
      "[1] \"round 112 complete\"\n",
      "[1] \"segsites = 626\"\n",
      "[1] \"measured length = 199146\"\n",
      "[1] \"round 113 complete\"\n",
      "[1] \"segsites = 483\"\n",
      "[1] \"measured length = 199201\"\n",
      "[1] \"round 114 complete\"\n",
      "[1] \"segsites = 621\"\n",
      "[1] \"measured length = 199344\"\n",
      "[1] \"SNP 115 missing from TNG\"\n",
      "[1] \"round 116 complete\"\n",
      "[1] \"segsites = 489\"\n",
      "[1] \"measured length = 198749\"\n",
      "[1] \"round 117 complete\"\n",
      "[1] \"segsites = 588\"\n",
      "[1] \"measured length = 199402\"\n",
      "[1] \"round 118 complete\"\n",
      "[1] \"segsites = 428\"\n",
      "[1] \"measured length = 199618\"\n",
      "[1] \"round 119 complete\"\n",
      "[1] \"segsites = 659\"\n",
      "[1] \"measured length = 198769\"\n",
      "[1] \"round 120 complete\"\n",
      "[1] \"segsites = 620\"\n",
      "[1] \"measured length = 199103\"\n",
      "[1] \"SNP 121 missing from TNG\"\n",
      "[1] \"SNP 122 missing from TNG\"\n",
      "[1] \"round 123 complete\"\n",
      "[1] \"segsites = 502\"\n",
      "[1] \"measured length = 197442\"\n",
      "[1] \"round 124 complete\"\n",
      "[1] \"segsites = 452\"\n",
      "[1] \"measured length = 198799\"\n",
      "[1] \"round 125 complete\"\n",
      "[1] \"segsites = 777\"\n",
      "[1] \"measured length = 198463\"\n",
      "[1] \"round 126 complete\"\n",
      "[1] \"segsites = 538\"\n",
      "[1] \"measured length = 198724\"\n",
      "[1] \"round 127 complete\"\n",
      "[1] \"segsites = 705\"\n",
      "[1] \"measured length = 198117\"\n",
      "[1] \"round 128 complete\"\n",
      "[1] \"segsites = 810\"\n",
      "[1] \"measured length = 199624\"\n",
      "[1] \"SNP 129 missing from TNG\"\n",
      "[1] \"SNP 130 missing from TNG\"\n",
      "[1] \"round 131 complete\"\n",
      "[1] \"segsites = 688\"\n",
      "[1] \"measured length = 199809\"\n",
      "[1] \"round 132 complete\"\n",
      "[1] \"segsites = 789\"\n",
      "[1] \"measured length = 199594\"\n",
      "[1] \"round 133 complete\"\n",
      "[1] \"segsites = 846\"\n",
      "[1] \"measured length = 199598\"\n",
      "[1] \"round 134 complete\"\n",
      "[1] \"segsites = 559\"\n",
      "[1] \"measured length = 199379\"\n",
      "[1] \"round 135 complete\"\n",
      "[1] \"segsites = 552\"\n",
      "[1] \"measured length = 199450\"\n",
      "[1] \"round 136 complete\"\n",
      "[1] \"segsites = 550\"\n",
      "[1] \"measured length = 199553\"\n",
      "[1] \"round 137 complete\"\n",
      "[1] \"segsites = 535\"\n",
      "[1] \"measured length = 199558\"\n",
      "[1] \"round 138 complete\"\n",
      "[1] \"segsites = 681\"\n",
      "[1] \"measured length = 199753\"\n",
      "[1] \"round 139 complete\"\n",
      "[1] \"segsites = 908\"\n",
      "[1] \"measured length = 199188\"\n",
      "[1] \"round 140 complete\"\n",
      "[1] \"segsites = 907\"\n",
      "[1] \"measured length = 199918\"\n",
      "[1] \"SNP 141 missing from TNG\"\n",
      "[1] \"round 142 complete\"\n",
      "[1] \"segsites = 895\"\n",
      "[1] \"measured length = 198042\"\n",
      "[1] \"round 143 complete\"\n",
      "[1] \"segsites = 894\"\n",
      "[1] \"measured length = 197076\"\n",
      "[1] \"round 144 complete\"\n",
      "[1] \"segsites = 675\"\n",
      "[1] \"measured length = 199782\"\n",
      "[1] \"round 145 complete\"\n",
      "[1] \"segsites = 656\"\n",
      "[1] \"measured length = 199137\"\n",
      "[1] \"round 146 complete\"\n",
      "[1] \"segsites = 560\"\n",
      "[1] \"measured length = 197466\"\n",
      "[1] \"SNP 147 missing from TNG\"\n",
      "[1] \"round 148 complete\"\n",
      "[1] \"segsites = 553\"\n",
      "[1] \"measured length = 199699\"\n",
      "[1] \"round 149 complete\"\n",
      "[1] \"segsites = 606\"\n",
      "[1] \"measured length = 197368\"\n",
      "[1] \"round 150 complete\"\n",
      "[1] \"segsites = 671\"\n",
      "[1] \"measured length = 199796\"\n",
      "[1] \"SNP 151 missing from TNG\"\n",
      "[1] \"round 152 complete\"\n",
      "[1] \"segsites = 992\"\n",
      "[1] \"measured length = 198735\"\n",
      "[1] \"round 153 complete\"\n",
      "[1] \"segsites = 407\"\n",
      "[1] \"measured length = 198047\"\n",
      "[1] \"round 154 complete\"\n",
      "[1] \"segsites = 403\"\n",
      "[1] \"measured length = 199149\"\n",
      "[1] \"SNP 155 missing from TNG\"\n",
      "[1] \"round 156 complete\"\n",
      "[1] \"segsites = 806\"\n",
      "[1] \"measured length = 198815\"\n",
      "[1] \"round 157 complete\"\n",
      "[1] \"segsites = 743\"\n",
      "[1] \"measured length = 199228\"\n",
      "[1] \"round 158 complete\"\n",
      "[1] \"segsites = 599\"\n",
      "[1] \"measured length = 198248\"\n",
      "[1] \"round 159 complete\"\n",
      "[1] \"segsites = 603\"\n",
      "[1] \"measured length = 199366\"\n",
      "[1] \"round 160 complete\"\n",
      "[1] \"segsites = 602\"\n",
      "[1] \"measured length = 198799\"\n",
      "[1] \"round 161 complete\"\n",
      "[1] \"segsites = 835\"\n",
      "[1] \"measured length = 199956\"\n",
      "[1] \"round 162 complete\"\n",
      "[1] \"segsites = 429\"\n",
      "[1] \"measured length = 197734\"\n",
      "[1] \"round 163 complete\"\n",
      "[1] \"segsites = 334\"\n",
      "[1] \"measured length = 198610\"\n",
      "[1] \"round 164 complete\"\n",
      "[1] \"segsites = 764\"\n",
      "[1] \"measured length = 199720\"\n",
      "[1] \"SNP 165 missing from TNG\"\n",
      "[1] \"round 166 complete\"\n",
      "[1] \"segsites = 931\"\n",
      "[1] \"measured length = 199493\"\n",
      "[1] \"round 167 complete\"\n",
      "[1] \"segsites = 978\"\n",
      "[1] \"measured length = 199339\"\n",
      "[1] \"round 168 complete\"\n",
      "[1] \"segsites = 691\"\n",
      "[1] \"measured length = 199571\"\n",
      "[1] \"round 169 complete\"\n",
      "[1] \"segsites = 757\"\n",
      "[1] \"measured length = 199640\"\n",
      "[1] \"round 170 complete\"\n",
      "[1] \"segsites = 754\"\n",
      "[1] \"measured length = 198484\"\n",
      "[1] \"round 171 complete\"\n",
      "[1] \"segsites = 753\"\n",
      "[1] \"measured length = 199001\"\n",
      "[1] \"SNP 172 missing from TNG\"\n",
      "[1] \"SNP 173 missing from TNG\"\n",
      "[1] \"round 174 complete\"\n",
      "[1] \"segsites = 756\"\n",
      "[1] \"measured length = 199813\"\n",
      "[1] \"SNP 175 missing from TNG\"\n",
      "[1] \"round 176 complete\"\n",
      "[1] \"segsites = 758\"\n",
      "[1] \"measured length = 198424\"\n",
      "[1] \"round 177 complete\"\n",
      "[1] \"segsites = 704\"\n",
      "[1] \"measured length = 199659\"\n",
      "[1] \"round 178 complete\"\n",
      "[1] \"segsites = 785\"\n",
      "[1] \"measured length = 199424\"\n",
      "[1] \"round 179 complete\"\n",
      "[1] \"segsites = 819\"\n",
      "[1] \"measured length = 199242\"\n",
      "[1] \"round 180 complete\"\n",
      "[1] \"segsites = 734\"\n",
      "[1] \"measured length = 197995\"\n",
      "[1] \"round 181 complete\"\n",
      "[1] \"segsites = 720\"\n",
      "[1] \"measured length = 199577\"\n",
      "[1] \"round 182 complete\"\n",
      "[1] \"segsites = 846\"\n",
      "[1] \"measured length = 199460\"\n",
      "[1] \"round 183 complete\"\n",
      "[1] \"segsites = 675\"\n",
      "[1] \"measured length = 198585\"\n",
      "[1] \"round 184 complete\"\n",
      "[1] \"segsites = 894\"\n",
      "[1] \"measured length = 199736\"\n",
      "[1] \"round 185 complete\"\n",
      "[1] \"segsites = 769\"\n",
      "[1] \"measured length = 199847\"\n",
      "[1] \"round 186 complete\"\n",
      "[1] \"segsites = 925\"\n",
      "[1] \"measured length = 198238\"\n",
      "[1] \"round 187 complete\"\n",
      "[1] \"segsites = 761\"\n",
      "[1] \"measured length = 199091\"\n",
      "[1] \"round 188 complete\"\n",
      "[1] \"segsites = 803\"\n",
      "[1] \"measured length = 181863\"\n",
      "[1] \"round 189 complete\"\n",
      "[1] \"segsites = 553\"\n",
      "[1] \"measured length = 167837\"\n",
      "[1] \"round 190 complete\"\n",
      "[1] \"segsites = 664\"\n",
      "[1] \"measured length = 199628\"\n",
      "[1] \"round 191 complete\"\n",
      "[1] \"segsites = 286\"\n",
      "[1] \"measured length = 196334\"\n",
      "[1] \"round 192 complete\"\n",
      "[1] \"segsites = 631\"\n",
      "[1] \"measured length = 199031\"\n",
      "[1] \"round 193 complete\"\n",
      "[1] \"segsites = 678\"\n",
      "[1] \"measured length = 199882\"\n",
      "[1] \"round 194 complete\"\n",
      "[1] \"segsites = 661\"\n",
      "[1] \"measured length = 199714\"\n",
      "[1] \"SNP 195 missing from TNG\"\n",
      "[1] \"round 196 complete\"\n",
      "[1] \"segsites = 494\"\n",
      "[1] \"measured length = 197845\"\n",
      "[1] \"SNP 197 missing from TNG\"\n",
      "[1] \"SNP 198 missing from TNG\"\n",
      "[1] \"SNP 199 missing from TNG\"\n",
      "[1] \"SNP 200 missing from TNG\"\n",
      "[1] \"SNP 201 missing from TNG\"\n",
      "[1] \"round 202 complete\"\n",
      "[1] \"segsites = 900\"\n",
      "[1] \"measured length = 199163\"\n",
      "[1] \"round 203 complete\"\n",
      "[1] \"segsites = 1070\"\n",
      "[1] \"measured length = 198519\"\n",
      "[1] \"round 204 complete\"\n",
      "[1] \"segsites = 848\"\n",
      "[1] \"measured length = 199177\"\n",
      "[1] \"round 205 complete\"\n",
      "[1] \"segsites = 786\"\n",
      "[1] \"measured length = 198062\"\n",
      "[1] \"round 206 complete\"\n",
      "[1] \"segsites = 812\"\n",
      "[1] \"measured length = 199404\"\n",
      "[1] \"round 207 complete\"\n",
      "[1] \"segsites = 809\"\n",
      "[1] \"measured length = 198506\"\n",
      "[1] \"SNP 208 missing from TNG\"\n",
      "[1] \"round 209 complete\"\n",
      "[1] \"segsites = 855\"\n",
      "[1] \"measured length = 199654\"\n",
      "[1] \"round 210 complete\"\n",
      "[1] \"segsites = 659\"\n",
      "[1] \"measured length = 197436\"\n",
      "[1] \"round 211 complete\"\n",
      "[1] \"segsites = 1150\"\n",
      "[1] \"measured length = 199450\"\n",
      "[1] \"round 212 complete\"\n",
      "[1] \"segsites = 782\"\n",
      "[1] \"measured length = 199584\"\n",
      "[1] \"round 213 complete\"\n",
      "[1] \"segsites = 1123\"\n",
      "[1] \"measured length = 199898\"\n",
      "[1] \"round 214 complete\"\n",
      "[1] \"segsites = 842\"\n",
      "[1] \"measured length = 199463\"\n",
      "[1] \"SNP 215 missing from TNG\"\n",
      "[1] \"SNP 216 missing from TNG\"\n",
      "[1] \"round 217 complete\"\n",
      "[1] \"segsites = 875\"\n",
      "[1] \"measured length = 198986\"\n",
      "[1] \"SNP 218 missing from TNG\"\n",
      "[1] \"round 219 complete\"\n",
      "[1] \"segsites = 227\"\n",
      "[1] \"measured length = 190062\"\n",
      "[1] \"round 220 complete\"\n",
      "[1] \"segsites = 754\"\n",
      "[1] \"measured length = 197173\"\n",
      "[1] \"round 221 complete\"\n",
      "[1] \"segsites = 759\"\n",
      "[1] \"measured length = 197895\"\n",
      "[1] \"round 222 complete\"\n",
      "[1] \"segsites = 818\"\n",
      "[1] \"measured length = 199791\"\n",
      "[1] \"round 223 complete\"\n",
      "[1] \"segsites = 711\"\n",
      "[1] \"measured length = 199382\"\n",
      "[1] \"round 224 complete\"\n",
      "[1] \"segsites = 876\"\n",
      "[1] \"measured length = 199790\"\n",
      "[1] \"round 225 complete\"\n",
      "[1] \"segsites = 717\"\n",
      "[1] \"measured length = 199574\"\n"
     ]
    }
   ],
   "source": [
    "%%R\n",
    "load(\"TNG_nonmix.RData\")\n",
    "\n",
    "for(i in 1:dim(mark.dat)[1]){\n",
    "   snp <- mark.dat[i,5]\n",
    "   pos.snp <- mark.dat[i,2]\n",
    "   chr <- mark.dat[i,1]\n",
    "   lb <- pos.snp - wid\n",
    "   if(lb < 0){\n",
    "       lb <- 1\n",
    "   }\n",
    "   ub <- pos.snp + wid\n",
    "\n",
    "   rent.tmp <- paste(\"echo '[\", \"SNP\", as.character(i), \"]' `date` >> temp/tmp\", sep = \"\")\n",
    "   system(rent.tmp)\n",
    "\n",
    "   #Write a string that will call tabix to extract a vcf from 1000 genomes.\n",
    "   #tabix.str <- paste(\"tabix -h ~/hmiwa1/rawdata/1KGa/ALL.chr\", as.character(chr), \".phase3_shapeit2_mvncall_integrated_v5a.20130502.genotypes.vcf.gz \", as.character(chr), \":\", as.character(lb), \"-\", as.character(ub), \" | ~/homebrew/bin/vcf-subset -c \", id_file, \" > \", vcf_file, sep = \"\")\n",
    "   tabix.str <- paste(\"tabix -h \", target_vcf , \" \", as.character(chr), \":\", as.character(lb), \"-\", as.character(ub), \" | ~/homebrew/bin/vcf-subset -c \", id_file, \" > \", vcf_file, sep = \"\")\n",
    "   system(tabix.str)\n",
    "\n",
    "   #Write to IMPUTE format, which is easy to change to RENT+ format.\n",
    "   #vcftools.str <- paste(\"vcftools --vcf \", vcf_file, \" --out \", out_pref, \" --IMPUTE\", sep = \"\")\n",
    "   vcftools.str <- paste(\"~/homebrew/bin/vcftools --vcf \", vcf_file, \" --out \", out_pref, \" --IMPUTE 2>> temp/log\",sep = \"\")\n",
    "   system(vcftools.str)\n",
    "\n",
    "   #Read in the IMPUTE format haplotypes, keep polymorphic loci, and \n",
    "   #rearrange into RENT+ format. We shuffle so that the derived alleles\n",
    "   #are at the end.\n",
    "\n",
    "   hap.fn <- paste(out_pref, \".impute.hap\",sep = \"\")\n",
    "   haps <- try(as.matrix(read.table(hap.fn)))\n",
    "   if (inherits(haps, 'try-error')){\n",
    "       print(paste(\"SNP\", as.character(i), \"has a problem\"))\n",
    "       snps.fail1[i] <- 1 \n",
    "       next\n",
    "   }\n",
    "   info.fn <- paste(out_pref, \".impute.legend\",sep = \"\")\n",
    "   info <- read.table(info.fn, head = TRUE)\n",
    "\n",
    "   loci.poly <- rowMeans(haps) > 0 & rowMeans(haps < 1)\n",
    "   haps.poly <- haps[loci.poly,]\n",
    "   info.poly <- info[loci.poly,]\n",
    "   col.keysnp <- which(info.poly$pos == as.numeric(pos.snp))\n",
    "   info.sites[[i]] <- info.poly[col.keysnp,]\n",
    "   if(length(col.keysnp) == 0){\n",
    "      print(paste(\"SNP\", as.character(i), \"missing from TNG\"))\n",
    "      snps.miss[i] <- 1    \n",
    "      next \n",
    "   }\n",
    "   n_der <- sum(haps.poly[col.keysnp,])\n",
    "   haps.poly.der.at.end <- haps.poly[, order(haps.poly[col.keysnp,])]\n",
    "   haps.charvec <- apply(t(haps.poly.der.at.end), 1, paste, sep = \"\", collapse = \"\")\n",
    "   haps.char <- paste(haps.charvec, sep = \"\", collapse = \"\\n\")\n",
    "   pos.char <- paste(as.character(info.poly$pos), sep = \"\", collapse = \" \")\n",
    "   rentfile.str <- paste(pos.char, haps.char, sep = \"\\n\", collapse = \"\")\n",
    "   write(rentfile.str, rent_file)\n",
    "\n",
    "   seg.sites[i] <- sum(loci.poly)\n",
    "   n.chrs[i] <- ncol(haps)\n",
    "   n_ders[i] <- n_der\n",
    "   meas.length[i] <- max(info.poly$pos) - min(info.poly$pos)\n",
    "   if(n_der == n.chrs[i] | n_der == 0){\n",
    "      monomorphic_loci <- c(monomorphic_loci, i)\n",
    "      print(paste(\"SNP\", as.character(i), \"is monomorphic in the sample\")) \n",
    "      next\n",
    "   }\n",
    "\n",
    "\n",
    "   #run rent+\n",
    "   #rent.string <- paste(\"java -jar \", rentplus_fn, \" -t \",  rent_file, sep = \"\")\n",
    "   rent.string <- paste(\"java -Xmx8g -jar \", rentplus_fn, \" -t \", rent_file, \" >> temp/tmp\",sep = \"\")\n",
    "   system(rent.string)\n",
    "\n",
    "   #read in theta estimate\n",
    "   rent_theta_fn <- paste(rent_file, \".theta\", sep = \"\")\n",
    "   thetas[i] <- suppressWarnings(as.numeric(read.table(rent_theta_fn, nrows = 1)$V1))\n",
    "\n",
    "   #Read in trees at selected site in rent and rent+\n",
    "   rent_trees_fn <- paste(rent_file, \".trees\", sep = \"\")\n",
    "   rent_trees <- readLines(rent_trees_fn)\n",
    "\n",
    "   #which tree is for the focal site?\n",
    "   rent_tr_ind <- grep(paste(as.character(pos.snp), \"\\t\", sep = \"\"), rent_trees)\n",
    "\n",
    "   #get tree at focal site in newick format.\n",
    "   rent_tree_newick <- sub(paste(as.character(pos.snp), \"\\t\", sep = \"\"), \"\", rent_trees[rent_tr_ind])\n",
    "   rent_tree <- read.tree(text = paste(rent_tree_newick, \";\", sep = \"\"))\n",
    "\n",
    "   n_chroms <- dim(haps.poly)[2]\n",
    "   anc_tips <- which(rent_tree$tip.label %in% as.character(1:(n_chroms - n_der))) \n",
    "   der_tips <- which(as.numeric(rent_tree$tip.label) %in% (n_chroms - n_der + 1):n_chroms)\n",
    "   anc_tree <- drop.tip(rent_tree, der_tips)\n",
    "   der_tree <- drop.tip(rent_tree, anc_tips)\n",
    "\n",
    "   \n",
    "   trees.all[[i]] <- rent_tree\n",
    "   trees.anc[[i]] <- anc_tree\n",
    "   trees.der[[i]] <- der_tree\n",
    "\n",
    "   print(paste(\"round\", as.character(i), \"complete\"))\n",
    "   print(paste(\"segsites =\", as.character(seg.sites[i])))\n",
    "   print(paste(\"measured length =\", as.character(meas.length[i])))\n",
    "}\n",
    "\n",
    "save.image(file = \"TNG_nonmix.RData\")"
   ]
  },
  {
   "cell_type": "code",
   "execution_count": 16,
   "metadata": {},
   "outputs": [
    {
     "name": "stdout",
     "output_type": "stream",
     "text": [
      "[1] 0\n",
      "[1] 0.25\n"
     ]
    }
   ],
   "source": [
    "%%R\n",
    "load(\"TNG_nonmix.RData\")\n",
    "\n",
    "n_ancs <- n_chroms- n_ders\n",
    "\n",
    "#Checks that SNPS worked.\n",
    "print(monomorphic_loci) #empty---no loci were monomorphic.\n",
    "print(mean(snps.fail1))\n",
    "print(mean(snps.miss))\n",
    "\n",
    "save.image(file = \"TNG_nonmix.RData\")"
   ]
  },
  {
   "cell_type": "code",
   "execution_count": 17,
   "metadata": {},
   "outputs": [
    {
     "name": "stdout",
     "output_type": "stream",
     "text": [
      "[1] \"SNP 1  is missing\"\n",
      "[1] \"SNP 7  is missing\"\n",
      "[1] \"SNP 12  is missing\"\n",
      "[1] \"SNP 16  is missing\"\n",
      "[1] 1\n",
      "[1] 1\n"
     ]
    }
   ],
   "source": [
    "%%R\n",
    "load(\"TNG_nonmix.RData\")\n",
    "\n",
    "#Check polarization\n",
    "\n",
    "misid <- NULL\n",
    "info.sites.char <- matrix(\"\", nrow = length(info.sites), ncol = 4)\n",
    "for(i in 1:length(info.sites)){\n",
    "    if(nrow(info.sites[[i]])==0){\n",
    "        print(paste(\"SNP\",i, \" is missing\"))\n",
    "        misid <- c(misid,i)\n",
    "        next\n",
    "    }else{\n",
    "\tinfo.sites.char[i,1] <- as.character(info.sites[[i]]$ID)\n",
    "\tinfo.sites.char[i,2] <- as.character(info.sites[[i]]$pos)\n",
    "\tinfo.sites.char[i,3] <- as.character(info.sites[[i]]$allele0)\n",
    "\tinfo.sites.char[i,4] <- as.character(info.sites[[i]]$allele1)\n",
    "    }\n",
    "}\n",
    "\n",
    "print(mean(as.character(mark.dat$A2[-misid]) == info.sites.char[-misid,4])) #allele1 matches A2 in each case, polarization good.\n",
    "print(mean(as.character(mark.dat$rsid[-misid]) == info.sites.char[-misid,1])) #check that the rsids match\n",
    "\n",
    "beta <- mark.dat$beta[-misid]\n",
    "rsID <- mark.dat$rsid[-misid]\n",
    "\n",
    "save.image(file = \"TNG_nonmix.RData\")"
   ]
  },
  {
   "cell_type": "code",
   "execution_count": null,
   "metadata": {},
   "outputs": [],
   "source": [
    "%%R\n",
    "load(\"TNG_nonmix.RData\")\n",
    "\n",
    "trees.der.rescale <- trees.der[-misid]\n",
    "trees.anc.rescale <- trees.anc[-misid]\n",
    "trees.all.rescale <- trees.all[-misid]\n",
    "for(i in 1:length(trees.all.rescale)){\n",
    "    j <- c(1:length(trees.all))[-misid][i]\n",
    "\ttrees.der.rescale[[i]]$edge.length <- trees.der[[j]]$edge.length*thetas[j]\n",
    "\ttrees.anc.rescale[[i]]$edge.length <- trees.anc[[j]]$edge.length*thetas[j]\n",
    "\ttrees.all.rescale[[i]]$edge.length <- trees.all[[j]]$edge.length*thetas[j]\n",
    "}\n",
    "\n",
    "tmrcas <- numeric(0)\n",
    "for(i in 1:length(trees.all.rescale)){\n",
    "\ttmrcas[i] <- max(branching.times(trees.all.rescale[[i]]))\n",
    "}\n",
    "\n",
    "for(i in 1:length(trees.all.rescale)){\n",
    "\ttrees.der.rescale[[i]]$edge.length <- trees.der.rescale[[i]]$edge.length*2/mean(tmrcas)\n",
    "\ttrees.anc.rescale[[i]]$edge.length <- trees.anc.rescale[[i]]$edge.length*2/mean(tmrcas)\n",
    "\ttrees.all.rescale[[i]]$edge.length <- trees.all.rescale[[i]]$edge.length*2/mean(tmrcas)\n",
    "}\n",
    "\n",
    "save.image(file = \"TNG_nonmix.RData\")"
   ]
  },
  {
   "cell_type": "code",
   "execution_count": null,
   "metadata": {},
   "outputs": [],
   "source": [
    "%%R\n",
    "load(\"TNG_nonmix.RData\")\n",
    "\n",
    "time <- seq(0, 4, by = 0.001)\n",
    "\n",
    "times.c <- list()\n",
    "for(i in 1:length(trees.all.rescale)){\n",
    "\ttimes.c[[i]] <- trees_to_times(trees.all.rescale[[i]], trees.anc.rescale[[i]], trees.der.rescale[[i]], time, sure.alt.is.derived = FALSE)\n",
    "}\n",
    "\n",
    "lins.list <- list()\n",
    "for(i in 1:length(trees.all.rescale)){\n",
    "\tlins.list[[i]] <- times_to_lins(times.c[[i]], time)\n",
    "}\n",
    "\n",
    "load(\"test.RData\")\n",
    "Va.poly <- add.var(beta, (n_ders[-misid]/n_chroms))\n",
    "add.var(beta / sqrt(Va.poly), (n_ders[-misid]/n_chroms))\n",
    "\n",
    "beta.r <- beta / sqrt(Va.poly)\n",
    "\n",
    "save.image(file = \"TNG_nonmix.RData\")"
   ]
  },
  {
   "cell_type": "code",
   "execution_count": null,
   "metadata": {},
   "outputs": [],
   "source": [
    "%%R\n",
    "load(\"TNG_nonmix.RData\")\n",
    "\n",
    "#neutral\n",
    "trajs_neut <- matrix(nrow = length(time), ncol = length(trees.all.rescale))\n",
    "vars_neut_bin <- matrix(nrow = length(time), ncol = length(trees.all.rescale))\n",
    "#vars_neut_post <- matrix(nrow = length(time), ncol = length(trees.all.rescale))\n",
    "for(i in 1:length(trees.all.rescale)){\t\n",
    "\ttrajs_neut[,i] <- est_af_traj_neut(lins.list[[i]])\n",
    "\tvars_neut_bin[,i] <- est_af_var_neut_bin(lins.list[[i]])\n",
    "\t#vars_neut_post[,i] <- est_af_var_neut_post(lins.list[[i]])\n",
    "}\n",
    "\n",
    "trajs_neut[time == 0,] <- (n_ders[-misid]/n_chroms) #in the present, just use sample allele frequency.\n",
    "#This is the same as the output of est_af_traj_neut() if no coalescent times get rounded to 0.\n",
    "vars_neut_bin[time == 0,] <- (n_ders[-misid]/n_chroms)*(1 - (n_ders[-misid]/n_chroms))/n_chroms\n",
    "traj.phen.neut <- 2 * trajs_neut %*%  beta.r\n",
    "var.phen.neut.bin <- 4 * vars_neut_bin %*% beta.r^2\n",
    "#var.phen.neut.post <- 4 * vars_neut_post %*% beta^2\n",
    "\n",
    "save.image(file = \"TNG_nonmix.RData\")"
   ]
  },
  {
   "cell_type": "code",
   "execution_count": null,
   "metadata": {},
   "outputs": [],
   "source": [
    "%%R\n",
    "load(\"TNG_nonmix.RData\")\n",
    "\n",
    "#waiting time-based estimates and variance\n",
    "trajs_est_wt_l1 <- matrix(nrow = length(time), ncol = length(trees.all.rescale))\n",
    "trajs_var_wt_l1 <- matrix(nrow = length(time), ncol = length(trees.all.rescale))\n",
    "for(i in 1:length(trees.all.rescale)){\n",
    "\twt.estvar <- p_ests_wait(times.c[[i]], time, ell.ref = 1, ell.alt = 1)\n",
    "\ttrajs_est_wt_l1[,i] <- wt.estvar[,1]\t\n",
    "\ttrajs_var_wt_l1[,i] <- wt.estvar[,2]\t\n",
    "}\n",
    "traj.phen.wt_l1 <- 2 * trajs_est_wt_l1 %*%  beta.r \n",
    "var.phen.wt_l1 <- 4 * trajs_var_wt_l1 %*%  beta.r^2 \n",
    "traj.phen.wt_l1[time == 0] <- traj.phen.neut[time == 0]\n",
    "var.phen.wt_l1[time == 0] <- var.phen.neut.bin[time == 0]\n",
    "\n",
    "save.image(file = \"TNG_nonmix.RData\")"
   ]
  },
  {
   "cell_type": "code",
   "execution_count": null,
   "metadata": {},
   "outputs": [],
   "source": [
    "%%R\n",
    "load(\"TNG_nonmix.RData\")\n",
    "\n",
    "#lineage number based estimates and variance.\n",
    "trajs_mom_smoothtime <- matrix(nrow = length(time), ncol = length(trees.all.rescale))\n",
    "trajs_var_mom_smoothtime <- matrix(nrow = length(time), ncol = length(trees.all.rescale))\n",
    "for(i in 1:length(trees.all.rescale)){\t\t\n",
    "\ttrajs_mom_smoothtime[,i] <- est_af_traj_mom.smoothtime(lins.list[[i]], time)\n",
    "\ttrajs_var_mom_smoothtime[,i] <- est_af_var_mom.smoothtime_coaltimes(lins.list[[i]], time)\n",
    "}\n",
    "traj.phen.mom_smoothtime <- 2 * trajs_mom_smoothtime %*%  beta.r \n",
    "traj.phen.mom_smoothtime[time == 0] <- traj.phen.neut[time == 0] \n",
    "#trajs_var_mom_smoothtime.nonan <- trajs_var_mom_smoothtime\n",
    "#trajs_var_mom_smoothtime.nonan[is.nan(trajs_var_mom_smoothtime.nonan)] <- 0\n",
    "var.phen.mom_smoothtime <- 4 * trajs_var_mom_smoothtime %*%  beta.r^2 \n",
    "var.phen.mom_smoothtime[time == 0] <- var.phen.neut.bin[time == 0]\n",
    "\n",
    "save.image(file = \"TNG_nonmix.RData\")"
   ]
  },
  {
   "cell_type": "code",
   "execution_count": null,
   "metadata": {},
   "outputs": [],
   "source": [
    "%%R\n",
    "load(\"TNG_nonmix.RData\")\n",
    "\n",
    "allele.freqs <- n_ders[-misid]/n_chroms\n",
    "plot(allele.freqs, beta.r)\n",
    "print(cor(allele.freqs, abs(beta.r)))\n",
    "\n",
    "save.image(file = \"TNG_nonmix.RData\")"
   ]
  },
  {
   "cell_type": "code",
   "execution_count": null,
   "metadata": {},
   "outputs": [],
   "source": [
    "%%R\n",
    "load(\"TNG_nonmix.RData\")\n",
    "\n",
    "pal <- c('#1b9e77','#d95f02','#7570b3','#e7298a')\n",
    "pal <- c(rgb(27/256,158/256,119/256),rgb(217/256,95/256,2/256),rgb(117/256,112/256,179/256),rgb(231/256,41/256,138/256))\n",
    "pal.int <- c(rgb(27/256,158/256,119/256,1/3),rgb(217/256,95/256,2/256,1/3),rgb(117/256,112/256,179/256,1/3),rgb(231/256,41/256,138/256,1/3))\n",
    "\n",
    "#plot(-time, traj.phen.neut, type = \"l\", xlab = \"Time (coalescent units)\", ylab = \"Estimated mean polygenic height (UK 1000G)\", ylim = c(-5, 5), xlim = c(-0.2, 0), xaxt = \"n\", bty = \"n\")\n",
    "plot(-time, traj.phen.neut, type = \"l\", xlab = \"Time (coalescent units)\", ylab = \"Estimated mean polygenic BMI (TNG)\", ylim = c(0, 20), xlim = c(-0.2, 0), xaxt = \"n\", bty = \"n\")\n",
    "axis(1, at = c(0, -.1, -.2))\n",
    "polygon(c(-time, rev(-time)), c(traj.phen.neut + 1.96*sqrt(var.phen.neut.bin), rev(traj.phen.neut - 1.96*sqrt(var.phen.neut.bin))) , col = pal.int[1], border = NA)\n",
    "polygon(c(-time, rev(-time)), c(traj.phen.wt_l1 + 1.96*sqrt(var.phen.wt_l1), rev(traj.phen.wt_l1  - 1.96*sqrt(var.phen.wt_l1 ))) , col = pal.int[3], border = NA)\n",
    "polygon(c(-time[1:1000], rev(-time[1:1000])), c(traj.phen.mom_smoothtime[1:1000] + 1.96*sqrt(var.phen.mom_smoothtime[1:1000]), rev(traj.phen.mom_smoothtime[1:1000]  - 1.96*sqrt(var.phen.mom_smoothtime[1:1000] ))) , col = pal.int[2], border = NA)\n",
    "lines(-time, traj.phen.wt_l1, col = pal[3], lwd = 2)\n",
    "lines(-time, traj.phen.mom_smoothtime, col = pal[2], lwd = 2)\n",
    "lines(-time, traj.phen.neut, col = pal[1], lwd = 2)\n",
    "legend(\"topleft\", lwd = 1, col = pal[c(1,3,2)], legend = c(\"Proportion-of-lineages\", \"Waiting-time\", \"Lineages-remaining\"), bty = \"n\")\n",
    "\n",
    "save.image(file = \"TNG_nonmix.RData\")"
   ]
  }
 ],
 "metadata": {
  "kernelspec": {
   "display_name": "base",
   "language": "python",
   "name": "python3"
  },
  "language_info": {
   "codemirror_mode": {
    "name": "ipython",
    "version": 3
   },
   "file_extension": ".py",
   "mimetype": "text/x-python",
   "name": "python",
   "nbconvert_exporter": "python",
   "pygments_lexer": "ipython3",
   "version": "3.11.5"
  }
 },
 "nbformat": 4,
 "nbformat_minor": 2
}
