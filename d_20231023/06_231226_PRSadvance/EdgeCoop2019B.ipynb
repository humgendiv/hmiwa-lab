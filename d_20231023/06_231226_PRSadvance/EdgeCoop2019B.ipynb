{
 "cells": [
  {
   "cell_type": "markdown",
   "metadata": {},
   "source": [
    "# Reconstructing the History of Polygenic Scores Using Coalescent Trees \n",
    "\n",
    "******************************"
   ]
  },
  {
   "cell_type": "markdown",
   "metadata": {},
   "source": [
    "## 【使えそうなスクリプト探し】"
   ]
  },
  {
   "cell_type": "code",
   "execution_count": 2,
   "metadata": {},
   "outputs": [],
   "source": [
    "%load_ext rpy2.ipython"
   ]
  },
  {
   "cell_type": "code",
   "execution_count": 4,
   "metadata": {},
   "outputs": [
    {
     "name": "stdout",
     "output_type": "stream",
     "text": [
      "06_231226_PRSadvance.ipynb\n",
      "EdgeCoop2019B.ipynb\n",
      "EdgeCoop2019.ipynb\n",
      "EdgeCoop2019R.ipynb\n",
      "README.md\n",
      "rhps_coalescent\n"
     ]
    }
   ],
   "source": [
    "%%bash\n",
    "ls"
   ]
  },
  {
   "cell_type": "code",
   "execution_count": 5,
   "metadata": {},
   "outputs": [
    {
     "name": "stdout",
     "output_type": "stream",
     "text": [
      "rhps_coalescent/maintext_sims_rent_061318/weaksel02_k1000/loop_pheno_sims_reps.R:traj.fn <- \"temp_out1/temp.txt\"\n",
      "rhps_coalescent/maintext_sims_rent_061318/weaksel_0204_k1000/loop_pheno_sims_reps.R:traj.fn <- \"temp_out1/temp.txt\"\n",
      "rhps_coalescent/maintext_sims_rent_061318/short_test/loop_pheno_sims_reps.R:traj.fn <- \"temp_out/temp.txt\"\n",
      "rhps_coalescent/maintext_sims_rent_061318/neutral_sims_for_tSDS/loop_pulse_sims.R:traj.fn <- \"temp_out/temp.txt\"\n",
      "rhps_coalescent/maintext_sims_rent_061318/neutral/loop_pheno_sims_reps.R:traj.fn <- \"temp_out1/temp.txt\"\n",
      "rhps_coalescent/maintext_sims_rent_061318/neutral/loop_run_rent.R:traj.fn <- \"temp_out1/temp.txt\"\n",
      "rhps_coalescent/maintext_sims_rent_061318/neutral/loop_pheno_sims_fixrent.R:traj.fn.rf <- \"temp_out9/temp.txt\"\n",
      "rhps_coalescent/maintext_sims_rent_061318/test_trees/mssel_reps.R:traj.fn <- \"temp.txt\"\n",
      "rhps_coalescent/maintext_sims_rent_061318/pulse_sims/loop_pheno_sims_reps.R:traj.fn <- \"temp_out8/temp.txt\"\n",
      "rhps_coalescent/maintext_sims_rent_061318/pulse_sims/loop_pulse_sims.R:traj.fn <- \"temp_out10/temp.txt\"\n",
      "rhps_coalescent/maintext_sims_rent_061318/pulse_sims/analyze_pulses_tSDS.R:#traj.fn <- \"temp_out1/temp.txt\"\n",
      "rhps_coalescent/maintext_sims_rent_061318/pulse_sims/loop_test_grads.R:traj.fn <- \"temp_out9/temp.txt\"\n",
      "rhps_coalescent/maintext_sims_rent_061318/weaksel_02/loop_pheno_sims_reps.R:traj.fn <- \"temp_out3/temp.txt\"\n",
      "rhps_coalescent/maintext_sims_rent_061318/neutral_k1000/loop_pheno_sims_reps.R:traj.fn <- \"temp_out1/temp.txt\"\n",
      "rhps_coalescent/maintext_sims_rent_061318/weaksel_0204/loop_pheno_sims_reps.R:traj.fn <- \"temp_out5/temp.txt\"\n",
      "rhps_coalescent/small_example/example/loop_pheno_sims_reps.R:traj.fn <- \"temp/temp.txt\"\n"
     ]
    }
   ],
   "source": [
    "%%bash\n",
    "grep -r temp.txt rhps_coalescent/"
   ]
  },
  {
   "cell_type": "code",
   "execution_count": 6,
   "metadata": {},
   "outputs": [
    {
     "name": "stdout",
     "output_type": "stream",
     "text": [
      "rhps_coalescent/maintext_sims_rent_061318/weaksel02_k1000/loop_pheno_sims_reps.R:traj.fn <- \"temp_out1/temp.txt\"\n",
      "rhps_coalescent/maintext_sims_rent_061318/simwrent_onelocus.R:\twrite.traj(traj.fn.rf, trajs[[i]])\n",
      "rhps_coalescent/maintext_sims_rent_061318/simwrent_onelocus.R:\tms.string <- paste(ms_dir, \"mssel \", as.character(n_chroms), \" 1 \", as.character(n_chroms - n_der), \" \", as.character(n_der), \" \", traj.fn.rf, \" \", sel_site, \" -r \", as.character(4*N*(1 - dbinom(0,len_hap, r))), \" \", as.character(len_hap), \" -t \", as.character(4*N* (1 - dbinom(0, len_hap, u))), \" -T -L > \", msout.fn.rf, sep = \"\")\n",
      "rhps_coalescent/maintext_sims_rent_061318/weaksel_0204_k1000/loop_pheno_sims_reps.R:traj.fn <- \"temp_out1/temp.txt\"\n",
      "rhps_coalescent/maintext_sims_rent_061318/short_test/loop_pheno_sims_reps.R:traj.fn <- \"temp_out/temp.txt\"\n",
      "rhps_coalescent/maintext_sims_rent_061318/neutral_sims_for_tSDS/loop_pulse_sims.R:traj.fn <- \"temp_out/temp.txt\"\n",
      "rhps_coalescent/maintext_sims_rent_061318/neutral_sims_for_tSDS/pheno_sim_trees.R:\twrite.traj(traj.fn, trajs[[i]])\n",
      "rhps_coalescent/maintext_sims_rent_061318/neutral_sims_for_tSDS/pheno_sim_trees.R:\tms.string <- paste(ms_dir, \"mssel \", as.character(n_chroms), \" 1 \", as.character(n_chroms - n_der), \" \", as.character(n_der), \" \", traj.fn, \" \", sel_site, \" -r \", as.character(4*N*(1 - dbinom(0,len_hap, r))), \" \", as.character(len_hap), \" -t \", as.character(4*N* (1 - dbinom(0, len_hap, u))), \" -T -L > \", msout.fn, sep = \"\")\n",
      "rhps_coalescent/maintext_sims_rent_061318/neutral/loop_pheno_sims_reps.R:traj.fn <- \"temp_out1/temp.txt\"\n",
      "rhps_coalescent/maintext_sims_rent_061318/neutral/loop_run_rent.R:traj.fn <- \"temp_out1/temp.txt\"\n",
      "rhps_coalescent/maintext_sims_rent_061318/neutral/loop_pheno_sims_fixrent.R:traj.fn.rf <- \"temp_out9/temp.txt\"\n",
      "rhps_coalescent/maintext_sims_rent_061318/pheno_sim_1iter.R:\twrite.traj(traj.fn, trajs[[i]])\n",
      "rhps_coalescent/maintext_sims_rent_061318/pheno_sim_1iter.R:\tms.string <- paste(ms_dir, \"mssel \", as.character(n_chroms), \" 1 \", as.character(n_chroms - n_der), \" \", as.character(n_der), \" \", traj.fn, \" \", sel_site, \" -r \", as.character(4*N*(1 - dbinom(0,len_hap, r))), \" \", as.character(len_hap), \" -t \", as.character(4*N* (1 - dbinom(0, len_hap, u))), \" -T -L > \", msout.fn, sep = \"\")\n",
      "rhps_coalescent/maintext_sims_rent_061318/test_trees/mssel_reps.R:traj.fn <- \"temp.txt\"\n",
      "rhps_coalescent/maintext_sims_rent_061318/test_trees/mssel_reps.R:\twrite.traj(traj.fn, trajs[[i]])\n",
      "rhps_coalescent/maintext_sims_rent_061318/test_trees/mssel_reps.R:\tms.string <- paste(ms_dir, \"mssel \", as.character(n_chroms), \" 1 \", as.character(n_chroms - n_der), \" \", as.character(n_der), \" \", traj.fn, \" \", sel_site, \" -r \", as.character(4*N*(1 - dbinom(0,len_hap, r))), \" \", as.character(len_hap), \" -t \", as.character(4*N* (1 - dbinom(0, len_hap, u))), \" -T -L > \", msout.fn, sep = \"\")\n",
      "rhps_coalescent/maintext_sims_rent_061318/pulse_sims/loop_pheno_sims_reps.R:traj.fn <- \"temp_out8/temp.txt\"\n",
      "rhps_coalescent/maintext_sims_rent_061318/pulse_sims/loop_pulse_sims.R:traj.fn <- \"temp_out10/temp.txt\"\n",
      "rhps_coalescent/maintext_sims_rent_061318/pulse_sims/pheno_sim_trees.R:\twrite.traj(traj.fn, trajs[[i]])\n",
      "rhps_coalescent/maintext_sims_rent_061318/pulse_sims/pheno_sim_trees.R:\tms.string <- paste(ms_dir, \"mssel \", as.character(n_chroms), \" 1 \", as.character(n_chroms - n_der), \" \", as.character(n_der), \" \", traj.fn, \" \", sel_site, \" -r \", as.character(4*N*(1 - dbinom(0,len_hap, r))), \" \", as.character(len_hap), \" -t \", as.character(4*N* (1 - dbinom(0, len_hap, u))), \" -T -L > \", msout.fn, sep = \"\")\n",
      "rhps_coalescent/maintext_sims_rent_061318/pulse_sims/pheno_simtrees_only.R:\twrite.traj(traj.fn, trajs[[i]])\n",
      "rhps_coalescent/maintext_sims_rent_061318/pulse_sims/pheno_simtrees_only.R:\tms.string <- paste(ms_dir, \"mssel \", as.character(n_chroms), \" 1 \", as.character(n_chroms - n_der), \" \", as.character(n_der), \" \", traj.fn, \" \", sel_site, \" -r \", as.character(4*N*(1 - dbinom(0,len_hap, r))), \" \", as.character(len_hap), \" -t \", as.character(4*N* (1 - dbinom(0, len_hap, u))), \" -T -L > \", msout.fn, sep = \"\")\n",
      "rhps_coalescent/maintext_sims_rent_061318/pulse_sims/analyze_pulses_tSDS.R:#traj.fn <- \"temp_out1/temp.txt\"\n",
      "rhps_coalescent/maintext_sims_rent_061318/pulse_sims/loop_test_grads.R:traj.fn <- \"temp_out9/temp.txt\"\n",
      "rhps_coalescent/maintext_sims_rent_061318/weaksel_02/loop_pheno_sims_reps.R:traj.fn <- \"temp_out3/temp.txt\"\n",
      "rhps_coalescent/maintext_sims_rent_061318/neutral_k1000/loop_pheno_sims_reps.R:traj.fn <- \"temp_out1/temp.txt\"\n",
      "rhps_coalescent/maintext_sims_rent_061318/weaksel_0204/loop_pheno_sims_reps.R:traj.fn <- \"temp_out5/temp.txt\"\n",
      "rhps_coalescent/maintext_sims_rent_061318/pheno_sim_1iter_norent.R:\twrite.traj(traj.fn, trajs[[i]])\n",
      "rhps_coalescent/maintext_sims_rent_061318/pheno_sim_1iter_norent.R:\tms.string <- paste(ms_dir, \"mssel \", as.character(n_chroms), \" 1 \", as.character(n_chroms - n_der), \" \", as.character(n_der), \" \", traj.fn, \" \", sel_site, \" -r \", as.character(4*N*(1 - dbinom(0,len_hap, r))), \" \", as.character(len_hap), \" -t \", as.character(4*N* (1 - dbinom(0, len_hap, u))), \" -T -L > \", msout.fn, sep = \"\")\n",
      "rhps_coalescent/maintext_sims_rent_061318/pheno_sim_1iter_norent_notraj.R:\twrite.traj(traj.fn, trajs[[i]])\n",
      "rhps_coalescent/maintext_sims_rent_061318/pheno_sim_1iter_norent_notraj.R:\tms.string <- paste(ms_dir, \"mssel \", as.character(n_chroms), \" 1 \", as.character(n_chroms - n_der), \" \", as.character(n_der), \" \", traj.fn, \" \", sel_site, \" -r \", as.character(4*N*(1 - dbinom(0,len_hap, r))), \" \", as.character(len_hap), \" -t \", as.character(4*N* (1 - dbinom(0, len_hap, u))), \" -T -L > \", msout.fn, sep = \"\")\n",
      "rhps_coalescent/small_example/example/loop_pheno_sims_reps.R:traj.fn <- \"temp/temp.txt\"\n",
      "rhps_coalescent/small_example/pheno_sim_1iter.R:\twrite.traj(traj.fn, trajs[[i]])\n",
      "rhps_coalescent/small_example/pheno_sim_1iter.R:\tms.string <- paste(ms_dir, \"mssel \", as.character(n_chroms), \" 1 \", as.character(n_chroms - n_der), \" \", as.character(n_der), \" \", traj.fn, \" \", sel_site, \" -r \", as.character(4*N*(1 - dbinom(0,len_hap, r))), \" \", as.character(len_hap), \" -t \", as.character(4*N* (1 - dbinom(0, len_hap, u))), \" -T -L > \", msout.fn, sep = \"\")\n"
     ]
    }
   ],
   "source": [
    "%%bash\n",
    "grep -r traj.fn rhps_coalescent/"
   ]
  },
  {
   "cell_type": "code",
   "execution_count": 7,
   "metadata": {},
   "outputs": [
    {
     "name": "stdout",
     "output_type": "stream",
     "text": [
      "rhps_coalescent/maintext_sims_rent_061318/simwrent_onelocus.R:\twrite.traj(traj.fn.rf, trajs[[i]])\n",
      "rhps_coalescent/maintext_sims_rent_061318/neutral_sims_for_tSDS/pheno_sim_trees.R:\twrite.traj(traj.fn, trajs[[i]])\n",
      "rhps_coalescent/maintext_sims_rent_061318/pheno_sim_1iter.R:\twrite.traj(traj.fn, trajs[[i]])\n",
      "rhps_coalescent/maintext_sims_rent_061318/test_trees/mssel_reps.R:\twrite.traj(traj.fn, trajs[[i]])\n",
      "rhps_coalescent/maintext_sims_rent_061318/pulse_sims/pheno_sim_trees.R:\twrite.traj(traj.fn, trajs[[i]])\n",
      "rhps_coalescent/maintext_sims_rent_061318/pulse_sims/pheno_simtrees_only.R:\twrite.traj(traj.fn, trajs[[i]])\n",
      "rhps_coalescent/maintext_sims_rent_061318/pheno_sim_1iter_norent.R:\twrite.traj(traj.fn, trajs[[i]])\n",
      "rhps_coalescent/maintext_sims_rent_061318/pheno_sim_1iter_norent_notraj.R:\twrite.traj(traj.fn, trajs[[i]])\n",
      "rhps_coalescent/small_example/pheno_sim_1iter.R:\twrite.traj(traj.fn, trajs[[i]])\n"
     ]
    }
   ],
   "source": [
    "%%bash\n",
    "grep -r traj.fn rhps_coalescent/ | grep write"
   ]
  },
  {
   "cell_type": "code",
   "execution_count": 8,
   "metadata": {},
   "outputs": [
    {
     "name": "stdout",
     "output_type": "stream",
     "text": [
      "rhps_coalescent/maintext_sims_rent_061318/weaksel02_k1000/loop_pheno_sims_reps.R:msout.fn <- \"temp_out1/ms_out.txt\"\n",
      "rhps_coalescent/maintext_sims_rent_061318/weaksel_0204_k1000/loop_pheno_sims_reps.R:msout.fn <- \"temp_out1/ms_out.txt\"\n",
      "rhps_coalescent/maintext_sims_rent_061318/short_test/loop_pheno_sims_reps.R:msout.fn <- \"temp_out/ms_out.txt\"\n",
      "rhps_coalescent/maintext_sims_rent_061318/neutral_sims_for_tSDS/loop_pulse_sims.R:msout.fn <- \"temp_out/ms_out.txt\"\n",
      "rhps_coalescent/maintext_sims_rent_061318/neutral/loop_pheno_sims_reps.R:msout.fn <- \"temp_out1/ms_out.txt\"\n",
      "rhps_coalescent/maintext_sims_rent_061318/neutral/loop_run_rent.R:msout.fn <- \"temp_out1/ms_out.txt\"\n",
      "rhps_coalescent/maintext_sims_rent_061318/neutral/loop_pheno_sims_fixrent.R:msout.fn.rf <- \"temp_out9/ms_out.txt\"\n",
      "rhps_coalescent/maintext_sims_rent_061318/pulse_sims/loop_pheno_sims_reps.R:msout.fn <- \"temp_out8/ms_out.txt\"\n",
      "rhps_coalescent/maintext_sims_rent_061318/pulse_sims/loop_pulse_sims.R:msout.fn <- \"temp_out10/ms_out.txt\"\n",
      "rhps_coalescent/maintext_sims_rent_061318/pulse_sims/pheno_simtrees_only.R:\ttrue_sel_tree_newick <- readLines(\"ms_out.txt\", n = 5)[5]\n",
      "rhps_coalescent/maintext_sims_rent_061318/pulse_sims/analyze_pulses_tSDS.R:#msout.fn <- \"temp_out1/ms_out.txt\"\n",
      "rhps_coalescent/maintext_sims_rent_061318/pulse_sims/loop_test_grads.R:msout.fn <- \"temp_out9/ms_out.txt\"\n",
      "rhps_coalescent/maintext_sims_rent_061318/weaksel_02/loop_pheno_sims_reps.R:msout.fn <- \"temp_out3/ms_out.txt\"\n",
      "rhps_coalescent/maintext_sims_rent_061318/neutral_k1000/loop_pheno_sims_reps.R:msout.fn <- \"temp_out1/ms_out.txt\"\n",
      "rhps_coalescent/maintext_sims_rent_061318/weaksel_0204/loop_pheno_sims_reps.R:msout.fn <- \"temp_out5/ms_out.txt\"\n",
      "rhps_coalescent/small_example/example/loop_pheno_sims_reps.R:msout.fn <- \"temp/ms_out.txt\"\n"
     ]
    }
   ],
   "source": [
    "%%bash\n",
    "grep -r ms_out.txt rhps_coalescent/"
   ]
  },
  {
   "cell_type": "code",
   "execution_count": 9,
   "metadata": {},
   "outputs": [
    {
     "name": "stdout",
     "output_type": "stream",
     "text": [
      "rhps_coalescent/maintext_sims_rent_061318/weaksel02_k1000/loop_pheno_sims_reps.R:msout.fn <- \"temp_out1/ms_out.txt\"\n",
      "rhps_coalescent/maintext_sims_rent_061318/simwrent_onelocus.R:\tms.string <- paste(ms_dir, \"mssel \", as.character(n_chroms), \" 1 \", as.character(n_chroms - n_der), \" \", as.character(n_der), \" \", traj.fn.rf, \" \", sel_site, \" -r \", as.character(4*N*(1 - dbinom(0,len_hap, r))), \" \", as.character(len_hap), \" -t \", as.character(4*N* (1 - dbinom(0, len_hap, u))), \" -T -L > \", msout.fn.rf, sep = \"\")\n",
      "rhps_coalescent/maintext_sims_rent_061318/simwrent_onelocus.R:\tprocess.string <- paste(\"sed '/positions: /,$!d' \", msout.fn.rf, \" | sed 's/.*positions: //' > \", rent_in_fn.rf, sep = \"\")\n",
      "rhps_coalescent/maintext_sims_rent_061318/simwrent_onelocus.R:\tmsoutlines <- readLines(msout.fn.rf)\n",
      "rhps_coalescent/maintext_sims_rent_061318/weaksel_0204_k1000/loop_pheno_sims_reps.R:msout.fn <- \"temp_out1/ms_out.txt\"\n",
      "rhps_coalescent/maintext_sims_rent_061318/short_test/loop_pheno_sims_reps.R:msout.fn <- \"temp_out/ms_out.txt\"\n",
      "rhps_coalescent/maintext_sims_rent_061318/neutral_sims_for_tSDS/loop_pulse_sims.R:msout.fn <- \"temp_out/ms_out.txt\"\n",
      "rhps_coalescent/maintext_sims_rent_061318/neutral_sims_for_tSDS/pheno_sim_trees.R:\tms.string <- paste(ms_dir, \"mssel \", as.character(n_chroms), \" 1 \", as.character(n_chroms - n_der), \" \", as.character(n_der), \" \", traj.fn, \" \", sel_site, \" -r \", as.character(4*N*(1 - dbinom(0,len_hap, r))), \" \", as.character(len_hap), \" -t \", as.character(4*N* (1 - dbinom(0, len_hap, u))), \" -T -L > \", msout.fn, sep = \"\")\n",
      "rhps_coalescent/maintext_sims_rent_061318/neutral_sims_for_tSDS/pheno_sim_trees.R:\t#process.string <- paste(\"sed '/positions: /,$!d' \", msout.fn, \" | sed 's/.*positions: //' > \", rent_in_fn, sep = \"\")\n",
      "rhps_coalescent/maintext_sims_rent_061318/neutral_sims_for_tSDS/pheno_sim_trees.R:\tmsoutlines <- readLines(msout.fn)\n",
      "rhps_coalescent/maintext_sims_rent_061318/neutral/loop_pheno_sims_reps.R:msout.fn <- \"temp_out1/ms_out.txt\"\n",
      "rhps_coalescent/maintext_sims_rent_061318/neutral/loop_run_rent.R:msout.fn <- \"temp_out1/ms_out.txt\"\n",
      "rhps_coalescent/maintext_sims_rent_061318/neutral/loop_pheno_sims_fixrent.R:msout.fn.rf <- \"temp_out9/ms_out.txt\"\n",
      "rhps_coalescent/maintext_sims_rent_061318/pheno_sim_1iter.R:\tms.string <- paste(ms_dir, \"mssel \", as.character(n_chroms), \" 1 \", as.character(n_chroms - n_der), \" \", as.character(n_der), \" \", traj.fn, \" \", sel_site, \" -r \", as.character(4*N*(1 - dbinom(0,len_hap, r))), \" \", as.character(len_hap), \" -t \", as.character(4*N* (1 - dbinom(0, len_hap, u))), \" -T -L > \", msout.fn, sep = \"\")\n",
      "rhps_coalescent/maintext_sims_rent_061318/pheno_sim_1iter.R:\tprocess.string <- paste(\"sed '/positions: /,$!d' \", msout.fn, \" | sed 's/.*positions: //' > \", rent_in_fn, sep = \"\")\n",
      "rhps_coalescent/maintext_sims_rent_061318/pheno_sim_1iter.R:\trent.string <- paste(\"java -jar \", rentplus_fn, \" -t -l \", as.character(len_hap), \" \", rent_in_fn, \" \", msout.fn, sep = \"\")\n",
      "rhps_coalescent/maintext_sims_rent_061318/pheno_sim_1iter.R:\tmsoutlines <- readLines(msout.fn)\n",
      "rhps_coalescent/maintext_sims_rent_061318/test_trees/mssel_reps.R:\tmsout.fn <- paste(\"out2/msout\", as.character(i), \".txt\", sep = \"\")\t\n",
      "rhps_coalescent/maintext_sims_rent_061318/test_trees/mssel_reps.R:\tms.string <- paste(ms_dir, \"mssel \", as.character(n_chroms), \" 1 \", as.character(n_chroms - n_der), \" \", as.character(n_der), \" \", traj.fn, \" \", sel_site, \" -r \", as.character(4*N*(1 - dbinom(0,len_hap, r))), \" \", as.character(len_hap), \" -t \", as.character(4*N* (1 - dbinom(0, len_hap, u))), \" -T -L > \", msout.fn, sep = \"\")\n",
      "rhps_coalescent/maintext_sims_rent_061318/test_trees/mssel_reps.R:\tmsoutlines <- readLines(msout.fn)\n",
      "rhps_coalescent/maintext_sims_rent_061318/pulse_sims/loop_pheno_sims_reps.R:msout.fn <- \"temp_out8/ms_out.txt\"\n",
      "rhps_coalescent/maintext_sims_rent_061318/pulse_sims/loop_pulse_sims.R:msout.fn <- \"temp_out10/ms_out.txt\"\n",
      "rhps_coalescent/maintext_sims_rent_061318/pulse_sims/pheno_sim_trees.R:\tms.string <- paste(ms_dir, \"mssel \", as.character(n_chroms), \" 1 \", as.character(n_chroms - n_der), \" \", as.character(n_der), \" \", traj.fn, \" \", sel_site, \" -r \", as.character(4*N*(1 - dbinom(0,len_hap, r))), \" \", as.character(len_hap), \" -t \", as.character(4*N* (1 - dbinom(0, len_hap, u))), \" -T -L > \", msout.fn, sep = \"\")\n",
      "rhps_coalescent/maintext_sims_rent_061318/pulse_sims/pheno_sim_trees.R:\t#process.string <- paste(\"sed '/positions: /,$!d' \", msout.fn, \" | sed 's/.*positions: //' > \", rent_in_fn, sep = \"\")\n",
      "rhps_coalescent/maintext_sims_rent_061318/pulse_sims/pheno_sim_trees.R:\tmsoutlines <- readLines(msout.fn)\n",
      "rhps_coalescent/maintext_sims_rent_061318/pulse_sims/pheno_simtrees_only.R:\tms.string <- paste(ms_dir, \"mssel \", as.character(n_chroms), \" 1 \", as.character(n_chroms - n_der), \" \", as.character(n_der), \" \", traj.fn, \" \", sel_site, \" -r \", as.character(4*N*(1 - dbinom(0,len_hap, r))), \" \", as.character(len_hap), \" -t \", as.character(4*N* (1 - dbinom(0, len_hap, u))), \" -T -L > \", msout.fn, sep = \"\")\n",
      "rhps_coalescent/maintext_sims_rent_061318/pulse_sims/analyze_pulses_tSDS.R:#msout.fn <- \"temp_out1/ms_out.txt\"\n",
      "rhps_coalescent/maintext_sims_rent_061318/pulse_sims/loop_test_grads.R:msout.fn <- \"temp_out9/ms_out.txt\"\n",
      "rhps_coalescent/maintext_sims_rent_061318/weaksel_02/loop_pheno_sims_reps.R:msout.fn <- \"temp_out3/ms_out.txt\"\n",
      "rhps_coalescent/maintext_sims_rent_061318/neutral_k1000/loop_pheno_sims_reps.R:msout.fn <- \"temp_out1/ms_out.txt\"\n",
      "rhps_coalescent/maintext_sims_rent_061318/weaksel_0204/loop_pheno_sims_reps.R:msout.fn <- \"temp_out5/ms_out.txt\"\n",
      "rhps_coalescent/maintext_sims_rent_061318/pheno_sim_1iter_norent.R:\tms.string <- paste(ms_dir, \"mssel \", as.character(n_chroms), \" 1 \", as.character(n_chroms - n_der), \" \", as.character(n_der), \" \", traj.fn, \" \", sel_site, \" -r \", as.character(4*N*(1 - dbinom(0,len_hap, r))), \" \", as.character(len_hap), \" -t \", as.character(4*N* (1 - dbinom(0, len_hap, u))), \" -T -L > \", msout.fn, sep = \"\")\n",
      "rhps_coalescent/maintext_sims_rent_061318/pheno_sim_1iter_norent.R:\tprocess.string <- paste(\"sed '/positions: /,$!d' \", msout.fn, \" | sed 's/.*positions: //' > \", rent_in_fn, sep = \"\")\n",
      "rhps_coalescent/maintext_sims_rent_061318/pheno_sim_1iter_norent.R:\tmsoutlines <- readLines(msout.fn)\n",
      "rhps_coalescent/maintext_sims_rent_061318/pheno_sim_1iter_norent_notraj.R:\tms.string <- paste(ms_dir, \"mssel \", as.character(n_chroms), \" 1 \", as.character(n_chroms - n_der), \" \", as.character(n_der), \" \", traj.fn, \" \", sel_site, \" -r \", as.character(4*N*(1 - dbinom(0,len_hap, r))), \" \", as.character(len_hap), \" -t \", as.character(4*N* (1 - dbinom(0, len_hap, u))), \" -T -L > \", msout.fn, sep = \"\")\n",
      "rhps_coalescent/maintext_sims_rent_061318/pheno_sim_1iter_norent_notraj.R:\tprocess.string <- paste(\"sed '/positions: /,$!d' \", msout.fn, \" | sed 's/.*positions: //' > \", rent_in_fn, sep = \"\")\n",
      "rhps_coalescent/maintext_sims_rent_061318/pheno_sim_1iter_norent_notraj.R:\tmsoutlines <- readLines(msout.fn)\n",
      "rhps_coalescent/small_example/example/loop_pheno_sims_reps.R:msout.fn <- \"temp/ms_out.txt\"\n",
      "rhps_coalescent/small_example/pheno_sim_1iter.R:\tms.string <- paste(ms_dir, \"mssel \", as.character(n_chroms), \" 1 \", as.character(n_chroms - n_der), \" \", as.character(n_der), \" \", traj.fn, \" \", sel_site, \" -r \", as.character(4*N*(1 - dbinom(0,len_hap, r))), \" \", as.character(len_hap), \" -t \", as.character(4*N* (1 - dbinom(0, len_hap, u))), \" -T -L > \", msout.fn, sep = \"\")\n",
      "rhps_coalescent/small_example/pheno_sim_1iter.R:\tprocess.string <- paste(\"sed '/positions: /,$!d' \", msout.fn, \" | sed 's/.*positions: //' > \", rent_in_fn, sep = \"\")\n",
      "rhps_coalescent/small_example/pheno_sim_1iter.R:\trent.string <- paste(\"java -jar \", rentplus_fn, \" -t -l \", as.character(len_hap), \" \", rent_in_fn, \" \", msout.fn, sep = \"\")\n",
      "rhps_coalescent/small_example/pheno_sim_1iter.R:\tmsoutlines <- readLines(msout.fn)\n"
     ]
    }
   ],
   "source": [
    "%%bash\n",
    "grep -r msout.fn rhps_coalescent/"
   ]
  },
  {
   "cell_type": "code",
   "execution_count": 10,
   "metadata": {},
   "outputs": [
    {
     "name": "stdout",
     "output_type": "stream",
     "text": [
      "rhps_coalescent/height_analyses/GIANT_BergEtAl18/rentplus_trees_1700_height_1KG.R:rent_file <- \"temp/rent_in.txt\"\n",
      "rhps_coalescent/height_analyses/GIANT/rentplus_trees_1700_height_1KG.R:rent_file <- \"temp/rent_in.txt\"\n",
      "rhps_coalescent/height_analyses/UKbiobank/rentplus_trees_1700_height_1KG_rsID.R:rent_file <- \"rent_in.txt\"\n",
      "rhps_coalescent/height_analyses/UKbiobank/rentplus_trees_1700_height_1KG.R:rent_file <- \"rent_in.txt\"\n",
      "rhps_coalescent/height_analyses/UKBNeale_BergEtAl18/rentplus_trees_1700_height_1KG.R:rent_file <- \"temp/rent_in.txt\"\n",
      "rhps_coalescent/maintext_sims_rent_061318/weaksel02_k1000/loop_pheno_sims_reps.R:rent_in_fn <- \"temp_out1/rent_in.txt\"\n",
      "rhps_coalescent/maintext_sims_rent_061318/weaksel_0204_k1000/loop_pheno_sims_reps.R:rent_in_fn <- \"temp_out1/rent_in.txt\"\n",
      "rhps_coalescent/maintext_sims_rent_061318/short_test/loop_pheno_sims_reps.R:rent_in_fn <- \"temp_out/rent_in.txt\"\n",
      "rhps_coalescent/maintext_sims_rent_061318/neutral/loop_pheno_sims_reps.R:rent_in_fn <- \"temp_out1/rent_in.txt\"\n",
      "rhps_coalescent/maintext_sims_rent_061318/neutral/loop_run_rent.R:rent_in_fn <- \"temp_out1/rent_in.txt\"\n",
      "rhps_coalescent/maintext_sims_rent_061318/neutral/loop_pheno_sims_fixrent.R:rent_in_fn.rf <- \"temp_out9/rent_in.txt\"\n",
      "rhps_coalescent/maintext_sims_rent_061318/pulse_sims/loop_pheno_sims_reps.R:rent_in_fn <- \"temp_out8/rent_in.txt\"\n",
      "rhps_coalescent/maintext_sims_rent_061318/pulse_sims/loop_pulse_sims.R:rent_in_fn <- \"temp_out10/rent_in.txt\"\n",
      "rhps_coalescent/maintext_sims_rent_061318/pulse_sims/analyze_pulses_tSDS.R:#rent_in_fn <- \"temp_out1/rent_in.txt\"\n",
      "rhps_coalescent/maintext_sims_rent_061318/pulse_sims/loop_test_grads.R:rent_in_fn <- \"temp_out9/rent_in.txt\"\n",
      "rhps_coalescent/maintext_sims_rent_061318/weaksel_02/loop_pheno_sims_reps.R:rent_in_fn <- \"temp_out3/rent_in.txt\"\n",
      "rhps_coalescent/maintext_sims_rent_061318/neutral_k1000/loop_pheno_sims_reps.R:rent_in_fn <- \"temp_out1/rent_in.txt\"\n",
      "rhps_coalescent/maintext_sims_rent_061318/weaksel_0204/loop_pheno_sims_reps.R:rent_in_fn <- \"temp_out5/rent_in.txt\"\n",
      "rhps_coalescent/small_example/example/loop_pheno_sims_reps.R:rent_in_fn <- \"temp/rent_in.txt\"\n"
     ]
    }
   ],
   "source": [
    "%%bash\n",
    "grep -r rent_in.txt rhps_coalescent/"
   ]
  },
  {
   "cell_type": "code",
   "execution_count": 11,
   "metadata": {},
   "outputs": [
    {
     "name": "stdout",
     "output_type": "stream",
     "text": [
      "rhps_coalescent/maintext_sims_rent_061318/weaksel02_k1000/loop_pheno_sims_reps.R:rent_in_fn <- \"temp_out1/rent_in.txt\"\n",
      "rhps_coalescent/maintext_sims_rent_061318/simwrent_onelocus.R:\tprocess.string <- paste(\"sed '/positions: /,$!d' \", msout.fn.rf, \" | sed 's/.*positions: //' > \", rent_in_fn.rf, sep = \"\")\n",
      "rhps_coalescent/maintext_sims_rent_061318/simwrent_onelocus.R:\tif(file.exists(paste(rent_in_fn.rf, \".trees\", sep = \"\"))){\n",
      "rhps_coalescent/maintext_sims_rent_061318/simwrent_onelocus.R:\t\tfile.remove(paste(rent_in_fn.rf, \".trees\", sep = \"\"))\n",
      "rhps_coalescent/maintext_sims_rent_061318/simwrent_onelocus.R:\trent.string <- paste(\"java -jar \", rentplus_fn, \" -t -l \", as.character(len_hap), \" \", rent_in_fn.rf, sep = \"\")\n",
      "rhps_coalescent/maintext_sims_rent_061318/simwrent_onelocus.R:\tms_haplotypes_list[[i]] <- readLines(rent_in_fn.rf) #save the haplotypes produced by ms (and fed to rent+) in a list entry.\n",
      "rhps_coalescent/maintext_sims_rent_061318/simwrent_onelocus.R:\trent_trees_fn <- paste(rent_in_fn.rf, \".trees\", sep = \"\")\n",
      "rhps_coalescent/maintext_sims_rent_061318/weaksel_0204_k1000/loop_pheno_sims_reps.R:rent_in_fn <- \"temp_out1/rent_in.txt\"\n",
      "rhps_coalescent/maintext_sims_rent_061318/short_test/loop_pheno_sims_reps.R:rent_in_fn <- \"temp_out/rent_in.txt\"\n",
      "rhps_coalescent/maintext_sims_rent_061318/neutral_sims_for_tSDS/pheno_sim_trees.R:\t#process.string <- paste(\"sed '/positions: /,$!d' \", msout.fn, \" | sed 's/.*positions: //' > \", rent_in_fn, sep = \"\")\n",
      "rhps_coalescent/maintext_sims_rent_061318/neutral_sims_for_tSDS/pheno_sim_trees.R:\t#ms_haplotypes_list[[i]] <- readLines(rent_in_fn) #save the haplotypes produced by ms (and fed to rent+) in a list entry.\n",
      "rhps_coalescent/maintext_sims_rent_061318/neutral/loop_pheno_sims_reps.R:rent_in_fn <- \"temp_out1/rent_in.txt\"\n",
      "rhps_coalescent/maintext_sims_rent_061318/neutral/loop_run_rent.R:rent_in_fn <- \"temp_out1/rent_in.txt\"\n",
      "rhps_coalescent/maintext_sims_rent_061318/neutral/loop_run_rent.R:rent_in_fn.ro <- rent_in_fn\n",
      "rhps_coalescent/maintext_sims_rent_061318/neutral/loop_pheno_sims_fixrent.R:rent_in_fn.rf <- \"temp_out9/rent_in.txt\"\n",
      "rhps_coalescent/maintext_sims_rent_061318/pheno_sim_1iter.R:\tprocess.string <- paste(\"sed '/positions: /,$!d' \", msout.fn, \" | sed 's/.*positions: //' > \", rent_in_fn, sep = \"\")\n",
      "rhps_coalescent/maintext_sims_rent_061318/pheno_sim_1iter.R:\trent.string <- paste(\"java -jar \", rentplus_fn, \" -t -l \", as.character(len_hap), \" \", rent_in_fn, \" \", msout.fn, sep = \"\")\n",
      "rhps_coalescent/maintext_sims_rent_061318/pheno_sim_1iter.R:\tms_haplotypes_list[[i]] <- readLines(rent_in_fn) #save the haplotypes produced by ms (and fed to rent+) in a list entry.\n",
      "rhps_coalescent/maintext_sims_rent_061318/pheno_sim_1iter.R:\trent_trees_fn <- paste(rent_in_fn, \".trees\", sep = \"\")\n",
      "rhps_coalescent/maintext_sims_rent_061318/pulse_sims/loop_pheno_sims_reps.R:rent_in_fn <- \"temp_out8/rent_in.txt\"\n",
      "rhps_coalescent/maintext_sims_rent_061318/pulse_sims/loop_pulse_sims.R:rent_in_fn <- \"temp_out10/rent_in.txt\"\n",
      "rhps_coalescent/maintext_sims_rent_061318/pulse_sims/pheno_sim_trees.R:\t#process.string <- paste(\"sed '/positions: /,$!d' \", msout.fn, \" | sed 's/.*positions: //' > \", rent_in_fn, sep = \"\")\n",
      "rhps_coalescent/maintext_sims_rent_061318/pulse_sims/pheno_sim_trees.R:\t#ms_haplotypes_list[[i]] <- readLines(rent_in_fn) #save the haplotypes produced by ms (and fed to rent+) in a list entry.\n",
      "rhps_coalescent/maintext_sims_rent_061318/pulse_sims/analyze_pulses_tSDS.R:#rent_in_fn <- \"temp_out1/rent_in.txt\"\n",
      "rhps_coalescent/maintext_sims_rent_061318/pulse_sims/loop_test_grads.R:rent_in_fn <- \"temp_out9/rent_in.txt\"\n",
      "rhps_coalescent/maintext_sims_rent_061318/weaksel_02/loop_pheno_sims_reps.R:rent_in_fn <- \"temp_out3/rent_in.txt\"\n",
      "rhps_coalescent/maintext_sims_rent_061318/neutral_k1000/loop_pheno_sims_reps.R:rent_in_fn <- \"temp_out1/rent_in.txt\"\n",
      "rhps_coalescent/maintext_sims_rent_061318/weaksel_0204/loop_pheno_sims_reps.R:rent_in_fn <- \"temp_out5/rent_in.txt\"\n",
      "rhps_coalescent/maintext_sims_rent_061318/pheno_sim_1iter_norent.R:\tprocess.string <- paste(\"sed '/positions: /,$!d' \", msout.fn, \" | sed 's/.*positions: //' > \", rent_in_fn, sep = \"\")\n",
      "rhps_coalescent/maintext_sims_rent_061318/pheno_sim_1iter_norent.R:\tms_haplotypes_list[[i]] <- readLines(rent_in_fn) #save the haplotypes produced by ms (and fed to rent+) in a list entry.\n",
      "rhps_coalescent/maintext_sims_rent_061318/pheno_sim_1iter_norent_notraj.R:\tprocess.string <- paste(\"sed '/positions: /,$!d' \", msout.fn, \" | sed 's/.*positions: //' > \", rent_in_fn, sep = \"\")\n",
      "rhps_coalescent/maintext_sims_rent_061318/pheno_sim_1iter_norent_notraj.R:\tms_haplotypes_list[[i]] <- readLines(rent_in_fn) #save the haplotypes produced by ms (and fed to rent+) in a list entry.\n",
      "rhps_coalescent/maintext_sims_rent_061318/pheno_sim_1iter_rentonly.R:rent_in_fn <- rent_in_fn.ro\n",
      "rhps_coalescent/maintext_sims_rent_061318/pheno_sim_1iter_rentonly.R:\twrite(ms_haplotypes_list[[i]], rent_in_fn)\n",
      "rhps_coalescent/maintext_sims_rent_061318/pheno_sim_1iter_rentonly.R:\trent.string <- paste(\"java -jar \", rentplus_fn, \" -t -l \", as.character(len_hap), \" \", rent_in_fn, sep = \"\")\n",
      "rhps_coalescent/maintext_sims_rent_061318/pheno_sim_1iter_rentonly.R:\trent_trees_fn <- paste(rent_in_fn, \".trees\", sep = \"\")\n",
      "rhps_coalescent/small_example/example/loop_pheno_sims_reps.R:rent_in_fn <- \"temp/rent_in.txt\"\n",
      "rhps_coalescent/small_example/pheno_sim_1iter.R:\tprocess.string <- paste(\"sed '/positions: /,$!d' \", msout.fn, \" | sed 's/.*positions: //' > \", rent_in_fn, sep = \"\")\n",
      "rhps_coalescent/small_example/pheno_sim_1iter.R:\trent.string <- paste(\"java -jar \", rentplus_fn, \" -t -l \", as.character(len_hap), \" \", rent_in_fn, \" \", msout.fn, sep = \"\")\n",
      "rhps_coalescent/small_example/pheno_sim_1iter.R:\tms_haplotypes_list[[i]] <- readLines(rent_in_fn) #save the haplotypes produced by ms (and fed to rent+) in a list entry.\n",
      "rhps_coalescent/small_example/pheno_sim_1iter.R:\trent_trees_fn <- paste(rent_in_fn, \".trees\", sep = \"\")\n"
     ]
    }
   ],
   "source": [
    "%%bash\n",
    "grep -r rent_in_fn rhps_coalescent/"
   ]
  },
  {
   "cell_type": "code",
   "execution_count": 12,
   "metadata": {},
   "outputs": [
    {
     "name": "stdout",
     "output_type": "stream",
     "text": [
      "rhps_coalescent/maintext_sims_rent_061318/pheno_sim_1iter_rentonly.R:\twrite(ms_haplotypes_list[[i]], rent_in_fn)\n"
     ]
    }
   ],
   "source": [
    "%%bash\n",
    "grep -r rent_in_fn rhps_coalescent/ | grep write"
   ]
  },
  {
   "cell_type": "markdown",
   "metadata": {},
   "source": [
    "このファイルの該当部分を確認するとこんな感じ\n",
    "\n",
    "```R\n",
    "#Doc Edge, 6/13/18\n",
    "#Goal: Open up a file with saved trees and just run rent.\n",
    "\n",
    "\n",
    "fn_str <- paste(\"loci\", as.character(n.loci), \"_sintens\", as.character(round(sel.intens,3)), \"_N\", as.character(N), \"_nchr\", as.character(n_chroms), \"_ton\", as.character(t), \"_toff\", as.character(t.off), \"_herit\", as.character(herit), \"_\", as.character(phen_num), sep = \"\")\n",
    "\n",
    "\n",
    "load(paste(out_dir, fn_str, \".RData\", sep = \"\"))\n",
    "\n",
    "rent_in_fn <- rent_in_fn.ro\n",
    "\n",
    "rent_trees_list <- list()\n",
    "```\n",
    "\n",
    "\"loci\"のつくファイルがなきゃダメな感じがしますね。"
   ]
  },
  {
   "cell_type": "code",
   "execution_count": 13,
   "metadata": {},
   "outputs": [
    {
     "name": "stdout",
     "output_type": "stream",
     "text": [
      "rhps_coalescent/height_analyses/UKbiobank/biobank_height_processing.R:write.table(max.bf.loci, file = \"biobank_height_maxBF_PickrellWindows.txt\", quote = FALSE, row.names = FALSE)\n",
      "rhps_coalescent/maintext_sims_rent_061318/pheno_sim_1iter.R:#Simulate and write n.loci allele-frequency trajectories. None of these should have fixed,\n",
      "rhps_coalescent/maintext_sims_rent_061318/test_trees/mssel_reps.R:#Simulate and write n.loci allele-frequency trajectories. None of these should have fixed,\n",
      "rhps_coalescent/maintext_sims_rent_061318/pulse_sims/pheno_simtrees_only.R:#Simulate and write n.loci allele-frequency trajectories. None of these should have fixed,\n",
      "rhps_coalescent/maintext_sims_rent_061318/pulse_sims/pheno_sim_aftrajs.R:#Simulate and write n.loci allele-frequency trajectories. None of these should have fixed,\n",
      "rhps_coalescent/maintext_sims_rent_061318/pheno_sim_1iter_norent.R:#Simulate and write n.loci allele-frequency trajectories. None of these should have fixed,\n",
      "rhps_coalescent/small_example/pheno_sim_1iter.R:#Simulate and write n.loci allele-frequency trajectories. None of these should have fixed,\n"
     ]
    }
   ],
   "source": [
    "%%bash\n",
    "grep -r loci rhps_coalescent/ | grep write"
   ]
  },
  {
   "cell_type": "markdown",
   "metadata": {},
   "source": [
    "それらしいファイルが作成できるコードは含まれていないらしい。なんということでしょう。"
   ]
  },
  {
   "cell_type": "markdown",
   "metadata": {},
   "source": [
    "## RentPlus.jarの使い方とは"
   ]
  },
  {
   "cell_type": "code",
   "execution_count": 14,
   "metadata": {},
   "outputs": [
    {
     "name": "stdout",
     "output_type": "stream",
     "text": [
      "rhps_coalescent/height_analyses/GIANT_BergEtAl18/rentplus_trees_1700_height_1KG.R:   rent.string <- paste(\"java -jar \", rentplus_fn, \" -t \",  rent_file, sep = \"\")\n",
      "rhps_coalescent/height_analyses/GIANT/rentplus_trees_1700_height_1KG.R:   rent.string <- paste(\"java -jar \", rentplus_fn, \" -t \",  rent_file, sep = \"\")\n",
      "rhps_coalescent/height_analyses/UKbiobank/rentplus_trees_1700_height_1KG_rsID.R:   #rent.string <- paste(\"java -jar \", rentplus_fn, \" -t \",  rent_file, sep = \"\")\n",
      "rhps_coalescent/height_analyses/UKbiobank/rentplus_trees_1700_height_1KG.R:   rent.string <- paste(\"java -jar \", rentplus_fn, \" -t \",  rent_file, sep = \"\")\n",
      "rhps_coalescent/height_analyses/UKBNeale_BergEtAl18/rentplus_trees_1700_height_1KG.R:   rent.string <- paste(\"java -jar \", rentplus_fn, \" -t \",  rent_file, sep = \"\")\n",
      "rhps_coalescent/maintext_sims_rent_061318/simwrent_onelocus.R:\trent.string <- paste(\"java -jar \", rentplus_fn, \" -t -l \", as.character(len_hap), \" \", rent_in_fn.rf, sep = \"\")\n",
      "rhps_coalescent/maintext_sims_rent_061318/pheno_sim_1iter.R:\trent.string <- paste(\"java -jar \", rentplus_fn, \" -t -l \", as.character(len_hap), \" \", rent_in_fn, \" \", msout.fn, sep = \"\")\n",
      "rhps_coalescent/maintext_sims_rent_061318/pheno_sim_1iter_rentonly.R:\trent.string <- paste(\"java -jar \", rentplus_fn, \" -t -l \", as.character(len_hap), \" \", rent_in_fn, sep = \"\")\n",
      "rhps_coalescent/small_example/pheno_sim_1iter.R:\trent.string <- paste(\"java -jar \", rentplus_fn, \" -t -l \", as.character(len_hap), \" \", rent_in_fn, \" \", msout.fn, sep = \"\")\n"
     ]
    }
   ],
   "source": [
    "%%bash\n",
    "grep -r rentplus_fn rhps_coalescent/ | grep java"
   ]
  },
  {
   "cell_type": "markdown",
   "metadata": {},
   "source": [
    "rentplus_trees_1700_height_1KG.R を調べてみよう"
   ]
  },
  {
   "cell_type": "markdown",
   "metadata": {},
   "source": [
    "```R\n",
    "for(i in 1:dim(mark.dat)[1]){\n",
    "   snp <- mark.dat[i,6]\n",
    "   pos.snp <- mark.dat[i,2]\n",
    "   chr <- mark.dat[i,1]\n",
    "   lb <- pos.snp - wid\n",
    "   ub <- pos.snp + wid\n",
    "\n",
    "   #Write a string that will call tabix to extract a vcf from 1000 genomes.\n",
    "   tabix.str <- paste(\"tabix -h /home/medge/Data/1000gen_rel_20130502/ALL.chr\", as.character(chr), \".phase3_shapeit2_mvncall_integrated_v5a.20130502.genotypes.vcf.gz \", as.character(chr), \":\", as.character(lb), \"-\", as.character(ub), \" | vcf-subset -c \", id_file, \" > \", vcf_file, sep = \"\")\n",
    "   system(tabix.str)\n",
    "\n",
    "   #Write to IMPUTE format, which is easy to change to RENT+ format.\n",
    "   vcftools.str <- paste(\"vcftools --vcf \", vcf_file, \" --out \", out_pref, \" --IMPUTE\", sep = \"\")\n",
    "   system(vcftools.str)\n",
    "\n",
    "   #Read in the IMPUTE format haplotypes, keep polymorphic loci, and \n",
    "   #rearrange into RENT+ format. We shuffle so that the derived alleles\n",
    "   #are at the end.\n",
    "\n",
    "   hap.fn <- paste(out_pref, \".impute.hap\",sep = \"\")\n",
    "   haps <- try(as.matrix(read.table(hap.fn)))\n",
    "   if (inherits(haps, 'try-error')){\n",
    "       print(paste(\"SNP\", as.character(i), \"has a problem\"))\n",
    "       snps.fail1[i] <- 1 \n",
    "       next\n",
    "   }\n",
    "   info.fn <- paste(out_pref, \".impute.legend\",sep = \"\")\n",
    "   info <- read.table(info.fn, head = TRUE)\n",
    "\n",
    "   loci.poly <- rowMeans(haps) > 0 & rowMeans(haps < 1)\n",
    "   haps.poly <- haps[loci.poly,]\n",
    "   info.poly <- info[loci.poly,]\n",
    "   col.keysnp <- which(info.poly$pos == as.numeric(pos.snp))\n",
    "   info.sites[[i]] <- info.poly[col.keysnp,]\n",
    "   if(length(col.keysnp) == 0){\n",
    "      print(paste(\"SNP\", as.character(i), \"missing from 1KG\"))\n",
    "      snps.miss[i] <- 1    \n",
    "      next \n",
    "   }\n",
    "   n_der <- sum(haps.poly[col.keysnp,])\n",
    "   haps.poly.der.at.end <- haps.poly[, order(haps.poly[col.keysnp,])]\n",
    "   haps.charvec <- apply(t(haps.poly.der.at.end), 1, paste, sep = \"\", collapse = \"\")\n",
    "   haps.char <- paste(haps.charvec, sep = \"\", collapse = \"\\n\")\n",
    "   pos.char <- paste(as.character(info.poly$pos), sep = \"\", collapse = \" \")\n",
    "   rentfile.str <- paste(pos.char, haps.char, sep = \"\\n\", collapse = \"\")\n",
    "   write(rentfile.str, rent_file)\n",
    "\n",
    "   seg.sites[i] <- sum(loci.poly)\n",
    "   n.chrs[i] <- ncol(haps)\n",
    "   n_ders[i] <- n_der\n",
    "   meas.length[i] <- max(info.poly$pos) - min(info.poly$pos)\n",
    "   if(n_der == n.chrs[i] | n_der == 0){\n",
    "      monomorphic_loci <- c(monomorphic_loci, i)\n",
    "      print(paste(\"SNP\", as.character(i), \"is monomorphic in the sample\")) \n",
    "      next\n",
    "   }\n",
    "\n",
    "\n",
    "   #run rent+\n",
    "   rent.string <- paste(\"java -jar \", rentplus_fn, \" -t \",  rent_file, sep = \"\")\n",
    "   system(rent.string)\n",
    "\n",
    "   #read in theta estimate\n",
    "   rent_theta_fn <- paste(rent_file, \".theta\", sep = \"\")\n",
    "   thetas[i] <- suppressWarnings(as.numeric(read.table(rent_theta_fn, nrows = 1)$V1))\n",
    "\n",
    "   #Read in trees at selected site in rent and rent+\n",
    "   rent_trees_fn <- paste(rent_file, \".trees\", sep = \"\")\n",
    "   rent_trees <- readLines(rent_trees_fn)\n",
    "\n",
    "   #which tree is for the focal site?\n",
    "   rent_tr_ind <- grep(paste(as.character(pos.snp), \"\\t\", sep = \"\"), rent_trees)\n",
    "\n",
    "   #get tree at focal site in newick format.\n",
    "   rent_tree_newick <- sub(paste(as.character(pos.snp), \"\\t\", sep = \"\"), \"\", rent_trees[rent_tr_ind])\n",
    "   rent_tree <- read.tree(text = paste(rent_tree_newick, \";\", sep = \"\"))\n",
    "\n",
    "   n_chroms <- dim(haps.poly)[2]\n",
    "   anc_tips <- which(rent_tree$tip.label %in% as.character(1:(n_chroms - n_der))) \n",
    "   der_tips <- which(as.numeric(rent_tree$tip.label) %in% (n_chroms - n_der + 1):n_chroms)\n",
    "   anc_tree <- drop.tip(rent_tree, der_tips)\n",
    "   der_tree <- drop.tip(rent_tree, anc_tips)\n",
    "\n",
    "   \n",
    "   trees.all[[i]] <- rent_tree\n",
    "   trees.anc[[i]] <- anc_tree\n",
    "   trees.der[[i]] <- der_tree\n",
    "\n",
    "   print(paste(\"round\", as.character(i), \"complete\"))\n",
    "   print(paste(\"segsites =\", as.character(seg.sites[i])))\n",
    "   print(paste(\"measured length =\", as.character(meas.length[i])))\n",
    "}\n",
    "```\n",
    "\n",
    "これは使えそうな感じがします。"
   ]
  },
  {
   "cell_type": "code",
   "execution_count": 15,
   "metadata": {
    "vscode": {
     "languageId": "shellscript"
    }
   },
   "outputs": [
    {
     "name": "stdout",
     "output_type": "stream",
     "text": [
      "06_231226_PRSadvance.ipynb\n",
      "EdgeCoop2019B.ipynb\n",
      "EdgeCoop2019.ipynb\n",
      "EdgeCoop2019R.ipynb\n",
      "README.md\n",
      "rhps_coalescent\n"
     ]
    }
   ],
   "source": [
    "%%bash\n",
    "cd ~/hmiwa/hmiwa-lab/d_20231023/06_231226_PRSadvance\n",
    "ls"
   ]
  },
  {
   "cell_type": "code",
   "execution_count": 16,
   "metadata": {
    "vscode": {
     "languageId": "shellscript"
    }
   },
   "outputs": [
    {
     "name": "stdout",
     "output_type": "stream",
     "text": [
      "/home/hmiwa/hmiwa1/rawdata/1KGa/ALL.chr1.phase3_shapeit2_mvncall_integrated_v5a.20130502.genotypes.vcf.gz\n",
      "/home/hmiwa/hmiwa1/rawdata/1KGa/ALL.chr1.phase3_shapeit2_mvncall_integrated_v5a.20130502.genotypes.vcf.gz.csi\n"
     ]
    }
   ],
   "source": [
    "%%bash\n",
    "ls ~/hmiwa1/rawdata/1KGa/*chr1.*"
   ]
  },
  {
   "cell_type": "markdown",
   "metadata": {},
   "source": [
    "必要なファイルの位置を確認したところで、別途テストディレクトリを用意して移動します。"
   ]
  },
  {
   "cell_type": "code",
   "execution_count": 17,
   "metadata": {
    "vscode": {
     "languageId": "shellscript"
    }
   },
   "outputs": [],
   "source": [
    "%%bash\n",
    "mkdir -p ~/hmiwa1/storage/hmiwa-lab/06_231226_PRSadvance"
   ]
  },
  {
   "cell_type": "code",
   "execution_count": null,
   "metadata": {
    "vscode": {
     "languageId": "shellscript"
    }
   },
   "outputs": [
    {
     "name": "stdout",
     "output_type": "stream",
     "text": [
      "testdir/ALL.chr1.phase3_shapeit2_mvncall_integrated_v5a.20130502.genotypes.vcf.gz\n",
      "testdir/ALL.chr1.phase3_shapeit2_mvncall_integrated_v5a.20130502.genotypes.vcf.gz.csi\n",
      "testdir/GBR_IDS.txt\n",
      "testdir/helper_functions_coal_sel.R\n",
      "testdir/neale.height.best.snp.tsv\n",
      "testdir/RentPlus.jar\n",
      "testdir/rentplus_trees_1700_height_1KG.R\n",
      "\n",
      "testdir/temp:\n"
     ]
    }
   ],
   "source": [
    "%%bash\n",
    "cd ~/hmiwa1/storage/hmiwa-lab/06_231226_PRSadvance\n",
    "mkdir -p testdir\n",
    "cp /home/hmiwa/hmiwa1/rawdata/1KGa/ALL.chr1.phase3_shapeit2_mvncall_integrated_v5a.20130502.genotypes* testdir/\n",
    "ls testdir/*"
   ]
  },
  {
   "cell_type": "code",
   "execution_count": 19,
   "metadata": {
    "vscode": {
     "languageId": "shellscript"
    }
   },
   "outputs": [
    {
     "name": "stdout",
     "output_type": "stream",
     "text": [
      "ALL.chr1.phase3_shapeit2_mvncall_integrated_v5a.20130502.genotypes.vcf.gz\n",
      "ALL.chr1.phase3_shapeit2_mvncall_integrated_v5a.20130502.genotypes.vcf.gz.csi\n",
      "GBR_IDS.txt\n",
      "helper_functions_coal_sel.R\n",
      "neale.height.best.snp.tsv\n",
      "RentPlus.jar\n",
      "rentplus_trees_1700_height_1KG.R\n",
      "temp\n"
     ]
    }
   ],
   "source": [
    "%%bash\n",
    "cp ~/hmiwa/hmiwa-lab/d_20231023/06_231226_PRSadvance/rhps_coalescent/height_analyses/UKBNeale_BergEtAl18/* ~/hmiwa1/storage/hmiwa-lab/06_231226_PRSadvance/testdir/\n",
    "ls ~/hmiwa1/storage/hmiwa-lab/06_231226_PRSadvance/testdir"
   ]
  },
  {
   "cell_type": "code",
   "execution_count": 20,
   "metadata": {
    "vscode": {
     "languageId": "shellscript"
    }
   },
   "outputs": [
    {
     "name": "stdout",
     "output_type": "stream",
     "text": [
      "ALL.chr1.phase3_shapeit2_mvncall_integrated_v5a.20130502.genotypes.vcf.gz\n",
      "ALL.chr1.phase3_shapeit2_mvncall_integrated_v5a.20130502.genotypes.vcf.gz.csi\n",
      "GBR_IDS.txt\n",
      "helper_functions_coal_sel.R\n",
      "neale.height.best.snp.tsv\n",
      "RentPlus.jar\n",
      "rentplus_trees_1700_height_1KG.R\n",
      "temp\n"
     ]
    }
   ],
   "source": [
    "%%bash\n",
    "cd ~/hmiwa1/storage/hmiwa-lab/06_231226_PRSadvance/testdir\n",
    "mkdir -p temp\n",
    "ls"
   ]
  },
  {
   "cell_type": "code",
   "execution_count": 21,
   "metadata": {
    "vscode": {
     "languageId": "shellscript"
    }
   },
   "outputs": [
    {
     "name": "stdout",
     "output_type": "stream",
     "text": [
      "=hmiwa=\n",
      "height_analyses\n",
      "helper_functions_coal_sel.R\n",
      "maintext_sims_rent_061318\n",
      "msseldir\n",
      "README.md\n",
      "RentPlus.jar\n",
      "small_example\n",
      "=hmiwa1=\n",
      "ALL.chr1.phase3_shapeit2_mvncall_integrated_v5a.20130502.genotypes.vcf.gz\n",
      "ALL.chr1.phase3_shapeit2_mvncall_integrated_v5a.20130502.genotypes.vcf.gz.csi\n",
      "GBR_IDS.txt\n",
      "helper_functions_coal_sel.R\n",
      "neale.height.best.snp.tsv\n",
      "RentPlus.jar\n",
      "rentplus_trees_1700_height_1KG.R\n",
      "temp\n",
      "=hmiwa1=\n",
      "testdir/ALL.chr1.phase3_shapeit2_mvncall_integrated_v5a.20130502.genotypes.vcf.gz\n",
      "testdir/ALL.chr1.phase3_shapeit2_mvncall_integrated_v5a.20130502.genotypes.vcf.gz.csi\n",
      "testdir/GBR_IDS.txt\n",
      "testdir/helper_functions_coal_sel.R\n",
      "testdir/neale.height.best.snp.tsv\n",
      "testdir/RentPlus.jar\n",
      "testdir/rentplus_trees_1700_height_1KG.R\n",
      "\n",
      "testdir/temp:\n"
     ]
    }
   ],
   "source": [
    "%%bash\n",
    "echo \"=hmiwa=\"\n",
    "ls ~/hmiwa/hmiwa-lab/d_20231023/06_231226_PRSadvance/rhps_coalescent\n",
    "echo \"=hmiwa1=\"\n",
    "ls ~/hmiwa1/storage/hmiwa-lab/06_231226_PRSadvance/testdir\n",
    "cd ~/hmiwa1/storage/hmiwa-lab/06_231226_PRSadvance\n",
    "cp ~/hmiwa/hmiwa-lab/d_20231023/06_231226_PRSadvance/rhps_coalescent/RentPlus.jar testdir\n",
    "echo \"=hmiwa1=\"\n",
    "ls testdir/*"
   ]
  },
  {
   "cell_type": "code",
   "execution_count": 22,
   "metadata": {
    "vscode": {
     "languageId": "shellscript"
    }
   },
   "outputs": [
    {
     "name": "stdout",
     "output_type": "stream",
     "text": [
      "height_analyses\n",
      "helper_functions_coal_sel.R\n",
      "maintext_sims_rent_061318\n",
      "msseldir\n",
      "README.md\n",
      "RentPlus.jar\n",
      "small_example\n"
     ]
    }
   ],
   "source": [
    "%%bash\n",
    "ls ~/hmiwa/hmiwa-lab/d_20231023/06_231226_PRSadvance/rhps_coalescent"
   ]
  },
  {
   "cell_type": "code",
   "execution_count": 23,
   "metadata": {
    "vscode": {
     "languageId": "shellscript"
    }
   },
   "outputs": [],
   "source": [
    "%%bash\n",
    "cd ~/hmiwa/hmiwa-lab/d_20231023/06_231226_PRSadvance/rhps_coalescent\n",
    "cp helper_functions_coal_sel.R ~/hmiwa1/storage/hmiwa-lab/06_231226_PRSadvance/testdir"
   ]
  },
  {
   "cell_type": "code",
   "execution_count": 4,
   "metadata": {
    "vscode": {
     "languageId": "shellscript"
    }
   },
   "outputs": [
    {
     "name": "stdout",
     "output_type": "stream",
     "text": [
      "ALL.chr1.phase3_shapeit2_mvncall_integrated_v5a.20130502.genotypes.vcf.gz\n",
      "ALL.chr1.phase3_shapeit2_mvncall_integrated_v5a.20130502.genotypes.vcf.gz.csi\n",
      "GBR_IDS.txt\n",
      "helper_functions_coal_sel.R\n",
      "neale.height.best.snp.tsv\n",
      "rent_1700_trees_1KG_neale_height_071918.RData\n",
      "RentPlus.jar\n",
      "rentplus_trees_1700_height_1KG.R\n",
      "temp\n"
     ]
    }
   ],
   "source": [
    "%%bash\n",
    "ls ~/hmiwa1/storage/hmiwa-lab/06_231226_PRSadvance/testdir"
   ]
  },
  {
   "cell_type": "markdown",
   "metadata": {},
   "source": [
    "スクリプト調整のテスト"
   ]
  },
  {
   "cell_type": "code",
   "execution_count": 1,
   "metadata": {
    "vscode": {
     "languageId": "shellscript"
    }
   },
   "outputs": [
    {
     "name": "stdout",
     "output_type": "stream",
     "text": [
      "06_231226_PRSadvance.ipynb\n",
      "EdgeCoop2019B.ipynb\n",
      "EdgeCoop2019.ipynb\n",
      "EdgeCoop2019R.ipynb\n",
      "README.md\n",
      "rentplus_test.R\n",
      "rhps_coalescent\n"
     ]
    }
   ],
   "source": [
    "%%bash\n",
    "cd ~/hmiwa/hmiwa-lab/d_20231023/06_231226_PRSadvance/\n",
    "ls"
   ]
  },
  {
   "cell_type": "code",
   "execution_count": 7,
   "metadata": {
    "vscode": {
     "languageId": "shellscript"
    }
   },
   "outputs": [
    {
     "name": "stdout",
     "output_type": "stream",
     "text": [
      "ALL.chr1.phase3_shapeit2_mvncall_integrated_v5a.20130502.genotypes.vcf.gz\n",
      "ALL.chr1.phase3_shapeit2_mvncall_integrated_v5a.20130502.genotypes.vcf.gz.csi\n",
      "GBR_IDS.txt\n",
      "helper_functions_coal_sel.R\n",
      "neale.height.best.snp.tsv\n",
      "rent_1700_trees_1KG_neale_height_071918.RData\n",
      "RentPlus.jar\n",
      "rentplus_trees_1700_height_1KG.R\n",
      "temp\n"
     ]
    }
   ],
   "source": [
    "%%bash\n",
    "ls ~/hmiwa1/storage/hmiwa-lab/06_231226_PRSadvance/testdir\n",
    "cd ~/hmiwa1/storage/hmiwa-lab/06_231226_PRSadvance/testdir\n",
    "rm *vcf.gz*"
   ]
  },
  {
   "cell_type": "code",
   "execution_count": 8,
   "metadata": {
    "vscode": {
     "languageId": "shellscript"
    }
   },
   "outputs": [
    {
     "name": "stdout",
     "output_type": "stream",
     "text": [
      "GBR_IDS.txt\n",
      "helper_functions_coal_sel.R\n",
      "neale.height.best.snp.tsv\n",
      "rent_1700_trees_1KG_neale_height_071918.RData\n",
      "RentPlus.jar\n",
      "rentplus_trees_1700_height_1KG.R\n",
      "temp\n"
     ]
    }
   ],
   "source": [
    "%%bash\n",
    "ls ~/hmiwa1/storage/hmiwa-lab/06_231226_PRSadvance/testdir"
   ]
  },
  {
   "cell_type": "code",
   "execution_count": 9,
   "metadata": {
    "vscode": {
     "languageId": "shellscript"
    }
   },
   "outputs": [],
   "source": [
    "%%bash\n",
    "log=~/hmiwa1/storage/hmiwa-lab/06_231226_PRSadvance/testdir/temp/log2\n",
    "echo \"\" > $log\n",
    "Rscript rentplus_test.R >> $log"
   ]
  },
  {
   "cell_type": "code",
   "execution_count": 12,
   "metadata": {
    "vscode": {
     "languageId": "shellscript"
    }
   },
   "outputs": [
    {
     "name": "stdout",
     "output_type": "stream",
     "text": [
      "GBR_IDS.txt\n",
      "height_lr_3ests.pdf\n",
      "height_lr_3ests.tif\n",
      "helper_functions_coal_sel.R\n",
      "neale.height.best.snp.tsv\n",
      "rent_1700_trees_1KG_height_UKB_neale_processed_072318.RData\n",
      "rent_1700_trees_1KG_neale_height_071918.RData\n",
      "RentPlus.jar\n",
      "rentplus_trees_1700_height_1KG.R\n",
      "Rplots.pdf\n",
      "temp\n"
     ]
    }
   ],
   "source": [
    "%%bash\n",
    "ls ~/hmiwa1/storage/hmiwa-lab/06_231226_PRSadvance/testdir/"
   ]
  },
  {
   "cell_type": "code",
   "execution_count": 17,
   "metadata": {
    "vscode": {
     "languageId": "shellscript"
    }
   },
   "outputs": [
    {
     "name": "stdout",
     "output_type": "stream",
     "text": [
      "06_231226_PRSadvance.ipynb\n",
      "EdgeCoop2019B.ipynb\n",
      "EdgeCoop2019.ipynb\n",
      "EdgeCoop2019R.ipynb\n",
      "pic\n",
      "README.md\n",
      "rentplus_test.R\n",
      "rhps_coalescent\n"
     ]
    }
   ],
   "source": [
    "%%bash\n",
    "ls\n",
    "mkdir -p pic\n",
    "cp ~/hmiwa1/storage/hmiwa-lab/06_231226_PRSadvance/testdir/*3est* pic"
   ]
  },
  {
   "cell_type": "code",
   "execution_count": 18,
   "metadata": {
    "vscode": {
     "languageId": "shellscript"
    }
   },
   "outputs": [
    {
     "name": "stdout",
     "output_type": "stream",
     "text": [
      "height_lr_3ests.pdf\n",
      "height_lr_3ests.tif\n"
     ]
    }
   ],
   "source": [
    "%%bash\n",
    "ls pic"
   ]
  },
  {
   "cell_type": "code",
   "execution_count": 24,
   "metadata": {
    "vscode": {
     "languageId": "shellscript"
    }
   },
   "outputs": [],
   "source": [
    "%%bash\n",
    "pdftoppm -png pic/height_lr_3ests.pdf pic/height_lr_3ests"
   ]
  },
  {
   "cell_type": "code",
   "execution_count": 25,
   "metadata": {
    "vscode": {
     "languageId": "shellscript"
    }
   },
   "outputs": [
    {
     "name": "stdout",
     "output_type": "stream",
     "text": [
      "height_lr_3ests-1.png\n",
      "height_lr_3ests.pdf\n",
      "height_lr_3ests.tif\n"
     ]
    }
   ],
   "source": [
    "%%bash\n",
    "ls pic"
   ]
  },
  {
   "cell_type": "markdown",
   "metadata": {},
   "source": [
    "<img src=\"pic/height_lr_3ests-1.png\" width=\"75%\">"
   ]
  },
  {
   "cell_type": "markdown",
   "metadata": {},
   "source": [
    "無事動きましたね。これをアレンジすれば計算ができそうじゃ。"
   ]
  },
  {
   "cell_type": "markdown",
   "metadata": {},
   "source": [
    "rentplus_test.R はこちら\n",
    "\n",
    "```R\n",
    "setwd(\"~/hmiwa1/storage/hmiwa-lab/06_231226_PRSadvance/testdir\")\n",
    "\n",
    "#rentplus_trees_1700_height_1KG.R\n",
    "\n",
    "#Goal:  Run rent+ on 1700 height-associated SNPs from 1KG.\n",
    "\n",
    "library(psych)\n",
    "library(data.table)\n",
    "library(ape)\n",
    "\n",
    "id_file <- \"GBR_IDS.txt\"\n",
    "vcf_file <- \"temp/test.vcf\"\n",
    "out_pref <- \"temp/hap\"\n",
    "rent_file <- \"temp/rent_in.txt\"\n",
    "rentplus_fn <- \"RentPlus.jar\"\n",
    "\n",
    "height_fn <- \"neale.height.best.snp.tsv\"\n",
    "\n",
    "helper_fn <- \"helper_functions_coal_sel.R\"\n",
    "\n",
    "source(helper_fn) #read in helper functions and load ape package\n",
    "\n",
    "mark.dat <- fread(height_fn, head = TRUE)\n",
    "nmarks <- nrow(mark.dat)\n",
    "\n",
    "wid <- 100000 #half-window size around focal locus to extract\n",
    "\n",
    "n_ders <- numeric(0)\n",
    "thetas <- numeric(0)\n",
    "\n",
    "trees.all <- list()\n",
    "trees.anc <- list()\n",
    "trees.der <- list()\n",
    "\n",
    "seg.sites <- numeric()\n",
    "meas.length <- numeric()\n",
    "n.chrs <- numeric()\n",
    "\n",
    "snps.fail1 <- rep(0, dim(mark.dat)[1])\n",
    "snps.miss <- rep(0, dim(mark.dat)[1])\n",
    "monomorphic_loci <- numeric()\n",
    "\n",
    "info.sites <- list() # for each snp, ID pos allele0 allele1\n",
    "\n",
    "system(\"echo '' > temp/tmp\")\n",
    "system(\"echo '' > temp/log\")\n",
    "\n",
    "for(i in 1:dim(mark.dat)[1]){\n",
    "   snp <- mark.dat[i,6]\n",
    "   pos.snp <- mark.dat[i,2]\n",
    "   chr <- mark.dat[i,1]\n",
    "   lb <- pos.snp - wid\n",
    "   ub <- pos.snp + wid\n",
    "\n",
    "   rent.tmp <- paste(\"echo '[\", \"SNP\", as.character(i), \"]' `date` >> temp/tmp\", sep = \"\")\n",
    "   system(rent.tmp)\n",
    "\n",
    "   #Write a string that will call tabix to extract a vcf from 1000 genomes.\n",
    "   tabix.str <- paste(\"tabix -h ~/hmiwa1/rawdata/1KGa/ALL.chr\", as.character(chr), \".phase3_shapeit2_mvncall_integrated_v5a.20130502.genotypes.vcf.gz \", as.character(chr), \":\", as.character(lb), \"-\", as.character(ub), \" | ~/homebrew/bin/vcf-subset -c \", id_file, \" > \", vcf_file, sep = \"\")\n",
    "   system(tabix.str)\n",
    "\n",
    "   #Write to IMPUTE format, which is easy to change to RENT+ format.\n",
    "   #vcftools.str <- paste(\"vcftools --vcf \", vcf_file, \" --out \", out_pref, \" --IMPUTE\", sep = \"\")\n",
    "   vcftools.str <- paste(\"~/homebrew/bin/vcftools --vcf \", vcf_file, \" --out \", out_pref, \" --IMPUTE 2>> temp/log\",sep = \"\")\n",
    "   system(vcftools.str)\n",
    "\n",
    "   #Read in the IMPUTE format haplotypes, keep polymorphic loci, and \n",
    "   #rearrange into RENT+ format. We shuffle so that the derived alleles\n",
    "   #are at the end.\n",
    "\n",
    "   hap.fn <- paste(out_pref, \".impute.hap\",sep = \"\")\n",
    "   haps <- try(as.matrix(read.table(hap.fn)))\n",
    "   if (inherits(haps, 'try-error')){\n",
    "       print(paste(\"SNP\", as.character(i), \"has a problem\"))\n",
    "       snps.fail1[i] <- 1 \n",
    "       next\n",
    "   }\n",
    "   info.fn <- paste(out_pref, \".impute.legend\",sep = \"\")\n",
    "   info <- read.table(info.fn, head = TRUE)\n",
    "\n",
    "   loci.poly <- rowMeans(haps) > 0 & rowMeans(haps < 1)\n",
    "   haps.poly <- haps[loci.poly,]\n",
    "   info.poly <- info[loci.poly,]\n",
    "   col.keysnp <- which(info.poly$pos == as.numeric(pos.snp))\n",
    "   info.sites[[i]] <- info.poly[col.keysnp,]\n",
    "   if(length(col.keysnp) == 0){\n",
    "      print(paste(\"SNP\", as.character(i), \"missing from 1KG\"))\n",
    "      snps.miss[i] <- 1    \n",
    "      next \n",
    "   }\n",
    "   n_der <- sum(haps.poly[col.keysnp,])\n",
    "   haps.poly.der.at.end <- haps.poly[, order(haps.poly[col.keysnp,])]\n",
    "   haps.charvec <- apply(t(haps.poly.der.at.end), 1, paste, sep = \"\", collapse = \"\")\n",
    "   haps.char <- paste(haps.charvec, sep = \"\", collapse = \"\\n\")\n",
    "   pos.char <- paste(as.character(info.poly$pos), sep = \"\", collapse = \" \")\n",
    "   rentfile.str <- paste(pos.char, haps.char, sep = \"\\n\", collapse = \"\")\n",
    "   write(rentfile.str, rent_file)\n",
    "\n",
    "   seg.sites[i] <- sum(loci.poly)\n",
    "   n.chrs[i] <- ncol(haps)\n",
    "   n_ders[i] <- n_der\n",
    "   meas.length[i] <- max(info.poly$pos) - min(info.poly$pos)\n",
    "   if(n_der == n.chrs[i] | n_der == 0){\n",
    "      monomorphic_loci <- c(monomorphic_loci, i)\n",
    "      print(paste(\"SNP\", as.character(i), \"is monomorphic in the sample\")) \n",
    "      next\n",
    "   }\n",
    "\n",
    "\n",
    "   #run rent+\n",
    "   #rent.string <- paste(\"java -jar \", rentplus_fn, \" -t \",  rent_file, sep = \"\")\n",
    "   rent.string <- paste(\"java -Xmx8g -jar \", rentplus_fn, \" -t \", rent_file, \" >> temp/tmp\",sep = \"\")\n",
    "   system(rent.string)\n",
    "\n",
    "   #read in theta estimate\n",
    "   rent_theta_fn <- paste(rent_file, \".theta\", sep = \"\")\n",
    "   thetas[i] <- suppressWarnings(as.numeric(read.table(rent_theta_fn, nrows = 1)$V1))\n",
    "\n",
    "   #Read in trees at selected site in rent and rent+\n",
    "   rent_trees_fn <- paste(rent_file, \".trees\", sep = \"\")\n",
    "   rent_trees <- readLines(rent_trees_fn)\n",
    "\n",
    "   #which tree is for the focal site?\n",
    "   rent_tr_ind <- grep(paste(as.character(pos.snp), \"\\t\", sep = \"\"), rent_trees)\n",
    "\n",
    "   #get tree at focal site in newick format.\n",
    "   rent_tree_newick <- sub(paste(as.character(pos.snp), \"\\t\", sep = \"\"), \"\", rent_trees[rent_tr_ind])\n",
    "   rent_tree <- read.tree(text = paste(rent_tree_newick, \";\", sep = \"\"))\n",
    "\n",
    "   n_chroms <- dim(haps.poly)[2]\n",
    "   anc_tips <- which(rent_tree$tip.label %in% as.character(1:(n_chroms - n_der))) \n",
    "   der_tips <- which(as.numeric(rent_tree$tip.label) %in% (n_chroms - n_der + 1):n_chroms)\n",
    "   anc_tree <- drop.tip(rent_tree, der_tips)\n",
    "   der_tree <- drop.tip(rent_tree, anc_tips)\n",
    "\n",
    "   \n",
    "   trees.all[[i]] <- rent_tree\n",
    "   trees.anc[[i]] <- anc_tree\n",
    "   trees.der[[i]] <- der_tree\n",
    "\n",
    "   print(paste(\"round\", as.character(i), \"complete\"))\n",
    "   print(paste(\"segsites =\", as.character(seg.sites[i])))\n",
    "   print(paste(\"measured length =\", as.character(meas.length[i])))\n",
    "}\n",
    "\n",
    "save.image(file = \"rent_1700_trees_1KG_neale_height_071918.RData\")\n",
    "\n",
    "\n",
    "n_ancs <- n_chroms- n_ders\n",
    "\n",
    "#Checks that SNPS worked.\n",
    "monomorphic_loci #empty---no loci were monomorphic.\n",
    "mean(snps.fail1)\n",
    "mean(snps.miss)\n",
    "\n",
    "\n",
    "#Check polarization\n",
    "\n",
    "info.sites.char <- matrix(\"\", nrow = length(info.sites), ncol = 4)\n",
    "for(i in 1:length(info.sites)){\n",
    "\tinfo.sites.char[i,1] <- as.character(info.sites[[i]]$ID)\n",
    "\tinfo.sites.char[i,2] <- as.character(info.sites[[i]]$pos)\n",
    "\tinfo.sites.char[i,3] <- as.character(info.sites[[i]]$allele0)\n",
    "\tinfo.sites.char[i,4] <- as.character(info.sites[[i]]$allele1)\n",
    "}\n",
    "\n",
    "mean(as.character(mark.dat$A2) == info.sites.char[,4]) #allele1 matches A2 in each case, polarization good.\n",
    "\n",
    "mean(as.character(mark.dat$rsid) == info.sites.char[,1]) #check that the rsids match\n",
    "\n",
    "\n",
    "\n",
    "beta <- mark.dat$beta\n",
    "rsID <- mark.dat$rsid\n",
    "\n",
    "\n",
    "\n",
    "#Goal: adjust time information using locus-wise thetas.\n",
    "#fit neutral, waiting-time, and lineages-remaining estimators\n",
    "#test for selection.\n",
    "\n",
    "\n",
    "#Rent+ times are computed as t = 2*d/(L*theta)\n",
    "#where d is a Hamming distance between haplotypes, L is the length of the haplotype\n",
    "#in base pairs, and theta is estimated value of 4Nu (est. by Watterson).\n",
    "#We'll multiply by theta estimated per site to get distance-matrix units,\n",
    "#then rescale so that the mean tmrca is 2.\n",
    "\n",
    "trees.der.rescale <- trees.der\n",
    "trees.anc.rescale <- trees.anc\n",
    "trees.all.rescale <- trees.all\n",
    "\n",
    "\n",
    "for(i in 1:length(trees.all)){\n",
    "\ttrees.der.rescale[[i]]$edge.length <- trees.der[[i]]$edge.length*thetas[i]\n",
    "\ttrees.anc.rescale[[i]]$edge.length <- trees.anc[[i]]$edge.length*thetas[i]\n",
    "\ttrees.all.rescale[[i]]$edge.length <- trees.all[[i]]$edge.length*thetas[i]\n",
    "}\n",
    "\n",
    "\n",
    "tmrcas <- numeric(0)\n",
    "for(i in 1:length(trees.all)){\n",
    "\ttmrcas[i] <- max(branching.times(trees.all.rescale[[i]]))\n",
    "}\n",
    "\n",
    "for(i in 1:length(trees.all)){\n",
    "\ttrees.der.rescale[[i]]$edge.length <- trees.der.rescale[[i]]$edge.length*2/mean(tmrcas)\n",
    "\ttrees.anc.rescale[[i]]$edge.length <- trees.anc.rescale[[i]]$edge.length*2/mean(tmrcas)\n",
    "\ttrees.all.rescale[[i]]$edge.length <- trees.all.rescale[[i]]$edge.length*2/mean(tmrcas)\n",
    "}\n",
    "\n",
    "time <- seq(0, 4, by = 0.001)\n",
    "\n",
    "times.c <- list()\n",
    "for(i in 1:length(trees.all.rescale)){\n",
    "\ttimes.c[[i]] <- trees_to_times(trees.all.rescale[[i]], trees.anc.rescale[[i]], trees.der.rescale[[i]], time, sure.alt.is.derived = FALSE)\n",
    "}\n",
    "\n",
    "lins.list <- list()\n",
    "for(i in 1:length(trees.all.rescale)){\n",
    "\tlins.list[[i]] <- times_to_lins(times.c[[i]], time)\n",
    "}\n",
    "\n",
    "\n",
    "Va.poly <- add.var(beta, (n_ders/n_chroms))\n",
    "add.var(beta / sqrt(Va.poly), (n_ders/n_chroms))\n",
    "\n",
    "beta.r <- beta / sqrt(Va.poly)\n",
    "\n",
    "\n",
    "#neutral\n",
    "trajs_neut <- matrix(nrow = length(time), ncol = length(trees.all.rescale))\n",
    "vars_neut_bin <- matrix(nrow = length(time), ncol = length(trees.all.rescale))\n",
    "#vars_neut_post <- matrix(nrow = length(time), ncol = length(trees.all.rescale))\n",
    "for(i in 1:length(trees.all.rescale)){\t\n",
    "\ttrajs_neut[,i] <- est_af_traj_neut(lins.list[[i]])\n",
    "\tvars_neut_bin[,i] <- est_af_var_neut_bin(lins.list[[i]])\n",
    "\t#vars_neut_post[,i] <- est_af_var_neut_post(lins.list[[i]])\n",
    "}\n",
    "trajs_neut[time == 0,] <- (n_ders/n_chroms) #in the present, just use sample allele frequency.\n",
    "#This is the same as the output of est_af_traj_neut() if no coalescent times get rounded to 0.\n",
    "vars_neut_bin[time == 0,] <- (n_ders/n_chroms)*(1 - (n_ders/n_chroms))/n_chroms\n",
    "traj.phen.neut <- 2 * trajs_neut %*%  beta.r\n",
    "var.phen.neut.bin <- 4 * vars_neut_bin %*% beta.r^2\n",
    "#var.phen.neut.post <- 4 * vars_neut_post %*% beta^2\n",
    "\n",
    "\n",
    "#waiting time-based estimates and variance\n",
    "trajs_est_wt_l1 <- matrix(nrow = length(time), ncol = length(trees.all.rescale))\n",
    "trajs_var_wt_l1 <- matrix(nrow = length(time), ncol = length(trees.all.rescale))\n",
    "for(i in 1:length(trees.all.rescale)){\n",
    "\twt.estvar <- p_ests_wait(times.c[[i]], time, ell.ref = 1, ell.alt = 1)\n",
    "\ttrajs_est_wt_l1[,i] <- wt.estvar[,1]\t\n",
    "\ttrajs_var_wt_l1[,i] <- wt.estvar[,2]\t\n",
    "}\n",
    "traj.phen.wt_l1 <- 2 * trajs_est_wt_l1 %*%  beta.r \n",
    "var.phen.wt_l1 <- 4 * trajs_var_wt_l1 %*%  beta.r^2 \n",
    "traj.phen.wt_l1[time == 0] <- traj.phen.neut[time == 0]\n",
    "var.phen.wt_l1[time == 0] <- var.phen.neut.bin[time == 0]\n",
    "\n",
    "\n",
    "\n",
    "#lineage number based estimates and variance.\n",
    "trajs_mom_smoothtime <- matrix(nrow = length(time), ncol = length(trees.all.rescale))\n",
    "trajs_var_mom_smoothtime <- matrix(nrow = length(time), ncol = length(trees.all.rescale))\n",
    "for(i in 1:length(trees.all.rescale)){\t\t\n",
    "\ttrajs_mom_smoothtime[,i] <- est_af_traj_mom.smoothtime(lins.list[[i]], time)\n",
    "\ttrajs_var_mom_smoothtime[,i] <- est_af_var_mom.smoothtime_coaltimes(lins.list[[i]], time)\n",
    "}\n",
    "traj.phen.mom_smoothtime <- 2 * trajs_mom_smoothtime %*%  beta.r \n",
    "traj.phen.mom_smoothtime[time == 0] <- traj.phen.neut[time == 0] \n",
    "#trajs_var_mom_smoothtime.nonan <- trajs_var_mom_smoothtime\n",
    "#trajs_var_mom_smoothtime.nonan[is.nan(trajs_var_mom_smoothtime.nonan)] <- 0\n",
    "var.phen.mom_smoothtime <- 4 * trajs_var_mom_smoothtime %*%  beta.r^2 \n",
    "var.phen.mom_smoothtime[time == 0] <- var.phen.neut.bin[time == 0]\n",
    "\n",
    "\n",
    "\n",
    "\n",
    "allele.freqs <- n_ders/182\n",
    "plot(allele.freqs, beta.r)\n",
    "cor(allele.freqs, abs(beta.r))\n",
    "\n",
    "\n",
    "\n",
    "\n",
    "pal <- c('#1b9e77','#d95f02','#7570b3','#e7298a')\n",
    "pal <- c(rgb(27/256,158/256,119/256),rgb(217/256,95/256,2/256),rgb(117/256,112/256,179/256),rgb(231/256,41/256,138/256))\n",
    "pal.int <- c(rgb(27/256,158/256,119/256,1/3),rgb(217/256,95/256,2/256,1/3),rgb(117/256,112/256,179/256,1/3),rgb(231/256,41/256,138/256,1/3))\n",
    "\n",
    "\n",
    "tiff(\"height_lr_3ests.tif\", units = \"in\", width = 6, height = 4, res = 300, compression = \"lzw\")\n",
    "par(cex = 0.85)\n",
    "plot(-time, traj.phen.neut, type = \"l\", xlab = \"Time (coalescent units)\", ylab = \"Estimated mean polygenic height (UK 1000G)\", ylim = c(-5, 5), xlim = c(-0.2, 0), xaxt = \"n\", bty = \"n\")\n",
    "axis(1, at = c(0, -.1, -.2))\n",
    "polygon(c(-time, rev(-time)), c(traj.phen.neut + 1.96*sqrt(var.phen.neut.bin), rev(traj.phen.neut - 1.96*sqrt(var.phen.neut.bin))) , col = pal.int[1], border = NA)\n",
    "polygon(c(-time, rev(-time)), c(traj.phen.wt_l1 + 1.96*sqrt(var.phen.wt_l1), rev(traj.phen.wt_l1  - 1.96*sqrt(var.phen.wt_l1 ))) , col = pal.int[3], border = NA)\n",
    "polygon(c(-time[1:1000], rev(-time[1:1000])), c(traj.phen.mom_smoothtime[1:1000] + 1.96*sqrt(var.phen.mom_smoothtime[1:1000]), rev(traj.phen.mom_smoothtime[1:1000]  - 1.96*sqrt(var.phen.mom_smoothtime[1:1000] ))) , col = pal.int[2], border = NA)\n",
    "lines(-time, traj.phen.wt_l1, col = pal[3], lwd = 2)\n",
    "lines(-time, traj.phen.mom_smoothtime, col = pal[2], lwd = 2)\n",
    "lines(-time, traj.phen.neut, col = pal[1], lwd = 2)\n",
    "legend(\"topleft\", lwd = 1, col = pal[c(1,3,2)], legend = c(\"Proportion-of-lineages\", \"Waiting-time\", \"Lineages-remaining\"), bty = \"n\")\n",
    "dev.off()\n",
    "\n",
    "\n",
    "pdf(\"height_lr_3ests.pdf\", width = 6, height = 4, )\n",
    "par(cex = 0.85)\n",
    "plot(-time, traj.phen.neut, type = \"l\", xlab = \"Time (coalescent units)\", ylab = \"Estimated mean polygenic height (UK 1000G)\", ylim = c(-5, 5), xlim = c(-0.2, 0), xaxt = \"n\", bty = \"n\")\n",
    "axis(1, at = c(0, -.1, -.2))\n",
    "polygon(c(-time, rev(-time)), c(traj.phen.neut + 1.96*sqrt(var.phen.neut.bin), rev(traj.phen.neut - 1.96*sqrt(var.phen.neut.bin))) , col = pal.int[1], border = NA)\n",
    "polygon(c(-time, rev(-time)), c(traj.phen.wt_l1 + 1.96*sqrt(var.phen.wt_l1), rev(traj.phen.wt_l1  - 1.96*sqrt(var.phen.wt_l1 ))) , col = pal.int[3], border = NA)\n",
    "polygon(c(-time[1:1000], rev(-time[1:1000])), c(traj.phen.mom_smoothtime[1:1000] + 1.96*sqrt(var.phen.mom_smoothtime[1:1000]), rev(traj.phen.mom_smoothtime[1:1000]  - 1.96*sqrt(var.phen.mom_smoothtime[1:1000] ))) , col = pal.int[2], border = NA)\n",
    "lines(-time, traj.phen.wt_l1, col = pal[3], lwd = 2)\n",
    "lines(-time, traj.phen.mom_smoothtime, col = pal[2], lwd = 2)\n",
    "lines(-time, traj.phen.neut, col = pal[1], lwd = 2)\n",
    "legend(\"topleft\", lwd = 1, col = pal[c(1,3,2)], legend = c(\"Proportion-of-lineages\", \"Waiting-time\", \"Lineages-remaining\"), bty = \"n\")\n",
    "dev.off()\n",
    "\n",
    "\n",
    "\n",
    "Qx_test(trajs_neut[time %in% ((0:10)/100),],beta.r, perms = 10000)\n",
    "\n",
    "\n",
    "\n",
    "save.image(file = \"rent_1700_trees_1KG_height_UKB_neale_processed_072318.RData\")\n",
    "\n",
    "\n",
    "######################################################################################3\n",
    "#Plot GIANT and UKB on one figure\n",
    "```"
   ]
  },
  {
   "cell_type": "code",
   "execution_count": 26,
   "metadata": {},
   "outputs": [],
   "source": [
    "%load_ext rpy2.ipython"
   ]
  },
  {
   "cell_type": "code",
   "execution_count": 30,
   "metadata": {},
   "outputs": [
    {
     "name": "stdout",
     "output_type": "stream",
     "text": [
      "     V1 V2 V3 V4 V5 V6 V7 V8 V9 V10 V11 V12 V13 V14 V15 V16 V17 V18 V19 V20 V21\n",
      "[1,]  0  0  0  0  0  0  0  0  0   0   0   0   0   0   0   0   0   0   0   0   0\n",
      "[2,]  0  0  0  0  0  0  0  0  0   0   0   0   0   0   0   0   0   0   0   0   0\n",
      "[3,]  0  0  0  0  0  0  0  0  0   0   0   0   0   0   0   0   0   0   0   0   0\n",
      "[4,]  0  0  0  0  0  0  0  0  0   0   0   0   0   0   0   0   0   0   0   0   0\n",
      "[5,]  0  0  0  0  0  0  0  0  0   0   0   0   0   0   0   0   0   0   0   0   0\n",
      "[6,]  0  1  0  0  0  0  0  0  0   0   0   0   0   0   0   0   0   0   0   0   0\n",
      "     V22 V23 V24 V25 V26 V27 V28 V29 V30 V31 V32 V33 V34 V35 V36 V37 V38 V39\n",
      "[1,]   0   0   0   0   0   0   0   0   0   0   0   0   0   0   0   0   0   0\n",
      "[2,]   0   0   0   0   0   0   0   0   0   0   0   0   0   0   0   0   0   0\n",
      "[3,]   0   0   0   0   0   0   0   0   0   0   0   0   0   0   0   0   0   0\n",
      "[4,]   0   0   0   0   0   0   0   0   0   0   0   0   0   0   0   0   0   0\n",
      "[5,]   0   0   0   0   0   0   0   0   0   0   0   0   0   0   0   0   0   0\n",
      "[6,]   0   0   0   0   0   0   0   0   0   0   0   0   0   0   0   0   0   0\n",
      "     V40 V41 V42 V43 V44 V45 V46 V47 V48 V49 V50 V51 V52 V53 V54 V55 V56 V57\n",
      "[1,]   0   0   0   0   0   0   0   0   0   0   0   0   0   0   0   0   0   0\n",
      "[2,]   0   0   0   0   0   0   0   0   0   0   0   0   0   0   0   0   0   0\n",
      "[3,]   0   0   0   0   0   0   0   0   0   0   0   0   0   0   0   0   0   0\n",
      "[4,]   0   0   0   0   0   0   0   0   0   0   0   0   0   0   0   0   0   0\n",
      "[5,]   0   0   0   0   0   0   0   0   0   0   0   0   0   0   0   0   0   0\n",
      "[6,]   0   0   0   0   0   0   0   0   0   0   0   0   0   0   0   0   0   0\n",
      "     V58 V59 V60 V61 V62 V63 V64 V65 V66 V67 V68 V69 V70 V71 V72 V73 V74 V75\n",
      "[1,]   0   0   0   0   0   0   0   0   0   0   0   0   0   0   0   0   0   0\n",
      "[2,]   0   0   0   0   0   0   0   0   0   0   0   0   0   0   0   0   0   0\n",
      "[3,]   0   0   0   0   0   0   0   0   0   0   0   0   0   0   0   0   0   0\n",
      "[4,]   0   0   0   0   0   0   0   0   0   0   0   0   0   0   0   0   0   0\n",
      "[5,]   0   0   0   0   0   0   0   0   0   0   0   0   0   0   0   0   0   0\n",
      "[6,]   0   0   0   0   0   0   0   0   0   0   0   0   0   0   0   0   0   0\n",
      "     V76 V77 V78 V79 V80 V81 V82 V83 V84 V85 V86 V87 V88 V89 V90 V91 V92 V93\n",
      "[1,]   0   0   0   0   0   0   0   0   0   0   0   0   0   0   0   0   0   0\n",
      "[2,]   0   0   0   0   0   0   0   0   0   0   0   0   0   0   0   0   0   0\n",
      "[3,]   0   0   0   0   0   0   0   0   0   0   0   0   0   0   0   0   0   0\n",
      "[4,]   0   0   0   0   0   0   0   0   0   0   0   0   0   0   0   0   0   0\n",
      "[5,]   0   0   0   0   0   0   0   0   0   0   0   0   0   0   0   0   0   0\n",
      "[6,]   0   0   0   0   0   0   0   0   0   0   0   0   0   0   0   0   0   0\n",
      "     V94 V95 V96 V97 V98 V99 V100 V101 V102 V103 V104 V105 V106 V107 V108 V109\n",
      "[1,]   0   0   0   0   0   0    0    0    0    0    0    0    0    0    0    0\n",
      "[2,]   0   0   0   0   0   0    0    0    0    0    0    0    0    0    0    0\n",
      "[3,]   0   0   0   0   0   0    0    0    0    0    0    0    0    0    0    0\n",
      "[4,]   0   0   0   0   0   0    0    0    0    0    0    0    0    0    0    0\n",
      "[5,]   0   0   0   0   0   0    0    0    0    0    0    0    0    0    0    0\n",
      "[6,]   0   0   0   0   0   0    0    0    0    0    0    0    0    0    0    0\n",
      "     V110 V111 V112 V113 V114 V115 V116 V117 V118 V119 V120 V121 V122 V123 V124\n",
      "[1,]    0    0    0    0    0    0    0    0    0    0    0    0    0    0    0\n",
      "[2,]    0    0    0    0    0    0    0    0    0    0    0    0    0    0    0\n",
      "[3,]    0    0    0    0    0    0    0    0    0    0    0    0    0    0    0\n",
      "[4,]    0    0    0    0    0    0    0    0    0    0    0    0    0    0    0\n",
      "[5,]    0    0    0    0    0    0    0    0    0    0    0    0    0    0    0\n",
      "[6,]    0    0    0    0    0    0    0    0    0    0    0    0    0    0    0\n",
      "     V125 V126 V127 V128 V129 V130 V131 V132 V133 V134 V135 V136 V137 V138 V139\n",
      "[1,]    0    0    0    0    0    0    0    0    0    0    0    0    0    0    0\n",
      "[2,]    0    0    0    0    0    0    0    0    0    0    0    0    0    0    0\n",
      "[3,]    0    0    0    0    0    0    0    0    0    0    0    0    0    0    0\n",
      "[4,]    0    0    0    0    0    0    0    0    0    0    0    0    0    0    0\n",
      "[5,]    0    0    0    0    0    0    0    0    0    0    0    0    0    0    0\n",
      "[6,]    0    0    0    0    0    0    0    0    0    0    0    0    0    0    0\n",
      "     V140 V141 V142 V143 V144 V145 V146 V147 V148 V149 V150 V151 V152 V153 V154\n",
      "[1,]    0    0    0    0    0    0    0    0    0    0    0    0    0    0    0\n",
      "[2,]    0    0    0    0    0    0    0    0    0    0    0    0    0    0    0\n",
      "[3,]    0    0    0    0    0    0    0    0    0    0    0    0    0    0    0\n",
      "[4,]    0    0    0    0    0    0    0    0    0    0    0    0    0    0    0\n",
      "[5,]    0    0    0    0    0    0    0    0    0    0    0    0    0    0    0\n",
      "[6,]    0    0    0    0    0    0    0    0    0    0    0    0    0    0    0\n",
      "     V155 V156 V157 V158 V159 V160 V161 V162 V163 V164 V165 V166 V167 V168 V169\n",
      "[1,]    0    0    0    0    0    0    0    0    0    0    0    0    0    0    0\n",
      "[2,]    0    0    0    0    0    0    0    0    0    0    0    0    0    0    0\n",
      "[3,]    0    0    0    0    0    0    0    0    0    0    0    0    0    0    0\n",
      "[4,]    0    0    0    0    0    0    0    0    0    0    0    0    0    0    0\n",
      "[5,]    0    0    0    0    0    0    0    0    0    0    0    0    0    0    0\n",
      "[6,]    0    0    0    0    0    0    0    0    0    0    0    0    0    0    0\n",
      "     V170 V171 V172 V173 V174 V175 V176 V177 V178 V179 V180 V181 V182\n",
      "[1,]    0    0    0    0    0    0    0    0    0    0    0    0    0\n",
      "[2,]    0    0    0    0    0    0    0    0    0    0    0    0    0\n",
      "[3,]    0    0    0    0    0    0    0    0    0    0    0    0    0\n",
      "[4,]    0    0    0    0    0    0    0    0    0    0    0    0    0\n",
      "[5,]    0    0    0    0    0    0    0    0    0    0    0    0    0\n",
      "[6,]    0    0    0    0    0    0    0    0    0    0    0    0    0\n"
     ]
    }
   ],
   "source": [
    "%%R\n",
    "load(\"~/hmiwa1/storage/hmiwa-lab/06_231226_PRSadvance/testdir/rent_1700_trees_1KG_neale_height_071918.RData\")\n",
    "head(haps)"
   ]
  },
  {
   "cell_type": "code",
   "execution_count": 32,
   "metadata": {},
   "outputs": [
    {
     "name": "stdout",
     "output_type": "stream",
     "text": [
      "[1] 824\n"
     ]
    }
   ],
   "source": [
    "%%R\n",
    "load(\"~/hmiwa1/storage/hmiwa-lab/06_231226_PRSadvance/testdir/rent_1700_trees_1KG_neale_height_071918.RData\")\n",
    "head(col.keysnp)"
   ]
  },
  {
   "cell_type": "code",
   "execution_count": 34,
   "metadata": {},
   "outputs": [
    {
     "name": "stdout",
     "output_type": "stream",
     "text": [
      "[1] FALSE FALSE FALSE FALSE FALSE  TRUE\n"
     ]
    }
   ],
   "source": [
    "%%R\n",
    "load(\"~/hmiwa1/storage/hmiwa-lab/06_231226_PRSadvance/testdir/rent_1700_trees_1KG_neale_height_071918.RData\")\n",
    "head(loci.poly)"
   ]
  },
  {
   "cell_type": "code",
   "execution_count": 33,
   "metadata": {},
   "outputs": [
    {
     "name": "stdout",
     "output_type": "stream",
     "text": [
      "     V1 V2 V3 V4 V5 V6 V7 V8 V9 V10 V11 V12 V13 V14 V15 V16 V17 V18 V19 V20 V21\n",
      "[1,]  0  1  0  0  0  0  0  0  0   0   0   0   0   0   0   0   0   0   0   0   0\n",
      "[2,]  1  1  0  1  1  0  1  1  1   1   1   1   1   1   1   0   1   1   1   1   1\n",
      "[3,]  1  1  0  1  1  0  1  1  1   1   1   1   1   1   1   0   1   1   1   1   1\n",
      "[4,]  1  1  0  0  1  0  0  1  1   0   1   1   1   1   0   0   0   1   1   0   0\n",
      "[5,]  1  1  0  1  1  0  1  1  1   1   1   1   1   1   1   0   1   1   1   1   1\n",
      "[6,]  1  1  0  1  1  0  1  1  1   1   1   1   1   1   1   0   1   1   1   1   1\n",
      "     V22 V23 V24 V25 V26 V27 V28 V29 V30 V31 V32 V33 V34 V35 V36 V37 V38 V39\n",
      "[1,]   0   0   0   0   0   0   0   0   0   0   0   0   0   0   0   0   0   0\n",
      "[2,]   1   1   1   1   1   1   1   0   0   1   1   0   1   1   1   1   1   1\n",
      "[3,]   1   1   1   1   1   1   1   0   0   1   1   0   1   1   1   1   1   1\n",
      "[4,]   1   1   1   0   0   0   1   0   0   0   0   0   1   0   0   1   1   0\n",
      "[5,]   1   1   1   1   1   1   1   0   0   1   1   0   1   1   1   1   1   1\n",
      "[6,]   1   1   1   1   1   1   1   0   0   1   1   0   1   1   1   1   1   1\n",
      "     V40 V41 V42 V43 V44 V45 V46 V47 V48 V49 V50 V51 V52 V53 V54 V55 V56 V57\n",
      "[1,]   0   0   0   0   0   0   0   0   0   0   0   0   0   0   0   0   0   0\n",
      "[2,]   1   1   1   1   1   1   1   1   1   1   1   1   0   1   1   1   1   1\n",
      "[3,]   1   1   1   1   1   1   1   1   1   1   1   1   0   1   1   1   1   1\n",
      "[4,]   0   1   0   0   1   1   0   1   0   0   0   0   0   1   1   0   1   1\n",
      "[5,]   1   1   1   1   1   1   1   1   1   1   1   1   0   1   1   1   1   1\n",
      "[6,]   1   1   1   1   1   1   1   1   1   1   1   1   0   1   1   1   1   1\n",
      "     V58 V59 V60 V61 V62 V63 V64 V65 V66 V67 V68 V69 V70 V71 V72 V73 V74 V75\n",
      "[1,]   0   0   0   0   0   0   0   0   0   0   0   0   0   0   0   0   0   0\n",
      "[2,]   1   1   0   1   1   1   1   1   1   1   1   1   1   1   1   1   1   1\n",
      "[3,]   1   1   0   1   1   1   1   1   1   1   1   1   1   1   1   1   1   1\n",
      "[4,]   0   1   0   1   1   0   1   1   0   1   0   1   1   0   0   1   0   0\n",
      "[5,]   1   1   0   1   1   1   1   1   1   1   1   1   1   1   1   1   1   1\n",
      "[6,]   1   1   0   1   1   1   1   1   1   1   1   1   1   1   1   1   1   1\n",
      "     V76 V77 V78 V79 V80 V81 V82 V83 V84 V85 V86 V87 V88 V89 V90 V91 V92 V93\n",
      "[1,]   0   0   0   0   0   0   0   0   0   0   0   0   0   0   0   0   0   0\n",
      "[2,]   1   1   1   1   1   1   1   1   1   1   1   1   1   1   0   0   1   1\n",
      "[3,]   1   1   1   1   1   1   1   1   1   1   1   1   1   1   0   0   1   1\n",
      "[4,]   0   1   1   1   0   1   0   1   1   1   1   1   0   0   0   0   0   1\n",
      "[5,]   1   1   1   1   1   1   1   1   1   1   1   1   1   1   0   0   1   1\n",
      "[6,]   1   1   1   1   1   1   1   1   1   1   1   1   1   1   0   0   1   1\n",
      "     V94 V95 V96 V97 V98 V99 V100 V101 V102 V103 V104 V105 V106 V107 V108 V109\n",
      "[1,]   0   0   0   0   0   0    0    0    0    0    0    0    0    0    0    0\n",
      "[2,]   1   1   1   1   0   1    1    1    1    1    1    1    1    1    1    1\n",
      "[3,]   1   1   1   1   0   1    1    1    1    1    1    1    1    1    1    1\n",
      "[4,]   1   0   1   1   0   1    1    0    0    1    1    0    1    1    0    1\n",
      "[5,]   1   1   1   1   0   1    1    1    1    1    1    1    1    1    1    1\n",
      "[6,]   1   1   1   1   0   1    1    1    1    1    1    1    1    1    1    1\n",
      "     V110 V111 V112 V113 V114 V115 V116 V117 V118 V119 V120 V121 V122 V123 V124\n",
      "[1,]    0    0    0    0    0    0    0    0    0    0    0    0    0    0    0\n",
      "[2,]    1    0    1    1    1    1    1    1    1    1    1    1    1    1    1\n",
      "[3,]    1    0    1    1    1    1    1    1    1    1    1    1    1    1    1\n",
      "[4,]    0    0    0    1    0    0    1    1    0    1    1    1    0    0    0\n",
      "[5,]    1    0    1    1    1    1    1    1    1    1    1    1    1    1    1\n",
      "[6,]    1    0    1    1    1    1    1    1    1    1    1    1    1    1    1\n",
      "     V125 V126 V127 V128 V129 V130 V131 V132 V133 V134 V135 V136 V137 V138 V139\n",
      "[1,]    0    0    0    0    0    0    0    0    0    0    0    0    0    0    0\n",
      "[2,]    0    1    0    1    1    1    0    1    0    1    1    1    1    1    1\n",
      "[3,]    0    1    0    1    1    1    0    1    0    1    1    1    1    1    1\n",
      "[4,]    0    1    0    1    0    1    0    1    0    1    0    1    0    0    1\n",
      "[5,]    0    1    0    1    1    1    0    1    0    1    1    1    1    1    1\n",
      "[6,]    0    1    0    1    1    1    0    1    0    1    1    1    1    1    1\n",
      "     V140 V141 V142 V143 V144 V145 V146 V147 V148 V149 V150 V151 V152 V153 V154\n",
      "[1,]    0    0    0    0    0    0    0    0    0    0    0    0    0    0    0\n",
      "[2,]    1    1    0    1    1    1    1    1    1    1    1    1    1    1    1\n",
      "[3,]    1    1    0    1    1    1    1    1    1    1    1    1    1    1    1\n",
      "[4,]    1    1    0    0    0    1    0    0    1    0    1    0    0    1    1\n",
      "[5,]    1    1    0    1    1    1    1    1    1    1    1    1    1    1    1\n",
      "[6,]    1    1    0    1    1    1    1    1    1    1    1    1    1    1    1\n",
      "     V155 V156 V157 V158 V159 V160 V161 V162 V163 V164 V165 V166 V167 V168 V169\n",
      "[1,]    0    0    0    0    0    0    0    0    0    0    0    0    0    0    0\n",
      "[2,]    1    1    1    1    1    1    0    1    0    0    1    1    0    1    1\n",
      "[3,]    1    1    1    1    1    1    0    1    0    0    1    1    0    1    1\n",
      "[4,]    0    1    1    0    0    1    0    1    0    0    0    1    0    1    0\n",
      "[5,]    1    1    1    1    1    1    0    1    0    0    1    1    0    1    1\n",
      "[6,]    1    1    1    1    1    1    0    1    0    0    1    1    0    1    1\n",
      "     V170 V171 V172 V173 V174 V175 V176 V177 V178 V179 V180 V181 V182\n",
      "[1,]    0    0    0    0    0    0    0    0    0    0    0    0    0\n",
      "[2,]    1    0    1    1    1    1    1    1    1    1    1    1    1\n",
      "[3,]    1    0    1    1    1    1    1    1    1    1    1    1    1\n",
      "[4,]    1    0    1    1    0    0    1    0    1    0    0    1    1\n",
      "[5,]    1    0    1    1    1    1    1    1    1    1    1    1    1\n",
      "[6,]    1    0    1    1    1    1    1    1    1    1    1    1    1\n"
     ]
    }
   ],
   "source": [
    "%%R\n",
    "load(\"~/hmiwa1/storage/hmiwa-lab/06_231226_PRSadvance/testdir/rent_1700_trees_1KG_neale_height_071918.RData\")\n",
    "head(haps.poly)"
   ]
  },
  {
   "cell_type": "code",
   "execution_count": 37,
   "metadata": {},
   "outputs": [
    {
     "name": "stdout",
     "output_type": "stream",
     "text": [
      "            ID      pos allele0 allele1\n",
      "6  rs182620921 49601094       G       A\n",
      "8     rs877223 49601128       A       G\n",
      "15    rs877224 49601285       A       G\n",
      "22   rs7290818 49601397       G       A\n",
      "24    rs877225 49601410       T       C\n",
      "28    rs916245 49601489       A       G\n",
      "[1] 1662\n"
     ]
    }
   ],
   "source": [
    "%%R\n",
    "load(\"~/hmiwa1/storage/hmiwa-lab/06_231226_PRSadvance/testdir/rent_1700_trees_1KG_neale_height_071918.RData\")\n",
    "print(head(info.poly))\n",
    "print(nrow(info.poly))"
   ]
  },
  {
   "cell_type": "code",
   "execution_count": 41,
   "metadata": {},
   "outputs": [
    {
     "name": "stdout",
     "output_type": "stream",
     "text": [
      "[[1]]\n",
      "            ID    pos allele0 allele1\n",
      "4624 rs2001744 958248       A       G\n",
      "\n",
      "[[2]]\n",
      "           ID     pos allele0 allele1\n",
      "3778 rs380190 2142518       A       C\n",
      "\n",
      "[[3]]\n",
      "            ID     pos allele0 allele1\n",
      "3820 rs6668213 3769276       G       C\n",
      "\n",
      "[[4]]\n",
      "            ID     pos allele0 allele1\n",
      "3514 rs2411956 4986470       G       T\n",
      "\n",
      "[[5]]\n",
      "            ID     pos allele0 allele1\n",
      "2743 rs7522354 6893053       G       A\n",
      "\n",
      "[[6]]\n",
      "            ID     pos allele0 allele1\n",
      "3435 rs9442571 9349611       T       A\n",
      "\n"
     ]
    }
   ],
   "source": [
    "%%R\n",
    "load(\"~/hmiwa1/storage/hmiwa-lab/06_231226_PRSadvance/testdir/rent_1700_trees_1KG_neale_height_071918.RData\")\n",
    "print(head(info.sites))"
   ]
  },
  {
   "cell_type": "code",
   "execution_count": 44,
   "metadata": {},
   "outputs": [
    {
     "name": "stdout",
     "output_type": "stream",
     "text": [
      "[[1]]\n",
      "$edge\n",
      "       [,1] [,2]\n",
      "  [1,]  183  184\n",
      "  [2,]  184  185\n",
      "  [3,]  185    1\n",
      "  [4,]  185  186\n",
      "  [5,]  186  187\n",
      "  [6,]  187    2\n",
      "  [7,]  187  188\n",
      "  [8,]  188  189\n",
      "  [9,]  189    3\n",
      " [10,]  189  190\n",
      " [11,]  190    4\n",
      " [12,]  190    5\n",
      " [13,]  188  191\n",
      " [14,]  191    6\n",
      " [15,]  191  192\n",
      " [16,]  192    7\n",
      " [17,]  192    8\n",
      " [18,]  186  193\n",
      " [19,]  193  194\n",
      " [20,]  194    9\n",
      " [21,]  194  195\n",
      " [22,]  195   10\n",
      " [23,]  195  196\n",
      " [24,]  196  197\n",
      " [25,]  197   11\n",
      " [26,]  197  198\n",
      " [27,]  198   12\n",
      " [28,]  198  199\n",
      " [29,]  199   13\n",
      " [30,]  199   14\n",
      " [31,]  196  200\n",
      " [32,]  200   15\n",
      " [33,]  200   16\n",
      " [34,]  193  201\n",
      " [35,]  201  202\n",
      " [36,]  202   17\n",
      " [37,]  202  203\n",
      " [38,]  203   18\n",
      " [39,]  203   19\n",
      " [40,]  201  204\n",
      " [41,]  204  205\n",
      " [42,]  205   20\n",
      " [43,]  205  206\n",
      " [44,]  206   21\n",
      " [45,]  206  207\n",
      " [46,]  207   22\n",
      " [47,]  207  208\n",
      " [48,]  208   23\n",
      " [49,]  208  209\n",
      " [50,]  209   24\n",
      " [51,]  209  210\n",
      " [52,]  210   25\n",
      " [53,]  210   26\n",
      " [54,]  204  211\n",
      " [55,]  211   27\n",
      " [56,]  211  212\n",
      " [57,]  212   28\n",
      " [58,]  212  213\n",
      " [59,]  213  214\n",
      " [60,]  214   29\n",
      " [61,]  214  215\n",
      " [62,]  215   30\n",
      " [63,]  215  216\n",
      " [64,]  216   31\n",
      " [65,]  216   32\n",
      " [66,]  213  217\n",
      " [67,]  217  218\n",
      " [68,]  218   33\n",
      " [69,]  218  219\n",
      " [70,]  219  220\n",
      " [71,]  220  221\n",
      " [72,]  221   34\n",
      " [73,]  221   35\n",
      " [74,]  220  222\n",
      " [75,]  222   36\n",
      " [76,]  222  223\n",
      " [77,]  223   37\n",
      " [78,]  223   38\n",
      " [79,]  219  224\n",
      " [80,]  224  225\n",
      " [81,]  225   39\n",
      " [82,]  225  226\n",
      " [83,]  226   40\n",
      " [84,]  226  227\n",
      " [85,]  227   41\n",
      " [86,]  227   42\n",
      " [87,]  224  228\n",
      " [88,]  228  229\n",
      " [89,]  229   43\n",
      " [90,]  229  230\n",
      " [91,]  230   44\n",
      " [92,]  230  231\n",
      " [93,]  231   45\n",
      " [94,]  231  232\n",
      " [95,]  232   46\n",
      " [96,]  232   47\n",
      " [97,]  228  233\n",
      " [98,]  233   48\n",
      " [99,]  233  234\n",
      "[100,]  234  235\n",
      "[101,]  235   49\n",
      "[102,]  235   50\n",
      "[103,]  234  236\n",
      "[104,]  236  237\n",
      "[105,]  237   51\n",
      "[106,]  237  238\n",
      "[107,]  238   52\n",
      "[108,]  238   53\n",
      "[109,]  236  239\n",
      "[110,]  239   54\n",
      "[111,]  239  240\n",
      "[112,]  240   55\n",
      "[113,]  240   56\n",
      "[114,]  217  241\n",
      "[115,]  241  242\n",
      "[116,]  242   57\n",
      "[117,]  242  243\n",
      "[118,]  243   58\n",
      "[119,]  243  244\n",
      "[120,]  244  245\n",
      "[121,]  245   59\n",
      "[122,]  245   60\n",
      "[123,]  244  246\n",
      "[124,]  246   61\n",
      "[125,]  246  247\n",
      "[126,]  247   62\n",
      "[127,]  247   63\n",
      "[128,]  241   64\n",
      "[129,]  184  248\n",
      "[130,]  248  249\n",
      "[131,]  249   65\n",
      "[132,]  249   66\n",
      "[133,]  248   67\n",
      "[134,]  183  250\n",
      "[135,]  250  251\n",
      "[136,]  251   68\n",
      "[137,]  251  252\n",
      "[138,]  252   69\n",
      "[139,]  252  253\n",
      "[140,]  253   70\n",
      "[141,]  253  254\n",
      "[142,]  254  255\n",
      "[143,]  255   71\n",
      "[144,]  255   72\n",
      "[145,]  254  256\n",
      "[146,]  256   73\n",
      "[147,]  256  257\n",
      "[148,]  257  258\n",
      "[149,]  258   74\n",
      "[150,]  258   75\n",
      "[151,]  257  259\n",
      "[152,]  259  260\n",
      "[153,]  260   76\n",
      "[154,]  260   77\n",
      "[155,]  259  261\n",
      "[156,]  261   78\n",
      "[157,]  261  262\n",
      "[158,]  262   79\n",
      "[159,]  262   80\n",
      "[160,]  250  263\n",
      "[161,]  263  264\n",
      "[162,]  264  265\n",
      "[163,]  265   81\n",
      "[164,]  265   82\n",
      "[165,]  264  266\n",
      "[166,]  266   83\n",
      "[167,]  266  267\n",
      "[168,]  267   84\n",
      "[169,]  267   85\n",
      "[170,]  263  268\n",
      "[171,]  268  269\n",
      "[172,]  269   86\n",
      "[173,]  269  270\n",
      "[174,]  270   87\n",
      "[175,]  270  271\n",
      "[176,]  271   88\n",
      "[177,]  271  272\n",
      "[178,]  272   89\n",
      "[179,]  272   90\n",
      "[180,]  268  273\n",
      "[181,]  273  274\n",
      "[182,]  274   91\n",
      "[183,]  274   92\n",
      "[184,]  273  275\n",
      "[185,]  275  276\n",
      "[186,]  276  277\n",
      "[187,]  277   93\n",
      "[188,]  277   94\n",
      "[189,]  276  278\n",
      "[190,]  278  279\n",
      "[191,]  279   95\n",
      "[192,]  279  280\n",
      "[193,]  280   96\n",
      "[194,]  280   97\n",
      "[195,]  278  281\n",
      "[196,]  281   98\n",
      "[197,]  281   99\n",
      "[198,]  275  282\n",
      "[199,]  282  283\n",
      "[200,]  283  284\n",
      "[201,]  284  100\n",
      "[202,]  284  285\n",
      "[203,]  285  101\n",
      "[204,]  285  286\n",
      "[205,]  286  287\n",
      "[206,]  287  288\n",
      "[207,]  288  102\n",
      "[208,]  288  103\n",
      "[209,]  287  289\n",
      "[210,]  289  104\n",
      "[211,]  289  290\n",
      "[212,]  290  291\n",
      "[213,]  291  292\n",
      "[214,]  292  293\n",
      "[215,]  293  294\n",
      "[216,]  294  105\n",
      "[217,]  294  106\n",
      "[218,]  293  295\n",
      "[219,]  295  296\n",
      "[220,]  296  297\n",
      "[221,]  297  107\n",
      "[222,]  297  108\n",
      "[223,]  296  298\n",
      "[224,]  298  299\n",
      "[225,]  299  109\n",
      "[226,]  299  110\n",
      "[227,]  298  300\n",
      "[228,]  300  111\n",
      "[229,]  300  301\n",
      "[230,]  301  302\n",
      "[231,]  302  112\n",
      "[232,]  302  113\n",
      "[233,]  301  303\n",
      "[234,]  303  114\n",
      "[235,]  303  304\n",
      "[236,]  304  115\n",
      "[237,]  304  305\n",
      "[238,]  305  116\n",
      "[239,]  305  117\n",
      "[240,]  295  306\n",
      "[241,]  306  307\n",
      "[242,]  307  118\n",
      "[243,]  307  119\n",
      "[244,]  306  308\n",
      "[245,]  308  120\n",
      "[246,]  308  309\n",
      "[247,]  309  121\n",
      "[248,]  309  310\n",
      "[249,]  310  122\n",
      "[250,]  310  123\n",
      "[251,]  292  311\n",
      "[252,]  311  312\n",
      "[253,]  312  124\n",
      "[254,]  312  313\n",
      "[255,]  313  314\n",
      "[256,]  314  125\n",
      "[257,]  314  126\n",
      "[258,]  313  315\n",
      "[259,]  315  316\n",
      "[260,]  316  127\n",
      "[261,]  316  317\n",
      "[262,]  317  128\n",
      "[263,]  317  318\n",
      "[264,]  318  129\n",
      "[265,]  318  130\n",
      "[266,]  315  319\n",
      "[267,]  319  131\n",
      "[268,]  319  320\n",
      "[269,]  320  132\n",
      "[270,]  320  133\n",
      "[271,]  311  321\n",
      "[272,]  321  134\n",
      "[273,]  321  322\n",
      "[274,]  322  135\n",
      "[275,]  322  136\n",
      "[276,]  291  323\n",
      "[277,]  323  324\n",
      "[278,]  324  137\n",
      "[279,]  324  138\n",
      "[280,]  323  325\n",
      "[281,]  325  139\n",
      "[282,]  325  140\n",
      "[283,]  290  326\n",
      "[284,]  326  141\n",
      "[285,]  326  142\n",
      "[286,]  286  143\n",
      "[287,]  283  327\n",
      "[288,]  327  328\n",
      "[289,]  328  144\n",
      "[290,]  328  329\n",
      "[291,]  329  145\n",
      "[292,]  329  330\n",
      "[293,]  330  146\n",
      "[294,]  330  331\n",
      "[295,]  331  147\n",
      "[296,]  331  332\n",
      "[297,]  332  148\n",
      "[298,]  332  149\n",
      "[299,]  327  333\n",
      "[300,]  333  334\n",
      "[301,]  334  150\n",
      "[302,]  334  151\n",
      "[303,]  333  335\n",
      "[304,]  335  336\n",
      "[305,]  336  152\n",
      "[306,]  336  153\n",
      "[307,]  335  154\n",
      "[308,]  282  337\n",
      "[309,]  337  338\n",
      "[310,]  338  155\n",
      "[311,]  338  339\n",
      "[312,]  339  156\n",
      "[313,]  339  340\n",
      "[314,]  340  157\n",
      "[315,]  340  158\n",
      "[316,]  337  341\n",
      "[317,]  341  159\n",
      "[318,]  341  342\n",
      "[319,]  342  343\n",
      "[320,]  343  160\n",
      "[321,]  343  161\n",
      "[322,]  342  344\n",
      "[323,]  344  162\n",
      "[324,]  344  345\n",
      "[325,]  345  346\n",
      "[326,]  346  163\n",
      "[327,]  346  347\n",
      "[328,]  347  348\n",
      "[329,]  348  349\n",
      "[330,]  349  350\n",
      "[331,]  350  164\n",
      "[332,]  350  351\n",
      "[333,]  351  165\n",
      "[334,]  351  166\n",
      "[335,]  349  352\n",
      "[336,]  352  167\n",
      "[337,]  352  353\n",
      "[338,]  353  168\n",
      "[339,]  353  354\n",
      "[340,]  354  169\n",
      "[341,]  354  170\n",
      "[342,]  348  355\n",
      "[343,]  355  171\n",
      "[344,]  355  356\n",
      "[345,]  356  172\n",
      "[346,]  356  357\n",
      "[347,]  357  173\n",
      "[348,]  357  174\n",
      "[349,]  347  358\n",
      "[350,]  358  359\n",
      "[351,]  359  175\n",
      "[352,]  359  176\n",
      "[353,]  358  360\n",
      "[354,]  360  177\n",
      "[355,]  360  361\n",
      "[356,]  361  178\n",
      "[357,]  361  179\n",
      "[358,]  345  362\n",
      "[359,]  362  180\n",
      "[360,]  362  363\n",
      "[361,]  363  181\n",
      "[362,]  363  182\n",
      "\n",
      "$edge.length\n",
      "  [1] 0.000000000 6.194319408 1.407474356 0.000000000 0.925785991 0.481688365\n",
      "  [7] 0.341943809 0.002964180 0.136780376 0.118417262 0.018363113 0.018363113\n",
      " [13] 0.000000000 0.145513825 0.039329959 0.106183867 0.106183867 0.000000000\n",
      " [19] 0.000000000 1.407474356 1.148131094 0.259343262 0.032397389 0.051978528\n",
      " [25] 0.174967345 0.000034050 0.174933295 0.039481099 0.135452196 0.135452196\n",
      " [31] 0.024566499 0.202379374 0.202379374 0.503135384 0.688180549 0.216158423\n",
      " [37] 0.213756566 0.002401858 0.002401858 0.285428021 0.372512438 0.246398512\n",
      " [43] 0.011624680 0.234773833 0.020662559 0.214111273 0.018302229 0.195809044\n",
      " [49] 0.053547748 0.142261296 0.062253372 0.080007924 0.080007924 0.048345469\n",
      " [55] 0.570565482 0.000000000 0.570565482 0.000000000 0.172231695 0.398333788\n",
      " [61] 0.109444027 0.288889761 0.141903266 0.146986495 0.146986495 0.000000000\n",
      " [67] 0.154849475 0.415716007 0.030743659 0.000000000 0.000000000 0.384972348\n",
      " [73] 0.384972348 0.102937057 0.282035291 0.129054356 0.152980935 0.152980935\n",
      " [79] 0.138184226 0.000000000 0.246788122 0.092775867 0.154012255 0.035934839\n",
      " [85] 0.118077416 0.118077416 0.033579869 0.071112488 0.142095766 0.000000000\n",
      " [91] 0.143859786 0.000000000 0.147194575 0.024411349 0.122783226 0.122783226\n",
      " [97] 0.001117460 0.212090793 0.000000000 0.056190278 0.166065285 0.166065285\n",
      "[103] 0.019722379 0.030606109 0.171927075 0.106371967 0.065555108 0.065555108\n",
      "[109] 0.032951239 0.169581945 0.007087770 0.162494175 0.162494175 0.000000000\n",
      "[115] 0.000000000 0.570565482 0.140411526 0.430153957 0.000000000 0.223881283\n",
      "[121] 0.206272674 0.206272674 0.270346552 0.159807405 0.055500548 0.104306857\n",
      "[127] 0.104306857 0.570565482 5.489393330 1.719620087 0.392780348 0.392780348\n",
      "[133] 2.112400435 5.546357428 1.412149886 0.643286450 0.000000000 0.643286450\n",
      "[139] 0.000000000 0.643286450 0.432203997 0.059767318 0.151315135 0.151315135\n",
      "[145] 0.000000000 0.221100663 0.120298166 0.001893666 0.098908831 0.098908831\n",
      "[151] 0.032207369 0.001958310 0.066636818 0.066636818 0.000361430 0.068233698\n",
      "[157] 0.047179843 0.021053855 0.021053855 0.536802783 0.000000000 1.106587266\n",
      "[163] 0.457939586 0.457939586 1.219882612 0.344644239 0.000000000 0.344644239\n",
      "[169] 0.344644239 0.389222288 0.201248694 0.928162571 0.773661656 0.154500915\n",
      "[175] 0.016727439 0.137773476 0.066996673 0.070776803 0.070776803 0.000000000\n",
      "[181] 0.000000000 1.200948663 1.200948663 0.023735699 0.000000000 0.000000000\n",
      "[187] 1.105675566 1.105675566 0.177512995 0.606870241 0.321292330 0.173924725\n",
      "[193] 0.147367605 0.147367605 0.146722155 0.781440416 0.781440416 0.177512995\n",
      "[199] 0.146722155 0.208786634 0.572653782 0.180469714 0.392184068 0.084985257\n",
      "[205] 0.046006049 0.053886158 0.207306604 0.207306604 0.002797520 0.258395242\n",
      "[211] 0.014983130 0.043209579 0.000000000 0.000000000 0.064969748 0.142741556\n",
      "[217] 0.142741556 0.026241959 0.008922430 0.033962099 0.138584816 0.138584816\n",
      "[223] 0.007860340 0.000000000 0.165259505 0.165259505 0.000621640 0.164064935\n",
      "[229] 0.000000000 0.002480710 0.162425785 0.162425785 0.014767360 0.150139135\n",
      "[235] 0.038753794 0.111385342 0.001069329 0.110316013 0.110316013 0.011708290\n",
      "[241] 0.082474063 0.087286991 0.087286991 0.004610880 0.165150175 0.000243680\n",
      "[247] 0.164906495 0.078246582 0.086659913 0.086659913 0.035362849 0.003483790\n",
      "[253] 0.166979025 0.021760759 0.044842099 0.100376167 0.100376167 0.000000000\n",
      "[259] 0.047491713 0.109674183 0.036283405 0.073390778 0.040047903 0.033342875\n",
      "[265] 0.033342875 0.056404078 0.100761817 0.098363665 0.002398152 0.002398152\n",
      "[271] 0.056852848 0.113609966 0.013959360 0.099650607 0.099650607 0.030765429\n",
      "[277] 0.126964919 0.042472186 0.042472186 0.032231569 0.137205536 0.137205536\n",
      "[283] 0.026707619 0.216704493 0.216704493 0.307198810 0.000000000 0.506297964\n",
      "[289] 0.303081411 0.090667137 0.212414273 0.033597919 0.178816354 0.027890249\n",
      "[295] 0.150926105 0.000000000 0.160684725 0.160684725 0.170132895 0.423841957\n",
      "[301] 0.215404523 0.215404523 0.064976198 0.406113067 0.168157215 0.168157215\n",
      "[307] 0.574270282 0.588926082 0.000000000 0.339236489 0.040152899 0.299083591\n",
      "[313] 0.036510099 0.262573492 0.262573492 0.068414598 0.270821892 0.011688700\n",
      "[319] 0.051826588 0.207306604 0.207306604 0.050875438 0.208257754 0.000000000\n",
      "[325] 0.000000000 0.232688793 0.047309639 0.018173439 0.003099820 0.013292860\n",
      "[331] 0.150813035 0.091310187 0.059502848 0.059502848 0.000000000 0.165377685\n",
      "[337] 0.019248319 0.146129365 0.000000000 0.154273385 0.154273385 0.047083669\n",
      "[343] 0.120122046 0.011242580 0.108879467 0.004544410 0.104335057 0.104335057\n",
      "[349] 0.016652889 0.048858273 0.119867991 0.119867991 0.030141449 0.138584816\n",
      "[355] 0.061578908 0.077005908 0.077005908 0.000000000 0.222070743 0.011676960\n",
      "[361] 0.210393783 0.210393783\n",
      "\n",
      "$Nnode\n",
      "[1] 181\n",
      "\n",
      "$tip.label\n",
      "  [1] \"157\" \"178\" \"137\" \"136\" \"165\" \"152\" \"125\" \"171\" \"119\" \"128\" \"151\" \"138\"\n",
      " [13] \"135\" \"148\" \"143\" \"175\" \"140\" \"123\" \"180\" \"155\" \"177\" \"121\" \"168\" \"173\"\n",
      " [25] \"127\" \"176\" \"174\" \"167\" \"159\" \"130\" \"146\" \"147\" \"142\" \"129\" \"131\" \"153\"\n",
      " [37] \"122\" \"179\" \"162\" \"181\" \"158\" \"172\" \"133\" \"150\" \"154\" \"134\" \"144\" \"139\"\n",
      " [49] \"163\" \"164\" \"132\" \"120\" \"169\" \"149\" \"126\" \"170\" \"161\" \"166\" \"145\" \"160\"\n",
      " [61] \"141\" \"156\" \"182\" \"124\" \"10\"  \"73\"  \"79\"  \"106\" \"75\"  \"52\"  \"12\"  \"94\" \n",
      " [73] \"7\"   \"8\"   \"50\"  \"6\"   \"116\" \"118\" \"29\"  \"51\"  \"61\"  \"64\"  \"83\"  \"26\" \n",
      " [85] \"30\"  \"60\"  \"2\"   \"33\"  \"41\"  \"59\"  \"42\"  \"70\"  \"65\"  \"102\" \"55\"  \"81\" \n",
      " [97] \"84\"  \"40\"  \"28\"  \"49\"  \"53\"  \"4\"   \"18\"  \"5\"   \"92\"  \"115\" \"74\"  \"90\" \n",
      "[109] \"15\"  \"71\"  \"80\"  \"3\"   \"58\"  \"45\"  \"36\"  \"47\"  \"63\"  \"13\"  \"112\" \"103\"\n",
      "[121] \"11\"  \"21\"  \"88\"  \"25\"  \"76\"  \"110\" \"19\"  \"109\" \"9\"   \"16\"  \"14\"  \"67\" \n",
      "[133] \"78\"  \"54\"  \"23\"  \"77\"  \"38\"  \"95\"  \"91\"  \"117\" \"101\" \"107\" \"43\"  \"34\" \n",
      "[145] \"93\"  \"48\"  \"17\"  \"85\"  \"114\" \"86\"  \"97\"  \"1\"   \"57\"  \"99\"  \"69\"  \"72\" \n",
      "[157] \"37\"  \"68\"  \"82\"  \"24\"  \"35\"  \"105\" \"87\"  \"98\"  \"56\"  \"96\"  \"66\"  \"39\" \n",
      "[169] \"108\" \"111\" \"113\" \"22\"  \"20\"  \"32\"  \"27\"  \"100\" \"31\"  \"46\"  \"89\"  \"44\" \n",
      "[181] \"62\"  \"104\"\n",
      "\n",
      "$root.edge\n",
      "[1] 0\n",
      "\n",
      "attr(,\"class\")\n",
      "[1] \"phylo\"\n",
      "attr(,\"order\")\n",
      "[1] \"cladewise\"\n",
      "\n"
     ]
    }
   ],
   "source": [
    "%%R\n",
    "load(\"~/hmiwa1/storage/hmiwa-lab/06_231226_PRSadvance/testdir/rent_1700_trees_1KG_neale_height_071918.RData\")\n",
    "print(head(trees.all[1]))\n",
    "#print(head(trees.anc))\n",
    "#print(head(trees.der))"
   ]
  },
  {
   "cell_type": "code",
   "execution_count": 47,
   "metadata": {},
   "outputs": [
    {
     "name": "stdout",
     "output_type": "stream",
     "text": [
      "[1]  1739.664  3137.784 32077.687 18454.281  4436.870 22685.188\n"
     ]
    }
   ],
   "source": [
    "%%R\n",
    "load(\"~/hmiwa1/storage/hmiwa-lab/06_231226_PRSadvance/testdir/rent_1700_trees_1KG_height_UKB_neale_processed_072318.RData\")\n",
    "print(head(tmrcas))"
   ]
  },
  {
   "cell_type": "code",
   "execution_count": 53,
   "metadata": {},
   "outputs": [
    {
     "name": "stdout",
     "output_type": "stream",
     "text": [
      "[1]  1739.664  3137.784 32077.687 18454.281  4436.870 22685.188\n",
      "[1] 1700\n"
     ]
    }
   ],
   "source": [
    "%%R\n",
    "load(\"~/hmiwa1/storage/hmiwa-lab/06_231226_PRSadvance/testdir/rent_1700_trees_1KG_height_UKB_neale_processed_072318.RData\")\n",
    "print(head(tmrcas))\n",
    "length(tmrcas)"
   ]
  },
  {
   "cell_type": "code",
   "execution_count": 62,
   "metadata": {},
   "outputs": [
    {
     "name": "stdout",
     "output_type": "stream",
     "text": [
      "[1] 0.000 0.001 0.002 0.003 0.004 0.005\n"
     ]
    }
   ],
   "source": [
    "%%R\n",
    "load(\"~/hmiwa1/storage/hmiwa-lab/06_231226_PRSadvance/testdir/rent_1700_trees_1KG_height_UKB_neale_processed_072318.RData\")\n",
    "print(head(time))"
   ]
  },
  {
   "cell_type": "code",
   "execution_count": 49,
   "metadata": {},
   "outputs": [
    {
     "name": "stdout",
     "output_type": "stream",
     "text": [
      "[1] -0.1437928\n"
     ]
    },
    {
     "data": {
      "image/png": "[encoded data removed]",
      "text/plain": [
       "<IPython.core.display.Image object>"
      ]
     },
     "metadata": {},
     "output_type": "display_data"
    }
   ],
   "source": [
    "%%R\n",
    "load(\"~/hmiwa1/storage/hmiwa-lab/06_231226_PRSadvance/testdir/rent_1700_trees_1KG_height_UKB_neale_processed_072318.RData\")\n",
    "allele.freqs <- n_ders/182\n",
    "plot(allele.freqs, beta.r)\n",
    "cor(allele.freqs, abs(beta.r))"
   ]
  },
  {
   "cell_type": "code",
   "execution_count": 50,
   "metadata": {},
   "outputs": [
    {
     "name": "stdout",
     "output_type": "stream",
     "text": [
      "[1] 14.21448 10.00000  0.18850\n"
     ]
    }
   ],
   "source": [
    "%%R\n",
    "load(\"~/hmiwa1/storage/hmiwa-lab/06_231226_PRSadvance/testdir/rent_1700_trees_1KG_height_UKB_neale_processed_072318.RData\")\n",
    "Qx_test(trajs_neut[time %in% ((0:10)/100),],beta.r, perms = 10000)"
   ]
  },
  {
   "cell_type": "code",
   "execution_count": 1,
   "metadata": {},
   "outputs": [],
   "source": [
    "%load_ext rpy2.ipython"
   ]
  },
  {
   "cell_type": "code",
   "execution_count": 3,
   "metadata": {},
   "outputs": [],
   "source": [
    "%%R\n",
    "load(\"~/hmiwa1/storage/hmiwa-lab/06_231226_PRSadvance/testdir/rent_1700_trees_1KG_neale_height_071918.RData\")\n",
    "\n",
    "setwd(\"~/hmiwa1/storage/hmiwa-lab/06_231226_PRSadvance/testdir\")\n",
    "#helper_fn <- \"helper_functions_coal_sel.R\"\n",
    "source(helper_fn)\n",
    "\n",
    "n_ancs <- n_chroms- n_ders\n",
    "\n",
    "#Checks that SNPS worked.\n",
    "monomorphic_loci #empty---no loci were monomorphic.\n",
    "mean(snps.fail1)\n",
    "mean(snps.miss)\n",
    "\n",
    "save.image(file = \"rentplus_test.RData\")"
   ]
  },
  {
   "cell_type": "code",
   "execution_count": 4,
   "metadata": {},
   "outputs": [],
   "source": [
    "%%R\n",
    "setwd(\"~/hmiwa1/storage/hmiwa-lab/06_231226_PRSadvance/testdir\")\n",
    "load(\"rentplus_test.RData\")\n",
    "\n",
    "#Check polarization\n",
    "\n",
    "info.sites.char <- matrix(\"\", nrow = length(info.sites), ncol = 4)\n",
    "for(i in 1:length(info.sites)){\n",
    "\tinfo.sites.char[i,1] <- as.character(info.sites[[i]]$ID)\n",
    "\tinfo.sites.char[i,2] <- as.character(info.sites[[i]]$pos)\n",
    "\tinfo.sites.char[i,3] <- as.character(info.sites[[i]]$allele0)\n",
    "\tinfo.sites.char[i,4] <- as.character(info.sites[[i]]$allele1)\n",
    "}\n",
    "\n",
    "mean(as.character(mark.dat$A2) == info.sites.char[,4]) #allele1 matches A2 in each case, polarization good.\n",
    "\n",
    "mean(as.character(mark.dat$rsid) == info.sites.char[,1]) #check that the rsids match\n",
    "\n",
    "beta <- mark.dat$beta\n",
    "rsID <- mark.dat$rsid\n",
    "\n",
    "save.image(file = \"rentplus_test.RData\")"
   ]
  },
  {
   "cell_type": "code",
   "execution_count": 5,
   "metadata": {},
   "outputs": [],
   "source": [
    "%%R\n",
    "setwd(\"~/hmiwa1/storage/hmiwa-lab/06_231226_PRSadvance/testdir\")\n",
    "load(\"rentplus_test.RData\")\n",
    "\n",
    "#Goal: adjust time information using locus-wise thetas.\n",
    "#fit neutral, waiting-time, and lineages-remaining estimators\n",
    "#test for selection.\n",
    "\n",
    "#Rent+ times are computed as t = 2*d/(L*theta)\n",
    "#where d is a Hamming distance between haplotypes, L is the length of the haplotype\n",
    "#in base pairs, and theta is estimated value of 4Nu (est. by Watterson).\n",
    "#We'll multiply by theta estimated per site to get distance-matrix units,\n",
    "#then rescale so that the mean tmrca is 2.\n",
    "\n",
    "trees.der.rescale <- trees.der\n",
    "trees.anc.rescale <- trees.anc\n",
    "trees.all.rescale <- trees.all\n",
    "\n",
    "for(i in 1:length(trees.all)){\n",
    "\ttrees.der.rescale[[i]]$edge.length <- trees.der[[i]]$edge.length*thetas[i]\n",
    "\ttrees.anc.rescale[[i]]$edge.length <- trees.anc[[i]]$edge.length*thetas[i]\n",
    "\ttrees.all.rescale[[i]]$edge.length <- trees.all[[i]]$edge.length*thetas[i]\n",
    "}\n",
    "\n",
    "save.image(file = \"rentplus_test.RData\")"
   ]
  },
  {
   "cell_type": "code",
   "execution_count": 6,
   "metadata": {},
   "outputs": [],
   "source": [
    "%%R\n",
    "setwd(\"~/hmiwa1/storage/hmiwa-lab/06_231226_PRSadvance/testdir\")\n",
    "load(\"rentplus_test.RData\")\n",
    "tmrcas <- numeric(0)\n",
    "for(i in 1:length(trees.all)){\n",
    "\ttmrcas[i] <- max(branching.times(trees.all.rescale[[i]]))\n",
    "}\n",
    "save.image(file = \"rentplus_test.RData\")"
   ]
  },
  {
   "cell_type": "code",
   "execution_count": 7,
   "metadata": {},
   "outputs": [],
   "source": [
    "%%R\n",
    "setwd(\"~/hmiwa1/storage/hmiwa-lab/06_231226_PRSadvance/testdir\")\n",
    "load(\"rentplus_test.RData\")\n",
    "for(i in 1:length(trees.all)){\n",
    "\ttrees.der.rescale[[i]]$edge.length <- trees.der.rescale[[i]]$edge.length*2/mean(tmrcas)\n",
    "\ttrees.anc.rescale[[i]]$edge.length <- trees.anc.rescale[[i]]$edge.length*2/mean(tmrcas)\n",
    "\ttrees.all.rescale[[i]]$edge.length <- trees.all.rescale[[i]]$edge.length*2/mean(tmrcas)\n",
    "}\n",
    "save.image(file = \"rentplus_test.RData\")"
   ]
  },
  {
   "cell_type": "code",
   "execution_count": 8,
   "metadata": {},
   "outputs": [],
   "source": [
    "%%R\n",
    "setwd(\"~/hmiwa1/storage/hmiwa-lab/06_231226_PRSadvance/testdir\")\n",
    "load(\"rentplus_test.RData\")\n",
    "\n",
    "time <- seq(0, 4, by = 0.001)\n",
    "\n",
    "times.c <- list()\n",
    "for(i in 1:length(trees.all.rescale)){\n",
    "\ttimes.c[[i]] <- trees_to_times(trees.all.rescale[[i]], trees.anc.rescale[[i]], trees.der.rescale[[i]], time, sure.alt.is.derived = FALSE)\n",
    "}\n",
    "\n",
    "save.image(file = \"rentplus_test.RData\")"
   ]
  },
  {
   "cell_type": "code",
   "execution_count": 9,
   "metadata": {},
   "outputs": [],
   "source": [
    "%%R\n",
    "setwd(\"~/hmiwa1/storage/hmiwa-lab/06_231226_PRSadvance/testdir\")\n",
    "load(\"rentplus_test.RData\")\n",
    "lins.list <- list()\n",
    "for(i in 1:length(trees.all.rescale)){\n",
    "\tlins.list[[i]] <- times_to_lins(times.c[[i]], time)\n",
    "}\n",
    "save.image(file = \"rentplus_test.RData\")"
   ]
  },
  {
   "cell_type": "code",
   "execution_count": 10,
   "metadata": {},
   "outputs": [],
   "source": [
    "%%R\n",
    "setwd(\"~/hmiwa1/storage/hmiwa-lab/06_231226_PRSadvance/testdir\")\n",
    "load(\"rentplus_test.RData\")\n",
    "\n",
    "Va.poly <- add.var(beta, (n_ders/n_chroms))\n",
    "add.var(beta / sqrt(Va.poly), (n_ders/n_chroms))\n",
    "\n",
    "beta.r <- beta / sqrt(Va.poly)\n",
    "\n",
    "save.image(file = \"rentplus_test.RData\")"
   ]
  },
  {
   "cell_type": "code",
   "execution_count": 11,
   "metadata": {},
   "outputs": [],
   "source": [
    "%%R\n",
    "setwd(\"~/hmiwa1/storage/hmiwa-lab/06_231226_PRSadvance/testdir\")\n",
    "load(\"rentplus_test.RData\")\n",
    "#neutral\n",
    "trajs_neut <- matrix(nrow = length(time), ncol = length(trees.all.rescale))\n",
    "vars_neut_bin <- matrix(nrow = length(time), ncol = length(trees.all.rescale))\n",
    "#vars_neut_post <- matrix(nrow = length(time), ncol = length(trees.all.rescale))\n",
    "for(i in 1:length(trees.all.rescale)){\t\n",
    "\ttrajs_neut[,i] <- est_af_traj_neut(lins.list[[i]])\n",
    "\tvars_neut_bin[,i] <- est_af_var_neut_bin(lins.list[[i]])\n",
    "\t#vars_neut_post[,i] <- est_af_var_neut_post(lins.list[[i]])\n",
    "}\n",
    "trajs_neut[time == 0,] <- (n_ders/n_chroms) #in the present, just use sample allele frequency.\n",
    "#This is the same as the output of est_af_traj_neut() if no coalescent times get rounded to 0.\n",
    "vars_neut_bin[time == 0,] <- (n_ders/n_chroms)*(1 - (n_ders/n_chroms))/n_chroms\n",
    "traj.phen.neut <- 2 * trajs_neut %*%  beta.r\n",
    "var.phen.neut.bin <- 4 * vars_neut_bin %*% beta.r^2\n",
    "#var.phen.neut.post <- 4 * vars_neut_post %*% beta^2\n",
    "\n",
    "save.image(file = \"rentplus_test.RData\")"
   ]
  },
  {
   "cell_type": "code",
   "execution_count": 12,
   "metadata": {},
   "outputs": [],
   "source": [
    "%%R\n",
    "setwd(\"~/hmiwa1/storage/hmiwa-lab/06_231226_PRSadvance/testdir\")\n",
    "load(\"rentplus_test.RData\")\n",
    "#waiting time-based estimates and variance\n",
    "trajs_est_wt_l1 <- matrix(nrow = length(time), ncol = length(trees.all.rescale))\n",
    "trajs_var_wt_l1 <- matrix(nrow = length(time), ncol = length(trees.all.rescale))\n",
    "for(i in 1:length(trees.all.rescale)){\n",
    "\twt.estvar <- p_ests_wait(times.c[[i]], time, ell.ref = 1, ell.alt = 1)\n",
    "\ttrajs_est_wt_l1[,i] <- wt.estvar[,1]\t\n",
    "\ttrajs_var_wt_l1[,i] <- wt.estvar[,2]\t\n",
    "}\n",
    "traj.phen.wt_l1 <- 2 * trajs_est_wt_l1 %*%  beta.r \n",
    "var.phen.wt_l1 <- 4 * trajs_var_wt_l1 %*%  beta.r^2 \n",
    "traj.phen.wt_l1[time == 0] <- traj.phen.neut[time == 0]\n",
    "var.phen.wt_l1[time == 0] <- var.phen.neut.bin[time == 0]\n",
    "\n",
    "save.image(file = \"rentplus_test.RData\")"
   ]
  },
  {
   "cell_type": "code",
   "execution_count": 13,
   "metadata": {},
   "outputs": [],
   "source": [
    "%%R\n",
    "setwd(\"~/hmiwa1/storage/hmiwa-lab/06_231226_PRSadvance/testdir\")\n",
    "load(\"rentplus_test.RData\")\n",
    "#lineage number based estimates and variance.\n",
    "trajs_mom_smoothtime <- matrix(nrow = length(time), ncol = length(trees.all.rescale))\n",
    "trajs_var_mom_smoothtime <- matrix(nrow = length(time), ncol = length(trees.all.rescale))\n",
    "for(i in 1:length(trees.all.rescale)){\t\t\n",
    "\ttrajs_mom_smoothtime[,i] <- est_af_traj_mom.smoothtime(lins.list[[i]], time)\n",
    "\ttrajs_var_mom_smoothtime[,i] <- est_af_var_mom.smoothtime_coaltimes(lins.list[[i]], time)\n",
    "}\n",
    "traj.phen.mom_smoothtime <- 2 * trajs_mom_smoothtime %*%  beta.r \n",
    "traj.phen.mom_smoothtime[time == 0] <- traj.phen.neut[time == 0] \n",
    "#trajs_var_mom_smoothtime.nonan <- trajs_var_mom_smoothtime\n",
    "#trajs_var_mom_smoothtime.nonan[is.nan(trajs_var_mom_smoothtime.nonan)] <- 0\n",
    "var.phen.mom_smoothtime <- 4 * trajs_var_mom_smoothtime %*%  beta.r^2 \n",
    "var.phen.mom_smoothtime[time == 0] <- var.phen.neut.bin[time == 0]\n",
    "\n",
    "save.image(file = \"rentplus_test.RData\")"
   ]
  },
  {
   "cell_type": "code",
   "execution_count": 14,
   "metadata": {},
   "outputs": [
    {
     "data": {
      "image/png": "[encoded data removed]",
      "text/plain": [
       "<IPython.core.display.Image object>"
      ]
     },
     "metadata": {},
     "output_type": "display_data"
    }
   ],
   "source": [
    "%%R\n",
    "setwd(\"~/hmiwa1/storage/hmiwa-lab/06_231226_PRSadvance/testdir\")\n",
    "load(\"rentplus_test.RData\")\n",
    "allele.freqs <- n_ders/182\n",
    "plot(allele.freqs, beta.r)\n",
    "cor(allele.freqs, abs(beta.r))\n",
    "\n",
    "save.image(file = \"rentplus_test.RData\")"
   ]
  },
  {
   "cell_type": "code",
   "execution_count": 18,
   "metadata": {},
   "outputs": [
    {
     "data": {
      "image/png": "[encoded data removed]",
      "text/plain": [
       "<IPython.core.display.Image object>"
      ]
     },
     "metadata": {},
     "output_type": "display_data"
    }
   ],
   "source": [
    "%%R\n",
    "setwd(\"~/hmiwa1/storage/hmiwa-lab/06_231226_PRSadvance/testdir\")\n",
    "load(\"rentplus_test.RData\")\n",
    "\n",
    "plot(-time, traj.phen.neut, type = \"l\", xlab = \"Time (coalescent units)\", ylab = \"Estimated mean polygenic height (UK 1000G)\", ylim = c(-5, 5), xlim = c(-0.2, 0), xaxt = \"n\", bty = \"n\")\n",
    "axis(1, at = c(0, -.1, -.2))\n",
    "polygon(c(-time, rev(-time)), c(traj.phen.neut + 1.96*sqrt(var.phen.neut.bin), rev(traj.phen.neut - 1.96*sqrt(var.phen.neut.bin))) , col = pal.int[1], border = NA)\n",
    "polygon(c(-time, rev(-time)), c(traj.phen.wt_l1 + 1.96*sqrt(var.phen.wt_l1), rev(traj.phen.wt_l1  - 1.96*sqrt(var.phen.wt_l1 ))) , col = pal.int[3], border = NA)\n",
    "polygon(c(-time[1:1000], rev(-time[1:1000])), c(traj.phen.mom_smoothtime[1:1000] + 1.96*sqrt(var.phen.mom_smoothtime[1:1000]), rev(traj.phen.mom_smoothtime[1:1000]  - 1.96*sqrt(var.phen.mom_smoothtime[1:1000] ))) , col = pal.int[2], border = NA)\n",
    "lines(-time, traj.phen.wt_l1, col = pal[3], lwd = 2)\n",
    "lines(-time, traj.phen.mom_smoothtime, col = pal[2], lwd = 2)\n",
    "lines(-time, traj.phen.neut, col = pal[1], lwd = 2)\n",
    "legend(\"topleft\", lwd = 1, col = pal[c(1,3,2)], legend = c(\"Proportion-of-lineages\", \"Waiting-time\", \"Lineages-remaining\"), bty = \"n\")\n",
    "\n",
    "save.image(file = \"rentplus_test.RData\")"
   ]
  },
  {
   "cell_type": "markdown",
   "metadata": {},
   "source": [
    "### coalescent units とは"
   ]
  },
  {
   "cell_type": "markdown",
   "metadata": {},
   "source": [
    "https://evomics.org/wp-content/uploads/2019/01/SpeciesTreeEstimation2019.pdf\n",
    "\n",
    "* the time back into the past until two lineages coalesce, $U$, is exponentially distributed with rate $(_2^k)\\frac{1}{2N}$\n",
    "\n",
    "* coalescent unit, $t=\\frac{u}{2N}$\n",
    "\n",
    "* The value of $θ$ is used to convert gene tree branch lengths into coalescent units (number of $2N_e$ generations) by multiplying all gene tree branch lengths by $\\frac{1}{θ}$."
   ]
  },
  {
   "cell_type": "markdown",
   "metadata": {},
   "source": [
    "- 過去にさかのぼる2つの系統が共感するまでの時間、$U$は、率$(_2^k)\\frac{1}{2N}$の指数分布に従っています。\n",
    "\n",
    "- 共感結合単位、$t=\\frac{u}{2N}$\n",
    "\n",
    "- $θ$の値は、遺伝子木の枝長を共感結合単位（$2N_e$世代の数）に変換するために使用され、すべての遺伝子木の枝長に$\\frac{1}{θ}$をかけることによって行われます。"
   ]
  },
  {
   "cell_type": "markdown",
   "metadata": {},
   "source": [
    "$N_e=10000$と仮定する。"
   ]
  },
  {
   "cell_type": "code",
   "execution_count": 21,
   "metadata": {},
   "outputs": [
    {
     "name": "stdout",
     "output_type": "stream",
     "text": [
      "[1] 0.000 0.001 0.002 0.003 0.004 0.005\n"
     ]
    }
   ],
   "source": [
    "%%R\n",
    "setwd(\"~/hmiwa1/storage/hmiwa-lab/06_231226_PRSadvance/testdir\")\n",
    "load(\"rentplus_test.RData\")\n",
    "head(time)"
   ]
  },
  {
   "cell_type": "code",
   "execution_count": 39,
   "metadata": {},
   "outputs": [
    {
     "data": {
      "image/png": "[encoded data removed]",
      "text/plain": [
       "<IPython.core.display.Image object>"
      ]
     },
     "metadata": {},
     "output_type": "display_data"
    }
   ],
   "source": [
    "%%R\n",
    "setwd(\"~/hmiwa1/storage/hmiwa-lab/06_231226_PRSadvance/testdir\")\n",
    "load(\"rentplus_test.RData\")\n",
    "\n",
    "time_org=time\n",
    "time=time*20000\n",
    "\n",
    "plot(-time, traj.phen.neut, type = \"l\", xlab = \"Time (generations)\", ylab = \"Estimated mean polygenic height (UK 1000G)\", ylim = c(-5, 5), xlim = c(-0.2*20000, 0), xaxt = \"n\", bty = \"n\")\n",
    "axis(1, at = c(0, -.1*20000, -.2*20000))\n",
    "polygon(c(-time, rev(-time)), c(traj.phen.neut + 1.96*sqrt(var.phen.neut.bin), rev(traj.phen.neut - 1.96*sqrt(var.phen.neut.bin))) , col = pal.int[1], border = NA)\n",
    "polygon(c(-time, rev(-time)), c(traj.phen.wt_l1 + 1.96*sqrt(var.phen.wt_l1), rev(traj.phen.wt_l1  - 1.96*sqrt(var.phen.wt_l1 ))) , col = pal.int[3], border = NA)\n",
    "polygon(c(-time[1:1000], rev(-time[1:1000])), c(traj.phen.mom_smoothtime[1:1000] + 1.96*sqrt(var.phen.mom_smoothtime[1:1000]), rev(traj.phen.mom_smoothtime[1:1000]  - 1.96*sqrt(var.phen.mom_smoothtime[1:1000] ))) , col = pal.int[2], border = NA)\n",
    "lines(-time, traj.phen.wt_l1, col = pal[3], lwd = 2)\n",
    "lines(-time, traj.phen.mom_smoothtime, col = pal[2], lwd = 2)\n",
    "lines(-time, traj.phen.neut, col = pal[1], lwd = 2)\n",
    "legend(\"topleft\", lwd = 1, col = pal[c(1,3,2)], legend = c(\"Proportion-of-lineages\", \"Waiting-time\", \"Lineages-remaining\"), bty = \"n\")\n",
    "\n",
    "#save.image(file = \"rentplus_test.RData\")"
   ]
  },
  {
   "cell_type": "code",
   "execution_count": 41,
   "metadata": {},
   "outputs": [
    {
     "data": {
      "image/png": "[encoded data removed]",
      "text/plain": [
       "<IPython.core.display.Image object>"
      ]
     },
     "metadata": {},
     "output_type": "display_data"
    }
   ],
   "source": [
    "%%R\n",
    "setwd(\"~/hmiwa1/storage/hmiwa-lab/06_231226_PRSadvance/testdir\")\n",
    "load(\"rentplus_test.RData\")\n",
    "\n",
    "time_org=time\n",
    "time=time*-20000\n",
    "\n",
    "plot(-time, traj.phen.neut, type = \"l\", xlab = \"Time (generations)\", ylab = \"Estimated mean polygenic height (UK 1000G)\", ylim = c(-5, 5), xlim = c(0,0.2*20000), xaxt = \"n\", bty = \"n\")\n",
    "axis(1, at = c(0, .1*20000, .2*20000))\n",
    "polygon(c(-time, rev(-time)), c(traj.phen.neut + 1.96*sqrt(var.phen.neut.bin), rev(traj.phen.neut - 1.96*sqrt(var.phen.neut.bin))) , col = pal.int[1], border = NA)\n",
    "polygon(c(-time, rev(-time)), c(traj.phen.wt_l1 + 1.96*sqrt(var.phen.wt_l1), rev(traj.phen.wt_l1  - 1.96*sqrt(var.phen.wt_l1 ))) , col = pal.int[3], border = NA)\n",
    "polygon(c(-time[1:1000], rev(-time[1:1000])), c(traj.phen.mom_smoothtime[1:1000] + 1.96*sqrt(var.phen.mom_smoothtime[1:1000]), rev(traj.phen.mom_smoothtime[1:1000]  - 1.96*sqrt(var.phen.mom_smoothtime[1:1000] ))) , col = pal.int[2], border = NA)\n",
    "lines(-time, traj.phen.wt_l1, col = pal[3], lwd = 2)\n",
    "lines(-time, traj.phen.mom_smoothtime, col = pal[2], lwd = 2)\n",
    "lines(-time, traj.phen.neut, col = pal[1], lwd = 2)\n",
    "legend(\"topleft\", lwd = 1, col = pal[c(1,3,2)], legend = c(\"Proportion-of-lineages\", \"Waiting-time\", \"Lineages-remaining\"), bty = \"n\")\n",
    "\n",
    "#save.image(file = \"rentplus_test.RData\")"
   ]
  },
  {
   "cell_type": "markdown",
   "metadata": {},
   "source": [
    "あとはこれを適宜アレンジすれば動くのではなかろうか！"
   ]
  }
 ],
 "metadata": {
  "kernelspec": {
   "display_name": "base",
   "language": "python",
   "name": "python3"
  },
  "language_info": {
   "codemirror_mode": {
    "name": "ipython",
    "version": 3
   },
   "file_extension": ".py",
   "mimetype": "text/x-python",
   "name": "python",
   "nbconvert_exporter": "python",
   "pygments_lexer": "ipython3",
   "version": "3.11.5"
  }
 },
 "nbformat": 4,
 "nbformat_minor": 2
}
