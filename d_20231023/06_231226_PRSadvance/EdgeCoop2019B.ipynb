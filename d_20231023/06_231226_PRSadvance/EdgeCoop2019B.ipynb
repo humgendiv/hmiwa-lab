{
 "cells": [
  {
   "cell_type": "markdown",
   "metadata": {},
   "source": [
    "# Reconstructing the History of Polygenic Scores Using Coalescent Trees \n",
    "\n",
    "******************************"
   ]
  },
  {
   "cell_type": "markdown",
   "metadata": {},
   "source": [
    "## 【使えそうなスクリプト探し】"
   ]
  },
  {
   "cell_type": "code",
   "execution_count": 2,
   "metadata": {},
   "outputs": [],
   "source": [
    "%load_ext rpy2.ipython"
   ]
  },
  {
   "cell_type": "code",
   "execution_count": 4,
   "metadata": {},
   "outputs": [
    {
     "name": "stdout",
     "output_type": "stream",
     "text": [
      "06_231226_PRSadvance.ipynb\n",
      "EdgeCoop2019B.ipynb\n",
      "EdgeCoop2019.ipynb\n",
      "EdgeCoop2019R.ipynb\n",
      "README.md\n",
      "rhps_coalescent\n"
     ]
    }
   ],
   "source": [
    "%%bash\n",
    "ls"
   ]
  },
  {
   "cell_type": "code",
   "execution_count": 5,
   "metadata": {},
   "outputs": [
    {
     "name": "stdout",
     "output_type": "stream",
     "text": [
      "rhps_coalescent/maintext_sims_rent_061318/weaksel02_k1000/loop_pheno_sims_reps.R:traj.fn <- \"temp_out1/temp.txt\"\n",
      "rhps_coalescent/maintext_sims_rent_061318/weaksel_0204_k1000/loop_pheno_sims_reps.R:traj.fn <- \"temp_out1/temp.txt\"\n",
      "rhps_coalescent/maintext_sims_rent_061318/short_test/loop_pheno_sims_reps.R:traj.fn <- \"temp_out/temp.txt\"\n",
      "rhps_coalescent/maintext_sims_rent_061318/neutral_sims_for_tSDS/loop_pulse_sims.R:traj.fn <- \"temp_out/temp.txt\"\n",
      "rhps_coalescent/maintext_sims_rent_061318/neutral/loop_pheno_sims_reps.R:traj.fn <- \"temp_out1/temp.txt\"\n",
      "rhps_coalescent/maintext_sims_rent_061318/neutral/loop_run_rent.R:traj.fn <- \"temp_out1/temp.txt\"\n",
      "rhps_coalescent/maintext_sims_rent_061318/neutral/loop_pheno_sims_fixrent.R:traj.fn.rf <- \"temp_out9/temp.txt\"\n",
      "rhps_coalescent/maintext_sims_rent_061318/test_trees/mssel_reps.R:traj.fn <- \"temp.txt\"\n",
      "rhps_coalescent/maintext_sims_rent_061318/pulse_sims/loop_pheno_sims_reps.R:traj.fn <- \"temp_out8/temp.txt\"\n",
      "rhps_coalescent/maintext_sims_rent_061318/pulse_sims/loop_pulse_sims.R:traj.fn <- \"temp_out10/temp.txt\"\n",
      "rhps_coalescent/maintext_sims_rent_061318/pulse_sims/analyze_pulses_tSDS.R:#traj.fn <- \"temp_out1/temp.txt\"\n",
      "rhps_coalescent/maintext_sims_rent_061318/pulse_sims/loop_test_grads.R:traj.fn <- \"temp_out9/temp.txt\"\n",
      "rhps_coalescent/maintext_sims_rent_061318/weaksel_02/loop_pheno_sims_reps.R:traj.fn <- \"temp_out3/temp.txt\"\n",
      "rhps_coalescent/maintext_sims_rent_061318/neutral_k1000/loop_pheno_sims_reps.R:traj.fn <- \"temp_out1/temp.txt\"\n",
      "rhps_coalescent/maintext_sims_rent_061318/weaksel_0204/loop_pheno_sims_reps.R:traj.fn <- \"temp_out5/temp.txt\"\n",
      "rhps_coalescent/small_example/example/loop_pheno_sims_reps.R:traj.fn <- \"temp/temp.txt\"\n"
     ]
    }
   ],
   "source": [
    "%%bash\n",
    "grep -r temp.txt rhps_coalescent/"
   ]
  },
  {
   "cell_type": "code",
   "execution_count": 6,
   "metadata": {},
   "outputs": [
    {
     "name": "stdout",
     "output_type": "stream",
     "text": [
      "rhps_coalescent/maintext_sims_rent_061318/weaksel02_k1000/loop_pheno_sims_reps.R:traj.fn <- \"temp_out1/temp.txt\"\n",
      "rhps_coalescent/maintext_sims_rent_061318/simwrent_onelocus.R:\twrite.traj(traj.fn.rf, trajs[[i]])\n",
      "rhps_coalescent/maintext_sims_rent_061318/simwrent_onelocus.R:\tms.string <- paste(ms_dir, \"mssel \", as.character(n_chroms), \" 1 \", as.character(n_chroms - n_der), \" \", as.character(n_der), \" \", traj.fn.rf, \" \", sel_site, \" -r \", as.character(4*N*(1 - dbinom(0,len_hap, r))), \" \", as.character(len_hap), \" -t \", as.character(4*N* (1 - dbinom(0, len_hap, u))), \" -T -L > \", msout.fn.rf, sep = \"\")\n",
      "rhps_coalescent/maintext_sims_rent_061318/weaksel_0204_k1000/loop_pheno_sims_reps.R:traj.fn <- \"temp_out1/temp.txt\"\n",
      "rhps_coalescent/maintext_sims_rent_061318/short_test/loop_pheno_sims_reps.R:traj.fn <- \"temp_out/temp.txt\"\n",
      "rhps_coalescent/maintext_sims_rent_061318/neutral_sims_for_tSDS/loop_pulse_sims.R:traj.fn <- \"temp_out/temp.txt\"\n",
      "rhps_coalescent/maintext_sims_rent_061318/neutral_sims_for_tSDS/pheno_sim_trees.R:\twrite.traj(traj.fn, trajs[[i]])\n",
      "rhps_coalescent/maintext_sims_rent_061318/neutral_sims_for_tSDS/pheno_sim_trees.R:\tms.string <- paste(ms_dir, \"mssel \", as.character(n_chroms), \" 1 \", as.character(n_chroms - n_der), \" \", as.character(n_der), \" \", traj.fn, \" \", sel_site, \" -r \", as.character(4*N*(1 - dbinom(0,len_hap, r))), \" \", as.character(len_hap), \" -t \", as.character(4*N* (1 - dbinom(0, len_hap, u))), \" -T -L > \", msout.fn, sep = \"\")\n",
      "rhps_coalescent/maintext_sims_rent_061318/neutral/loop_pheno_sims_reps.R:traj.fn <- \"temp_out1/temp.txt\"\n",
      "rhps_coalescent/maintext_sims_rent_061318/neutral/loop_run_rent.R:traj.fn <- \"temp_out1/temp.txt\"\n",
      "rhps_coalescent/maintext_sims_rent_061318/neutral/loop_pheno_sims_fixrent.R:traj.fn.rf <- \"temp_out9/temp.txt\"\n",
      "rhps_coalescent/maintext_sims_rent_061318/pheno_sim_1iter.R:\twrite.traj(traj.fn, trajs[[i]])\n",
      "rhps_coalescent/maintext_sims_rent_061318/pheno_sim_1iter.R:\tms.string <- paste(ms_dir, \"mssel \", as.character(n_chroms), \" 1 \", as.character(n_chroms - n_der), \" \", as.character(n_der), \" \", traj.fn, \" \", sel_site, \" -r \", as.character(4*N*(1 - dbinom(0,len_hap, r))), \" \", as.character(len_hap), \" -t \", as.character(4*N* (1 - dbinom(0, len_hap, u))), \" -T -L > \", msout.fn, sep = \"\")\n",
      "rhps_coalescent/maintext_sims_rent_061318/test_trees/mssel_reps.R:traj.fn <- \"temp.txt\"\n",
      "rhps_coalescent/maintext_sims_rent_061318/test_trees/mssel_reps.R:\twrite.traj(traj.fn, trajs[[i]])\n",
      "rhps_coalescent/maintext_sims_rent_061318/test_trees/mssel_reps.R:\tms.string <- paste(ms_dir, \"mssel \", as.character(n_chroms), \" 1 \", as.character(n_chroms - n_der), \" \", as.character(n_der), \" \", traj.fn, \" \", sel_site, \" -r \", as.character(4*N*(1 - dbinom(0,len_hap, r))), \" \", as.character(len_hap), \" -t \", as.character(4*N* (1 - dbinom(0, len_hap, u))), \" -T -L > \", msout.fn, sep = \"\")\n",
      "rhps_coalescent/maintext_sims_rent_061318/pulse_sims/loop_pheno_sims_reps.R:traj.fn <- \"temp_out8/temp.txt\"\n",
      "rhps_coalescent/maintext_sims_rent_061318/pulse_sims/loop_pulse_sims.R:traj.fn <- \"temp_out10/temp.txt\"\n",
      "rhps_coalescent/maintext_sims_rent_061318/pulse_sims/pheno_sim_trees.R:\twrite.traj(traj.fn, trajs[[i]])\n",
      "rhps_coalescent/maintext_sims_rent_061318/pulse_sims/pheno_sim_trees.R:\tms.string <- paste(ms_dir, \"mssel \", as.character(n_chroms), \" 1 \", as.character(n_chroms - n_der), \" \", as.character(n_der), \" \", traj.fn, \" \", sel_site, \" -r \", as.character(4*N*(1 - dbinom(0,len_hap, r))), \" \", as.character(len_hap), \" -t \", as.character(4*N* (1 - dbinom(0, len_hap, u))), \" -T -L > \", msout.fn, sep = \"\")\n",
      "rhps_coalescent/maintext_sims_rent_061318/pulse_sims/pheno_simtrees_only.R:\twrite.traj(traj.fn, trajs[[i]])\n",
      "rhps_coalescent/maintext_sims_rent_061318/pulse_sims/pheno_simtrees_only.R:\tms.string <- paste(ms_dir, \"mssel \", as.character(n_chroms), \" 1 \", as.character(n_chroms - n_der), \" \", as.character(n_der), \" \", traj.fn, \" \", sel_site, \" -r \", as.character(4*N*(1 - dbinom(0,len_hap, r))), \" \", as.character(len_hap), \" -t \", as.character(4*N* (1 - dbinom(0, len_hap, u))), \" -T -L > \", msout.fn, sep = \"\")\n",
      "rhps_coalescent/maintext_sims_rent_061318/pulse_sims/analyze_pulses_tSDS.R:#traj.fn <- \"temp_out1/temp.txt\"\n",
      "rhps_coalescent/maintext_sims_rent_061318/pulse_sims/loop_test_grads.R:traj.fn <- \"temp_out9/temp.txt\"\n",
      "rhps_coalescent/maintext_sims_rent_061318/weaksel_02/loop_pheno_sims_reps.R:traj.fn <- \"temp_out3/temp.txt\"\n",
      "rhps_coalescent/maintext_sims_rent_061318/neutral_k1000/loop_pheno_sims_reps.R:traj.fn <- \"temp_out1/temp.txt\"\n",
      "rhps_coalescent/maintext_sims_rent_061318/weaksel_0204/loop_pheno_sims_reps.R:traj.fn <- \"temp_out5/temp.txt\"\n",
      "rhps_coalescent/maintext_sims_rent_061318/pheno_sim_1iter_norent.R:\twrite.traj(traj.fn, trajs[[i]])\n",
      "rhps_coalescent/maintext_sims_rent_061318/pheno_sim_1iter_norent.R:\tms.string <- paste(ms_dir, \"mssel \", as.character(n_chroms), \" 1 \", as.character(n_chroms - n_der), \" \", as.character(n_der), \" \", traj.fn, \" \", sel_site, \" -r \", as.character(4*N*(1 - dbinom(0,len_hap, r))), \" \", as.character(len_hap), \" -t \", as.character(4*N* (1 - dbinom(0, len_hap, u))), \" -T -L > \", msout.fn, sep = \"\")\n",
      "rhps_coalescent/maintext_sims_rent_061318/pheno_sim_1iter_norent_notraj.R:\twrite.traj(traj.fn, trajs[[i]])\n",
      "rhps_coalescent/maintext_sims_rent_061318/pheno_sim_1iter_norent_notraj.R:\tms.string <- paste(ms_dir, \"mssel \", as.character(n_chroms), \" 1 \", as.character(n_chroms - n_der), \" \", as.character(n_der), \" \", traj.fn, \" \", sel_site, \" -r \", as.character(4*N*(1 - dbinom(0,len_hap, r))), \" \", as.character(len_hap), \" -t \", as.character(4*N* (1 - dbinom(0, len_hap, u))), \" -T -L > \", msout.fn, sep = \"\")\n",
      "rhps_coalescent/small_example/example/loop_pheno_sims_reps.R:traj.fn <- \"temp/temp.txt\"\n",
      "rhps_coalescent/small_example/pheno_sim_1iter.R:\twrite.traj(traj.fn, trajs[[i]])\n",
      "rhps_coalescent/small_example/pheno_sim_1iter.R:\tms.string <- paste(ms_dir, \"mssel \", as.character(n_chroms), \" 1 \", as.character(n_chroms - n_der), \" \", as.character(n_der), \" \", traj.fn, \" \", sel_site, \" -r \", as.character(4*N*(1 - dbinom(0,len_hap, r))), \" \", as.character(len_hap), \" -t \", as.character(4*N* (1 - dbinom(0, len_hap, u))), \" -T -L > \", msout.fn, sep = \"\")\n"
     ]
    }
   ],
   "source": [
    "%%bash\n",
    "grep -r traj.fn rhps_coalescent/"
   ]
  },
  {
   "cell_type": "code",
   "execution_count": 7,
   "metadata": {},
   "outputs": [
    {
     "name": "stdout",
     "output_type": "stream",
     "text": [
      "rhps_coalescent/maintext_sims_rent_061318/simwrent_onelocus.R:\twrite.traj(traj.fn.rf, trajs[[i]])\n",
      "rhps_coalescent/maintext_sims_rent_061318/neutral_sims_for_tSDS/pheno_sim_trees.R:\twrite.traj(traj.fn, trajs[[i]])\n",
      "rhps_coalescent/maintext_sims_rent_061318/pheno_sim_1iter.R:\twrite.traj(traj.fn, trajs[[i]])\n",
      "rhps_coalescent/maintext_sims_rent_061318/test_trees/mssel_reps.R:\twrite.traj(traj.fn, trajs[[i]])\n",
      "rhps_coalescent/maintext_sims_rent_061318/pulse_sims/pheno_sim_trees.R:\twrite.traj(traj.fn, trajs[[i]])\n",
      "rhps_coalescent/maintext_sims_rent_061318/pulse_sims/pheno_simtrees_only.R:\twrite.traj(traj.fn, trajs[[i]])\n",
      "rhps_coalescent/maintext_sims_rent_061318/pheno_sim_1iter_norent.R:\twrite.traj(traj.fn, trajs[[i]])\n",
      "rhps_coalescent/maintext_sims_rent_061318/pheno_sim_1iter_norent_notraj.R:\twrite.traj(traj.fn, trajs[[i]])\n",
      "rhps_coalescent/small_example/pheno_sim_1iter.R:\twrite.traj(traj.fn, trajs[[i]])\n"
     ]
    }
   ],
   "source": [
    "%%bash\n",
    "grep -r traj.fn rhps_coalescent/ | grep write"
   ]
  },
  {
   "cell_type": "code",
   "execution_count": 8,
   "metadata": {},
   "outputs": [
    {
     "name": "stdout",
     "output_type": "stream",
     "text": [
      "rhps_coalescent/maintext_sims_rent_061318/weaksel02_k1000/loop_pheno_sims_reps.R:msout.fn <- \"temp_out1/ms_out.txt\"\n",
      "rhps_coalescent/maintext_sims_rent_061318/weaksel_0204_k1000/loop_pheno_sims_reps.R:msout.fn <- \"temp_out1/ms_out.txt\"\n",
      "rhps_coalescent/maintext_sims_rent_061318/short_test/loop_pheno_sims_reps.R:msout.fn <- \"temp_out/ms_out.txt\"\n",
      "rhps_coalescent/maintext_sims_rent_061318/neutral_sims_for_tSDS/loop_pulse_sims.R:msout.fn <- \"temp_out/ms_out.txt\"\n",
      "rhps_coalescent/maintext_sims_rent_061318/neutral/loop_pheno_sims_reps.R:msout.fn <- \"temp_out1/ms_out.txt\"\n",
      "rhps_coalescent/maintext_sims_rent_061318/neutral/loop_run_rent.R:msout.fn <- \"temp_out1/ms_out.txt\"\n",
      "rhps_coalescent/maintext_sims_rent_061318/neutral/loop_pheno_sims_fixrent.R:msout.fn.rf <- \"temp_out9/ms_out.txt\"\n",
      "rhps_coalescent/maintext_sims_rent_061318/pulse_sims/loop_pheno_sims_reps.R:msout.fn <- \"temp_out8/ms_out.txt\"\n",
      "rhps_coalescent/maintext_sims_rent_061318/pulse_sims/loop_pulse_sims.R:msout.fn <- \"temp_out10/ms_out.txt\"\n",
      "rhps_coalescent/maintext_sims_rent_061318/pulse_sims/pheno_simtrees_only.R:\ttrue_sel_tree_newick <- readLines(\"ms_out.txt\", n = 5)[5]\n",
      "rhps_coalescent/maintext_sims_rent_061318/pulse_sims/analyze_pulses_tSDS.R:#msout.fn <- \"temp_out1/ms_out.txt\"\n",
      "rhps_coalescent/maintext_sims_rent_061318/pulse_sims/loop_test_grads.R:msout.fn <- \"temp_out9/ms_out.txt\"\n",
      "rhps_coalescent/maintext_sims_rent_061318/weaksel_02/loop_pheno_sims_reps.R:msout.fn <- \"temp_out3/ms_out.txt\"\n",
      "rhps_coalescent/maintext_sims_rent_061318/neutral_k1000/loop_pheno_sims_reps.R:msout.fn <- \"temp_out1/ms_out.txt\"\n",
      "rhps_coalescent/maintext_sims_rent_061318/weaksel_0204/loop_pheno_sims_reps.R:msout.fn <- \"temp_out5/ms_out.txt\"\n",
      "rhps_coalescent/small_example/example/loop_pheno_sims_reps.R:msout.fn <- \"temp/ms_out.txt\"\n"
     ]
    }
   ],
   "source": [
    "%%bash\n",
    "grep -r ms_out.txt rhps_coalescent/"
   ]
  },
  {
   "cell_type": "code",
   "execution_count": 9,
   "metadata": {},
   "outputs": [
    {
     "name": "stdout",
     "output_type": "stream",
     "text": [
      "rhps_coalescent/maintext_sims_rent_061318/weaksel02_k1000/loop_pheno_sims_reps.R:msout.fn <- \"temp_out1/ms_out.txt\"\n",
      "rhps_coalescent/maintext_sims_rent_061318/simwrent_onelocus.R:\tms.string <- paste(ms_dir, \"mssel \", as.character(n_chroms), \" 1 \", as.character(n_chroms - n_der), \" \", as.character(n_der), \" \", traj.fn.rf, \" \", sel_site, \" -r \", as.character(4*N*(1 - dbinom(0,len_hap, r))), \" \", as.character(len_hap), \" -t \", as.character(4*N* (1 - dbinom(0, len_hap, u))), \" -T -L > \", msout.fn.rf, sep = \"\")\n",
      "rhps_coalescent/maintext_sims_rent_061318/simwrent_onelocus.R:\tprocess.string <- paste(\"sed '/positions: /,$!d' \", msout.fn.rf, \" | sed 's/.*positions: //' > \", rent_in_fn.rf, sep = \"\")\n",
      "rhps_coalescent/maintext_sims_rent_061318/simwrent_onelocus.R:\tmsoutlines <- readLines(msout.fn.rf)\n",
      "rhps_coalescent/maintext_sims_rent_061318/weaksel_0204_k1000/loop_pheno_sims_reps.R:msout.fn <- \"temp_out1/ms_out.txt\"\n",
      "rhps_coalescent/maintext_sims_rent_061318/short_test/loop_pheno_sims_reps.R:msout.fn <- \"temp_out/ms_out.txt\"\n",
      "rhps_coalescent/maintext_sims_rent_061318/neutral_sims_for_tSDS/loop_pulse_sims.R:msout.fn <- \"temp_out/ms_out.txt\"\n",
      "rhps_coalescent/maintext_sims_rent_061318/neutral_sims_for_tSDS/pheno_sim_trees.R:\tms.string <- paste(ms_dir, \"mssel \", as.character(n_chroms), \" 1 \", as.character(n_chroms - n_der), \" \", as.character(n_der), \" \", traj.fn, \" \", sel_site, \" -r \", as.character(4*N*(1 - dbinom(0,len_hap, r))), \" \", as.character(len_hap), \" -t \", as.character(4*N* (1 - dbinom(0, len_hap, u))), \" -T -L > \", msout.fn, sep = \"\")\n",
      "rhps_coalescent/maintext_sims_rent_061318/neutral_sims_for_tSDS/pheno_sim_trees.R:\t#process.string <- paste(\"sed '/positions: /,$!d' \", msout.fn, \" | sed 's/.*positions: //' > \", rent_in_fn, sep = \"\")\n",
      "rhps_coalescent/maintext_sims_rent_061318/neutral_sims_for_tSDS/pheno_sim_trees.R:\tmsoutlines <- readLines(msout.fn)\n",
      "rhps_coalescent/maintext_sims_rent_061318/neutral/loop_pheno_sims_reps.R:msout.fn <- \"temp_out1/ms_out.txt\"\n",
      "rhps_coalescent/maintext_sims_rent_061318/neutral/loop_run_rent.R:msout.fn <- \"temp_out1/ms_out.txt\"\n",
      "rhps_coalescent/maintext_sims_rent_061318/neutral/loop_pheno_sims_fixrent.R:msout.fn.rf <- \"temp_out9/ms_out.txt\"\n",
      "rhps_coalescent/maintext_sims_rent_061318/pheno_sim_1iter.R:\tms.string <- paste(ms_dir, \"mssel \", as.character(n_chroms), \" 1 \", as.character(n_chroms - n_der), \" \", as.character(n_der), \" \", traj.fn, \" \", sel_site, \" -r \", as.character(4*N*(1 - dbinom(0,len_hap, r))), \" \", as.character(len_hap), \" -t \", as.character(4*N* (1 - dbinom(0, len_hap, u))), \" -T -L > \", msout.fn, sep = \"\")\n",
      "rhps_coalescent/maintext_sims_rent_061318/pheno_sim_1iter.R:\tprocess.string <- paste(\"sed '/positions: /,$!d' \", msout.fn, \" | sed 's/.*positions: //' > \", rent_in_fn, sep = \"\")\n",
      "rhps_coalescent/maintext_sims_rent_061318/pheno_sim_1iter.R:\trent.string <- paste(\"java -jar \", rentplus_fn, \" -t -l \", as.character(len_hap), \" \", rent_in_fn, \" \", msout.fn, sep = \"\")\n",
      "rhps_coalescent/maintext_sims_rent_061318/pheno_sim_1iter.R:\tmsoutlines <- readLines(msout.fn)\n",
      "rhps_coalescent/maintext_sims_rent_061318/test_trees/mssel_reps.R:\tmsout.fn <- paste(\"out2/msout\", as.character(i), \".txt\", sep = \"\")\t\n",
      "rhps_coalescent/maintext_sims_rent_061318/test_trees/mssel_reps.R:\tms.string <- paste(ms_dir, \"mssel \", as.character(n_chroms), \" 1 \", as.character(n_chroms - n_der), \" \", as.character(n_der), \" \", traj.fn, \" \", sel_site, \" -r \", as.character(4*N*(1 - dbinom(0,len_hap, r))), \" \", as.character(len_hap), \" -t \", as.character(4*N* (1 - dbinom(0, len_hap, u))), \" -T -L > \", msout.fn, sep = \"\")\n",
      "rhps_coalescent/maintext_sims_rent_061318/test_trees/mssel_reps.R:\tmsoutlines <- readLines(msout.fn)\n",
      "rhps_coalescent/maintext_sims_rent_061318/pulse_sims/loop_pheno_sims_reps.R:msout.fn <- \"temp_out8/ms_out.txt\"\n",
      "rhps_coalescent/maintext_sims_rent_061318/pulse_sims/loop_pulse_sims.R:msout.fn <- \"temp_out10/ms_out.txt\"\n",
      "rhps_coalescent/maintext_sims_rent_061318/pulse_sims/pheno_sim_trees.R:\tms.string <- paste(ms_dir, \"mssel \", as.character(n_chroms), \" 1 \", as.character(n_chroms - n_der), \" \", as.character(n_der), \" \", traj.fn, \" \", sel_site, \" -r \", as.character(4*N*(1 - dbinom(0,len_hap, r))), \" \", as.character(len_hap), \" -t \", as.character(4*N* (1 - dbinom(0, len_hap, u))), \" -T -L > \", msout.fn, sep = \"\")\n",
      "rhps_coalescent/maintext_sims_rent_061318/pulse_sims/pheno_sim_trees.R:\t#process.string <- paste(\"sed '/positions: /,$!d' \", msout.fn, \" | sed 's/.*positions: //' > \", rent_in_fn, sep = \"\")\n",
      "rhps_coalescent/maintext_sims_rent_061318/pulse_sims/pheno_sim_trees.R:\tmsoutlines <- readLines(msout.fn)\n",
      "rhps_coalescent/maintext_sims_rent_061318/pulse_sims/pheno_simtrees_only.R:\tms.string <- paste(ms_dir, \"mssel \", as.character(n_chroms), \" 1 \", as.character(n_chroms - n_der), \" \", as.character(n_der), \" \", traj.fn, \" \", sel_site, \" -r \", as.character(4*N*(1 - dbinom(0,len_hap, r))), \" \", as.character(len_hap), \" -t \", as.character(4*N* (1 - dbinom(0, len_hap, u))), \" -T -L > \", msout.fn, sep = \"\")\n",
      "rhps_coalescent/maintext_sims_rent_061318/pulse_sims/analyze_pulses_tSDS.R:#msout.fn <- \"temp_out1/ms_out.txt\"\n",
      "rhps_coalescent/maintext_sims_rent_061318/pulse_sims/loop_test_grads.R:msout.fn <- \"temp_out9/ms_out.txt\"\n",
      "rhps_coalescent/maintext_sims_rent_061318/weaksel_02/loop_pheno_sims_reps.R:msout.fn <- \"temp_out3/ms_out.txt\"\n",
      "rhps_coalescent/maintext_sims_rent_061318/neutral_k1000/loop_pheno_sims_reps.R:msout.fn <- \"temp_out1/ms_out.txt\"\n",
      "rhps_coalescent/maintext_sims_rent_061318/weaksel_0204/loop_pheno_sims_reps.R:msout.fn <- \"temp_out5/ms_out.txt\"\n",
      "rhps_coalescent/maintext_sims_rent_061318/pheno_sim_1iter_norent.R:\tms.string <- paste(ms_dir, \"mssel \", as.character(n_chroms), \" 1 \", as.character(n_chroms - n_der), \" \", as.character(n_der), \" \", traj.fn, \" \", sel_site, \" -r \", as.character(4*N*(1 - dbinom(0,len_hap, r))), \" \", as.character(len_hap), \" -t \", as.character(4*N* (1 - dbinom(0, len_hap, u))), \" -T -L > \", msout.fn, sep = \"\")\n",
      "rhps_coalescent/maintext_sims_rent_061318/pheno_sim_1iter_norent.R:\tprocess.string <- paste(\"sed '/positions: /,$!d' \", msout.fn, \" | sed 's/.*positions: //' > \", rent_in_fn, sep = \"\")\n",
      "rhps_coalescent/maintext_sims_rent_061318/pheno_sim_1iter_norent.R:\tmsoutlines <- readLines(msout.fn)\n",
      "rhps_coalescent/maintext_sims_rent_061318/pheno_sim_1iter_norent_notraj.R:\tms.string <- paste(ms_dir, \"mssel \", as.character(n_chroms), \" 1 \", as.character(n_chroms - n_der), \" \", as.character(n_der), \" \", traj.fn, \" \", sel_site, \" -r \", as.character(4*N*(1 - dbinom(0,len_hap, r))), \" \", as.character(len_hap), \" -t \", as.character(4*N* (1 - dbinom(0, len_hap, u))), \" -T -L > \", msout.fn, sep = \"\")\n",
      "rhps_coalescent/maintext_sims_rent_061318/pheno_sim_1iter_norent_notraj.R:\tprocess.string <- paste(\"sed '/positions: /,$!d' \", msout.fn, \" | sed 's/.*positions: //' > \", rent_in_fn, sep = \"\")\n",
      "rhps_coalescent/maintext_sims_rent_061318/pheno_sim_1iter_norent_notraj.R:\tmsoutlines <- readLines(msout.fn)\n",
      "rhps_coalescent/small_example/example/loop_pheno_sims_reps.R:msout.fn <- \"temp/ms_out.txt\"\n",
      "rhps_coalescent/small_example/pheno_sim_1iter.R:\tms.string <- paste(ms_dir, \"mssel \", as.character(n_chroms), \" 1 \", as.character(n_chroms - n_der), \" \", as.character(n_der), \" \", traj.fn, \" \", sel_site, \" -r \", as.character(4*N*(1 - dbinom(0,len_hap, r))), \" \", as.character(len_hap), \" -t \", as.character(4*N* (1 - dbinom(0, len_hap, u))), \" -T -L > \", msout.fn, sep = \"\")\n",
      "rhps_coalescent/small_example/pheno_sim_1iter.R:\tprocess.string <- paste(\"sed '/positions: /,$!d' \", msout.fn, \" | sed 's/.*positions: //' > \", rent_in_fn, sep = \"\")\n",
      "rhps_coalescent/small_example/pheno_sim_1iter.R:\trent.string <- paste(\"java -jar \", rentplus_fn, \" -t -l \", as.character(len_hap), \" \", rent_in_fn, \" \", msout.fn, sep = \"\")\n",
      "rhps_coalescent/small_example/pheno_sim_1iter.R:\tmsoutlines <- readLines(msout.fn)\n"
     ]
    }
   ],
   "source": [
    "%%bash\n",
    "grep -r msout.fn rhps_coalescent/"
   ]
  },
  {
   "cell_type": "code",
   "execution_count": 10,
   "metadata": {},
   "outputs": [
    {
     "name": "stdout",
     "output_type": "stream",
     "text": [
      "rhps_coalescent/height_analyses/GIANT_BergEtAl18/rentplus_trees_1700_height_1KG.R:rent_file <- \"temp/rent_in.txt\"\n",
      "rhps_coalescent/height_analyses/GIANT/rentplus_trees_1700_height_1KG.R:rent_file <- \"temp/rent_in.txt\"\n",
      "rhps_coalescent/height_analyses/UKbiobank/rentplus_trees_1700_height_1KG_rsID.R:rent_file <- \"rent_in.txt\"\n",
      "rhps_coalescent/height_analyses/UKbiobank/rentplus_trees_1700_height_1KG.R:rent_file <- \"rent_in.txt\"\n",
      "rhps_coalescent/height_analyses/UKBNeale_BergEtAl18/rentplus_trees_1700_height_1KG.R:rent_file <- \"temp/rent_in.txt\"\n",
      "rhps_coalescent/maintext_sims_rent_061318/weaksel02_k1000/loop_pheno_sims_reps.R:rent_in_fn <- \"temp_out1/rent_in.txt\"\n",
      "rhps_coalescent/maintext_sims_rent_061318/weaksel_0204_k1000/loop_pheno_sims_reps.R:rent_in_fn <- \"temp_out1/rent_in.txt\"\n",
      "rhps_coalescent/maintext_sims_rent_061318/short_test/loop_pheno_sims_reps.R:rent_in_fn <- \"temp_out/rent_in.txt\"\n",
      "rhps_coalescent/maintext_sims_rent_061318/neutral/loop_pheno_sims_reps.R:rent_in_fn <- \"temp_out1/rent_in.txt\"\n",
      "rhps_coalescent/maintext_sims_rent_061318/neutral/loop_run_rent.R:rent_in_fn <- \"temp_out1/rent_in.txt\"\n",
      "rhps_coalescent/maintext_sims_rent_061318/neutral/loop_pheno_sims_fixrent.R:rent_in_fn.rf <- \"temp_out9/rent_in.txt\"\n",
      "rhps_coalescent/maintext_sims_rent_061318/pulse_sims/loop_pheno_sims_reps.R:rent_in_fn <- \"temp_out8/rent_in.txt\"\n",
      "rhps_coalescent/maintext_sims_rent_061318/pulse_sims/loop_pulse_sims.R:rent_in_fn <- \"temp_out10/rent_in.txt\"\n",
      "rhps_coalescent/maintext_sims_rent_061318/pulse_sims/analyze_pulses_tSDS.R:#rent_in_fn <- \"temp_out1/rent_in.txt\"\n",
      "rhps_coalescent/maintext_sims_rent_061318/pulse_sims/loop_test_grads.R:rent_in_fn <- \"temp_out9/rent_in.txt\"\n",
      "rhps_coalescent/maintext_sims_rent_061318/weaksel_02/loop_pheno_sims_reps.R:rent_in_fn <- \"temp_out3/rent_in.txt\"\n",
      "rhps_coalescent/maintext_sims_rent_061318/neutral_k1000/loop_pheno_sims_reps.R:rent_in_fn <- \"temp_out1/rent_in.txt\"\n",
      "rhps_coalescent/maintext_sims_rent_061318/weaksel_0204/loop_pheno_sims_reps.R:rent_in_fn <- \"temp_out5/rent_in.txt\"\n",
      "rhps_coalescent/small_example/example/loop_pheno_sims_reps.R:rent_in_fn <- \"temp/rent_in.txt\"\n"
     ]
    }
   ],
   "source": [
    "%%bash\n",
    "grep -r rent_in.txt rhps_coalescent/"
   ]
  },
  {
   "cell_type": "code",
   "execution_count": 11,
   "metadata": {},
   "outputs": [
    {
     "name": "stdout",
     "output_type": "stream",
     "text": [
      "rhps_coalescent/maintext_sims_rent_061318/weaksel02_k1000/loop_pheno_sims_reps.R:rent_in_fn <- \"temp_out1/rent_in.txt\"\n",
      "rhps_coalescent/maintext_sims_rent_061318/simwrent_onelocus.R:\tprocess.string <- paste(\"sed '/positions: /,$!d' \", msout.fn.rf, \" | sed 's/.*positions: //' > \", rent_in_fn.rf, sep = \"\")\n",
      "rhps_coalescent/maintext_sims_rent_061318/simwrent_onelocus.R:\tif(file.exists(paste(rent_in_fn.rf, \".trees\", sep = \"\"))){\n",
      "rhps_coalescent/maintext_sims_rent_061318/simwrent_onelocus.R:\t\tfile.remove(paste(rent_in_fn.rf, \".trees\", sep = \"\"))\n",
      "rhps_coalescent/maintext_sims_rent_061318/simwrent_onelocus.R:\trent.string <- paste(\"java -jar \", rentplus_fn, \" -t -l \", as.character(len_hap), \" \", rent_in_fn.rf, sep = \"\")\n",
      "rhps_coalescent/maintext_sims_rent_061318/simwrent_onelocus.R:\tms_haplotypes_list[[i]] <- readLines(rent_in_fn.rf) #save the haplotypes produced by ms (and fed to rent+) in a list entry.\n",
      "rhps_coalescent/maintext_sims_rent_061318/simwrent_onelocus.R:\trent_trees_fn <- paste(rent_in_fn.rf, \".trees\", sep = \"\")\n",
      "rhps_coalescent/maintext_sims_rent_061318/weaksel_0204_k1000/loop_pheno_sims_reps.R:rent_in_fn <- \"temp_out1/rent_in.txt\"\n",
      "rhps_coalescent/maintext_sims_rent_061318/short_test/loop_pheno_sims_reps.R:rent_in_fn <- \"temp_out/rent_in.txt\"\n",
      "rhps_coalescent/maintext_sims_rent_061318/neutral_sims_for_tSDS/pheno_sim_trees.R:\t#process.string <- paste(\"sed '/positions: /,$!d' \", msout.fn, \" | sed 's/.*positions: //' > \", rent_in_fn, sep = \"\")\n",
      "rhps_coalescent/maintext_sims_rent_061318/neutral_sims_for_tSDS/pheno_sim_trees.R:\t#ms_haplotypes_list[[i]] <- readLines(rent_in_fn) #save the haplotypes produced by ms (and fed to rent+) in a list entry.\n",
      "rhps_coalescent/maintext_sims_rent_061318/neutral/loop_pheno_sims_reps.R:rent_in_fn <- \"temp_out1/rent_in.txt\"\n",
      "rhps_coalescent/maintext_sims_rent_061318/neutral/loop_run_rent.R:rent_in_fn <- \"temp_out1/rent_in.txt\"\n",
      "rhps_coalescent/maintext_sims_rent_061318/neutral/loop_run_rent.R:rent_in_fn.ro <- rent_in_fn\n",
      "rhps_coalescent/maintext_sims_rent_061318/neutral/loop_pheno_sims_fixrent.R:rent_in_fn.rf <- \"temp_out9/rent_in.txt\"\n",
      "rhps_coalescent/maintext_sims_rent_061318/pheno_sim_1iter.R:\tprocess.string <- paste(\"sed '/positions: /,$!d' \", msout.fn, \" | sed 's/.*positions: //' > \", rent_in_fn, sep = \"\")\n",
      "rhps_coalescent/maintext_sims_rent_061318/pheno_sim_1iter.R:\trent.string <- paste(\"java -jar \", rentplus_fn, \" -t -l \", as.character(len_hap), \" \", rent_in_fn, \" \", msout.fn, sep = \"\")\n",
      "rhps_coalescent/maintext_sims_rent_061318/pheno_sim_1iter.R:\tms_haplotypes_list[[i]] <- readLines(rent_in_fn) #save the haplotypes produced by ms (and fed to rent+) in a list entry.\n",
      "rhps_coalescent/maintext_sims_rent_061318/pheno_sim_1iter.R:\trent_trees_fn <- paste(rent_in_fn, \".trees\", sep = \"\")\n",
      "rhps_coalescent/maintext_sims_rent_061318/pulse_sims/loop_pheno_sims_reps.R:rent_in_fn <- \"temp_out8/rent_in.txt\"\n",
      "rhps_coalescent/maintext_sims_rent_061318/pulse_sims/loop_pulse_sims.R:rent_in_fn <- \"temp_out10/rent_in.txt\"\n",
      "rhps_coalescent/maintext_sims_rent_061318/pulse_sims/pheno_sim_trees.R:\t#process.string <- paste(\"sed '/positions: /,$!d' \", msout.fn, \" | sed 's/.*positions: //' > \", rent_in_fn, sep = \"\")\n",
      "rhps_coalescent/maintext_sims_rent_061318/pulse_sims/pheno_sim_trees.R:\t#ms_haplotypes_list[[i]] <- readLines(rent_in_fn) #save the haplotypes produced by ms (and fed to rent+) in a list entry.\n",
      "rhps_coalescent/maintext_sims_rent_061318/pulse_sims/analyze_pulses_tSDS.R:#rent_in_fn <- \"temp_out1/rent_in.txt\"\n",
      "rhps_coalescent/maintext_sims_rent_061318/pulse_sims/loop_test_grads.R:rent_in_fn <- \"temp_out9/rent_in.txt\"\n",
      "rhps_coalescent/maintext_sims_rent_061318/weaksel_02/loop_pheno_sims_reps.R:rent_in_fn <- \"temp_out3/rent_in.txt\"\n",
      "rhps_coalescent/maintext_sims_rent_061318/neutral_k1000/loop_pheno_sims_reps.R:rent_in_fn <- \"temp_out1/rent_in.txt\"\n",
      "rhps_coalescent/maintext_sims_rent_061318/weaksel_0204/loop_pheno_sims_reps.R:rent_in_fn <- \"temp_out5/rent_in.txt\"\n",
      "rhps_coalescent/maintext_sims_rent_061318/pheno_sim_1iter_norent.R:\tprocess.string <- paste(\"sed '/positions: /,$!d' \", msout.fn, \" | sed 's/.*positions: //' > \", rent_in_fn, sep = \"\")\n",
      "rhps_coalescent/maintext_sims_rent_061318/pheno_sim_1iter_norent.R:\tms_haplotypes_list[[i]] <- readLines(rent_in_fn) #save the haplotypes produced by ms (and fed to rent+) in a list entry.\n",
      "rhps_coalescent/maintext_sims_rent_061318/pheno_sim_1iter_norent_notraj.R:\tprocess.string <- paste(\"sed '/positions: /,$!d' \", msout.fn, \" | sed 's/.*positions: //' > \", rent_in_fn, sep = \"\")\n",
      "rhps_coalescent/maintext_sims_rent_061318/pheno_sim_1iter_norent_notraj.R:\tms_haplotypes_list[[i]] <- readLines(rent_in_fn) #save the haplotypes produced by ms (and fed to rent+) in a list entry.\n",
      "rhps_coalescent/maintext_sims_rent_061318/pheno_sim_1iter_rentonly.R:rent_in_fn <- rent_in_fn.ro\n",
      "rhps_coalescent/maintext_sims_rent_061318/pheno_sim_1iter_rentonly.R:\twrite(ms_haplotypes_list[[i]], rent_in_fn)\n",
      "rhps_coalescent/maintext_sims_rent_061318/pheno_sim_1iter_rentonly.R:\trent.string <- paste(\"java -jar \", rentplus_fn, \" -t -l \", as.character(len_hap), \" \", rent_in_fn, sep = \"\")\n",
      "rhps_coalescent/maintext_sims_rent_061318/pheno_sim_1iter_rentonly.R:\trent_trees_fn <- paste(rent_in_fn, \".trees\", sep = \"\")\n",
      "rhps_coalescent/small_example/example/loop_pheno_sims_reps.R:rent_in_fn <- \"temp/rent_in.txt\"\n",
      "rhps_coalescent/small_example/pheno_sim_1iter.R:\tprocess.string <- paste(\"sed '/positions: /,$!d' \", msout.fn, \" | sed 's/.*positions: //' > \", rent_in_fn, sep = \"\")\n",
      "rhps_coalescent/small_example/pheno_sim_1iter.R:\trent.string <- paste(\"java -jar \", rentplus_fn, \" -t -l \", as.character(len_hap), \" \", rent_in_fn, \" \", msout.fn, sep = \"\")\n",
      "rhps_coalescent/small_example/pheno_sim_1iter.R:\tms_haplotypes_list[[i]] <- readLines(rent_in_fn) #save the haplotypes produced by ms (and fed to rent+) in a list entry.\n",
      "rhps_coalescent/small_example/pheno_sim_1iter.R:\trent_trees_fn <- paste(rent_in_fn, \".trees\", sep = \"\")\n"
     ]
    }
   ],
   "source": [
    "%%bash\n",
    "grep -r rent_in_fn rhps_coalescent/"
   ]
  },
  {
   "cell_type": "code",
   "execution_count": 12,
   "metadata": {},
   "outputs": [
    {
     "name": "stdout",
     "output_type": "stream",
     "text": [
      "rhps_coalescent/maintext_sims_rent_061318/pheno_sim_1iter_rentonly.R:\twrite(ms_haplotypes_list[[i]], rent_in_fn)\n"
     ]
    }
   ],
   "source": [
    "%%bash\n",
    "grep -r rent_in_fn rhps_coalescent/ | grep write"
   ]
  },
  {
   "cell_type": "markdown",
   "metadata": {},
   "source": [
    "このファイルの該当部分を確認するとこんな感じ\n",
    "\n",
    "```R\n",
    "#Doc Edge, 6/13/18\n",
    "#Goal: Open up a file with saved trees and just run rent.\n",
    "\n",
    "\n",
    "fn_str <- paste(\"loci\", as.character(n.loci), \"_sintens\", as.character(round(sel.intens,3)), \"_N\", as.character(N), \"_nchr\", as.character(n_chroms), \"_ton\", as.character(t), \"_toff\", as.character(t.off), \"_herit\", as.character(herit), \"_\", as.character(phen_num), sep = \"\")\n",
    "\n",
    "\n",
    "load(paste(out_dir, fn_str, \".RData\", sep = \"\"))\n",
    "\n",
    "rent_in_fn <- rent_in_fn.ro\n",
    "\n",
    "rent_trees_list <- list()\n",
    "```\n",
    "\n",
    "\"loci\"のつくファイルがなきゃダメな感じがしますね。"
   ]
  },
  {
   "cell_type": "code",
   "execution_count": 13,
   "metadata": {},
   "outputs": [
    {
     "name": "stdout",
     "output_type": "stream",
     "text": [
      "rhps_coalescent/height_analyses/UKbiobank/biobank_height_processing.R:write.table(max.bf.loci, file = \"biobank_height_maxBF_PickrellWindows.txt\", quote = FALSE, row.names = FALSE)\n",
      "rhps_coalescent/maintext_sims_rent_061318/pheno_sim_1iter.R:#Simulate and write n.loci allele-frequency trajectories. None of these should have fixed,\n",
      "rhps_coalescent/maintext_sims_rent_061318/test_trees/mssel_reps.R:#Simulate and write n.loci allele-frequency trajectories. None of these should have fixed,\n",
      "rhps_coalescent/maintext_sims_rent_061318/pulse_sims/pheno_simtrees_only.R:#Simulate and write n.loci allele-frequency trajectories. None of these should have fixed,\n",
      "rhps_coalescent/maintext_sims_rent_061318/pulse_sims/pheno_sim_aftrajs.R:#Simulate and write n.loci allele-frequency trajectories. None of these should have fixed,\n",
      "rhps_coalescent/maintext_sims_rent_061318/pheno_sim_1iter_norent.R:#Simulate and write n.loci allele-frequency trajectories. None of these should have fixed,\n",
      "rhps_coalescent/small_example/pheno_sim_1iter.R:#Simulate and write n.loci allele-frequency trajectories. None of these should have fixed,\n"
     ]
    }
   ],
   "source": [
    "%%bash\n",
    "grep -r loci rhps_coalescent/ | grep write"
   ]
  },
  {
   "cell_type": "markdown",
   "metadata": {},
   "source": [
    "それらしいファイルが作成できるコードは含まれていないらしい。なんということでしょう。"
   ]
  },
  {
   "cell_type": "markdown",
   "metadata": {},
   "source": [
    "## RentPlus.jarの使い方とは"
   ]
  },
  {
   "cell_type": "code",
   "execution_count": 14,
   "metadata": {},
   "outputs": [
    {
     "name": "stdout",
     "output_type": "stream",
     "text": [
      "rhps_coalescent/height_analyses/GIANT_BergEtAl18/rentplus_trees_1700_height_1KG.R:   rent.string <- paste(\"java -jar \", rentplus_fn, \" -t \",  rent_file, sep = \"\")\n",
      "rhps_coalescent/height_analyses/GIANT/rentplus_trees_1700_height_1KG.R:   rent.string <- paste(\"java -jar \", rentplus_fn, \" -t \",  rent_file, sep = \"\")\n",
      "rhps_coalescent/height_analyses/UKbiobank/rentplus_trees_1700_height_1KG_rsID.R:   #rent.string <- paste(\"java -jar \", rentplus_fn, \" -t \",  rent_file, sep = \"\")\n",
      "rhps_coalescent/height_analyses/UKbiobank/rentplus_trees_1700_height_1KG.R:   rent.string <- paste(\"java -jar \", rentplus_fn, \" -t \",  rent_file, sep = \"\")\n",
      "rhps_coalescent/height_analyses/UKBNeale_BergEtAl18/rentplus_trees_1700_height_1KG.R:   rent.string <- paste(\"java -jar \", rentplus_fn, \" -t \",  rent_file, sep = \"\")\n",
      "rhps_coalescent/maintext_sims_rent_061318/simwrent_onelocus.R:\trent.string <- paste(\"java -jar \", rentplus_fn, \" -t -l \", as.character(len_hap), \" \", rent_in_fn.rf, sep = \"\")\n",
      "rhps_coalescent/maintext_sims_rent_061318/pheno_sim_1iter.R:\trent.string <- paste(\"java -jar \", rentplus_fn, \" -t -l \", as.character(len_hap), \" \", rent_in_fn, \" \", msout.fn, sep = \"\")\n",
      "rhps_coalescent/maintext_sims_rent_061318/pheno_sim_1iter_rentonly.R:\trent.string <- paste(\"java -jar \", rentplus_fn, \" -t -l \", as.character(len_hap), \" \", rent_in_fn, sep = \"\")\n",
      "rhps_coalescent/small_example/pheno_sim_1iter.R:\trent.string <- paste(\"java -jar \", rentplus_fn, \" -t -l \", as.character(len_hap), \" \", rent_in_fn, \" \", msout.fn, sep = \"\")\n"
     ]
    }
   ],
   "source": [
    "%%bash\n",
    "grep -r rentplus_fn rhps_coalescent/ | grep java"
   ]
  },
  {
   "cell_type": "markdown",
   "metadata": {},
   "source": [
    "rentplus_trees_1700_height_1KG.R を調べてみよう"
   ]
  },
  {
   "cell_type": "markdown",
   "metadata": {},
   "source": [
    "```R\n",
    "for(i in 1:dim(mark.dat)[1]){\n",
    "   snp <- mark.dat[i,6]\n",
    "   pos.snp <- mark.dat[i,2]\n",
    "   chr <- mark.dat[i,1]\n",
    "   lb <- pos.snp - wid\n",
    "   ub <- pos.snp + wid\n",
    "\n",
    "   #Write a string that will call tabix to extract a vcf from 1000 genomes.\n",
    "   tabix.str <- paste(\"tabix -h /home/medge/Data/1000gen_rel_20130502/ALL.chr\", as.character(chr), \".phase3_shapeit2_mvncall_integrated_v5a.20130502.genotypes.vcf.gz \", as.character(chr), \":\", as.character(lb), \"-\", as.character(ub), \" | vcf-subset -c \", id_file, \" > \", vcf_file, sep = \"\")\n",
    "   system(tabix.str)\n",
    "\n",
    "   #Write to IMPUTE format, which is easy to change to RENT+ format.\n",
    "   vcftools.str <- paste(\"vcftools --vcf \", vcf_file, \" --out \", out_pref, \" --IMPUTE\", sep = \"\")\n",
    "   system(vcftools.str)\n",
    "\n",
    "   #Read in the IMPUTE format haplotypes, keep polymorphic loci, and \n",
    "   #rearrange into RENT+ format. We shuffle so that the derived alleles\n",
    "   #are at the end.\n",
    "\n",
    "   hap.fn <- paste(out_pref, \".impute.hap\",sep = \"\")\n",
    "   haps <- try(as.matrix(read.table(hap.fn)))\n",
    "   if (inherits(haps, 'try-error')){\n",
    "       print(paste(\"SNP\", as.character(i), \"has a problem\"))\n",
    "       snps.fail1[i] <- 1 \n",
    "       next\n",
    "   }\n",
    "   info.fn <- paste(out_pref, \".impute.legend\",sep = \"\")\n",
    "   info <- read.table(info.fn, head = TRUE)\n",
    "\n",
    "   loci.poly <- rowMeans(haps) > 0 & rowMeans(haps < 1)\n",
    "   haps.poly <- haps[loci.poly,]\n",
    "   info.poly <- info[loci.poly,]\n",
    "   col.keysnp <- which(info.poly$pos == as.numeric(pos.snp))\n",
    "   info.sites[[i]] <- info.poly[col.keysnp,]\n",
    "   if(length(col.keysnp) == 0){\n",
    "      print(paste(\"SNP\", as.character(i), \"missing from 1KG\"))\n",
    "      snps.miss[i] <- 1    \n",
    "      next \n",
    "   }\n",
    "   n_der <- sum(haps.poly[col.keysnp,])\n",
    "   haps.poly.der.at.end <- haps.poly[, order(haps.poly[col.keysnp,])]\n",
    "   haps.charvec <- apply(t(haps.poly.der.at.end), 1, paste, sep = \"\", collapse = \"\")\n",
    "   haps.char <- paste(haps.charvec, sep = \"\", collapse = \"\\n\")\n",
    "   pos.char <- paste(as.character(info.poly$pos), sep = \"\", collapse = \" \")\n",
    "   rentfile.str <- paste(pos.char, haps.char, sep = \"\\n\", collapse = \"\")\n",
    "   write(rentfile.str, rent_file)\n",
    "\n",
    "   seg.sites[i] <- sum(loci.poly)\n",
    "   n.chrs[i] <- ncol(haps)\n",
    "   n_ders[i] <- n_der\n",
    "   meas.length[i] <- max(info.poly$pos) - min(info.poly$pos)\n",
    "   if(n_der == n.chrs[i] | n_der == 0){\n",
    "      monomorphic_loci <- c(monomorphic_loci, i)\n",
    "      print(paste(\"SNP\", as.character(i), \"is monomorphic in the sample\")) \n",
    "      next\n",
    "   }\n",
    "\n",
    "\n",
    "   #run rent+\n",
    "   rent.string <- paste(\"java -jar \", rentplus_fn, \" -t \",  rent_file, sep = \"\")\n",
    "   system(rent.string)\n",
    "\n",
    "   #read in theta estimate\n",
    "   rent_theta_fn <- paste(rent_file, \".theta\", sep = \"\")\n",
    "   thetas[i] <- suppressWarnings(as.numeric(read.table(rent_theta_fn, nrows = 1)$V1))\n",
    "\n",
    "   #Read in trees at selected site in rent and rent+\n",
    "   rent_trees_fn <- paste(rent_file, \".trees\", sep = \"\")\n",
    "   rent_trees <- readLines(rent_trees_fn)\n",
    "\n",
    "   #which tree is for the focal site?\n",
    "   rent_tr_ind <- grep(paste(as.character(pos.snp), \"\\t\", sep = \"\"), rent_trees)\n",
    "\n",
    "   #get tree at focal site in newick format.\n",
    "   rent_tree_newick <- sub(paste(as.character(pos.snp), \"\\t\", sep = \"\"), \"\", rent_trees[rent_tr_ind])\n",
    "   rent_tree <- read.tree(text = paste(rent_tree_newick, \";\", sep = \"\"))\n",
    "\n",
    "   n_chroms <- dim(haps.poly)[2]\n",
    "   anc_tips <- which(rent_tree$tip.label %in% as.character(1:(n_chroms - n_der))) \n",
    "   der_tips <- which(as.numeric(rent_tree$tip.label) %in% (n_chroms - n_der + 1):n_chroms)\n",
    "   anc_tree <- drop.tip(rent_tree, der_tips)\n",
    "   der_tree <- drop.tip(rent_tree, anc_tips)\n",
    "\n",
    "   \n",
    "   trees.all[[i]] <- rent_tree\n",
    "   trees.anc[[i]] <- anc_tree\n",
    "   trees.der[[i]] <- der_tree\n",
    "\n",
    "   print(paste(\"round\", as.character(i), \"complete\"))\n",
    "   print(paste(\"segsites =\", as.character(seg.sites[i])))\n",
    "   print(paste(\"measured length =\", as.character(meas.length[i])))\n",
    "}\n",
    "```\n",
    "\n",
    "これは使えそうな感じがします。"
   ]
  },
  {
   "cell_type": "code",
   "execution_count": 15,
   "metadata": {
    "vscode": {
     "languageId": "shellscript"
    }
   },
   "outputs": [
    {
     "name": "stdout",
     "output_type": "stream",
     "text": [
      "06_231226_PRSadvance.ipynb\n",
      "EdgeCoop2019B.ipynb\n",
      "EdgeCoop2019.ipynb\n",
      "EdgeCoop2019R.ipynb\n",
      "README.md\n",
      "rhps_coalescent\n"
     ]
    }
   ],
   "source": [
    "%%bash\n",
    "cd ~/hmiwa/hmiwa-lab/d_20231023/06_231226_PRSadvance\n",
    "ls"
   ]
  },
  {
   "cell_type": "code",
   "execution_count": 16,
   "metadata": {
    "vscode": {
     "languageId": "shellscript"
    }
   },
   "outputs": [
    {
     "name": "stdout",
     "output_type": "stream",
     "text": [
      "/home/hmiwa/hmiwa1/rawdata/1KGa/ALL.chr1.phase3_shapeit2_mvncall_integrated_v5a.20130502.genotypes.vcf.gz\n",
      "/home/hmiwa/hmiwa1/rawdata/1KGa/ALL.chr1.phase3_shapeit2_mvncall_integrated_v5a.20130502.genotypes.vcf.gz.csi\n"
     ]
    }
   ],
   "source": [
    "%%bash\n",
    "ls ~/hmiwa1/rawdata/1KGa/*chr1.*"
   ]
  },
  {
   "cell_type": "markdown",
   "metadata": {},
   "source": [
    "必要なファイルの位置を確認したところで、別途テストディレクトリを用意して移動します。"
   ]
  },
  {
   "cell_type": "code",
   "execution_count": 17,
   "metadata": {
    "vscode": {
     "languageId": "shellscript"
    }
   },
   "outputs": [],
   "source": [
    "%%bash\n",
    "mkdir -p ~/hmiwa1/storage/hmiwa-lab/06_231226_PRSadvance"
   ]
  },
  {
   "cell_type": "code",
   "execution_count": null,
   "metadata": {
    "vscode": {
     "languageId": "shellscript"
    }
   },
   "outputs": [
    {
     "name": "stdout",
     "output_type": "stream",
     "text": [
      "testdir/ALL.chr1.phase3_shapeit2_mvncall_integrated_v5a.20130502.genotypes.vcf.gz\n",
      "testdir/ALL.chr1.phase3_shapeit2_mvncall_integrated_v5a.20130502.genotypes.vcf.gz.csi\n",
      "testdir/GBR_IDS.txt\n",
      "testdir/helper_functions_coal_sel.R\n",
      "testdir/neale.height.best.snp.tsv\n",
      "testdir/RentPlus.jar\n",
      "testdir/rentplus_trees_1700_height_1KG.R\n",
      "\n",
      "testdir/temp:\n"
     ]
    }
   ],
   "source": [
    "%%bash\n",
    "cd ~/hmiwa1/storage/hmiwa-lab/06_231226_PRSadvance\n",
    "mkdir -p testdir\n",
    "cp /home/hmiwa/hmiwa1/rawdata/1KGa/ALL.chr1.phase3_shapeit2_mvncall_integrated_v5a.20130502.genotypes* testdir/\n",
    "ls testdir/*"
   ]
  },
  {
   "cell_type": "code",
   "execution_count": 19,
   "metadata": {
    "vscode": {
     "languageId": "shellscript"
    }
   },
   "outputs": [
    {
     "name": "stdout",
     "output_type": "stream",
     "text": [
      "ALL.chr1.phase3_shapeit2_mvncall_integrated_v5a.20130502.genotypes.vcf.gz\n",
      "ALL.chr1.phase3_shapeit2_mvncall_integrated_v5a.20130502.genotypes.vcf.gz.csi\n",
      "GBR_IDS.txt\n",
      "helper_functions_coal_sel.R\n",
      "neale.height.best.snp.tsv\n",
      "RentPlus.jar\n",
      "rentplus_trees_1700_height_1KG.R\n",
      "temp\n"
     ]
    }
   ],
   "source": [
    "%%bash\n",
    "cp ~/hmiwa/hmiwa-lab/d_20231023/06_231226_PRSadvance/rhps_coalescent/height_analyses/UKBNeale_BergEtAl18/* ~/hmiwa1/storage/hmiwa-lab/06_231226_PRSadvance/testdir/\n",
    "ls ~/hmiwa1/storage/hmiwa-lab/06_231226_PRSadvance/testdir"
   ]
  },
  {
   "cell_type": "code",
   "execution_count": 20,
   "metadata": {
    "vscode": {
     "languageId": "shellscript"
    }
   },
   "outputs": [
    {
     "name": "stdout",
     "output_type": "stream",
     "text": [
      "ALL.chr1.phase3_shapeit2_mvncall_integrated_v5a.20130502.genotypes.vcf.gz\n",
      "ALL.chr1.phase3_shapeit2_mvncall_integrated_v5a.20130502.genotypes.vcf.gz.csi\n",
      "GBR_IDS.txt\n",
      "helper_functions_coal_sel.R\n",
      "neale.height.best.snp.tsv\n",
      "RentPlus.jar\n",
      "rentplus_trees_1700_height_1KG.R\n",
      "temp\n"
     ]
    }
   ],
   "source": [
    "%%bash\n",
    "cd ~/hmiwa1/storage/hmiwa-lab/06_231226_PRSadvance/testdir\n",
    "mkdir -p temp\n",
    "ls"
   ]
  },
  {
   "cell_type": "code",
   "execution_count": 21,
   "metadata": {
    "vscode": {
     "languageId": "shellscript"
    }
   },
   "outputs": [
    {
     "name": "stdout",
     "output_type": "stream",
     "text": [
      "=hmiwa=\n",
      "height_analyses\n",
      "helper_functions_coal_sel.R\n",
      "maintext_sims_rent_061318\n",
      "msseldir\n",
      "README.md\n",
      "RentPlus.jar\n",
      "small_example\n",
      "=hmiwa1=\n",
      "ALL.chr1.phase3_shapeit2_mvncall_integrated_v5a.20130502.genotypes.vcf.gz\n",
      "ALL.chr1.phase3_shapeit2_mvncall_integrated_v5a.20130502.genotypes.vcf.gz.csi\n",
      "GBR_IDS.txt\n",
      "helper_functions_coal_sel.R\n",
      "neale.height.best.snp.tsv\n",
      "RentPlus.jar\n",
      "rentplus_trees_1700_height_1KG.R\n",
      "temp\n",
      "=hmiwa1=\n",
      "testdir/ALL.chr1.phase3_shapeit2_mvncall_integrated_v5a.20130502.genotypes.vcf.gz\n",
      "testdir/ALL.chr1.phase3_shapeit2_mvncall_integrated_v5a.20130502.genotypes.vcf.gz.csi\n",
      "testdir/GBR_IDS.txt\n",
      "testdir/helper_functions_coal_sel.R\n",
      "testdir/neale.height.best.snp.tsv\n",
      "testdir/RentPlus.jar\n",
      "testdir/rentplus_trees_1700_height_1KG.R\n",
      "\n",
      "testdir/temp:\n"
     ]
    }
   ],
   "source": [
    "%%bash\n",
    "echo \"=hmiwa=\"\n",
    "ls ~/hmiwa/hmiwa-lab/d_20231023/06_231226_PRSadvance/rhps_coalescent\n",
    "echo \"=hmiwa1=\"\n",
    "ls ~/hmiwa1/storage/hmiwa-lab/06_231226_PRSadvance/testdir\n",
    "cd ~/hmiwa1/storage/hmiwa-lab/06_231226_PRSadvance\n",
    "cp ~/hmiwa/hmiwa-lab/d_20231023/06_231226_PRSadvance/rhps_coalescent/RentPlus.jar testdir\n",
    "echo \"=hmiwa1=\"\n",
    "ls testdir/*"
   ]
  },
  {
   "cell_type": "code",
   "execution_count": 22,
   "metadata": {
    "vscode": {
     "languageId": "shellscript"
    }
   },
   "outputs": [
    {
     "name": "stdout",
     "output_type": "stream",
     "text": [
      "height_analyses\n",
      "helper_functions_coal_sel.R\n",
      "maintext_sims_rent_061318\n",
      "msseldir\n",
      "README.md\n",
      "RentPlus.jar\n",
      "small_example\n"
     ]
    }
   ],
   "source": [
    "%%bash\n",
    "ls ~/hmiwa/hmiwa-lab/d_20231023/06_231226_PRSadvance/rhps_coalescent"
   ]
  },
  {
   "cell_type": "code",
   "execution_count": 23,
   "metadata": {
    "vscode": {
     "languageId": "shellscript"
    }
   },
   "outputs": [],
   "source": [
    "%%bash\n",
    "cd ~/hmiwa/hmiwa-lab/d_20231023/06_231226_PRSadvance/rhps_coalescent\n",
    "cp helper_functions_coal_sel.R ~/hmiwa1/storage/hmiwa-lab/06_231226_PRSadvance/testdir"
   ]
  },
  {
   "cell_type": "code",
   "execution_count": 4,
   "metadata": {
    "vscode": {
     "languageId": "shellscript"
    }
   },
   "outputs": [
    {
     "name": "stdout",
     "output_type": "stream",
     "text": [
      "ALL.chr1.phase3_shapeit2_mvncall_integrated_v5a.20130502.genotypes.vcf.gz\n",
      "ALL.chr1.phase3_shapeit2_mvncall_integrated_v5a.20130502.genotypes.vcf.gz.csi\n",
      "GBR_IDS.txt\n",
      "helper_functions_coal_sel.R\n",
      "neale.height.best.snp.tsv\n",
      "rent_1700_trees_1KG_neale_height_071918.RData\n",
      "RentPlus.jar\n",
      "rentplus_trees_1700_height_1KG.R\n",
      "temp\n"
     ]
    }
   ],
   "source": [
    "%%bash\n",
    "ls ~/hmiwa1/storage/hmiwa-lab/06_231226_PRSadvance/testdir"
   ]
  },
  {
   "cell_type": "markdown",
   "metadata": {},
   "source": [
    "スクリプト調整のテスト"
   ]
  },
  {
   "cell_type": "code",
   "execution_count": 1,
   "metadata": {
    "vscode": {
     "languageId": "shellscript"
    }
   },
   "outputs": [
    {
     "name": "stdout",
     "output_type": "stream",
     "text": [
      "06_231226_PRSadvance.ipynb\n",
      "EdgeCoop2019B.ipynb\n",
      "EdgeCoop2019.ipynb\n",
      "EdgeCoop2019R.ipynb\n",
      "README.md\n",
      "rentplus_test.R\n",
      "rhps_coalescent\n"
     ]
    }
   ],
   "source": [
    "%%bash\n",
    "cd ~/hmiwa/hmiwa-lab/d_20231023/06_231226_PRSadvance/\n",
    "ls"
   ]
  },
  {
   "cell_type": "code",
   "execution_count": 7,
   "metadata": {
    "vscode": {
     "languageId": "shellscript"
    }
   },
   "outputs": [
    {
     "name": "stdout",
     "output_type": "stream",
     "text": [
      "ALL.chr1.phase3_shapeit2_mvncall_integrated_v5a.20130502.genotypes.vcf.gz\n",
      "ALL.chr1.phase3_shapeit2_mvncall_integrated_v5a.20130502.genotypes.vcf.gz.csi\n",
      "GBR_IDS.txt\n",
      "helper_functions_coal_sel.R\n",
      "neale.height.best.snp.tsv\n",
      "rent_1700_trees_1KG_neale_height_071918.RData\n",
      "RentPlus.jar\n",
      "rentplus_trees_1700_height_1KG.R\n",
      "temp\n"
     ]
    }
   ],
   "source": [
    "%%bash\n",
    "ls ~/hmiwa1/storage/hmiwa-lab/06_231226_PRSadvance/testdir\n",
    "cd ~/hmiwa1/storage/hmiwa-lab/06_231226_PRSadvance/testdir\n",
    "rm *vcf.gz*"
   ]
  },
  {
   "cell_type": "code",
   "execution_count": 8,
   "metadata": {
    "vscode": {
     "languageId": "shellscript"
    }
   },
   "outputs": [
    {
     "name": "stdout",
     "output_type": "stream",
     "text": [
      "GBR_IDS.txt\n",
      "helper_functions_coal_sel.R\n",
      "neale.height.best.snp.tsv\n",
      "rent_1700_trees_1KG_neale_height_071918.RData\n",
      "RentPlus.jar\n",
      "rentplus_trees_1700_height_1KG.R\n",
      "temp\n"
     ]
    }
   ],
   "source": [
    "%%bash\n",
    "ls ~/hmiwa1/storage/hmiwa-lab/06_231226_PRSadvance/testdir"
   ]
  },
  {
   "cell_type": "code",
   "execution_count": 9,
   "metadata": {
    "vscode": {
     "languageId": "shellscript"
    }
   },
   "outputs": [],
   "source": [
    "%%bash\n",
    "log=~/hmiwa1/storage/hmiwa-lab/06_231226_PRSadvance/testdir/temp/log2\n",
    "echo \"\" > $log\n",
    "Rscript rentplus_test.R >> $log"
   ]
  }
 ],
 "metadata": {
  "kernelspec": {
   "display_name": "base",
   "language": "python",
   "name": "python3"
  },
  "language_info": {
   "codemirror_mode": {
    "name": "ipython",
    "version": 3
   },
   "file_extension": ".py",
   "mimetype": "text/x-python",
   "name": "python",
   "nbconvert_exporter": "python",
   "pygments_lexer": "ipython3",
   "version": "3.11.5"
  }
 },
 "nbformat": 4,
 "nbformat_minor": 2
}
