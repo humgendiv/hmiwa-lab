{
 "cells": [
  {
   "cell_type": "markdown",
   "metadata": {},
   "source": [
    "# Reconstructing the History of Polygenic Scores Using Coalescent Trees\n",
    "\n",
    "******************************"
   ]
  },
  {
   "cell_type": "markdown",
   "metadata": {},
   "source": [
    "## Abstract"
   ]
  },
  {
   "cell_type": "markdown",
   "metadata": {},
   "source": [
    "As both GWAS and procedures for inferring gene genealogies progress, there will be major opportunities for learning about trait evolution using gene genealogies of trait-associated loci. Edge and Coop introduce statistical procedures for estimating....\n",
    "\n",
    "Genome-wide association studies (GWAS) have revealed that many traits are highly polygenic, in that their within-population variance is governed, in part, by small-effect variants at many genetic loci. Standard population-genetic methods for inferring evolutionary history are ill-suited for polygenic traits: when there are many variants of small effect, signatures of natural selection are spread across the genome and are subtle at any one locus. In the last several years, various methods have emerged for detecting the action of natural selection on polygenic scores, sums of genotypes weighted by GWAS effect sizes. However, most existing methods do not reveal the timing or strength of selection. Here, we present a set of methods for estimating the historical time course of a population-mean polygenic score using local coalescent trees at GWAS loci. These time courses are estimated by using coalescent theory to relate the branch lengths of trees to allele-frequency change. The resulting time course can be tested for evidence of natural selection. We present theory and simulations supporting our procedures, as well as estimated time courses of polygenic scores for human height. Because of its grounding in coalescent theory, the framework presented here can be extended to a variety of demographic scenarios, and its usefulness will increase as both GWAS and ancestral-recombination-graph inference continue to progress."
   ]
  },
  {
   "cell_type": "markdown",
   "metadata": {},
   "source": [
    "ゲノムワイド関連研究（GWAS）と遺伝子系統推定手法の進展に伴い、遺伝子系統を利用した特性進化の理解には大きな機会があります。EdgeとCoopは、特性に関連する座標の遺伝子系統を推定するための統計手法を導入しています。\n",
    "\n",
    "ゲノムワイド関連研究（GWAS）により、多くの特性が高度にポリジェニックであり、その集団内分散は多くの遺伝座での小効果変異によって部分的に制御されていることが明らかになりました。進化の歴史を推定するための標準的な集団遺伝学的手法は、ポリジェニックな特性には適していません。小効果の多くの変異が存在する場合、自然選択の痕跡はゲノム全体に広がり、任意の1つの座で微妙です。過去数年間で、GWASの効果サイズで重みづけされたジェノタイプの合計であるポリジェニックスコアに対する自然選択の影響を検出するための様々な手法が登場しています。しかし、ほとんどの既存の手法は選択のタイミングや強度を明らかにしません。ここでは、GWAS座での局所的な共同祖先樹を使用して、集団平均のポリジェニックスコアの歴史的な時間経過を推定するための一連の手法を提案します。これらの時間経過は、樹の枝の長さと等頻度変化との関係を用いてコアレセント理論を使用して推定されます。得られた時間経過は、自然選択の証拠を検証するためにテストできます。我々は、この手法をサポートする理論とシミュレーション、および人間の身長のポリジェニックスコアの推定された時間経過を示します。ここで提示されたフレームワークはコアレセント理論に基づいているため、さまざまな人口統計シナリオに拡張でき、GWASと祖先の組換えグラフ推論が進むにつれてその有用性が増すでしょう。"
   ]
  },
  {
   "cell_type": "markdown",
   "metadata": {},
   "source": [
    "## Introduction"
   ]
  },
  {
   "cell_type": "markdown",
   "metadata": {},
   "source": [
    "Some of the most compelling examples of phenotypic evolution come from time courses that reveal the pace of evolution, either through observations across generations (Cook et al. 1986; Grant and Grant 2002) or through changes in the fossil record (Gingerich 1983; MacFadden 2005; Bell et al. 2006). For many traits and species, it can be difficult to ascertain whether these changes reflect genetic change. For example, we have fairly detailed knowledge of human height through time, but some changes in height are likely driven by environmental and dietary changes (Stulp and Barrett 2016). Thanks to ancient DNA, we can now sometimes obtain a partial picture of long-term genetic changes involving relatively simple traits like pigmentation (Ludwig et al. 2009) or more complex traits (Mathieson et al. 2015). However, we are usually not fortunate enough to have access to genotype data from across time, and even when ancient DNA are available, the resulting time courses will necessarily be incomplete.\n",
    "\n",
    "One alternative to direct measurement of phenotypes through time is to reconstruct the history of a phenotype using contemporary genetic data. Positive selection on simple genetic traits drives large allele-frequency changes at the causal loci and linked neutral alleles (Smith and Haigh 1974). There are many procedures for detecting this kind of selection on individual alleles and for dating and modeling their spread through populations (Tajima 1989; Fay and Wu 2000; Sabeti et al. 2002; Voight et al. 2006; Ronen et al. 2013; Garud et al. 2015; Crawford et al. 2017).\n",
    "\n",
    "One obstacle to understanding the evolutionary basis of phenotypes is the polygenic architecture of many traits. Complex traits (traits affected by many genetic loci and by environmental variation) are ill-suited to study by single-locus methods. In recent years, genome-wide association studies (GWAS) have made it possible to aggregate subtle evolutionary signals that are distributed across the many genetic loci that are associated with a trait of interest (Turchin et al. 2012; Berg and Coop 2014; Robinson et al. 2015; Field et al. 2016; Racimo et al. 2018; Uricchio et al. 2018). For example, Field et al. (2016) developed the singleton density score (SDS) to infer recent selection on a variety of traits among the ancestors of people in the United Kingdom. [As discussed below, some empirical findings of these studies have not replicated using effect-size estimates from less-structured GWAS samples, raising the possibility that the selection tests are sensitive to residual population stratification (Berg et al. 2018; Sohail et al. 2018). Nonetheless, given correct effect-size estimates, these methods are useful.]\n",
    "\n",
    "Field et al. relied on the fact that selection distorts the gene genealogies, or coalescent trees, at genetic loci under selection. In particular, loci under positive selection will have increased in frequency in the recent past, leading to relatively faster coalescence of lineages than if the allele frequency had been constant [the method of Palamara et al. (2018) also capitalizes on this idea]. The principle on which the SDS relies is quite general: selection, even when its effect is spread over many loci, leaves systematic signals in coalescent trees at loci underlying trait variation.\n",
    "\n",
    "The ancestral recombination graph (ARG) (Griffiths and Marjoram 1997) collects coalescent trees at loci along a recombining sequence, encoding information about allele-frequency changes at each site, as well as recombination events between sites. Recently, computational methods for inferring ARGs have advanced considerably (Rasmussen et al. 2014; Mirzaei and Wu 2016), allowing a range of applications (Palacios et al. 2015).\n",
    "\n",
    "In this work, we consider ways in which ARGs—and in particular, the coalescent trees of sites associated with a phenotype—might be used to reconstruct the history of the phenotype with which they are associated. The ARG-based approaches we consider are motivated by polygenic traits, and the population-mean level of a polygenic score (a prediction of phenotype from an individual’s genotype) is the target of estimation. We present methods for estimating the time course of a population-mean polygenic score through the past, as well as a test for assessing whether an estimated time course is consistent with neutral evolution alone.\n",
    "\n",
    "We begin by describing estimators and a hypothesis test for phenotypic time courses based on previous theory. Next, we apply these procedures to simulated data, using both true and reconstructed ARGs. Finally, we apply our methods to some human heights in the GBR (Great Britain) subset of the 1000 Genomes panel (1000 Genomes Project Consortium et al. 2012), using ARGs inferred by RENT+ (Mirzaei and Wu 2016)."
   ]
  },
  {
   "cell_type": "markdown",
   "metadata": {},
   "source": [
    "多くの特徴進化の魅力的な例は、進化のペースを明らかにする時間経過から得られています。これは世代間の観察（Cook et al. 1986; Grant and Grant 2002）や化石記録の変化（Gingerich 1983; MacFadden 2005; Bell et al. 2006）を通じて行われることがあります。多くの特性や種にとって、これらの変化が遺伝的な変化を反映しているかどうかを判断することは難しいことがあります。例えば、私たちは時間の経過とともに人間の身長についてかなり詳細な知識を持っていますが、身長の変化の一部は環境や食事の変化によるものと考えられます（Stulp and Barrett 2016）。古代DNAのおかげで、時折、色素沈着などの比較的単純な特性やより複雑な特性に関する長期の遺伝的変化の一部の情報を得ることができます（Ludwig et al. 2009; Mathieson et al. 2015）。ただし、通常は時間を超えた遺伝子型データにアクセスすることができず、古代DNAが利用可能であっても、得られる時間経過は必然的に不完全であることがあります。\n",
    "\n",
    "時間を通じてフェノタイプを直接測定する代わりに、現代の遺伝的データを使用してフェノタイプの歴史を再構築する方法があります。単一の遺伝座による方法での研究には向かない複雑な特性（多くの遺伝座と環境の変動に影響を受ける特性）の多因子構造が理由です。近年、ゲノムワイド関連研究（GWAS）により、興味のある特性と関連する多くの遺伝座に分散する微妙な進化の信号を集約することが可能になりました（Turchin et al. 2012; Berg and Coop 2014; Robinson et al. 2015; Field et al. 2016; Racimo et al. 2018; Uricchio et al. 2018）。例えば、Field et al. (2016) は、イギリスの祖先において様々な特性に対する最近の選択を推測するためにシングルトンデンシティスコア（SDS）を開発しました。[以下で議論されるように、これらの研究の一部の実証的な結果は、構造の少ないGWASサンプルからの効果サイズの推定を使用した場合に再現されていない可能性があり、選択テストが残存する集団の層構造に対して敏感である可能性があります（Berg et al. 2018; Sohail et al. 2018）。それにもかかわらず、正しい効果サイズの推定がされた場合、これらの方法は有用です。]\n",
    "\n",
    "Field et al. は、選択が遺伝座での共通祖先樹、または共進化樹を歪めることを利用しています。特に、正の選択を受けている座では、最近の過去に周波数が増加し、アリル周波数が一定であった場合よりも相対的に迅速に共同祖先が発生することになります[Palamara et al. (2018) の方法もこの考え方を活用しています。]。 SDSが依存している原則は非常に一般的です：多くの座にわたって効果が広がっていても、選択は遺伝子型変動の基になる座の共同祖先樹に系統的な信号を残します。\n",
    "\n",
    "祖先の組換えグラフ（ARG）（Griffiths and Marjoram 1997）は、組換える配列に沿った座の共同祖先樹を収集し、各サイトでのアリル周波数の変化、およびサイト間の組換えイベントに関する情報をエンコードします。最近、ARGを推定するための計算方法はかなり進歩しています（Rasmussen et al. 2014; Mirzaei and Wu 2016）、さまざまな応用が可能になりました（Palacios et al. 2015）。\n",
    "\n",
    "本研究では、ARG、特にフェノタイプに関連するサイトの共同祖先樹が関連しているフェノタイプの歴史を再構築する方法について検討します。我々が考慮するARGベースの手法は、多因子特性に触発され、多因子スコア（個体のゲノタイプからフェノタイプを予測するもの）の集団平均レベルが推定の対象となります。我々は、過去の理論に基づいて、集団平均多因子スコアの時間経過を推定するための方法と、推定された時間経過が単に中立的な進化に一致しているかどうかを評価するためのテストを紹介します。\n",
    "\n",
    "まず、以前の理論に基づくフェノタイプの時間経過の推定方法と仮説検定を説明します。次に、これらの手続きを真のおよび再構築されたARGを使用してシミュレーションデータに適用します。最後に、RENT+（Mirzaei and Wu 2016）によって推定されたARGを使用して、イギリスの祖先の人々の身長の一部に我々の方法を適用します。"
   ]
  },
  {
   "cell_type": "markdown",
   "metadata": {},
   "source": [
    "## Theory"
   ]
  },
  {
   "cell_type": "markdown",
   "metadata": {},
   "source": [
    "### Background and motivation"
   ]
  },
  {
   "cell_type": "markdown",
   "metadata": {},
   "source": [
    "The ARG expresses the shared genealogical history of a sample of individuals at a set of genetic loci, accounting for correlations among neighboring loci that arise because of linkage. The ARG contains a coalescent tree for every site in the genome—these trees for specific sites are marginal trees. Our methods make use of the marginal trees at a set of sites that are associated with a phenotype. In particular, we concentrate on the information revealed by the number of coalescent lineages that remain (i.e., that have not yet coalesced) at a time t in the past. The number of lineages at a given time in the past is described by a stochastic process called the ancestral process (e.g., Tavaré 1984).\n",
    "\n",
    "The intuition behind the methods we present here is shown in Figure 1. If an allele has been selected upward in frequency in the recent past, then the number of chromosomes carrying the allele will likely have increased. Looking backward in time, the number of carriers in the recent past is less than in the present, which forces an excess of recent coalescence events. Similarly, if an allele has been selected downward recently, then there will tend to be fewer recent coalescent events compared with the neutral expectation. If the trait that has been under selection is polygenic, then the signal at each locus associated with the trait will be smaller, and its strength and direction will depend on the effect size at the locus. In Appendix A, we derive the relationship between the rate of coalescence and selection on the phenotype. We show that phenotypic selection acting to increase the population-mean trait value increases the rate of coalescence for alleles that increase the trait and lowers the coalescence rate for alleles that decrease the trait. In contrast, stabilizing selection acting on a trait for which the population mean is at the fitness optimum does not have a systematic directional effect on the coalescent rates."
   ]
  },
  {
   "cell_type": "markdown",
   "metadata": {},
   "source": [
    "ARGは、遺伝子座の集合における個体サンプルの共有された系統的歴史を表現し、リンケージに起因する近隣座間の相関を考慮しています。ARGにはゲノムの各サイトに対する共同祖先樹が含まれています—これらの特定のサイトの樹木はマージナルツリーと呼ばれます。我々の手法は、フェノタイプと関連する一連のサイトのマージナルツリーを利用します。特に、過去のある時点で残っている（まだ共同祖先になっていない）共同祖先の数に関連する情報に焦点を当てます。過去の特定の時点でのライン数は、祖先プロセス（例：Tavaré 1984）と呼ばれる確率過程によって記述されます。\n",
    "\n",
    "ここで提示する手法の背後にある直感は、図1に示されています。もしアリルが最近の過去に頻度で上昇しているならば、アリルを運ぶ染色体の数はおそらく増加しているでしょう。時間を遡ると、過去の携帯者数は現在よりも少なくなり、これにより過剰な最近の共同発生イベントが生じます。同様に、最近アリルが下降している場合、中立の期待に比べて最近の共同発生イベントが少なくなる傾向があります。もし選択の対象である特性が多因子的である場合、特性に関連する各座での信号はより小さくなり、その強度と方向性は座の効果サイズに依存します。付録Aでは、共同発生の速度とフェノタイプへの選択との関係を導出しています。我々は、集団平均特性値を増加させるために作用する表現型の選択が、特性を増加させるアリルの共同発生率を増加させ、特性を減少させるアリルの共同発生率を低下させることを示しています。対照的に、集団平均が適応度の最適値にある特性に対する安定化選択は、共同発生率に対して系統的な方向性の影響を持っていません。"
   ]
  },
  {
   "cell_type": "markdown",
   "metadata": {},
   "source": [
    "Our target of estimation is the population-average polygenic score for a trait going backward through time. By polygenic score, we mean a weighted sum of an individual’s genotypes, where the weights are the additive effect sizes of each allele. In our case, we are interested in the population-average polygenic score, so we take a weighted sum of the allele frequencies:\n",
    "\n",
    "$$ \n",
    " \\tag{1} Z(t) = 2 \\sum_{i=1}^{k} \\beta_i p_i(t)\n",
    "$$\n",
    "\n",
    "Here, $ Z(t) $ is the population-average polygenic score at time $ t $ in the past; $ p_i(t) $ is the population frequency of one of the two alleles at locus $ i $ at time $ t $ in the past, and $ \\beta_i $ is the additive effect size of the allele whose frequency is $ p_i(t) $, where the effect sizes have been scaled so that the other allele has an effect size of zero. (In practice, effect sizes will be estimated with error, but in this article we treat the effect sizes as known.) The 2 arises because of diploidy.\n",
    "\n",
    "If the $ k $ loci included in the calculation of $ Z(t) $ include all the causal loci, then changes in $ Z(t) $ (the population-average polygenic score) reflect changes in the population-average phenotypic value in the absence of changes in the distribution of environmental effects on the trait, changes in the effect size, epistasis, and gene-by-environment interaction. Even if these strong assumptions are not met, rapid changes in $ Z(t) $ could provide evidence that natural selection has acted on the trait.\n",
    "\n",
    "Our strategy for estimating $ Z(t) $ is to estimate the historical allele-frequency time courses, $ p_i(t) $, for the loci associated with a trait. Given an estimator of the allele-frequency time courses, $ \\hat{p}_i(t) $, we estimate polygenic scores as\n",
    "\n",
    "$$  \\tag{2}\\hat{Z}(t) = 2 \\sum_{i=1}^{k} \\beta_i \\hat{p}_i(t). $$\n",
    "\n",
    "If the loci contributing to the polygenic score are independent, then the variance of the polygenic-score estimator is\n",
    "\n",
    "$$  \\tag{3}\\text{Var}\\left[\\hat{Z}(t)\\right] = 4 \\sum_{i=1}^{k} \\beta_i^2 \\text{Var}\\left[\\hat{p}_i(t)\\right]. $$\n",
    "\n",
    "We present three methods for estimating historical allele-frequency time courses. A number of authors have investigated estimating allele-frequency time courses from coalescent genealogies (Slatkin 2001; Coop and Griffiths 2004; Chen and Slatkin 2013) or by applying Wright–Fisher diffusion theory to time-series data (Bollback et al. 2008; Schraiber et al. 2016). Our approaches are cruder than some of these but have the advantage of being fast enough to be applicable to thousands of GWAS loci."
   ]
  },
  {
   "cell_type": "markdown",
   "metadata": {},
   "source": [
    "我々の推定の対象は、過去にさかのぼっての特定の時点での集団平均の多因子スコアです。多因子スコアとは、各アリルの加法的効果サイズが重みとなる、個々のゲノタイプの加重合計を指します。我々のケースでは、集団平均の多因子スコアに興味を持っているため、アリル頻度の加重合計を取ります：\n",
    "\n",
    "\n",
    "$$\n",
    " \\tag{1} Z(t) = 2 \\sum_{i=1}^{k} \\beta_i p_i(t). \n",
    "$$\n",
    "\n",
    "\n",
    "ここで、$ Z(t) $ は過去の時点 $ t $ における集団平均の多因子スコアであり、$ p_i(t) $ は過去の時点 $ t $ における座 $ i $ のアリルのうちの一方の頻度、$ \\beta_i $ は頻度 $ p_i(t) $ のアリルの加法的効果サイズを表します。ここで、他のアリルの効果サイズをゼロにスケーリングしています（実際には効果サイズは誤差を伴って推定されますが、本論文ではこれを既知としています）。２はディプロイディのためのものです。\n",
    "\n",
    "$ k $ 個の座が $ Z(t) $ の計算に含まれている場合、$ Z(t) $（集団平均の多因子スコア）の変化は、環境効果の分布、効果サイズ、エピスタシス、遺伝子と環境の相互作用の変化がない場合に、集団平均の表現型値の変化を反映します。これらの強力な仮定が満たされなくても、 $ Z(t) $ の急激な変化は、自然選択が特性に作用した証拠となる可能性があります。\n",
    "\n",
    "$ Z(t) $ の推定戦略は、特性に関連する座の遺伝子頻度の経時的な時系列 $ p_i(t) $ を推定することです。アリル頻度の時系列 $ p_i(t) $ の推定子 $ \\hat{p}_i(t) $ が得られた場合、多因子スコアは次のように推定されます：\n",
    "\n",
    "$$  \\tag{2}\\hat{Z}(t) = 2 \\sum_{i=1}^{k} \\beta_i \\hat{p}_i(t). $$\n",
    "\n",
    "もし、多因子スコアに寄与する座が独立しているならば、多因子スコア推定子の分散は次の通りです：\n",
    "\n",
    "$$  \\tag{3}\\text{Var}[\\hat{Z}(t)] = 4 \\sum_{i=1}^{k} \\beta_i^2 \\text{Var}[\\hat{p}_i(t)]. $$\n",
    "\n",
    "我々は歴史的な遺伝子頻度の時系列を推定するための3つの手法を提案しています。いくつかの著者は、共同祖先系譜（Slatkin 2001; Coop and Griffiths 2004; Chen and Slatkin 2013）からアリル頻度の時系列を推定したり、Wright–Fisher拡散理論を時系列データに適用することにより（Bollback et al. 2008; Schraiber et al. 2016）、これらよりも粗い手法ですが、数千のGWAS座に適用可能な高速な手法となっています。"
   ]
  },
  {
   "cell_type": "markdown",
   "metadata": {},
   "source": [
    "### Estimating the allele-frequency time course at a single locus"
   ]
  },
  {
   "cell_type": "markdown",
   "metadata": {},
   "source": [
    "We present several methods for estimating the historical allele-frequency time course at a specific biallelic locus given a coalescent tree at the locus (Figure 2). (Our procedures could be generalized to loci with multiple alleles.) In each case, the goal is to estimate the frequency of an allele of interest (e.g., the effect allele) at locus i at time t in the past, or $ p_i(t) $\n"
   ]
  },
  {
   "cell_type": "markdown",
   "metadata": {},
   "source": [
    "特定の二アリル遺伝子座におけるコアレッセントツリーを元に、歴史的な等位頻度の時間経過を推定するいくつかの方法を提案します（図2）。 （これらの手順は、複数のアリルを持つ座に一般化できます。） 各ケースでの目標は、遺伝子座iにおける興味のあるアリル（例：効果アリル）の周波数を過去の時点 $ t $ で推定することです。すなわち、$ p_i(t) $ です。"
   ]
  },
  {
   "cell_type": "markdown",
   "metadata": {},
   "source": [
    "#### Proportion-of-lineages estimator:"
   ]
  },
  {
   "cell_type": "markdown",
   "metadata": {},
   "source": [
    "The simplest way to estimate a historical allele frequency is to treat the lineages ancestral to the sample at time t as representative of the population at time $ t $. If the locus has evolved neutrally between the present and time $ t $ in the past, then the lineages ancestral to the sample at time $ t $ are a random sample—with respect to allelic type—from the population at time $ t $. If the lineages ancestral to the sample are a random sample from the population at time $ t $, then a reasonable estimator of $ p_i(t) $​ is the proportion of lineages at time t that carry the allele of interest,\n",
    "\n",
    "$$\n",
    " \\tag{4}\\hat{p}_i(t) = \\frac{j_i(t)}{r_i(t)}\n",
    "$$\n",
    "\n",
    "where $ r_i(t)$ is the total number of lineages ancestral to the present-day sample at locus $ i $ at time $ t $ and $ j_i(t) $ is the number of lineages at time $ t $ that carry the allele of interest. Assuming that the mutation distinguishing the alleles has only appeared once in the history of the sample, the lineages that carry the derived allele are those ancestral to contemporary copies of the derived allele, which must coalesce to one lineage before coalescing with the rest of the tree. If the tree for the locus is known, then the branch on which the mutation must have appeared is known, but the exact time of the mutation is not. In practice, we assume that the mutation occurred in the middle of the branch connecting the derived subtree to the rest of the tree. (We make this assumption when implementing all estimators.)\n",
    "\n",
    "If the population size at time $ t $ is large compared with the number of ancestral lineages at time $ t $, then conditional on $ r_i(t) $ the number of ancestral lineages carrying the allele of interest, $ j_i(t) $ is distributed approximately as a binomial $ [r_i(t),p_i(t)] $ random variable. Thus, Equation 4 is the maximum-likelihood estimator of $ p_i(t) $ and, conditional on $ r_i(t) $, its sampling variance can be estimated as (dropping the subscript $i$’s and parenthetical $t$’s for compactness)\n",
    " \n",
    "$$\n",
    " \\tag{5}\\text{Var}(\\hat{p})=\\frac{\\frac{j}{r}(1-\\frac{j}{r})}{r}=\\frac{j(r-j)}{r^3}\n",
    "$$\n",
    " \n",
    "\n",
    "In Appendix B, we give a Bayesian interpretation of the proportion-of-lineages estimator that relies on connections between neutral diffusion and the ancestral process (Tavaré 1984).\n",
    "If chromosomes carrying the two alleles have differed in fitness between the present and time t, then Equation 4 will in general be a biased and inconsistent estimator of $ p_i(t) $⁠. Chromosomes carrying alleles that have been favored by selection will be more likely to leave offspring in the present-day population than will chromosomes carrying unfavored alleles. Favored alleles will thus be overrepresented among the lineages ancestral to the sample compared with their actual frequency at time $t$. However, even if Equation 4 is an inconsistent estimator of the population’s allele frequency, it retains the interpretation of being the allele frequency among lineages ancestral to the sample. Thus, when Equation 2 is applied to allele frequencies estimated by Equation 4, the result is the mean polygenic score among chromosomes ancestral to the present-day sample at some time in the past."
   ]
  },
  {
   "cell_type": "markdown",
   "metadata": {},
   "source": [
    "歴史的なアリル頻度を推定する最も簡単な方法は、時点 $ t $ でのサンプルに先立つ系統を、時点 $ t $ の人口を代表するものとして扱うことです。もし遺伝子座が現在と過去の $ t $ の間で中立的に進化していれば、時点 $ t $ でのサンプルに先立つ系統は、時点 $ t $ の人口からアリルタイプに関してランダムなサンプルです。サンプルに先立つ系統が時点 $ t $ の人口からランダムサンプルであると仮定すると、時点 $ t $ でのアリル $ p_i $ の頻度の合理的な推定値は、時点 $ t $ での系統のうち、対象のアリルを持つものの割合です。\n",
    "\n",
    "$$\n",
    " \\tag{4}\\hat{p}_i(t) = \\frac{j_i(t)}{r_i(t)}\n",
    "$$\n",
    "\n",
    "ここで、$ r_i(t) $ は時点 $ t $ での遺伝子座 $ i $ のサンプルに先立つ系統の総数であり、$ j_i(t) $ は時点 $ t $ での対象のアリルを持つ系統の数です。アリルを区別する変異がサンプルの歴史で一度だけ発生したと仮定すれば、導出アリルを持つ系統は導出サブツリーに先立つ系統であり、これは他のツリーと合流する前に一本の系統に合流しなければなりません。遺伝子座のツリーが既知の場合、変異が発生した枝はわかりますが、変異の正確な時点はわかりません。実際には、変異が導入されたのは導出サブツリーを他のツリーに接続する枝の中間だと仮定します（この仮定は、すべての推定値を実装する際に行います）。\n",
    "\n",
    "もし時点 $ t $ での人口が時点 $ t $ での先立つ系統の数に比べて大きければ、条件付きで $ r_i(t) $ が与えられた場合、対象のアリルを持つ系統の数 $ j_i(t) $ はおおよそ二項分布 $ \\left[r_i(t), p_i(t)\\right] $ に従います。従って、式 (4) は $ p_i(t) $ の最尤推定量であり、$ r_i(t) $ が与えられた条件で、そのサンプリング分散は次のように推定できます（簡潔さのために指標 $i$ と括弧内の $t$ を省略しています）：\n",
    "\n",
    "$$\n",
    " \\tag{5}\\text{Var}(\\hat{p}) = \\frac{\\frac{j}{r}(1-\\frac{j}{r})}{r} = \\frac{j(r-j)}{r^3}\n",
    "$$\n",
    "\n",
    "付録 B では、中立的な拡散と祖先プロセス（Tavaré 1984）との関連に基づく、系統の割合推定のベイズ的解釈を述べています。\n",
    "\n",
    "もし2つのアリルを持つ染色体が現在と時点 $ t $ の間で適応度に差がある場合、式 (4) は一般に $ p_i(t) $ のバイアスがかかり、不一致な推定量となります。選択によって好まれたアリルを持つ染色体は、不利なアリルを持つ染色体よりも現代の人口に子孫を残しやすくなります。このため、好まれたアリルは時点 $ t $ での実際の頻度よりもサンプルに先立つ系統において過代表的となります。ただし、式 (4) が集団のアリル頻度の不一致な推定量であっても、サンプルに先立つ系統のアリル頻度であるという解釈は維持されます。従って、式 (2) が式 (4) で推定されたアリル頻度に適用されると、結果は過去のある時点で現代のサンプルに先立つ染色体の平均多遺伝子スコアとなります。"
   ]
  },
  {
   "cell_type": "markdown",
   "metadata": {},
   "source": [
    "#### Waiting-time estimator:"
   ]
  },
  {
   "cell_type": "markdown",
   "metadata": {},
   "source": [
    "The proportion-of-lineages estimator proposed in Equation 4 works well under neutrality, but under selection it tends to underestimate the degree of allele-frequency change experienced by selected alleles. One potential solution is to consider the chromosomes in the population as two separate subpopulations (Hudson and Kaplan 1988)—one for the carriers of each of the two alleles at the locus—and to estimate the sizes of those two populations over time. At locus i, denote the sizes of these two subpopulations at time $t$ as $N_i(t)$ (for the allele of interest) and $M_i(t)$ (for the other allele). The frequency of the allele of interest at time $t$ in the past, or $p_i(t)$, is\n",
    "\n",
    "$$\n",
    " \\tag{6}p_i(t)=\\frac{N_i(t)}{N_i(t)+M_i(t)}\n",
    "$$\n",
    " \n",
    "Here, we propose to estimate $N_i(t)$ and $M_i(t)$ on the basis of properties of the coalescent trees for the two alleles. We then estimate by plugging these estimates, $\\hat{N}_i(t)$ and $\\hat{M}_i(t)$ into Equation 6, giving\n",
    "\n",
    "$$\n",
    " \\tag{7}\\hat{p}_i(t)=\\frac{\\hat{N}_i(t)}{\\hat{N}_i(t)+\\hat{M}_i(t)}\n",
    "$$\n",
    "\n",
    "The estimator in Equation 7 is not unbiased in general, even if the estimates of $N_i(t)$ and $M_i(t)$ are unbiased. But separating the problems of estimating the two subpopulations confers an advantage: this estimator does not assume, as the proportion-of-lineages estimator does, that the two allelic types have had equal fitness between $t$ and the present.\n",
    "\n",
    "Assuming that the mutation that distinguished the two alleles occurred only once in the history of the sample, the chromosomes carrying the two alleles can be treated as two distinct subsamples between the time of the mutation and the present. Among the ancestors of the allele subsample carrying the allele of interest, coalescent time τ accrues according to\n",
    "\n",
    "$$\n",
    "τ_i(t)=\\int_{0}^{t} \\mathrm 1/N_i(z) \\mathrm{d} z\n",
    "$$\n",
    "\n",
    "where $t$ is measured in generations. It follows that\n",
    " \n",
    "$$\n",
    "\\frac{\\mathrm{d}τ_i(t)}{\\mathrm{d}t}=1/N_i(t)\n",
    "$$\n",
    "\n",
    "suggesting that $N_i(t)$ can be estimated by assessing the rate at which coalescent time accrues. $M_i(t)$ can then be estimated analogously and $p_i(t)$ can be estimated by Equation 7. We present two related approaches to estimating the rate of accrual of coalescent time in each subsample: one approach in which estimates are made with respect to waiting times between coalescent events, and another in which estimates are made with respect to the number of lineages ancestral to the subsample at a specified time in the past. In both approaches, we assume that $N_i(t)$ and $M_i(t)$ are piecewise constant, but it is possible to modify these estimators under other assumptions about how $N_i(t)$ and $M_i(t)$ change between time points.\n",
    "\n",
    "The number of coalescence events in a time interval depends on the amount of coalescent time passed. Our approaches amount to inverting this relationship to estimate the amount of coalescent time passed on each lineage (and thus their relative population sizes) in a method-of-moments framework. In this subsection, we assess $N_i(t)$ and $M_i(t)$ according to the time passed between fixed numbers of coalescent events.\n",
    "\n",
    "Suppose that $N_i(t)=N$ assumed to be constant from a time point of interest (defined here to be $t=0$⁠) until $l$ coalescences have occurred within the subsample, which at $t=0$ consists of $n_i$ lineages. Define $Y_k$ as the waiting time to the $k$th coalescence, starting from the $k-1$th coalescence event (or from $t=0$ if $k=1$⁠). Define the total waiting time from $t=0$ to the $l$th coalescence as $Y=\\sum_{k=1}^l Y_k$. Then, in units of generations, each $Y_k$ is an independent, exponentially distributed random variable with rate $(n_i-k+1)(n_i-k)/(2N)$. Thus,\n",
    " \n",
    "$$\n",
    "\\tag{8}\n",
    "E(Y) = \\sum_{k=1}^l \\frac{2N}{(n_i-k+1)(n_i-k)}\\\\\n",
    "=\\sum_{w=n_i-l+1}^{n_i} \\frac{2N}{w(w-1)} \\\\\n",
    "= 2N(\\frac{1}{n_i-l}-\\frac{1}{n_i})\n",
    "$$ \n",
    "and\n",
    "$$\n",
    "\\tag{9}\n",
    "\\text{Var}(Y) = 4N^2 \\sum_{w=n_i-l+1}^{n_i} \\frac{1}{w^2(w-1)^2}\n",
    "$$ "
   ]
  },
  {
   "cell_type": "markdown",
   "metadata": {},
   "source": [
    "方程式4で提案された比率法の推定値は、中立の条件下ではうまく機能しますが、選択がある場合、選択を受けたアレルの周波数変化の程度を過小評価する傾向があります。その一つの解決策は、集団内の染色体を遺伝子座ごとに2つの異なるサブポピュレーション（Hudson and Kaplan 1988）と見なし、その2つのサブポピュレーションのサイズを時間とともに推定することです。ここでは、座標iで、時刻tにおけるこれら2つのサブポピュレーションのサイズをそれぞれ$N_i(t)$（対象アレル用）および$M_i(t)$（他のアレル用）と表記します。過去の時点tにおける対象アレルの周波数$p_i(t)$は次の通りです。\n",
    "\n",
    "$$\n",
    " \\tag{6}p_i(t)=\\frac{N_i(t)}{N_i(t)+M_i(t)}\n",
    "$$\n",
    "\n",
    "ここでは、これらの2つのサブポピュレーションの共同祖先の特性に基づいて$N_i(t)$と$M_i(t)$を推定することを提案します。次に、これらの推定値$\\hat{N}_i(t)$および$\\hat{M}_i(t)$を方程式6に代入して、次のように推定します。\n",
    "\n",
    "$$\n",
    " \\tag{7}\\hat{p}_i(t)=\\frac{\\hat{N}_i(t)}{\\hat{N}_i(t)+\\hat{M}_i(t)}\n",
    "$$\n",
    "\n",
    "方程式7の推定値は一般にはバイアスがかかっている可能性がありますが、$N_i(t)$および$M_i(t)$の推定値がバイアスがかかっていなくても、バイアスがかかっていないとは限りません。ただし、2つのサブポピュレーションの推定問題を分離することには利点があります。この推定法は、比率法が仮定するように、$t$から現在までの間に2つのアレル型が等しい適応度を持っていたと仮定しません。\n",
    "\n",
    "2つのアレルを区別する突然変異がサンプルの歴史の中で1回だけ発生したと仮定すると、対象のアレルを運ぶ染色体は突然変異が発生した時点から現在までの間、2つの異なるサブサンプルとして扱うことができます。対象のアレルを運ぶサブサンプルの先祖の間での共結合時間τは、次のようになります。\n",
    "\n",
    "$$\n",
    "τ_i(t)=\\int_{0}^{t} \\mathrm 1/N_i(z) \\mathrm{d} z\n",
    "$$\n",
    "\n",
    "ここで、tは世代で測定されます。したがって\n",
    "\n",
    "$$\n",
    "\\frac{\\mathrm{d}τ_i(t)}{\\mathrm{d}t}=1/N_i(t)\n",
    "$$\n",
    "\n",
    "となり、$N_i(t)$は共結合時間がどれだけ速く蓄積するかを評価することによって推定できます。$M_i(t)$も同様に推定され、$p_i(t)$は方程式7によって推定されます。ここでは、各サブサンプルにおける共結合時間の蓄積率を推定する2つの関連したアプローチを提案します。一つは共結合イベント間の待ち時間に関する見積もりを使用する方法であり、もう一つは過去の特定の時点でサブサンプルの先祖に起源を持つラインナップの数に関する見積もりを使用するものです。両方のアプローチでは、$N_i(t)$および$M_i(t)$が各時間点でどのように変化するかに関する他の仮定の下で、これらの推定法を変更することが可能です。\n",
    "\n",
    "一定の時間間隔内での共結合イベントの数は共結合時間の量に依存します。これらのアプローチは、この関係を逆にして、各ラインナップで蓄積された共結合時間（およびそれによる相対的な人口サイズ）を推定するモーメント法の枠組みです。このサブセクションでは、固定された共結合イベント数の間に経過した時間に基づいて$N_i(t)$および$M_i(t)$を評価します。\n",
    "\n",
    "$t=0$での特定の時点から、サブサンプル内でl回の共結合が発生するまでの間、$N_i(t)=N$を一定と仮定します。ここで、$t=0$でのサブサンプルは$n_i$のラインナップから成り立っています。$k$番目の共結合までの待ち時間を$Y_k$と定義します。ここで、$k=1$の場合は$k-1$番目の共結合イベントから始まります（または$k=1$の場合は$t=0$から始まります）。$l$回の共結合までの総待ち時間を$Y=\\sum_{k=1}^l Y_k$と定\n",
    "\n",
    "義します。そして、世代単位で、各$Y_k$は独立な指数分布の確率変数であり、その率は$(n_i-k+1)(n_i-k)/(2N)$です。したがって、\n",
    "\n",
    "$$\n",
    "\\tag{8}\n",
    "E(Y) = \\sum_{k=1}^l \\frac{2N}{(n_i-k+1)(n_i-k)}\\\\\n",
    "=\\sum_{w=n_i-l+1}^{n_i} \\frac{2N}{w(w-1)} \\\\\n",
    "= 2N(\\frac{1}{n_i-l}-\\frac{1}{n_i})\n",
    "$$ \n",
    "\n",
    "および\n",
    "\n",
    "$$\n",
    "\\tag{9}\n",
    "\\text{Var}(Y) = 4N^2 \\sum_{w=n_i-l+1}^{n_i} \\frac{1}{w^2(w-1)^2}\n",
    "$$ "
   ]
  },
  {
   "cell_type": "markdown",
   "metadata": {},
   "source": [
    "\n",
    "For large \n",
    " and intermediate values of \n",
    "  Y is approximately normally distributed with expectation and variance given by Equation 8 and Equation 9 (Chen and Chen 2013). One estimator of \n",
    " which is both a method-of-moments estimator and the maximum-likelihood estimator under the asymptotically normal distribution of Y, is\n",
    " \n",
    "(10)\n",
    "With \n",
    " this is the “skyline” estimator of Pybus et al. (2000), and with \n",
    " it is the generalized skyline estimator of Strimmer and Pybus (2001). It is unbiased under the assumption of constant \n",
    " between coalescence events. In our implementation, after the tree has coalesced down to one lineage, we assume that \n",
    " remains constant into the past if its allele is ancestral and that \n",
    " remains constant before dropping to zero in the middle of the branch on which the mutation arose if its allele is derived. (In principle, derived vs. ancestral status may be determined by the tree topology or “forced” on the basis of prior knowledge if the tree topology may be in error. We use the tree topology.)\n",
    "One may estimate \n",
    " by\n",
    " \n",
    "(11)\n",
    "where \n",
    " is estimated analogously to \n",
    " In principle, the estimates of \n",
    " and \n",
    " may be based on waiting times for different numbers of coalescences \n",
    "and they will likely be constant for different intervals of time. By a first-order Taylor approximation argument described in Appendix C,\n",
    "but in practice, \n",
    " can be substantially biased. Its approximate variance is given in Appendix C.\n",
    "One important decision in using this estimator is the choice of \n",
    "—i.e., the number of coalescence events to wait for—for each allele. Small values of \n",
    " lead to variable estimates. On the other hand, the estimator assumes that the size of the subpopulation is constant until \n",
    " coalescent events have occurred, which may be increasingly unrealistic for large \n",
    " In this article, we use \n",
    " and defer investigation of different choices of \n",
    " for future work."
   ]
  },
  {
   "cell_type": "markdown",
   "metadata": {},
   "source": [
    "## Discussion"
   ]
  },
  {
   "cell_type": "markdown",
   "metadata": {},
   "source": [
    "We have proposed a set of estimators and tests for population-mean polygenic scores over time, given (additive) effect sizes for a trait at independent trait-associated loci and coalescent trees for the trait-associated loci. Estimation of the population-mean polygenic-score time course is most effective when the trait (and its associated loci) evolves neutrally and the ancestors of the sample are representative of the ancestral population. When the trait has been under selection, estimation is still possible, but the estimates obtained are noisier. Tests for polygenic selection that are based on coalescent trees have the potential to be powerful in the recent past.\n",
    "\n",
    "In terms of practical applications, we have produced one estimator that produces good estimates of population-mean polygenic-score time courses under neutrality and that is also well powered to detect departures from neutrality (the proportion-of-lineages estimator). The other two estimators are less biased by selection, but they are variable and less useful for detecting selection. At this writing, one sensible procedure for fitting these methods to data would be to form initial estimates using the proportion-of-lineages estimator and test them for selection using the statistic. If the test suggests selection, then the ancestors of the sample may not be representative of the ancient population and polygenic-score time courses from the proportion-of-lineages estimator may be biased. In that case, the waiting-time or lineages-remaining estimators might be applied."
   ]
  },
  {
   "cell_type": "markdown",
   "metadata": {},
   "source": [
    "提案された一連の推定量と検定は、独立した関連遺伝子座でのトレイトの（加法的な）効果サイズと、トレイト関連座のコアレッセンスツリーが与えられた場合の、時間の経過とともに変化する集団平均多遺伝子スコアに対しています。集団平均多遺伝子スコアの時間経過の推定は、トレイト（およびその関連座）が中立的に進化し、サンプルの祖先が祖先集団を代表している場合に最も効果的です。トレイトが選択の影響を受けている場合、推定はまだ可能ですが、得られる推定値はノイズが多くなります。コアレッセンスツリーに基づく多遺伝子選択の検定は、近い過去で強力である可能性があります。\n",
    "\n",
    "実用的な応用の観点から、我々は中立的な条件下で集団平均多遺伝子スコアの時間経過を良好に推定し、また中立性からの逸脱を検出するのにも十分なパワーを持つ推定量を一つ提案しています（系統の割合推定量）。もう一方の2つの推定量は選択によるバイアスが少ないですが、変動が大きく、選択を検出するのにはあまり役立ちません。この時点では、これらの方法をデータに適用する合理的な手順の一つは、系統の割合推定量を使用して初期の推定値を形成し、それらを選択に対して検定することです。もし検定が選択を示唆する場合、サンプルの祖先が古代の人口を代表していない可能性があり、系統の割合推定量からの多遺伝子スコアの時間経過はバイアスがかかるかもしれません。その場合は、待ち時間推定量または残存系統推定量が適用されるかもしれません。"
   ]
  },
  {
   "cell_type": "markdown",
   "metadata": {},
   "source": [
    "These methods add to a set of methods that use GWAS information to study the history of complex traits (Berg and Coop 2014; Field et al. 2016; Berg et al. 2017; Racimo et al. 2018; Uricchio et al. 2018). Many of these methods have been applied to human height, and our methods produce similar conclusions when applied to the same data (Berg et al. 2018; Racimo et al. 2018; Sohail et al. 2018; Uricchio et al. 2018). Our methods add to previous work by estimating the historical time courses of mean polygenic scores and by leveraging ARGs.\n",
    "\n",
    "As with other population-genetic methods for studying polygenic traits, results from our methods are accompanied by many qualifiers to interpretation (Novembre and Barton 2018)."
   ]
  },
  {
   "cell_type": "markdown",
   "metadata": {},
   "source": [
    "これらの方法は、GWAS情報を使用して複雑なトレイトの歴史を研究する一連の手法に追加されます（Berg and Coop 2014; Field et al. 2016; Berg et al. 2017; Racimo et al. 2018; Uricchio et al. 2018）。これらの手法の多くは人間の身長に適用されており、同じデータに適用された場合、我々の手法も同様の結論を導き出します（Berg et al. 2018; Racimo et al. 2018; Sohail et al. 2018; Uricchio et al. 2018）。我々の手法は、平均多遺伝子スコアの歴史的な時系列を推定し、ARGsを活用することにより、以前の研究に貢献しています。\n",
    "\n",
    "他の多遺伝子トレイトを研究するための集団遺伝学的手法と同様に、我々の手法から得られる結果には多くの解釈の修飾が伴います（Novembre and Barton 2018）。"
   ]
  },
  {
   "cell_type": "markdown",
   "metadata": {},
   "source": [
    "In general, estimates arising from the methods presented here should not be viewed as necessarily reflecting the historical time course of trait values within a population. In our simulations, the association between genotype and phenotype was assumed to remain constant over time. In contrast, polygenic scores estimated in practice are better thought of as functions that encode present-day associations between genotype and phenotype. The genotype–phenotype association captured by a polygenic score may be due to causal effects of the included genotypes, but it might also be due to linkage disequilibrium between tag SNPs and ungenotyped causal SNPs, to indirect genetic effects (Kong et al. 2018; Walsh and Lynch 2018, Chap. 22), or to environmental effects that covary with genotype for other reasons. Any of these sources of association between genotype and phenotype might change as the environment and genetic background of the population change over time, causing time courses estimated by our method to deviate from the history of average trait values in the population. For example, the genetic architecture may change across the time period over which estimates are made, for example because of changes in linkage disequilibrium between tag loci and causal loci (Martin et al. 2017), or because loci that explained trait variation in the past have since fixed or been lost. Further, real-world estimates of effect size will be subject to noise in estimation and possibly bias due to stratification. [Even small amounts of stratification can seriously mislead tests for selection (Berg et al. 2018; Sohail et al. 2018).] Particularly in case-control studies, ascertainment biases may also lead to confounding between the evolutionary status of an allele (i.e., derived or ancestral status) and power to detect trait associations (Chan et al. 2014). Also, importantly, changes in the environment may drive changes in mean levels of the trait that either amplify or oppose changes in population-mean polygenic scores, either via their direct effects or via gene–environment interactions. Finally, for most human traits, current polygenic scores explain relatively small proportions of the trait variance. In addition to all the issues above that might lead to bias in an inferred time course, using a weakly predictive polygenic score adds measurement error to the inferred time course—much of the variance in the trait will not be reflected by the polygenic score. This added variance would not be expected to increase the type-I error rate of tests of neutrality, but it will make the inferred time courses less likely to reflect the history of the trait closely."
   ]
  },
  {
   "cell_type": "markdown",
   "metadata": {},
   "source": [
    "一般的に、ここで提示された方法による推定値は、必ずしも集団内のトレイト値の歴史的な時系列を反映しているわけではありません。シミュレーションでは、遺伝子型と表現型の関連性が時間とともに一定であると仮定されました。対照的に、実際に推定される多遺伝子スコアは、現在の遺伝子型と表現型の関連性をエンコードする関数として考える方が良いです。多遺伝子スコアによって捉えられる遺伝子型-表現型の関連性は、含まれる遺伝子型の因果的な効果に起因するかもしれませんが、tag SNPと非型化された因果関係のあるSNPとのリンケージジーキルブリウム、間接的な遺伝的影響（Kong et al. 2018; Walsh and Lynch 2018, Chap. 22）、または他の理由で遺伝子型と共変する環境効果によるものかもしれません。これらの遺伝子型と表現型の関連性のいずれもが、環境や集団の遺伝的背景が時間とともに変化するにつれて変化する可能性があり、これが我々の手法によって推定される時間軌跡を集団の平均トレイト値の歴史から逸脱させる可能性があります。例えば、推定が行われる時間の範囲を通じて遺伝子型と表現型の間のリンケージジーキルブリウムの変化によるもの（Martin et al. 2017）、または過去にトレイトの変動を説明していたローカイが固定化されたり失われたりしたことによるものが考えられます。さらに、実世界での効果サイズの推定は推定のノイズや層別化によるバイアスの可能性にさらされます。[わずかな層別化でも選択のテストを混乱させる可能性があります（Berg et al. 2018; Sohail et al. 2018）。] 特に対照群対照研究では、収集バイアスが派生遺伝子または祖先遺伝子の進化的な状態とトレイトの関連性を検出するパワーとの間に混同を引き起こす可能性があります（Chan et al. 2014）。また、重要なこととして、環境の変化はトレイトの平均値の変化を引き起こす可能性があり、これは直接的な効果または遺伝子-環境相互作用を介して、集団平均多遺伝子スコアの変化を増幅または阻害する可能性があります。最後に、ほとんどの人間のトレイトにおいて、現在の多遺伝子スコアはトレイト分散の比較的小さな割合を説明します。推定される時間軌跡にバイアスをもたらす可能性のある上記のすべての問題に加えて、予測力の弱い多遺伝子スコアは推定された時間軌跡に測定誤差を追加します。トレイトの分散の多くは多遺伝子スコアによって反映されないでしょう。この追加の分散は、中立性のテストのタイプIエラー率を増加させることは期待されていませんが、推定された時間軌跡がトレイトの歴史をより正確に反映する可能性を減少させるでしょう。"
   ]
  },
  {
   "cell_type": "markdown",
   "metadata": {},
   "source": [
    "Beyond these general caveats, the methods we propose here have several limitations that suggest directions for future work. The first three limitations concern outstanding statistical issues. First, the polygenic scores we estimate here are weighted sums of effect sizes estimated under additive models. Our variance estimates also assume that the loci incorporated in the polygenic score are in linkage equilibrium. Because our estimators work by estimating historical allele frequencies at the loci contributing to the polygenic score, they can in principle be adapted to estimate any function of allele frequencies, including trait predictions that account for dominance, epistasis, and linkage among loci, and also to single-locus trajectories. However, the strategies we use here for variance estimation and hypothesis testing may need to be modified for more general functions of allele frequencies. Second, any applications of these methods to real data will entail noise that is not accounted for by the variance estimates we propose. In particular, effect sizes will be estimated with error and so will the coalescent trees for sites included in the polygenic score. It will be important to incorporate these sources of variance in future estimates of sampling variation. Third, as suggested in the Theory section, the waiting-time and lineages-remaining estimators implicitly contain smoothing parameters. Fully characterizing the effects of these smoothing parameters and of alternative smoothing strategies—such as those used to smooth coalescent-based estimates of population-size history (Drummond et al. 2005; Minin et al. 2008)—will reveal the potential of these estimators, which have high variance in the forms in which they are used here."
   ]
  },
  {
   "cell_type": "markdown",
   "metadata": {},
   "source": [
    "これらの一般的な注意事項に加えて、ここで提案する方法にはいくつかの制約があり、今後の研究の方向性を示唆しています。最初の3つの制約は未解決の統計的な問題に関連しています。まず第一に、ここで推定する多遺伝子スコアは、加法モデルの下で推定された効果サイズの加重和です。また、我々の分散の推定値は、多遺伝子スコアに組み込まれた座標がリンケージ平衡にあると仮定しています。推定手法は原則として、多遺伝子スコアに寄与する座標の歴史的なアレル頻度を推定することによって機能し、これには優性、相互作用、および座標間のリンケージを考慮したトレイト予測を含む任意のアレル頻度の関数を推定することができます。ただし、ここで使用されているアレル頻度の関数に対しては、分散推定および仮説検定に使用される戦略が、アレル頻度のより一般的な関数に対して変更が必要かもしれません。第二に、これらの方法を実データに適用する場合、提案された分散推定に考慮されていないノイズが発生します。特に、効果サイズと多遺伝子スコアに含まれるサイトのコアレッセントツリーはエラーで推定されます。これらの分散の要因を将来のサンプリング変動の推定に組み込むことが重要です。第三に、理論のセクションで示唆されているように、待ち時間および残存ラインエージスの推定器には暗黙のうちにスムージングパラメータが含まれています。これらのスムージングパラメータと代替のスムージング戦略（Drummond et al. 2005; Minin et al. 2008 で人口サイズの歴史を平滑化するために使用されるものなど）の効果を完全に特徴づけることは、これらの推定器の潜在能力を明らかにするでしょう。"
   ]
  },
  {
   "cell_type": "markdown",
   "metadata": {},
   "source": [
    "The next three possible extensions are suggested by biological applications and by the coalescent framework in which we work. First, the theory we develop here is for a single population, but our setting within a coalescent framework suggests the possibility for extension to multiple populations, perhaps by developing multivariate analogs of our statistics within a coalescent-with-migration framework (Kaplan et al. 1991). Similarly, whereas we work with polygenic scores for a single trait, our methods can be extended to consider polygenic scores for multiple, correlated traits. In a similar vein, Berg et al. (2017) have recently extended the $Q_X$ statistic to multiple correlated traits, drawing inspiration from the framework of Lande and Arnold (1983). Working with multiple traits will allow us to distinguish hypotheses in which a trait is directly subject to selection from hypotheses in which a correlated trait is the target of selection. Finally, because the coalescent framework explicitly represents the evolution of the sample backward in time, it will be productive to incorporate ancient samples.\n",
    "\n",
    "The methods we propose are promising in part because they capitalize on illuminating descriptions of genetic variation that will become increasingly widely available. ARGs encode all the coalescence and recombination events reflected in the present-day sample, and thus are richly informative about the history of the sample’s ancestors. Statistics computed from these ARGs have the potential to capture all the information about an allele’s frequency time course that is available in a present-day sample. Approaches to traits that are based on sample ARGs will improve with the development of our understanding of the architecture of complex traits and of our ability to reconstruct ARGs."
   ]
  },
  {
   "cell_type": "markdown",
   "metadata": {},
   "source": [
    "次に、バイオロジカルな応用と、我々が取り組むコアレッセントの枠組みから示唆される可能性のある3つの拡張があります。まず第一に、ここで開発した理論は単一の集団に対するものですが、コアレッセントの枠組みの中での我々の設定は、複数の集団に拡張する可能性を示唆しています。これは、移民があるコアレッセントと共に組み合わさったフレームワーク内で、我々の統計の多変量アナログを開発することによって実現できるかもしれません（Kaplan et al. 1991）。同様に、単一のトレイトのための多遺伝子スコアで作業しているが、我々の方法は複数の相関するトレイトのための多遺伝子スコアを考慮するように拡張できます。Berg et al. (2017) も最近、Land e and Arnold (1983) の枠組みからインスパイアを得ながら、$Q_X$ 統計を複数の相関するトレイトに拡張しています。複数のトレイトで作業することで、あるトレイトが直接的に選択の対象である仮説と、相関するトレイトが選択の対象である仮説を区別することができます。最後に、コアレッセントの枠組みが明示的にサンプルの進化を時間逆行で表現しているため、古代のサンプルを組み込むことが有益でしょう。\n",
    "\n",
    "提案する方法は、遺伝的変異に関する明快な記述を活かしているため、一部有望です。ARGs は、現代のサンプルに反映されるすべてのコアレッセンスと組み換えのイベントをエンコードしており、したがってサンプルの祖先の歴史に関する豊かな情報を提供しています。これらのARGs から計算された統計量は、現代のサンプルで利用可能なアレルの頻度経時のすべての情報を捉える潜在能力があります。ARGs を使用したトレイトへのアプローチは、複雑なトレイトのアーキテクチャに対する理解の進展と、ARGs の再構築能力の向上とともに改善されるでしょう。"
   ]
  }
 ],
 "metadata": {
  "kernelspec": {
   "display_name": "Bash",
   "language": "bash",
   "name": "bash"
  },
  "language_info": {
   "name": "bash"
  }
 },
 "nbformat": 4,
 "nbformat_minor": 2
}
